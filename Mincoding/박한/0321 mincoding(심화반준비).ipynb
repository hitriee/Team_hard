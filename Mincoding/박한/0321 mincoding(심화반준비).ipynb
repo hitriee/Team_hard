{
 "cells": [
  {
   "cell_type": "code",
   "execution_count": null,
   "id": "cab44b7c",
   "metadata": {},
   "outputs": [],
   "source": [
    "# 민코딩 훈련반2 Level 심화반준비 - 문제 1번 : Hello World\n",
    "\n",
    "def print_hello(name):\n",
    "    # 스크립트를 디버그하려면 하단 코드 줄의 중단점을 사용합니다.\n",
    "    print(f'HELLO {name}')  # 중단점을 전환하려면 Ctrl+F8을(를) 누릅니다.\n",
    "\n",
    "\n",
    "# 스크립트를 실행하려면 여백의 녹색 버튼을 누릅니다.\n",
    "if __name__ == '__main__':\n",
    "    print_hello('WORLD')"
   ]
  },
  {
   "cell_type": "code",
   "execution_count": 1,
   "id": "87920c2a",
   "metadata": {},
   "outputs": [
    {
     "name": "stdout",
     "output_type": "stream",
     "text": [
      "4\n",
      "24\n"
     ]
    }
   ],
   "source": [
    "# 민코딩 훈련반2 Level 심화반준비 - 문제 2번 : 1, 2, 3등 뽑기\n",
    "\n",
    "n = int(input())\n",
    "lst = [0]*n\n",
    "used = [0]*n\n",
    "medal = ['']*3\n",
    "for i in range(n):\n",
    "    lst[i] = i\n",
    "rst = 0\n",
    "def abc(level):\n",
    "    global rst\n",
    "    if level == 3:\n",
    "        rst += 1\n",
    "        return\n",
    "    for i in range(n):\n",
    "        if used[i] == 0:\n",
    "            medal[level] = lst[i]\n",
    "            used[i] = 1\n",
    "            abc(level+1)\n",
    "            used[i] = 0\n",
    "abc(0)\n",
    "print(rst)"
   ]
  },
  {
   "cell_type": "code",
   "execution_count": 5,
   "id": "fb57ea54",
   "metadata": {},
   "outputs": [
    {
     "name": "stdout",
     "output_type": "stream",
     "text": [
      "1 1 1\n",
      "2 2 2\n",
      "3 3 3\n",
      "\n",
      "1 2 3\n",
      "1 2 3\n",
      "1 2 3\n",
      "1\n"
     ]
    }
   ],
   "source": [
    "# 민코딩 훈련반2 Level 심화반준비 - 문제 3번 : 네모블럭 돌리기\n",
    "\n",
    "a = [list(map(int, input().split())) for _ in range(3)]\n",
    "c = input()\n",
    "b = [list(map(int, input().split())) for _ in range(3)]\n",
    "\n",
    "def abc(level, a, b):\n",
    "    if a == b:\n",
    "        print(level)\n",
    "        return\n",
    "    else:\n",
    "        d = [[0]*3 for _ in range(3)]\n",
    "        for i in range(3):\n",
    "            for j in range(3):\n",
    "                d[2-j][i] = a[i][j]\n",
    "        abc(level+1, d, b)\n",
    "abc(0, a, b)"
   ]
  },
  {
   "cell_type": "code",
   "execution_count": 8,
   "id": "85abfe6d",
   "metadata": {},
   "outputs": [
    {
     "name": "stdout",
     "output_type": "stream",
     "text": [
      "0 1 1 0 0 0\n",
      "0 0 0 1 1 1\n",
      "0 0 0 0 0 0\n",
      "0 0 0 0 0 0\n",
      "0 0 0 0 0 0\n",
      "0 0 0 0 0 0\n",
      "ABD\n",
      "ABE\n",
      "ABF\n",
      "AC\n"
     ]
    }
   ],
   "source": [
    "# 민코딩 훈련반2 Level 심화반준비 - 문제 4번 : 트리인접행렬\n",
    "\n",
    "arr = [list(map(int, input().split())) for _ in range(6)]\n",
    "lst = ['A', 'B', 'C', 'D', 'E', 'F']\n",
    "path = ['']*6\n",
    "def abc(level, now):\n",
    "    path[level] = lst[now]\n",
    "    rst = 0\n",
    "    for i in range(6):\n",
    "        if arr[now][i] == 1:\n",
    "            abc(level+1, i)\n",
    "            path[level+1] = ''\n",
    "        else:\n",
    "            rst += 1\n",
    "    if rst == 6:\n",
    "        for i in range(6):\n",
    "            if path[i] != '':\n",
    "                print(path[i], end=\"\")\n",
    "        print()\n",
    "        return\n",
    "abc(0, 0)"
   ]
  },
  {
   "cell_type": "code",
   "execution_count": 13,
   "id": "7cb8cea3",
   "metadata": {},
   "outputs": [
    {
     "name": "stdout",
     "output_type": "stream",
     "text": [
      "4\n",
      "9 1 3 0\n",
      "103"
     ]
    }
   ],
   "source": [
    "# 민코딩 훈련반2 Level 심화반준비 - 문제 5번 : 가장 작은 세자리수 출력\n",
    "\n",
    "n = int(input())\n",
    "lst = list(map(int, input().split()))\n",
    "for i in range(n):\n",
    "    for j in range(i+1, n):\n",
    "        if lst[i] > lst[j]:\n",
    "            lst[i], lst[j] = lst[j], lst[i]\n",
    "minn = [0]*3\n",
    "used = [0]*n\n",
    "for i in range(n):\n",
    "    if lst[i] != 0:\n",
    "        used[i] = 1\n",
    "        minn[0] = lst[i]\n",
    "        break\n",
    "for i in range(1, 3):\n",
    "    for j in range(n):\n",
    "        if used[j] == 0:\n",
    "            minn[i] = lst[j]\n",
    "            used[j] = 1\n",
    "            break\n",
    "for i in range(3):\n",
    "    print(minn[i], end=\"\")"
   ]
  },
  {
   "cell_type": "code",
   "execution_count": 18,
   "id": "718a1e8e",
   "metadata": {},
   "outputs": [
    {
     "name": "stdout",
     "output_type": "stream",
     "text": [
      "3 4\n",
      "1 5 2 7\n",
      "1 5 1 6\n",
      "3 3 2 4\n",
      "7(0,3)\n",
      "6(1,3)\n",
      "5(0,1)\n"
     ]
    }
   ],
   "source": [
    "# 민코딩 훈련반2 Level 심화반준비 - 문제 6번 : 가장 큰 숫자값 3개 구하기\n",
    "\n",
    "n, m = map(int, input().split())\n",
    "arr = [list(map(int, input().split())) for _ in range(n)]\n",
    "used = [[0]*m for _ in range(n)]\n",
    "maxx = [[0]*3 for _ in range(3)]\n",
    "def abc(level):\n",
    "    if level == 3:\n",
    "        return\n",
    "    a = 0\n",
    "    for i in range(n):\n",
    "        for j in range(m):\n",
    "            if arr[i][j] > a and used[i][j] == 0:\n",
    "                a = arr[i][j]\n",
    "    rst = 0\n",
    "    for i in range(n):\n",
    "        if rst == 1:\n",
    "            break\n",
    "        for j in range(m):\n",
    "            if arr[i][j] == a:\n",
    "                maxx[level][0] = arr[i][j]\n",
    "                maxx[level][1] = i\n",
    "                maxx[level][2] = j\n",
    "                used[i][j] = 1\n",
    "                rst += 1\n",
    "                break\n",
    "    abc(level+1)\n",
    "abc(0)\n",
    "for i in range(3):\n",
    "    print(f\"{maxx[i][0]}({maxx[i][1]},{maxx[i][2]})\")"
   ]
  },
  {
   "cell_type": "code",
   "execution_count": 21,
   "id": "98d91e49",
   "metadata": {},
   "outputs": [
    {
     "name": "stdout",
     "output_type": "stream",
     "text": [
      "bob jason tom\n",
      "bob bob bob \n",
      "bob bob jason \n",
      "bob bob tom \n",
      "bob jason bob \n",
      "bob jason jason \n",
      "bob jason tom \n",
      "bob tom bob \n",
      "bob tom jason \n",
      "bob tom tom \n",
      "jason bob bob \n",
      "jason bob jason \n",
      "jason bob tom \n",
      "jason jason bob \n",
      "jason jason jason \n",
      "jason jason tom \n",
      "jason tom bob \n",
      "jason tom jason \n",
      "jason tom tom \n",
      "tom bob bob \n",
      "tom bob jason \n",
      "tom bob tom \n",
      "tom jason bob \n",
      "tom jason jason \n",
      "tom jason tom \n",
      "tom tom bob \n",
      "tom tom jason \n",
      "tom tom tom \n"
     ]
    }
   ],
   "source": [
    "# 민코딩 훈련반2 Level 심화반준비 - 문제 7번 : 영희의 데이트\n",
    "\n",
    "lst = list(input().split())\n",
    "date = ['']*3\n",
    "def abc(level):\n",
    "    if level == 3:\n",
    "        for i in range(3):\n",
    "            print(date[i], end=\" \")\n",
    "        print()\n",
    "        return\n",
    "    for i in range(3):\n",
    "        date[level] = lst[i]\n",
    "        abc(level+1)\n",
    "abc(0)"
   ]
  }
 ],
 "metadata": {
  "kernelspec": {
   "display_name": "Python 3 (ipykernel)",
   "language": "python",
   "name": "python3"
  },
  "language_info": {
   "codemirror_mode": {
    "name": "ipython",
    "version": 3
   },
   "file_extension": ".py",
   "mimetype": "text/x-python",
   "name": "python",
   "nbconvert_exporter": "python",
   "pygments_lexer": "ipython3",
   "version": "3.10.1"
  },
  "toc": {
   "base_numbering": 1,
   "nav_menu": {},
   "number_sections": true,
   "sideBar": true,
   "skip_h1_title": false,
   "title_cell": "Table of Contents",
   "title_sidebar": "Contents",
   "toc_cell": false,
   "toc_position": {},
   "toc_section_display": true,
   "toc_window_display": false
  }
 },
 "nbformat": 4,
 "nbformat_minor": 5
}
