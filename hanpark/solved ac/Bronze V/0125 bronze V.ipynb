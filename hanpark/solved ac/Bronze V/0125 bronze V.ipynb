{
 "cells": [
  {
   "cell_type": "code",
   "execution_count": 9,
   "id": "5c18fcd9",
   "metadata": {},
   "outputs": [
    {
     "name": "stdout",
     "output_type": "stream",
     "text": [
      "5 20\n",
      "99 101 1000 0 97\n",
      "-1 1 900 -100 -3 "
     ]
    }
   ],
   "source": [
    "# 백준 브론즈 5 2845번\n",
    "\n",
    "A, B = map(int, input().split())\n",
    "C = map(int, input().split())\n",
    "H = A*B\n",
    "for i in C:\n",
    "    print(i-H, end= ' ')"
   ]
  },
  {
   "cell_type": "code",
   "execution_count": 15,
   "id": "7219d925",
   "metadata": {},
   "outputs": [
    {
     "name": "stdout",
     "output_type": "stream",
     "text": [
      "38 24\n",
      "875\n"
     ]
    }
   ],
   "source": [
    "# 백준 브론즈 5 2914번\n",
    "\n",
    "A, B = map(int, input().split())\n",
    "if A == 1:\n",
    "    print(A*B)\n",
    "else:\n",
    "    print(A*(B-1)+1)\n",
    "\n",
    "# 올림해서 출력값이 나오려면, 예를 들어 뒷값이 24라면 23.00~01이라고 가정했을 때 저작권의 멜로디 최소값이 나오게 됨.\n",
    "# 따라서 A*(B-1)을 해주고, 나머지인 0.00~01을 처리해주기 위해서 +1을 했음"
   ]
  },
  {
   "cell_type": "code",
   "execution_count": 19,
   "id": "da75cc80",
   "metadata": {},
   "outputs": [
    {
     "name": "stdout",
     "output_type": "stream",
     "text": [
      "0 1 1 2 2 7\n",
      "1 0 1 0 0 1 "
     ]
    }
   ],
   "source": [
    "# 백준 브론즈 5 3003번\n",
    "\n",
    "A, B, C, D, E, F = map(int, input().split())\n",
    "G = ((1-A), (1-B), (2-C), (2-D), (2-E), (8-F))\n",
    "for i in G:\n",
    "    print(i, end = ' ')"
   ]
  },
  {
   "cell_type": "code",
   "execution_count": 22,
   "id": "a783a958",
   "metadata": {},
   "outputs": [
    {
     "name": "stdout",
     "output_type": "stream",
     "text": [
      "4 3\n",
      "2\n"
     ]
    }
   ],
   "source": [
    "# 백준 브론즈 5 3046번\n",
    "\n",
    "R1, S = map(int, input().split())\n",
    "R2 = 2*S - R1\n",
    "print(R2)"
   ]
  },
  {
   "cell_type": "code",
   "execution_count": 25,
   "id": "8a638740",
   "metadata": {},
   "outputs": [
    {
     "name": "stdout",
     "output_type": "stream",
     "text": [
      "31\n",
      "34\n",
      "7\n",
      "151\n",
      "3\n",
      "43\n"
     ]
    }
   ],
   "source": [
    "# 백준 브론즈 5 5554번\n",
    "\n",
    "A = int(input())\n",
    "B = int(input())\n",
    "C = int(input())\n",
    "D = int(input())\n",
    "E = A+B+C+D\n",
    "print(E//60)\n",
    "print(E%60)"
   ]
  },
  {
   "cell_type": "code",
   "execution_count": 26,
   "id": "186c041c",
   "metadata": {},
   "outputs": [
    {
     "name": "stdout",
     "output_type": "stream",
     "text": [
      "2 5 3 20\n",
      "70\n"
     ]
    }
   ],
   "source": [
    "# 백준 브론즈 5 8370번\n",
    "# 여기로 가져올만한 가치가 있는 문제가 정말 없다...\n",
    "\n",
    "A, B, C, D = map(int, input().split())\n",
    "print(A*B + C*D)"
   ]
  },
  {
   "cell_type": "code",
   "execution_count": 29,
   "id": "15187e1a",
   "metadata": {},
   "outputs": [
    {
     "name": "stdout",
     "output_type": "stream",
     "text": [
      "3\n",
      "6\n"
     ]
    }
   ],
   "source": [
    "# 백준 브론즈 5 8393번\n",
    "\n",
    "A = int(input())\n",
    "print(int(A*(A+1)/2))"
   ]
  }
 ],
 "metadata": {
  "kernelspec": {
   "display_name": "Python 3 (ipykernel)",
   "language": "python",
   "name": "python3"
  },
  "language_info": {
   "codemirror_mode": {
    "name": "ipython",
    "version": 3
   },
   "file_extension": ".py",
   "mimetype": "text/x-python",
   "name": "python",
   "nbconvert_exporter": "python",
   "pygments_lexer": "ipython3",
   "version": "3.10.1"
  },
  "toc": {
   "base_numbering": 1,
   "nav_menu": {},
   "number_sections": true,
   "sideBar": true,
   "skip_h1_title": false,
   "title_cell": "Table of Contents",
   "title_sidebar": "Contents",
   "toc_cell": false,
   "toc_position": {},
   "toc_section_display": true,
   "toc_window_display": false
  }
 },
 "nbformat": 4,
 "nbformat_minor": 5
}
