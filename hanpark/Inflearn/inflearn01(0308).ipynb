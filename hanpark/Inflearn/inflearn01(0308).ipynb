{
 "cells": [
  {
   "cell_type": "code",
   "execution_count": 2,
   "id": "73f6230c",
   "metadata": {},
   "outputs": [
    {
     "name": "stdout",
     "output_type": "stream",
     "text": [
      "[100, 200, 300]\n"
     ]
    }
   ],
   "source": [
    "# codeFestival_1. 1번\n",
    "\n",
    "nums = [100, 200, 300, 400, 500]\n",
    "lst = nums[:3]\n",
    "print(lst)"
   ]
  },
  {
   "cell_type": "code",
   "execution_count": 4,
   "id": "dca3b380",
   "metadata": {},
   "outputs": [
    {
     "name": "stdout",
     "output_type": "stream",
     "text": [
      "[200, 100, 10000, 300]\n"
     ]
    }
   ],
   "source": [
    "# codeFestival_1. 2번\n",
    "\n",
    "l = [200, 100, 300]\n",
    "l.insert(2, 10000)\n",
    "print(l)"
   ]
  },
  {
   "cell_type": "code",
   "execution_count": 5,
   "id": "af4c37f4",
   "metadata": {},
   "outputs": [
    {
     "name": "stdout",
     "output_type": "stream",
     "text": [
      "<class 'list'>\n"
     ]
    }
   ],
   "source": [
    "# codeFestival_1. 3번\n",
    "\n",
    "ㅣ = [100, 200, 300]\n",
    "print(type(l))\n",
    "\n",
    "# 정답은 3번"
   ]
  },
  {
   "cell_type": "code",
   "execution_count": null,
   "id": "219479ce",
   "metadata": {},
   "outputs": [],
   "source": [
    "# codeFestival_1. 4번\n",
    "\n",
    "# 정답은 3번, class'str'"
   ]
  },
  {
   "cell_type": "code",
   "execution_count": 7,
   "id": "9fe80cd0",
   "metadata": {},
   "outputs": [
    {
     "name": "stdout",
     "output_type": "stream",
     "text": [
      "16\n"
     ]
    }
   ],
   "source": [
    "# codeFestival_1. 5번\n",
    "\n",
    "a = 10\n",
    "b = 2\n",
    "for i in range(1, 5, 2):\n",
    "    a += i\n",
    "print(a+b)\n",
    "\n",
    "# 정답은 4번, 16"
   ]
  },
  {
   "cell_type": "code",
   "execution_count": null,
   "id": "9ffd25a9",
   "metadata": {},
   "outputs": [],
   "source": [
    "# codeFestival_1. 6번\n",
    "\n",
    "# 정답은 2번. False로 취급하지 않는 것은 True"
   ]
  },
  {
   "cell_type": "code",
   "execution_count": null,
   "id": "1654b594",
   "metadata": {},
   "outputs": [],
   "source": [
    "# codeFestival_1. 7번\n",
    "\n",
    "# 정답은 3, 5번. 변수명으로 사용할 수 없는 것은 as와 1age"
   ]
  },
  {
   "cell_type": "code",
   "execution_count": null,
   "id": "7f84fc38",
   "metadata": {},
   "outputs": [],
   "source": [
    "# codeFestival_1. 8번\n",
    "\n",
    "# 출력값은 84. weight 값 중 더 뒤에 있는"
   ]
  },
  {
   "cell_type": "code",
   "execution_count": 10,
   "id": "36ec2e1b",
   "metadata": {},
   "outputs": [
    {
     "name": "stdout",
     "output_type": "stream",
     "text": [
      "2019/04/26 11:34:27\n"
     ]
    }
   ],
   "source": [
    "# codeFestival_1. 9번\n",
    "\n",
    "year = '2019'\n",
    "month = '04'\n",
    "day = '26'\n",
    "hour = '11'\n",
    "minute = '34'\n",
    "second = '27'\n",
    "print(year, month, day, sep=\"/\", end=\" \")\n",
    "print(hour, minute, second, sep=\":\")"
   ]
  },
  {
   "cell_type": "code",
   "execution_count": 12,
   "id": "0f1a048c",
   "metadata": {},
   "outputs": [
    {
     "name": "stdout",
     "output_type": "stream",
     "text": [
      "5\n",
      "*\n",
      "***\n",
      "*****\n",
      "*******\n",
      "*********\n"
     ]
    }
   ],
   "source": [
    "# codeFestival_1. 10번\n",
    "\n",
    "n = int(input())\n",
    "for i in range(n):\n",
    "    for j in range(2*i+1):\n",
    "        print('*', end=\"\")\n",
    "    print()"
   ]
  },
  {
   "cell_type": "code",
   "execution_count": 13,
   "id": "98057df0",
   "metadata": {},
   "outputs": [
    {
     "name": "stdout",
     "output_type": "stream",
     "text": [
      "5050\n"
     ]
    }
   ],
   "source": [
    "# codeFestival_1. 11번\n",
    "\n",
    "s = 0\n",
    "for i in range(1, s+101):\n",
    "    s += i\n",
    "print(s)"
   ]
  },
  {
   "cell_type": "code",
   "execution_count": null,
   "id": "5817029a",
   "metadata": {},
   "outputs": [],
   "source": [
    "# codeFestival_1. 12번\n",
    "\n"
   ]
  },
  {
   "cell_type": "code",
   "execution_count": 14,
   "id": "cf6003ae",
   "metadata": {},
   "outputs": [
    {
     "name": "stdout",
     "output_type": "stream",
     "text": [
      "1\n",
      "수성\n"
     ]
    }
   ],
   "source": [
    "# codeFestival_1. 13번\n",
    "\n",
    "n = int(input())\n",
    "lst = ['수성', '금성', '지구', '화성', '목성', '토성', '천왕성', '해왕성']\n",
    "print(lst[n-1])"
   ]
  },
  {
   "cell_type": "code",
   "execution_count": 16,
   "id": "c50fc4b3",
   "metadata": {},
   "outputs": [
    {
     "name": "stdout",
     "output_type": "stream",
     "text": [
      "3\n",
      "짝\n"
     ]
    }
   ],
   "source": [
    "# codeFestival_1. 14번\n",
    "\n",
    "n = int(input())\n",
    "if n%3==0:\n",
    "    print(\"짝\")\n",
    "else:\n",
    "    print(n)"
   ]
  },
  {
   "cell_type": "code",
   "execution_count": 17,
   "id": "5790607a",
   "metadata": {},
   "outputs": [
    {
     "name": "stdout",
     "output_type": "stream",
     "text": [
      "김승주\n",
      "안녕하세요. 저는 김승주입니다.\n"
     ]
    }
   ],
   "source": [
    "# codeFestival_1. 15번\n",
    "\n",
    "a = input()\n",
    "print(f\"안녕하세요. 저는 {a}입니다.\")"
   ]
  },
  {
   "cell_type": "code",
   "execution_count": 18,
   "id": "56dd08bc",
   "metadata": {},
   "outputs": [
    {
     "name": "stdout",
     "output_type": "stream",
     "text": [
      "거꾸로\n",
      "로꾸거"
     ]
    }
   ],
   "source": [
    "# codeFestival_1. 16번\n",
    "\n",
    "lst = list(input())\n",
    "arr = ['']*len(lst)\n",
    "for i in range(len(lst)):\n",
    "    arr[i] = lst[len(lst)-i-1]\n",
    "    print(arr[i], end=\"\")"
   ]
  },
  {
   "cell_type": "code",
   "execution_count": 19,
   "id": "97a63568",
   "metadata": {},
   "outputs": [
    {
     "name": "stdout",
     "output_type": "stream",
     "text": [
      "132\n",
      "NO\n"
     ]
    }
   ],
   "source": [
    "# codeFestival_1. 17번\n",
    "\n",
    "n = int(input())\n",
    "if n >= 150:\n",
    "    print(\"YES\")\n",
    "else:\n",
    "    print(\"NO\")"
   ]
  },
  {
   "cell_type": "code",
   "execution_count": 20,
   "id": "bd8e389e",
   "metadata": {},
   "outputs": [
    {
     "name": "stdout",
     "output_type": "stream",
     "text": [
      "20 30 50\n",
      "33\n"
     ]
    }
   ],
   "source": [
    "# codeFestival_1. 18번\n",
    "\n",
    "a, b, c = map(int, input().split())\n",
    "print((a+b+c)//3)"
   ]
  },
  {
   "cell_type": "code",
   "execution_count": 22,
   "id": "3daa7dc0",
   "metadata": {},
   "outputs": [
    {
     "name": "stdout",
     "output_type": "stream",
     "text": [
      "3 2\n",
      "9\n"
     ]
    }
   ],
   "source": [
    "# codeFestival_1. 19번\n",
    "\n",
    "a, b = map(int, input().split())\n",
    "print(a**b)"
   ]
  },
  {
   "cell_type": "code",
   "execution_count": 23,
   "id": "4546e7e9",
   "metadata": {},
   "outputs": [
    {
     "name": "stdout",
     "output_type": "stream",
     "text": [
      "10 2\n",
      "5 0\n"
     ]
    }
   ],
   "source": [
    "# codeFestival_1. 20번\n",
    "\n",
    "a, b = map(int, input().split())\n",
    "c, d = a//b, a%b\n",
    "print(c, d)"
   ]
  },
  {
   "cell_type": "code",
   "execution_count": null,
   "id": "8a26c5db",
   "metadata": {},
   "outputs": [],
   "source": [
    "# codeFestival_1. 21번\n",
    "\n",
    "# 정답은 5번. set을 만드는 방법이 아닌 것은 set()"
   ]
  },
  {
   "cell_type": "code",
   "execution_count": null,
   "id": "82637a3c",
   "metadata": {},
   "outputs": [],
   "source": [
    "# codeFestival_1. 22번\n",
    "\n",
    "# 정답은 2번. 배수인지 확인하는 방법은 i%n == 0"
   ]
  },
  {
   "cell_type": "code",
   "execution_count": null,
   "id": "d6704be8",
   "metadata": {},
   "outputs": [],
   "source": [
    "# codeFestival_1. 23번\n",
    "\n",
    "# 정답은 X. print(10/2)의 출력 결과는 5.0이다."
   ]
  },
  {
   "cell_type": "code",
   "execution_count": 29,
   "id": "3e106a69",
   "metadata": {},
   "outputs": [
    {
     "name": "stdout",
     "output_type": "stream",
     "text": [
      "mary\n",
      "MARY\n"
     ]
    }
   ],
   "source": [
    "# codeFestival_1. 24번\n",
    "\n",
    "a = input()\n",
    "print(a.upper())"
   ]
  },
  {
   "cell_type": "code",
   "execution_count": 30,
   "id": "843424ac",
   "metadata": {},
   "outputs": [
    {
     "name": "stdout",
     "output_type": "stream",
     "text": [
      "7\n",
      "153.86\n"
     ]
    }
   ],
   "source": [
    "# codeFestival_1. 25번\n",
    "\n",
    "n = int(input())\n",
    "print((n**2)*3.14)"
   ]
  },
  {
   "cell_type": "code",
   "execution_count": 31,
   "id": "a38c2719",
   "metadata": {},
   "outputs": [
    {
     "name": "stdout",
     "output_type": "stream",
     "text": [
      "지구\n",
      "Earth\n"
     ]
    }
   ],
   "source": [
    "# codeFestival_1. 26번\n",
    "\n",
    "arr = ['수성', '금성', '지구', '화성', '목성', '토성', '천왕성', '해왕성']\n",
    "lst = ['Mercury', 'Venus', 'Earth', 'Mars', 'Jupiter', 'Saturn', 'Uranus', 'Neptune']\n",
    "\n",
    "a = input()\n",
    "for i in range(len(arr)):\n",
    "    if a == arr[i]:\n",
    "        print(lst[i])"
   ]
  },
  {
   "cell_type": "code",
   "execution_count": null,
   "id": "05473879",
   "metadata": {},
   "outputs": [],
   "source": [
    "# codeFestival_1. 27번\n",
    "\n"
   ]
  },
  {
   "cell_type": "code",
   "execution_count": 34,
   "id": "2969626a",
   "metadata": {},
   "outputs": [
    {
     "name": "stdout",
     "output_type": "stream",
     "text": [
      "Python\n",
      "Py\n",
      "yt\n",
      "th\n",
      "ho\n",
      "on\n"
     ]
    }
   ],
   "source": [
    "# codeFestival_1. 28번\n",
    "\n",
    "a = input()\n",
    "for i in range(len(a)-1):\n",
    "    print(a[i:i+2])"
   ]
  },
  {
   "cell_type": "code",
   "execution_count": 38,
   "id": "eadcf86f",
   "metadata": {},
   "outputs": [
    {
     "name": "stdout",
     "output_type": "stream",
     "text": [
      "A\n",
      "YES\n"
     ]
    }
   ],
   "source": [
    "# codeFestival_1. 29번\n",
    "\n",
    "a = input()\n",
    "if a.isupper() == True:\n",
    "    print(\"YES\")\n",
    "else:\n",
    "    print(\"NO\")"
   ]
  },
  {
   "cell_type": "code",
   "execution_count": 42,
   "id": "91594a2b",
   "metadata": {},
   "outputs": [
    {
     "name": "stdout",
     "output_type": "stream",
     "text": [
      "pineapple is yummy\n",
      "apple\n",
      "4\n"
     ]
    }
   ],
   "source": [
    "# codeFestival_1. 30번\n",
    "\n",
    "lst = list(input())\n",
    "arr = list(input())\n",
    "for i in range(len(lst)):\n",
    "    if lst[i] == arr[0]:\n",
    "        rst = 0\n",
    "        for j in range(1, len(arr)):\n",
    "            if lst[i+j] == arr[j]:\n",
    "                rst += 1\n",
    "        if rst == len(arr)-1:\n",
    "            print(i)\n",
    "            break"
   ]
  },
  {
   "cell_type": "code",
   "execution_count": null,
   "id": "8b7c42ce",
   "metadata": {},
   "outputs": [],
   "source": [
    "# codeFestival_1. 31번\n",
    "\n",
    "# 정답은 3번. 시간 복잡도가 O(1)이 아닌 것은 l[a:b] 뿐"
   ]
  },
  {
   "cell_type": "code",
   "execution_count": 46,
   "id": "271d03ee",
   "metadata": {},
   "outputs": [
    {
     "name": "stdout",
     "output_type": "stream",
     "text": [
      "저 넓은 세상을 네 눈앞에 그려봐 네 진심을 느껴봐\n",
      "9\n"
     ]
    }
   ],
   "source": [
    "# codeFestival_1. 32번\n",
    "\n",
    "lst = list(input())\n",
    "rst = 1\n",
    "for i in range(len(lst)):\n",
    "    if lst[i] == ' ':\n",
    "        rst += 1\n",
    "print(rst)"
   ]
  },
  {
   "cell_type": "code",
   "execution_count": 47,
   "id": "79221fed",
   "metadata": {},
   "outputs": [
    {
     "name": "stdout",
     "output_type": "stream",
     "text": [
      "1 2 3 4 5\n",
      "5 4 3 2 1 "
     ]
    }
   ],
   "source": [
    "# codeFestival_1. 33번\n",
    "\n",
    "lst = list(map(int, input().split()))\n",
    "for i in range(len(lst)):\n",
    "    print(lst[len(lst)-1-i], end=\" \")"
   ]
  },
  {
   "cell_type": "code",
   "execution_count": 83,
   "id": "682c5866",
   "metadata": {
    "scrolled": true
   },
   "outputs": [
    {
     "name": "stdout",
     "output_type": "stream",
     "text": [
      "176 156 155 165 166 169\n",
      "NO\n"
     ]
    }
   ],
   "source": [
    "# codeFestival_1. 34번\n",
    "\n",
    "lst = list(map(int, input().split()))\n",
    "arr1 = [0]*len(lst)\n",
    "arr2 = [0]*len(lst)\n",
    "for i in range(len(lst)):\n",
    "    arr1[i] = lst[i]\n",
    "    arr2[i] = lst[i]\n",
    "for m in range(len(lst)):\n",
    "    for n in range(m+1, len(lst)):\n",
    "        if arr1[m] > arr1[n]:\n",
    "            arr1[m], arr1[n] = arr1[n], arr1[m]\n",
    "        if arr2[m] < arr2[n]:\n",
    "            arr2[m], arr2[n] = arr2[n], arr2[m]\n",
    "if lst!=arr1 and lst!=arr2:\n",
    "    print(\"NO\")\n",
    "else:\n",
    "    print(\"YES\")"
   ]
  },
  {
   "cell_type": "code",
   "execution_count": 52,
   "id": "ed35efd2",
   "metadata": {},
   "outputs": [
    {
     "name": "stdout",
     "output_type": "stream",
     "text": [
      "100\n",
      "1000\n",
      "10000\n"
     ]
    }
   ],
   "source": [
    "# codeFestival_1. 35번\n",
    "\n",
    "def one(n):\n",
    "    def two(m):\n",
    "        k = m**n\n",
    "        return k\n",
    "    return two\n",
    "a = one(2)\n",
    "b = one(3)\n",
    "c = one(4)\n",
    "print(a(10))\n",
    "print(b(10))\n",
    "print(c(10))"
   ]
  },
  {
   "cell_type": "code",
   "execution_count": 53,
   "id": "58bc373a",
   "metadata": {},
   "outputs": [
    {
     "name": "stdout",
     "output_type": "stream",
     "text": [
      "2\n",
      "2 4 6 8 10 12 14 16 18 "
     ]
    }
   ],
   "source": [
    "# codeFestival_1. 36번\n",
    "\n",
    "n = int(input())\n",
    "for i in range(1, 10):\n",
    "    print(n*i, end=\" \")"
   ]
  },
  {
   "cell_type": "code",
   "execution_count": 57,
   "id": "2b1d7048",
   "metadata": {},
   "outputs": [
    {
     "name": "stdout",
     "output_type": "stream",
     "text": [
      "원영 원영 은비 은비 은비 은비 채연 채연\n",
      "은비(이)가 총 4표로 반장이 되었습니다.\n"
     ]
    }
   ],
   "source": [
    "# codeFestival_1. 37번\n",
    "\n",
    "lst = list(input().split())\n",
    "lst1 = [1]*len(lst)\n",
    "for i in range(len(lst)):\n",
    "    for j in range(i+1, len(lst)):\n",
    "        if lst[i] == lst[j]:\n",
    "            lst1[i] += 1\n",
    "for i in range(len(lst1)):\n",
    "    if lst1[i] == max(lst1):\n",
    "        print(f\"{lst[i]}(이)가 총 {lst1[i]}표로 반장이 되었습니다.\")"
   ]
  },
  {
   "cell_type": "code",
   "execution_count": null,
   "id": "2de55889",
   "metadata": {},
   "outputs": [],
   "source": [
    "# codeFestival_1. 38번\n",
    "\n",
    "lst = list(map(int, input().split()))\n",
    "for i in range(len(lst)):\n",
    "    for j in range(i+1, len(lst)):\n",
    "        if lst[i] < lst[j]:\n",
    "            lst[i], lst[j] = lst[j], lst[i]\n",
    "rst, a, b = 0, 0, 0\n",
    "for i in range(len(lst)-1):"
   ]
  },
  {
   "cell_type": "code",
   "execution_count": 58,
   "id": "74b10e0a",
   "metadata": {},
   "outputs": [
    {
     "name": "stdout",
     "output_type": "stream",
     "text": [
      "La viq qn rosq\n",
      "La vie en rose"
     ]
    }
   ],
   "source": [
    "# codeFestival_1. 39번\n",
    "\n",
    "lst = list(input())\n",
    "for i in range(len(lst)):\n",
    "    if lst[i] == 'q':\n",
    "        lst[i] = 'e'\n",
    "    print(lst[i], end=\"\")"
   ]
  },
  {
   "cell_type": "code",
   "execution_count": 61,
   "id": "a3068456",
   "metadata": {},
   "outputs": [
    {
     "name": "stdout",
     "output_type": "stream",
     "text": [
      "50\n",
      "5\n",
      "20\n",
      "20\n",
      "20\n",
      "20\n",
      "20\n",
      "2\n"
     ]
    }
   ],
   "source": [
    "# codeFestival_1. 40번\n",
    "\n",
    "m = int(input())\n",
    "n = int(input())\n",
    "lst = list(int(input()) for _ in range(n))\n",
    "rst, ans = 0, 0\n",
    "for i in range(n):\n",
    "    ans += lst[i]\n",
    "    if ans > m:\n",
    "        ans = lst[i]\n",
    "        rst += 1\n",
    "print(rst)"
   ]
  },
  {
   "cell_type": "code",
   "execution_count": 66,
   "id": "9f9580e6",
   "metadata": {},
   "outputs": [
    {
     "name": "stdout",
     "output_type": "stream",
     "text": [
      "49\n",
      "NO\n"
     ]
    }
   ],
   "source": [
    "# codeFestival_1. 41번\n",
    "\n",
    "n = int(input())\n",
    "rst = 0\n",
    "for i in range(2, (n//2)+1):\n",
    "    if n%i==0:\n",
    "        rst+=1\n",
    "        break\n",
    "if not rst:\n",
    "    print(\"YES\")\n",
    "else:\n",
    "    print(\"NO\")"
   ]
  },
  {
   "cell_type": "code",
   "execution_count": null,
   "id": "bae316a6",
   "metadata": {},
   "outputs": [],
   "source": [
    "# codeFestival_1. 42번\n",
    "\n"
   ]
  },
  {
   "cell_type": "code",
   "execution_count": 73,
   "id": "2c67b39b",
   "metadata": {},
   "outputs": [
    {
     "name": "stdout",
     "output_type": "stream",
     "text": [
      "13\n",
      "1101"
     ]
    }
   ],
   "source": [
    "# codeFestival_1. 43번\n",
    "\n",
    "n = int(input())\n",
    "m = 0\n",
    "for i in range(1000):\n",
    "    if n < 2**i:\n",
    "        m = i\n",
    "        break\n",
    "lst = [0]*m\n",
    "for i in range(m-1, -1, -1):\n",
    "    if n > 2**i:\n",
    "        n = n-2**i\n",
    "        lst[m-1-i] = 1\n",
    "    elif n == 2**i:\n",
    "        lst[m-1-i] = 1\n",
    "        break\n",
    "for i in range(m):\n",
    "    print(lst[i], end=\"\")"
   ]
  },
  {
   "cell_type": "code",
   "execution_count": 78,
   "id": "5ab4d1ba",
   "metadata": {},
   "outputs": [
    {
     "name": "stdout",
     "output_type": "stream",
     "text": [
      "1234\n",
      "10\n"
     ]
    }
   ],
   "source": [
    "# codeFestival_1. 44번\n",
    "\n",
    "a = input()\n",
    "b = 0\n",
    "for i in range(len(a)):\n",
    "    b += int(a[i])\n",
    "print(b)"
   ]
  },
  {
   "cell_type": "code",
   "execution_count": 84,
   "id": "8f1827bd",
   "metadata": {},
   "outputs": [
    {
     "name": "stdout",
     "output_type": "stream",
     "text": [
      "2022\n"
     ]
    }
   ],
   "source": [
    "# codeFestival_1. 45번\n",
    "\n",
    "import time\n",
    "n = time.time()\n",
    "n = int(n//(365*24*60*60))+1970\n",
    "print(n)"
   ]
  },
  {
   "cell_type": "code",
   "execution_count": 85,
   "id": "1205e6f9",
   "metadata": {},
   "outputs": [
    {
     "name": "stdout",
     "output_type": "stream",
     "text": [
      "102\n"
     ]
    }
   ],
   "source": [
    "# codeFestival_1. 46번\n",
    "\n",
    "rst = 0\n",
    "for i in range(1, 10):\n",
    "    rst += i\n",
    "rst = rst*2 + 10 + 2\n",
    "print(rst)"
   ]
  },
  {
   "cell_type": "code",
   "execution_count": null,
   "id": "664dc3b6",
   "metadata": {},
   "outputs": [],
   "source": [
    "# codeFestival_1. 47번\n",
    "\n"
   ]
  },
  {
   "cell_type": "code",
   "execution_count": 88,
   "id": "dcdd8683",
   "metadata": {},
   "outputs": [
    {
     "name": "stdout",
     "output_type": "stream",
     "text": [
      "AAABBBcccddd\n",
      "aaabbbCCCDDD"
     ]
    }
   ],
   "source": [
    "# codeFestival_1. 48번\n",
    "\n",
    "n = input()\n",
    "lst = []\n",
    "for i in range(len(n)):\n",
    "    if n[i].isupper():\n",
    "        lst.append(n[i].lower())\n",
    "    else:\n",
    "        lst.append(n[i].upper())\n",
    "for i in range(len(n)):\n",
    "    print(lst[i], end=\"\")"
   ]
  },
  {
   "cell_type": "code",
   "execution_count": 89,
   "id": "56ce58a5",
   "metadata": {},
   "outputs": [
    {
     "name": "stdout",
     "output_type": "stream",
     "text": [
      "3 5 1 2 4 8 9 6\n",
      "9\n"
     ]
    }
   ],
   "source": [
    "# codeFestival_1. 49번\n",
    "\n",
    "lst = list(map(int, input().split()))\n",
    "for i in range(len(lst)):\n",
    "    for j in range(i+1, len(lst)):\n",
    "        if lst[i] < lst[j]:\n",
    "            lst[i], lst[j] = lst[j], lst[i]\n",
    "print(lst[0])"
   ]
  },
  {
   "cell_type": "code",
   "execution_count": null,
   "id": "03af521a",
   "metadata": {},
   "outputs": [],
   "source": [
    "# codeFestival_1. 50번\n",
    "\n",
    "def bubble(n, data):\n",
    "    for i in range(n-1):\n",
    "        for j in range(n-1-i):\n",
    "            if data[j] > data[j+1]:\n",
    "                data[j], data[j+1] = data[j+1], data[j]\n",
    "    for i in range(n):\n",
    "        print(data[i], end=\" \")\n",
    "        \n",
    "n = int(input())\n",
    "data = list(map(int, input().split()))\n",
    "\n",
    "bubble(n, data)"
   ]
  }
 ],
 "metadata": {
  "kernelspec": {
   "display_name": "Python 3 (ipykernel)",
   "language": "python",
   "name": "python3"
  },
  "language_info": {
   "codemirror_mode": {
    "name": "ipython",
    "version": 3
   },
   "file_extension": ".py",
   "mimetype": "text/x-python",
   "name": "python",
   "nbconvert_exporter": "python",
   "pygments_lexer": "ipython3",
   "version": "3.10.1"
  },
  "toc": {
   "base_numbering": 1,
   "nav_menu": {},
   "number_sections": true,
   "sideBar": true,
   "skip_h1_title": false,
   "title_cell": "Table of Contents",
   "title_sidebar": "Contents",
   "toc_cell": false,
   "toc_position": {},
   "toc_section_display": true,
   "toc_window_display": false
  }
 },
 "nbformat": 4,
 "nbformat_minor": 5
}
