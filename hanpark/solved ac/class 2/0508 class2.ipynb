{
 "cells": [
  {
   "cell_type": "code",
   "execution_count": 2,
   "id": "e048a063",
   "metadata": {},
   "outputs": [
    {
     "name": "stdout",
     "output_type": "stream",
     "text": [
      "4 11\n",
      "802\n",
      "743\n",
      "457\n",
      "539\n",
      "200\n"
     ]
    }
   ],
   "source": [
    "# 백준 class 2++ 1654 랜선 자르기\n",
    "\n",
    "k, n = map(int, input().split())\n",
    "lst = [int(input()) for _ in range(k)]\n",
    "ans = max(lst)\n",
    "while 1:\n",
    "    rst = 0\n",
    "    for i in range(k):\n",
    "        rst += lst[i]//ans\n",
    "    if rst >= n:\n",
    "        print(ans)\n",
    "        break\n",
    "    ans -= 1"
   ]
  }
 ],
 "metadata": {
  "kernelspec": {
   "display_name": "Python 3 (ipykernel)",
   "language": "python",
   "name": "python3"
  },
  "language_info": {
   "codemirror_mode": {
    "name": "ipython",
    "version": 3
   },
   "file_extension": ".py",
   "mimetype": "text/x-python",
   "name": "python",
   "nbconvert_exporter": "python",
   "pygments_lexer": "ipython3",
   "version": "3.10.4"
  },
  "toc": {
   "base_numbering": 1,
   "nav_menu": {},
   "number_sections": true,
   "sideBar": true,
   "skip_h1_title": false,
   "title_cell": "Table of Contents",
   "title_sidebar": "Contents",
   "toc_cell": false,
   "toc_position": {},
   "toc_section_display": true,
   "toc_window_display": false
  }
 },
 "nbformat": 4,
 "nbformat_minor": 5
}
