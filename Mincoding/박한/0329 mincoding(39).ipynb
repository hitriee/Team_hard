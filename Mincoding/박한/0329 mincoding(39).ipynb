{
 "cells": [
  {
   "cell_type": "code",
   "execution_count": 3,
   "id": "21011bdf",
   "metadata": {},
   "outputs": [
    {
     "name": "stdout",
     "output_type": "stream",
     "text": [
      "15 30 50 10\n",
      "90\n"
     ]
    }
   ],
   "source": [
    "# 민코딩 심화반2 Level 39 - 문제 1번 : 화장실 대기시간 줄이기\n",
    "\n",
    "lst = list(map(int, input().split()))\n",
    "lst.sort()\n",
    "rst = 0\n",
    "for i in range(len(lst)):\n",
    "    rst += lst[i]*(len(lst)-i-1)\n",
    "print(rst)"
   ]
  },
  {
   "cell_type": "code",
   "execution_count": 4,
   "id": "16c64e05",
   "metadata": {},
   "outputs": [
    {
     "name": "stdout",
     "output_type": "stream",
     "text": [
      "660\n",
      "4\n"
     ]
    }
   ],
   "source": [
    "# 민코딩 심화반2 Level 39 - 문제 2번 : 동전교환\n",
    "\n",
    "n = int(input())\n",
    "coins = [500, 100, 50, 10]\n",
    "rst = 0\n",
    "for coin in coins:\n",
    "    rst += n//coin\n",
    "    n %= coin\n",
    "print(rst)"
   ]
  },
  {
   "cell_type": "code",
   "execution_count": 6,
   "id": "d03fb573",
   "metadata": {},
   "outputs": [
    {
     "name": "stdout",
     "output_type": "stream",
     "text": [
      "6\n",
      "1 6\n",
      "3 8\n",
      "8 9\n",
      "2 4\n",
      "4 6\n",
      "7 9\n",
      "3\n"
     ]
    }
   ],
   "source": [
    "# 민코딩 심화반2 Level 39 - 문제 3번 : 회의실 배정\n",
    "\n",
    "n = int(input())\n",
    "lst = [list(map(int, input().split())) for _ in range(n)]\n",
    "lst.sort(key = lambda x: x[1])\n",
    "rst, time = 0, 0\n",
    "for i in range(n):\n",
    "    if time <= lst[i][0]:\n",
    "        time = lst[i][1]\n",
    "        rst += 1\n",
    "print(rst)"
   ]
  },
  {
   "cell_type": "code",
   "execution_count": 5,
   "id": "00cfac5a",
   "metadata": {},
   "outputs": [
    {
     "name": "stdout",
     "output_type": "stream",
     "text": [
      "6\n",
      "20 57 13 40 33 8\n",
      "4\n"
     ]
    }
   ],
   "source": [
    "# 민코딩 심화반2 Level 39 - 문제 4번 : 막대 블럭 채우기\n",
    "\n",
    "n = int(input())\n",
    "lst = list(map(int, input().split()))\n",
    "lst.sort()\n",
    "rst, summ = 0, 0\n",
    "for i in range(len(lst)):\n",
    "    if summ > 100:\n",
    "        break\n",
    "    summ += lst[i]\n",
    "    rst += 1\n",
    "print(rst-1)"
   ]
  }
 ],
 "metadata": {
  "kernelspec": {
   "display_name": "Python 3 (ipykernel)",
   "language": "python",
   "name": "python3"
  },
  "language_info": {
   "codemirror_mode": {
    "name": "ipython",
    "version": 3
   },
   "file_extension": ".py",
   "mimetype": "text/x-python",
   "name": "python",
   "nbconvert_exporter": "python",
   "pygments_lexer": "ipython3",
   "version": "3.10.1"
  },
  "toc": {
   "base_numbering": 1,
   "nav_menu": {},
   "number_sections": true,
   "sideBar": true,
   "skip_h1_title": false,
   "title_cell": "Table of Contents",
   "title_sidebar": "Contents",
   "toc_cell": false,
   "toc_position": {},
   "toc_section_display": true,
   "toc_window_display": false
  }
 },
 "nbformat": 4,
 "nbformat_minor": 5
}
