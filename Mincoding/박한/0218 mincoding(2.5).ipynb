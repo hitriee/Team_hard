{
 "cells": [
  {
   "cell_type": "code",
   "execution_count": 1,
   "id": "8d665058",
   "metadata": {},
   "outputs": [
    {
     "name": "stdout",
     "output_type": "stream",
     "text": [
      "WWW.\"MIN\"CODING.CO.KR\n"
     ]
    }
   ],
   "source": [
    "# 민코딩 훈련반1 Level 2.5 - 문제 1번\n",
    "\n",
    "print('WWW.\"MIN\"CODING.CO.KR')"
   ]
  },
  {
   "cell_type": "code",
   "execution_count": 2,
   "id": "ececbb34",
   "metadata": {},
   "outputs": [
    {
     "name": "stdout",
     "output_type": "stream",
     "text": [
      "5 5\n",
      "같습니다\n"
     ]
    }
   ],
   "source": [
    "# 민코딩 훈련반1 Level 2.5 - 문제 2번\n",
    "\n",
    "a, b = map(int, input().split())\n",
    "if a == b:\n",
    "    print(\"같습니다\")\n",
    "else:\n",
    "    print(\"다릅니다\")"
   ]
  },
  {
   "cell_type": "code",
   "execution_count": 3,
   "id": "bf5beeca",
   "metadata": {},
   "outputs": [
    {
     "name": "stdout",
     "output_type": "stream",
     "text": [
      "3 6 9\n",
      "첫번째 숫자는 3 입니다.\n",
      "두번째 숫자는 6 입니다.\n",
      "세번째 숫자는 9 입니다.\n"
     ]
    }
   ],
   "source": [
    "# 민코딩 훈련반1 Level 2.5 - 문제 3번\n",
    "\n",
    "a, b, c = map(int, input().split())\n",
    "print(f\"첫번째 숫자는 {a} 입니다.\")\n",
    "print(f\"두번째 숫자는 {b} 입니다.\")\n",
    "print(f\"세번째 숫자는 {c} 입니다.\")"
   ]
  },
  {
   "cell_type": "code",
   "execution_count": 4,
   "id": "b23d737e",
   "metadata": {},
   "outputs": [
    {
     "name": "stdout",
     "output_type": "stream",
     "text": [
      "2 4 5 10\n",
      "a + b = 6\n",
      "c + d = 15\n",
      "ALL SUM = 21\n"
     ]
    }
   ],
   "source": [
    "# 민코딩 훈련반1 Level 2.5 - 문제 4번\n",
    "\n",
    "a, b, c, d = map(int, input().split())\n",
    "print(f\"a + b = {a+b}\")\n",
    "print(f\"c + d = {c+d}\")\n",
    "print(f\"ALL SUM = {a+b+c+d}\")"
   ]
  },
  {
   "cell_type": "code",
   "execution_count": 5,
   "id": "3010dd14",
   "metadata": {},
   "outputs": [
    {
     "name": "stdout",
     "output_type": "stream",
     "text": [
      "1 1 1\n",
      "만세\n"
     ]
    }
   ],
   "source": [
    "# 민코딩 훈련반1 Level 2.5 - 문제 5번\n",
    "\n",
    "a, b, c = map(int, input().split())\n",
    "if a==b==c:\n",
    "    print(\"만세\")"
   ]
  },
  {
   "cell_type": "code",
   "execution_count": 8,
   "id": "d76f630e",
   "metadata": {},
   "outputs": [
    {
     "name": "stdout",
     "output_type": "stream",
     "text": [
      "9 4 5 3\n",
      "b1이 가장 크다\n"
     ]
    }
   ],
   "source": [
    "# 민코딩 훈련반1 Level 2.5 - 문제 6번\n",
    "\n",
    "b1, b2, b3, b4 = map(int, input().split())\n",
    "if max(b1, b2, b3, b4) == b1:\n",
    "    print(\"b1이 가장 크다\")"
   ]
  },
  {
   "cell_type": "code",
   "execution_count": 12,
   "id": "82093ca9",
   "metadata": {},
   "outputs": [
    {
     "name": "stdout",
     "output_type": "stream",
     "text": [
      "3 4 5 6\n",
      "3<4\n",
      "4==4\n",
      "5>4\n",
      "6>4\n"
     ]
    }
   ],
   "source": [
    "# 민코딩 훈련반1 Level 2.5 - 문제 7번\n",
    "\n",
    "a, b, c, d = map(int, input().split())\n",
    "e = (a+b+c+d)//4\n",
    "def get_r(i, j):\n",
    "    if i<j:\n",
    "        print(f'{i}<{j}')\n",
    "    elif i>j:\n",
    "        print(f'{i}>{j}')\n",
    "    else:\n",
    "        print(f'{i}=={j}')\n",
    "get_r(a, e)\n",
    "get_r(b, e)\n",
    "get_r(c, e)\n",
    "get_r(d, e)"
   ]
  },
  {
   "cell_type": "code",
   "execution_count": 13,
   "id": "97ef0cdf",
   "metadata": {},
   "outputs": [
    {
     "name": "stdout",
     "output_type": "stream",
     "text": [
      "5 2\n",
      "가깝다\n"
     ]
    }
   ],
   "source": [
    "# 민코딩 훈련반1 Level 2.5 - 문제 8번\n",
    "\n",
    "A, B = map(int, input().split())\n",
    "if abs(A-B)>5:\n",
    "    print(\"멀다\")\n",
    "else:\n",
    "    print(\"가깝다\")"
   ]
  },
  {
   "cell_type": "code",
   "execution_count": 14,
   "id": "29047178",
   "metadata": {},
   "outputs": [
    {
     "name": "stdout",
     "output_type": "stream",
     "text": [
      "3 10\n",
      "합만세\n",
      "곱만세\n"
     ]
    }
   ],
   "source": [
    "# 민코딩 훈련반1 Level 2.5 - 문제 9번\n",
    "\n",
    "a, b = map(int, input().split())\n",
    "if a+b>10:\n",
    "    print(\"합만세\")\n",
    "if a*b>10:\n",
    "    print(\"곱만세\")"
   ]
  },
  {
   "cell_type": "code",
   "execution_count": 20,
   "id": "6cfde37b",
   "metadata": {},
   "outputs": [
    {
     "name": "stdout",
     "output_type": "stream",
     "text": [
      "1 2 3 4 5 6 7\n",
      "4 5 6 7\n"
     ]
    }
   ],
   "source": [
    "# 민코딩 훈련반1 Level 2.5 - 문제 10번\n",
    "\n",
    "lst = list(map(int, input().split()))\n",
    "print(*lst[3:])"
   ]
  },
  {
   "cell_type": "code",
   "execution_count": 21,
   "id": "30096e03",
   "metadata": {},
   "outputs": [
    {
     "name": "stdout",
     "output_type": "stream",
     "text": [
      "##########"
     ]
    }
   ],
   "source": [
    "# 민코딩 훈련반1 Level 2.5 - 문제 11번\n",
    "\n",
    "for i in range(10):\n",
    "    print(\"#\", end=\"\")"
   ]
  }
 ],
 "metadata": {
  "kernelspec": {
   "display_name": "Python 3 (ipykernel)",
   "language": "python",
   "name": "python3"
  },
  "language_info": {
   "codemirror_mode": {
    "name": "ipython",
    "version": 3
   },
   "file_extension": ".py",
   "mimetype": "text/x-python",
   "name": "python",
   "nbconvert_exporter": "python",
   "pygments_lexer": "ipython3",
   "version": "3.10.1"
  },
  "toc": {
   "base_numbering": 1,
   "nav_menu": {},
   "number_sections": true,
   "sideBar": true,
   "skip_h1_title": false,
   "title_cell": "Table of Contents",
   "title_sidebar": "Contents",
   "toc_cell": false,
   "toc_position": {},
   "toc_section_display": true,
   "toc_window_display": false
  }
 },
 "nbformat": 4,
 "nbformat_minor": 5
}
