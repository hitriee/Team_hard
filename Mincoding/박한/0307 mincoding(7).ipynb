{
 "cells": [
  {
   "cell_type": "code",
   "execution_count": 1,
   "id": "5698ec8a",
   "metadata": {},
   "outputs": [
    {
     "name": "stdout",
     "output_type": "stream",
     "text": [
      "10\n",
      "98\n",
      "71\n",
      "34\n"
     ]
    }
   ],
   "source": [
    "# 민코딩 훈련반1 Level 7 - 문제 1번 : 짝수 홀수 구분하기\n",
    "\n",
    "lst = [3, 5, 2, 4, 1]\n",
    "arr = [[9, 8], [7, 1], [3, 4]]\n",
    "n = int(input())\n",
    "if n%2==1:\n",
    "    for i in range(5):\n",
    "        print(lst[i], end=\"\")\n",
    "else:\n",
    "    for i in range(3):\n",
    "        for j in range(2):\n",
    "            print(arr[i][j], end=\"\")\n",
    "        print()"
   ]
  },
  {
   "cell_type": "code",
   "execution_count": 3,
   "id": "be378da1",
   "metadata": {},
   "outputs": [
    {
     "name": "stdout",
     "output_type": "stream",
     "text": [
      "6 2\n",
      "짝사랑만\n"
     ]
    }
   ],
   "source": [
    "# 민코딩 훈련반1 Level 7 - 문제 2번 : 고백할까 말까\n",
    "\n",
    "a, b = map(int, input().split())\n",
    "if a>b:\n",
    "    c = a-b\n",
    "else:\n",
    "    c = b-a\n",
    "if c%2==1:\n",
    "    print(\"고백한다\")\n",
    "else:\n",
    "    print(\"짝사랑만\")"
   ]
  },
  {
   "cell_type": "code",
   "execution_count": 4,
   "id": "6af4a752",
   "metadata": {},
   "outputs": [
    {
     "name": "stdout",
     "output_type": "stream",
     "text": [
      "311232"
     ]
    }
   ],
   "source": [
    "# 민코딩 훈련반1 Level 7 - 문제 3번 : 배열 그대로 화면에 출력\n",
    "\n",
    "arr = [[3, 1, 1], [2, 3, 2]]\n",
    "for i in range(2):\n",
    "    for j in range(3):\n",
    "        print(arr[i][j], end=\"\")"
   ]
  },
  {
   "cell_type": "code",
   "execution_count": 5,
   "id": "d8b83779",
   "metadata": {},
   "outputs": [
    {
     "name": "stdout",
     "output_type": "stream",
     "text": [
      "3 4 5 6 7\n",
      "5\n"
     ]
    }
   ],
   "source": [
    "# 민코딩 훈련반1 Level 7 - 문제 4번 : 유아들은 몇명일까?\n",
    "\n",
    "lst = list(map(int, input().split()))\n",
    "rst = 0\n",
    "for i in range(5):\n",
    "    if 3 <= lst[i] <= 7:\n",
    "        rst+=1\n",
    "print(rst)"
   ]
  },
  {
   "cell_type": "code",
   "execution_count": 6,
   "id": "dbd4c095",
   "metadata": {},
   "outputs": [
    {
     "name": "stdout",
     "output_type": "stream",
     "text": [
      "96\n",
      "수\n"
     ]
    }
   ],
   "source": [
    "# 민코딩 훈련반1 Level 7 - 문제 5번 : 단순 채점 프로그램\n",
    "\n",
    "n = int(input())\n",
    "if n>=80:\n",
    "    print(\"수\")\n",
    "elif n>=70:\n",
    "    print(\"우\")\n",
    "elif n>=60:\n",
    "    print(\"미\")\n",
    "else:\n",
    "    print(\"재시도\")"
   ]
  },
  {
   "cell_type": "code",
   "execution_count": 8,
   "id": "6c229519",
   "metadata": {},
   "outputs": [
    {
     "name": "stdout",
     "output_type": "stream",
     "text": [
      "15 20 23 20\n",
      "더 큰수를 입력하세요\n",
      "정답입니다\n",
      "더 작은수를 입력하세요\n",
      "정답입니다\n"
     ]
    }
   ],
   "source": [
    "# 민코딩 훈련반1 Level 7 - 문제 6번 : 숫자 20 맞추기\n",
    "\n",
    "lst = list(map(int, input().split()))\n",
    "for i in range(4):\n",
    "    if lst[i] > 20:\n",
    "        print(\"더 작은수를 입력하세요\")\n",
    "    elif lst[i] < 20:\n",
    "        print(\"더 큰수를 입력하세요\")\n",
    "    else:\n",
    "        print(\"정답입니다\")"
   ]
  },
  {
   "cell_type": "code",
   "execution_count": 9,
   "id": "6fc8b2ad",
   "metadata": {},
   "outputs": [
    {
     "name": "stdout",
     "output_type": "stream",
     "text": [
      "5 3 3\n",
      "MAX=5\n",
      "MIN=3\n"
     ]
    }
   ],
   "source": [
    "# 민코딩 훈련반1 Level 7 - 문제 7번 : 숫자 3개중에 MAX와 MIN값 찾기\n",
    "\n",
    "lst = list(map(int, input().split()))\n",
    "for i in range(3):\n",
    "    for j in range(i+1, 3):\n",
    "        if lst[i] < lst[j]:\n",
    "            lst[i], lst[j] = lst[j], lst[i]\n",
    "print(f\"MAX={lst[0]}\")\n",
    "print(f\"MIN={lst[2]}\")"
   ]
  },
  {
   "cell_type": "code",
   "execution_count": 12,
   "id": "cdc28484",
   "metadata": {},
   "outputs": [
    {
     "name": "stdout",
     "output_type": "stream",
     "text": [
      "짝수 : 4\n",
      "홀수 : 5\n"
     ]
    }
   ],
   "source": [
    "# 민코딩 훈련반1 Level 7 - 문제 8번 : 홀수 짝수는 몇개?\n",
    "\n",
    "arr = [[3, 4, 1], [2, 1, 4], [3, 3, 0]]\n",
    "rst1, rst2 = 0, 0\n",
    "for i in range(3):\n",
    "    for j in range(3):\n",
    "        if arr[i][j]%2 == 1:\n",
    "            rst1 += 1\n",
    "        else:\n",
    "            rst2 += 1\n",
    "print(f\"짝수 : {rst2}\")\n",
    "print(f\"홀수 : {rst1}\")"
   ]
  },
  {
   "cell_type": "code",
   "execution_count": 13,
   "id": "e3dbb8dc",
   "metadata": {},
   "outputs": [
    {
     "name": "stdout",
     "output_type": "stream",
     "text": [
      "90 30 60 30 100\n",
      "1번사람은90점PASS\n",
      "2번사람은30점FAIL\n",
      "3번사람은60점RETEST\n",
      "4번사람은30점FAIL\n",
      "5번사람은100점PASS\n"
     ]
    }
   ],
   "source": [
    "# 민코딩 훈련반1 Level 7 - 문제 9번 : 다중 채점 프로그램\n",
    "\n",
    "lst = list(map(int, input().split()))\n",
    "for i in range(5):\n",
    "    if lst[i]>=70:\n",
    "        print(f\"{i+1}번사람은{lst[i]}점PASS\")\n",
    "    elif lst[i]>=50:\n",
    "        print(f\"{i+1}번사람은{lst[i]}점RETEST\")\n",
    "    else:\n",
    "        print(f\"{i+1}번사람은{lst[i]}점FAIL\")"
   ]
  },
  {
   "cell_type": "code",
   "execution_count": 15,
   "id": "753ea4ed",
   "metadata": {},
   "outputs": [
    {
     "name": "stdout",
     "output_type": "stream",
     "text": [
      "a\n",
      "aaaa\n",
      "aaaa\n",
      "aaaa\n",
      "aaaa\n"
     ]
    }
   ],
   "source": [
    "# 민코딩 훈련반1 Level 7 - 문제 10번 : 문자를 2차배열에 꽉 채우고 출력하기\n",
    "\n",
    "a = input()\n",
    "arr = [['']*4 for _ in range(4)]\n",
    "for i in range(4):\n",
    "    for j in range(4):\n",
    "        arr[i][j] = a\n",
    "        print(arr[i][j], end=\"\")\n",
    "    print()"
   ]
  },
  {
   "cell_type": "code",
   "execution_count": 17,
   "id": "6ad2c582",
   "metadata": {},
   "outputs": [
    {
     "name": "stdout",
     "output_type": "stream",
     "text": [
      "3\n",
      "3 4 5 \n",
      "6 7 8 \n",
      "9 10 11 \n"
     ]
    }
   ],
   "source": [
    "# 민코딩 훈련반1 Level 7 - 문제 11번 : 2차 배열에 순차적으로 값 채우기\n",
    "\n",
    "n = int(input())\n",
    "arr = [['']*3 for _ in range(3)]\n",
    "for i in range(3):\n",
    "    for j in range(3):\n",
    "        arr[i][j] = n+j+(3*i)\n",
    "        print(arr[i][j], end=\" \")\n",
    "    print()"
   ]
  },
  {
   "cell_type": "code",
   "execution_count": 23,
   "id": "32e7760f",
   "metadata": {},
   "outputs": [
    {
     "name": "stdout",
     "output_type": "stream",
     "text": [
      "1\n",
      "초기값\n"
     ]
    }
   ],
   "source": [
    "# 민코딩 훈련반1 Level 7 - 문제 12번 : 복잡한 조건에 맞게 출력하기\n",
    "\n",
    "n = int(input())\n",
    "def BBQ(m):\n",
    "    if 0 < m < 5:\n",
    "        print(\"초기값\")\n",
    "    elif 6 < m < 10:\n",
    "        print(\"중간값\")\n",
    "    else:\n",
    "        print(\"알수없는값\")\n",
    "if n == 3 or n == 5 or n == 7:\n",
    "    for i in range(1, 11):\n",
    "        print(i, end=\"\")\n",
    "elif n == 0 or n == 8:\n",
    "    for j in range(10, 0, -1):\n",
    "        print(j, end=\"\")\n",
    "else:\n",
    "    BBQ(n)"
   ]
  }
 ],
 "metadata": {
  "kernelspec": {
   "display_name": "Python 3 (ipykernel)",
   "language": "python",
   "name": "python3"
  },
  "language_info": {
   "codemirror_mode": {
    "name": "ipython",
    "version": 3
   },
   "file_extension": ".py",
   "mimetype": "text/x-python",
   "name": "python",
   "nbconvert_exporter": "python",
   "pygments_lexer": "ipython3",
   "version": "3.10.1"
  },
  "toc": {
   "base_numbering": 1,
   "nav_menu": {},
   "number_sections": true,
   "sideBar": true,
   "skip_h1_title": false,
   "title_cell": "Table of Contents",
   "title_sidebar": "Contents",
   "toc_cell": false,
   "toc_position": {},
   "toc_section_display": true,
   "toc_window_display": false
  }
 },
 "nbformat": 4,
 "nbformat_minor": 5
}
