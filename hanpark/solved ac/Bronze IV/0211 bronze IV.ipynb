{
 "cells": [
  {
   "cell_type": "code",
   "execution_count": 4,
   "id": "9aee6c8b",
   "metadata": {
    "scrolled": true
   },
   "outputs": [
    {
     "name": "stdout",
     "output_type": "stream",
     "text": [
      "1900\n",
      "0\n"
     ]
    }
   ],
   "source": [
    "# 백준 브론즈4 2753번\n",
    "# 연도가 주어졌을 때, 윤년이면 1, 아니면 0을 출력하는 프로그램을 작성하시오.\n",
    "a = int(input())\n",
    "if a%400==0:\n",
    "    print(1)\n",
    "elif a%4==0 and a%100!=0:\n",
    "    print(1)\n",
    "else:\n",
    "    print(0)"
   ]
  },
  {
   "cell_type": "code",
   "execution_count": 8,
   "id": "49f95b10",
   "metadata": {},
   "outputs": [
    {
     "name": "stdout",
     "output_type": "stream",
     "text": [
      "6\n",
      "16\n"
     ]
    }
   ],
   "source": [
    "# 백준 브론즈4 3004번\n",
    "# 체스판을 N번 (변 끝에서 끝까지) 잘라서 최대 얻을 수 있는 조각의 개수는?\n",
    "N = int(input())\n",
    "if N%2==0:\n",
    "    print((N//2+1)**2)\n",
    "else:\n",
    "    print((N//2+1)*(N//2+2))"
   ]
  },
  {
   "cell_type": "code",
   "execution_count": 16,
   "id": "6c6eeb9f",
   "metadata": {},
   "outputs": [
    {
     "name": "stdout",
     "output_type": "stream",
     "text": [
      "6 1\n",
      "-1\n"
     ]
    }
   ],
   "source": [
    "# 백준 브론즈4 4299번\n",
    "# 점수의 합과 차가 빈 칸으로 구분되어 주어진다. 두 팀의 경기 결과를 득점 많이 한 쪽을 먼저 출력한다\n",
    "# 만약, 그러한 합과 차를 갖는 경기 결과가 없다면, -1을 출력한다.\n",
    "A, B = map(int,input().split())\n",
    "if A-B<0 or (A+B)%2==1:\n",
    "    print(-1)\n",
    "else:\n",
    "    print((A+B)//2, end=\" \")\n",
    "    print((A-B)//2)\n",
    "    \n",
    "# A-B < 0 인 조건을 잊지 말자"
   ]
  },
  {
   "cell_type": "code",
   "execution_count": 22,
   "id": "39a5c940",
   "metadata": {},
   "outputs": [
    {
     "name": "stdout",
     "output_type": "stream",
     "text": [
      "15\n",
      "32\n",
      "48\n",
      "4\n",
      "6\n",
      "7\n"
     ]
    }
   ],
   "source": [
    "# 백준 브론즈4 5532번\n",
    "# 방학은 총 L일, 국어는 A페이지, 수학은 B페이지를 풀어야 하고\n",
    "# 국어는 하루에 최대 C페이지, 수학은 최대 D페이지를 풀 수 있다.\n",
    "# 놀 수 있는 최대 날의 수는?\n",
    "import math\n",
    "L = int(input())\n",
    "A = int(input())\n",
    "B = int(input())\n",
    "C = int(input())\n",
    "D = int(input())\n",
    "(E, F) = (math.ceil(A/C), math.ceil(B/D))\n",
    "if E > F:\n",
    "    print(L-E)\n",
    "else:\n",
    "    print(L-F)"
   ]
  },
  {
   "cell_type": "code",
   "execution_count": 26,
   "id": "27482d50",
   "metadata": {},
   "outputs": [
    {
     "name": "stdout",
     "output_type": "stream",
     "text": [
      "80\n",
      "70\n",
      "60\n",
      "90\n",
      "80\n",
      "90\n"
     ]
    }
   ],
   "source": [
    "# 백준 브론즈4 5543번\n",
    "# 세트 메뉴는 햄버거와 음료를 하나씩 골라, 세트로 구매하면, 가격의 합계에서 50원을 뺀 가격이 세트 메뉴의 가격\n",
    "# 햄버거는 상덕, 중덕, 하덕, 음료는 콜라와 사이다가 있음\n",
    "# 가장 싼 세트 메뉴의 가격을 출력\n",
    "A = int(input())\n",
    "B = int(input())\n",
    "C = int(input())\n",
    "D = int(input())\n",
    "E = int(input())\n",
    "i = list()\n",
    "i.append(A)\n",
    "i.append(B)\n",
    "i.append(C)\n",
    "j = list()\n",
    "j.append(D)\n",
    "j.append(E)\n",
    "print(min(i)+min(j)-50)"
   ]
  }
 ],
 "metadata": {
  "kernelspec": {
   "display_name": "Python 3 (ipykernel)",
   "language": "python",
   "name": "python3"
  },
  "language_info": {
   "codemirror_mode": {
    "name": "ipython",
    "version": 3
   },
   "file_extension": ".py",
   "mimetype": "text/x-python",
   "name": "python",
   "nbconvert_exporter": "python",
   "pygments_lexer": "ipython3",
   "version": "3.10.1"
  },
  "toc": {
   "base_numbering": 1,
   "nav_menu": {},
   "number_sections": true,
   "sideBar": true,
   "skip_h1_title": false,
   "title_cell": "Table of Contents",
   "title_sidebar": "Contents",
   "toc_cell": false,
   "toc_position": {},
   "toc_section_display": true,
   "toc_window_display": false
  }
 },
 "nbformat": 4,
 "nbformat_minor": 5
}
