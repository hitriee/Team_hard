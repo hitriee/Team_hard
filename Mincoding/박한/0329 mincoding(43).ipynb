{
 "cells": [
  {
   "cell_type": "code",
   "execution_count": 2,
   "id": "af9695bb",
   "metadata": {},
   "outputs": [
    {
     "name": "stdout",
     "output_type": "stream",
     "text": [
      "0001200\n",
      "0200000\n",
      "0010012\n",
      "0000000\n",
      "1001000\n",
      "0200010\n",
      "0010200\n",
      "pass\n"
     ]
    }
   ],
   "source": [
    "# 민코딩 심화반2 Level 43 - 문제 2번 : 해물새우파전\n",
    "\n",
    "from collections import deque\n",
    "arr = [list(map(int, input())) for _ in range(7)]\n",
    "def find(y, x, i):\n",
    "    global rst\n",
    "    q = deque()\n",
    "    q.append((y, x, i))\n",
    "    while q:\n",
    "        nowy, nowx, nowi = q.popleft()\n",
    "        if nowi == 1:\n",
    "            directy = [-2, -1, 1, 2, 0, 0, 0, 0]\n",
    "            directx = [0, 0, 0, 0, -2, -1, 1, 2]\n",
    "        else:\n",
    "            directy = [-3, -2, -1, 1, 2, 3, 0, 0, 0, 0, 0, 0]\n",
    "            directx = [0, 0, 0, 0, 0, 0, -3, -2, -1, 1, 2, 3]\n",
    "        for i in range(len(directy)):\n",
    "            dy = nowy + directy[i]\n",
    "            dx = nowx + directx[i]\n",
    "            if 0 <= dy < 7 and 0 <= dx < 7:\n",
    "                if arr[dy][dx] == nowi:\n",
    "                    rst += 1\n",
    "                    break\n",
    "rst = 0\n",
    "for i in range(7):\n",
    "    for j in range(7):\n",
    "        if rst != 0:\n",
    "            break\n",
    "        if arr[i][j] != 0:\n",
    "            find(i, j, arr[i][j])\n",
    "if not rst:\n",
    "    print(\"pass\")\n",
    "else:\n",
    "    print(\"fail\")"
   ]
  },
  {
   "cell_type": "code",
   "execution_count": 3,
   "id": "db0b82cd",
   "metadata": {},
   "outputs": [
    {
     "name": "stdout",
     "output_type": "stream",
     "text": [
      "0 0\n",
      "4 0\n",
      "5\n"
     ]
    }
   ],
   "source": [
    "# 민코딩 심화반2 Level 43 - 문제 3번 : 엘사와 안나\n",
    "\n",
    "from collections import deque\n",
    "elsa = list(map(int, input().split()))\n",
    "anna = list(map(int, input().split()))\n",
    "arr = [[0, 0, 0, 1, 0], [0, 0, 0, 1, 0], [1, 1, 0, 0, 0], [0, 0, 1, 0, 0], [0, 0, 0, 0, 0]]\n",
    "def move(y, x, level):\n",
    "    q = deque()\n",
    "    q.append((y, x, level))\n",
    "    while q:\n",
    "        nowy, nowx, nowlevel = q.popleft()\n",
    "        directy = [-1, 1, 0, 0]\n",
    "        directx = [0, 0, -1, 1]\n",
    "        for i in range(4):\n",
    "            dy = nowy + directy[i]\n",
    "            dx = nowx + directx[i]\n",
    "            if 0 <= dy < 5 and 0 <= dx < 5:\n",
    "                if arr[dy][dx] == 0 or arr[dy][dx] > nowlevel+1:\n",
    "                    arr[dy][dx] = nowlevel + 1\n",
    "                    q.append((dy, dx, nowlevel+1))\n",
    "    \n",
    "move(elsa[0], elsa[1], 1)\n",
    "ans = (arr[anna[0]][anna[1]] - 1)\n",
    "if ans%2 == 1:\n",
    "    print(ans//2 + 1)\n",
    "else:\n",
    "    print(ans//2)"
   ]
  }
 ],
 "metadata": {
  "kernelspec": {
   "display_name": "Python 3 (ipykernel)",
   "language": "python",
   "name": "python3"
  },
  "language_info": {
   "codemirror_mode": {
    "name": "ipython",
    "version": 3
   },
   "file_extension": ".py",
   "mimetype": "text/x-python",
   "name": "python",
   "nbconvert_exporter": "python",
   "pygments_lexer": "ipython3",
   "version": "3.10.1"
  },
  "toc": {
   "base_numbering": 1,
   "nav_menu": {},
   "number_sections": true,
   "sideBar": true,
   "skip_h1_title": false,
   "title_cell": "Table of Contents",
   "title_sidebar": "Contents",
   "toc_cell": false,
   "toc_position": {},
   "toc_section_display": true,
   "toc_window_display": false
  }
 },
 "nbformat": 4,
 "nbformat_minor": 5
}
