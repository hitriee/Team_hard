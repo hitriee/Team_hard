{
 "cells": [
  {
   "cell_type": "code",
   "execution_count": 2,
   "id": "ff30b7c9",
   "metadata": {},
   "outputs": [
    {
     "name": "stdout",
     "output_type": "stream",
     "text": [
      "3\n",
      "2 1 2 2\n",
      "433\n",
      "322\n",
      "211\n"
     ]
    }
   ],
   "source": [
    "# 민코딩 심화반2 Level 41 - 문제 1번 : 바이러스\n",
    "\n",
    "from collections import deque\n",
    "n = int(input())\n",
    "arr = [[0]*n for _ in range(n)]\n",
    "y1, x1, y2, x2 = map(int, input().split())\n",
    "\n",
    "def bfs(y, x, level):\n",
    "    q = deque()\n",
    "    q.append((y, x, level))\n",
    "    while q:\n",
    "        nowy, nowx, nowlevel = q.popleft()\n",
    "        directy = [-1, 1, 0, 0]\n",
    "        directx = [0, 0, -1, 1]\n",
    "        for i in range(4):\n",
    "            dy = nowy + directy[i]\n",
    "            dx = nowx + directx[i]\n",
    "            if 0 <= dy < n and 0 <= dx < n:\n",
    "                if arr[dy][dx] != 0 and arr[dy][dx] < nowlevel+1:\n",
    "                    continue\n",
    "                arr[dy][dx] = nowlevel+1\n",
    "                q.append((dy, dx, nowlevel+1))\n",
    "                \n",
    "arr[y1][x1] = 1\n",
    "arr[y2][x2] = 1\n",
    "bfs(y1, x1, 1)\n",
    "bfs(y2, x2, 1)\n",
    "for i in range(n):\n",
    "    for j in range(n):\n",
    "        print(arr[i][j], end=\"\")\n",
    "    print()"
   ]
  },
  {
   "cell_type": "code",
   "execution_count": 6,
   "id": "86fbdc06",
   "metadata": {},
   "outputs": [
    {
     "name": "stdout",
     "output_type": "stream",
     "text": [
      "5 5\n",
      "1 0 0 0 0\n",
      "1 0 1 0 1\n",
      "0 0 1 0 0\n",
      "0 0 0 0 1\n",
      "0 1 0 0 0\n",
      "0 4\n",
      "8\n"
     ]
    }
   ],
   "source": [
    "# 민코딩 심화반2 Level 41 - 문제 2번 : BBQ 장작\n",
    "\n",
    "from collections import deque\n",
    "n, m = map(int, input().split())\n",
    "arr = [list(map(int, input().split())) for _ in range(n)]\n",
    "y, x = map(int, input().split())\n",
    "\n",
    "def bfs(y, x, level):\n",
    "    q = deque()\n",
    "    q.append((y, x, level))\n",
    "    while q:\n",
    "        nowy, nowx, nowlevel = q.popleft()\n",
    "        directy = [-1, 1, 0, 0]\n",
    "        directx = [0, 0, -1, 1]\n",
    "        for i in range(4):\n",
    "            dy = nowy + directy[i]\n",
    "            dx = nowx + directx[i]\n",
    "            if 0 <= dy < n and 0 <= dx < n:\n",
    "                if arr[dy][dx] != 0 and arr[dy][dx] < nowlevel+1:\n",
    "                    continue\n",
    "                arr[dy][dx] = nowlevel+1\n",
    "                q.append((dy, dx, nowlevel+1))\n",
    "                \n",
    "bfs(y, x, 0)\n",
    "Max = 0\n",
    "for i in range(n):\n",
    "    for j in range(n):\n",
    "        if arr[i][j] > Max:\n",
    "            Max = arr[i][j]\n",
    "print(Max)"
   ]
  },
  {
   "cell_type": "code",
   "execution_count": 8,
   "id": "32594c31",
   "metadata": {},
   "outputs": [
    {
     "name": "stdout",
     "output_type": "stream",
     "text": [
      "5 5\n",
      "1 0 0 0 0\n",
      "1 0 1 0 1\n",
      "0 0 1 0 0\n",
      "0 0 0 0 1\n",
      "0 1 0 0 0\n",
      "0 4\n",
      "8\n"
     ]
    }
   ],
   "source": [
    "# 민코딩 심화반2 Level 41 - 문제 2번 : BBQ 장작 - Max를 bfs 안에서 구하기\n",
    "\n",
    "from collections import deque\n",
    "n, m = map(int, input().split())\n",
    "arr = [list(map(int, input().split())) for _ in range(n)]\n",
    "y, x = map(int, input().split())\n",
    "Max = 0\n",
    "\n",
    "def bfs(y, x, level):\n",
    "    global Max\n",
    "    q = deque()\n",
    "    q.append((y, x, level))\n",
    "    while q:\n",
    "        nowy, nowx, nowlevel = q.popleft()\n",
    "        if nowlevel > Max:\n",
    "            Max = nowlevel\n",
    "        directy = [-1, 1, 0, 0]\n",
    "        directx = [0, 0, -1, 1]\n",
    "        for i in range(4):\n",
    "            dy = nowy + directy[i]\n",
    "            dx = nowx + directx[i]\n",
    "            if 0 <= dy < n and 0 <= dx < n:\n",
    "                if arr[dy][dx] != 0 and arr[dy][dx] < nowlevel+1:\n",
    "                    continue\n",
    "                arr[dy][dx] = nowlevel+1\n",
    "                q.append((dy, dx, nowlevel+1))\n",
    "                \n",
    "bfs(y, x, 0)\n",
    "print(Max)"
   ]
  },
  {
   "cell_type": "code",
   "execution_count": 12,
   "id": "d043af05",
   "metadata": {},
   "outputs": [
    {
     "name": "stdout",
     "output_type": "stream",
     "text": [
      "0 0 1 0 1\n",
      "0 0 0 0 0\n",
      "0 1 0 0 0\n",
      "0 0 0 0 0\n",
      "3\n"
     ]
    }
   ],
   "source": [
    "# 민코딩 심화반2 Level 41 - 문제 3번 : 폭죽놀이\n",
    "\n",
    "from collections import deque\n",
    "arr = [list(map(int, input().split())) for _ in range(4)]\n",
    "lst = []\n",
    "for i in range(4):\n",
    "    for j in range(5):\n",
    "        if arr[i][j] == 1:\n",
    "            lst.append([i, j])\n",
    "            \n",
    "def bfs(y, x, level):\n",
    "    q = deque()\n",
    "    q.append((y, x, level))\n",
    "    while q:\n",
    "        nowy, nowx, nowlevel = q.popleft()\n",
    "        directx = [-1, -1, -1, 0, 0, 1, 1, 1]\n",
    "        directy = [-1, 0, 1, -1, 1, -1, 0, 1]\n",
    "        for i in range(8):\n",
    "            dy = nowy + directy[i]\n",
    "            dx = nowx + directx[i]\n",
    "            if 0 <= dy < 4 and 0 <= dx < 5:\n",
    "                if arr[dy][dx] != 0 and arr[dy][dx] < nowlevel+1:\n",
    "                    continue\n",
    "                arr[dy][dx] = nowlevel + 1\n",
    "                q. append((dy, dx, nowlevel+1))   \n",
    "    \n",
    "for i in range(len(lst)):\n",
    "        bfs(lst[i][0], lst[i][1], 1)\n",
    "Max = 0\n",
    "for i in range(4):\n",
    "    for j in range(5):\n",
    "        if arr[i][j] > Max:\n",
    "            Max = arr[i][j]\n",
    "print(Max-1)"
   ]
  },
  {
   "cell_type": "code",
   "execution_count": 16,
   "id": "16a37f19",
   "metadata": {},
   "outputs": [
    {
     "name": "stdout",
     "output_type": "stream",
     "text": [
      "1 1 0 1\n",
      "0 1 0 1\n",
      "0 1 1 0\n",
      "1 0 0 0\n",
      "5\n"
     ]
    }
   ],
   "source": [
    "# 민코딩 심화반2 Level 41 - 문제 4번 : 무인도의 크기\n",
    "\n",
    "from collections import deque\n",
    "arr = [list(map(int, input().split())) for _ in range(4)]\n",
    "rst, Max = 0, 0\n",
    "\n",
    "def bfs(y, x):\n",
    "    global rst\n",
    "    q = deque()\n",
    "    q.append((y, x))\n",
    "    while q:\n",
    "        nowy, nowx = q.popleft()\n",
    "        directy = [-1, 1, 0, 0]\n",
    "        directx = [0, 0, -1, 1]\n",
    "        for i in range(4):\n",
    "            dy = nowy + directy[i]\n",
    "            dx = nowx + directx[i]\n",
    "            if 0 <= dx < 4 and 0 <= dy < 4:\n",
    "                if arr[dy][dx] == 0:\n",
    "                    continue\n",
    "                arr[dy][dx] = 0\n",
    "                rst += 1\n",
    "                q.append((dy, dx))\n",
    "    \n",
    "for i in range(4):\n",
    "    for j in range(4):\n",
    "        if arr[i][j] == 1:\n",
    "            arr[i][j] = 0\n",
    "            rst = 1\n",
    "            bfs(i, j)\n",
    "            if rst > Max:\n",
    "                Max = rst\n",
    "print(Max)"
   ]
  },
  {
   "cell_type": "code",
   "execution_count": 18,
   "id": "d21bb4d4",
   "metadata": {},
   "outputs": [
    {
     "name": "stdout",
     "output_type": "stream",
     "text": [
      "0 0 0 0 0 0 0 0\n",
      "0 1 0 1 0 1 1 1\n",
      "0 1 1 1 0 0 1 1\n",
      "0 0 0 0 0 1 0 0\n",
      "0 1 1 1 1 1 0 0 \n",
      "3\n"
     ]
    }
   ],
   "source": [
    "# 민코딩 심화반2 Level 41 - 문제 5번 : 섬 찾아 삼만리\n",
    "\n",
    "from collections import deque\n",
    "arr = [list(map(int, input().split())) for _ in range(5)]\n",
    "rst = 0\n",
    "\n",
    "def bfs(y, x):\n",
    "    global rst\n",
    "    q = deque()\n",
    "    q.append((y, x))\n",
    "    while q:\n",
    "        nowy, nowx = q.popleft()\n",
    "        directy = [-1, 1, 0, 0]\n",
    "        directx = [0, 0, -1, 1]\n",
    "        for i in range(4):\n",
    "            dy = nowy + directy[i]\n",
    "            dx = nowx + directx[i]\n",
    "            if 0 <= dy < 5 and 0 <= dx < 8:\n",
    "                if arr[dy][dx] == 0:\n",
    "                    continue\n",
    "                arr[dy][dx] = 0\n",
    "                q. append((dy, dx))\n",
    "\n",
    "for i in range(5):\n",
    "    for j in range(8):\n",
    "        if arr[i][j] == 1:\n",
    "            arr[i][j] = 0\n",
    "            rst += 1\n",
    "            bfs(i, j)\n",
    "print(rst)"
   ]
  },
  {
   "cell_type": "code",
   "execution_count": 20,
   "id": "c707ffc7",
   "metadata": {},
   "outputs": [
    {
     "name": "stdout",
     "output_type": "stream",
     "text": [
      "0 0\n",
      "3 3\n",
      "6회\n"
     ]
    }
   ],
   "source": [
    "# 민코딩 심화반2 Level 42 - 문제 1번 : BFS로 미로찾기\n",
    "\n",
    "from collections import deque\n",
    "y1, x1 = map(int, input().split())\n",
    "y2, x2 = map(int, input().split())\n",
    "arr = [[0, 0, 0, 0], [1, 1, 0, 1], [0, 0, 0, 0], [1, 0, 1, 0]]\n",
    "def dfs(y, x, level):\n",
    "    q = deque()\n",
    "    q.append((y, x, level))\n",
    "    while q:\n",
    "        nowy, nowx, nowlevel = q.popleft()\n",
    "        directy = [-1, 1, 0, 0]\n",
    "        directx = [0, 0, -1, 1]\n",
    "        for i in range(4):\n",
    "            dx = nowx + directx[i]\n",
    "            dy = nowy + directy[i]\n",
    "            if 0 <= dy < 4 and 0 <= dx < 4:\n",
    "                if arr[dy][dx] != 0 and arr[dy][dx] < nowlevel+1:\n",
    "                    continue\n",
    "                arr[dy][dx] = nowlevel+1\n",
    "                q.append((dy, dx, nowlevel+1))\n",
    "dfs(y1, x1, 1)\n",
    "print(f\"{arr[y2][x2]-1}회\")"
   ]
  },
  {
   "cell_type": "code",
   "execution_count": 23,
   "id": "43e87828",
   "metadata": {},
   "outputs": [
    {
     "name": "stdout",
     "output_type": "stream",
     "text": [
      "2 0\n",
      "0 3\n",
      "9\n"
     ]
    }
   ],
   "source": [
    "# 민코딩 심화반2 Level 42 - 문제 2번 : 친구 만나러 가는길\n",
    "\n",
    "from collections import deque\n",
    "y1, x1 = map(int, input().split())\n",
    "n, m = map(int, input().split())\n",
    "arr = [[0, 0, 0, 0, 1], [1, 0, 1, 0, 0], [0, 0, 0, 0, 1]]\n",
    "def dfs(y, x, level):\n",
    "    q = deque()\n",
    "    q.append((y, x, level))\n",
    "    while q:\n",
    "        nowy, nowx, nowlevel = q.popleft()\n",
    "        directy = [-1, 1, 0, 0]\n",
    "        directx = [0, 0, -1, 1]\n",
    "        for i in range(4):\n",
    "            dy = nowy + directy[i]\n",
    "            dx = nowx + directx[i]\n",
    "            if 0 <= dy < 3 and 0 <= dx < 5:\n",
    "                if arr[dy][dx] != 0 and arr[dy][dx] < nowlevel+1:\n",
    "                    continue\n",
    "                arr[dy][dx] = nowlevel+1\n",
    "                q.append((dy, dx, nowlevel+1))\n",
    "dfs(0, 0, 1)\n",
    "a = arr[y1][x1] - 1\n",
    "arr = [[0, 0, 0, 0, 1], [1, 0, 1, 0, 0], [0, 0, 0, 0, 1]]\n",
    "dfs(y1, x1, 1)\n",
    "b = arr[n][m] -1\n",
    "print(a+b)"
   ]
  },
  {
   "cell_type": "code",
   "execution_count": 27,
   "id": "d4d32056",
   "metadata": {},
   "outputs": [
    {
     "name": "stdout",
     "output_type": "stream",
     "text": [
      "0 0 1 2 1 2\n",
      "1 0 0 0 0 1\n",
      "2 1 0 1 2 0\n",
      "2 0 0 0 1 0\n",
      "4\n"
     ]
    }
   ],
   "source": [
    "# 민코딩 심화반2 Level 42 - 문제 3번 : 고기가 좋아\n",
    "\n",
    "from collections import deque\n",
    "arr = [list(map(int, input().split())) for _ in range(4)]\n",
    "visit = [[0]*6 for _ in range(4)]\n",
    "rst = 0\n",
    "\n",
    "def dfs(y, x):\n",
    "    global rst\n",
    "    q = deque()\n",
    "    q.append((y, x))\n",
    "    while q:\n",
    "        nowy, nowx = q.popleft()\n",
    "        directy = [-1, 1, 0, 0]\n",
    "        directx = [0, 0, -1, 1]\n",
    "        for i in range(4):\n",
    "            dy = nowy + directy[i]\n",
    "            dx = nowx + directx[i]\n",
    "            if 0 <= dy < 4 and 0 <= dx < 6:\n",
    "                if arr[dy][dx] == 1:\n",
    "                    continue\n",
    "                if visit[dy][dx] == 1:\n",
    "                    continue\n",
    "                if arr[dy][dx] == 2:\n",
    "                    rst += 1\n",
    "                visit[dy][dx] = 1\n",
    "                q.append((dy, dx))\n",
    "                       \n",
    "dfs(0, 0)\n",
    "print(rst)"
   ]
  },
  {
   "cell_type": "code",
   "execution_count": 51,
   "id": "c0170d18",
   "metadata": {},
   "outputs": [
    {
     "name": "stdout",
     "output_type": "stream",
     "text": [
      "30002\n",
      "##4##\n",
      "01024\n",
      "15회\n"
     ]
    }
   ],
   "source": [
    "# 민코딩 심화반2 Level 42 - 문제 4번 : BFS 배달맨\n",
    "\n",
    "from collections import deque\n",
    "arr = [list(input()) for _ in range(3)]\n",
    "visit = [[0]*5 for _ in range(3)]\n",
    "lst = [[0, 0, 21e8] for _ in range(4)]\n",
    "\n",
    "def bfs(y, x, level, target):\n",
    "    q = deque()\n",
    "    q.append((y, x, level, target))\n",
    "    visit = [[0]*5 for _ in range(3)]\n",
    "    while q:\n",
    "        nowy, nowx, nowlevel, nowtarget = q.popleft()\n",
    "        directy = [-1, 1, 0, 0]\n",
    "        directx = [0, 0, -1, 1]\n",
    "        for i in range(4):\n",
    "            dy = nowy + directy[i]\n",
    "            dx = nowx + directx[i]\n",
    "            if 0 <= dy < 3 and 0 <= dx < 5:\n",
    "                if arr[dy][dx] == '#':\n",
    "                    continue\n",
    "                if visit[dy][dx] != 0 and visit[dy][dx] < nowlevel + 1:\n",
    "                    continue\n",
    "                visit[dy][dx] = nowlevel + 1\n",
    "                q.append((dy, dx, nowlevel+1, target))\n",
    "    for i in range(3):\n",
    "        for j in range(5):\n",
    "            if arr[i][j] == str(target):\n",
    "                if visit[i][j] - 1 < lst[target-1][2]:\n",
    "                    lst[target-1][2] = visit[i][j] - 1\n",
    "                    lst[target-1][0], lst[target-1][1] = i, j\n",
    "bfs(0, 0, 1, 1)\n",
    "bfs(lst[0][0], lst[0][1], 1, 2)\n",
    "bfs(lst[1][0], lst[1][1], 1, 3)\n",
    "bfs(lst[2][0], lst[2][1], 1, 4)\n",
    "ans = 0\n",
    "for i in range(4):\n",
    "    ans += lst[i][2]\n",
    "print(f\"{ans}회\")"
   ]
  },
  {
   "cell_type": "code",
   "execution_count": 13,
   "id": "136aa8bc",
   "metadata": {},
   "outputs": [
    {
     "name": "stdout",
     "output_type": "stream",
     "text": [
      "0 1 2 1 4 8 3 1 3\n",
      "2 3 2 3 4 2 3 1 3\n",
      "2 2 2 3 4 3 4 3 3\n",
      "0 2 1 3 4 2 1 3 2 \n",
      "14\n"
     ]
    }
   ],
   "source": [
    "# 민코딩 심화반2 Level 43 - 문제 1번 : 여왕벌의 알집\n",
    "\n",
    "from collections import deque\n",
    "arr = [list(map(int, input().split())) for _ in range(4)]\n",
    "rst, ans, Max, n = 0, 0, 0, 0\n",
    "def bfs(y, x, level):\n",
    "    global rst, ans, Max, n\n",
    "    q = deque()\n",
    "    q.append((y, x, level))\n",
    "    visit = [[0]*9 for _ in range(4)]\n",
    "    while q:\n",
    "        nowy, nowx, nowlevel = q.popleft()\n",
    "        directy = [-1, 1, 0, 0]\n",
    "        directx = [0, 0, -1, 1]\n",
    "        for i in range(4):\n",
    "            dy = nowy + directy[i]\n",
    "            dx = nowx + directx[i]\n",
    "            if 0 <= dy < 4 and 0 <= dx < 9:\n",
    "                if visit[dy][dx] != 0:\n",
    "                    continue\n",
    "                if arr[dy][dx] != nowlevel:\n",
    "                    continue\n",
    "                visit[dy][dx] = 1\n",
    "                q.append((dy, dx, nowlevel))\n",
    "        rst = 0\n",
    "        for i in range(4):\n",
    "            for j in range(9): \n",
    "                if visit[i][j] == 1:\n",
    "                    rst += 1\n",
    "                    ans = arr[i][j]\n",
    "        if rst > Max:\n",
    "            Max = rst\n",
    "            n = ans\n",
    "for i in range(4):\n",
    "    for j in range(9):\n",
    "        bfs(i, j, arr[i][j])\n",
    "print(n*Max)"
   ]
  }
 ],
 "metadata": {
  "kernelspec": {
   "display_name": "Python 3 (ipykernel)",
   "language": "python",
   "name": "python3"
  },
  "language_info": {
   "codemirror_mode": {
    "name": "ipython",
    "version": 3
   },
   "file_extension": ".py",
   "mimetype": "text/x-python",
   "name": "python",
   "nbconvert_exporter": "python",
   "pygments_lexer": "ipython3",
   "version": "3.10.1"
  },
  "toc": {
   "base_numbering": 1,
   "nav_menu": {},
   "number_sections": true,
   "sideBar": true,
   "skip_h1_title": false,
   "title_cell": "Table of Contents",
   "title_sidebar": "Contents",
   "toc_cell": false,
   "toc_position": {},
   "toc_section_display": true,
   "toc_window_display": false
  }
 },
 "nbformat": 4,
 "nbformat_minor": 5
}
