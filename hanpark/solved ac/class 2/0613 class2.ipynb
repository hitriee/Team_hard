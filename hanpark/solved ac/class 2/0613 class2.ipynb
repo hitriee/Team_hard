{
 "cells": [
  {
   "cell_type": "code",
   "execution_count": 9,
   "id": "26c4a70c",
   "metadata": {},
   "outputs": [
    {
     "name": "stdout",
     "output_type": "stream",
     "text": [
      "8 900\n",
      "0 10 9\n",
      "20 60 45\n",
      "80 190 100\n",
      "50 70 15\n",
      "160 180 14\n",
      "140 160 14\n",
      "420 901 5\n",
      "450 900 0\n",
      "432\n"
     ]
    }
   ],
   "source": [
    "# 백준 지름길 1446\n",
    "\n",
    "from collections import deque\n",
    "\n",
    "q = deque()\n",
    "n, d = map(int, input().split())\n",
    "arr = [list(map(int, input().split())) for _ in range(n)]\n",
    "arr.sort(key=lambda x:x[0])\n",
    "for i in range(n):\n",
    "    q.append(arr[i])\n",
    "rst = 21e8\n",
    "check = [rst for _ in range(d+1)]\n",
    "check[0] = 0\n",
    "for i in range(d):\n",
    "    while q and q[0][0] == i:\n",
    "        ans = q.popleft()\n",
    "        if ans[1] > d:\n",
    "            continue\n",
    "        if check[ans[1]] > check[i]+ans[2]:\n",
    "            check[ans[1]] = check[i]+ans[2]\n",
    "        else:\n",
    "            check[ans[1]] = check[ans[1]]\n",
    "    if check[i+1] > check[i]+1:\n",
    "        check[i+1] = check[i]+1\n",
    "print(check[d])"
   ]
  }
 ],
 "metadata": {
  "kernelspec": {
   "display_name": "Python 3 (ipykernel)",
   "language": "python",
   "name": "python3"
  },
  "language_info": {
   "codemirror_mode": {
    "name": "ipython",
    "version": 3
   },
   "file_extension": ".py",
   "mimetype": "text/x-python",
   "name": "python",
   "nbconvert_exporter": "python",
   "pygments_lexer": "ipython3",
   "version": "3.10.4"
  },
  "toc": {
   "base_numbering": 1,
   "nav_menu": {},
   "number_sections": true,
   "sideBar": true,
   "skip_h1_title": false,
   "title_cell": "Table of Contents",
   "title_sidebar": "Contents",
   "toc_cell": false,
   "toc_position": {},
   "toc_section_display": true,
   "toc_window_display": false
  }
 },
 "nbformat": 4,
 "nbformat_minor": 5
}
