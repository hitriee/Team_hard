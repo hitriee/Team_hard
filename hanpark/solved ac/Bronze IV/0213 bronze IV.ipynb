{
 "cells": [
  {
   "cell_type": "code",
   "execution_count": null,
   "id": "43b58f0d",
   "metadata": {},
   "outputs": [],
   "source": [
    "# 백준 브론즈 4 6764번\n",
    "\n",
    "rst = [int(input()) for _ in range(4)]\n",
    "R = 0\n",
    "for i in range(3):\n",
    "    if rst[i+1] > rst[i]:\n",
    "        R = R + 1\n",
    "    elif rst[i+1] < rst[i]:\n",
    "        R = R - 1\n",
    "\n",
    "if len(set(rst)) == 1: \n",
    "    print(\"Fish At Constant Depth\")\n",
    "elif R == 3:\n",
    "    print(\"Fish Rising\")\n",
    "elif R == -3:    \n",
    "    print(\"Fish Diving\")\n",
    "else:\n",
    "    print(\"No Fish\")"
   ]
  },
  {
   "cell_type": "code",
   "execution_count": null,
   "id": "f8a1c00c",
   "metadata": {},
   "outputs": [],
   "source": [
    "# 백준 브론즈 4 6778번\n",
    "\n",
    "a, b = int(input()), int(input())\n",
    "if a >= 3 and b <= 4:\n",
    "    print(\"TroyMartian\")\n",
    "if a <= 6 and b >= 2:\n",
    "    print(\"VladSaturnian\")\n",
    "if a <= 2 and b <= 3:\n",
    "    print(\"GraemeMercurian\")"
   ]
  },
  {
   "cell_type": "code",
   "execution_count": 1,
   "id": "fdcc6b19",
   "metadata": {},
   "outputs": [
    {
     "name": "stdout",
     "output_type": "stream",
     "text": [
      "9\n",
      "4\n",
      "8\n",
      "The 1-3-sum is  120\n"
     ]
    }
   ],
   "source": [
    "# 백준 브론즈 4 6810번\n",
    "\n",
    "a, b, c = int(input()), int(input()), int(input())\n",
    "print('The 1-3-sum is', 91+a+3*b+c)"
   ]
  },
  {
   "cell_type": "code",
   "execution_count": null,
   "id": "f67f9df7",
   "metadata": {},
   "outputs": [],
   "source": [
    "# 백준 브론즈 4 8674번\n",
    "\n",
    "a, b=map(int, input().split())\n",
    "if a%2==1 and b%2==1:\n",
    "    print(min(a,b))\n",
    "else:\n",
    "    print (0)"
   ]
  },
  {
   "cell_type": "code",
   "execution_count": null,
   "id": "fc052c24",
   "metadata": {},
   "outputs": [],
   "source": [
    "# 백준 브론즈 4 8710번\n",
    "\n",
    "a, b, c = map(int, input().split())\n",
    "d = b - a\n",
    "if d%c ==0:\n",
    "    print(d//c)\n",
    "else:\n",
    "    print(d//c +1)"
   ]
  }
 ],
 "metadata": {
  "kernelspec": {
   "display_name": "Python 3 (ipykernel)",
   "language": "python",
   "name": "python3"
  },
  "language_info": {
   "codemirror_mode": {
    "name": "ipython",
    "version": 3
   },
   "file_extension": ".py",
   "mimetype": "text/x-python",
   "name": "python",
   "nbconvert_exporter": "python",
   "pygments_lexer": "ipython3",
   "version": "3.10.1"
  },
  "toc": {
   "base_numbering": 1,
   "nav_menu": {},
   "number_sections": true,
   "sideBar": true,
   "skip_h1_title": false,
   "title_cell": "Table of Contents",
   "title_sidebar": "Contents",
   "toc_cell": false,
   "toc_position": {},
   "toc_section_display": true,
   "toc_window_display": false
  }
 },
 "nbformat": 4,
 "nbformat_minor": 5
}
