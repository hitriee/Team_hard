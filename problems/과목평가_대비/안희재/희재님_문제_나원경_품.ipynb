{
 "cells": [
  {
   "cell_type": "code",
   "execution_count": null,
   "id": "de4d8e58",
   "metadata": {},
   "outputs": [],
   "source": [
    "# 안희재님 문제"
   ]
  },
  {
   "cell_type": "code",
   "execution_count": null,
   "id": "320e6deb",
   "metadata": {},
   "outputs": [],
   "source": [
    "1,2번. List Slice\n",
    "다음의 코드를 print 한 결과를 작성하시오"
   ]
  },
  {
   "cell_type": "code",
   "execution_count": 6,
   "id": "54125f51",
   "metadata": {},
   "outputs": [],
   "source": [
    "aList = [1,2,3,4,5,6,7,8,9,10]\n",
    "# 참고 : a[10]은 IndexError\n",
    "# (1)aList[2:10]"
   ]
  },
  {
   "cell_type": "code",
   "execution_count": null,
   "id": "2f479778",
   "metadata": {},
   "outputs": [],
   "source": [
    "정답 : [3, 4, 5, 6, 7, 8, 9, 10]"
   ]
  },
  {
   "cell_type": "code",
   "execution_count": 4,
   "id": "e90d28ed",
   "metadata": {},
   "outputs": [
    {
     "data": {
      "text/plain": [
       "[3, 4, 5, 6, 7, 8, 9, 10]"
      ]
     },
     "execution_count": 4,
     "metadata": {},
     "output_type": "execute_result"
    }
   ],
   "source": [
    "aList[2:12]"
   ]
  },
  {
   "cell_type": "code",
   "execution_count": null,
   "id": "3b87a78b",
   "metadata": {},
   "outputs": [],
   "source": [
    "정답 : IndexError"
   ]
  },
  {
   "cell_type": "code",
   "execution_count": null,
   "id": "d3564f6e",
   "metadata": {},
   "outputs": [],
   "source": [
    "(2)aList[:5]"
   ]
  },
  {
   "cell_type": "code",
   "execution_count": null,
   "id": "e8b80345",
   "metadata": {},
   "outputs": [],
   "source": [
    "정답 : [1, 2, 3, 4, 5]"
   ]
  },
  {
   "cell_type": "code",
   "execution_count": null,
   "id": "bef6fe31",
   "metadata": {},
   "outputs": [],
   "source": [
    "(3)aList[5:]"
   ]
  },
  {
   "cell_type": "code",
   "execution_count": null,
   "id": "c7016690",
   "metadata": {},
   "outputs": [],
   "source": [
    "정답 : [6, 7, 8, 9, 10]"
   ]
  },
  {
   "cell_type": "code",
   "execution_count": 8,
   "id": "36abdf87",
   "metadata": {},
   "outputs": [
    {
     "data": {
      "text/plain": [
       "[1, 3, 5, 7]"
      ]
     },
     "execution_count": 8,
     "metadata": {},
     "output_type": "execute_result"
    }
   ],
   "source": [
    "aList[0:8:2]"
   ]
  },
  {
   "cell_type": "code",
   "execution_count": null,
   "id": "62381918",
   "metadata": {},
   "outputs": [],
   "source": [
    "정답 : [1, 3, 4, 6, 8]"
   ]
  },
  {
   "cell_type": "code",
   "execution_count": 10,
   "id": "45b6eb52",
   "metadata": {},
   "outputs": [
    {
     "data": {
      "text/plain": [
       "[1, 3, 5, 7]"
      ]
     },
     "execution_count": 10,
     "metadata": {},
     "output_type": "execute_result"
    }
   ],
   "source": [
    "aList[:8:2]"
   ]
  },
  {
   "cell_type": "code",
   "execution_count": null,
   "id": "9d2d6df5",
   "metadata": {},
   "outputs": [],
   "source": [
    "정답 : [1, 3, 4, 6, 8]"
   ]
  },
  {
   "cell_type": "code",
   "execution_count": null,
   "id": "5aaed713",
   "metadata": {},
   "outputs": [],
   "source": [
    "(6)aList[::2]"
   ]
  },
  {
   "cell_type": "code",
   "execution_count": null,
   "id": "b1f81aef",
   "metadata": {},
   "outputs": [],
   "source": [
    "정답 : [1, 3, 4, 6, 8, 10]"
   ]
  },
  {
   "cell_type": "code",
   "execution_count": null,
   "id": "39c78f94",
   "metadata": {},
   "outputs": [],
   "source": [
    "(7)aList[5::2]"
   ]
  },
  {
   "cell_type": "code",
   "execution_count": null,
   "id": "0db97817",
   "metadata": {},
   "outputs": [],
   "source": [
    "정답 : [6, 8, 10]"
   ]
  },
  {
   "cell_type": "code",
   "execution_count": null,
   "id": "bb31d42d",
   "metadata": {},
   "outputs": [],
   "source": [
    "(8)aList[:]"
   ]
  },
  {
   "cell_type": "code",
   "execution_count": null,
   "id": "1f495b25",
   "metadata": {},
   "outputs": [],
   "source": [
    "정답 : [1,2,3,4,5,6,7,8,9,10]"
   ]
  },
  {
   "cell_type": "code",
   "execution_count": null,
   "id": "407a2075",
   "metadata": {},
   "outputs": [],
   "source": [
    "(9)aList[2:2]"
   ]
  },
  {
   "cell_type": "code",
   "execution_count": null,
   "id": "5e10f9fa",
   "metadata": {},
   "outputs": [],
   "source": [
    "정답 : None"
   ]
  },
  {
   "cell_type": "code",
   "execution_count": null,
   "id": "7e9099ab",
   "metadata": {},
   "outputs": [],
   "source": [
    "(10)aList[:-2]"
   ]
  },
  {
   "cell_type": "code",
   "execution_count": null,
   "id": "507aa21b",
   "metadata": {},
   "outputs": [],
   "source": [
    "정답 : [10, 8, 6, 4, 2]"
   ]
  },
  {
   "cell_type": "code",
   "execution_count": null,
   "id": "72a7ed45",
   "metadata": {},
   "outputs": [],
   "source": [
    "(11)aList[-4:]"
   ]
  },
  {
   "cell_type": "code",
   "execution_count": null,
   "id": "ec91e791",
   "metadata": {},
   "outputs": [],
   "source": [
    "정답 : [7, 6, 5, 4, 3, 2, 1]"
   ]
  },
  {
   "cell_type": "code",
   "execution_count": null,
   "id": "5b0b2683",
   "metadata": {},
   "outputs": [],
   "source": [
    "(12)aList[::-1]"
   ]
  },
  {
   "cell_type": "code",
   "execution_count": null,
   "id": "118428e9",
   "metadata": {},
   "outputs": [],
   "source": [
    "정답 : [10, 9, 8, 7, 6, 5, 4, 3, 2, 1]"
   ]
  },
  {
   "cell_type": "code",
   "execution_count": null,
   "id": "9c9298b4",
   "metadata": {},
   "outputs": [],
   "source": [
    "(13)aList[::-2]"
   ]
  },
  {
   "cell_type": "code",
   "execution_count": null,
   "id": "ea314b5f",
   "metadata": {},
   "outputs": [],
   "source": [
    "정답 : [10, 8, 6, 4, 2]"
   ]
  },
  {
   "cell_type": "code",
   "execution_count": null,
   "id": "f394137e",
   "metadata": {},
   "outputs": [],
   "source": [
    "(14)aList[::-3]"
   ]
  },
  {
   "cell_type": "code",
   "execution_count": null,
   "id": "d24acaf4",
   "metadata": {},
   "outputs": [],
   "source": [
    "정답 : [10, 7, 4, 1]"
   ]
  },
  {
   "cell_type": "code",
   "execution_count": null,
   "id": "2c7086f2",
   "metadata": {},
   "outputs": [],
   "source": []
  },
  {
   "cell_type": "code",
   "execution_count": null,
   "id": "180c4838",
   "metadata": {},
   "outputs": [],
   "source": [
    "3번. 내장함수 - 줄맞춤\n",
    "다음의 코드를 print 한 결과를 작성하시오"
   ]
  },
  {
   "cell_type": "code",
   "execution_count": null,
   "id": "0667d089",
   "metadata": {},
   "outputs": [],
   "source": [
    "str = 'abc'\n",
    "(1)str.ljust(8, '+')"
   ]
  },
  {
   "cell_type": "code",
   "execution_count": null,
   "id": "73c961c4",
   "metadata": {},
   "outputs": [],
   "source": [
    "abc+++++"
   ]
  },
  {
   "cell_type": "code",
   "execution_count": null,
   "id": "ef425131",
   "metadata": {},
   "outputs": [],
   "source": [
    "(2)str.rjust(8, '+')\n"
   ]
  },
  {
   "cell_type": "code",
   "execution_count": null,
   "id": "d0cc1ca5",
   "metadata": {},
   "outputs": [],
   "source": [
    "+++++abc"
   ]
  },
  {
   "cell_type": "code",
   "execution_count": null,
   "id": "a6b788ce",
   "metadata": {},
   "outputs": [],
   "source": [
    "(3)str.rjust(8, 'lm') # hint: 에러가 날까 안날까?\n"
   ]
  },
  {
   "cell_type": "code",
   "execution_count": null,
   "id": "a1fae419",
   "metadata": {},
   "outputs": [],
   "source": [
    "오류"
   ]
  },
  {
   "cell_type": "code",
   "execution_count": null,
   "id": "617aca22",
   "metadata": {},
   "outputs": [],
   "source": [
    "(4)str.center(9, '+')"
   ]
  },
  {
   "cell_type": "code",
   "execution_count": null,
   "id": "f94c5c14",
   "metadata": {},
   "outputs": [],
   "source": [
    "+++abc+++"
   ]
  },
  {
   "cell_type": "code",
   "execution_count": null,
   "id": "d35e037e",
   "metadata": {},
   "outputs": [],
   "source": [
    "str2 = '-123'\n",
    "(5)str2.rjust(8, '0')\n"
   ]
  },
  {
   "cell_type": "code",
   "execution_count": null,
   "id": "f28f6e91",
   "metadata": {},
   "outputs": [],
   "source": [
    "0000-123"
   ]
  },
  {
   "cell_type": "code",
   "execution_count": null,
   "id": "7c4a1100",
   "metadata": {},
   "outputs": [],
   "source": [
    "(5-2)str2.zfill(8)) # 보너스 문제\n",
    "# 답: -0000123\n",
    "# 오.른.쪽 정렬을 하면서 0을 채워주는 메서드로 zfill() 이 있다\n",
    "# rjust() 와 zfill() 메서드 차이점은 + - 기호를 포함해서 인식하는지 차이가 있다\n",
    "# 금액 표시같은 경우에는 zfill()를 사용하지만 우편번호나 전화번호등,\n",
    "# 문자열 그대로 사용하고 싶은 경우에는 rjust()를 사용하는 것이 좋다"
   ]
  },
  {
   "cell_type": "code",
   "execution_count": null,
   "id": "e25b6dad",
   "metadata": {},
   "outputs": [],
   "source": [
    "4번. 논리 연산자\n",
    "다음의 코드를 print 한 결과를 작성하시오\n",
    "(1)a = 5 and 4\n",
    "(2)b = 5 or 3\n",
    "(3)c = 0 and 5\n",
    "(4)d = 5 or 0\n",
    "(5)e = 0 or 1\n",
    "(6)f = '' or 2"
   ]
  },
  {
   "cell_type": "code",
   "execution_count": null,
   "id": "cb553137",
   "metadata": {},
   "outputs": [],
   "source": [
    "정답 :\n",
    "1. 4\n",
    "2. 5\n",
    "3. 0\n",
    "4. 5\n",
    "5. 1\n",
    "6. 2"
   ]
  },
  {
   "cell_type": "code",
   "execution_count": null,
   "id": "8e0f2a6e",
   "metadata": {},
   "outputs": [],
   "source": [
    "5번. Global , Local 변수\n",
    "다음 중, 에러가 발생하는 코드를 모두 고르시오"
   ]
  },
  {
   "cell_type": "code",
   "execution_count": null,
   "id": "12b92b3b",
   "metadata": {},
   "outputs": [],
   "source": [
    "# (1)\n",
    "a = 10\n",
    "def func1()\n",
    "global a\n",
    "a = 3\n",
    "print(a)\n",
    "func1()\n",
    "print(a)\n",
    "----------------------------------------\n",
    "# (2)\n",
    "a = 10\n",
    "def func1():\n",
    "print(a)\n",
    "global a\n",
    "a = 3\n",
    "print(a)\n",
    "func1()\n",
    "print(a)\n",
    "----------------------------------------\n",
    "# (3)\n",
    "a = 10\n",
    "def func1():\n",
    "global a\n",
    "a = 3\n",
    "print(a)\n",
    "func1(3)\n",
    "print(a)\n",
    "----------------------------------------\n",
    "# (4)\n",
    "def ham():\n",
    "a = 'spam'\n",
    "return a\n",
    "ham()\n",
    "print(a)"
   ]
  },
  {
   "cell_type": "code",
   "execution_count": null,
   "id": "df5689a1",
   "metadata": {},
   "outputs": [],
   "source": [
    "정답 : 2, 4"
   ]
  },
  {
   "cell_type": "code",
   "execution_count": null,
   "id": "1febcced",
   "metadata": {},
   "outputs": [],
   "source": []
  },
  {
   "cell_type": "code",
   "execution_count": null,
   "id": "ffa10b1d",
   "metadata": {},
   "outputs": [],
   "source": [
    "6번. Positional, Keyword Packing\n",
    "다음의 코드를 print 한 결과를 작성하시오"
   ]
  },
  {
   "cell_type": "code",
   "execution_count": null,
   "id": "0536235f",
   "metadata": {},
   "outputs": [],
   "source": [
    "(1)\n",
    "def add(*args):\n",
    "    print(args, type(args))\n",
    "\n",
    "print(add(1, 2, 3))\n",
    "print(add(1))\n"
   ]
  },
  {
   "cell_type": "code",
   "execution_count": null,
   "id": "160aab95",
   "metadata": {},
   "outputs": [],
   "source": [
    "(1, 2, 3) tuple\n",
    "1 int"
   ]
  },
  {
   "cell_type": "code",
   "execution_count": null,
   "id": "25b45c8e",
   "metadata": {},
   "outputs": [],
   "source": [
    "(2)\n",
    "def family(**kwargs):\n",
    "    print(kwargs, type(kwargs))\n",
    "    \n",
    "family(father = '고길동', son='둘리')"
   ]
  },
  {
   "cell_type": "code",
   "execution_count": null,
   "id": "478c8507",
   "metadata": {},
   "outputs": [],
   "source": [
    "{'father':'고길동', 'son':'둘리'} dictionary"
   ]
  },
  {
   "cell_type": "code",
   "execution_count": null,
   "id": "526c663f",
   "metadata": {},
   "outputs": [],
   "source": [
    "7번. Join메서드에 대한 이해\n",
    "다음의 코드를 print 한 결과를 작성하시오"
   ]
  },
  {
   "cell_type": "code",
   "execution_count": null,
   "id": "e4e964e9",
   "metadata": {},
   "outputs": [],
   "source": [
    "numbers = [1,2,3]\n",
    "words = ['안녕', 'hello']\n",
    "(1)'!'.join('ssafy')\n",
    "(2)' '.join(['3', '5'])\n",
    "(3)numbers.join(' ')\n",
    "(4)' '.join(numbers)\n",
    "(5)words[0].join(words[1])\n",
    "(6)\"\".join(words)"
   ]
  },
  {
   "cell_type": "code",
   "execution_count": null,
   "id": "eed45860",
   "metadata": {},
   "outputs": [],
   "source": [
    "정답 :\n",
    "    1. s!s!a!f!y\n",
    "    2. 3 5\n",
    "    3. 오류\n",
    "    4. n u m b e r s\n",
    "    5. 오류\n",
    "    6. words\n",
    "    "
   ]
  },
  {
   "cell_type": "code",
   "execution_count": null,
   "id": "4b74a159",
   "metadata": {},
   "outputs": [],
   "source": [
    "8번. 얕은 복사, 깊은 복사\n",
    "다음의 코드를 print 한 결과를 작성하시오"
   ]
  },
  {
   "cell_type": "code",
   "execution_count": null,
   "id": "279b43b8",
   "metadata": {},
   "outputs": [],
   "source": [
    "(1)할당\n",
    "original_list = [1, 2, 3]\n",
    "copy_list = original_list\n",
    "copy_list[0] = 'hello'\n",
    "print(original_list == copy_list)"
   ]
  },
  {
   "cell_type": "code",
   "execution_count": null,
   "id": "fd37b72b",
   "metadata": {},
   "outputs": [],
   "source": [
    "True"
   ]
  },
  {
   "cell_type": "code",
   "execution_count": null,
   "id": "19676f96",
   "metadata": {},
   "outputs": [],
   "source": [
    "(2)얕은 복사1\n",
    "a = [1, 2, ['a', 'b']]\n",
    "b = a[:]\n",
    "print(a, b)\n",
    "b[2][0] = 0\n",
    "print(a, b)"
   ]
  },
  {
   "cell_type": "code",
   "execution_count": null,
   "id": "77d098ce",
   "metadata": {},
   "outputs": [],
   "source": [
    "[1, 2, ['a', 'b']] [1, 2, ['a', 'b']]\n",
    "[1, 2, [0, 'b']] [1, 2, [0, 'b']]"
   ]
  },
  {
   "cell_type": "code",
   "execution_count": null,
   "id": "aa40ebd9",
   "metadata": {},
   "outputs": [],
   "source": [
    "(3)얕은 복사2\n",
    "original_list = [1, 2, [0, 1]]\n",
    "copy_list = original_list[:]\n",
    "copy_list[2] = 'h'\n",
    "print(copy_list, original_list)\n"
   ]
  },
  {
   "cell_type": "code",
   "execution_count": null,
   "id": "125b763a",
   "metadata": {},
   "outputs": [],
   "source": [
    "[1, 2, h] [1, 2, h]"
   ]
  },
  {
   "cell_type": "code",
   "execution_count": null,
   "id": "49278da1",
   "metadata": {},
   "outputs": [],
   "source": [
    "(4)얕은 복사3\n",
    "original_list = [1, 2, {'a': 'apple'}]\n",
    "copy_list = original_list[:]\n",
    "copy_list[2]['a'] = 'h'\n",
    "print(copy_list, original_list)"
   ]
  },
  {
   "cell_type": "code",
   "execution_count": null,
   "id": "1d5009f9",
   "metadata": {},
   "outputs": [],
   "source": [
    "[1, 2, {'a': 'h'}] [1, 2, {'a': 'h'}]"
   ]
  },
  {
   "cell_type": "code",
   "execution_count": null,
   "id": "75def125",
   "metadata": {},
   "outputs": [],
   "source": [
    "(5)깊은 복사\n",
    "import copy\n",
    "a = [1, 2, ['a', 'b']]\n",
    "b = copy.deepcopy(a)\n",
    "print(a, b)\n",
    "b[2][0] = 0\n",
    "print(a, b)"
   ]
  },
  {
   "cell_type": "code",
   "execution_count": null,
   "id": "e0be84dc",
   "metadata": {},
   "outputs": [],
   "source": [
    "[1, 2, ['a', 'b']] [1, 2, ['a', 'b']]\n",
    "[1, 2, ['a', 'b']] [1, 2, [0, 'b']]"
   ]
  },
  {
   "cell_type": "code",
   "execution_count": null,
   "id": "9360b772",
   "metadata": {},
   "outputs": [],
   "source": [
    "9번. 재귀기초(복습)\n",
    "다음의 코드를 print 한 결과를 작성하시오"
   ]
  },
  {
   "cell_type": "code",
   "execution_count": null,
   "id": "7551beb4",
   "metadata": {},
   "outputs": [],
   "source": [
    "(1)\n",
    "def bbq(level):\n",
    "    print(level)\n",
    "    if level == 2:\n",
    "    return\n",
    "    \n",
    "    bbq(level+1)\n",
    "    print(level)\n",
    "bbq(0)"
   ]
  },
  {
   "cell_type": "code",
   "execution_count": null,
   "id": "979ee44e",
   "metadata": {},
   "outputs": [],
   "source": [
    "0\n",
    "1\n",
    "2\n",
    "1\n",
    "0\n"
   ]
  },
  {
   "cell_type": "code",
   "execution_count": null,
   "id": "0e2e7c97",
   "metadata": {},
   "outputs": [],
   "source": [
    "(2)\n",
    "def bbq(level):\n",
    "    if level == 5:\n",
    "        print(level)\n",
    "        return\n",
    "    print(level)\n",
    "    bbq(level+1)\n",
    "    print(level)\n",
    "\n",
    "bbq(1)\n",
    "\n"
   ]
  },
  {
   "cell_type": "code",
   "execution_count": null,
   "id": "917ef0ba",
   "metadata": {},
   "outputs": [],
   "source": [
    "1\n",
    "2\n",
    "3\n",
    "4\n",
    "5\n",
    "4\n",
    "3\n",
    "2\n",
    "1"
   ]
  },
  {
   "cell_type": "code",
   "execution_count": null,
   "id": "6aed8aad",
   "metadata": {},
   "outputs": [],
   "source": [
    "(3)\n",
    "def bbq(level):\n",
    "    if level == 5:\n",
    "        print(level)\n",
    "        print(level)\n",
    "        return\n",
    "    print(level)\n",
    "    bbq(level+1)\n",
    "    print(level)\n",
    "bbq(1)"
   ]
  },
  {
   "cell_type": "code",
   "execution_count": null,
   "id": "2a9caa66",
   "metadata": {},
   "outputs": [],
   "source": [
    "1\n",
    "2\n",
    "3\n",
    "4\n",
    "5\n",
    "5\n",
    "4\n",
    "3\n",
    "2\n",
    "1"
   ]
  },
  {
   "cell_type": "code",
   "execution_count": null,
   "id": "6830a6a6",
   "metadata": {},
   "outputs": [],
   "source": [
    "10번. 상속관련 메서드 - Super()"
   ]
  },
  {
   "cell_type": "code",
   "execution_count": null,
   "id": "d1315c52",
   "metadata": {},
   "outputs": [],
   "source": [
    "name은 가져오고 싶고, age는 가져오기 싫을 때, Super()메서드를 사용할 수 있는가?\n",
    "사용할 수 없다"
   ]
  },
  {
   "cell_type": "code",
   "execution_count": null,
   "id": "aa396474",
   "metadata": {},
   "outputs": [],
   "source": [
    "아래 코드를 살펴보고, 에러가 뜨는지 안 뜨는지 답하시오."
   ]
  },
  {
   "cell_type": "code",
   "execution_count": null,
   "id": "1e005e48",
   "metadata": {},
   "outputs": [],
   "source": [
    "class Person:\n",
    "    def __init__(self, name, age, number, email):\n",
    "        self.name = name\n",
    "        self.age = age\n",
    "        self.number = number\n",
    "        self.email = email\n",
    "        \n",
    "class Student(Person):\n",
    "    def __init__(self, name, age, number, email, student_id):\n",
    "        super().__init__(name, number, email)\n",
    "        self.age = age\n",
    "        self.student_id = student_id"
   ]
  },
  {
   "cell_type": "code",
   "execution_count": null,
   "id": "778471d2",
   "metadata": {},
   "outputs": [],
   "source": [
    "에러가 뜬다."
   ]
  }
 ],
 "metadata": {
  "kernelspec": {
   "display_name": "Python 3 (ipykernel)",
   "language": "python",
   "name": "python3"
  },
  "language_info": {
   "codemirror_mode": {
    "name": "ipython",
    "version": 3
   },
   "file_extension": ".py",
   "mimetype": "text/x-python",
   "name": "python",
   "nbconvert_exporter": "python",
   "pygments_lexer": "ipython3",
   "version": "3.7.3"
  },
  "toc": {
   "base_numbering": 1,
   "nav_menu": {},
   "number_sections": true,
   "sideBar": true,
   "skip_h1_title": false,
   "title_cell": "Table of Contents",
   "title_sidebar": "Contents",
   "toc_cell": false,
   "toc_position": {},
   "toc_section_display": true,
   "toc_window_display": false
  }
 },
 "nbformat": 4,
 "nbformat_minor": 5
}
