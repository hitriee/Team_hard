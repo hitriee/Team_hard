{
 "cells": [
  {
   "cell_type": "code",
   "execution_count": 15,
   "id": "f87da7e8",
   "metadata": {},
   "outputs": [
    {
     "name": "stdout",
     "output_type": "stream",
     "text": [
      "[ first in ] ( first out ).\n",
      "yes\n",
      "([ (([( [ ] ) ( ) (( ))] )) ]).\n",
      "yes\n",
      "Half Moon tonight (At least it is better than no Moon at all].\n",
      "no\n",
      " .\n",
      "yes\n",
      ".\n"
     ]
    }
   ],
   "source": [
    "# 백준 class 2++ 4949 균형잡힌 세상\n",
    "\n",
    "while 1:\n",
    "    lst = list(input())\n",
    "    if lst == ['.']:\n",
    "        break\n",
    "    check = []\n",
    "    for i in range(len(lst)):\n",
    "        if lst[i] == '(' or lst[i] == '[':\n",
    "            check.append(lst[i])\n",
    "        elif lst[i] == ')':\n",
    "            if len(check) != 0 and check[-1] == '(':\n",
    "                check.pop()\n",
    "            else:\n",
    "                check.append(lst[i])\n",
    "                break\n",
    "        elif lst[i] == ']':\n",
    "            if len(check) != 0 and check[-1] == '[':\n",
    "                check.pop()\n",
    "            else:\n",
    "                check.append(lst[i])\n",
    "    if len(check) == 0:\n",
    "        print('yes')\n",
    "    else:\n",
    "        print('no')"
   ]
  }
 ],
 "metadata": {
  "kernelspec": {
   "display_name": "Python 3 (ipykernel)",
   "language": "python",
   "name": "python3"
  },
  "language_info": {
   "codemirror_mode": {
    "name": "ipython",
    "version": 3
   },
   "file_extension": ".py",
   "mimetype": "text/x-python",
   "name": "python",
   "nbconvert_exporter": "python",
   "pygments_lexer": "ipython3",
   "version": "3.10.4"
  },
  "toc": {
   "base_numbering": 1,
   "nav_menu": {},
   "number_sections": true,
   "sideBar": true,
   "skip_h1_title": false,
   "title_cell": "Table of Contents",
   "title_sidebar": "Contents",
   "toc_cell": false,
   "toc_position": {},
   "toc_section_display": true,
   "toc_window_display": false
  }
 },
 "nbformat": 4,
 "nbformat_minor": 5
}
