{
 "cells": [
  {
   "cell_type": "code",
   "execution_count": null,
   "id": "a9dd88c2",
   "metadata": {},
   "outputs": [],
   "source": [
    "# 오서준님 문제"
   ]
  },
  {
   "cell_type": "code",
   "execution_count": null,
   "id": "235138a0",
   "metadata": {},
   "outputs": [],
   "source": [
    "1. 상속 받은 메소드를 재정의하는 것을 뜻하는 용어는?"
   ]
  },
  {
   "cell_type": "code",
   "execution_count": null,
   "id": "8ffebd13",
   "metadata": {},
   "outputs": [],
   "source": [
    "정답 : 메소드 오버라이딩"
   ]
  },
  {
   "cell_type": "code",
   "execution_count": null,
   "id": "556916ea",
   "metadata": {},
   "outputs": [],
   "source": [
    "2. LEGB"
   ]
  },
  {
   "cell_type": "code",
   "execution_count": null,
   "id": "f19b9ff9",
   "metadata": {},
   "outputs": [],
   "source": [
    "3. 2번"
   ]
  },
  {
   "cell_type": "code",
   "execution_count": null,
   "id": "cbb82a06",
   "metadata": {},
   "outputs": [],
   "source": [
    "4. append와insert는 list에서 쓰인다. append는 값을 list의 맨끝에 추가하고 insert는 값을 추가하는 위치를 설정할 수 있다."
   ]
  },
  {
   "cell_type": "code",
   "execution_count": null,
   "id": "72792985",
   "metadata": {},
   "outputs": [],
   "source": [
    "5. None"
   ]
  },
  {
   "cell_type": "code",
   "execution_count": null,
   "id": "8e66a649",
   "metadata": {},
   "outputs": [],
   "source": [
    "6. 추상화, 상속, 캡슐화, 다형성"
   ]
  },
  {
   "cell_type": "code",
   "execution_count": null,
   "id": "e5e40e5f",
   "metadata": {},
   "outputs": [],
   "source": [
    "7. issubclass는 어떤 클래스가 다른 클래스의 서브클래스인지 판별하는 데 사용되고, issinstance는 서브클래스뿐이 아닌 인스턴스인지까지도 알 수 있다."
   ]
  },
  {
   "cell_type": "code",
   "execution_count": null,
   "id": "fad5f10c",
   "metadata": {},
   "outputs": [],
   "source": [
    "8. a, b = map(int, input().split())"
   ]
  },
  {
   "cell_type": "code",
   "execution_count": null,
   "id": "0d4e8c64",
   "metadata": {},
   "outputs": [],
   "source": [
    "9. sort"
   ]
  },
  {
   "cell_type": "code",
   "execution_count": null,
   "id": "082db94f",
   "metadata": {},
   "outputs": [],
   "source": [
    "10. copy"
   ]
  }
 ],
 "metadata": {
  "kernelspec": {
   "display_name": "Python 3 (ipykernel)",
   "language": "python",
   "name": "python3"
  },
  "language_info": {
   "codemirror_mode": {
    "name": "ipython",
    "version": 3
   },
   "file_extension": ".py",
   "mimetype": "text/x-python",
   "name": "python",
   "nbconvert_exporter": "python",
   "pygments_lexer": "ipython3",
   "version": "3.7.3"
  },
  "toc": {
   "base_numbering": 1,
   "nav_menu": {},
   "number_sections": true,
   "sideBar": true,
   "skip_h1_title": false,
   "title_cell": "Table of Contents",
   "title_sidebar": "Contents",
   "toc_cell": false,
   "toc_position": {},
   "toc_section_display": true,
   "toc_window_display": false
  }
 },
 "nbformat": 4,
 "nbformat_minor": 5
}
