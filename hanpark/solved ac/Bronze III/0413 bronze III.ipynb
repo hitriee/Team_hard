{
 "cells": [
  {
   "cell_type": "code",
   "execution_count": 2,
   "id": "6dea5e7a",
   "metadata": {},
   "outputs": [
    {
     "name": "stdout",
     "output_type": "stream",
     "text": [
      "120\n",
      "13\n",
      "5611\n",
      "15\n",
      "100\n",
      "14\n",
      "0\n"
     ]
    }
   ],
   "source": [
    "# 백준 브론즈3 1284번\n",
    "\n",
    "while 1:\n",
    "    n = int(input())\n",
    "    if n == 0:\n",
    "        break\n",
    "    a = str(n)\n",
    "    rst = len(a)+1\n",
    "    for i in range(len(a)):\n",
    "        if a[i] == '0':\n",
    "            rst += 4\n",
    "        elif a[i] == '1':\n",
    "            rst += 2\n",
    "        else:\n",
    "            rst += 3\n",
    "    print(rst)"
   ]
  },
  {
   "cell_type": "code",
   "execution_count": 8,
   "id": "2699e3f0",
   "metadata": {},
   "outputs": [
    {
     "name": "stdout",
     "output_type": "stream",
     "text": [
      "9\n",
      "1 2\n",
      "3 2\n",
      "1 2\n",
      "2 1\n",
      "2 1\n",
      "3 2\n",
      "1 3\n",
      "3 1\n",
      "1 2\n",
      "1\n"
     ]
    }
   ],
   "source": [
    "# 백준 브론즈3 1547번\n",
    "\n",
    "n = int(input())\n",
    "arr = [list(map(int, input().split())) for _ in range(n)]\n",
    "now = [0, 1, 0, 0]\n",
    "for i in range(n):\n",
    "    if now[arr[i][0]] == 1:\n",
    "        now[arr[i][0]] = 0\n",
    "        now[arr[i][1]] = 1\n",
    "    elif now[arr[i][1]] == 1:\n",
    "        now[arr[i][1]] = 0\n",
    "        now[arr[i][0]] = 1\n",
    "for i in range(4):\n",
    "    if now[i] == 1:\n",
    "        print(i)\n",
    "        break"
   ]
  }
 ],
 "metadata": {
  "kernelspec": {
   "display_name": "Python 3 (ipykernel)",
   "language": "python",
   "name": "python3"
  },
  "language_info": {
   "codemirror_mode": {
    "name": "ipython",
    "version": 3
   },
   "file_extension": ".py",
   "mimetype": "text/x-python",
   "name": "python",
   "nbconvert_exporter": "python",
   "pygments_lexer": "ipython3",
   "version": "3.10.1"
  },
  "toc": {
   "base_numbering": 1,
   "nav_menu": {},
   "number_sections": true,
   "sideBar": true,
   "skip_h1_title": false,
   "title_cell": "Table of Contents",
   "title_sidebar": "Contents",
   "toc_cell": false,
   "toc_position": {},
   "toc_section_display": true,
   "toc_window_display": false
  }
 },
 "nbformat": 4,
 "nbformat_minor": 5
}
