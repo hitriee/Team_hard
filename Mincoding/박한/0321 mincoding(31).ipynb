{
 "cells": [
  {
   "cell_type": "code",
   "execution_count": 8,
   "id": "d8f9fa27",
   "metadata": {
    "scrolled": true
   },
   "outputs": [
    {
     "name": "stdout",
     "output_type": "stream",
     "text": [
      "9\n",
      "7 2 4 3 2 1 1 9 2\n",
      "7\n"
     ]
    }
   ],
   "source": [
    "# 민코딩 심화반1 Level 31 - 문제 2번 : 가장 작은 영역 구하기\n",
    "\n",
    "n = int(input())\n",
    "lst = list(map(int, input().split()))\n",
    "summ = 0\n",
    "for i in range(4):\n",
    "    summ += lst[i]\n",
    "Min = summ\n",
    "for i in range(n-4):\n",
    "    summ += lst[i+4]\n",
    "    summ -= lst[i]\n",
    "    if summ < Min:\n",
    "        Min = summ\n",
    "print(Min)"
   ]
  },
  {
   "cell_type": "code",
   "execution_count": 11,
   "id": "660cc262",
   "metadata": {},
   "outputs": [
    {
     "name": "stdout",
     "output_type": "stream",
     "text": [
      "ABCDE\n",
      "QWERT\n",
      "ASDFG\n",
      "ZXCVB\n",
      "MAPOM\n",
      "no\n"
     ]
    }
   ],
   "source": [
    "# 민코딩 심화반1 Level 31 - 문제 4번 : 세로 줄 변경\n",
    "\n",
    "arr = [list(input()) for _ in range(5)]\n",
    "lst = ['']*5\n",
    "for i in range(5):\n",
    "    lst[i] = arr[i][3]\n",
    "    arr[i][3] = arr[i][1]\n",
    "    arr[i][1] = lst[i]\n",
    "rst = 0\n",
    "for i in range(5):\n",
    "    if arr[i] == ['M', 'A', 'P', 'O', 'M']:\n",
    "        print(\"yes\")\n",
    "        break\n",
    "    else:\n",
    "        rst += 1\n",
    "if rst == 5:\n",
    "    print(\"no\")"
   ]
  },
  {
   "cell_type": "code",
   "execution_count": 13,
   "id": "2fe67bdb",
   "metadata": {},
   "outputs": [
    {
     "name": "stdout",
     "output_type": "stream",
     "text": [
      "7\n",
      "HITS HI HITSM MUSIC SMU SIC USIC\n",
      "2\n"
     ]
    }
   ],
   "source": [
    "# 민코딩 심화반1 Level 31 - 문제 5번 : HITS MUSIC\n",
    "\n",
    "n = int(input())\n",
    "lst = list(input().split())\n",
    "rst = 0\n",
    "for i in range(n):\n",
    "    for j in range(i+1, n):\n",
    "        if lst[i] + lst[j] == 'HITSMUSIC':\n",
    "            rst += 1\n",
    "print(rst)"
   ]
  },
  {
   "cell_type": "code",
   "execution_count": 14,
   "id": "23e3e51d",
   "metadata": {},
   "outputs": [
    {
     "name": "stdout",
     "output_type": "stream",
     "text": [
      "3\n",
      "2\n"
     ]
    }
   ],
   "source": [
    "# 민코딩 심화반1 Level 31 - 문제 6번 : 버스 주차요금 저렴한 곳 찾기\n",
    "# (예전에 풀었던 문제)\n",
    "\n",
    "lst = [1, 2, 3, 3, 5, 1, 0, 1, 3]\n",
    "Min = 0\n",
    "sum = 0\n",
    "Minindex = 0\n",
    "n = int(input())\n",
    "m = 9\n",
    "for i in range(n):\n",
    "    sum += lst[i]\n",
    "Min = sum    \n",
    "for i in range(m-n+1):\n",
    "    if sum<Min:\n",
    "        Min=sum\n",
    "    if i==6:\n",
    "        break\n",
    "    sum+=lst[i+3]\n",
    "    sum-=lst[i]\n",
    "print(Min)"
   ]
  },
  {
   "cell_type": "code",
   "execution_count": 17,
   "id": "ac383fa4",
   "metadata": {},
   "outputs": [
    {
     "name": "stdout",
     "output_type": "stream",
     "text": [
      "7\n",
      "ABC\n",
      "B\n",
      "TTS\n",
      "FRIENDS\n",
      "TRUE\n",
      "LOVE\n",
      "MORETIM\n",
      "B\n",
      "ABC\n",
      "TTS\n",
      "LOVE\n",
      "TRUE\n",
      "FRIENDS\n",
      "MORETIM\n"
     ]
    }
   ],
   "source": [
    "# 민코딩 심화반1 Level 31 - 문제 7번 : 복합 사전정렬\n",
    "\n",
    "n = int(input())\n",
    "lst = [list(input()) for _ in range(n)]\n",
    "for i in range(n):\n",
    "    for j in range(i+1, n):\n",
    "        if len(lst[i]) > len(lst[j]):\n",
    "            lst[i], lst[j] = lst[j], lst[i]\n",
    "        elif len(lst[i]) == len(lst[j]):\n",
    "            if ord(lst[i][0]) > ord(lst[j][0]):\n",
    "                lst[i], lst[j] = lst[j], lst[i]\n",
    "            elif ord(lst[i][0]) == ord(lst[j][0]):\n",
    "                if ord(lst[i][1]) > ord(lst[j][1]):\n",
    "                    lst[i], lst[j] = lst[j], lst[i]\n",
    "for i in range(n):\n",
    "    for j in range(len(lst[i])):\n",
    "        print(lst[i][j], end=\"\")\n",
    "    print()"
   ]
  },
  {
   "cell_type": "code",
   "execution_count": 25,
   "id": "7161e9d9",
   "metadata": {},
   "outputs": [
    {
     "name": "stdout",
     "output_type": "stream",
     "text": [
      "123\n",
      "4\n",
      "8394\n"
     ]
    }
   ],
   "source": [
    "# 민코딩 심화반1 Level 31 - 문제 8번 : 숫자 부침개\n",
    "\n",
    "p = int(input())\n",
    "n = int(input())\n",
    "def abc(level, ans):\n",
    "    if level == n:\n",
    "        print(ans)\n",
    "        return\n",
    "    o = str(2*ans)\n",
    "    q = ''.join(reversed(o))\n",
    "    abc(level+1, int(q))\n",
    "abc(0, p)"
   ]
  }
 ],
 "metadata": {
  "kernelspec": {
   "display_name": "Python 3 (ipykernel)",
   "language": "python",
   "name": "python3"
  },
  "language_info": {
   "codemirror_mode": {
    "name": "ipython",
    "version": 3
   },
   "file_extension": ".py",
   "mimetype": "text/x-python",
   "name": "python",
   "nbconvert_exporter": "python",
   "pygments_lexer": "ipython3",
   "version": "3.10.1"
  },
  "toc": {
   "base_numbering": 1,
   "nav_menu": {},
   "number_sections": true,
   "sideBar": true,
   "skip_h1_title": false,
   "title_cell": "Table of Contents",
   "title_sidebar": "Contents",
   "toc_cell": false,
   "toc_position": {},
   "toc_section_display": true,
   "toc_window_display": false
  }
 },
 "nbformat": 4,
 "nbformat_minor": 5
}
