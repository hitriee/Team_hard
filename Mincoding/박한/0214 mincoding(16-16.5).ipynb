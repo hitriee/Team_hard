{
 "cells": [
  {
   "cell_type": "code",
   "execution_count": 12,
   "id": "ce3aa2a1",
   "metadata": {},
   "outputs": [
    {
     "name": "stdout",
     "output_type": "stream",
     "text": [
      "mincoding\n",
      "asdff\n",
      "asdfafaf\n",
      "gff\n"
     ]
    }
   ],
   "source": [
    "# 민코딩 훈련반1 Level 16 - 문제 1번\n",
    "\n",
    "lst = [list(map(str, input())) for _ in range(3)]\n",
    "ans = ''\n",
    "for i in range(len(lst)):\n",
    "    ans += lst[i][-1]\n",
    "print(ans)\n",
    "\n",
    "'''\n",
    "교수님 코드(C언어)\n",
    "\n",
    "#include<iostream>\n",
    "using namespace std; \n",
    "\n",
    "int main()\n",
    "{\n",
    "    char arr[3][10];\n",
    "\n",
    "    // 입력\n",
    "    for (int y = 0; y < 3; y++) {\n",
    "        cin >> arr[y];\n",
    "    }\n",
    "\n",
    "    for (int y = 0; y < 3; y++) \n",
    "        //각 문자열 마지막 인덱스 찾기\n",
    "        for (int x = 0; x < 10; x++) {\n",
    "            if (arr[y][x] == '\\0')\n",
    "            {\n",
    "                cout << arr[y][x - 1]; \n",
    "                break; \n",
    "            }\n",
    "    }\n",
    "    \n",
    "    return 0; \n",
    "}\n",
    "'''"
   ]
  },
  {
   "cell_type": "code",
   "execution_count": 16,
   "id": "cb65b918",
   "metadata": {},
   "outputs": [
    {
     "name": "stdout",
     "output_type": "stream",
     "text": [
      "B F\n",
      "6\n"
     ]
    }
   ],
   "source": [
    "# 민코딩 훈련반1 Level 16 - 문제 2번\n",
    "\n",
    "lst = [['A', 'B', 'K', 'T'], ['K', 'F', 'C', 'F'], ['B', 'B', 'Q', 'Q'], ['T', 'P', 'Z', 'F']]\n",
    "a, b = map(str, input().split())\n",
    "rst = 0\n",
    "for i in range(len(lst)):\n",
    "    for j in range(len(lst)):\n",
    "        if lst[i][j] == a:\n",
    "            rst += 1\n",
    "        if lst[i][j] == b:\n",
    "            rst += 1\n",
    "print(rst)\n",
    "\n",
    "'''\n",
    "교수님 코드(C언어)\n",
    "\n",
    "#include <iostream>\n",
    "using namespace std;\n",
    "\n",
    "int main()\n",
    "{\n",
    "\tchar arr[4][5] = { \"ABKT\", \"KFCF\", \"BBQQ\", \"TPZF\" };\n",
    "\tchar c1, c2;\n",
    "\tint count = 0;\n",
    "\tint x, y;\n",
    "\tcin >> c1 >> c2;\n",
    "\n",
    "\tfor (y = 0; y < 4; y++)\n",
    "\t{\n",
    "\t\tfor (x = 0; x < 4; x++)\n",
    "\t\t{\n",
    "\t\t\tif (arr[y][x] == c1 || arr[y][x] == c2)\n",
    "\t\t\t{\n",
    "\t\t\t\tcount++;\n",
    "\t\t\t}\n",
    "\t\t}\n",
    "\t}\n",
    "\n",
    "\tcout << count;\n",
    "\n",
    "\treturn 0;\n",
    "}\n",
    "'''"
   ]
  },
  {
   "cell_type": "code",
   "execution_count": 27,
   "id": "aa218b0f",
   "metadata": {},
   "outputs": [
    {
     "name": "stdout",
     "output_type": "stream",
     "text": [
      "showed\n",
      "2\n",
      "shAowed"
     ]
    }
   ],
   "source": [
    "# 민코딩 훈련반1 Level 16 - 문제 3번\n",
    "\n",
    "a = list(map(str, input()))\n",
    "b = int(input())\n",
    "c = ['']*(len(a)+1)\n",
    "for i in range(b):\n",
    "    c[i] = a[i]\n",
    "c[b] = 'A'\n",
    "for j in range(b, len(a)):\n",
    "    c[j+1] = a[j]\n",
    "for k in c:\n",
    "    print(k, end=\"\")\n",
    "'''\n",
    "교수님 코드(C언어)\n",
    "\n",
    "#include<iostream>\n",
    "using namespace std; \n",
    "\n",
    "int main()\n",
    "{\n",
    "\tchar arr[7]; \n",
    "\tcin >> arr; \n",
    "\n",
    "\tint index; \n",
    "\tcin >> index; \n",
    "\n",
    "\t// 널문자 찾기\n",
    "\tint t; \n",
    "\tfor (int i = 0; i < 6; i++) {\n",
    "\t\tif (arr[i] == '\\0') {\n",
    "\t\t\tt = i; \n",
    "\t\t\tbreak; \n",
    "\t\t}\n",
    "\t}\n",
    "\n",
    "\t// 널문자인덱스 ~ index 한칸씩 밀기\n",
    "\tfor (int i = t; i >= index; i--) {\n",
    "\t\tarr[i + 1] = arr[i]; \n",
    "\t}\n",
    "\n",
    "\t// index 에 A 넣기\n",
    "\tarr[index] = 'A';\n",
    "\n",
    "\tfor (int i = 0; i < t + 1; i++) {\n",
    "\t\tcout << arr[i]; \n",
    "\t}\n",
    "\n",
    "\treturn 0; \n",
    "}\n",
    "'''"
   ]
  },
  {
   "cell_type": "code",
   "execution_count": 31,
   "id": "963e720d",
   "metadata": {},
   "outputs": [
    {
     "name": "stdout",
     "output_type": "stream",
     "text": [
      "3 4 1 2\n",
      "5 3 8 9\n",
      "12 12 4 7 "
     ]
    }
   ],
   "source": [
    "# 민코딩 훈련반1 Level 16 - 문제 4번\n",
    "\n",
    "A = list(map(int, input().split()))\n",
    "B = list(map(int, input().split()))\n",
    "C = [0] * len(A)\n",
    "for i in range(len(A)):\n",
    "    C[i] = A[i] + B[len(A)-1-i]\n",
    "for j in C:\n",
    "    print(j, end=\" \")\n",
    "    \n",
    "'''\n",
    "강사님 코드(C언어)\n",
    "\n",
    "#include<iostream>\n",
    "using namespace std;\n",
    "\n",
    "int main()\n",
    "{\n",
    "\tint arrA[4];\n",
    "\tint arrB[4];\n",
    "\n",
    "\tfor (int i = 0; i < 4; i++) {\n",
    "\t\tcin >> arrA[i];\n",
    "\t}\n",
    "\tfor (int i = 0; i < 4; i++) {\n",
    "\t\tcin >> arrB[i];\n",
    "\t}\n",
    "\n",
    "\tint res[4];\n",
    "\n",
    "\tint t = 3; \n",
    "\tfor (int i = 0; i < 4; i++) {\n",
    "\t\tres[i] = arrA[i] + arrB[t];\n",
    "\t\tt--;\n",
    "\t}\n",
    "\n",
    "\tfor (int i = 0; i < 4; i++) {\n",
    "\t\tcout << res[i] << \" \";\n",
    "\t}\n",
    "\treturn 0;\n",
    "}\n",
    "'''"
   ]
  },
  {
   "cell_type": "code",
   "execution_count": 37,
   "id": "00d8e462",
   "metadata": {},
   "outputs": [
    {
     "name": "stdout",
     "output_type": "stream",
     "text": [
      "abcGdef\n",
      "3\n",
      "abcdef['a', 'b', 'c', 'G', 'd', 'e', 'f']\n"
     ]
    }
   ],
   "source": [
    "# 민코딩 훈련반1 Level 16 - 문제 5번\n",
    "\n",
    "A = list(map(str, input()))\n",
    "a = int(input())\n",
    "B = [''] * (len(A)-1)\n",
    "for i in range(a):\n",
    "    B[i] = A[i]\n",
    "for j in range(a, len(B)):\n",
    "    B[j] = A[j+1]\n",
    "for k in B:\n",
    "    print(k, end=\"\")"
   ]
  },
  {
   "cell_type": "code",
   "execution_count": 41,
   "id": "886d8239",
   "metadata": {},
   "outputs": [
    {
     "name": "stdout",
     "output_type": "stream",
     "text": [
      "3 4 1 4 2 6\n",
      "3 7 8 12 14 20 "
     ]
    }
   ],
   "source": [
    "# 민코딩 훈련반1 Level 16 - 문제 6번\n",
    "\n",
    "A = list(map(int, input().split()))\n",
    "for i in range(1,len(A)):\n",
    "    A[i] = A[i]+A[i-1]\n",
    "for j in A:\n",
    "    print(j, end=\" \")"
   ]
  },
  {
   "cell_type": "code",
   "execution_count": 51,
   "id": "8bed081e",
   "metadata": {},
   "outputs": [
    {
     "name": "stdout",
     "output_type": "stream",
     "text": [
      "MINCODING\n",
      "MBC\n",
      "WORLD\n",
      "M이 존재합니다\n"
     ]
    }
   ],
   "source": [
    "# 민코딩 훈련반1 Level 16 - 문제 7번\n",
    "\n",
    "lst = [list(map(str, input())) for _ in range(3)]\n",
    "rst = 0\n",
    "for i in range(len(lst)):\n",
    "    for j in range(len(lst[i])):\n",
    "        if lst[i][j] == 'M':\n",
    "            rst += 1\n",
    "if not rst:\n",
    "    print(\"M이 존재하지 않습니다\")\n",
    "else:\n",
    "    print(\"M이 존재합니다\")"
   ]
  },
  {
   "cell_type": "code",
   "execution_count": 57,
   "id": "041cfa66",
   "metadata": {},
   "outputs": [
    {
     "name": "stdout",
     "output_type": "stream",
     "text": [
      "2 5 3\n",
      "2 3 4 5 \n",
      "2 3 4 5 \n",
      "2 3 4 5 \n"
     ]
    }
   ],
   "source": [
    "# 민코딩 훈련반1 Level 16.5 - 문제 1번\n",
    "\n",
    "a, b, c = map(int, input().split())\n",
    "lst = ''\n",
    "for j in range(c):\n",
    "    for i in range(a, b+1):\n",
    "        print(i, end=\" \")\n",
    "    print()"
   ]
  },
  {
   "cell_type": "code",
   "execution_count": 117,
   "id": "750afaf3",
   "metadata": {},
   "outputs": [
    {
     "name": "stdout",
     "output_type": "stream",
     "text": [
      "0 2\n",
      "F\n"
     ]
    }
   ],
   "source": [
    "# 민코딩 훈련반1 Level 16.5 - 문제 2번\n",
    "\n",
    "x, y = list(map(int, input().split()))\n",
    "lst = [['']*3 for _ in range(6)]\n",
    "for i in range(2, -1, -1):\n",
    "    for j in range(5, -1, -1):\n",
    "        lst[j][i] = chr(ord('A')-6*i-j+17)\n",
    "print(lst[x][y])"
   ]
  },
  {
   "cell_type": "code",
   "execution_count": 91,
   "id": "1273e2c5",
   "metadata": {},
   "outputs": [
    {
     "name": "stdout",
     "output_type": "stream",
     "text": [
      "7 4 5 6 1 2\n",
      "(0,0)\n",
      "(1,1)\n"
     ]
    }
   ],
   "source": [
    "# 민코딩 훈련반1 Level 16.5 - 문제 3번\n",
    "\n",
    "lst = list(map(int, input().split()))\n",
    "def get_max(lst):\n",
    "    lst2 = lst\n",
    "    lst1 = [lst[:3], lst[3:]]\n",
    "    for i in range(len(lst1)):\n",
    "        for j in range(i+1, 6):\n",
    "            if lst[i] < lst[j]:\n",
    "                lst[i], lst[j] = lst[j], lst[i]\n",
    "    for a in range(2):\n",
    "        for b in range(3):\n",
    "            if lst1[a][b] == lst[0]:\n",
    "                print('({},{})'.format(a,b))\n",
    "    lst = lst2\n",
    "def get_min(lst):\n",
    "    lst2 = lst\n",
    "    lst1 = [lst[:3], lst[3:]]\n",
    "    for i in range(len(lst)):\n",
    "        for j in range(i+1, 6):\n",
    "            if lst[i] > lst[j]:\n",
    "                lst[i], lst[j] = lst[j], lst[i]\n",
    "    for a in range(2):\n",
    "        for b in range(3):\n",
    "            if lst1[a][b] == lst[0]:\n",
    "                print('({},{})'.format(a,b))\n",
    "    lst = lst2\n",
    "get_max(lst)\n",
    "get_min(lst)"
   ]
  },
  {
   "cell_type": "code",
   "execution_count": 93,
   "id": "f0b22bed",
   "metadata": {},
   "outputs": [
    {
     "name": "stdout",
     "output_type": "stream",
     "text": [
      "4 2\n",
      "2048\n"
     ]
    }
   ],
   "source": [
    "# 민코딩 훈련반1 Level 16.5 - 문제 4번\n",
    "\n",
    "lst = [0]*6\n",
    "lst[0], lst[1] = map(int,input().split())\n",
    "for i in range(len(lst)-2):\n",
    "    lst[i+2] = lst[i]*lst[i+1]\n",
    "print(lst[-1])"
   ]
  },
  {
   "cell_type": "code",
   "execution_count": 107,
   "id": "e9fa3492",
   "metadata": {},
   "outputs": [
    {
     "name": "stdout",
     "output_type": "stream",
     "text": [
      "goodbook\n",
      "o\n",
      "z\n",
      "gzzdbzzk"
     ]
    }
   ],
   "source": [
    "# 민코딩 훈련반1 Level 16.5 - 문제 5번\n",
    "\n",
    "lst = list(map(str, input()))\n",
    "a, b = [input() for _ in range(2)]\n",
    "for i in range(len(lst)):\n",
    "    if lst[i] == a:\n",
    "        lst[i] = b\n",
    "for j in lst:\n",
    "    print(j, end=\"\")"
   ]
  },
  {
   "cell_type": "code",
   "execution_count": 200,
   "id": "7eee5418",
   "metadata": {},
   "outputs": [
    {
     "name": "stdout",
     "output_type": "stream",
     "text": [
      "FEBIZ\n",
      "4\n",
      "2\n"
     ]
    },
    {
     "data": {
      "text/plain": [
       "'\\nfor i in range(len(lst)):\\n    lst1 = lst\\n    for j in range(i+1, len(lst1)):\\n        if ord(lst1[i]) > ord(lst1[j]):\\n            lst1[i], lst1[j] = lst1[j], lst1[i]\\nprint(lst)\\n'"
      ]
     },
     "execution_count": 200,
     "metadata": {},
     "output_type": "execute_result"
    }
   ],
   "source": [
    "# 민코딩 훈련반1 Level 16.5 - 문제 6번\n",
    "\n",
    "lst = list(map(str, input()))\n",
    "lst1 = ([''] * len(lst))\n",
    "for i in range(len(lst)):\n",
    "    lst1[i] = lst[i]\n",
    "for a in range(len(lst1)):\n",
    "    for b in range(a+1, len(lst1)):\n",
    "        if ord(lst1[a]) > ord(lst1[b]):\n",
    "            lst1[a], lst1[b] = lst1[b], lst1[a]\n",
    "for j in range(len(lst)):\n",
    "    if lst[j] == lst1[-1]:\n",
    "        print(j)\n",
    "for k in range(len(lst)):\n",
    "    if lst[k] == lst1[0]:\n",
    "        print(k)"
   ]
  },
  {
   "cell_type": "code",
   "execution_count": 140,
   "id": "efb6a9f4",
   "metadata": {},
   "outputs": [
    {
     "name": "stdout",
     "output_type": "stream",
     "text": [
      "1 2 5\n",
      "1 2 3 4 \n",
      "0 0 0 0 \n",
      "0 0 0 0 \n",
      "13 14 15 16 \n",
      "17 18 19 20 \n",
      "0 0 0 0 \n",
      "25 26 27 28 \n"
     ]
    }
   ],
   "source": [
    "# 민코딩 훈련반1 Level 16.5 - 문제 7번\n",
    "\n",
    "lst = [[0] * 4 for _ in range(7)]\n",
    "for i in range(7):\n",
    "    for j in range(4):\n",
    "        lst[i][j] = 4*i + j + 1\n",
    "a, b, c = map(int, input().split())\n",
    "for k in range(4):\n",
    "    lst[a][k] = 0\n",
    "    lst[b][k] = 0\n",
    "    lst[c][k] = 0\n",
    "for m in range(7):\n",
    "    for n in range(4):\n",
    "        print(lst[m][n], end=\" \")\n",
    "    print()"
   ]
  },
  {
   "cell_type": "code",
   "execution_count": 155,
   "id": "4d9ba3fa",
   "metadata": {},
   "outputs": [
    {
     "name": "stdout",
     "output_type": "stream",
     "text": [
      "A Z\n",
      "A : 존재\n",
      "Z : 없음\n"
     ]
    }
   ],
   "source": [
    "# 민코딩 훈련반1 Level 16.5 - 문제 8번\n",
    "\n",
    "sentence = [['A', 7, 9, 'T', 'K', 'Q'], ['M', 'I', 'N', 'C', 'O', 'D']]\n",
    "a, b = map(str, input().split())\n",
    "def get_res(a):\n",
    "    rst = 0\n",
    "    for i in range(2):\n",
    "        for j in range(6):\n",
    "            if sentence[i][j] == a:\n",
    "                rst += 1\n",
    "    if rst:\n",
    "        print('{} : 존재'.format(a))\n",
    "    else:\n",
    "        print('{} : 없음'.format(a))\n",
    "get_res(a)\n",
    "get_res(b)"
   ]
  },
  {
   "cell_type": "code",
   "execution_count": 170,
   "id": "8a283b17",
   "metadata": {},
   "outputs": [
    {
     "name": "stdout",
     "output_type": "stream",
     "text": [
      "3 5 B\n",
      "BBBBB\n",
      "BBBBB\n",
      "BBBBB\n",
      "\n",
      "BBBBB\n",
      "BBBBB\n",
      "BBBBB\n"
     ]
    }
   ],
   "source": [
    "# 민코딩 훈련반1 Level 16.5 - 문제 9번\n",
    "\n",
    "a, b, c = map(str, input().split())\n",
    "for m in range(2):\n",
    "    for i in range(int(a)):\n",
    "        for j in range(int(b)):\n",
    "            print(c, end=\"\")\n",
    "        print()\n",
    "    if m==0:\n",
    "        print()"
   ]
  }
 ],
 "metadata": {
  "kernelspec": {
   "display_name": "Python 3 (ipykernel)",
   "language": "python",
   "name": "python3"
  },
  "language_info": {
   "codemirror_mode": {
    "name": "ipython",
    "version": 3
   },
   "file_extension": ".py",
   "mimetype": "text/x-python",
   "name": "python",
   "nbconvert_exporter": "python",
   "pygments_lexer": "ipython3",
   "version": "3.10.1"
  },
  "toc": {
   "base_numbering": 1,
   "nav_menu": {},
   "number_sections": true,
   "sideBar": true,
   "skip_h1_title": false,
   "title_cell": "Table of Contents",
   "title_sidebar": "Contents",
   "toc_cell": false,
   "toc_position": {},
   "toc_section_display": true,
   "toc_window_display": false
  }
 },
 "nbformat": 4,
 "nbformat_minor": 5
}
