{
 "cells": [
  {
   "cell_type": "code",
   "execution_count": null,
   "id": "67d72de0",
   "metadata": {},
   "outputs": [],
   "source": [
    "1)3,4,5,6,7,8,9,10\n",
    "1-2)error\n",
    "2) 1,2,3,4,5\n",
    "3)6,7,8,9,10\n",
    "4)1,3,5,7\n",
    "5)1,3,5,7\n",
    "6) 1,3,5,7,9\n",
    "7)5,7,9\n",
    "8)1,2,3,4,5,6,7,8,9,10\n",
    "9)\n",
    "10)1,2,3,4,5,6,7,8\n",
    "11)7,6,5,4,3,2,1\n",
    "12) \n",
    "13)\n",
    "14)\n"
   ]
  },
  {
   "cell_type": "code",
   "execution_count": null,
   "id": "aca00b52",
   "metadata": {},
   "outputs": [],
   "source": [
    "10 \n",
    "abc+++++\n",
    "+++++abc\n",
    "lmlmabc\n",
    "+++abc+++\n",
    "0000-1234\n",
    "0000-1234\n",
    "    "
   ]
  },
  {
   "cell_type": "code",
   "execution_count": null,
   "id": "26676871",
   "metadata": {},
   "outputs": [],
   "source": [
    "4\n",
    "5\n",
    "0\n",
    "5\n",
    "1\n",
    "2"
   ]
  },
  {
   "cell_type": "code",
   "execution_count": null,
   "id": "d085fbeb",
   "metadata": {},
   "outputs": [],
   "source": []
  },
  {
   "cell_type": "code",
   "execution_count": null,
   "id": "cf9a018b",
   "metadata": {},
   "outputs": [],
   "source": [
    "(1,2,3), tuple\n",
    "1, tuple"
   ]
  },
  {
   "cell_type": "code",
   "execution_count": null,
   "id": "01d2e618",
   "metadata": {},
   "outputs": [],
   "source": [
    "s!s!a!f!y\n",
    "3 5\n",
    "1 2 3\n",
    "error\n",
    "안녕hello"
   ]
  },
  {
   "cell_type": "code",
   "execution_count": null,
   "id": "8663ca35",
   "metadata": {},
   "outputs": [],
   "source": [
    "True\n",
    "[1,2,[0,'b']]\n",
    "[1,2,'h'],[1,2,[0,1]]\n",
    "[1,2,{'a':'h'}],[1,2,{'a':'apple'}]\n",
    "[1,2,['a','b']][1,2,['a','b']]\n",
    "[1,2,['a','b']][1,2,[0,'b']]"
   ]
  },
  {
   "cell_type": "code",
   "execution_count": null,
   "id": "c4b2ceb8",
   "metadata": {},
   "outputs": [],
   "source": [
    "0120\n",
    "\n",
    "1234555"
   ]
  },
  {
   "cell_type": "code",
   "execution_count": null,
   "id": "f15b4505",
   "metadata": {},
   "outputs": [],
   "source": [
    "킹능"
   ]
  },
  {
   "cell_type": "code",
   "execution_count": null,
   "id": "10ddf00f",
   "metadata": {},
   "outputs": [],
   "source": []
  },
  {
   "cell_type": "code",
   "execution_count": null,
   "id": "f37454a7",
   "metadata": {},
   "outputs": [],
   "source": [
    "4"
   ]
  },
  {
   "cell_type": "code",
   "execution_count": null,
   "id": "d4ca98f7",
   "metadata": {},
   "outputs": [],
   "source": [
    "1"
   ]
  },
  {
   "cell_type": "code",
   "execution_count": null,
   "id": "fad2e8fe",
   "metadata": {},
   "outputs": [],
   "source": [
    "4"
   ]
  },
  {
   "cell_type": "code",
   "execution_count": null,
   "id": "f08825ea",
   "metadata": {},
   "outputs": [],
   "source": [
    "3"
   ]
  },
  {
   "cell_type": "code",
   "execution_count": null,
   "id": "0c7df8bc",
   "metadata": {},
   "outputs": [],
   "source": [
    "2"
   ]
  },
  {
   "cell_type": "code",
   "execution_count": null,
   "id": "bd9bc3f4",
   "metadata": {},
   "outputs": [],
   "source": [
    "name, birthday,city"
   ]
  },
  {
   "cell_type": "code",
   "execution_count": null,
   "id": "26ac976a",
   "metadata": {},
   "outputs": [],
   "source": [
    "from my_max"
   ]
  },
  {
   "cell_type": "code",
   "execution_count": null,
   "id": "e51c860e",
   "metadata": {},
   "outputs": [],
   "source": [
    "init pi 15pi"
   ]
  },
  {
   "cell_type": "code",
   "execution_count": null,
   "id": "b149bae3",
   "metadata": {},
   "outputs": [],
   "source": [
    "while 문을 사용할 경우 종료조건을 제시해 줘야한다"
   ]
  },
  {
   "cell_type": "code",
   "execution_count": null,
   "id": "5dceb485",
   "metadata": {},
   "outputs": [],
   "source": []
  }
 ],
 "metadata": {
  "kernelspec": {
   "display_name": "Python 3 (ipykernel)",
   "language": "python",
   "name": "python3"
  },
  "language_info": {
   "codemirror_mode": {
    "name": "ipython",
    "version": 3
   },
   "file_extension": ".py",
   "mimetype": "text/x-python",
   "name": "python",
   "nbconvert_exporter": "python",
   "pygments_lexer": "ipython3",
   "version": "3.9.7"
  },
  "toc": {
   "base_numbering": 1,
   "nav_menu": {},
   "number_sections": true,
   "sideBar": true,
   "skip_h1_title": false,
   "title_cell": "Table of Contents",
   "title_sidebar": "Contents",
   "toc_cell": false,
   "toc_position": {},
   "toc_section_display": true,
   "toc_window_display": false
  }
 },
 "nbformat": 4,
 "nbformat_minor": 5
}
