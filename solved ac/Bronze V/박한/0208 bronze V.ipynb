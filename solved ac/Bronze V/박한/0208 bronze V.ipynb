{
 "cells": [
  {
   "cell_type": "code",
   "execution_count": null,
   "id": "6b874b10",
   "metadata": {},
   "outputs": [],
   "source": [
    "# 백준 브론즈 5 8437번\n",
    "\n",
    "a = int(input())\n",
    "b = int(input())\n",
    "print((a+b)//2)\n",
    "print((a-b)//2)"
   ]
  },
  {
   "cell_type": "code",
   "execution_count": null,
   "id": "302bc02e",
   "metadata": {},
   "outputs": [],
   "source": [
    "# 백준 브론즈 5 8871번\n",
    "\n",
    "a = int(input())\n",
    "\n",
    "print(2*(a+1), end=\" \")\n",
    "print(3*(a+1))"
   ]
  },
  {
   "cell_type": "code",
   "execution_count": 2,
   "id": "86e2b32b",
   "metadata": {
    "scrolled": true
   },
   "outputs": [
    {
     "name": "stdout",
     "output_type": "stream",
     "text": [
      "5 8 3\n",
      "1\n",
      "4\n",
      "1\n",
      "1\n"
     ]
    }
   ],
   "source": [
    "# 백준 브론즈 5 10430번\n",
    "\n",
    "a, b, c = map(int, input().split())\n",
    "\n",
    "print((a+b)%c)\n",
    "print(((a%c)+(b%c))%c)\n",
    "print((a*b)%c)\n",
    "print(((a%c)*(b%c))%c)"
   ]
  },
  {
   "cell_type": "code",
   "execution_count": 20,
   "id": "ccc22f50",
   "metadata": {},
   "outputs": [
    {
     "name": "stdout",
     "output_type": "stream",
     "text": [
      "2022-02-08\n"
     ]
    }
   ],
   "source": [
    "# 백준 브론즈 5 10699번\n",
    "\n",
    "import datetime\n",
    "print(str(datetime.datetime.now())[:10])"
   ]
  },
  {
   "cell_type": "code",
   "execution_count": 5,
   "id": "c896a539",
   "metadata": {},
   "outputs": [
    {
     "name": "stdout",
     "output_type": "stream",
     "text": [
      "강한친구 대한육군\n",
      "강한친구 대한육군\n"
     ]
    }
   ],
   "source": [
    "# 백준 브론즈 5 10718번\n",
    "\n",
    "print(\"강한친구 대한육군\")\n",
    "print(\"강한친구 대한육군\")"
   ]
  },
  {
   "cell_type": "code",
   "execution_count": 6,
   "id": "0c8f3123",
   "metadata": {},
   "outputs": [
    {
     "name": "stdout",
     "output_type": "stream",
     "text": [
      "16516151651 165198498\n",
      "16681350149\n"
     ]
    }
   ],
   "source": [
    "# 백준 브론즈 5 10757번\n",
    "\n",
    "a, b = map(int, input().split())\n",
    "print(a+b)"
   ]
  },
  {
   "cell_type": "code",
   "execution_count": 8,
   "id": "fc4b48ed",
   "metadata": {},
   "outputs": [
    {
     "name": "stdout",
     "output_type": "stream",
     "text": [
      "7 3\n",
      "10\n",
      "4\n",
      "21\n",
      "2\n",
      "1\n"
     ]
    }
   ],
   "source": [
    "# 백준 브론즈 5 10869번\n",
    "\n",
    "a, b = map(int, input().split())\n",
    "\n",
    "print(a+b)\n",
    "print(a-b)\n",
    "print(a*b)\n",
    "print(a//b)\n",
    "print(a%b)"
   ]
  },
  {
   "cell_type": "code",
   "execution_count": 9,
   "id": "6d74e46f",
   "metadata": {},
   "outputs": [
    {
     "name": "stdout",
     "output_type": "stream",
     "text": [
      "joonas\n",
      "joonas??!\n"
     ]
    }
   ],
   "source": [
    "# 백준 브론즈 5 10926번\n",
    "\n",
    "a = input()\n",
    "print(a+'??!')"
   ]
  },
  {
   "cell_type": "code",
   "execution_count": null,
   "id": "0b2c8318",
   "metadata": {},
   "outputs": [],
   "source": [
    "# 백준 브론즈 5 10998번\n",
    "\n",
    "a, b = map(int, input().split())\n",
    "print(a*b)"
   ]
  },
  {
   "cell_type": "code",
   "execution_count": null,
   "id": "50b7b4e7",
   "metadata": {},
   "outputs": [],
   "source": [
    "# 백준 브론즈 5 11283번\n",
    "\n",
    "a = input()\n",
    "print(ord(a)-44031)"
   ]
  },
  {
   "cell_type": "code",
   "execution_count": null,
   "id": "fa788608",
   "metadata": {},
   "outputs": [],
   "source": [
    "# 백준 브론즈 5 11382번\n",
    "\n",
    "a, b, c = map(int, input().split())\n",
    "print(a+b+c)"
   ]
  },
  {
   "cell_type": "code",
   "execution_count": 11,
   "id": "9fb3640c",
   "metadata": {},
   "outputs": [
    {
     "name": "stdout",
     "output_type": "stream",
     "text": [
      "6\n",
      "54\n"
     ]
    }
   ],
   "source": [
    "# 백준 브론즈 5 11654번\n",
    "\n",
    "a = input()\n",
    "print(ord(a))"
   ]
  },
  {
   "cell_type": "code",
   "execution_count": null,
   "id": "6cadbe4e",
   "metadata": {},
   "outputs": [],
   "source": [
    "# 백준 브론즈 5 11942번\n",
    "\n",
    "print(\"고려대학교\")"
   ]
  },
  {
   "cell_type": "code",
   "execution_count": null,
   "id": "9b8b3f3c",
   "metadata": {},
   "outputs": [],
   "source": [
    "# 백준 브론즈 5 13277번\n",
    "\n",
    "a, b = map(int, input().split())\n",
    "print(a*b)"
   ]
  },
  {
   "cell_type": "code",
   "execution_count": null,
   "id": "ab425437",
   "metadata": {},
   "outputs": [],
   "source": [
    "# 백준 브론즈 5 14645번\n",
    "\n",
    "print(\"비와이\")"
   ]
  },
  {
   "cell_type": "code",
   "execution_count": 15,
   "id": "007acc1e",
   "metadata": {},
   "outputs": [
    {
     "name": "stdout",
     "output_type": "stream",
     "text": [
      "6 4 14\n",
      "3 2\n"
     ]
    }
   ],
   "source": [
    "# 백준 브론즈 5 14652번\n",
    "\n",
    "N, M, K = map(int, input().split())\n",
    "m = K%M\n",
    "n = K//M\n",
    "print(n, m)"
   ]
  },
  {
   "cell_type": "code",
   "execution_count": null,
   "id": "bb87a4b0",
   "metadata": {},
   "outputs": [],
   "source": [
    "# 백준 브론즈 5 14928번\n",
    "\n",
    "a = int(input())\n",
    "print(a%20000303)"
   ]
  },
  {
   "cell_type": "code",
   "execution_count": null,
   "id": "71b7529f",
   "metadata": {},
   "outputs": [],
   "source": [
    "# 백준 브론즈 5 15439번\n",
    "\n",
    "N = int(input())\n",
    "print(N*(N-1))"
   ]
  },
  {
   "cell_type": "code",
   "execution_count": 19,
   "id": "65c8af72",
   "metadata": {},
   "outputs": [
    {
     "name": "stdout",
     "output_type": "stream",
     "text": [
      "115\n",
      "23\n"
     ]
    }
   ],
   "source": [
    "# 백준 브론즈 5 15727번\n",
    "\n",
    "a = int(input())\n",
    "t = 0\n",
    "if a%5==0:\n",
    "    t+=(a//5)\n",
    "else:\n",
    "    t+=((a//5)+1)\n",
    "print(t)"
   ]
  },
  {
   "cell_type": "code",
   "execution_count": null,
   "id": "6d8d27c4",
   "metadata": {},
   "outputs": [],
   "source": [
    "# 백준 브론즈 5 15733번\n",
    "\n",
    "print(\"I'm Sexy\")"
   ]
  },
  {
   "cell_type": "code",
   "execution_count": null,
   "id": "e272a2c9",
   "metadata": {},
   "outputs": [],
   "source": [
    "# 백준 브론즈 5 15740번\n",
    "\n",
    "a, b = map(int, input().split())\n",
    "print(a+b)"
   ]
  },
  {
   "cell_type": "code",
   "execution_count": null,
   "id": "9b9c7cd8",
   "metadata": {},
   "outputs": [],
   "source": [
    "# 백준 브론즈 5 15894번\n",
    "\n",
    "n = int(input())\n",
    "print(n*4)"
   ]
  },
  {
   "cell_type": "code",
   "execution_count": null,
   "id": "8d1f508a",
   "metadata": {},
   "outputs": [],
   "source": [
    "# 백준 브론즈 5 15962번\n",
    "\n",
    "print(\"파이팅!!\")"
   ]
  },
  {
   "cell_type": "code",
   "execution_count": null,
   "id": "b0856ed4",
   "metadata": {},
   "outputs": [],
   "source": [
    "# 백준 브론즈 5 15964번\n",
    "\n",
    "a, b = map(int, input().split())\n",
    "print((a+b)*(a-b))"
   ]
  },
  {
   "cell_type": "code",
   "execution_count": null,
   "id": "40e38b9b",
   "metadata": {},
   "outputs": [],
   "source": [
    "# 백준 브론즈 5 16170번\n",
    "\n",
    "import datetime\n",
    "time = datetime.datetime.now() + datetime.timedelta(hours=9)\n",
    "\n",
    "print(time.year)\n",
    "print(time.month)\n",
    "print(time.day)"
   ]
  },
  {
   "cell_type": "code",
   "execution_count": null,
   "id": "7b515714",
   "metadata": {},
   "outputs": [],
   "source": [
    "# 백준 브론즈 5 16394번\n",
    "\n",
    "n = int(input())\n",
    "print(n-1946)"
   ]
  },
  {
   "cell_type": "code",
   "execution_count": 23,
   "id": "67992ff9",
   "metadata": {},
   "outputs": [
    {
     "name": "stdout",
     "output_type": "stream",
     "text": [
      "2 7\n",
      "5 7\n"
     ]
    }
   ],
   "source": [
    "# 백준 브론즈 5 16430번\n",
    "\n",
    "a, b = map(int, input().split())\n",
    "print((b-a), b)"
   ]
  }
 ],
 "metadata": {
  "kernelspec": {
   "display_name": "Python 3 (ipykernel)",
   "language": "python",
   "name": "python3"
  },
  "language_info": {
   "codemirror_mode": {
    "name": "ipython",
    "version": 3
   },
   "file_extension": ".py",
   "mimetype": "text/x-python",
   "name": "python",
   "nbconvert_exporter": "python",
   "pygments_lexer": "ipython3",
   "version": "3.10.1"
  },
  "toc": {
   "base_numbering": 1,
   "nav_menu": {},
   "number_sections": true,
   "sideBar": true,
   "skip_h1_title": false,
   "title_cell": "Table of Contents",
   "title_sidebar": "Contents",
   "toc_cell": false,
   "toc_position": {},
   "toc_section_display": true,
   "toc_window_display": false
  }
 },
 "nbformat": 4,
 "nbformat_minor": 5
}
