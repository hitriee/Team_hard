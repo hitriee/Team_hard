{
 "cells": [
  {
   "cell_type": "code",
   "execution_count": 9,
   "id": "53715d34",
   "metadata": {},
   "outputs": [
    {
     "name": "stdout",
     "output_type": "stream",
     "text": [
      "2\n",
      "1\n",
      "3\n",
      "6\n",
      "2\n",
      "3\n",
      "10\n"
     ]
    }
   ],
   "source": [
    "# 백준 class 2++ 2775 부녀회장이 될테야\n",
    "\n",
    "T = int(input())\n",
    "for t in range(T):\n",
    "    k = int(input())\n",
    "    n = int(input())\n",
    "    arr = [[0]*n for _ in range(k+1)]\n",
    "    for i in range(k+1):\n",
    "        for j in range(n):\n",
    "            if j == 0:\n",
    "                arr[i][j] = 1\n",
    "            elif i == 0:\n",
    "                arr[i][j] = j+1\n",
    "            else:\n",
    "                arr[i][j] = arr[i-1][j] + arr[i][j-1]\n",
    "    print(arr[k][n-1])"
   ]
  }
 ],
 "metadata": {
  "kernelspec": {
   "display_name": "Python 3 (ipykernel)",
   "language": "python",
   "name": "python3"
  },
  "language_info": {
   "codemirror_mode": {
    "name": "ipython",
    "version": 3
   },
   "file_extension": ".py",
   "mimetype": "text/x-python",
   "name": "python",
   "nbconvert_exporter": "python",
   "pygments_lexer": "ipython3",
   "version": "3.10.4"
  },
  "toc": {
   "base_numbering": 1,
   "nav_menu": {},
   "number_sections": true,
   "sideBar": true,
   "skip_h1_title": false,
   "title_cell": "Table of Contents",
   "title_sidebar": "Contents",
   "toc_cell": false,
   "toc_position": {},
   "toc_section_display": true,
   "toc_window_display": false
  }
 },
 "nbformat": 4,
 "nbformat_minor": 5
}
