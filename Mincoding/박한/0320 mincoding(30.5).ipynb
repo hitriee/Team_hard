{
 "cells": [
  {
   "cell_type": "code",
   "execution_count": 11,
   "id": "52f3a83a",
   "metadata": {},
   "outputs": [
    {
     "name": "stdout",
     "output_type": "stream",
     "text": [
      "180\n",
      "6 3 9 12\n"
     ]
    }
   ],
   "source": [
    "# 민코딩 훈련반1 Level 30.5 - 문제 1번 : 원형시계 돌리기\n",
    "\n",
    "n = int(input())//90\n",
    "lst = [12, 9, 6, 3]\n",
    "lst1 = [0]*4\n",
    "for i in range(4):\n",
    "    lst1[i] = lst[(i+n)%4]\n",
    "print(lst1[0], lst1[1], lst1[3], lst1[2])"
   ]
  },
  {
   "cell_type": "code",
   "execution_count": 13,
   "id": "06380ab0",
   "metadata": {},
   "outputs": [
    {
     "name": "stdout",
     "output_type": "stream",
     "text": [
      "2\n",
      "oo\n",
      "ox\n",
      "xo\n",
      "xx\n"
     ]
    }
   ],
   "source": [
    "# 민코딩 훈련반1 Level 30.5 - 문제 2번 : 승부차기\n",
    "\n",
    "n = int(input())\n",
    "ox = ['o', 'x']\n",
    "lst = ['']*n\n",
    "def abc(level):\n",
    "    if level == n:\n",
    "        for i in range(n):\n",
    "            print(lst[i], end=\"\")\n",
    "        print()\n",
    "        return\n",
    "    for i in range(2):\n",
    "        lst[level] = ox[i]\n",
    "        abc(level+1)\n",
    "        lst[level] = ''\n",
    "abc(0)"
   ]
  },
  {
   "cell_type": "code",
   "execution_count": 14,
   "id": "8e182646",
   "metadata": {},
   "outputs": [
    {
     "name": "stdout",
     "output_type": "stream",
     "text": [
      "3\n",
      "2\n"
     ]
    }
   ],
   "source": [
    "# 민코딩 훈련반1 Level 30.5 - 문제 3번 : n번째로 큰숫자 출력\n",
    "\n",
    "lst = [1, 5, 4, 2, -5, -7]\n",
    "n = int(input())\n",
    "for i in range(len(lst)):\n",
    "    for j in range(i+1, len(lst)):\n",
    "        if lst[i] < lst[j]:\n",
    "            lst[i], lst[j] = lst[j], lst[i]\n",
    "print(lst[n-1])"
   ]
  },
  {
   "cell_type": "code",
   "execution_count": 22,
   "id": "36fc8888",
   "metadata": {},
   "outputs": [
    {
     "name": "stdout",
     "output_type": "stream",
     "text": [
      "1001011\n",
      "11110\n",
      "1101110\n",
      "1101110"
     ]
    }
   ],
   "source": [
    "# 민코딩 훈련반1 Level 30.5 - 문제 4번 : 2진수로 된 가장 큰 수를 찾아라\n",
    "\n",
    "a = list(input())\n",
    "b = list(input())\n",
    "c = list(input())\n",
    "def abc(m, n):\n",
    "    if len(m) > len(n):\n",
    "        return m\n",
    "    elif len(n) > len(m):\n",
    "        return n\n",
    "    else:\n",
    "        for i in range(len(n)):\n",
    "            if m[i] != n[i]:\n",
    "                if m[i] == '1':\n",
    "                    return m\n",
    "                else:\n",
    "                    return n\n",
    "d, e = abc(a, b), abc(b, c)\n",
    "ans = abc(d, e)\n",
    "for i in range(len(ans)):\n",
    "    print(ans[i], end=\"\")"
   ]
  },
  {
   "cell_type": "code",
   "execution_count": 23,
   "id": "be042772",
   "metadata": {},
   "outputs": [
    {
     "name": "stdout",
     "output_type": "stream",
     "text": [
      "AGFT\n",
      "2\n",
      "AA\n",
      "AG\n",
      "AF\n",
      "AT\n",
      "GA\n",
      "GG\n",
      "GF\n",
      "GT\n",
      "FA\n",
      "FG\n",
      "FF\n",
      "FT\n",
      "TA\n",
      "TG\n",
      "TF\n",
      "TT\n"
     ]
    }
   ],
   "source": [
    "# 민코딩 훈련반1 Level 30.5 - 문제 5번 : 후보 선출하기\n",
    "\n",
    "lst = list(input())\n",
    "n = int(input())\n",
    "pick = ['']*n\n",
    "def abc(level):\n",
    "    if level == n:\n",
    "        for i in range(n):\n",
    "            print(pick[i], end=\"\")\n",
    "        print()\n",
    "        return\n",
    "    for i in range(len(lst)):\n",
    "        pick[level] = lst[i]\n",
    "        abc(level+1)\n",
    "        pick[level] = ''\n",
    "abc(0)"
   ]
  },
  {
   "cell_type": "code",
   "execution_count": 26,
   "id": "559aad6b",
   "metadata": {},
   "outputs": [
    {
     "name": "stdout",
     "output_type": "stream",
     "text": [
      "3\n",
      "AAAC\n",
      "3\n",
      "ATKC\n",
      "13107\n",
      "ZBAB\n",
      "440078\n"
     ]
    }
   ],
   "source": [
    "# 민코딩 훈련반1 Level 30.5 - 문제 6번 : 자전거열쇠 비밀번호 맞추기\n",
    "\n",
    "N = int(input())\n",
    "for n in range(N):\n",
    "    alpha = ['A', 'B', 'C', 'D', 'E', 'F', 'G', 'H', 'I', 'J', 'K', 'L', 'M', 'N', 'O', 'P', 'Q', 'R', 'S', 'T', 'U', 'V', 'W', 'X', 'Y', 'Z']\n",
    "    lst = list(input())\n",
    "    pick = ['']*4\n",
    "    rst = 0\n",
    "    def abc(level):\n",
    "        global rst\n",
    "        if level == 4:\n",
    "            rst += 1\n",
    "            if lst == pick:\n",
    "                print(rst)\n",
    "            return\n",
    "        for i in range(len(alpha)):\n",
    "            pick[level] = alpha[i]\n",
    "            abc(level+1)\n",
    "            pick[level] = ''\n",
    "    abc(0)"
   ]
  },
  {
   "cell_type": "code",
   "execution_count": 28,
   "id": "2fd4a661",
   "metadata": {},
   "outputs": [
    {
     "name": "stdout",
     "output_type": "stream",
     "text": [
      "5 4 3 9 1\n",
      "16\n"
     ]
    }
   ],
   "source": [
    "# 민코딩 훈련반1 Level 30.5 - 문제 7번 : 다섯형제 1020\n",
    "\n",
    "lst = [[0]*5 for _ in range(2)]\n",
    "lst[0] = list(map(int, input().split()))\n",
    "rst = 0\n",
    "lst1 = [0]*5\n",
    "def abc(level):\n",
    "    global rst\n",
    "    if level == 5:\n",
    "        if 10 <= sum(lst1) <= 20:\n",
    "            rst += 1\n",
    "        return\n",
    "    for i in range(2):\n",
    "        lst1[level] = lst[i][level]\n",
    "        abc(level+1)\n",
    "        lst1[level] = 0\n",
    "abc(0)\n",
    "print(rst)"
   ]
  },
  {
   "cell_type": "code",
   "execution_count": 30,
   "id": "2343ede6",
   "metadata": {},
   "outputs": [
    {
     "name": "stdout",
     "output_type": "stream",
     "text": [
      "5\n",
      "B A H I "
     ]
    }
   ],
   "source": [
    "# 민코딩 훈련반1 Level 30.5 - 문제 8번 : 다시 풀어보는 출동 순서\n",
    "\n",
    "lst = ['B', 'I', 'A', 'H']\n",
    "used = [0]*4\n",
    "n = int(input())\n",
    "def abc(level):\n",
    "    global n\n",
    "    if sum(used) == 3:\n",
    "        for i in range(4):\n",
    "            if used[i] == 0:\n",
    "                print(lst[i], end=\" \")\n",
    "        return\n",
    "    ans = 0\n",
    "    for i in range(n*4):\n",
    "        if used[(level+i)%4]==0:\n",
    "            ans += 1\n",
    "        if ans == n:\n",
    "            used[(level+i)%4] += 1\n",
    "            print(lst[(level+i)%4], end=\" \")\n",
    "            abc((level+i+1)%4)\n",
    "            break\n",
    "abc(0)"
   ]
  }
 ],
 "metadata": {
  "kernelspec": {
   "display_name": "Python 3 (ipykernel)",
   "language": "python",
   "name": "python3"
  },
  "language_info": {
   "codemirror_mode": {
    "name": "ipython",
    "version": 3
   },
   "file_extension": ".py",
   "mimetype": "text/x-python",
   "name": "python",
   "nbconvert_exporter": "python",
   "pygments_lexer": "ipython3",
   "version": "3.10.1"
  },
  "toc": {
   "base_numbering": 1,
   "nav_menu": {},
   "number_sections": true,
   "sideBar": true,
   "skip_h1_title": false,
   "title_cell": "Table of Contents",
   "title_sidebar": "Contents",
   "toc_cell": false,
   "toc_position": {},
   "toc_section_display": true,
   "toc_window_display": false
  }
 },
 "nbformat": 4,
 "nbformat_minor": 5
}
