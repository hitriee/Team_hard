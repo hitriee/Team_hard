{
 "cells": [
  {
   "cell_type": "code",
   "execution_count": 1,
   "id": "1d5088c8",
   "metadata": {},
   "outputs": [
    {
     "name": "stdout",
     "output_type": "stream",
     "text": [
      "0 1 0 1\n",
      "B\n",
      "1 1 1 0\n",
      "A\n",
      "0 0 1 1\n",
      "B\n"
     ]
    }
   ],
   "source": [
    "# 백준 브론즈3 2490번\n",
    "\n",
    "for n in range(3):\n",
    "    lst = list(map(int, input().split()))\n",
    "    rst = 0\n",
    "    for i in range(4):\n",
    "        if lst[i] == 1:\n",
    "            rst += 1\n",
    "    if rst == 4:\n",
    "        print(\"E\")\n",
    "    elif rst == 0:\n",
    "        print(\"D\")\n",
    "    elif rst == 3:\n",
    "        print(\"A\")\n",
    "    elif rst == 2:\n",
    "        print(\"B\")\n",
    "    else:\n",
    "        print(\"C\")"
   ]
  },
  {
   "cell_type": "code",
   "execution_count": 8,
   "id": "33dfcde2",
   "metadata": {},
   "outputs": [
    {
     "name": "stdout",
     "output_type": "stream",
     "text": [
      "2735 1\n",
      "1\n"
     ]
    }
   ],
   "source": [
    "# 백준 브론즈3 2501번\n",
    "\n",
    "n, k = map(int, input().split())\n",
    "rst, ans = 0, 0\n",
    "for i in range(1, n+1):\n",
    "    if n%i == 0:\n",
    "        rst += 1\n",
    "    if rst == k:\n",
    "        ans = i\n",
    "        break\n",
    "print(ans)"
   ]
  },
  {
   "cell_type": "code",
   "execution_count": 9,
   "id": "8ed48d50",
   "metadata": {},
   "outputs": [
    {
     "name": "stdout",
     "output_type": "stream",
     "text": [
      "10\n",
      "1 0 1 1 1 0 0 1 1 0\n",
      "10\n"
     ]
    }
   ],
   "source": [
    "# 백준 브론즈3 2506번\n",
    "\n",
    "n = int(input())\n",
    "lst = list(map(int, input().split()))\n",
    "rst, ans = 0, 0\n",
    "for i in range(n):\n",
    "    if lst[i] == 0:\n",
    "        rst = 0\n",
    "    else:\n",
    "        rst += 1\n",
    "        ans += rst\n",
    "print(ans)"
   ]
  }
 ],
 "metadata": {
  "kernelspec": {
   "display_name": "Python 3 (ipykernel)",
   "language": "python",
   "name": "python3"
  },
  "language_info": {
   "codemirror_mode": {
    "name": "ipython",
    "version": 3
   },
   "file_extension": ".py",
   "mimetype": "text/x-python",
   "name": "python",
   "nbconvert_exporter": "python",
   "pygments_lexer": "ipython3",
   "version": "3.10.1"
  },
  "toc": {
   "base_numbering": 1,
   "nav_menu": {},
   "number_sections": true,
   "sideBar": true,
   "skip_h1_title": false,
   "title_cell": "Table of Contents",
   "title_sidebar": "Contents",
   "toc_cell": false,
   "toc_position": {},
   "toc_section_display": true,
   "toc_window_display": false
  }
 },
 "nbformat": 4,
 "nbformat_minor": 5
}
