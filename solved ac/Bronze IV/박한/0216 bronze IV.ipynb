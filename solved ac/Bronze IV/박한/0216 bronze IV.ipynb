{
 "cells": [
  {
   "cell_type": "code",
   "execution_count": 9,
   "id": "fd77e799",
   "metadata": {
    "scrolled": true
   },
   "outputs": [
    {
     "name": "stdout",
     "output_type": "stream",
     "text": [
      "3\n",
      "1 2 3 5 3\n",
      "2\n"
     ]
    }
   ],
   "source": [
    "# 백준 브론즈4 10797번\n",
    "# 날짜를 주고, 5대의 자동차 번호를 주면 10부제 위반 차량의 대수 출력\n",
    "\n",
    "n = int(input())\n",
    "a = list(map(int, input().split()))\n",
    "rst = 0\n",
    "for i in range(len(a)):\n",
    "    if a[i]%10 == n:\n",
    "        rst += 1\n",
    "print(rst)"
   ]
  },
  {
   "cell_type": "code",
   "execution_count": 10,
   "id": "d2822a0e",
   "metadata": {},
   "outputs": [
    {
     "name": "stdout",
     "output_type": "stream",
     "text": [
      "1\n",
      "가\n"
     ]
    }
   ],
   "source": [
    "# 백준 브론즈4 11282번\n",
    "# 한글 초성 19개, 중성 21개, 종성 28개의 조합 - 입력된 값 번째의 글자 출력\n",
    "\n",
    "N = int(input())\n",
    "print(chr(44031+N))"
   ]
  },
  {
   "cell_type": "code",
   "execution_count": 13,
   "id": "4f2c23c7",
   "metadata": {},
   "outputs": [
    {
     "name": "stdout",
     "output_type": "stream",
     "text": [
      "1\n",
      "1 2 3 2 1\n",
      "2\n"
     ]
    }
   ],
   "source": [
    "# 백준 브론즈4 11549번\n",
    "# 첫 줄에 차 종류 나타내는 수 입력, 두번째 줄에 참가자 각자의 답 입력. 참가자 수 출력\n",
    "\n",
    "T = int(input())\n",
    "a = list(map(int, input().split()))\n",
    "rst = 0\n",
    "for i in range(len(a)):\n",
    "    if a[i] == T:\n",
    "        rst += 1\n",
    "print(rst)"
   ]
  },
  {
   "cell_type": "code",
   "execution_count": 19,
   "id": "5f435421",
   "metadata": {},
   "outputs": [
    {
     "name": "stdout",
     "output_type": "stream",
     "text": [
      "1 4\n",
      "2 2\n",
      "3\n"
     ]
    }
   ],
   "source": [
    "# 백준 브론즈4 11943번\n",
    "# 첫 바구니의 사과와 오렌지 수, 두번째 바구니의 사과와 오렌지 수 입력\n",
    "# 한 바구니에 한 과일만 있게 만드는 최소 횟수 입력\n",
    "\n",
    "a = list(map(int, input().split()))\n",
    "b = list(map(int, input().split()))\n",
    "rsta = a[0] + b[1]\n",
    "rstb = b[0] + a[1]\n",
    "if rsta > rstb:\n",
    "    print(rstb)\n",
    "else:\n",
    "    print(rsta)"
   ]
  },
  {
   "cell_type": "code",
   "execution_count": 36,
   "id": "f374c4f8",
   "metadata": {},
   "outputs": [
    {
     "name": "stdout",
     "output_type": "stream",
     "text": [
      "15\n",
      "21\n",
      "15\n",
      "42\n",
      "15\n",
      "62\n",
      "140\n"
     ]
    }
   ],
   "source": [
    "# 백준 브론즈4 11948번\n",
    "# 6행에 걸친 점수 합 구하기\n",
    "\n",
    "ts = [int(input()) for _ in range(6)]\n",
    "rst = 0\n",
    "for i in range(4):\n",
    "    for j in range(i+1, 4):\n",
    "        if ts[i] < ts[j]:\n",
    "            ts[i], ts[j] = ts[j], ts[i]\n",
    "rst += sum(ts[:3])\n",
    "if ts[4] > ts[5]:\n",
    "    rst += ts[4]\n",
    "else:\n",
    "    rst += ts[5]\n",
    "print(rst)"
   ]
  }
 ],
 "metadata": {
  "kernelspec": {
   "display_name": "Python 3 (ipykernel)",
   "language": "python",
   "name": "python3"
  },
  "language_info": {
   "codemirror_mode": {
    "name": "ipython",
    "version": 3
   },
   "file_extension": ".py",
   "mimetype": "text/x-python",
   "name": "python",
   "nbconvert_exporter": "python",
   "pygments_lexer": "ipython3",
   "version": "3.10.1"
  },
  "toc": {
   "base_numbering": 1,
   "nav_menu": {},
   "number_sections": true,
   "sideBar": true,
   "skip_h1_title": false,
   "title_cell": "Table of Contents",
   "title_sidebar": "Contents",
   "toc_cell": false,
   "toc_position": {},
   "toc_section_display": true,
   "toc_window_display": false
  }
 },
 "nbformat": 4,
 "nbformat_minor": 5
}
