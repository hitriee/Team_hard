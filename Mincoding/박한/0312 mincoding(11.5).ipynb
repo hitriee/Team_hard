{
 "cells": [
  {
   "cell_type": "code",
   "execution_count": 1,
   "id": "f1d030d4",
   "metadata": {},
   "outputs": [
    {
     "name": "stdout",
     "output_type": "stream",
     "text": [
      "A C\n",
      "발견!!!\n"
     ]
    }
   ],
   "source": [
    "# 민코딩 훈련반1 Level 11.5 - 문제 1번 : 범위에 드는 문자 찾기\n",
    "\n",
    "lst = ['D', 'F', 'G', 'D', 'A', 'Q']\n",
    "a, b = input().split()\n",
    "rst = 0\n",
    "for i in range(len(lst)):\n",
    "    if ord(a) <= ord(lst[i]) <= ord(b):\n",
    "        rst += 1\n",
    "        break\n",
    "if not rst:\n",
    "    print(\"미발견!!!\")\n",
    "else:\n",
    "    print(\"발견!!!\")"
   ]
  },
  {
   "cell_type": "code",
   "execution_count": 2,
   "id": "abed2d8f",
   "metadata": {},
   "outputs": [
    {
     "name": "stdout",
     "output_type": "stream",
     "text": [
      "1\n",
      "5\n"
     ]
    }
   ],
   "source": [
    "# 민코딩 훈련반1 Level 11.5 - 문제 2번 : 배열에 숫자 Counting하기\n",
    "\n",
    "arr = [[1, 1, 1], [1, 2, 1], [3, 6, 3]]\n",
    "def main():\n",
    "    n = int(input())\n",
    "    a = Count(n)\n",
    "    print(a)\n",
    "def Count(m):\n",
    "    rst = 0\n",
    "    for i in range(3):\n",
    "        for j in range(3):\n",
    "            if m == arr[i][j]:\n",
    "                rst += 1\n",
    "    return rst\n",
    "main()"
   ]
  },
  {
   "cell_type": "code",
   "execution_count": 4,
   "id": "a209843e",
   "metadata": {},
   "outputs": [
    {
     "name": "stdout",
     "output_type": "stream",
     "text": [
      "1\n",
      "THREE\n"
     ]
    }
   ],
   "source": [
    "# 민코딩 훈련반1 Level 11.5 - 문제 3번 : 입력받은 문자의 개수\n",
    "\n",
    "lst = ['A', '1', '1', '1', '5', 'A', 'w', 'z']\n",
    "a = input()\n",
    "rst = 0\n",
    "for i in range(len(lst)):\n",
    "    if a == lst[i]:\n",
    "        rst += 1\n",
    "if rst >= 3:\n",
    "    print(\"THREE\")\n",
    "elif rst == 2:\n",
    "    print(\"TWO\")\n",
    "elif rst == 1:\n",
    "    print(\"ONE\")\n",
    "else:\n",
    "    print(\"NOTHING\")"
   ]
  },
  {
   "cell_type": "code",
   "execution_count": 5,
   "id": "d9b88c1e",
   "metadata": {},
   "outputs": [
    {
     "name": "stdout",
     "output_type": "stream",
     "text": [
      "c\n",
      "세상에\n"
     ]
    }
   ],
   "source": [
    "# 민코딩 훈련반1 Level 11.5 - 문제 4번 : 입력받은 글자를 세밀히 세보기\n",
    "\n",
    "arr = [['a', 'b', 'a', 'c', 'z'], ['c', 't', 'a', 'c', 'd'], ['c', 'c', 'c', 'c', 'a']]\n",
    "n = input()\n",
    "rst = 0\n",
    "for i in range(3):\n",
    "    for j in range(5):\n",
    "        if n == arr[i][j]:\n",
    "            rst += 1\n",
    "if rst >= 7:\n",
    "    print(\"세상에\")\n",
    "elif rst >= 5:\n",
    "    print(\"와우\")\n",
    "elif rst >= 3:\n",
    "    print(\"이야\")\n",
    "else:\n",
    "    print(\"이런\")"
   ]
  },
  {
   "cell_type": "code",
   "execution_count": 9,
   "id": "e6f355dc",
   "metadata": {},
   "outputs": [
    {
     "name": "stdout",
     "output_type": "stream",
     "text": [
      "3 1 5 0 0 3\n",
      "315\n",
      "##3"
     ]
    }
   ],
   "source": [
    "# 민코딩 훈련반1 Level 11.5 - 문제 5번 : 글자 바꾸어서 출력하기\n",
    "\n",
    "lst = list(map(int, input().split()))\n",
    "for i in range(3):\n",
    "    if lst[i] == 0:\n",
    "        print(\"#\", end=\"\")\n",
    "    else:\n",
    "        print(lst[i], end=\"\")\n",
    "print()\n",
    "for i in range(3, 6):\n",
    "    if lst[i] == 0:\n",
    "        print(\"#\", end=\"\")\n",
    "    else:\n",
    "        print(lst[i], end=\"\")"
   ]
  },
  {
   "cell_type": "code",
   "execution_count": 12,
   "id": "e32aa671",
   "metadata": {},
   "outputs": [
    {
     "name": "stdout",
     "output_type": "stream",
     "text": [
      "A B e \n",
      "e 7 w \n",
      "8 7 9 \n"
     ]
    }
   ],
   "source": [
    "# 민코딩 훈련반1 Level 11.5 - 문제 6번 : 여러 글자 바꾸기\n",
    "\n",
    "arr = [['a', 'b', 'E'], ['E', 2, 'W'], [3, 2, 4]]\n",
    "for i in range(3):\n",
    "    for j in range(3):\n",
    "        if type(arr[i][j]) == int:\n",
    "            print(arr[i][j]+5, end=\" \")\n",
    "        else:\n",
    "            if ord(arr[i][j]) >= ord('a'):\n",
    "                print(chr(ord(arr[i][j])-32), end=\" \")\n",
    "            else:\n",
    "                print(chr(ord(arr[i][j])+32), end=\" \")\n",
    "    print()"
   ]
  },
  {
   "cell_type": "code",
   "execution_count": 15,
   "id": "4a08301d",
   "metadata": {},
   "outputs": [
    {
     "name": "stdout",
     "output_type": "stream",
     "text": [
      "C\n",
      "없음\n"
     ]
    }
   ],
   "source": [
    "# 민코딩 훈련반1 Level 11.5 - 문제 7번 : Flag를 사용하여 원하는 문자 찾기\n",
    "\n",
    "arr = [['a', 'b', 'd'], ['e', 'w', 'z'], ['q', 'v', 'a']]\n",
    "def Input():\n",
    "    A = input()\n",
    "    Process(A)\n",
    "def Process(B):\n",
    "    b = chr(ord(B)+32)\n",
    "    rst = 0\n",
    "    for i in range(3):\n",
    "        for j in range(3):\n",
    "            if arr[i][j] == b:\n",
    "                rst += 1\n",
    "                break\n",
    "    if not rst:\n",
    "        print('없음')\n",
    "    else:\n",
    "        print('존재')\n",
    "Input()"
   ]
  },
  {
   "cell_type": "code",
   "execution_count": 18,
   "id": "bc77f70e",
   "metadata": {},
   "outputs": [
    {
     "name": "stdout",
     "output_type": "stream",
     "text": [
      "0 1 9\n",
      "11\n"
     ]
    }
   ],
   "source": [
    "# 민코딩 훈련반1 Level 11.5 - 문제 8번 : 배열 값을 바꾼 후 MAX+MIN 구하기\n",
    "\n",
    "arr = [[3, 1, 6], [7, 8, 4], [9, 2, 3]]\n",
    "a, b, c = map(int, input().split())\n",
    "arr[a][b] = c\n",
    "maxx, minn = arr[0][0], arr[0][0]\n",
    "for i in range(3):\n",
    "    for j in range(3):\n",
    "        if arr[i][j] > maxx:\n",
    "            maxx = arr[i][j]\n",
    "        if arr[i][j] < minn:\n",
    "            minn = arr[i][j]\n",
    "print(maxx+minn)"
   ]
  },
  {
   "cell_type": "code",
   "execution_count": 19,
   "id": "739205b7",
   "metadata": {},
   "outputs": [
    {
     "name": "stdout",
     "output_type": "stream",
     "text": [
      "7 2 3 4 5 6\n",
      "7 5 4 3 2 6\n"
     ]
    }
   ],
   "source": [
    "# 민코딩 훈련반1 Level 11.5 - 문제 9번 : 다른 배열에 값 옮기기\n",
    "\n",
    "lst = list(map(int, input().split()))\n",
    "arr = [[0]*3 for _ in range(2)]\n",
    "for i in range(2):\n",
    "    for j in range(3):\n",
    "        arr[i][j] = lst[5-3*i-j]\n",
    "lst1 = [0]*6\n",
    "for i in range(2):\n",
    "    for j in range(3):\n",
    "        lst1[3*i+j] = arr[i][j]\n",
    "lst1[0], lst1[5] = lst1[5], lst1[0]\n",
    "print(*lst1)"
   ]
  }
 ],
 "metadata": {
  "kernelspec": {
   "display_name": "Python 3 (ipykernel)",
   "language": "python",
   "name": "python3"
  },
  "language_info": {
   "codemirror_mode": {
    "name": "ipython",
    "version": 3
   },
   "file_extension": ".py",
   "mimetype": "text/x-python",
   "name": "python",
   "nbconvert_exporter": "python",
   "pygments_lexer": "ipython3",
   "version": "3.10.1"
  },
  "toc": {
   "base_numbering": 1,
   "nav_menu": {},
   "number_sections": true,
   "sideBar": true,
   "skip_h1_title": false,
   "title_cell": "Table of Contents",
   "title_sidebar": "Contents",
   "toc_cell": false,
   "toc_position": {},
   "toc_section_display": true,
   "toc_window_display": false
  }
 },
 "nbformat": 4,
 "nbformat_minor": 5
}
