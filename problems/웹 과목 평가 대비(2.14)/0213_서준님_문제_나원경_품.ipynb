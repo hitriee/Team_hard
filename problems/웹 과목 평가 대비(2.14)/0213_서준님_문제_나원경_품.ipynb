{
 "cells": [
  {
   "cell_type": "code",
   "execution_count": null,
   "id": "ae880c15",
   "metadata": {},
   "outputs": [],
   "source": [
    "1. HTML의 기본 구조가 아닌 것을 구하시오.\n",
    "\n",
    "1) title. 2) body 3) head 4) html"
   ]
  },
  {
   "cell_type": "code",
   "execution_count": null,
   "id": "80e182a5",
   "metadata": {},
   "outputs": [],
   "source": [
    "정답 : 1"
   ]
  },
  {
   "cell_type": "code",
   "execution_count": null,
   "id": "ed4915e3",
   "metadata": {},
   "outputs": [],
   "source": [
    "2. 시맨틱 태그는 기존 영역을 의미하는 a태그를 대체하여 사용하는 것을 뜻한다. a는?"
   ]
  },
  {
   "cell_type": "code",
   "execution_count": null,
   "id": "116580d9",
   "metadata": {},
   "outputs": [],
   "source": [
    "정답 : div"
   ]
  },
  {
   "cell_type": "code",
   "execution_count": null,
   "id": "bb4e0824",
   "metadata": {},
   "outputs": [],
   "source": [
    "3.다음 중 시맨틱 태그가 아닌 것을 모두 고르시오\n",
    "\n",
    "1) nav 2) h1 3) table 4) span 5)article"
   ]
  },
  {
   "cell_type": "code",
   "execution_count": null,
   "id": "6c347079",
   "metadata": {},
   "outputs": [],
   "source": [
    "정답 : 4"
   ]
  },
  {
   "cell_type": "code",
   "execution_count": null,
   "id": "cb4cb780",
   "metadata": {},
   "outputs": [],
   "source": [
    "4. CSS의 정의 방법이 아닌 것을 모두 고르시오.\n",
    "1) 인라인 2) 블록 3) 내부참조 4) 외부참조"
   ]
  },
  {
   "cell_type": "code",
   "execution_count": null,
   "id": "7e0730b4",
   "metadata": {},
   "outputs": [],
   "source": [
    "정답 : 2"
   ]
  },
  {
   "cell_type": "code",
   "execution_count": null,
   "id": "10f2adc8",
   "metadata": {},
   "outputs": [],
   "source": [
    "5. 상속의 영향을 받지 않고 회상위 요소의 사이즈를 기준으로 배수 단위를 가지는 CSS의 크기 단위를 쓰시오."
   ]
  },
  {
   "cell_type": "code",
   "execution_count": null,
   "id": "8839eff9",
   "metadata": {},
   "outputs": [],
   "source": [
    "정답 : rem"
   ]
  },
  {
   "cell_type": "code",
   "execution_count": null,
   "id": "12ba3368",
   "metadata": {},
   "outputs": [],
   "source": [
    "6. box model의 영역의 순서를 쓰시오(안쪽부터)\n",
    "영역: border margin content padding"
   ]
  },
  {
   "cell_type": "code",
   "execution_count": null,
   "id": "08b9bbe7",
   "metadata": {},
   "outputs": [],
   "source": [
    "정답 : content - padding - border - margin"
   ]
  },
  {
   "cell_type": "code",
   "execution_count": null,
   "id": "6264fe1d",
   "metadata": {},
   "outputs": [],
   "source": [
    "7. inline-a를 하면 inline의 효과를 가지면서 margin 속성을 지정할 수 있다는 특징이 있다. a는?"
   ]
  },
  {
   "cell_type": "code",
   "execution_count": null,
   "id": "835d5fac",
   "metadata": {},
   "outputs": [],
   "source": [
    "정답 : block"
   ]
  },
  {
   "cell_type": "code",
   "execution_count": null,
   "id": "4ce46dd4",
   "metadata": {},
   "outputs": [],
   "source": [
    "8. 메인축을 나누는 flex의 속성을 쓰시오(공간나누기)"
   ]
  },
  {
   "cell_type": "code",
   "execution_count": null,
   "id": "e1a74bbb",
   "metadata": {},
   "outputs": [],
   "source": [
    "정답 : justify-content"
   ]
  },
  {
   "cell_type": "code",
   "execution_count": null,
   "id": "81a8d986",
   "metadata": {},
   "outputs": [],
   "source": [
    "9. 다음 중 잘못 연결된 것은?\n",
    "\n",
    "1) 파랑-primary 2) 빨강-danger 3) 주황-warning 4) 초록-success"
   ]
  },
  {
   "cell_type": "code",
   "execution_count": null,
   "id": "77a08e79",
   "metadata": {},
   "outputs": [],
   "source": [
    "정답 : 3"
   ]
  },
  {
   "cell_type": "code",
   "execution_count": null,
   "id": "0bf217eb",
   "metadata": {},
   "outputs": [],
   "source": [
    "10. class=\"fst-italic\"이 의미하는 바를 쓰시오."
   ]
  },
  {
   "cell_type": "code",
   "execution_count": null,
   "id": "aa5f0053",
   "metadata": {},
   "outputs": [],
   "source": [
    "정답 : 부트스트랩에서 글씨체를 이태리체(기울임꼴)로 바꿈"
   ]
  },
  {
   "cell_type": "code",
   "execution_count": null,
   "id": "368434f0",
   "metadata": {},
   "outputs": [],
   "source": []
  },
  {
   "cell_type": "code",
   "execution_count": null,
   "id": "7d471cfe",
   "metadata": {},
   "outputs": [],
   "source": []
  },
  {
   "cell_type": "code",
   "execution_count": null,
   "id": "1ce6d3c5",
   "metadata": {},
   "outputs": [],
   "source": []
  },
  {
   "cell_type": "code",
   "execution_count": null,
   "id": "7a195b56",
   "metadata": {},
   "outputs": [],
   "source": []
  },
  {
   "cell_type": "code",
   "execution_count": null,
   "id": "303bc71e",
   "metadata": {},
   "outputs": [],
   "source": []
  }
 ],
 "metadata": {
  "kernelspec": {
   "display_name": "Python 3 (ipykernel)",
   "language": "python",
   "name": "python3"
  },
  "language_info": {
   "codemirror_mode": {
    "name": "ipython",
    "version": 3
   },
   "file_extension": ".py",
   "mimetype": "text/x-python",
   "name": "python",
   "nbconvert_exporter": "python",
   "pygments_lexer": "ipython3",
   "version": "3.7.3"
  },
  "toc": {
   "base_numbering": 1,
   "nav_menu": {},
   "number_sections": true,
   "sideBar": true,
   "skip_h1_title": false,
   "title_cell": "Table of Contents",
   "title_sidebar": "Contents",
   "toc_cell": false,
   "toc_position": {},
   "toc_section_display": true,
   "toc_window_display": false
  }
 },
 "nbformat": 4,
 "nbformat_minor": 5
}
