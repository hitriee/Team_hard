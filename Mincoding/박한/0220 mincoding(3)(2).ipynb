{
 "cells": [
  {
   "cell_type": "code",
   "execution_count": 1,
   "id": "b0c79417",
   "metadata": {},
   "outputs": [
    {
     "name": "stdout",
     "output_type": "stream",
     "text": [
      "1 5\n",
      "1\n",
      "2\n",
      "3\n",
      "4\n",
      "5\n"
     ]
    }
   ],
   "source": [
    "# 민코딩 훈련반1 Level 3 - 문제 6번 : 입력받은 숫자만큼 반복 출력하기\n",
    "\n",
    "a , b  = map(int, input().split())\n",
    "for i in range(a, b+1):\n",
    "    print(i)"
   ]
  },
  {
   "cell_type": "code",
   "execution_count": 3,
   "id": "dbb46a42",
   "metadata": {},
   "outputs": [
    {
     "name": "stdout",
     "output_type": "stream",
     "text": [
      "PIZZAHOT\n",
      "PIZZAHOT\n",
      "PIZZAHOT\n",
      "PIZZAHOT\n",
      "PIZZAHOT\n",
      "PIZZAHOT\n",
      "PIZZAHOT\n",
      "PIZZAHOT\n",
      "PIZZAHOT\n",
      "PIZZAHOT\n",
      "PIZZAHOT\n",
      "PIZZAHOT\n",
      "PIZZAHOT\n",
      "PIZZAHOT\n",
      "PIZZAHOT\n",
      "PIZZAHOT\n",
      "PIZZAHOT\n",
      "PIZZAHOT\n",
      "PIZZAHOT\n",
      "PIZZAHOT\n",
      "PIZZAHOT\n",
      "PIZZAHOT\n",
      "PIZZAHOT\n",
      "PIZZAHOT\n",
      "PIZZAHOT\n"
     ]
    }
   ],
   "source": [
    "# 민코딩 훈련반1 Level 3 - 문제 7번 : 반복해서 출력하기\n",
    "\n",
    "for i in range(25):\n",
    "    print(\"PIZZAHOT\")"
   ]
  },
  {
   "cell_type": "code",
   "execution_count": 4,
   "id": "71480242",
   "metadata": {},
   "outputs": [
    {
     "name": "stdout",
     "output_type": "stream",
     "text": [
      "3\n",
      "##\n",
      "##\n",
      "##\n"
     ]
    }
   ],
   "source": [
    "# 민코딩 훈련반1 Level 3 - 문제 8번 : 와플벽 세우기\n",
    "\n",
    "a = int(input())\n",
    "for i in range(a):\n",
    "    print(\"##\")"
   ]
  },
  {
   "cell_type": "code",
   "execution_count": 6,
   "id": "a56565ea",
   "metadata": {},
   "outputs": [
    {
     "name": "stdout",
     "output_type": "stream",
     "text": [
      "10 9 8 7 6 5 4 3 2 1 "
     ]
    }
   ],
   "source": [
    "# 민코딩 훈련반1 Level 3 - 문제 9번 : 거꾸로 출력하기\n",
    "\n",
    "for i in range(10, 0, -1):\n",
    "    print(i, end=\" \")"
   ]
  },
  {
   "cell_type": "code",
   "execution_count": 7,
   "id": "86834dde",
   "metadata": {},
   "outputs": [
    {
     "name": "stdout",
     "output_type": "stream",
     "text": [
      "100\n",
      "Magic\n"
     ]
    }
   ],
   "source": [
    "# 민코딩 훈련반1 Level 3 - 문제 10번 : Magic 숫자 검사하기\n",
    "\n",
    "a = int(input())\n",
    "if (a*2+20)/5 != 100:\n",
    "    print(\"Magic\")"
   ]
  },
  {
   "cell_type": "code",
   "execution_count": 9,
   "id": "90bc0163",
   "metadata": {},
   "outputs": [
    {
     "name": "stdout",
     "output_type": "stream",
     "text": [
      "3 5\n",
      "345"
     ]
    }
   ],
   "source": [
    "# 민코딩 훈련반1 Level 3 - 문제 11번 : 너 나 사이의 거리2\n",
    "\n",
    "a, b = map(int, input().split())\n",
    "for i in range(a, b+1):\n",
    "    print(i, end=\"\")"
   ]
  },
  {
   "cell_type": "code",
   "execution_count": 10,
   "id": "e8c5b1ee",
   "metadata": {},
   "outputs": [
    {
     "name": "stdout",
     "output_type": "stream",
     "text": [
      "5\n",
      "0\n",
      "1\n",
      "2\n",
      "3\n",
      "4\n",
      "5\n"
     ]
    }
   ],
   "source": [
    "# 민코딩 훈련반1 Level 3 - 문제 12번 : 입력받은 숫자까지 출력\n",
    "\n",
    "a = int(input())\n",
    "for i in range(a+1):\n",
    "    print(i)"
   ]
  },
  {
   "cell_type": "code",
   "execution_count": 11,
   "id": "a23e57d9",
   "metadata": {},
   "outputs": [
    {
     "name": "stdout",
     "output_type": "stream",
     "text": [
      "1 2 10\n",
      "20\n"
     ]
    }
   ],
   "source": [
    "# 민코딩 훈련반1 Level 3 - 문제 13번 : 검사하고 계산하기\n",
    "\n",
    "a, b, c = map(int, input().split())\n",
    "if a+b+c > 10:\n",
    "    print(a*b*c)\n",
    "else:\n",
    "    print(0)"
   ]
  },
  {
   "cell_type": "code",
   "execution_count": 12,
   "id": "bfb1acb7",
   "metadata": {},
   "outputs": [
    {
     "name": "stdout",
     "output_type": "stream",
     "text": [
      "4\n",
      "4\n",
      "3\n",
      "2\n",
      "1\n",
      "0\n",
      "발사\n"
     ]
    }
   ],
   "source": [
    "# 민코딩 훈련반1 Level 3 - 문제 14번 : Count Down 출력하기\n",
    "\n",
    "a = int(input())\n",
    "for i in range(a, -1, -1):\n",
    "    print(i)\n",
    "print(\"발사\")"
   ]
  },
  {
   "cell_type": "code",
   "execution_count": 14,
   "id": "d8b0d7e3",
   "metadata": {},
   "outputs": [
    {
     "name": "stdout",
     "output_type": "stream",
     "text": [
      "-5 -4 -3 -2 -1 0 1 2 3 4 5 "
     ]
    }
   ],
   "source": [
    "# 민코딩 훈련반1 Level 3 - 문제 15번 : 음수부터 양수까지 출력하기\n",
    "\n",
    "for i in range(-5, 6):\n",
    "    print(i, end=\" \")"
   ]
  }
 ],
 "metadata": {
  "kernelspec": {
   "display_name": "Python 3 (ipykernel)",
   "language": "python",
   "name": "python3"
  },
  "language_info": {
   "codemirror_mode": {
    "name": "ipython",
    "version": 3
   },
   "file_extension": ".py",
   "mimetype": "text/x-python",
   "name": "python",
   "nbconvert_exporter": "python",
   "pygments_lexer": "ipython3",
   "version": "3.10.1"
  },
  "toc": {
   "base_numbering": 1,
   "nav_menu": {},
   "number_sections": true,
   "sideBar": true,
   "skip_h1_title": false,
   "title_cell": "Table of Contents",
   "title_sidebar": "Contents",
   "toc_cell": false,
   "toc_position": {},
   "toc_section_display": true,
   "toc_window_display": false
  }
 },
 "nbformat": 4,
 "nbformat_minor": 5
}
