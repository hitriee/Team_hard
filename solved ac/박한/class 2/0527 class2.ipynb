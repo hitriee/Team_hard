{
 "cells": [
  {
   "cell_type": "code",
   "execution_count": 3,
   "id": "caeb717c",
   "metadata": {},
   "outputs": [
    {
     "name": "stdout",
     "output_type": "stream",
     "text": [
      "3\n",
      "((\n",
      "NO\n",
      "))\n",
      "NO\n",
      "())(()\n",
      "NO\n"
     ]
    }
   ],
   "source": [
    "# 백준 class 2++ 9012 괄호\n",
    "\n",
    "T = int(input())\n",
    "for _ in range(T):\n",
    "    lst = list(input())\n",
    "    rst = 0\n",
    "    for i in range(len(lst)):\n",
    "        if rst < 0:\n",
    "            break\n",
    "        if lst[i] == ')':\n",
    "            rst -= 1\n",
    "        else:\n",
    "            rst += 1\n",
    "    if rst == 0:\n",
    "        print(\"YES\")\n",
    "    else:\n",
    "        print(\"NO\")"
   ]
  }
 ],
 "metadata": {
  "kernelspec": {
   "display_name": "Python 3 (ipykernel)",
   "language": "python",
   "name": "python3"
  },
  "language_info": {
   "codemirror_mode": {
    "name": "ipython",
    "version": 3
   },
   "file_extension": ".py",
   "mimetype": "text/x-python",
   "name": "python",
   "nbconvert_exporter": "python",
   "pygments_lexer": "ipython3",
   "version": "3.10.4"
  },
  "toc": {
   "base_numbering": 1,
   "nav_menu": {},
   "number_sections": true,
   "sideBar": true,
   "skip_h1_title": false,
   "title_cell": "Table of Contents",
   "title_sidebar": "Contents",
   "toc_cell": false,
   "toc_position": {},
   "toc_section_display": true,
   "toc_window_display": false
  }
 },
 "nbformat": 4,
 "nbformat_minor": 5
}
