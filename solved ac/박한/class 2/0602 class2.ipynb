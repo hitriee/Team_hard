{
 "cells": [
  {
   "cell_type": "code",
   "execution_count": 12,
   "id": "180c61be",
   "metadata": {},
   "outputs": [
    {
     "name": "stdout",
     "output_type": "stream",
     "text": [
      "14\n",
      "push 1\n",
      "push 2\n",
      "top\n",
      "2\n",
      "size\n",
      "2\n",
      "empty\n",
      "0\n",
      "pop\n",
      "2\n",
      "pop\n",
      "1\n",
      "pop\n",
      "-1\n",
      "size\n",
      "0\n",
      "empty\n",
      "1\n",
      "pop\n",
      "-1\n",
      "push3\n",
      "empty\n",
      "0\n",
      "top\n",
      "3\n"
     ]
    }
   ],
   "source": [
    "# 백준 class 2++ 10828 스택\n",
    "\n",
    "n = int(input())\n",
    "lst = []\n",
    "for _ in range(n):\n",
    "    a = input()\n",
    "    if a == 'pop':\n",
    "        if lst == []:\n",
    "            print(-1)\n",
    "        else:\n",
    "            b = lst.pop()\n",
    "            print(b)\n",
    "    elif a == 'size':\n",
    "        print(len(lst))\n",
    "    elif a == 'empty':\n",
    "        if len(lst) == 0:\n",
    "            print(1)\n",
    "        else:\n",
    "            print(0)\n",
    "    elif a == 'top':\n",
    "        if lst == []:\n",
    "            print(-1)\n",
    "        else:\n",
    "            print(lst[-1])\n",
    "    else:\n",
    "        lst.append(int(a[4:]))\n",
    "        \n",
    "# 시간 초과 - 해결 못함 ㅠ"
   ]
  }
 ],
 "metadata": {
  "kernelspec": {
   "display_name": "Python 3 (ipykernel)",
   "language": "python",
   "name": "python3"
  },
  "language_info": {
   "codemirror_mode": {
    "name": "ipython",
    "version": 3
   },
   "file_extension": ".py",
   "mimetype": "text/x-python",
   "name": "python",
   "nbconvert_exporter": "python",
   "pygments_lexer": "ipython3",
   "version": "3.10.4"
  },
  "toc": {
   "base_numbering": 1,
   "nav_menu": {},
   "number_sections": true,
   "sideBar": true,
   "skip_h1_title": false,
   "title_cell": "Table of Contents",
   "title_sidebar": "Contents",
   "toc_cell": false,
   "toc_position": {},
   "toc_section_display": true,
   "toc_window_display": false
  }
 },
 "nbformat": 4,
 "nbformat_minor": 5
}
