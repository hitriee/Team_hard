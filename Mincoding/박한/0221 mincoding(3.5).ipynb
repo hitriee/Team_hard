{
 "cells": [
  {
   "cell_type": "code",
   "execution_count": 1,
   "id": "6d9b3272",
   "metadata": {},
   "outputs": [
    {
     "name": "stdout",
     "output_type": "stream",
     "text": [
      "3 4 5 6 7 8 "
     ]
    }
   ],
   "source": [
    "# 민코딩 훈련반1 Level 3.5 - 문제 1번 : 북위38도\n",
    "\n",
    "for i in range(3, 9):\n",
    "    print(i, end=\" \")"
   ]
  },
  {
   "cell_type": "code",
   "execution_count": 2,
   "id": "62efd9b7",
   "metadata": {},
   "outputs": [
    {
     "name": "stdout",
     "output_type": "stream",
     "text": [
      "3\n",
      "333\n",
      "444\n",
      "555\n"
     ]
    }
   ],
   "source": [
    "# 민코딩 훈련반1 Level 3.5 - 문제 2번 : 세박자\n",
    "\n",
    "n = int(input())\n",
    "for i in range(n, n+3):\n",
    "    print(str(i)*3)"
   ]
  },
  {
   "cell_type": "code",
   "execution_count": null,
   "id": "9dd4349b",
   "metadata": {},
   "outputs": [],
   "source": [
    "# 민코딩 훈련반1 Level 3.5 - 문제 3번 : 비밀번호 맞추기\n",
    "\n",
    "a, b, c, d = map(int, input().split())\n",
    "if a==1 and b==2 and c==3 and d==4:\n",
    "    print(\"로그인성공\")\n",
    "else:\n",
    "    print(\"로그인실패\")"
   ]
  },
  {
   "cell_type": "code",
   "execution_count": 3,
   "id": "6069cb2f",
   "metadata": {},
   "outputs": [
    {
     "name": "stdout",
     "output_type": "stream",
     "text": [
      "3\n",
      "5 6 7\n"
     ]
    }
   ],
   "source": [
    "# 민코딩 훈련반1 Level 3.5 - 문제 4번 : 점프해서 출력하기\n",
    "\n",
    "a = int(input())\n",
    "print(f\"{a+2} {a+3} {a+4}\")"
   ]
  },
  {
   "cell_type": "code",
   "execution_count": 4,
   "id": "4dfcfd74",
   "metadata": {},
   "outputs": [
    {
     "name": "stdout",
     "output_type": "stream",
     "text": [
      "3 5 1\n",
      "MAX 아님\n"
     ]
    }
   ],
   "source": [
    "# 민코딩 훈련반1 Level 3.5 - 문제 5번 : 첫 번째 숫자가 가장 큰 지 검사\n",
    "\n",
    "a, b, c = map(int, input().split())\n",
    "if a>=b and a>=c:\n",
    "    print(\"MAX발견\")\n",
    "else:\n",
    "    print(\"MAX아님\")"
   ]
  },
  {
   "cell_type": "code",
   "execution_count": 7,
   "id": "21090ee7",
   "metadata": {},
   "outputs": [
    {
     "name": "stdout",
     "output_type": "stream",
     "text": [
      "6 6\n",
      "적당한 사이즈\n"
     ]
    }
   ],
   "source": [
    "# 민코딩 훈련반1 Level 3.5 - 문제 6번 : 계산하고 검사하기\n",
    "\n",
    "a, b = map(int, input().split())\n",
    "if a*b>=50:\n",
    "    print(\"큰 사이즈\")\n",
    "elif a*b>30:\n",
    "    print(\"적당한 사이즈\")\n",
    "else:\n",
    "    print(\"작은 사이즈\")"
   ]
  },
  {
   "cell_type": "code",
   "execution_count": 9,
   "id": "14198f02",
   "metadata": {},
   "outputs": [
    {
     "name": "stdout",
     "output_type": "stream",
     "text": [
      "17 3\n",
      "16 15 14 "
     ]
    }
   ],
   "source": [
    "# 민코딩 훈련반1 Level 3.5 - 문제 7번 : 아랫집 사람들\n",
    "\n",
    "a, x = map(int, input().split())\n",
    "for i in range(a-1, a-x-1, -1):\n",
    "    print(i, end=\" \")"
   ]
  },
  {
   "cell_type": "code",
   "execution_count": 11,
   "id": "ee2d039d",
   "metadata": {},
   "outputs": [
    {
     "name": "stdout",
     "output_type": "stream",
     "text": [
      "3 5 9 \n",
      "3 4 5 \n",
      "3 4 5 6 7 8 9 "
     ]
    }
   ],
   "source": [
    "# 민코딩 훈련반1 Level 3.5 - 문제 8번 : abc 초콜릿\n",
    "\n",
    "a, b, c = map(int, input().split())\n",
    "for i in range(a, b+1):\n",
    "    print(i, end=\" \")\n",
    "print()\n",
    "for j in range(a, c+1):\n",
    "    print(j, end=\" \")"
   ]
  },
  {
   "cell_type": "code",
   "execution_count": 13,
   "id": "2b267870",
   "metadata": {},
   "outputs": [
    {
     "name": "stdout",
     "output_type": "stream",
     "text": [
      "9 6\n",
      "8 5\n",
      "7 4\n",
      "6 3\n"
     ]
    }
   ],
   "source": [
    "# 민코딩 훈련반1 Level 3.5 - 문제 9번 : 엘레베이터 타고 내려가자\n",
    "\n",
    "for i in range(9, 5, -1):\n",
    "    print(f\"{i} {i-3}\")"
   ]
  },
  {
   "cell_type": "code",
   "execution_count": 18,
   "id": "fd46ec4a",
   "metadata": {},
   "outputs": [
    {
     "name": "stdout",
     "output_type": "stream",
     "text": [
      "3\n",
      "1 3 5 "
     ]
    }
   ],
   "source": [
    "# 민코딩 훈련반1 Level 3.5 - 문제 10번 : 징검다리\n",
    "\n",
    "n = int(input())\n",
    "for i in range(1, 2*n, 2):\n",
    "    print(i, end=\" \")"
   ]
  },
  {
   "cell_type": "code",
   "execution_count": 20,
   "id": "fd3d643d",
   "metadata": {},
   "outputs": [
    {
     "name": "stdout",
     "output_type": "stream",
     "text": [
      "시작\n",
      "12345\n",
      "종료\n"
     ]
    }
   ],
   "source": [
    "# 민코딩 훈련반1 Level 3.5 - 문제 11번 : 시작부터 종료까지\n",
    "\n",
    "print(\"시작\")\n",
    "for i in range(1, 6):\n",
    "    print(i, end=\"\")\n",
    "print()\n",
    "print(\"종료\")"
   ]
  },
  {
   "cell_type": "code",
   "execution_count": 21,
   "id": "40eda5dd",
   "metadata": {},
   "outputs": [
    {
     "name": "stdout",
     "output_type": "stream",
     "text": [
      "2\n",
      "##\n",
      "@@\n",
      "##\n",
      "@@\n"
     ]
    }
   ],
   "source": [
    "# 민코딩 훈련반1 Level 3.5 - 문제 12번 : 와플사과 샌드위치 출력하기\n",
    "\n",
    "n = int(input())\n",
    "for i in range(n):\n",
    "    print(\"##\")\n",
    "    print(\"@@\")"
   ]
  },
  {
   "cell_type": "code",
   "execution_count": 22,
   "id": "c02165ce",
   "metadata": {},
   "outputs": [
    {
     "name": "stdout",
     "output_type": "stream",
     "text": [
      "1번go!!\n",
      "2번go!!\n",
      "3번go!!\n",
      "4번go!!\n",
      "5번go!!\n"
     ]
    }
   ],
   "source": [
    "# 민코딩 훈련반1 Level 3.5 - 문제 13번 : 순서대로 Go!\n",
    "\n",
    "for i in range(5):\n",
    "    print(f\"{i+1}번go!!\")"
   ]
  },
  {
   "cell_type": "code",
   "execution_count": 24,
   "id": "1839dd1b",
   "metadata": {},
   "outputs": [
    {
     "name": "stdout",
     "output_type": "stream",
     "text": [
      "1111 2222\n",
      "로그인성공\n"
     ]
    }
   ],
   "source": [
    "# 민코딩 훈련반1 Level 3.5 - 문제 14번 : 아이디와 비밀번호 입력받기\n",
    "\n",
    "a, b = map(int, input().split())\n",
    "if a==1111 and b==2222:\n",
    "    print(\"로그인성공\")\n",
    "elif a==1111 and b!=2222:\n",
    "    print(\"비밀번호가 틀렸습니다\")\n",
    "else:\n",
    "    print(\"아이디가 틀렸습니다\")"
   ]
  },
  {
   "cell_type": "code",
   "execution_count": 25,
   "id": "32b7eb0f",
   "metadata": {},
   "outputs": [
    {
     "name": "stdout",
     "output_type": "stream",
     "text": [
      "5\n",
      "543210"
     ]
    }
   ],
   "source": [
    "# 민코딩 훈련반1 Level 3.5 - 문제 15번 : 끝은 항상 0이지\n",
    "\n",
    "a = int(input())\n",
    "for i in range(a, -1, -1):\n",
    "    print(i, end=\"\")"
   ]
  }
 ],
 "metadata": {
  "kernelspec": {
   "display_name": "Python 3 (ipykernel)",
   "language": "python",
   "name": "python3"
  },
  "language_info": {
   "codemirror_mode": {
    "name": "ipython",
    "version": 3
   },
   "file_extension": ".py",
   "mimetype": "text/x-python",
   "name": "python",
   "nbconvert_exporter": "python",
   "pygments_lexer": "ipython3",
   "version": "3.10.1"
  },
  "toc": {
   "base_numbering": 1,
   "nav_menu": {},
   "number_sections": true,
   "sideBar": true,
   "skip_h1_title": false,
   "title_cell": "Table of Contents",
   "title_sidebar": "Contents",
   "toc_cell": false,
   "toc_position": {},
   "toc_section_display": true,
   "toc_window_display": false
  }
 },
 "nbformat": 4,
 "nbformat_minor": 5
}
