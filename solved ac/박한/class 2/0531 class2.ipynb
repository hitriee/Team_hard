{
 "cells": [
  {
   "cell_type": "code",
   "execution_count": 9,
   "id": "afb72b81",
   "metadata": {},
   "outputs": [
    {
     "name": "stdout",
     "output_type": "stream",
     "text": [
      "3\n",
      "21 Junkyu\n",
      "21 Dohyun\n",
      "20 Sunyoung\n",
      "20 Sunyoung \n",
      "21 Junkyu \n",
      "21 Dohyun \n"
     ]
    }
   ],
   "source": [
    "# 백준 class 2++ 10814 나이순 정렬\n",
    "\n",
    "'''\n",
    "n = int(input())\n",
    "lst = []\n",
    "for _ in range(n):\n",
    "    age, name = input().split()\n",
    "    lst.append([age, name])\n",
    "for i in range(n-1, 0, -1):\n",
    "    for j in range(i-1, -1, -1):\n",
    "        if int(lst[i][0]) < int(lst[j][0]):\n",
    "            lst[i], lst[j] = lst[j], lst[i]\n",
    "for i in range(n):\n",
    "    for j in range(2):\n",
    "        print(lst[i][j], end=\" \")\n",
    "    print()\n",
    "'''\n",
    "# 시간초과 발생 -> 람다 활용하자\n",
    "\n",
    "\n",
    "n = int(input())\n",
    "lst = []\n",
    "for _ in range(n):\n",
    "    lst.append(list(input().split()))\n",
    "lst.sort(key=lambda a:int(a[0]))\n",
    "for i in range(n):\n",
    "    for j in range(2):\n",
    "        print(lst[i][j], end=\" \")\n",
    "    print()"
   ]
  }
 ],
 "metadata": {
  "kernelspec": {
   "display_name": "Python 3 (ipykernel)",
   "language": "python",
   "name": "python3"
  },
  "language_info": {
   "codemirror_mode": {
    "name": "ipython",
    "version": 3
   },
   "file_extension": ".py",
   "mimetype": "text/x-python",
   "name": "python",
   "nbconvert_exporter": "python",
   "pygments_lexer": "ipython3",
   "version": "3.10.4"
  },
  "toc": {
   "base_numbering": 1,
   "nav_menu": {},
   "number_sections": true,
   "sideBar": true,
   "skip_h1_title": false,
   "title_cell": "Table of Contents",
   "title_sidebar": "Contents",
   "toc_cell": false,
   "toc_position": {},
   "toc_section_display": true,
   "toc_window_display": false
  }
 },
 "nbformat": 4,
 "nbformat_minor": 5
}
