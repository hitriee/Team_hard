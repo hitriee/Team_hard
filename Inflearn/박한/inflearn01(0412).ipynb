{
 "cells": [
  {
   "cell_type": "code",
   "execution_count": 9,
   "id": "de8e5def",
   "metadata": {},
   "outputs": [
    {
     "name": "stdout",
     "output_type": "stream",
     "text": [
      "A B\n",
      "1\n"
     ]
    }
   ],
   "source": [
    "# codeFestival_2. 73번\n",
    "\n",
    "from collections import deque\n",
    "\n",
    "graph = {'A': set(['B', 'C']),\n",
    "         'B': set(['A', 'D', 'E']),\n",
    "         'C': set(['A', 'F']),\n",
    "         'D': set(['B']),\n",
    "         'E': set(['B', 'F']),\n",
    "         'F': set(['C', 'E'])}\n",
    "a, b = input().split()\n",
    "used = [0]*6\n",
    "q = deque()\n",
    "q.append(a)\n",
    "used[ord(a)-ord('A')] = 1\n",
    "rst = 0\n",
    "while q:\n",
    "    for i in range(len(q)):\n",
    "        ans = q.popleft()\n",
    "        if b == ans:\n",
    "            print(rst-1)\n",
    "            break\n",
    "        rst += 1\n",
    "        for j in graph[ans]:\n",
    "            if used[ord(j)-ord('A')] == 0:\n",
    "                used[ord(j)-ord('A')] = 1\n",
    "                q.append(j)"
   ]
  }
 ],
 "metadata": {
  "kernelspec": {
   "display_name": "Python 3 (ipykernel)",
   "language": "python",
   "name": "python3"
  },
  "language_info": {
   "codemirror_mode": {
    "name": "ipython",
    "version": 3
   },
   "file_extension": ".py",
   "mimetype": "text/x-python",
   "name": "python",
   "nbconvert_exporter": "python",
   "pygments_lexer": "ipython3",
   "version": "3.10.1"
  },
  "toc": {
   "base_numbering": 1,
   "nav_menu": {},
   "number_sections": true,
   "sideBar": true,
   "skip_h1_title": false,
   "title_cell": "Table of Contents",
   "title_sidebar": "Contents",
   "toc_cell": false,
   "toc_position": {},
   "toc_section_display": true,
   "toc_window_display": false
  }
 },
 "nbformat": 4,
 "nbformat_minor": 5
}
