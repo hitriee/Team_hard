{
 "cells": [
  {
   "cell_type": "code",
   "execution_count": 5,
   "id": "4813ad01",
   "metadata": {},
   "outputs": [
    {
     "name": "stdout",
     "output_type": "stream",
     "text": [
      "93\n",
      "10\n"
     ]
    }
   ],
   "source": [
    "# codeFestival_1. 75번\n",
    "\n",
    "n = int(input())\n",
    "rst = 0\n",
    "for i in range(1, n+1):\n",
    "    if i%3==0 and i%10 != 0 and (i%10)%3==0:\n",
    "        rst += 1\n",
    "print(rst)"
   ]
  },
  {
   "cell_type": "code",
   "execution_count": 8,
   "id": "efb3bfad",
   "metadata": {},
   "outputs": [
    {
     "name": "stdout",
     "output_type": "stream",
     "text": [
      "1\n",
      "5 3\n",
      "1 0 0 1 0\n",
      "0 1 0 0 1\n",
      "0 0 0 1 0\n",
      "0 0 0 0 0\n",
      "0 0 1 0 0\n",
      "3\n"
     ]
    }
   ],
   "source": [
    "# codeFestival_1. 76번\n",
    "\n",
    "T = int(input())\n",
    "for t in range(T):\n",
    "    a, b = map(int, input().split())\n",
    "    arr = [list(map(int, input().split())) for _ in range(a)]\n",
    "    ans = 0\n",
    "    for i in range(a-b+1):\n",
    "        for j in range(a-b+1):\n",
    "            rst = 0\n",
    "            for m in range(b):\n",
    "                for n in range(b):\n",
    "                    rst += arr[i+m][j+n]\n",
    "            if rst > ans:\n",
    "                ans = rst\n",
    "print(ans)"
   ]
  }
 ],
 "metadata": {
  "kernelspec": {
   "display_name": "Python 3 (ipykernel)",
   "language": "python",
   "name": "python3"
  },
  "language_info": {
   "codemirror_mode": {
    "name": "ipython",
    "version": 3
   },
   "file_extension": ".py",
   "mimetype": "text/x-python",
   "name": "python",
   "nbconvert_exporter": "python",
   "pygments_lexer": "ipython3",
   "version": "3.10.1"
  },
  "toc": {
   "base_numbering": 1,
   "nav_menu": {},
   "number_sections": true,
   "sideBar": true,
   "skip_h1_title": false,
   "title_cell": "Table of Contents",
   "title_sidebar": "Contents",
   "toc_cell": false,
   "toc_position": {},
   "toc_section_display": true,
   "toc_window_display": false
  }
 },
 "nbformat": 4,
 "nbformat_minor": 5
}
