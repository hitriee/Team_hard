{
 "cells": [
  {
   "cell_type": "code",
   "execution_count": 1,
   "id": "ef80c4bb",
   "metadata": {},
   "outputs": [
    {
     "name": "stdout",
     "output_type": "stream",
     "text": [
      "2\n",
      "6\n"
     ]
    }
   ],
   "source": [
    "# 민코딩 훈련반1 Level 4.5 - 문제 1번 : index값 입력받고 출력하기\n",
    "\n",
    "lst = [3, 2, 6, 7, 1, 8]\n",
    "n = int(input())\n",
    "print(lst[n])"
   ]
  },
  {
   "cell_type": "code",
   "execution_count": 2,
   "id": "101c83d5",
   "metadata": {},
   "outputs": [
    {
     "name": "stdout",
     "output_type": "stream",
     "text": [
      "4\n",
      "3이 아니다\n",
      "5가 아니다\n",
      "5\n",
      "4\n",
      "3\n",
      "2\n",
      "1\n"
     ]
    }
   ],
   "source": [
    "# 민코딩 훈련반1 Level 4.5 - 문제 2번 : 복잡한 조건에 따라 문제 풀어보기\n",
    "\n",
    "n = int(input())\n",
    "if n!=3:\n",
    "    print(\"3이 아니다\")\n",
    "if n!=5:\n",
    "    print(\"5가 아니다\")\n",
    "if 1<n<10:\n",
    "    for i in range(5, 0, -1):\n",
    "        print(i)"
   ]
  },
  {
   "cell_type": "code",
   "execution_count": 5,
   "id": "4b47e73c",
   "metadata": {},
   "outputs": [
    {
     "name": "stdout",
     "output_type": "stream",
     "text": [
      "3\n",
      "33333"
     ]
    }
   ],
   "source": [
    "# 민코딩 훈련반1 Level 4.5 - 문제 3번 : 배열을 숫자를 순서대로 채우기\n",
    "\n",
    "lst = ['']*5\n",
    "n = int(input())\n",
    "for i in range(5):\n",
    "    lst[i] = n\n",
    "for j in range(5):\n",
    "    print(lst[j], end=\"\")"
   ]
  },
  {
   "cell_type": "code",
   "execution_count": 6,
   "id": "cf7fb789",
   "metadata": {},
   "outputs": [
    {
     "name": "stdout",
     "output_type": "stream",
     "text": [
      "17326"
     ]
    }
   ],
   "source": [
    "# 민코딩 훈련반1 Level 4.5 - 문제 4번 : 배열 하드코딩하기\n",
    "\n",
    "lst = [1, 7, 3, 2, 6]\n",
    "for i in range(5):\n",
    "    print(lst[i], end=\"\")"
   ]
  },
  {
   "cell_type": "code",
   "execution_count": 7,
   "id": "c0bb886a",
   "metadata": {},
   "outputs": [
    {
     "name": "stdout",
     "output_type": "stream",
     "text": [
      "3 5 4 2 1 1 2\n",
      "12\n"
     ]
    }
   ],
   "source": [
    "# 민코딩 훈련반1 Level 4.5 - 문제 5번 : 1~3등까지만\n",
    "\n",
    "lst = list(map(int, input().split()))\n",
    "n = lst[0]+lst[1]+lst[2]\n",
    "print(n)"
   ]
  },
  {
   "cell_type": "code",
   "execution_count": 8,
   "id": "cb42c96f",
   "metadata": {},
   "outputs": [
    {
     "name": "stdout",
     "output_type": "stream",
     "text": [
      "1 2 3\n",
      "3\n"
     ]
    }
   ],
   "source": [
    "# 민코딩 훈련반1 Level 4.5 - 문제 6번 : 첫번째칸 or 마지막칸\n",
    "\n",
    "lst = [3, 9, 12, 15, 55]\n",
    "a, b, c = map(int, input().split())\n",
    "summ = a+b+c\n",
    "if summ>10:\n",
    "    print(lst[-1])\n",
    "else:\n",
    "    print(lst[0])"
   ]
  },
  {
   "cell_type": "code",
   "execution_count": 9,
   "id": "f0d4b916",
   "metadata": {},
   "outputs": [
    {
     "name": "stdout",
     "output_type": "stream",
     "text": [
      "4\n",
      "-4\n",
      "8\n",
      "1\n",
      "7\n",
      "5\n"
     ]
    }
   ],
   "source": [
    "# 민코딩 훈련반1 Level 4.5 - 문제 7번 : index값 입력받고 첫번째 까지 출력\n",
    "\n",
    "lst = [5, 7, 1, 8, -4, -73, 4, 2, 20, 84]\n",
    "n = int(input())\n",
    "for i in range(n, -1, -1):\n",
    "    print(lst[i])"
   ]
  },
  {
   "cell_type": "code",
   "execution_count": 10,
   "id": "f86a6390",
   "metadata": {},
   "outputs": [
    {
     "name": "stdout",
     "output_type": "stream",
     "text": [
      "3\n",
      "3\n",
      "4\n",
      "5\n",
      "6\n",
      "7\n",
      "8\n"
     ]
    }
   ],
   "source": [
    "# 민코딩 훈련반1 Level 4.5 - 문제 8번 : 순서대로 배열에 값 채우고 출력하기\n",
    "\n",
    "lst = ['']*6\n",
    "n = int(input())\n",
    "for i in range(6):\n",
    "    lst[i] = n+i\n",
    "    print(lst[i])"
   ]
  },
  {
   "cell_type": "code",
   "execution_count": 11,
   "id": "e6a0cf85",
   "metadata": {},
   "outputs": [
    {
     "name": "stdout",
     "output_type": "stream",
     "text": [
      "3 5\n",
      "3050"
     ]
    }
   ],
   "source": [
    "# 민코딩 훈련반1 Level 4.5 - 문제 9번 : 길건너 숫자\n",
    "\n",
    "lst = [0]*4\n",
    "lst[0], lst[2] = map(int, input().split())\n",
    "for i in range(4):\n",
    "    print(lst[i], end=\"\")"
   ]
  }
 ],
 "metadata": {
  "kernelspec": {
   "display_name": "Python 3 (ipykernel)",
   "language": "python",
   "name": "python3"
  },
  "language_info": {
   "codemirror_mode": {
    "name": "ipython",
    "version": 3
   },
   "file_extension": ".py",
   "mimetype": "text/x-python",
   "name": "python",
   "nbconvert_exporter": "python",
   "pygments_lexer": "ipython3",
   "version": "3.10.1"
  },
  "toc": {
   "base_numbering": 1,
   "nav_menu": {},
   "number_sections": true,
   "sideBar": true,
   "skip_h1_title": false,
   "title_cell": "Table of Contents",
   "title_sidebar": "Contents",
   "toc_cell": false,
   "toc_position": {},
   "toc_section_display": true,
   "toc_window_display": false
  }
 },
 "nbformat": 4,
 "nbformat_minor": 5
}
