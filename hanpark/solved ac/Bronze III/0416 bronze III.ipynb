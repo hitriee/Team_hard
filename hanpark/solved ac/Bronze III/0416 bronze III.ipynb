{
 "cells": [
  {
   "cell_type": "code",
   "execution_count": 1,
   "id": "1a78dc37",
   "metadata": {},
   "outputs": [
    {
     "name": "stdout",
     "output_type": "stream",
     "text": [
      "2 2\n",
      "3\n"
     ]
    }
   ],
   "source": [
    "# 백준 브론즈3 2163번\n",
    "\n",
    "n, m = map(int, input().split())\n",
    "print(n*m-1)"
   ]
  },
  {
   "cell_type": "code",
   "execution_count": 2,
   "id": "d379643f",
   "metadata": {},
   "outputs": [
    {
     "name": "stdout",
     "output_type": "stream",
     "text": [
      "1 2\n",
      "3\n"
     ]
    }
   ],
   "source": [
    "# 백준 브론즈3 2355번\n",
    "\n",
    "a, b = map(int, input().split())\n",
    "rst = 0\n",
    "if a>=b:\n",
    "    for i in range(b, a+1):\n",
    "        rst += i\n",
    "else:\n",
    "    for i in range(a, b+1):\n",
    "        rst += i\n",
    "print(rst)"
   ]
  },
  {
   "cell_type": "code",
   "execution_count": 4,
   "id": "0fde5241",
   "metadata": {},
   "outputs": [
    {
     "name": "stdout",
     "output_type": "stream",
     "text": [
      "5\n",
      "*\n",
      "**\n",
      "***\n",
      "****\n",
      "*****\n"
     ]
    }
   ],
   "source": [
    "# 백준 브론즈3 2438번\n",
    "\n",
    "n = int(input())\n",
    "for i in range(n):\n",
    "    for j in range(i+1):\n",
    "        print('*', end=\"\")\n",
    "    print()"
   ]
  },
  {
   "cell_type": "code",
   "execution_count": 8,
   "id": "68eddba5",
   "metadata": {},
   "outputs": [
    {
     "name": "stdout",
     "output_type": "stream",
     "text": [
      "5\n",
      "    *\n",
      "   **\n",
      "  ***\n",
      " ****\n",
      "*****\n"
     ]
    }
   ],
   "source": [
    "# 백준 브론즈3 2439번\n",
    "\n",
    "n = int(input())\n",
    "lst = [' ']*n\n",
    "for i in range(n):\n",
    "    lst[n-(i+1)] = '*'\n",
    "    for j in range(n):\n",
    "        print(lst[j], end=\"\")\n",
    "    print()"
   ]
  },
  {
   "cell_type": "code",
   "execution_count": 10,
   "id": "475b4f8f",
   "metadata": {},
   "outputs": [
    {
     "name": "stdout",
     "output_type": "stream",
     "text": [
      "5\n",
      "*****\n",
      "****\n",
      "***\n",
      "**\n",
      "*\n"
     ]
    }
   ],
   "source": [
    "# 백준 브론즈3 2440번\n",
    "\n",
    "n = int(input())\n",
    "for i in range(n, 0, -1):\n",
    "    for j in range(i):\n",
    "        print('*', end=\"\")\n",
    "    print()"
   ]
  },
  {
   "cell_type": "code",
   "execution_count": 12,
   "id": "59b9c8e8",
   "metadata": {},
   "outputs": [
    {
     "name": "stdout",
     "output_type": "stream",
     "text": [
      "5\n",
      "*****\n",
      " ****\n",
      "  ***\n",
      "   **\n",
      "    *\n"
     ]
    }
   ],
   "source": [
    "# 백준 브론즈3 2441번\n",
    "\n",
    "n = int(input())\n",
    "lst = ['*']*n\n",
    "for i in range(n):\n",
    "    if i > 0:\n",
    "        lst[i-1] = ' '\n",
    "    for j in range(n):\n",
    "        print(lst[j], end=\"\")\n",
    "    print()"
   ]
  },
  {
   "cell_type": "code",
   "execution_count": 14,
   "id": "b85d1bad",
   "metadata": {},
   "outputs": [
    {
     "name": "stdout",
     "output_type": "stream",
     "text": [
      "5\n",
      "    *    \n",
      "   ***   \n",
      "  *****  \n",
      " ******* \n",
      "*********\n"
     ]
    }
   ],
   "source": [
    "# 백준 브론즈3 2442번\n",
    "\n",
    "n = int(input())\n",
    "lst = [' ']*(2*n-1)\n",
    "for i in range(n):\n",
    "    lst[n-1+i] = '*'\n",
    "    lst[n-1-i] = '*'\n",
    "    for j in range(2*n-1):\n",
    "        print(lst[j], end=\"\")\n",
    "    print()"
   ]
  },
  {
   "cell_type": "code",
   "execution_count": 15,
   "id": "934dfe59",
   "metadata": {},
   "outputs": [
    {
     "name": "stdout",
     "output_type": "stream",
     "text": [
      "5\n",
      "*********\n",
      " ******* \n",
      "  *****  \n",
      "   ***   \n",
      "    *    \n"
     ]
    }
   ],
   "source": [
    "# 백준 브론즈3 2443번\n",
    "\n",
    "n = int(input())\n",
    "lst = ['*']*(2*n-1)\n",
    "for i in range(n):\n",
    "    if i > 0:\n",
    "        lst[i-1] = ' '\n",
    "        lst[-i] = ' '\n",
    "    for j in range(2*n-1):\n",
    "        print(lst[j], end=\"\")\n",
    "    print()"
   ]
  },
  {
   "cell_type": "code",
   "execution_count": 23,
   "id": "7b60b21a",
   "metadata": {},
   "outputs": [
    {
     "name": "stdout",
     "output_type": "stream",
     "text": [
      "5\n",
      "    *    \n",
      "   ***   \n",
      "  *****  \n",
      " ******* \n",
      "*********\n",
      " ******* \n",
      "  *****  \n",
      "   ***   \n",
      "    *    \n",
      "         \n"
     ]
    }
   ],
   "source": [
    "# 백준 브론즈3 2444번\n",
    "\n",
    "n = int(input())\n",
    "lst = [' ']*(2*n-1)\n",
    "def abc(level):\n",
    "    if level == n:\n",
    "        return\n",
    "    lst[n-1-(level)] = '*'\n",
    "    lst[n-1+(level)] = '*'\n",
    "    for j in range(2*n-1):\n",
    "        print(lst[j], end=\"\")\n",
    "    print()\n",
    "    abc(level+1)\n",
    "    lst[n-1-(level)] = ' '\n",
    "    lst[n-1+(level)] = ' '\n",
    "    for j in range(2*n-1):\n",
    "        print(lst[j], end=\"\")\n",
    "    print()\n",
    "abc(0)"
   ]
  },
  {
   "cell_type": "code",
   "execution_count": 24,
   "id": "b80dac1d",
   "metadata": {},
   "outputs": [
    {
     "name": "stdout",
     "output_type": "stream",
     "text": [
      "5\n",
      "*        *\n",
      "**      **\n",
      "***    ***\n",
      "****  ****\n",
      "**********\n",
      "****  ****\n",
      "***    ***\n",
      "**      **\n",
      "*        *\n",
      "          \n"
     ]
    }
   ],
   "source": [
    "# 백준 브론즈3 2445번\n",
    "\n",
    "n = int(input())\n",
    "lst = [' ']*(2*n)\n",
    "def abc(level):\n",
    "    if level == n:\n",
    "        return\n",
    "    lst[level] = '*'\n",
    "    lst[-level-1] = '*'\n",
    "    for i in range(len(lst)):\n",
    "        print(lst[i], end=\"\")\n",
    "    print()\n",
    "    abc(level+1)\n",
    "    lst[level] = ' '\n",
    "    lst[-level-1] = ' '\n",
    "    for i in range(len(lst)):\n",
    "        print(lst[i], end=\"\")\n",
    "    print()\n",
    "abc(0)"
   ]
  },
  {
   "cell_type": "code",
   "execution_count": 27,
   "id": "9a6f9c0b",
   "metadata": {},
   "outputs": [
    {
     "name": "stdout",
     "output_type": "stream",
     "text": [
      "5\n",
      "*********\n",
      " ******* \n",
      "  *****  \n",
      "   ***   \n",
      "    *    \n",
      "   ***   \n",
      "  *****  \n",
      " ******* \n",
      "*********\n"
     ]
    }
   ],
   "source": [
    "# 백준 브론즈3 2446번\n",
    "\n",
    "n = int(input())\n",
    "lst = ['*']*(2*n-1)\n",
    "def abc(level):\n",
    "    for i in range(len(lst)):\n",
    "        print(lst[i], end=\"\")\n",
    "    print()\n",
    "    if level == n:\n",
    "        return\n",
    "    lst[level-1] = ' '\n",
    "    lst[-level] = ' '\n",
    "    abc(level+1)\n",
    "    lst[level-1] = '*'\n",
    "    lst[-level] = '*'\n",
    "    for i in range(len(lst)):\n",
    "        print(lst[i], end=\"\")\n",
    "    print()\n",
    "abc(1)"
   ]
  }
 ],
 "metadata": {
  "kernelspec": {
   "display_name": "Python 3 (ipykernel)",
   "language": "python",
   "name": "python3"
  },
  "language_info": {
   "codemirror_mode": {
    "name": "ipython",
    "version": 3
   },
   "file_extension": ".py",
   "mimetype": "text/x-python",
   "name": "python",
   "nbconvert_exporter": "python",
   "pygments_lexer": "ipython3",
   "version": "3.10.1"
  },
  "toc": {
   "base_numbering": 1,
   "nav_menu": {},
   "number_sections": true,
   "sideBar": true,
   "skip_h1_title": false,
   "title_cell": "Table of Contents",
   "title_sidebar": "Contents",
   "toc_cell": false,
   "toc_position": {},
   "toc_section_display": true,
   "toc_window_display": false
  }
 },
 "nbformat": 4,
 "nbformat_minor": 5
}
