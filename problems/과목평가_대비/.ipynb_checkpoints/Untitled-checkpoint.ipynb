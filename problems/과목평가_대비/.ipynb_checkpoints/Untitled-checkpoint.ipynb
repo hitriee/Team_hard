{
 "cells": [
  {
   "cell_type": "code",
   "execution_count": null,
   "id": "cbc1b610",
   "metadata": {},
   "outputs": [],
   "source": [
    "1)3,4,5,6,7,8,9,10\n",
    "1-2)error\n",
    "2) 1,2,3,4,5\n",
    "3)6,7,8,9,10\n",
    "4)1,3,5,7\n",
    "5)1,3,5,7\n",
    "6) 1,3,5,7,9\n",
    "7)5,7,9\n",
    "8)1,2,3,4,5,6,7,8,9,10\n",
    "9)\n",
    "10)1,2,3,4,5,6,7,8\n",
    "11)7,6,5,4,3,2,1\n",
    "12) \n",
    "13)\n",
    "14)\n"
   ]
  },
  {
   "cell_type": "code",
   "execution_count": null,
   "id": "2f24f0eb",
   "metadata": {},
   "outputs": [],
   "source": [
    "10 \n",
    "abc+++++\n",
    "+++++abc\n",
    "lmlmabc\n",
    "+++abc+++\n",
    "0000-1234\n",
    "0000-1234\n",
    "    "
   ]
  },
  {
   "cell_type": "code",
   "execution_count": null,
   "id": "b270fcd4",
   "metadata": {},
   "outputs": [],
   "source": [
    "4\n",
    "5\n",
    "0\n",
    "5\n",
    "1\n",
    "2"
   ]
  },
  {
   "cell_type": "code",
   "execution_count": null,
   "id": "9912d254",
   "metadata": {},
   "outputs": [],
   "source": []
  },
  {
   "cell_type": "code",
   "execution_count": null,
   "id": "1f3f6a2e",
   "metadata": {},
   "outputs": [],
   "source": [
    "(1,2,3), tuple\n",
    "1, tuple"
   ]
  },
  {
   "cell_type": "code",
   "execution_count": null,
   "id": "273456b4",
   "metadata": {},
   "outputs": [],
   "source": [
    "s!s!a!f!y\n",
    "3 5\n",
    "1 2 3\n",
    "error\n",
    "안녕hello"
   ]
  },
  {
   "cell_type": "code",
   "execution_count": null,
   "id": "ce547925",
   "metadata": {},
   "outputs": [],
   "source": [
    "True\n",
    "[1,2,[0,'b']]\n",
    "[1,2,'h'],[1,2,[0,1]]\n",
    "[1,2,{'a':'h'}],[1,2,{'a':'apple'}]\n",
    "[1,2,['a','b']][1,2,['a','b']]\n",
    "[1,2,['a','b']][1,2,[0,'b']]"
   ]
  },
  {
   "cell_type": "code",
   "execution_count": null,
   "id": "85fd6d07",
   "metadata": {},
   "outputs": [],
   "source": [
    "0120\n",
    "\n",
    "1234555"
   ]
  },
  {
   "cell_type": "code",
   "execution_count": null,
   "id": "9684b7ac",
   "metadata": {},
   "outputs": [],
   "source": [
    "킹능"
   ]
  },
  {
   "cell_type": "code",
   "execution_count": null,
   "id": "c26a1f95",
   "metadata": {},
   "outputs": [],
   "source": []
  },
  {
   "cell_type": "code",
   "execution_count": null,
   "id": "684a3280",
   "metadata": {},
   "outputs": [],
   "source": [
    "4"
   ]
  },
  {
   "cell_type": "code",
   "execution_count": null,
   "id": "28df81e7",
   "metadata": {},
   "outputs": [],
   "source": []
  },
  {
   "cell_type": "code",
   "execution_count": null,
   "id": "6034c15e",
   "metadata": {},
   "outputs": [],
   "source": []
  },
  {
   "cell_type": "code",
   "execution_count": null,
   "id": "038f1a4a",
   "metadata": {},
   "outputs": [],
   "source": []
  },
  {
   "cell_type": "code",
   "execution_count": null,
   "id": "86f7b5cc",
   "metadata": {},
   "outputs": [],
   "source": []
  },
  {
   "cell_type": "code",
   "execution_count": null,
   "id": "c69c62fb",
   "metadata": {},
   "outputs": [],
   "source": []
  },
  {
   "cell_type": "code",
   "execution_count": null,
   "id": "c9e96ce9",
   "metadata": {},
   "outputs": [],
   "source": []
  },
  {
   "cell_type": "code",
   "execution_count": null,
   "id": "c1ca00ae",
   "metadata": {},
   "outputs": [],
   "source": []
  },
  {
   "cell_type": "code",
   "execution_count": null,
   "id": "7e66b30c",
   "metadata": {},
   "outputs": [],
   "source": []
  }
 ],
 "metadata": {
  "kernelspec": {
   "display_name": "Python 3 (ipykernel)",
   "language": "python",
   "name": "python3"
  },
  "language_info": {
   "codemirror_mode": {
    "name": "ipython",
    "version": 3
   },
   "file_extension": ".py",
   "mimetype": "text/x-python",
   "name": "python",
   "nbconvert_exporter": "python",
   "pygments_lexer": "ipython3",
   "version": "3.9.7"
  },
  "toc": {
   "base_numbering": 1,
   "nav_menu": {},
   "number_sections": true,
   "sideBar": true,
   "skip_h1_title": false,
   "title_cell": "Table of Contents",
   "title_sidebar": "Contents",
   "toc_cell": false,
   "toc_position": {},
   "toc_section_display": true,
   "toc_window_display": false
  }
 },
 "nbformat": 4,
 "nbformat_minor": 5
}
