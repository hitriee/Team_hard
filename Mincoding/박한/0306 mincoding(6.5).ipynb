{
 "cells": [
  {
   "cell_type": "code",
   "execution_count": 4,
   "id": "952aa02b",
   "metadata": {},
   "outputs": [
    {
     "name": "stdout",
     "output_type": "stream",
     "text": [
      "A 3\n",
      "문자'A'의 아스키코드값은 65\n",
      "문자'3'의 아스키코드값은 51\n"
     ]
    }
   ],
   "source": [
    "# 민코딩 훈련반1 Level 6.5 - 문제 1번 : ASCII값 출력하기\n",
    "\n",
    "a, b = input().split()\n",
    "print(f\"문자'{a}'의 아스키코드값은 {ord(a)}\")\n",
    "print(f\"문자'{b}'의 아스키코드값은 {ord(b)}\")"
   ]
  },
  {
   "cell_type": "code",
   "execution_count": 6,
   "id": "a78aa0f0",
   "metadata": {},
   "outputs": [
    {
     "name": "stdout",
     "output_type": "stream",
     "text": [
      "g\n",
      "gfedcba"
     ]
    }
   ],
   "source": [
    "# 민코딩 훈련반1 Level 6.5 - 문제 2번 : 알파벳 거꾸로 출력하기\n",
    "\n",
    "a = str(input())\n",
    "for i in range(ord(a), 96, -1):\n",
    "    print(chr(i), end=\"\")"
   ]
  },
  {
   "cell_type": "code",
   "execution_count": 10,
   "id": "3387980a",
   "metadata": {},
   "outputs": [
    {
     "name": "stdout",
     "output_type": "stream",
     "text": [
      "1 4 3 5 2\n",
      "1 4 3 5 2\n",
      "1 4 3 5 2\n"
     ]
    }
   ],
   "source": [
    "# 민코딩 훈련반1 Level 6.5 - 문제 3번 : 숫자 5개 입력받고, 배열에 값 채우기\n",
    "\n",
    "lst1 = lst2 = list(map(int, input().split()))\n",
    "print(*lst1)\n",
    "print(*lst2)"
   ]
  },
  {
   "cell_type": "code",
   "execution_count": 15,
   "id": "923c9caa",
   "metadata": {},
   "outputs": [
    {
     "name": "stdout",
     "output_type": "stream",
     "text": [
      "4\n",
      "숫자문자입력!!\n"
     ]
    }
   ],
   "source": [
    "# 민코딩 훈련반1 Level 6.5 - 문제 4번 : 문자를 구분해주기\n",
    "\n",
    "a = input()\n",
    "if ord(a)>=97:\n",
    "    print(\"소문자입력!!\")\n",
    "elif 65<=ord(a)<=90:\n",
    "    print(\"대문자입력!!\")\n",
    "else:\n",
    "    print(\"숫자문자입력!!\")"
   ]
  },
  {
   "cell_type": "code",
   "execution_count": 18,
   "id": "5e74254a",
   "metadata": {},
   "outputs": [
    {
     "name": "stdout",
     "output_type": "stream",
     "text": [
      "3 1 2\n",
      "3 1 2\n",
      "3 1 2\n",
      "3 1 2\n",
      "3 1 2\n",
      "3 1 2\n",
      "3 1 2\n"
     ]
    }
   ],
   "source": [
    "# 민코딩 훈련반1 Level 6.5 - 문제 5번 : 합만큼 반복 하기\n",
    "\n",
    "a, b, c = map(int, input().split())\n",
    "for i in range(a+b+c):\n",
    "    print(a, b, c)"
   ]
  },
  {
   "cell_type": "code",
   "execution_count": 20,
   "id": "8c0fae86",
   "metadata": {},
   "outputs": [
    {
     "name": "stdout",
     "output_type": "stream",
     "text": [
      "1 1 1 1 1\n",
      "숫자5개발견\n"
     ]
    }
   ],
   "source": [
    "# 민코딩 훈련반1 Level 6.5 - 문제 6번 : count기법 체험해보기\n",
    "\n",
    "lst = list(input().split())\n",
    "rst = 0\n",
    "for i in range(len(lst)):\n",
    "    if ord(lst[i])<65:\n",
    "        rst += 1\n",
    "if rst>=1:\n",
    "    print(f\"숫자{rst}개발견\")\n",
    "else:\n",
    "    print(\"숫자미발견\")"
   ]
  },
  {
   "cell_type": "code",
   "execution_count": 22,
   "id": "72ffe4b3",
   "metadata": {},
   "outputs": [
    {
     "name": "stdout",
     "output_type": "stream",
     "text": [
      "t r\n",
      "T R\n"
     ]
    }
   ],
   "source": [
    "# 민코딩 훈련반1 Level 6.5 - 문제 7번 : 문자 2개 입력받고 대소문자 바꾸기\n",
    "\n",
    "lst = list(input().split())\n",
    "for i in range(len(lst)):\n",
    "    if ord(lst[i])>=97:\n",
    "        lst[i] = chr(ord(lst[i])-32)\n",
    "    else:\n",
    "        lst[i] = chr(ord(lst[i])+32)\n",
    "print(*lst)"
   ]
  },
  {
   "cell_type": "code",
   "execution_count": 27,
   "id": "799ec21b",
   "metadata": {},
   "outputs": [
    {
     "name": "stdout",
     "output_type": "stream",
     "text": [
      "G\n",
      "GHIJK\n",
      "GFEDC"
     ]
    }
   ],
   "source": [
    "# 민코딩 훈련반1 Level 6.5 - 문제 8번 : 배열에 값 채우기\n",
    "\n",
    "lst1 = ['']*5\n",
    "lst2 = ['']*5\n",
    "a = str(input())\n",
    "for i in range(5):\n",
    "    lst1[i] = chr(ord(a)+i)\n",
    "    print(lst1[i], end=\"\")\n",
    "print()\n",
    "for j in range(5):\n",
    "    lst2[j] = chr(ord(a)-j)\n",
    "    print(lst2[j], end=\"\")"
   ]
  },
  {
   "cell_type": "code",
   "execution_count": 28,
   "id": "85a83b04",
   "metadata": {},
   "outputs": [
    {
     "name": "stdout",
     "output_type": "stream",
     "text": [
      "5\n",
      "8 7 2 1 4 5 \n",
      "8 7 2 1 4 5 \n",
      "8 7 2 1 4 5 \n",
      "8 7 2 1 4 5 \n",
      "8 7 2 1 4 5 \n"
     ]
    }
   ],
   "source": [
    "# 민코딩 훈련반1 Level 6.5 - 문제 9번 : n번 반대로\n",
    "\n",
    "lst = [5, 4, 1, 2, 7, 8]\n",
    "n = int(input())\n",
    "for i in range(n):\n",
    "    for j in range(5, -1, -1):\n",
    "        print(lst[j], end=\" \")\n",
    "    print()"
   ]
  },
  {
   "cell_type": "code",
   "execution_count": 32,
   "id": "72c42344",
   "metadata": {},
   "outputs": [
    {
     "name": "stdout",
     "output_type": "stream",
     "text": [
      "K B N\n",
      "옳지않음\n"
     ]
    }
   ],
   "source": [
    "# 민코딩 훈련반1 Level 6.5 - 문제 10번 : 세 문자 중 가장 큰 문자는?\n",
    "\n",
    "lst = list(input().split())\n",
    "if ord(lst[0])>=ord(lst[1]) and ord(lst[0])>=ord(lst[2]):\n",
    "    print(f\"옳다{lst[0]}\")\n",
    "else:\n",
    "    print(\"옳지않음\")"
   ]
  },
  {
   "cell_type": "code",
   "execution_count": 33,
   "id": "2f63d2cf",
   "metadata": {},
   "outputs": [
    {
     "name": "stdout",
     "output_type": "stream",
     "text": [
      "C Q\n",
      "14\n"
     ]
    }
   ],
   "source": [
    "# 민코딩 훈련반1 Level 6.5 - 문제 11번 : 너와 나의 간격\n",
    "\n",
    "a, b = input().split()\n",
    "print(ord(b)-ord(a))"
   ]
  }
 ],
 "metadata": {
  "kernelspec": {
   "display_name": "Python 3 (ipykernel)",
   "language": "python",
   "name": "python3"
  },
  "language_info": {
   "codemirror_mode": {
    "name": "ipython",
    "version": 3
   },
   "file_extension": ".py",
   "mimetype": "text/x-python",
   "name": "python",
   "nbconvert_exporter": "python",
   "pygments_lexer": "ipython3",
   "version": "3.10.1"
  },
  "toc": {
   "base_numbering": 1,
   "nav_menu": {},
   "number_sections": true,
   "sideBar": true,
   "skip_h1_title": false,
   "title_cell": "Table of Contents",
   "title_sidebar": "Contents",
   "toc_cell": false,
   "toc_position": {},
   "toc_section_display": true,
   "toc_window_display": false
  }
 },
 "nbformat": 4,
 "nbformat_minor": 5
}
