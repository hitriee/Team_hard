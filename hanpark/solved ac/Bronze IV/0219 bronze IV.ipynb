{
 "cells": [
  {
   "cell_type": "code",
   "execution_count": 4,
   "id": "3e244bb8",
   "metadata": {},
   "outputs": [
    {
     "name": "stdout",
     "output_type": "stream",
     "text": [
      "35\n",
      "92\n",
      "31\n",
      "50\n",
      "11\n",
      "627\n"
     ]
    }
   ],
   "source": [
    "# 백준 브론즈4 14470번\n",
    "# 고기온도 A, 목표 온도 B, 얼어있는 고기 데우는 시간 C, 해동하는 시간 D, 얼어있지 않는 고기를 데우는 시간 E\n",
    "\n",
    "A, B, C, D, E = [int(input()) for _ in range(5)]\n",
    "if A<=0:\n",
    "    print((-A)*C + D + E*B)\n",
    "else:\n",
    "    print(E*(B-A))"
   ]
  },
  {
   "cell_type": "code",
   "execution_count": 10,
   "id": "e0433997",
   "metadata": {},
   "outputs": [
    {
     "name": "stdout",
     "output_type": "stream",
     "text": [
      "1010\n",
      "10\n",
      "10100\n"
     ]
    }
   ],
   "source": [
    "# 백준 브론즈4 14623번\n",
    "# 이진수 두 개 받아서 곱하기\n",
    "\n",
    "B1, B2 = [str(input()) for _ in range(2)]\n",
    "B1 = int(B1, 2)\n",
    "B2 = int(B2, 2)\n",
    "print(bin(B1*B2)[2:])"
   ]
  },
  {
   "cell_type": "code",
   "execution_count": 13,
   "id": "2784c8d8",
   "metadata": {},
   "outputs": [
    {
     "name": "stdout",
     "output_type": "stream",
     "text": [
      "12\n",
      "5\n",
      "1\n"
     ]
    }
   ],
   "source": [
    "# 백준 브론즈4 14681번\n",
    "# x, y 받아서 4분면 중 어디인지 출력하기\n",
    "\n",
    "x, y = [int(input()) for _ in range(2)]\n",
    "if x>0 and y>0:\n",
    "    print(1)\n",
    "elif x<0 and y<0:\n",
    "    print(3)\n",
    "elif x>0 and y<0:\n",
    "    print(4)\n",
    "else:\n",
    "    print(2)"
   ]
  },
  {
   "cell_type": "code",
   "execution_count": 17,
   "id": "0603f0e6",
   "metadata": {},
   "outputs": [
    {
     "name": "stdout",
     "output_type": "stream",
     "text": [
      "50 75 200\n",
      "150\n"
     ]
    }
   ],
   "source": [
    "# 백준 브론즈4 14924번\n",
    "# 기차의 속도 S, 파리의 속도 T, 기차 사이의 거리 D가 주어졌을 때 두 기차가 만날 때까지 파리의 이동거리는?\n",
    "\n",
    "S, T, D = map(int, input().split())\n",
    "print(T*(D//(2*S)))"
   ]
  },
  {
   "cell_type": "code",
   "execution_count": 18,
   "id": "07606daa",
   "metadata": {},
   "outputs": [
    {
     "name": "stdout",
     "output_type": "stream",
     "text": [
      "932\n",
      "('9', 3)\n"
     ]
    }
   ],
   "source": [
    "# 백준 브론즈4 14935번\n",
    "# 주어진 수의 첫 자리수와 x의 자릿수를 곱한 결과를 반환하기\n",
    "# 이를 계속 반복했을 때 두 값이 같아지면 FA수. FA 수인가?\n",
    "\n",
    "print(\"FA\")\n",
    "'''\n",
    "x = int(input())\n",
    "while(1):\n",
    "    y = int(str(x)[0])*len(str(x))\n",
    "    if x == y:\n",
    "        return 1\n",
    "    else:\n",
    "        if len(y) == 1:\n",
    "            break\n",
    "        else:\n",
    "            x = y\n",
    "결국 한 자리 수가 되면 다 FA수가 되네..\n",
    "'''"
   ]
  }
 ],
 "metadata": {
  "kernelspec": {
   "display_name": "Python 3 (ipykernel)",
   "language": "python",
   "name": "python3"
  },
  "language_info": {
   "codemirror_mode": {
    "name": "ipython",
    "version": 3
   },
   "file_extension": ".py",
   "mimetype": "text/x-python",
   "name": "python",
   "nbconvert_exporter": "python",
   "pygments_lexer": "ipython3",
   "version": "3.10.1"
  },
  "toc": {
   "base_numbering": 1,
   "nav_menu": {},
   "number_sections": true,
   "sideBar": true,
   "skip_h1_title": false,
   "title_cell": "Table of Contents",
   "title_sidebar": "Contents",
   "toc_cell": false,
   "toc_position": {},
   "toc_section_display": true,
   "toc_window_display": false
  }
 },
 "nbformat": 4,
 "nbformat_minor": 5
}
