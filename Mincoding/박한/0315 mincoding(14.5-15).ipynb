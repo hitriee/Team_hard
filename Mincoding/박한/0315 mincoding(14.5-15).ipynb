{
 "cells": [
  {
   "cell_type": "code",
   "execution_count": 3,
   "id": "9790ceb0",
   "metadata": {},
   "outputs": [
    {
     "name": "stdout",
     "output_type": "stream",
     "text": [
      "2\n",
      "1 2 3 4 5\n",
      "1 2 3 4 5\n",
      "1 2 3 4 5\n",
      "1 2 3 4 5\n",
      "1 2 3 4 5\n",
      "1 2 3 4 5 \n",
      "1 2 3 4 \n",
      "1 2 3 \n",
      "1 2 \n",
      "1 \n"
     ]
    }
   ],
   "source": [
    "# 민코딩 훈련반1 Level 14.5 - 문제 2번 : 민선생의 새우 양식장\n",
    "\n",
    "n = int(input())\n",
    "arr = [list(map(int, input().split())) for _ in range(5)]\n",
    "for i in range(5):\n",
    "    for j in range(5):\n",
    "        if n==1:\n",
    "            if i >= j:\n",
    "                print(arr[i][j], end=\" \")\n",
    "        else:\n",
    "            if i+j <= 4:\n",
    "                print(arr[i][j], end=\" \")\n",
    "    print()"
   ]
  },
  {
   "cell_type": "code",
   "execution_count": 6,
   "id": "e2c21c36",
   "metadata": {},
   "outputs": [
    {
     "name": "stdout",
     "output_type": "stream",
     "text": [
      "3\n",
      "33333\n",
      "33333\n",
      "33333\n"
     ]
    }
   ],
   "source": [
    "# 민코딩 훈련반1 Level 14.5 - 문제 3번 : 이중 while 연습하기\n",
    "\n",
    "n = int(input())\n",
    "i = 0\n",
    "while i < 3:\n",
    "    j = 0\n",
    "    while j < 5:\n",
    "        print(n, end=\"\")\n",
    "        j += 1\n",
    "    i+=1\n",
    "    print()"
   ]
  },
  {
   "cell_type": "code",
   "execution_count": 8,
   "id": "bc15a89b",
   "metadata": {},
   "outputs": [
    {
     "name": "stdout",
     "output_type": "stream",
     "text": [
      "DCBA\n",
      "QWLBB\n",
      "ABCDBBLQW"
     ]
    }
   ],
   "source": [
    "# 민코딩 훈련반1 Level 14.5 - 문제 5번 : 정렬하고 배열 하나로 몰아보자\n",
    "\n",
    "a = list(input())\n",
    "b = list(input())\n",
    "for i in range(len(a)):\n",
    "    for j in range(i+1, len(a)):\n",
    "        if ord(a[i]) > ord(a[j]):\n",
    "            a[i], a[j] = a[j], a[i]\n",
    "for i in range(len(b)):\n",
    "    for j in range(i+1, len(b)):\n",
    "        if ord(b[i]) > ord(b[j]):\n",
    "            b[i], b[j] = b[j], b[i]\n",
    "lst = ['']*(len(a)+len(b))\n",
    "for i in range(len(a)):\n",
    "    lst[i] = a[i]\n",
    "    print(lst[i], end=\"\")\n",
    "for j in range(len(a), len(a)+len(b)):\n",
    "    lst[j] = b[j-len(a)]\n",
    "    print(lst[j], end=\"\")"
   ]
  },
  {
   "cell_type": "code",
   "execution_count": 14,
   "id": "5c0fe76e",
   "metadata": {},
   "outputs": [
    {
     "name": "stdout",
     "output_type": "stream",
     "text": [
      "123\n",
      " 45\n",
      "  6\n"
     ]
    }
   ],
   "source": [
    "# 민코딩 훈련반1 Level 14.5 - 문제 6번 : 배열에 값 채워주기\n",
    "\n",
    "def main():\n",
    "    arr = [['']*3 for _ in range(3)]\n",
    "    lst = Magic(arr)\n",
    "    Outputt(lst)\n",
    "def Magic(ar):\n",
    "    for i in range(3):\n",
    "        for j in range(3):\n",
    "            if j >= i:\n",
    "                ar[i][j] = (i*(5-i))//2+j+1\n",
    "    return ar\n",
    "def Outputt(a):\n",
    "    for i in range(3):\n",
    "        for j in range(3):\n",
    "            if a[i][j] == '':\n",
    "                print(' ', end=\"\")\n",
    "            else:\n",
    "                print(a[i][j], end=\"\")\n",
    "        print()\n",
    "main()"
   ]
  },
  {
   "cell_type": "code",
   "execution_count": 16,
   "id": "d1d5c9be",
   "metadata": {},
   "outputs": [
    {
     "name": "stdout",
     "output_type": "stream",
     "text": [
      "MINST\n",
      "MINSK\n",
      "다름\n"
     ]
    }
   ],
   "source": [
    "# 민코딩 훈련반1 Level 15 - 문제 1번 : 두 문장이 모두 같을까?\n",
    "\n",
    "a = list(input())\n",
    "b = list(input())\n",
    "if len(a) != len(b):\n",
    "    print(\"다름\")\n",
    "else:\n",
    "    rst = 0\n",
    "    for i in range(len(a)):\n",
    "        if a[i] == b[i]:\n",
    "            rst += 1\n",
    "    if rst == len(a):\n",
    "        print(\"같음\")\n",
    "    else:\n",
    "        print(\"다름\")"
   ]
  },
  {
   "cell_type": "code",
   "execution_count": 17,
   "id": "7d56f4aa",
   "metadata": {},
   "outputs": [
    {
     "name": "stdout",
     "output_type": "stream",
     "text": [
      "5127\n",
      "숫자5\n",
      "숫자1\n",
      "숫자2\n",
      "숫자7\n"
     ]
    }
   ],
   "source": [
    "# 민코딩 훈련반1 Level 15 - 문제 2번 : 숫자 쪼개기\n",
    "\n",
    "n = int(input())\n",
    "lst = [0]*4\n",
    "lst[0], lst[1], lst[2], lst[3] = n//1000, (n%1000)//100, (n%100)//10, n%10\n",
    "for i in range(4):\n",
    "    print(f\"숫자{lst[i]}\")"
   ]
  },
  {
   "cell_type": "code",
   "execution_count": 18,
   "id": "78d9f5b4",
   "metadata": {},
   "outputs": [
    {
     "name": "stdout",
     "output_type": "stream",
     "text": [
      "1 3 5 7 5 6\n",
      "완벽한배치\n"
     ]
    }
   ],
   "source": [
    "# 민코딩 훈련반1 Level 15 - 문제 3번 : 너와 나와의 거리\n",
    "\n",
    "lst = list(map(int, input().split()))\n",
    "rst = 0\n",
    "for i in range(1, len(lst)):\n",
    "    if -3 < lst[i]-lst[i-1] < 3:\n",
    "        pass\n",
    "    else:\n",
    "        rst +=1\n",
    "        break\n",
    "if not rst:\n",
    "    print(\"완벽한배치\")\n",
    "else:\n",
    "    print(\"재배치필요\")"
   ]
  },
  {
   "cell_type": "code",
   "execution_count": 19,
   "id": "fc87d826",
   "metadata": {},
   "outputs": [
    {
     "name": "stdout",
     "output_type": "stream",
     "text": [
      "NC@Q\n",
      "Q@CN\n",
      "거울문장\n"
     ]
    }
   ],
   "source": [
    "# 민코딩 훈련반1 Level 15 - 문제 4번 : 거울문장이 맞나요\n",
    "\n",
    "a = list(input())\n",
    "b = list(input())\n",
    "if len(a) != len(b):\n",
    "    print(\"거울문장아님\")\n",
    "else:\n",
    "    rst = 0\n",
    "    for i in range(len(a)):\n",
    "        if b[i] == a[len(a)-1-i]:\n",
    "            pass\n",
    "        else:\n",
    "            rst += 1\n",
    "            break\n",
    "    if not rst:\n",
    "        print(\"거울문장\")\n",
    "    else:\n",
    "        print(\"거울문장아님\")"
   ]
  },
  {
   "cell_type": "code",
   "execution_count": 21,
   "id": "46356170",
   "metadata": {},
   "outputs": [
    {
     "name": "stdout",
     "output_type": "stream",
     "text": [
      "abcd\n",
      "bbq\n",
      "uiouio\n",
      "mins\n",
      "3 4 4 6\n"
     ]
    }
   ],
   "source": [
    "# 민코딩 훈련반1 Level 15 - 문제 5번 : 문장의 길이를 정렬하기\n",
    "\n",
    "arr = [list(input()) for _ in range(4)]\n",
    "lst = [0]*4\n",
    "for i in range(4):\n",
    "    lst[i] = len(arr[i])\n",
    "for i in range(4):\n",
    "    for j in range(i+1, 4):\n",
    "        if lst[i] > lst[j]:\n",
    "            lst[i], lst[j] = lst[j], lst[i]\n",
    "print(*lst)"
   ]
  },
  {
   "cell_type": "code",
   "execution_count": 22,
   "id": "1f532e5c",
   "metadata": {},
   "outputs": [
    {
     "name": "stdout",
     "output_type": "stream",
     "text": [
      "AgKeOqV\n",
      "개구리문장\n"
     ]
    }
   ],
   "source": [
    "# 민코딩 훈련반1 Level 15 - 문제 6번 : 개구리문장 판별하기\n",
    "\n",
    "lst = list(input())\n",
    "rst = 0\n",
    "for i in range(len(lst)):\n",
    "    if i%2 == 1:\n",
    "        if lst[i].lower() == lst[i]:\n",
    "            rst += 1\n",
    "    else:\n",
    "        if lst[i].upper() == lst[i]:\n",
    "            rst += 1\n",
    "if rst == len(lst):\n",
    "    print('개구리문장')\n",
    "else:\n",
    "    print(\"일반문장\")"
   ]
  },
  {
   "cell_type": "code",
   "execution_count": 23,
   "id": "f88ce5b2",
   "metadata": {},
   "outputs": [
    {
     "name": "stdout",
     "output_type": "stream",
     "text": [
      "APLQF\n",
      "A=마을사람\n",
      "P=외부사람\n",
      "L=외부사람\n",
      "Q=마을사람\n",
      "F=외부사람\n"
     ]
    }
   ],
   "source": [
    "# 민코딩 훈련반1 Level 15 - 문제 7번 : 범죄자 찾아내기\n",
    "\n",
    "lst = ['A', 'B', 'C', 'Z', 'E', 'T', 'Q']\n",
    "lst1 = list(input())\n",
    "for i in range(len(lst1)):\n",
    "    rst = 0\n",
    "    for j in range(len(lst)):\n",
    "        if lst1[i] == lst[j]:\n",
    "            rst += 1\n",
    "            break\n",
    "    if not rst:\n",
    "        print(f\"{lst1[i]}=외부사람\")\n",
    "    else:\n",
    "        print(f\"{lst1[i]}=마을사람\")"
   ]
  },
  {
   "cell_type": "code",
   "execution_count": 24,
   "id": "392d5390",
   "metadata": {},
   "outputs": [
    {
     "name": "stdout",
     "output_type": "stream",
     "text": [
      "ABC\n",
      "BBQ\n",
      "KFC\n",
      "SHOSHOW\n",
      "OPT\n",
      "SHOSHOW"
     ]
    }
   ],
   "source": [
    "# 민코딩 훈련반1 Level 15 - 문제 8번 : 다섯 문장 중 가장 긴 문장 찾기\n",
    "\n",
    "arr = [list(input()) for _ in range(5)]\n",
    "rst = 0\n",
    "for i in range(5):\n",
    "    if len(arr[i]) > rst:\n",
    "        rst = len(arr[i])\n",
    "for i in range(5):\n",
    "    if len(arr[i]) == rst:\n",
    "        for j in range(len(arr[i])):\n",
    "            print(arr[i][j], end=\"\")"
   ]
  },
  {
   "cell_type": "code",
   "execution_count": 28,
   "id": "4d0a07ae",
   "metadata": {},
   "outputs": [
    {
     "name": "stdout",
     "output_type": "stream",
     "text": [
      "B\n",
      "2\n"
     ]
    }
   ],
   "source": [
    "# 민코딩 훈련반1 Level 15 - 문제 9번 : 여러 문장 하드코딩 후 출력하기\n",
    "\n",
    "a = 'BBQ'\n",
    "b = 'KFCAPPLE'\n",
    "c = 'LOT'\n",
    "A, B, C = list(a), list(b), list(c)\n",
    "d = input()\n",
    "def cnt(D):\n",
    "    rst = 0\n",
    "    for i in range(len(D)):\n",
    "        if d == D[i]:\n",
    "            rst += 1\n",
    "    return rst\n",
    "print(cnt(A) + cnt(B) + cnt(C))"
   ]
  },
  {
   "cell_type": "code",
   "execution_count": 29,
   "id": "8ad1f7ef",
   "metadata": {},
   "outputs": [
    {
     "name": "stdout",
     "output_type": "stream",
     "text": [
      "DATA\n",
      "TOPCON\n",
      "BBQ\n",
      "4=DATA\n",
      "6=TOPCON\n",
      "3=BBQ\n"
     ]
    }
   ],
   "source": [
    "# 민코딩 훈련반1 Level 15 - 문제 10번 : 문장을 입력받고 길이 구하기\n",
    "\n",
    "def main():\n",
    "    arr = [list(input()) for _ in range(3)]\n",
    "    CountLine(arr)\n",
    "def CountLine(a):\n",
    "    for i in range(3):\n",
    "        print(f\"{len(a[i])}=\", end=\"\")\n",
    "        for j in range(len(a[i])):\n",
    "            print(a[i][j], end=\"\")\n",
    "        print()\n",
    "main()"
   ]
  },
  {
   "cell_type": "code",
   "execution_count": 1,
   "id": "41592826",
   "metadata": {},
   "outputs": [
    {
     "name": "stdout",
     "output_type": "stream",
     "text": [
      "SHOW\n",
      "YOUR\n",
      "JASON\n",
      "DATA\n",
      "중발견\n"
     ]
    }
   ],
   "source": [
    "# 민코딩 훈련반1 Level 15 - 문제 11번 : 원하는 글자 찾기\n",
    "\n",
    "arr = [list(input()) for _ in range(4)]\n",
    "a, b = 0, 0\n",
    "for i in range(4):\n",
    "    for j in range(len(arr[i])):\n",
    "        if arr[i][j] == 'A':\n",
    "            a += 1\n",
    "        elif arr[i][j] == 'B':\n",
    "            b += 1\n",
    "if a == 0 and b == 0:\n",
    "    print(\"미발견\")\n",
    "elif a != 0 and b != 0:\n",
    "    print(\"대발견\")\n",
    "else:\n",
    "    print(\"중발견\")"
   ]
  },
  {
   "cell_type": "code",
   "execution_count": 3,
   "id": "09776f5a",
   "metadata": {},
   "outputs": [
    {
     "name": "stdout",
     "output_type": "stream",
     "text": [
      "World\n",
      "BBQ\n",
      "WorldBBQ"
     ]
    }
   ],
   "source": [
    "# 민코딩 훈련반1 Level 15 - 문제 12번 : 두 문장을 한 문장으로 옮기기\n",
    "\n",
    "arr = [list(input()) for _ in range(2)]\n",
    "lst = ['']*12\n",
    "for i in range(len(arr[0])):\n",
    "    lst[i] += arr[0][i]\n",
    "for i in range(len(arr[0]), len(arr[0])+len(arr[1])):\n",
    "    lst[i] += arr[1][i-len(arr[0])]\n",
    "for i in range(12):\n",
    "    if lst[i] == '':\n",
    "        break\n",
    "    else:\n",
    "        print(lst[i], end=\"\")"
   ]
  },
  {
   "cell_type": "code",
   "execution_count": 6,
   "id": "3dd4c91d",
   "metadata": {},
   "outputs": [
    {
     "name": "stdout",
     "output_type": "stream",
     "text": [
      "3\n",
      "AADTW\n",
      "BBQK\n"
     ]
    }
   ],
   "source": [
    "# 민코딩 훈련반1 Level 15 - 문제 13번 : 2차배열 정렬하기\n",
    "\n",
    "arr = [['D', 'A', 'T', 'A', 'W', ''], ['B', 'B', 'Q', 'K', '', '']]\n",
    "n = int(input())\n",
    "if n%2 == 1:\n",
    "    arr[0].sort()\n",
    "else:\n",
    "    arr[1].sort()\n",
    "for i in range(2):\n",
    "    for j in range(len(arr[i])):\n",
    "        if arr[i][j] != '':\n",
    "            print(arr[i][j], end=\"\")\n",
    "    print()"
   ]
  },
  {
   "cell_type": "code",
   "execution_count": 7,
   "id": "292e1565",
   "metadata": {},
   "outputs": [
    {
     "name": "stdout",
     "output_type": "stream",
     "text": [
      "1 3\n",
      "OTIBCDOUR"
     ]
    }
   ],
   "source": [
    "# 민코딩 훈련반1 Level 15 - 문제 14번 : 일부 문장만 오려내기\n",
    "\n",
    "arr = [['P', 'O', 'T', 'I', 'O', ''], ['A', 'B', 'C', 'D', 'E', ''], ['Y', 'O', 'U', 'R', 'E', '']]\n",
    "a, b = map(int, input().split())\n",
    "for i in range(3):\n",
    "    for j in range(a, b+1):\n",
    "        print(arr[i][j], end=\"\")"
   ]
  },
  {
   "cell_type": "code",
   "execution_count": 9,
   "id": "810485aa",
   "metadata": {},
   "outputs": [
    {
     "name": "stdout",
     "output_type": "stream",
     "text": [
      "BackLog\n",
      "BackBt\n",
      "3\n"
     ]
    }
   ],
   "source": [
    "# 민코딩 훈련반1 Level 15 - 문제 15번 : 두 문장 중 같은 문장의 갯수 세기\n",
    "\n",
    "arr = [list(input()) for _ in range(2)]\n",
    "rst = 0\n",
    "if len(arr[1]) > len(arr[0]):\n",
    "    for i in range(len(arr[0])):\n",
    "        if arr[0][i] != arr[1][i]:\n",
    "            rst += 1\n",
    "    rst += len(arr[1])-len(arr[0])\n",
    "else:\n",
    "    for i in range(len(arr[1])):\n",
    "        if arr[0][i] != arr[1][i]:\n",
    "            rst += 1\n",
    "    rst += len(arr[0])-len(arr[1])\n",
    "print(rst)"
   ]
  },
  {
   "cell_type": "code",
   "execution_count": 18,
   "id": "cf056c29",
   "metadata": {},
   "outputs": [
    {
     "name": "stdout",
     "output_type": "stream",
     "text": [
      "A\n",
      "DEF\n",
      "BC\n",
      "A\n"
     ]
    }
   ],
   "source": [
    "# 민코딩 훈련반1 Level 15 - 문제 16번 : 이중 while로 배열에 값 채우기\n",
    "\n",
    "a = input()\n",
    "arr = [['']*3 for _ in range(3)]\n",
    "i, j, rst = 2, 0, 0\n",
    "while i >= 0:\n",
    "    while j <= 2-i:\n",
    "        arr[i][j] = chr(ord(a)+rst)\n",
    "        j += 1\n",
    "        rst += 1\n",
    "    j = 0\n",
    "    i -= 1\n",
    "    if i < 0:\n",
    "        break\n",
    "    arr[i][j] = chr(ord(a)+rst)\n",
    "    rst += 1\n",
    "    j += 1\n",
    "for i in range(3):\n",
    "    for j in range(3):\n",
    "        print(arr[i][j], end=\"\")\n",
    "    print()"
   ]
  }
 ],
 "metadata": {
  "kernelspec": {
   "display_name": "Python 3 (ipykernel)",
   "language": "python",
   "name": "python3"
  },
  "language_info": {
   "codemirror_mode": {
    "name": "ipython",
    "version": 3
   },
   "file_extension": ".py",
   "mimetype": "text/x-python",
   "name": "python",
   "nbconvert_exporter": "python",
   "pygments_lexer": "ipython3",
   "version": "3.10.1"
  },
  "toc": {
   "base_numbering": 1,
   "nav_menu": {},
   "number_sections": true,
   "sideBar": true,
   "skip_h1_title": false,
   "title_cell": "Table of Contents",
   "title_sidebar": "Contents",
   "toc_cell": false,
   "toc_position": {},
   "toc_section_display": true,
   "toc_window_display": false
  }
 },
 "nbformat": 4,
 "nbformat_minor": 5
}
