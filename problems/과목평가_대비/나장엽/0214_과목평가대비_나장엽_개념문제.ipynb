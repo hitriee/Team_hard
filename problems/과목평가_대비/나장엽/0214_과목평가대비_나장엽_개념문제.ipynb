{
 "cells": [
  {
   "cell_type": "code",
   "execution_count": null,
   "id": "df31fe3d",
   "metadata": {},
   "outputs": [],
   "source": [
    "1. 빈칸을 채우세요\n",
    "    Q) HTML은 웹 페이지를 작성(___)하기 위한 언어\n",
    "    A) 구조화\n",
    "    "
   ]
  },
  {
   "cell_type": "code",
   "execution_count": null,
   "id": "ac3a6587",
   "metadata": {},
   "outputs": [],
   "source": [
    "2. 빈칸을 채우세요\n",
    "\n",
    "    Q) HTML 의 기본구조를 작성하세요\n",
    "    \n",
    "    <!DOCTYPE ____>\n",
    "    <html lang=\"ko\">\n",
    "    <____>\n",
    "            <meta charset=\"UTF-8\">\n",
    "            <title>과목평가대비</title>\n",
    "    </____>\n",
    "    <____>\n",
    "    \n",
    "            blah blah blah~\n",
    "    </____>\n",
    "    </html>"
   ]
  },
  {
   "cell_type": "code",
   "execution_count": null,
   "id": "3bbe76cc",
   "metadata": {},
   "outputs": [],
   "source": []
  },
  {
   "cell_type": "code",
   "execution_count": null,
   "id": "614572c7",
   "metadata": {},
   "outputs": [],
   "source": [
    "3. html의 <head> 에는 html 문서의 __데이터를 정의하는 곳 / 일반적으로 브라우저에 표현이 되는가? 안되는가?\n",
    "   빈칸에 들어갈 알맞은 말은?\n"
   ]
  },
  {
   "cell_type": "code",
   "execution_count": null,
   "id": "35d62057",
   "metadata": {},
   "outputs": [],
   "source": [
    "4. 빈칸을 채우세요\n",
    "    DOM TREE란?\n",
    "    \n",
    "    XML, HTML 문서의 각 항목을 __으로 표현하여, 생성, 변형, 삭제 할 수 있도록 돕는 인터페이스다.\n",
    "    \n",
    "    HTML 문서 내의 각 __에 접근/수정에 필요한 ____와 ___를 제공합니다.\n",
    "    "
   ]
  },
  {
   "cell_type": "code",
   "execution_count": null,
   "id": "a6edff2c",
   "metadata": {},
   "outputs": [],
   "source": [
    "5. HTML 기본구조\n",
    "    Q> HTML 요소(element)의 기본 구조를 작성하세요\n",
    "    힌트) html의 요소는 태그와 내용으로 구성됨.\n",
    "    \n",
    "    A> "
   ]
  },
  {
   "cell_type": "code",
   "execution_count": null,
   "id": "23807968",
   "metadata": {},
   "outputs": [],
   "source": [
    "6. HTML의 요소의 속성은 요소의 어느 태그에 작성할까요 -> 시작? 종료?\n",
    "\n"
   ]
  },
  {
   "cell_type": "code",
   "execution_count": null,
   "id": "e931b77e",
   "metadata": {},
   "outputs": [],
   "source": [
    "7. 빈칸을 채우시오\n",
    "\n",
    "Q> HTML5에서 등장했으며, 의미론적인 요소를 담은 태그가 등장하였다.\n",
    "   ___태그가 아닌 div와 span의 경우 코드를 살펴봐야 어떤 의미인지 알 수 있었다.\n",
    "   ___태그가 등장한 이후, 이름만 보고 알 수 있다.\n"
   ]
  },
  {
   "cell_type": "code",
   "execution_count": null,
   "id": "c7249313",
   "metadata": {},
   "outputs": [],
   "source": [
    "8. semantic 태그가 아닌 것을 고르세요\n",
    "    1. div\n",
    "    2. header\n",
    "    3. section\n",
    "    4. link\n",
    "    5. article\n",
    "    6. style"
   ]
  },
  {
   "cell_type": "code",
   "execution_count": null,
   "id": "f2133464",
   "metadata": {},
   "outputs": [],
   "source": [
    "9. CSS란 ___을 지정하기 위한 언어로, __하고, ___을 지정합니다.\n",
    "   빈칸에 들어갈 알맞은 말은 무엇일까요?\n",
    "    "
   ]
  },
  {
   "cell_type": "code",
   "execution_count": null,
   "id": "f4a9c0a5",
   "metadata": {},
   "outputs": [],
   "source": [
    "10. CSS 문법\n",
    "    h1태그에 font의 크기를 15px, 색을 하얀색으로 지정하고 싶습니다. 알맞은 css문법을 적어주세요.\n",
    "    "
   ]
  },
  {
   "cell_type": "code",
   "execution_count": null,
   "id": "5709db0a",
   "metadata": {},
   "outputs": [],
   "source": [
    "11.CSS를 적용하는데 우선순위가 있습니다. 우선순위를 순서대로 나열해주세요\n",
    "\n",
    "id/class/!important/인라인/태그 이름으로 지정한 속성/ 부모 요소에 의해 상속된 속성"
   ]
  },
  {
   "cell_type": "code",
   "execution_count": null,
   "id": "067b0819",
   "metadata": {},
   "outputs": [],
   "source": [
    "12. CSS상속\n",
    "    CSS는 상속을 통해 부모 요소의 속성을 자식에게 상속합니다.\n",
    "    이때 상속되는 것과 상속 되지 않는 것들이 있는데 상속되는 것들을 골라주세요\n",
    "    \n",
    "    font/color/width/height/text-align/"
   ]
  },
  {
   "cell_type": "code",
   "execution_count": null,
   "id": "37d4c265",
   "metadata": {},
   "outputs": [],
   "source": [
    "13. css 크기 단위\n",
    "    a> px의 크기는 변할까요 안변할까요~? ->\n",
    "    b> em은 __의 영향을 받습니다. __의 영향을 받기때문에 배수단위, 요소에 지정된 사이즈에 ____ 사이즈를 가집니다.\n",
    "    c> rem은 __의 영향을 받지 않습니다. ____의 사이즈를 기준으로 배수 단위를 가집니다. "
   ]
  },
  {
   "cell_type": "code",
   "execution_count": null,
   "id": "c3bf6c5c",
   "metadata": {},
   "outputs": [],
   "source": [
    "14. 빈칸을 채워주세요~\n",
    "    vieport란 웹 페이지를 방문한 유저에게 바로 보이게 되는 웹 컨텐츠의 영역\n",
    "    ____의 viewport를 기준으로 상대적인 사이즈가 결정됩니다.\n",
    "    vw, vh, vmin, vmax\n",
    "    "
   ]
  },
  {
   "cell_type": "code",
   "execution_count": 1,
   "id": "a609d9b5",
   "metadata": {},
   "outputs": [
    {
     "ename": "SyntaxError",
     "evalue": "invalid syntax (2165149086.py, line 1)",
     "output_type": "error",
     "traceback": [
      "\u001b[1;36m  Input \u001b[1;32mIn [1]\u001b[1;36m\u001b[0m\n\u001b[1;33m    15. 결합자\u001b[0m\n\u001b[1;37m        ^\u001b[0m\n\u001b[1;31mSyntaxError\u001b[0m\u001b[1;31m:\u001b[0m invalid syntax\n"
     ]
    }
   ],
   "source": [
    "15. 결합자\n",
    "\n",
    "    자손 결합자 : 해당 요소의 하위 요소 중에서 특정 타입의 요소를 모두 선택합니다.\n",
    "    자식 결합자 : 해당 요소의 바로 밑에 존재하는 하위 요소 중에서 특 정타입의 요소를 모두 선택합니다.\n",
    "-------------------------------------------------------------------------\n",
    "    div span{\n",
    "        color:red;\n",
    "    }\n",
    "-----자손 결합자 코드. 이 중에서 어느 것이 빨간색으로 변할까요? 골라주세요.------\n",
    "    <div>\n",
    "        <span> no.1 </span>\n",
    "        <p> no.2 </p>\n",
    "        <p>\n",
    "            <span> no.3</span>\n",
    "        </p>\n",
    "    </div>\n",
    "    \n",
    "    \n",
    "-----자식 결합자 코드. 이 중에서 어느 것이 빨간색으로 변할까요? 골라주세요 ------\n",
    "    div > span{\n",
    "        color:red;\n",
    "    }\n",
    "    \n",
    "    <div>\n",
    "        <span> no.1 </span>\n",
    "        <p> no.2 </p>\n",
    "        <p>\n",
    "            <span> no.3</span>\n",
    "        </p>\n",
    "    </div>\n"
   ]
  },
  {
   "cell_type": "code",
   "execution_count": null,
   "id": "f2b0fa04",
   "metadata": {},
   "outputs": [],
   "source": [
    "16. 일반형제결합자\n",
    "\n",
    "        \n",
    "        \n",
    "p ~ span {\n",
    "    color: red;\n",
    "}\n",
    "\n",
    "<span> no.1 </span>\n",
    "<p> no.2 </p>\n",
    "<span> no.3 </span>\n",
    "<p> no.4 </p>\n",
    "<span> no.5 </span>\n",
    "\n",
    "어느 것이 빨간색으로 변할까요? "
   ]
  },
  {
   "cell_type": "code",
   "execution_count": null,
   "id": "9a6cd68f",
   "metadata": {},
   "outputs": [],
   "source": [
    "17. 인접형제결합자.\n",
    "\n",
    "p + span {\n",
    "    color: red;\n",
    "}\n",
    "\n",
    "<span> no.1 </span>\n",
    "<p> no.2 </p>\n",
    "<span> no.3 </span>\n",
    "<a> no.4 </a>\n",
    "<span> no.5 </span>\n",
    "\n",
    "어느 것이 빨간색으로 변할까요?\n",
    " \n"
   ]
  },
  {
   "cell_type": "code",
   "execution_count": null,
   "id": "ff2d835a",
   "metadata": {},
   "outputs": [],
   "source": [
    "18. css의 원칙 1 !!!!!!!!!!\n",
    "\n",
    "    모든 요소는 __이고, _에서부터 __으로 __에서 __으로 쌓인다.\n",
    "    \n",
    "    빈칸 다 채우세요!!!!!!!!\n",
    "    "
   ]
  },
  {
   "cell_type": "code",
   "execution_count": null,
   "id": "8b83b67f",
   "metadata": {},
   "outputs": [],
   "source": [
    "19. box model\n",
    "\n",
    "    모든 html 요소는 box형태로 되어있는데, 하나의 박스는 네 부분으로 이루어집니다.\n",
    "    네 가지를 모두 서술하세요.\n",
    "    "
   ]
  },
  {
   "cell_type": "code",
   "execution_count": null,
   "id": "7311d638",
   "metadata": {},
   "outputs": [],
   "source": [
    "20. margin\n",
    "     \n",
    "    margin 은 테두리 바깥의 외부영역을 의미합니다. \n",
    "    그렇다면 margin은 배경색을 지정할 수 있을까요 없을까요? \n",
    "    true or false!"
   ]
  },
  {
   "cell_type": "code",
   "execution_count": null,
   "id": "79706205",
   "metadata": {},
   "outputs": [],
   "source": [
    "21.\n",
    "\n",
    "css 코드를 참고하여 아래의 문제를 맞추세요!\n",
    "\n",
    ".box {\n",
    "    width:100px\n",
    "    margin: 10px auto;\n",
    "    padding: 20px\n",
    "    border: 1px\n",
    "}\n",
    "\n",
    "내가 원하는 박스의 너비는 100px이였는데 개발자도구로 검사를 해보니 142px이 되어 있는게 아니겠습니까?\n",
    "무엇을 설정해야 100px로 보이게 될까요? \n",
    "hint) box-sizing\n"
   ]
  },
  {
   "cell_type": "code",
   "execution_count": null,
   "id": "6902b346",
   "metadata": {},
   "outputs": [],
   "source": [
    "22. css원칙 2 !!!!!!!!!!\n",
    "    빈칸에 들어갈 알맞은 영어 단어를 쓰세요!\n",
    "    \n",
    "    모든 요소는 __이고, 좌측상단에 배치.\n",
    "    ______에 따라 크기와 배치가 달라진다 !!!!!!\n",
    "    \n",
    "    "
   ]
  },
  {
   "cell_type": "code",
   "execution_count": null,
   "id": "9fdfb085",
   "metadata": {},
   "outputs": [],
   "source": [
    "23. display의 속성값이 inline 일때 알맞은 것은?\n",
    "    1. 줄 바꿈이 일어난다\n",
    "    2. content 너비만큼 가로 폭을 차지한다.\n",
    "    3. width, height, margin-top, bottom 을 지정할 수 있다.\n",
    "    4. 상하 여백은 padding 으로 지정한다\n",
    "    "
   ]
  },
  {
   "cell_type": "code",
   "execution_count": null,
   "id": "9498f93b",
   "metadata": {},
   "outputs": [],
   "source": [
    "24. 대표적인 block 레벨의 요소를 모두 고르세요\n",
    "\n",
    "    div/ span / a / img / ul, li, ol / p /label"
   ]
  },
  {
   "cell_type": "code",
   "execution_count": null,
   "id": "a6738490",
   "metadata": {},
   "outputs": [],
   "source": [
    "25. 블록을 가운데 수평 정렬하려고 합니다. \n",
    "     margin 속성값을 이용하여 정렬하세요.\n",
    "    \n",
    "    div{\n",
    "        height : 100px;\n",
    "        width : 100px;\n",
    "        <!-- 여기에 속성:속성값을 추가하세요-->\n",
    "    }"
   ]
  },
  {
   "cell_type": "code",
   "execution_count": null,
   "id": "dabf45e8",
   "metadata": {},
   "outputs": [],
   "source": [
    "26.\n",
    "display 속성값이 none일때 해당 요소는 화면에 표시 될까요? 안될까요? \n",
    "그리고 공간은 부여가 될까여? 안될까요?\n",
    "\n",
    "되면 true\n",
    "안되면 false!\n",
    "\n"
   ]
  },
  {
   "cell_type": "code",
   "execution_count": null,
   "id": "b1800cc9",
   "metadata": {},
   "outputs": [],
   "source": [
    "27. block 과 inline 레벨 요소의 특징을 모두 가지고 있는 display의 속성값은 무엇일까요?\n",
    "    "
   ]
  },
  {
   "cell_type": "code",
   "execution_count": null,
   "id": "699b82f1",
   "metadata": {},
   "outputs": [],
   "source": [
    "28. css position\n",
    "    빈칸에 들어갈 알맞은 단어를 쓰세요~\n",
    "    \n",
    "    ______ : 모든 태그의 position의 기본값입니다.\n",
    "            / 일반적인 요소 배치 순서를 따름니다. \n",
    "            / 부모 요소 내에 배치될 경우  부모 요소의 위치를 기준으로 배치됩니다.\n",
    "            \n",
    "    ________: 자기 자신의 static 위치를 기준으로 이동합니다.\n",
    "              /레이아웃에서 요소가 차지하는 공간은 static일 때와 같습니다. \n",
    "    ________: 요소를 일반적인 문서흐름에서 제거, 레이아웃에서 공간을 차지하지 않습니다(normal flow를 벗어남)\n",
    "              /가장 가까이에 있는 부모/조상 요소를 기준으로 이동합니다. 없으면 body\n",
    "    _____ : 요소를 일반적인 흐름에서 제거, 레이아웃ㅎ에서 공간을 차지하지 않습니다.\n",
    "            /부모 요소와 관계없이 viewport를 기준으로 이동합니다.\n",
    "            /스크롤 시 항상 같은 곳에 위치합니다."
   ]
  }
 ],
 "metadata": {
  "kernelspec": {
   "display_name": "Python 3 (ipykernel)",
   "language": "python",
   "name": "python3"
  },
  "language_info": {
   "codemirror_mode": {
    "name": "ipython",
    "version": 3
   },
   "file_extension": ".py",
   "mimetype": "text/x-python",
   "name": "python",
   "nbconvert_exporter": "python",
   "pygments_lexer": "ipython3",
   "version": "3.10.1"
  }
 },
 "nbformat": 4,
 "nbformat_minor": 5
}
