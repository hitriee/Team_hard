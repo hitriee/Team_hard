{
 "cells": [
  {
   "cell_type": "code",
   "execution_count": 1,
   "id": "fd687821",
   "metadata": {},
   "outputs": [
    {
     "name": "stdout",
     "output_type": "stream",
     "text": [
      "1 1\n",
      "11\n"
     ]
    }
   ],
   "source": [
    "# 민코딩 훈련반1 Level 19 - 문제 1번\n",
    "\n",
    "arr = [[3,5,4], [1,1,2], [1,3,9]]\n",
    "y, x = map(int, input().split())\n",
    "directy=[-1, 1, 0, 0]\n",
    "directx=[0, 0, -1, 1]\n",
    "rst=0\n",
    "for i in range(4):\n",
    "    dy=directy[i]+y\n",
    "    dx=directx[i]+x\n",
    "    if dy<0 or dx<0 or dy>2 or dx>2:\n",
    "        continue\n",
    "    rst+=arr[dy][dx]\n",
    "print(rst)"
   ]
  },
  {
   "cell_type": "code",
   "execution_count": 16,
   "id": "c3a3ff0c",
   "metadata": {},
   "outputs": [
    {
     "name": "stdout",
     "output_type": "stream",
     "text": [
      "0 1\n",
      "1 0\n",
      "3 0\n",
      "3 1\n",
      "0 5 0\n",
      "5 0 0\n",
      "0 0 0\n",
      "5 5 0\n"
     ]
    }
   ],
   "source": [
    "# 민코딩 훈련반1 Level 19 - 문제 4번\n",
    "\n",
    "inp = [list(map(int, input().split())) for _ in range(4)]\n",
    "vect = [[0]*3 for _ in range(4)]\n",
    "for i in range(4):\n",
    "    vect[inp[i][0]][inp[i][1]] += 5\n",
    "    print(*vect[i])"
   ]
  },
  {
   "cell_type": "code",
   "execution_count": 37,
   "id": "4156d744",
   "metadata": {},
   "outputs": [
    {
     "name": "stdout",
     "output_type": "stream",
     "text": [
      "3 2\n"
     ]
    }
   ],
   "source": [
    "# 민코딩 훈련반1 Level 19 - 문제 6번\n",
    "\n",
    "map = [[3, 3, 5, 3, 1], [2, 2, 4, 2, 6], [4, 9, 2, 3, 4], [1, 1, 1, 1, 1], [3, 3, 5, 9, 2]]\n",
    "def sum_m(z, y, x):\n",
    "    directy=[-1,-1,1,1]\n",
    "    directx=[-1,1,-1,1]\n",
    "    rst = 0\n",
    "    for i in range(4):\n",
    "        dy=directy[i]+y\n",
    "        dx=directx[i]+x\n",
    "        if dy<0 or dx<0 or dy>4 or dx>4:\n",
    "            continue\n",
    "        rst += z[dy][dx]\n",
    "    return rst\n",
    "lst = [0]*25\n",
    "for i in range(5):\n",
    "    for j in range(5):\n",
    "        lst[5*i+j] = sum_m(map, i, j)\n",
    "for m in range(25):\n",
    "    for n in range(m+1, 25):\n",
    "        if lst[m] < lst[n]:\n",
    "            lst[m], lst[n] = lst[n], lst[m]\n",
    "for a in range(5):\n",
    "    for b in range(5):\n",
    "        if sum_m(map, a, b) == lst[0]:\n",
    "            print(a, b)\n",
    "            \n",
    "'''\n",
    "arr = ['33531','22426','49234','11111','33592']\n",
    "map_arr = [list(map(int,arr[i])) for i in range(5)]\n",
    "\n",
    "def sum(y,x):\n",
    "    dy = [-1,1,-1,1]\n",
    "    dx = [-1,1,1,-1]\n",
    "    sum_data = 0\n",
    "    for j in range(4):\n",
    "        if 0 <= y+dy[j] < 5 and 0 <= x+dx[j] < 5:\n",
    "            sum_data += map_arr[y+dy[j]][x+dx[j]]\n",
    "    return sum_data\n",
    "\n",
    "sum(1,2)\n",
    "\n",
    "max_data = 0\n",
    "for index in range(25):\n",
    "    if max_data < sum(index//5,index%5):\n",
    "        max_data = sum(index//5,index%5)\n",
    "        ans = index\n",
    "print(ans//5, ans%5)\n",
    "\n",
    "뒷 부분 특히 참고할만함!\n",
    "'''"
   ]
  },
  {
   "cell_type": "code",
   "execution_count": 2,
   "id": "a177a77d",
   "metadata": {},
   "outputs": [
    {
     "name": "stdout",
     "output_type": "stream",
     "text": [
      "1 1\n",
      "3 3\n",
      "# # # _ _\n",
      "# _ # _ _\n",
      "# # # # #\n",
      "_ _ # _ #\n"
     ]
    }
   ],
   "source": [
    "# 민코딩 훈련반1 Level 19 - 문제 7번\n",
    "\n",
    "arr = [['_']*5 for _ in range(4)]\n",
    "def drop_b(z, y, x):\n",
    "    directy = [-1, -1, -1, 0, 0, 1, 1, 1]\n",
    "    directx = [-1, 0, 1, -1, 1, -1, 0, 1]\n",
    "    for i in range(8):\n",
    "        dy = directy[i]+y\n",
    "        dx = directx[i]+x\n",
    "        if dy<0 or dx<0 or dy>3 or dx>4:\n",
    "            continue\n",
    "        z[dy][dx] = '#'\n",
    "    return z\n",
    "y1, x1 = map(int, input().split())\n",
    "y2, x2 = map(int, input().split())\n",
    "drop_b(arr, y1, x1)\n",
    "drop_b(arr, y2, x2)\n",
    "for i in range(4):\n",
    "    print(*arr[i])"
   ]
  },
  {
   "cell_type": "code",
   "execution_count": 10,
   "id": "34e5b9b5",
   "metadata": {},
   "outputs": [
    {
     "name": "stdout",
     "output_type": "stream",
     "text": [
      "1 5 5 4\n",
      "4 2 1 1\n",
      "3 9 3 2\n",
      "4 5 9 1\n",
      "(2,0)\n"
     ]
    }
   ],
   "source": [
    "# 민코딩 훈련반1 Level 19 - 문제 8번\n",
    "\n",
    "image = [list(map(int, input().split())) for _ in range(4)]\n",
    "arr = [[0]*2 for _ in range(3)]\n",
    "for i in range(3):\n",
    "    for j in range(2):\n",
    "        arr[i][j] = (image[i][j] + image[i][j+1] + image[i][j+2] + image[i+1][j] + image[i+1][j+1] + image[i+1][j+2])\n",
    "lst = [0]*6\n",
    "for m in range(3):\n",
    "    for n in range(2):\n",
    "        lst[2*m+n] = arr[m][n]\n",
    "for a in range(6):\n",
    "    for b in range(a+1, 6):\n",
    "        if lst[a] < lst[b]:\n",
    "            lst[a], lst[b] = lst[b], lst[a]\n",
    "for c in range(3):\n",
    "    for d in range(2):\n",
    "        if arr[c][d] == lst[0]:\n",
    "            print(f\"({c},{d})\")"
   ]
  },
  {
   "cell_type": "code",
   "execution_count": 23,
   "id": "f672f90f",
   "metadata": {},
   "outputs": [
    {
     "name": "stdout",
     "output_type": "stream",
     "text": [
      "4 2 5 3 8\n",
      "a=8\n",
      "b=2\n"
     ]
    }
   ],
   "source": [
    "# 민코딩 훈련반1 Level 19.5 - 문제 1번\n",
    "\n",
    "def BBQ(lst):\n",
    "    for i in range(len(lst)):\n",
    "        for j in range(i+1, len(lst)):\n",
    "            if lst[i] < lst[j]:\n",
    "                lst[i], lst[j] = lst[j], lst[i]\n",
    "    a = lst[0]\n",
    "    b = lst[-1]\n",
    "    return a, b\n",
    "a, b = BBQ(list(map(int, input().split())))\n",
    "print(f\"a={a}\")\n",
    "print(f\"b={b}\")"
   ]
  },
  {
   "cell_type": "code",
   "execution_count": 1,
   "id": "a600d0c9",
   "metadata": {},
   "outputs": [
    {
     "name": "stdout",
     "output_type": "stream",
     "text": [
      "0 0 0 0\n",
      "0 1 11\n",
      "0 1 0 0\n",
      "1 00 0 0\n",
      "1 0 0 1\n",
      "[[0, 0, 0, 0], [0, 1, 11], [0, 1, 0, 0], [1, 0, 0, 0], [1, 0, 0, 1]]\n"
     ]
    }
   ],
   "source": [
    "# 민코딩 훈련반1 Level 19.5 - 문제 2번\n",
    "\n",
    "arr = [list(map(int, input().split())) for _ in range(5)]\n",
    "directy = [-1, -1, -1, 0, 0, 1, 1, 1]\n",
    "directx = [-1, 0, 1, -1, 1, -1, 0, 1]\n",
    "rst = 0\n",
    "for y in range(5):\n",
    "    if rst >= 1:\n",
    "        break\n",
    "    for x in range(4):\n",
    "        if rst >= 1:\n",
    "            break\n",
    "        for i in range(8):\n",
    "            dy = directy[i] + y\n",
    "            dx = directx[i] + x\n",
    "            if dy<0 or dx<0 or dy>4 or dx>3:\n",
    "                continue\n",
    "            if arr[y][x] == 1:\n",
    "                if arr[dy][dx] == 1:\n",
    "                    rst += 1\n",
    "                    break\n",
    "if not rst:\n",
    "    print(\"안정된 상태\")\n",
    "else:\n",
    "    print(\"불안정한 상태\")"
   ]
  },
  {
   "cell_type": "code",
   "execution_count": 6,
   "id": "3e747408",
   "metadata": {},
   "outputs": [
    {
     "name": "stdout",
     "output_type": "stream",
     "text": [
      "3 10 11 15\n",
      "0 0 1 0\n",
      "0 0 0 0\n",
      "0 2 3 0\n",
      "0 0 4 0\n"
     ]
    }
   ],
   "source": [
    "# 민코딩 훈련반1 Level 19.5 - 문제 3번\n",
    "\n",
    "def get_p(lst):\n",
    "    arr = [[0]*4 for _ in range(4)]\n",
    "    for i in range(4):\n",
    "        arr[(lst[i]-1)//4][(lst[i]-1)%4] = i+1\n",
    "    return arr\n",
    "lst = get_p(list(map(int, input().split())))\n",
    "for j in range(4):\n",
    "    print(*lst[j])"
   ]
  },
  {
   "cell_type": "code",
   "execution_count": 16,
   "id": "6b8f4210",
   "metadata": {
    "scrolled": true
   },
   "outputs": [
    {
     "name": "stdout",
     "output_type": "stream",
     "text": [
      "G 3\n",
      "S 2\n",
      "S 0\n",
      "1 0 1 0\n",
      "1 0 1 0\n",
      "1 0 1 0\n",
      "1 1 1 1\n"
     ]
    }
   ],
   "source": [
    "# 민코딩 훈련반1 Level 19.5 - 문제 4번\n",
    "\n",
    "def get_c(a):\n",
    "    arr = [[0]*4 for _ in range(4)]\n",
    "    for i in range(len(a)):\n",
    "        if a[i][0] == 'G':\n",
    "            arr[int(a[i][1])] = [1, 1, 1, 1]\n",
    "        else:\n",
    "            for j in range(4):\n",
    "                arr[j][int(a[i][1])] = 1\n",
    "    return arr\n",
    "lst = get_c([list(input().split()) for _ in range(3)])\n",
    "for i in range(len(lst)):\n",
    "    print(*lst[i])"
   ]
  },
  {
   "cell_type": "code",
   "execution_count": 10,
   "id": "267dc43f",
   "metadata": {},
   "outputs": [
    {
     "name": "stdout",
     "output_type": "stream",
     "text": [
      "AB\n",
      "CD\n",
      "발견(1개)\n"
     ]
    }
   ],
   "source": [
    "# 민코딩 훈련반1 Level 19.5 - 문제 6번\n",
    "\n",
    "a, b, c = 'ABGK', 'TTAB', 'ACCD'\n",
    "mab = [list(a), list(b), list(c)]\n",
    "pat = [list(input()) for _ in range(2)]\n",
    "rst = 0\n",
    "for i in range(2):\n",
    "    for j in range(3):\n",
    "        if pat[0][0] == mab[i][j] and pat[0][1] == mab[i][j+1]:\n",
    "            if pat[1][0] == mab[i+1][j] and pat[1][1] == mab[i+1][j+1]:\n",
    "                rst += 1\n",
    "if not rst:\n",
    "    print(\"미발견\")\n",
    "else:\n",
    "    print(f\"발견({rst}개)\")"
   ]
  },
  {
   "cell_type": "code",
   "execution_count": 8,
   "id": "3592a355",
   "metadata": {},
   "outputs": [
    {
     "name": "stdout",
     "output_type": "stream",
     "text": [
      "1 1\n",
      "1 0\n",
      "(0,1)\n"
     ]
    }
   ],
   "source": [
    "# 민코딩 훈련반1 Level 19.5 - 문제 7번\n",
    "\n",
    "mab = [[3, 5, 1], [3, 8, 1], [1, 1, 5]]\n",
    "bita = [list(map(int, input().split())) for _ in range(2)]\n",
    "rst = [[0]*2 for _ in range(2)]\n",
    "lst = [0]*4\n",
    "for i in range(2):\n",
    "    for j in range(2):\n",
    "        for m in range(2):\n",
    "            for n in range(2):\n",
    "                if bita[m][n] == 1:\n",
    "                    rst[i][j] += mab[i+m][j+n]\n",
    "                    lst[2*i+j] += mab[i+m][j+n]\n",
    "for a in range(4):\n",
    "    for b in range(a+1, 4):\n",
    "        if lst[a] < lst[b]:\n",
    "            lst[a], lst[b] = lst[b], lst[a]\n",
    "for c in range(2):\n",
    "    for d in range(2):\n",
    "        if rst[c][d] == lst[0]:\n",
    "            print(f\"({c},{d})\")"
   ]
  }
 ],
 "metadata": {
  "kernelspec": {
   "display_name": "Python 3 (ipykernel)",
   "language": "python",
   "name": "python3"
  },
  "language_info": {
   "codemirror_mode": {
    "name": "ipython",
    "version": 3
   },
   "file_extension": ".py",
   "mimetype": "text/x-python",
   "name": "python",
   "nbconvert_exporter": "python",
   "pygments_lexer": "ipython3",
   "version": "3.10.1"
  },
  "toc": {
   "base_numbering": 1,
   "nav_menu": {},
   "number_sections": true,
   "sideBar": true,
   "skip_h1_title": false,
   "title_cell": "Table of Contents",
   "title_sidebar": "Contents",
   "toc_cell": false,
   "toc_position": {},
   "toc_section_display": true,
   "toc_window_display": false
  }
 },
 "nbformat": 4,
 "nbformat_minor": 5
}
