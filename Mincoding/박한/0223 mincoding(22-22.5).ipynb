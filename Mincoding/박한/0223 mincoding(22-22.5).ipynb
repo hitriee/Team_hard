{
 "cells": [
  {
   "cell_type": "code",
   "execution_count": 1,
   "id": "8edfc8ce",
   "metadata": {},
   "outputs": [
    {
     "name": "stdout",
     "output_type": "stream",
     "text": [
      "AA\n",
      "AB\n",
      "AC\n",
      "BA\n",
      "BB\n",
      "BC\n",
      "CA\n",
      "CB\n",
      "CC\n"
     ]
    }
   ],
   "source": [
    "# 민코딩 훈련반1 Level 22 - 문제 1번\n",
    "\n",
    "arr = ['A', 'B', 'C']\n",
    "path = ['']*2\n",
    "def abc(level):\n",
    "    if level==2:\n",
    "        for i in range(2):\n",
    "            print(path[i], end=\"\")\n",
    "        print()\n",
    "        return\n",
    "    for i in range(3):\n",
    "        path[level] = arr[i]\n",
    "        abc(level+1)\n",
    "abc(0)"
   ]
  },
  {
   "cell_type": "code",
   "execution_count": 6,
   "id": "4f89332a",
   "metadata": {},
   "outputs": [
    {
     "name": "stdout",
     "output_type": "stream",
     "text": [
      "2\n",
      "BB\n",
      "BG\n",
      "BT\n",
      "BK\n",
      "GB\n",
      "GG\n",
      "GT\n",
      "GK\n",
      "TB\n",
      "TG\n",
      "TT\n",
      "TK\n",
      "KB\n",
      "KG\n",
      "KT\n",
      "KK\n"
     ]
    }
   ],
   "source": [
    "# 민코딩 훈련반1 Level 22 - 문제 3번\n",
    "\n",
    "n = int(input())\n",
    "arr = ['B', 'G', 'T', 'K']\n",
    "path = ['']*n\n",
    "def abc(level):\n",
    "    if level==n:\n",
    "        for i in range(n):\n",
    "            print(path[i], end=\"\")\n",
    "        print()\n",
    "        return\n",
    "    for i in range(4):\n",
    "        path[level] = arr[i]\n",
    "        abc(level+1)\n",
    "        path[level] = ''\n",
    "abc(0)"
   ]
  },
  {
   "cell_type": "code",
   "execution_count": 9,
   "id": "597241cd",
   "metadata": {},
   "outputs": [
    {
     "name": "stdout",
     "output_type": "stream",
     "text": [
      "up\n",
      "up\n",
      "up\n",
      "down\n",
      "down\n",
      "2\n"
     ]
    }
   ],
   "source": [
    "# 민코딩 훈련반1 Level 22 - 문제 4번\n",
    "\n",
    "lst = [list(input()) for _ in range(5)]\n",
    "rst = 0\n",
    "def updown(level):\n",
    "    global rst\n",
    "    if level==5:\n",
    "        return\n",
    "    if lst[level][0] == 'u':\n",
    "        rst += 1\n",
    "    else:\n",
    "        rst -= 1\n",
    "    updown(level+1)\n",
    "updown(0)\n",
    "if rst>=0:\n",
    "    print(rst+1)\n",
    "else:\n",
    "    print(f\"B{-rst}\")"
   ]
  },
  {
   "cell_type": "code",
   "execution_count": 12,
   "id": "fbcd26dc",
   "metadata": {},
   "outputs": [
    {
     "name": "stdout",
     "output_type": "stream",
     "text": [
      "2\n",
      "1111\n",
      "1112\n",
      "1121\n",
      "1122\n",
      "1211\n",
      "1212\n",
      "1221\n",
      "1222\n",
      "2111\n",
      "2112\n",
      "2121\n",
      "2122\n",
      "2211\n",
      "2212\n",
      "2221\n",
      "2222\n"
     ]
    }
   ],
   "source": [
    "# 민코딩 훈련반1 Level 22 - 문제 5번\n",
    "\n",
    "n = int(input())\n",
    "path = [0]*4\n",
    "def abc(level):\n",
    "    if level==4:\n",
    "        for i in range(4):\n",
    "            print(path[i], end=\"\")\n",
    "        print()\n",
    "        return\n",
    "    for i in range(n):\n",
    "        path[level] = i+1\n",
    "        abc(level+1)\n",
    "        path[level] = 0\n",
    "abc(0)"
   ]
  },
  {
   "cell_type": "code",
   "execution_count": 2,
   "id": "898f5272",
   "metadata": {},
   "outputs": [
    {
     "name": "stdout",
     "output_type": "stream",
     "text": [
      "google\n",
      "microsoft\n",
      "xiaomi\n",
      "apple\n",
      "긴문장:1\n",
      "짧은문장:3\n"
     ]
    }
   ],
   "source": [
    "# 민코딩 훈련반1 Level 22 - 문제 6번\n",
    "\n",
    "arr = [list(input()) for _ in range(4)]\n",
    "maxn, minn, maxin, minin = 0, len(arr[0]), 0, 0\n",
    "def abc(level):\n",
    "    global maxn\n",
    "    global maxin\n",
    "    global minn\n",
    "    global minin\n",
    "    if len(arr[level]) > maxn:\n",
    "        maxn = len(arr[level])\n",
    "        maxin = level\n",
    "    if len(arr[level]) < minn:\n",
    "        minn = len(arr[level])\n",
    "        minin = level\n",
    "    if level==3:\n",
    "        return\n",
    "    abc(level+1)\n",
    "abc(0)\n",
    "print(f\"긴문장:{maxin}\")\n",
    "print(f\"짧은문장:{minin}\")"
   ]
  },
  {
   "cell_type": "code",
   "execution_count": 6,
   "id": "a257ea65",
   "metadata": {},
   "outputs": [
    {
     "name": "stdout",
     "output_type": "stream",
     "text": [
      "ABD\n",
      "8번째\n"
     ]
    }
   ],
   "source": [
    "# 민코딩 훈련반1 Level 22 - 문제 7번\n",
    "\n",
    "arr = ['A', 'B', 'C', 'D']\n",
    "a = list(input())\n",
    "path = ['']*3\n",
    "rst = 0\n",
    "def abc(level):\n",
    "    global a\n",
    "    global rst\n",
    "    if level==3:\n",
    "        rst += 1\n",
    "        if path==a:\n",
    "            print(f\"{rst}번째\")\n",
    "        return\n",
    "    for i in range(4):\n",
    "        path[level] = arr[i]\n",
    "        abc(level+1)\n",
    "abc(0)"
   ]
  },
  {
   "cell_type": "code",
   "execution_count": 11,
   "id": "40c6ab49",
   "metadata": {},
   "outputs": [
    {
     "name": "stdout",
     "output_type": "stream",
     "text": [
      "1\n",
      "MAX=6\n",
      "MIN=2\n"
     ]
    }
   ],
   "source": [
    "# 민코딩 훈련반1 Level 22 - 문제 8번\n",
    "\n",
    "arr = [[[2, 4], [1, 5]], [[2, 3], [3, 6]], [[7, 3], [1, 5]]]\n",
    "n = int(input())\n",
    "maxn = 0\n",
    "minn = arr[n][0][0]\n",
    "def abc(i, level):\n",
    "    global maxn\n",
    "    global minn\n",
    "    if level == 2:\n",
    "        return\n",
    "    for j in range(2):\n",
    "        if arr[i][level][j] > maxn:\n",
    "            maxn = arr[i][level][j]\n",
    "        if arr[i][level][j] < minn:\n",
    "            minn = arr[i][level][j]\n",
    "    abc(i, level+1)\n",
    "abc(n, 0)\n",
    "print(f\"MAX={maxn}\")\n",
    "print(f\"MIN={minn}\")"
   ]
  },
  {
   "cell_type": "code",
   "execution_count": 13,
   "id": "4aa68266",
   "metadata": {},
   "outputs": [
    {
     "name": "stdout",
     "output_type": "stream",
     "text": [
      "POW\n",
      "암호해제\n"
     ]
    }
   ],
   "source": [
    "# 민코딩 훈련반1 Level 22 - 문제 9번\n",
    "\n",
    "a = input()\n",
    "arr = ['Jason', 'Dr.tom', 'EXEXI', 'GK12P', 'POW']\n",
    "rst = 0\n",
    "def abc(level):\n",
    "    global a\n",
    "    global rst\n",
    "    if level==5:\n",
    "        return\n",
    "    if arr[level]==a:\n",
    "        level=4\n",
    "        rst += 1\n",
    "    abc(level+1)\n",
    "abc(0)\n",
    "\n",
    "if not rst:\n",
    "    print(\"암호틀림\")\n",
    "else:\n",
    "    print(\"암호해제\")"
   ]
  },
  {
   "cell_type": "code",
   "execution_count": 16,
   "id": "bd48be34",
   "metadata": {},
   "outputs": [
    {
     "name": "stdout",
     "output_type": "stream",
     "text": [
      "D\n",
      "미발견\n"
     ]
    }
   ],
   "source": [
    "# 민코딩 훈련반1 Level 22.5 - 문제 1번\n",
    "\n",
    "arr = [[['A', 'T', 'B'], ['C', 'C', 'B']],[['A', 'A', 'A'], ['B', 'B', 'C']]]\n",
    "a = input()\n",
    "rst = 0\n",
    "def abc(level):\n",
    "    global rst\n",
    "    if level==3:\n",
    "        if not rst:\n",
    "            print(\"미발견\")\n",
    "        else:\n",
    "            print(\"발견\")\n",
    "        return\n",
    "    for i in range(2):\n",
    "        for j in range(2):\n",
    "            if arr[i][j][level]==a:\n",
    "                rst += 1\n",
    "    abc(level+1)\n",
    "abc(0)"
   ]
  },
  {
   "cell_type": "code",
   "execution_count": 17,
   "id": "a0969ee0",
   "metadata": {},
   "outputs": [
    {
     "name": "stdout",
     "output_type": "stream",
     "text": [
      "2\n",
      "xx\n",
      "xo\n",
      "ox\n",
      "oo\n"
     ]
    }
   ],
   "source": [
    "# 민코딩 훈련반1 Level 22.5 - 문제 2번\n",
    "\n",
    "n = int(input())\n",
    "arr = ['x', 'o']\n",
    "path = ['']*n\n",
    "def abc(level):\n",
    "    if level==n:\n",
    "        for i in range(n):\n",
    "            print(path[i], end=\"\")\n",
    "        print()\n",
    "        return\n",
    "    for i in range(2):\n",
    "        path[level] = arr[i]\n",
    "        abc(level+1)\n",
    "abc(0)"
   ]
  },
  {
   "cell_type": "code",
   "execution_count": 20,
   "id": "ef9fcff7",
   "metadata": {},
   "outputs": [
    {
     "name": "stdout",
     "output_type": "stream",
     "text": [
      "A\n",
      "AAA\n",
      "AAA\n",
      "AAA\n",
      "\n",
      "BBB\n",
      "BBB\n",
      "BBB\n",
      "\n",
      "CCC\n",
      "CCC\n",
      "CCC\n",
      "\n"
     ]
    }
   ],
   "source": [
    "# 민코딩 훈련반1 Level 22.5 - 문제 3번\n",
    "\n",
    "a = input()\n",
    "arr = [[['']*3 for _ in range(3)] for _ in range(3)]\n",
    "def abc(d, level):\n",
    "    if level==3:\n",
    "        return\n",
    "    for i in range(3):\n",
    "        for j in range(3):\n",
    "            arr[level][i][j] = chr(ord(d)+level)\n",
    "            print(arr[level][i][j], end=\"\")\n",
    "        print()\n",
    "    print()\n",
    "    abc(d, level+1)\n",
    "abc(a, 0)"
   ]
  },
  {
   "cell_type": "code",
   "execution_count": 25,
   "id": "5e0047bc",
   "metadata": {},
   "outputs": [
    {
     "name": "stdout",
     "output_type": "stream",
     "text": [
      "1 3\n",
      "1 1 1 \n",
      "3 3 3 \n",
      "\n",
      "1 1 1 \n",
      "3 3 3 \n",
      "\n",
      "1 1 1 \n",
      "3 3 3 \n",
      "\n"
     ]
    }
   ],
   "source": [
    "# 민코딩 훈련반1 Level 22.5 - 문제 4번\n",
    "\n",
    "a, b = map(int, input().split())\n",
    "arr = [[[0]*3 for _ in range(2)] for _ in range(3)]\n",
    "def abc(level, c, d):\n",
    "    if level==3:\n",
    "        return\n",
    "    for j in range(3):\n",
    "        arr[level][0][j] = c\n",
    "        arr[level][1][j] = d\n",
    "    for m in range(2):\n",
    "        for n in range(3):\n",
    "            print(arr[level][m][n], end=\" \")\n",
    "        print()\n",
    "    print()\n",
    "    abc(level+1, c, d)\n",
    "    \n",
    "abc(0, a, b)"
   ]
  },
  {
   "cell_type": "code",
   "execution_count": 30,
   "id": "5bd07988",
   "metadata": {},
   "outputs": [
    {
     "name": "stdout",
     "output_type": "stream",
     "text": [
      "C 6\n",
      "C\n"
     ]
    }
   ],
   "source": [
    "# 민코딩 훈련반1 Level 22.5 - 문제 5번\n",
    "\n",
    "a, b = map(str, input().split())\n",
    "MAP = [[3, 5, 4, 2, 2, 3], [1, 3, 3, 3, 4, 2], [5, 4, 4, 2, 3, 5]]\n",
    "price = ['T', 'P', 'G', 'K', 'C']\n",
    "get_p = MAP[ord(a)-65][int(b)-1]\n",
    "print(price[get_p-1])"
   ]
  },
  {
   "cell_type": "code",
   "execution_count": 33,
   "id": "474cdfb2",
   "metadata": {},
   "outputs": [
    {
     "name": "stdout",
     "output_type": "stream",
     "text": [
      "kfcmclo\n",
      "zzzzz\n",
      "abc\n",
      "mincoding\n",
      "abc\n",
      "zzzzz\n",
      "kfcmclo\n",
      "mincoding\n"
     ]
    }
   ],
   "source": [
    "# 민코딩 훈련반1 Level 22.5 - 문제 6번\n",
    "\n",
    "lst = [input() for _ in range(4)]\n",
    "for i in range(4):\n",
    "    for j in range(i+1, 4):\n",
    "        if len(lst[i]) > len(lst[j]):\n",
    "            lst[i], lst[j] = lst[j], lst[i]\n",
    "for i in range(4):\n",
    "    print(lst[i])"
   ]
  },
  {
   "cell_type": "code",
   "execution_count": 41,
   "id": "eadd6274",
   "metadata": {},
   "outputs": [
    {
     "name": "stdout",
     "output_type": "stream",
     "text": [
      "3\n",
      "## \n",
      "# #\n",
      "# #\n",
      "# #\n",
      "## \n"
     ]
    }
   ],
   "source": [
    "# 민코딩 훈련반1 Level 22.5 - 문제 7번\n",
    "\n",
    "n = int(input())\n",
    "arr = [[[' ','#',' '],['#',' ','#'],['#','#','#'],['#',' ','#'],['#',' ','#']],[['#','#','#'],['#',' ','#'],['#','#','#'],['#',' ','#'],['#','#','#']],[['#','#','#'],['#',' ','#'],['#',' ',' '],['#',' ','#'],['#','#','#']],[['#','#',' '],['#',' ','#'],['#',' ','#'],['#',' ','#'],['#','#',' ']]]\n",
    "def abc(m,level):\n",
    "    if level==5:\n",
    "        return\n",
    "    for i in range(3):\n",
    "        print(arr[m][level][i], end=\"\")\n",
    "    print()\n",
    "    abc(m, level+1)\n",
    "abc(n,0)"
   ]
  }
 ],
 "metadata": {
  "kernelspec": {
   "display_name": "Python 3 (ipykernel)",
   "language": "python",
   "name": "python3"
  },
  "language_info": {
   "codemirror_mode": {
    "name": "ipython",
    "version": 3
   },
   "file_extension": ".py",
   "mimetype": "text/x-python",
   "name": "python",
   "nbconvert_exporter": "python",
   "pygments_lexer": "ipython3",
   "version": "3.10.1"
  },
  "toc": {
   "base_numbering": 1,
   "nav_menu": {},
   "number_sections": true,
   "sideBar": true,
   "skip_h1_title": false,
   "title_cell": "Table of Contents",
   "title_sidebar": "Contents",
   "toc_cell": false,
   "toc_position": {},
   "toc_section_display": true,
   "toc_window_display": false
  }
 },
 "nbformat": 4,
 "nbformat_minor": 5
}
