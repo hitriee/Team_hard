{
 "cells": [
  {
   "cell_type": "code",
   "execution_count": 4,
   "id": "3893cce0",
   "metadata": {},
   "outputs": [
    {
     "name": "stdout",
     "output_type": "stream",
     "text": [
      "3\n",
      "1 0\n",
      "5\n",
      "1\n",
      "4 2\n",
      "1 2 3 4\n",
      "2\n",
      "6 0\n",
      "1 1 9 1 1 1\n",
      "5\n"
     ]
    }
   ],
   "source": [
    "# 백준 class 2++ 1966 프린터 큐\n",
    "\n",
    "T = int(input())\n",
    "for t in range(T):\n",
    "    n, m = map(int, input().split())\n",
    "    lst = list(map(int, input().split()))\n",
    "    rst = 1\n",
    "    while 1:\n",
    "        if lst[0] == max(lst):\n",
    "            if m == 0:\n",
    "                print(rst)\n",
    "                break\n",
    "            else:\n",
    "                lst.pop(0)\n",
    "                rst += 1\n",
    "        else:\n",
    "            a = lst[0]\n",
    "            for i in range(len(lst)-1):\n",
    "                lst[i] = lst[i+1]\n",
    "            lst[-1] = a\n",
    "        if m == 0:\n",
    "            m = len(lst)-1\n",
    "        else:\n",
    "            m -= 1"
   ]
  }
 ],
 "metadata": {
  "kernelspec": {
   "display_name": "Python 3 (ipykernel)",
   "language": "python",
   "name": "python3"
  },
  "language_info": {
   "codemirror_mode": {
    "name": "ipython",
    "version": 3
   },
   "file_extension": ".py",
   "mimetype": "text/x-python",
   "name": "python",
   "nbconvert_exporter": "python",
   "pygments_lexer": "ipython3",
   "version": "3.10.4"
  },
  "toc": {
   "base_numbering": 1,
   "nav_menu": {},
   "number_sections": true,
   "sideBar": true,
   "skip_h1_title": false,
   "title_cell": "Table of Contents",
   "title_sidebar": "Contents",
   "toc_cell": false,
   "toc_position": {},
   "toc_section_display": true,
   "toc_window_display": false
  }
 },
 "nbformat": 4,
 "nbformat_minor": 5
}
