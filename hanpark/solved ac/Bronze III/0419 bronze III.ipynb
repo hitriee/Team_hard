{
 "cells": [
  {
   "cell_type": "code",
   "execution_count": 2,
   "id": "1d07a483",
   "metadata": {},
   "outputs": [
    {
     "name": "stdout",
     "output_type": "stream",
     "text": [
      "9 1 7 2 6 3 0 4 8 5\n",
      "6 3 9 2 1 0 7 4 8 5\n",
      "13 13\n",
      "B\n"
     ]
    }
   ],
   "source": [
    "# 백준 브론즈3 2511번\n",
    "\n",
    "a = list(map(int, input().split()))\n",
    "b = list(map(int, input().split()))\n",
    "\n",
    "score = [0, 0]\n",
    "for i in range(10):\n",
    "    if a[i] > b[i]:\n",
    "        score[0] += 3\n",
    "    elif a[i] < b[i]:\n",
    "        score[1] += 3\n",
    "    else:\n",
    "        score[0] += 1\n",
    "        score[1] += 1\n",
    "print(*score)\n",
    "if a == b:\n",
    "    print(\"D\")\n",
    "else:\n",
    "    if score[0] > score[1]:\n",
    "        print(\"A\")\n",
    "    elif score[0] < score[1]:\n",
    "        print(\"B\")\n",
    "    else:\n",
    "        for n in range(1, 10):\n",
    "            if a[-n] > b[-n]:\n",
    "                print(\"A\")\n",
    "                break\n",
    "            elif a[-n] < b[-n]:\n",
    "                print(\"B\")\n",
    "                break"
   ]
  },
  {
   "cell_type": "code",
   "execution_count": 3,
   "id": "7e19f39a",
   "metadata": {},
   "outputs": [
    {
     "name": "stdout",
     "output_type": "stream",
     "text": [
      "3\n",
      "  *\n",
      " **\n",
      "***\n",
      " **\n",
      "  *\n"
     ]
    }
   ],
   "source": [
    "# 백준 브론즈3 2522번\n",
    "\n",
    "n = int(input())\n",
    "lst = [' ']*n\n",
    "lst[-1] = '*'\n",
    "def abc(level):\n",
    "    if level == n:\n",
    "        for i in range(n):\n",
    "            print(lst[i], end=\"\")\n",
    "        print()\n",
    "        return\n",
    "    for i in range(n):\n",
    "        print(lst[i], end=\"\")\n",
    "    print()\n",
    "    lst[-(level+1)] = '*'\n",
    "    abc(level+1)\n",
    "    lst[-(level+1)] = ' '\n",
    "    for i in range(n):\n",
    "        print(lst[i], end=\"\")\n",
    "    print()\n",
    "abc(1)"
   ]
  },
  {
   "cell_type": "code",
   "execution_count": 6,
   "id": "e914dcf0",
   "metadata": {},
   "outputs": [
    {
     "name": "stdout",
     "output_type": "stream",
     "text": [
      "3\n",
      "*  \n",
      "** \n",
      "***\n",
      "** \n",
      "*  \n"
     ]
    }
   ],
   "source": [
    "# 백준 브론즈3 2523번\n",
    "\n",
    "n = int(input())\n",
    "lst = [' ']*n\n",
    "lst[0] = '*'\n",
    "def abc(level):\n",
    "    if level == n:\n",
    "        for i in range(n):\n",
    "            print(lst[i], end=\"\")\n",
    "        print()\n",
    "        return\n",
    "    for i in range(n):\n",
    "        print(lst[i], end=\"\")\n",
    "    print()\n",
    "    lst[level] = '*'\n",
    "    abc(level+1)\n",
    "    lst[level] = ' '\n",
    "    for i in range(n):\n",
    "        print(lst[i], end=\"\")\n",
    "    print()\n",
    "abc(1)"
   ]
  }
 ],
 "metadata": {
  "kernelspec": {
   "display_name": "Python 3 (ipykernel)",
   "language": "python",
   "name": "python3"
  },
  "language_info": {
   "codemirror_mode": {
    "name": "ipython",
    "version": 3
   },
   "file_extension": ".py",
   "mimetype": "text/x-python",
   "name": "python",
   "nbconvert_exporter": "python",
   "pygments_lexer": "ipython3",
   "version": "3.10.1"
  },
  "toc": {
   "base_numbering": 1,
   "nav_menu": {},
   "number_sections": true,
   "sideBar": true,
   "skip_h1_title": false,
   "title_cell": "Table of Contents",
   "title_sidebar": "Contents",
   "toc_cell": false,
   "toc_position": {},
   "toc_section_display": true,
   "toc_window_display": false
  }
 },
 "nbformat": 4,
 "nbformat_minor": 5
}
