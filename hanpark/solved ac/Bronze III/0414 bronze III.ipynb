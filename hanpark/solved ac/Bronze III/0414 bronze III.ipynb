{
 "cells": [
  {
   "cell_type": "code",
   "execution_count": 15,
   "id": "2d6eb7d1",
   "metadata": {},
   "outputs": [
    {
     "name": "stdout",
     "output_type": "stream",
     "text": [
      "3 9\n",
      "4\n"
     ]
    }
   ],
   "source": [
    "# 백준 브론즈3 1598번\n",
    "\n",
    "a, b = map(int, input().split())\n",
    "ans = abs((a-1)//4 - (b-1)//4) + abs((a-1)%4 - (b-1)%4) # 4의 배수일 때 다음 줄로 넘어가지 않고 제일 아랫줄에 위치하도록 처리\n",
    "print(ans)"
   ]
  },
  {
   "cell_type": "code",
   "execution_count": 18,
   "id": "46e06996",
   "metadata": {},
   "outputs": [
    {
     "name": "stdout",
     "output_type": "stream",
     "text": [
      "1 3 0\n",
      "3\n",
      "2 3 0 2 0\n",
      "6\n",
      "3 3 0 2 0 2 0\n",
      "12\n",
      "3 3 0 2 1 2 3\n",
      "7\n",
      "2 4 1 3 4\n",
      "5\n",
      "4 5 0 5 1 5 2 5 101\n",
      "489\n",
      "0\n"
     ]
    }
   ],
   "source": [
    "# 백준 브론즈3 1703번\n",
    "\n",
    "while 1:\n",
    "    lst = list(map(int, input().split()))\n",
    "    if len(lst) == 1 and lst[0] == 0:  # 0 하나만 입력받으면 끝\n",
    "        break\n",
    "    rst = 1\n",
    "    def abc(level):\n",
    "        global rst\n",
    "        if level == len(lst): # 끝까지 갔으면 이제 가짓수를 출력\n",
    "            print(rst)\n",
    "            return\n",
    "        rst = rst * lst[level] # 새로 추가되는 가짓수 배열만큼 가지가 증가\n",
    "        rst -= lst[level+1] # 가지 쳐주기\n",
    "        abc(level+2)\n",
    "    abc(1)"
   ]
  },
  {
   "cell_type": "code",
   "execution_count": 25,
   "id": "8dd24a89",
   "metadata": {},
   "outputs": [
    {
     "name": "stdout",
     "output_type": "stream",
     "text": [
      "77 12\n",
      "BAD 7\n"
     ]
    }
   ],
   "source": [
    "# 백준 브론즈3 1837번\n",
    "\n",
    "summ, k = map(int, input().split())\n",
    "p, q = 0, 0\n",
    "for i in range(2, (summ//2)+1): # 2 ~ summ의 절반값 사이의 범위에서\n",
    "    if summ//i == summ/i:  # 만약 summ의 약수가 있다면 그 수를 p에, 나눈 몫을 q에 저장\n",
    "        p = i\n",
    "        q = summ//i\n",
    "        break  # 약수를 구하면 바로 break 해주니까 p가 q 이하일 수밖에 없음\n",
    "if p < k:\n",
    "    print(\"BAD\", p)\n",
    "else:\n",
    "    print(\"GOOD\")"
   ]
  }
 ],
 "metadata": {
  "kernelspec": {
   "display_name": "Python 3 (ipykernel)",
   "language": "python",
   "name": "python3"
  },
  "language_info": {
   "codemirror_mode": {
    "name": "ipython",
    "version": 3
   },
   "file_extension": ".py",
   "mimetype": "text/x-python",
   "name": "python",
   "nbconvert_exporter": "python",
   "pygments_lexer": "ipython3",
   "version": "3.10.1"
  },
  "toc": {
   "base_numbering": 1,
   "nav_menu": {},
   "number_sections": true,
   "sideBar": true,
   "skip_h1_title": false,
   "title_cell": "Table of Contents",
   "title_sidebar": "Contents",
   "toc_cell": false,
   "toc_position": {},
   "toc_section_display": true,
   "toc_window_display": false
  }
 },
 "nbformat": 4,
 "nbformat_minor": 5
}
