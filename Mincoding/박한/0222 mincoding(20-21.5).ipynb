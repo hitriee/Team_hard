{
 "cells": [
  {
   "cell_type": "code",
   "execution_count": 1,
   "id": "0da16c54",
   "metadata": {},
   "outputs": [],
   "source": [
    "# 민코딩 훈련반1 Level 20 - 문제 1번\n",
    "\n",
    "def bbq(level):\n",
    "    if level==3:\n",
    "        return\n",
    "    bbq(level+1)"
   ]
  },
  {
   "cell_type": "code",
   "execution_count": 5,
   "id": "c3288888",
   "metadata": {},
   "outputs": [
    {
     "name": "stdout",
     "output_type": "stream",
     "text": [
      "5\n",
      "5 4 3 2 1 0 1 2 3 4 5 "
     ]
    }
   ],
   "source": [
    "# 민코딩 훈련반1 Level 20 - 문제 2번\n",
    "\n",
    "n = int(input())\n",
    "def bj(level):\n",
    "    print(level, end=\" \")\n",
    "    if level==0:\n",
    "        return\n",
    "    bj(level-1)\n",
    "    print(level, end=\" \")\n",
    "    \n",
    "bj(n)"
   ]
  },
  {
   "cell_type": "code",
   "execution_count": 9,
   "id": "89fe4372",
   "metadata": {},
   "outputs": [
    {
     "name": "stdout",
     "output_type": "stream",
     "text": [
      "3 5 4 6 2 9\n",
      "3 5 4 6 2 9 2 6 4 5 3 "
     ]
    }
   ],
   "source": [
    "# 민코딩 훈련반1 Level 20 - 문제 3번\n",
    "\n",
    "lst = list(map(int, input().split()))\n",
    "def mm(i):\n",
    "    print(lst[i], end=\" \")\n",
    "    if i == len(lst)-1:\n",
    "        return\n",
    "    mm(i+1)\n",
    "    print(lst[i], end=\" \")\n",
    "mm(0)"
   ]
  },
  {
   "cell_type": "code",
   "execution_count": 1,
   "id": "835cf9c3",
   "metadata": {},
   "outputs": [
    {
     "name": "stdout",
     "output_type": "stream",
     "text": [
      "3\n",
      "9 7 5 3 "
     ]
    }
   ],
   "source": [
    "# 민코딩 훈련반1 Level 20 - 문제 4번\n",
    "\n",
    "n = int(input())\n",
    "\n",
    "def dj(level):\n",
    "    if level==n+8:\n",
    "        return\n",
    "    dj(level+2)\n",
    "    print(level, end=\" \")\n",
    "    \n",
    "dj(n)"
   ]
  },
  {
   "cell_type": "code",
   "execution_count": 5,
   "id": "861c36fe",
   "metadata": {},
   "outputs": [
    {
     "name": "stdout",
     "output_type": "stream",
     "text": [
      "abcde\n",
      "abcde\n",
      "edcba"
     ]
    }
   ],
   "source": [
    "# 민코딩 훈련반1 Level 20 - 문제 5번\n",
    "\n",
    "lst = list(input())\n",
    "def pi(i):\n",
    "    print(lst[i], end=\"\")\n",
    "    if i == len(lst)-1:\n",
    "        print()\n",
    "        print(lst[i], end=\"\")\n",
    "        return\n",
    "    pi(i+1)\n",
    "    print(lst[i], end=\"\")\n",
    "pi(0)"
   ]
  },
  {
   "cell_type": "code",
   "execution_count": 7,
   "id": "b8b6cc40",
   "metadata": {},
   "outputs": [
    {
     "name": "stdout",
     "output_type": "stream",
     "text": [
      "3 9\n",
      "3 4 5 6 7 8 9 8 7 6 5 4 3 "
     ]
    }
   ],
   "source": [
    "# 민코딩 훈련반1 Level 20 - 문제 6번\n",
    "\n",
    "a, b = map(int, input().split())\n",
    "def atob(c, d):\n",
    "    print(c, end=\" \")\n",
    "    if c == d:\n",
    "        return\n",
    "    atob(c+1, d)\n",
    "    print(c, end=\" \")\n",
    "atob(a, b)"
   ]
  },
  {
   "cell_type": "code",
   "execution_count": 9,
   "id": "bf30cc7c",
   "metadata": {},
   "outputs": [
    {
     "name": "stdout",
     "output_type": "stream",
     "text": [
      "3\n",
      "1 4 7 3 7 4 1 "
     ]
    }
   ],
   "source": [
    "# 민코딩 훈련반1 Level 20 - 문제 7번\n",
    "\n",
    "n = int(input())\n",
    "lst = [3, 7, 4, 1, 9, 4, 6, 2]\n",
    "def coin(i):\n",
    "    print(lst[i], end=\" \")\n",
    "    if i == 0:\n",
    "        return\n",
    "    coin(i-1)\n",
    "    print(lst[i], end=\" \")\n",
    "coin(n)"
   ]
  },
  {
   "cell_type": "code",
   "execution_count": 10,
   "id": "d1a1787a",
   "metadata": {},
   "outputs": [
    {
     "name": "stdout",
     "output_type": "stream",
     "text": [
      "17\n",
      "1 2 4 8 17 "
     ]
    }
   ],
   "source": [
    "# 민코딩 훈련반1 Level 20 - 문제 8번\n",
    "\n",
    "n = int(input())\n",
    "def cuthalf(level):\n",
    "    if level==0:\n",
    "        return\n",
    "    cuthalf(level//2)\n",
    "    print(level, end=\" \")\n",
    "cuthalf(n)"
   ]
  },
  {
   "cell_type": "code",
   "execution_count": 28,
   "id": "9183cac2",
   "metadata": {},
   "outputs": [],
   "source": [
    "# 민코딩 훈련반1 Level 20.5 - 문제 1번\n",
    "\n",
    "def bbq(level):\n",
    "    if level==3:\n",
    "        return\n",
    "    bbq(level+1)\n",
    "bbq(0)"
   ]
  },
  {
   "cell_type": "code",
   "execution_count": 31,
   "id": "75b0a728",
   "metadata": {},
   "outputs": [
    {
     "name": "stdout",
     "output_type": "stream",
     "text": [
      "78ATQP\n",
      "P\n",
      "QP\n",
      "TQP\n",
      "ATQP\n",
      "8ATQP\n",
      "78ATQP\n"
     ]
    }
   ],
   "source": [
    "# 민코딩 훈련반1 Level 20.5 - 문제 2번\n",
    "\n",
    "lst = input()\n",
    "def abc(level):\n",
    "    global lst\n",
    "    print(lst[level:])\n",
    "    if level==0:\n",
    "        return\n",
    "    abc(level-1)\n",
    "abc(len(lst)-1)"
   ]
  },
  {
   "cell_type": "code",
   "execution_count": 71,
   "id": "386e950e",
   "metadata": {},
   "outputs": [
    {
     "name": "stdout",
     "output_type": "stream",
     "text": [
      "ABCDEAB\n",
      "ABC\n",
      "DEAB\n"
     ]
    }
   ],
   "source": [
    "# 민코딩 훈련반1 Level 20.5 - 문제 3번\n",
    "\n",
    "lst = input()\n",
    "lst1 = lst[:len(lst)//2]\n",
    "lst2 = lst[len(lst)//2:]\n",
    "if lst1 == lst2:\n",
    "    print(\"동일한문장\")\n",
    "else:\n",
    "    print(\"다른문장\")"
   ]
  },
  {
   "cell_type": "code",
   "execution_count": 72,
   "id": "d03bbf60",
   "metadata": {},
   "outputs": [
    {
     "name": "stdout",
     "output_type": "stream",
     "text": [
      "1 1 1 1\n",
      "1 0 0 1\n",
      "1 0 0 0\n",
      "0 0 1 0\n",
      "0 0 0 0\n",
      "0 0 0 0\n",
      "1 1 1 1\n",
      "0 1 0 0\n",
      "걸리다\n"
     ]
    }
   ],
   "source": [
    "# 민코딩 훈련반1 Level 20.5 - 문제 4번\n",
    "\n",
    "A = [list(map(int, input().split())) for _ in range(4)]\n",
    "B = [list(map(int, input().split())) for _ in range(4)]\n",
    "arr = [[0]*4 for _ in range(4)]\n",
    "rst = 0\n",
    "for i in range(4):\n",
    "    for j in range(4):\n",
    "        arr[i][j] = A[i][j] + B[i][j]\n",
    "        if arr[i][j] >= 2:\n",
    "            rst += 1\n",
    "if not rst:\n",
    "    print(\"걸리지않는다\")\n",
    "else:\n",
    "    print(\"걸리다\")"
   ]
  },
  {
   "cell_type": "code",
   "execution_count": 40,
   "id": "ba784439",
   "metadata": {},
   "outputs": [
    {
     "name": "stdout",
     "output_type": "stream",
     "text": [
      "Y\n",
      "VWXYZAB"
     ]
    }
   ],
   "source": [
    "# 민코딩 훈련반1 Level 20.5 - 문제 5번\n",
    "\n",
    "a = input()\n",
    "def abc(level, rst):\n",
    "    if level>90:\n",
    "        level -= 26\n",
    "    elif level<65:\n",
    "        level += 26\n",
    "    if rst == 7:\n",
    "        return\n",
    "    print(chr(level), end=\"\")\n",
    "    abc(level+1, rst+1)\n",
    "    \n",
    "abc(ord(a)-3, 0)"
   ]
  },
  {
   "cell_type": "code",
   "execution_count": 46,
   "id": "2760c8df",
   "metadata": {},
   "outputs": [
    {
     "name": "stdout",
     "output_type": "stream",
     "text": [
      "3 5 7 1 4 2 8\n",
      "3 5 7 1 \n",
      "3 5 7 1 4 \n",
      "3 5 7 1 4 2 \n",
      "3 5 7 1 4 2 8 \n"
     ]
    }
   ],
   "source": [
    "# 민코딩 훈련반1 Level 20.5 - 문제 6번\n",
    "\n",
    "lst = list(map(int, input().split()))\n",
    "def abc(level):\n",
    "    for i in range(level+4):\n",
    "        print(lst[i], end=\" \")\n",
    "    print()\n",
    "    if level==3:\n",
    "        return\n",
    "    abc(level+1)\n",
    "abc(0)"
   ]
  },
  {
   "cell_type": "code",
   "execution_count": 50,
   "id": "4ba6f632",
   "metadata": {},
   "outputs": [
    {
     "name": "stdout",
     "output_type": "stream",
     "text": [
      "GDPK\n",
      "G\n",
      "GD\n",
      "GDP\n",
      "GDPK\n"
     ]
    }
   ],
   "source": [
    "# 민코딩 훈련반1 Level 20.5 - 문제 7번\n",
    "\n",
    "a = input()\n",
    "def abc(level):\n",
    "    print(a[:level+1])\n",
    "    if level==(len(a)-1):\n",
    "        return\n",
    "    abc(level+1)\n",
    "abc(0)"
   ]
  },
  {
   "cell_type": "code",
   "execution_count": 57,
   "id": "ad4500e0",
   "metadata": {},
   "outputs": [
    {
     "name": "stdout",
     "output_type": "stream",
     "text": [
      "1 3 3 7\n",
      "2 3 4 6\n",
      "1 2 3 3 3 4 6 7\n"
     ]
    }
   ],
   "source": [
    "# 민코딩 훈련반1 Level 20.5 - 문제 8번\n",
    "\n",
    "a = list(map(int, input().split()))\n",
    "b = list(map(int, input().split()))\n",
    "lst = [0]*8\n",
    "def abc(al, bl):\n",
    "    if al+bl == 8:\n",
    "        return\n",
    "    if al>=4:\n",
    "        lst[al+bl] = b[bl]\n",
    "        abc(al, bl+1)\n",
    "    elif bl>=4:\n",
    "        lst[al+bl] = a[al]\n",
    "        abc(al+1, bl)\n",
    "    elif a[al] > b[bl]:\n",
    "        lst[al+bl] = b[bl]\n",
    "        abc(al, bl+1)\n",
    "    else:\n",
    "        lst[al+bl] = a[al]\n",
    "        abc(al+1, bl)\n",
    "abc(0, 0)\n",
    "print(*lst)"
   ]
  },
  {
   "cell_type": "code",
   "execution_count": 94,
   "id": "ad8d7eec",
   "metadata": {},
   "outputs": [
    {
     "name": "stdout",
     "output_type": "stream",
     "text": [
      "2 3\n",
      "(1,2)\n",
      "(2,2)\n"
     ]
    }
   ],
   "source": [
    "# 민코딩 훈련반1 Level 20.5 - 문제 9번\n",
    "\n",
    "arr = [[3, 5, 4, 2, 5], [3, 3, 3, 2, 1], [3, 2, 6, 7, 8], [9, 1, 1, 3, 2]]\n",
    "size = list(map(int, input().split()))\n",
    "arr1 = [[0]*(6-size[1]) for _ in range(5-size[0])]\n",
    "lst = [0]*((6-size[1])*(5-size[0]))\n",
    "for i in range(5-size[0]):\n",
    "    for j in range(6-size[1]):\n",
    "        for a in range(i, i+size[0]):\n",
    "            for b in range(j, j+size[1]):\n",
    "                arr1[i][j] += arr[a][b]\n",
    "                lst[(6-size[1])*i+j] += arr[a][b]\n",
    "for m in range((6-size[1])*(5-size[0])):\n",
    "    for n in range(m+1, (6-size[1])*(5-size[0])):\n",
    "        if lst[m] < lst[n]:\n",
    "            lst[m], lst[n] = lst[n], lst[m]\n",
    "for i in range(5-size[0]):\n",
    "    for j in range(6-size[1]):\n",
    "        if arr1[i][j] == lst[0]:\n",
    "            print(f\"({i},{j})\")"
   ]
  },
  {
   "cell_type": "code",
   "execution_count": null,
   "id": "520f11fc",
   "metadata": {},
   "outputs": [],
   "source": [
    "# 민코딩 훈련반1 Level 21 - 문제 1번\n",
    "\n",
    "def abc(level):\n",
    "    if level==2:\n",
    "        return\n",
    "    for i in range(3):\n",
    "        abc(level+1)\n",
    "abc(0)"
   ]
  },
  {
   "cell_type": "code",
   "execution_count": null,
   "id": "9f0aa28e",
   "metadata": {},
   "outputs": [],
   "source": [
    "# 민코딩 훈련반1 Level 21 - 문제 3번\n",
    "\n",
    "n = int(input())\n",
    "i = int(input())\n",
    "\n",
    "def abc(level):\n",
    "    if level==n:\n",
    "        return\n",
    "    for i in range(n):\n",
    "        abc(level+1)\n",
    "abc(0)"
   ]
  },
  {
   "cell_type": "code",
   "execution_count": 12,
   "id": "cdf54b4f",
   "metadata": {},
   "outputs": [
    {
     "name": "stdout",
     "output_type": "stream",
     "text": [
      "3\n",
      "012332331233233"
     ]
    }
   ],
   "source": [
    "# 민코딩 훈련반1 Level 21 - 문제 4번\n",
    "\n",
    "n = int(input())\n",
    "def abc(level):\n",
    "    print(level, end=\"\")\n",
    "    if level==n:\n",
    "        return\n",
    "    for i in range(2):\n",
    "        abc(level+1)\n",
    "abc(0)"
   ]
  },
  {
   "cell_type": "code",
   "execution_count": 9,
   "id": "9296e8ac",
   "metadata": {},
   "outputs": [
    {
     "name": "stdout",
     "output_type": "stream",
     "text": [
      "4 3\n",
      "85\n"
     ]
    }
   ],
   "source": [
    "# 민코딩 훈련반1 Level 21 - 문제 6번\n",
    "\n",
    "i, n = map(int, input().split())\n",
    "rst = 0\n",
    "def abc(level):\n",
    "    global rst\n",
    "    rst += 1\n",
    "    if level==n:\n",
    "        return\n",
    "    for j in range(i):\n",
    "        abc(level+1)\n",
    "abc(0)\n",
    "print(rst)"
   ]
  },
  {
   "cell_type": "code",
   "execution_count": 14,
   "id": "0ac619bc",
   "metadata": {},
   "outputs": [
    {
     "name": "stdout",
     "output_type": "stream",
     "text": [
      "abcde\n",
      "5 4 3 2 1 2 3 4 5 "
     ]
    }
   ],
   "source": [
    "# 민코딩 훈련반1 Level 21 - 문제 7번\n",
    "\n",
    "arr = list(input())\n",
    "def abc(level):\n",
    "    print(level, end=\" \")\n",
    "    if level==1:\n",
    "        return\n",
    "    abc(level-1)\n",
    "    print(level, end=\" \")\n",
    "abc(len(arr))"
   ]
  },
  {
   "cell_type": "code",
   "execution_count": 27,
   "id": "bb1dfa5d",
   "metadata": {},
   "outputs": [
    {
     "name": "stdout",
     "output_type": "stream",
     "text": [
      "3\n",
      "down\n",
      "down\n",
      "click\n",
      "7,5\n"
     ]
    }
   ],
   "source": [
    "# 민코딩 훈련반1 Level 21 - 문제 8번\n",
    "\n",
    "n = int(input())\n",
    "def abc(level, y, x):\n",
    "    global n\n",
    "    if level==n:\n",
    "        return\n",
    "    c = str(input())\n",
    "    if c == 'click':\n",
    "        print(f\"{y},{x}\")\n",
    "    elif c == 'up':\n",
    "        y -= 1\n",
    "    elif c == 'down':\n",
    "        y += 1\n",
    "    elif c == 'right':\n",
    "        x += 1\n",
    "    else:\n",
    "        x -= 1\n",
    "    abc(level+1, y, x)\n",
    "    \n",
    "abc(0, 5, 5)"
   ]
  },
  {
   "cell_type": "code",
   "execution_count": 10,
   "id": "11e713c1",
   "metadata": {},
   "outputs": [
    {
     "name": "stdout",
     "output_type": "stream",
     "text": [
      "DTK\n",
      "EAP\n",
      "CQG\n",
      "PHB\n",
      "3\n"
     ]
    }
   ],
   "source": [
    "# 민코딩 훈련반1 Level 21.5 - 문제 1번\n",
    "\n",
    "arr = list(input() for _ in range(4))\n",
    "lo_a = (0, 0)\n",
    "lo_b = (0, 0)\n",
    "for i in range(4):\n",
    "    for j in range(3):\n",
    "        if arr[i][j] == 'A':\n",
    "            lo_a = (i, j)\n",
    "        elif arr[i][j] == 'B':\n",
    "            lo_b = (i, j)\n",
    "rst = 0\n",
    "if lo_a[0] > lo_b[0]:\n",
    "    rst += (lo_a[0]-lo_b[0])\n",
    "else:\n",
    "    rst += (lo_b[0]-lo_a[0])\n",
    "if lo_a[1] > lo_b[1]:\n",
    "    rst += (lo_a[1]-lo_b[1])\n",
    "else:\n",
    "    rst += (lo_b[1]-lo_a[1])\n",
    "print(rst)"
   ]
  },
  {
   "cell_type": "code",
   "execution_count": 12,
   "id": "0b697c8a",
   "metadata": {},
   "outputs": [
    {
     "name": "stdout",
     "output_type": "stream",
     "text": [
      "2\n",
      "5\n"
     ]
    }
   ],
   "source": [
    "# 민코딩 훈련반1 Level 21.5 - 문제 2번\n",
    "\n",
    "arr = [[3, 4, 1, 5], [3, 4, 1, 3], [5, 2, 3, 6]]\n",
    "sum = [0]*4\n",
    "def abc(level):\n",
    "    global sum\n",
    "    if level==3:\n",
    "        return\n",
    "    for i in range(4):\n",
    "        sum[i] += arr[level][i]\n",
    "    abc(level+1)\n",
    "abc(0)\n",
    "index = int(input())\n",
    "print(sum[index])"
   ]
  },
  {
   "cell_type": "code",
   "execution_count": 19,
   "id": "42d56a93",
   "metadata": {},
   "outputs": [
    {
     "name": "stdout",
     "output_type": "stream",
     "text": [
      "REWUQ\n",
      "W U\n",
      "R####"
     ]
    }
   ],
   "source": [
    "# 민코딩 훈련반1 Level 21.5 - 문제 3번\n",
    "\n",
    "lst = list(input())\n",
    "lst1 = ['']*len(lst)\n",
    "for i in range(len(lst)):\n",
    "    lst1[i] = lst[i]\n",
    "a, b = map(str, input().split())\n",
    "def chan(arr, arr1, c):\n",
    "    for i in range(len(arr)):\n",
    "        if arr[i] == c:\n",
    "            if i==0:\n",
    "                arr1[i+1] = '#'\n",
    "            elif i==len(arr)-1:\n",
    "                arr1[i-1] = '#'\n",
    "            else:\n",
    "                arr1[i-1] = '#'\n",
    "                arr1[i+1] = '#'\n",
    "    return arr1\n",
    "chan(lst, lst1, a)\n",
    "chan(lst, lst1, b)\n",
    "for i in range(len(lst1)):\n",
    "    print(lst1[i], end=\"\")"
   ]
  },
  {
   "cell_type": "code",
   "execution_count": 69,
   "id": "79364803",
   "metadata": {},
   "outputs": [
    {
     "name": "stdout",
     "output_type": "stream",
     "text": [
      "A_C\n",
      "_K_\n",
      "T__\n",
      "___\n",
      "___\n",
      "___\n",
      "A__\n",
      "TKC\n"
     ]
    }
   ],
   "source": [
    "# 민코딩 훈련반1 Level 21.5 - 문제 4번\n",
    "\n",
    "arr = [list(input()) for _ in range(4)]\n",
    "for i in range(3):\n",
    "    rst = 0\n",
    "    for j in range(3, -1, -1):\n",
    "        if arr[j][i]!='_':\n",
    "            arr[j][i], arr[3-rst][i] = arr[3-rst][i], arr[j][i]\n",
    "            rst += 1\n",
    "for m in range(4):\n",
    "    for n in range(3):\n",
    "        print(arr[m][n], end=\"\")\n",
    "    print()"
   ]
  },
  {
   "cell_type": "code",
   "execution_count": 27,
   "id": "920a650f",
   "metadata": {},
   "outputs": [
    {
     "name": "stdout",
     "output_type": "stream",
     "text": [
      "1 9 3 1 0 1 0 7\n",
      "0 0 1 1 1 3 7 9 "
     ]
    }
   ],
   "source": [
    "# 민코딩 훈련반1 Level 21.5 - 문제 5번\n",
    "\n",
    "vect = list(map(int, input().split()))\n",
    "bucket = [0]*10\n",
    "for i in range(len(vect)):\n",
    "    bucket[vect[i]] += 1\n",
    "for j in range(10):\n",
    "    if bucket[j] >= 1:\n",
    "        for m in range(bucket[j]):\n",
    "            print(j, end=\" \")"
   ]
  },
  {
   "cell_type": "code",
   "execution_count": 33,
   "id": "e5cce669",
   "metadata": {},
   "outputs": [
    {
     "name": "stdout",
     "output_type": "stream",
     "text": [
      "3 4\n",
      "1 5 #\n",
      "# 5 5\n",
      "# # 5\n",
      "# 6 2\n"
     ]
    }
   ],
   "source": [
    "# 민코딩 훈련반1 Level 21.5 - 문제 6번\n",
    "\n",
    "arr = [[1, 5, 3], [4, 5, 5], [3, 3, 5], [4, 6, 2]]\n",
    "a, b = map(int, input().split())\n",
    "for i in range(4):\n",
    "    for j in range(3):\n",
    "        if a<= arr[i][j] <= b:\n",
    "            arr[i][j] = '#'\n",
    "for i in range(4):\n",
    "    print(*arr[i])"
   ]
  },
  {
   "cell_type": "code",
   "execution_count": 61,
   "id": "51d7e45a",
   "metadata": {
    "scrolled": true
   },
   "outputs": [
    {
     "name": "stdout",
     "output_type": "stream",
     "text": [
      "3 4\n",
      "0\n"
     ]
    }
   ],
   "source": [
    "# 민코딩 훈련반1 Level 21.5 - 문제 7번\n",
    "\n",
    "arr = [[0, 1, 0, 1, 0], [1, 2, 0, 2, 1], [0, 1, 2, 1, 0], [0, 2, 1, 0, 1], [1, 1, 0, 0, 0]]\n",
    "a, b = map(int, input().split())\n",
    "arr[a-1][b-1] = 1\n",
    "rst = 0\n",
    "for i in range(5):\n",
    "    for j in range(5):\n",
    "        if arr[i][j] == 2:\n",
    "            if arr[i-1][j]==arr[i+1][j]==arr[i][j-1]==arr[i][j+1]==1:\n",
    "                rst+=1\n",
    "print(rst)"
   ]
  },
  {
   "cell_type": "code",
   "execution_count": 64,
   "id": "72802323",
   "metadata": {},
   "outputs": [
    {
     "name": "stdout",
     "output_type": "stream",
     "text": [
      "A UP\n",
      "T DOWN\n",
      "K UP\n",
      "A RIGHT\n",
      "K UP\n",
      "K LEFT\n",
      "A LEFT\n",
      "_K_\n",
      "A__\n",
      "___\n",
      "_T_\n",
      "___\n",
      "___\n",
      "___\n"
     ]
    }
   ],
   "source": [
    "# 민코딩 훈련반1 Level 21.5 - 문제 8번\n",
    "\n",
    "lst = [list(input()) for _ in range(7)]\n",
    "lo_a = [2, 0]\n",
    "lo_t = [2, 1]\n",
    "lo_k = [2, 2]\n",
    "\n",
    "def ch(lst, b):\n",
    "    if lst[i][-1] == 'P':\n",
    "        b[0] -= 1\n",
    "    elif lst[i][-1] == 'N':\n",
    "        b[0] += 1\n",
    "    elif lst[i][-2] == 'F':\n",
    "        b[1] -= 1\n",
    "    else:\n",
    "        b[1] += 1\n",
    "for i in range(7):\n",
    "    if lst[i][0] == 'A':\n",
    "        ch(lst, lo_a)\n",
    "    elif lst[i][0] == 'T':\n",
    "        ch(lst, lo_t)\n",
    "    else:\n",
    "        ch(lst, lo_k)\n",
    "arr = [['_', '_', '_'] for _ in range(5)]\n",
    "arr[lo_a[0]][lo_a[1]] = 'A'\n",
    "arr[lo_t[0]][lo_t[1]] = 'T'\n",
    "arr[lo_k[0]][lo_k[1]] = 'K'\n",
    "for i in range(5):\n",
    "    for j in range(3):\n",
    "        print(arr[i][j], end=\"\")\n",
    "    print()"
   ]
  }
 ],
 "metadata": {
  "kernelspec": {
   "display_name": "Python 3 (ipykernel)",
   "language": "python",
   "name": "python3"
  },
  "language_info": {
   "codemirror_mode": {
    "name": "ipython",
    "version": 3
   },
   "file_extension": ".py",
   "mimetype": "text/x-python",
   "name": "python",
   "nbconvert_exporter": "python",
   "pygments_lexer": "ipython3",
   "version": "3.10.1"
  },
  "toc": {
   "base_numbering": 1,
   "nav_menu": {},
   "number_sections": true,
   "sideBar": true,
   "skip_h1_title": false,
   "title_cell": "Table of Contents",
   "title_sidebar": "Contents",
   "toc_cell": false,
   "toc_position": {},
   "toc_section_display": true,
   "toc_window_display": false
  }
 },
 "nbformat": 4,
 "nbformat_minor": 5
}
