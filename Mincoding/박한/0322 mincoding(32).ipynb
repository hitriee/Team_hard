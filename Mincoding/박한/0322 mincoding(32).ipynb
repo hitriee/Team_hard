{
 "cells": [
  {
   "cell_type": "code",
   "execution_count": 2,
   "id": "38d800b6",
   "metadata": {},
   "outputs": [
    {
     "name": "stdout",
     "output_type": "stream",
     "text": [
      "6\n",
      "4 T\n",
      "4 F\n",
      "5 E\n",
      "5 F\n",
      "5 A\n",
      "1 C\n",
      "1 C \n",
      "4 F \n",
      "4 T \n",
      "5 A \n",
      "5 E \n",
      "5 F \n"
     ]
    }
   ],
   "source": [
    "# 민코딩 심화반1 Level 32 - 문제 1번 : 구조체 삽입정렬\n",
    "\n",
    "n = int(input())\n",
    "arr = [list(input().split()) for _ in range(n)]\n",
    "for i in range(n):\n",
    "    for j in range(i+1, n):\n",
    "        if int(arr[i][0]) > int(arr[j][0]):\n",
    "            arr[i], arr[j] = arr[j], arr[i]\n",
    "        elif int(arr[i][0]) == int(arr[j][0]):\n",
    "            if ord(arr[i][1]) > ord(arr[j][1]):\n",
    "                arr[i], arr[j] = arr[j], arr[i]\n",
    "for i in range(n):\n",
    "    for j in range(2):\n",
    "        print(arr[i][j], end=\" \")\n",
    "    print()"
   ]
  },
  {
   "cell_type": "code",
   "execution_count": null,
   "id": "72201a63",
   "metadata": {},
   "outputs": [],
   "source": [
    "# 민코딩 심화반1 Level 32 - 문제 2번 : 금메달 은메달 동메달\n",
    "\n"
   ]
  }
 ],
 "metadata": {
  "kernelspec": {
   "display_name": "Python 3 (ipykernel)",
   "language": "python",
   "name": "python3"
  },
  "language_info": {
   "codemirror_mode": {
    "name": "ipython",
    "version": 3
   },
   "file_extension": ".py",
   "mimetype": "text/x-python",
   "name": "python",
   "nbconvert_exporter": "python",
   "pygments_lexer": "ipython3",
   "version": "3.10.1"
  },
  "toc": {
   "base_numbering": 1,
   "nav_menu": {},
   "number_sections": true,
   "sideBar": true,
   "skip_h1_title": false,
   "title_cell": "Table of Contents",
   "title_sidebar": "Contents",
   "toc_cell": false,
   "toc_position": {},
   "toc_section_display": true,
   "toc_window_display": false
  }
 },
 "nbformat": 4,
 "nbformat_minor": 5
}
