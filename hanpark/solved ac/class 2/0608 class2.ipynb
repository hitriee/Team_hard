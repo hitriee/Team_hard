{
 "cells": [
  {
   "cell_type": "code",
   "execution_count": 3,
   "id": "7455f3d3",
   "metadata": {},
   "outputs": [
    {
     "name": "stdout",
     "output_type": "stream",
     "text": [
      "3 4 0\n",
      "64 64 64 64\n",
      "64 64 64 63\n",
      "64 64 64 64\n",
      "22 63\n"
     ]
    }
   ],
   "source": [
    "# 백준 class 2++ 18111 마인크래프트\n",
    "\n",
    "n, m, b = map(int, input().split())\n",
    "arr = [list(map(int, input().split())) for _ in range(n)]\n",
    "rst, ans = 21e8, 0\n",
    "for a in range(257):\n",
    "    maxx, minn = 0, 0\n",
    "    for i in range(n):\n",
    "        for j in range(m):\n",
    "            if arr[i][j] >= a:\n",
    "                maxx += (arr[i][j] - a)\n",
    "            else:\n",
    "                minn += (a - arr[i][j])\n",
    "    if maxx + b >= minn:\n",
    "        if minn + (maxx*2) <= rst:\n",
    "            rst = minn + (maxx*2)\n",
    "            ans = a\n",
    "print(rst, ans)\n",
    "\n",
    "# 몇 번 수정해봤지만 시간 초과 뜸.. 포기"
   ]
  }
 ],
 "metadata": {
  "kernelspec": {
   "display_name": "Python 3 (ipykernel)",
   "language": "python",
   "name": "python3"
  },
  "language_info": {
   "codemirror_mode": {
    "name": "ipython",
    "version": 3
   },
   "file_extension": ".py",
   "mimetype": "text/x-python",
   "name": "python",
   "nbconvert_exporter": "python",
   "pygments_lexer": "ipython3",
   "version": "3.10.4"
  },
  "toc": {
   "base_numbering": 1,
   "nav_menu": {},
   "number_sections": true,
   "sideBar": true,
   "skip_h1_title": false,
   "title_cell": "Table of Contents",
   "title_sidebar": "Contents",
   "toc_cell": false,
   "toc_position": {},
   "toc_section_display": true,
   "toc_window_display": false
  }
 },
 "nbformat": 4,
 "nbformat_minor": 5
}
