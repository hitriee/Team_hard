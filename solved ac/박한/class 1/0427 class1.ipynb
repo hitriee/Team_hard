{
 "cells": [
  {
   "cell_type": "code",
   "execution_count": 6,
   "id": "b9493611",
   "metadata": {},
   "outputs": [
    {
     "name": "stdout",
     "output_type": "stream",
     "text": [
      "3\n",
      "10 20 30\n",
      "66.66666666666667\n"
     ]
    }
   ],
   "source": [
    "# 백준 class 1++ 1546 평균\n",
    "\n",
    "n = int(input())\n",
    "lst = list(map(int, input().split()))\n",
    "rst = 0\n",
    "for i in range(n):\n",
    "    rst += 100*lst[i]/max(lst)\n",
    "print(rst/n)"
   ]
  },
  {
   "cell_type": "code",
   "execution_count": 7,
   "id": "f64c2084",
   "metadata": {},
   "outputs": [
    {
     "name": "stdout",
     "output_type": "stream",
     "text": [
      "3\n",
      "29\n",
      "38\n",
      "12\n",
      "57\n",
      "74\n",
      "40\n",
      "85\n",
      "61\n",
      "85\n",
      "8\n"
     ]
    }
   ],
   "source": [
    "# 백준 class 1++ 2562 최댓값\n",
    "\n",
    "lst = [int(input()) for _ in range(9)]\n",
    "print(max(lst))\n",
    "for i in range(9):\n",
    "    if lst[i] == max(lst):\n",
    "        print(i+1)\n",
    "        break"
   ]
  },
  {
   "cell_type": "code",
   "execution_count": 13,
   "id": "6232178d",
   "metadata": {},
   "outputs": [
    {
     "name": "stdout",
     "output_type": "stream",
     "text": [
      "150\n",
      "266\n",
      "427\n",
      "3\n",
      "1\n",
      "0\n",
      "2\n",
      "0\n",
      "0\n",
      "0\n",
      "2\n",
      "0\n",
      "0\n"
     ]
    }
   ],
   "source": [
    "# 백준 class 1++ 2577 숫자의 개수\n",
    "\n",
    "lst = [int(input()) for _ in range(3)]\n",
    "n = str(lst[0]*lst[1]*lst[2])\n",
    "lst1 = [0]*10\n",
    "for i in range(len(n)):\n",
    "    lst1[int(n[i])] += 1\n",
    "for i in range(10):\n",
    "    print(lst1[i])"
   ]
  }
 ],
 "metadata": {
  "kernelspec": {
   "display_name": "Python 3 (ipykernel)",
   "language": "python",
   "name": "python3"
  },
  "language_info": {
   "codemirror_mode": {
    "name": "ipython",
    "version": 3
   },
   "file_extension": ".py",
   "mimetype": "text/x-python",
   "name": "python",
   "nbconvert_exporter": "python",
   "pygments_lexer": "ipython3",
   "version": "3.10.4"
  },
  "toc": {
   "base_numbering": 1,
   "nav_menu": {},
   "number_sections": true,
   "sideBar": true,
   "skip_h1_title": false,
   "title_cell": "Table of Contents",
   "title_sidebar": "Contents",
   "toc_cell": false,
   "toc_position": {},
   "toc_section_display": true,
   "toc_window_display": false
  }
 },
 "nbformat": 4,
 "nbformat_minor": 5
}
