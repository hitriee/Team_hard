{
 "cells": [
  {
   "cell_type": "code",
   "execution_count": 4,
   "id": "32571ad7",
   "metadata": {},
   "outputs": [
    {
     "name": "stdout",
     "output_type": "stream",
     "text": [
      "2 + 2 = 5\n",
      "NO\n"
     ]
    }
   ],
   "source": [
    "# 백준 브론즈4 13985번\n",
    "# a + b = c를 입력받고 맞으면 YES, 아니면 NO를 출려\n",
    "\n",
    "lst = list(input().split())\n",
    "if int(lst[0])+int(lst[2])!=int(lst[4]):\n",
    "    print(\"NO\")\n",
    "else:\n",
    "    print(\"YES\")"
   ]
  },
  {
   "cell_type": "code",
   "execution_count": 7,
   "id": "57b4e20f",
   "metadata": {},
   "outputs": [
    {
     "name": "stdout",
     "output_type": "stream",
     "text": [
      "W\n",
      "L\n",
      "L\n",
      "L\n",
      "L\n",
      "L\n",
      "3\n"
     ]
    }
   ],
   "source": [
    "# 백준 브론즈4 14038번\n",
    "# 6줄에 걸쳐서 W 또는 L을 입력받고 승패에 따라서 그룹을 출력해주기\n",
    "\n",
    "lst = [input() for _ in range(6)]\n",
    "rst = 0\n",
    "for i in range(6):\n",
    "    if lst[i] == 'W':\n",
    "        rst += 1\n",
    "if rst>=5:\n",
    "    print(1)\n",
    "elif rst>=3:\n",
    "    print(2)\n",
    "elif rst>=1:\n",
    "    print(3)\n",
    "else:\n",
    "    print(-1)"
   ]
  },
  {
   "cell_type": "code",
   "execution_count": 9,
   "id": "cd079de1",
   "metadata": {},
   "outputs": [
    {
     "name": "stdout",
     "output_type": "stream",
     "text": [
      "10.00\n",
      "23.521458\n"
     ]
    }
   ],
   "source": [
    "# 백준 브론즈4 14065번\n",
    "# 자동차의 갤런/마일 연비를 입력받고 이를 km/리터 연비로 출력하기\n",
    "\n",
    "a = float(input())\n",
    "print(round((100*3.785411784)/(a*1.609344), 6))"
   ]
  },
  {
   "cell_type": "code",
   "execution_count": 19,
   "id": "4e518365",
   "metadata": {},
   "outputs": [
    {
     "name": "stdout",
     "output_type": "stream",
     "text": [
      "6 6 8 8\n",
      "1 8 4 9\n",
      "49\n"
     ]
    }
   ],
   "source": [
    "# 백준 브론즈4 14173번\n",
    "# 직사각형 농장 두개의 좌표를 받고, 두 직사각형을 모두 커버하는 정사각형의 넓이\n",
    "\n",
    "x1, y1, x2, y2 = map(int, input().split())\n",
    "a1, b1, a2, b2 = map(int, input().split())\n",
    "(c1, c2, d1, d2) = (max(x1, x2, a1, a2), min(x1, x2, a1, a2), max(y1, y2, b1, b2), min(y1, y2, b1, b2))\n",
    "print(max(c1-c2, d1-d2)**2)"
   ]
  },
  {
   "cell_type": "code",
   "execution_count": 30,
   "id": "45f0f516",
   "metadata": {},
   "outputs": [
    {
     "name": "stdout",
     "output_type": "stream",
     "text": [
      "10000\n",
      "43301270.18922193\n"
     ]
    }
   ],
   "source": [
    "# 백준 14264번\n",
    "# 정육각형 한변의 길이 L이 주어지고, 세 대각선을 그어서 만들어지는 네 삼각형 중 가장 작은 S의 넓이 구하기\n",
    "# 정육각형 넓이는 (3**3/2)/2*L. 가장 작은 삼각형은 육면체의 1/6 크기\n",
    "\n",
    "L = int(input())\n",
    "S = 3**(3/2)*(L**2)/12\n",
    "print(S)"
   ]
  }
 ],
 "metadata": {
  "kernelspec": {
   "display_name": "Python 3 (ipykernel)",
   "language": "python",
   "name": "python3"
  },
  "language_info": {
   "codemirror_mode": {
    "name": "ipython",
    "version": 3
   },
   "file_extension": ".py",
   "mimetype": "text/x-python",
   "name": "python",
   "nbconvert_exporter": "python",
   "pygments_lexer": "ipython3",
   "version": "3.10.1"
  },
  "toc": {
   "base_numbering": 1,
   "nav_menu": {},
   "number_sections": true,
   "sideBar": true,
   "skip_h1_title": false,
   "title_cell": "Table of Contents",
   "title_sidebar": "Contents",
   "toc_cell": false,
   "toc_position": {},
   "toc_section_display": true,
   "toc_window_display": false
  }
 },
 "nbformat": 4,
 "nbformat_minor": 5
}
