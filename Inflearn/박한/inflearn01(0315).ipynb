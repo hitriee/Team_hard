{
 "cells": [
  {
   "cell_type": "code",
   "execution_count": null,
   "id": "826ad99f",
   "metadata": {},
   "outputs": [],
   "source": [
    "# codeFestival_1. 51번\n",
    "\n",
    "while 그룹_하나 and 그룹_둘:\n",
    "    if 그룹_하나[0] < 그룹_둘[0]:\n",
    "주어진리스트 = [int(i) for i in 주어진리스트]"
   ]
  },
  {
   "cell_type": "code",
   "execution_count": null,
   "id": "b11fddec",
   "metadata": {},
   "outputs": [],
   "source": [
    "# codeFestival_1. 52번\n",
    "\n",
    "if 입력리스트[i] < 기준값:\n",
    "return 퀵정렬(그룹_하나) + [기준값] + 퀵정렬(그룹_둘)\n",
    "주어진리스트 = [int(i) for i in 주어진리스트]"
   ]
  },
  {
   "cell_type": "code",
   "execution_count": 2,
   "id": "d9d8c569",
   "metadata": {},
   "outputs": [
    {
     "name": "stdout",
     "output_type": "stream",
     "text": [
      "(())()()())()((\n",
      "NO\n"
     ]
    }
   ],
   "source": [
    "# codeFestival_1. 53번\n",
    "\n",
    "lst = list(input())\n",
    "a, b = 0, 0\n",
    "for i in range(len(lst)):\n",
    "    if lst[i] == '(':\n",
    "        a += 1\n",
    "    else:\n",
    "        b += 1\n",
    "if a == b:\n",
    "    print(\"YES\")\n",
    "else:\n",
    "    print(\"NO\")"
   ]
  },
  {
   "cell_type": "code",
   "execution_count": 8,
   "id": "49a6b324",
   "metadata": {},
   "outputs": [
    {
     "name": "stdout",
     "output_type": "stream",
     "text": [
      "1 4 2 6 3\n",
      "NO\n"
     ]
    }
   ],
   "source": [
    "# codeFestival_1. 54번\n",
    "\n",
    "lst = list(map(int, input().split()))\n",
    "for i in range(len(lst)):\n",
    "    for j in range(i+1, len(lst)):\n",
    "        if lst[i] > lst[j]:\n",
    "            lst[i], lst[j] = lst[j], lst[i]\n",
    "rst = 0\n",
    "for i in range(len(lst)-1):\n",
    "    if lst[i+1]-lst[i] == 1:\n",
    "        rst += 1\n",
    "    else:\n",
    "        print(\"NO\")\n",
    "        break\n",
    "if rst == len(lst)-1:\n",
    "    print(\"YES\")"
   ]
  },
  {
   "cell_type": "code",
   "execution_count": null,
   "id": "e2baf005",
   "metadata": {},
   "outputs": [],
   "source": [
    "# codeFestival_1. 55번\n",
    "\n"
   ]
  },
  {
   "cell_type": "code",
   "execution_count": 12,
   "id": "e285f231",
   "metadata": {},
   "outputs": [
    {
     "name": "stdout",
     "output_type": "stream",
     "text": [
      "England 22023\n"
     ]
    }
   ],
   "source": [
    "# codeFestival_1. 56번\n",
    "\n",
    "nationWidth = {\n",
    "    'Korea': 220877,\n",
    "    'Russia': 17098242,\n",
    "    'China': 9596961,\n",
    "    'France': 543965,\n",
    "    'Japan': 377915,\n",
    "    'England': 242900 }\n",
    "lst = list(nationWidth.items())\n",
    "rst, ans = 0, 0\n",
    "for i in lst:\n",
    "    if rst == 0 or rst > (i[1]-220877) > 0:\n",
    "        rst = i[1]-220877\n",
    "        ans = i[0]\n",
    "print(ans, rst)"
   ]
  },
  {
   "cell_type": "code",
   "execution_count": 18,
   "id": "2dbcea16",
   "metadata": {},
   "outputs": [
    {
     "name": "stdout",
     "output_type": "stream",
     "text": [
      "301\n"
     ]
    }
   ],
   "source": [
    "# codeFestival_1. 57번\n",
    "\n",
    "n = 0\n",
    "for i in range(1001):\n",
    "    n += str(i).count('1')\n",
    "print(n)"
   ]
  },
  {
   "cell_type": "code",
   "execution_count": 20,
   "id": "fa46c131",
   "metadata": {},
   "outputs": [
    {
     "name": "stdout",
     "output_type": "stream",
     "text": [
      "3002010\n",
      "3,002,010\n"
     ]
    }
   ],
   "source": [
    "# codeFestival_1. 58번\n",
    "\n",
    "n = int(input())\n",
    "rst = format(n, ',')\n",
    "print(rst)"
   ]
  },
  {
   "cell_type": "code",
   "execution_count": 24,
   "id": "87e46430",
   "metadata": {},
   "outputs": [
    {
     "name": "stdout",
     "output_type": "stream",
     "text": [
      "hihi\n",
      "=======================hihi======================="
     ]
    }
   ],
   "source": [
    "# codeFestival_1. 59번\n",
    "\n",
    "lst = ['=']*50\n",
    "lst1 = list(input())\n",
    "for i in range(25-len(lst1)//2, 25+len(lst1)//2):\n",
    "    lst[i] = lst1[i+len(lst1)//2-25]\n",
    "for i in range(50):\n",
    "    print(lst[i], end=\"\")"
   ]
  },
  {
   "cell_type": "code",
   "execution_count": 26,
   "id": "9ac7ca97",
   "metadata": {},
   "outputs": [
    {
     "name": "stdout",
     "output_type": "stream",
     "text": [
      "강은지 김유정 박현서 최성훈 홍유진 박지호 권윤일 김채리 한지호 김진이 김민호 강채연\n",
      "번호: 1, 이름: 강은지\n",
      "번호: 2, 이름: 강채연\n",
      "번호: 3, 이름: 권윤일\n",
      "번호: 4, 이름: 김채리\n",
      "번호: 5, 이름: 김진이\n",
      "번호: 6, 이름: 김민호\n",
      "번호: 7, 이름: 김유정\n",
      "번호: 8, 이름: 박지호\n",
      "번호: 9, 이름: 박현서\n",
      "번호: 10, 이름: 최성훈\n",
      "번호: 11, 이름: 한지호\n",
      "번호: 12, 이름: 홍유진\n"
     ]
    }
   ],
   "source": [
    "# codeFestival_1. 60번\n",
    "\n",
    "student = list(input().split())\n",
    "for i in range(len(student)):\n",
    "    for j in range(i+1, len(student)):\n",
    "        if ord(student[i][0]) > ord(student[j][0]):\n",
    "            student[i], student[j] = student[j], student[i]\n",
    "for i in range(len(student)):\n",
    "    print(f\"번호: {i+1}, 이름: {student[i]}\")"
   ]
  },
  {
   "cell_type": "code",
   "execution_count": 37,
   "id": "24cd5d1d",
   "metadata": {},
   "outputs": [
    {
     "name": "stdout",
     "output_type": "stream",
     "text": [
      "aaabbbbcddde\n",
      "a3b4c1d3e1"
     ]
    }
   ],
   "source": [
    "# codeFestival_1. 61번\n",
    "\n",
    "lst = list(input())\n",
    "rst = 1\n",
    "def abc(level):\n",
    "    global rst\n",
    "    if level == len(lst)-1:\n",
    "        return\n",
    "    if level == len(lst)-2:\n",
    "        if lst[level] == lst[level+1]:\n",
    "            rst += 1\n",
    "            print(f\"{lst[level]}{rst}\", end=\"\")\n",
    "        else:\n",
    "            print(f\"{lst[level]}{rst}\", end=\"\")\n",
    "            print(f\"{lst[level+1]}{1}\", end=\"\")\n",
    "    elif lst[level] == lst[level+1]:\n",
    "        rst += 1\n",
    "    else:\n",
    "        print(f\"{lst[level]}{rst}\", end=\"\")\n",
    "        rst = 1\n",
    "    abc(level+1)\n",
    "abc(0)"
   ]
  },
  {
   "cell_type": "code",
   "execution_count": null,
   "id": "a3090e74",
   "metadata": {},
   "outputs": [],
   "source": [
    "# codeFestival_1. 62번\n",
    "\n"
   ]
  },
  {
   "cell_type": "code",
   "execution_count": 39,
   "id": "46c054bb",
   "metadata": {},
   "outputs": [
    {
     "name": "stdout",
     "output_type": "stream",
     "text": [
      "복잡한 세상 편하게 살자\n",
      "복세편살"
     ]
    }
   ],
   "source": [
    "# codeFestival_1. 63번\n",
    "\n",
    "lst = list(input())\n",
    "print(lst[0], end=\"\")\n",
    "for i in range(1, len(lst)):\n",
    "    if lst[i-1] == \" \":\n",
    "        print(lst[i], end=\"\")"
   ]
  },
  {
   "cell_type": "code",
   "execution_count": 43,
   "id": "c515faf7",
   "metadata": {},
   "outputs": [
    {
     "name": "stdout",
     "output_type": "stream",
     "text": [
      "24\n",
      "4\n"
     ]
    }
   ],
   "source": [
    "# codeFestival_1. 64번\n",
    "\n",
    "N = int(input())\n",
    "rst = 0\n",
    "def abc(level):\n",
    "    global rst\n",
    "    if level == 0:\n",
    "        print(rst)\n",
    "        return\n",
    "    elif level < 0:\n",
    "        print(-1)\n",
    "        return\n",
    "    if level%7 == 0:\n",
    "        rst += (level//7)\n",
    "        abc(level%7)\n",
    "    else:\n",
    "        rst += 1\n",
    "        abc(level-3)\n",
    "    \n",
    "if N < 3:\n",
    "    print(-1)\n",
    "else:\n",
    "    abc(N)"
   ]
  },
  {
   "cell_type": "code",
   "execution_count": 47,
   "id": "1688d91a",
   "metadata": {},
   "outputs": [
    {
     "name": "stdout",
     "output_type": "stream",
     "text": [
      "1 a \n",
      "2 b \n",
      "3 c \n",
      "4 d \n"
     ]
    }
   ],
   "source": [
    "# codeFestival_1. 65번\n",
    "\n",
    "a = [1, 2, 3, 4]\n",
    "b = ['a', 'b', 'c', 'd']\n",
    "lst = [['', '']]*4\n",
    "for i in range(4):\n",
    "    lst[i][0] = a[i]\n",
    "    lst[i][1] = b[i]\n",
    "    for j in range(2):\n",
    "        print(lst[i][j], end=\" \")\n",
    "    print()"
   ]
  },
  {
   "cell_type": "code",
   "execution_count": 51,
   "id": "e488f0eb",
   "metadata": {},
   "outputs": [
    {
     "name": "stdout",
     "output_type": "stream",
     "text": [
      "가능 불가능 가능 가능 가능 "
     ]
    }
   ],
   "source": [
    "# codeFestival_1. 66번\n",
    "\n",
    "TOWER = ['ABCDEF', 'BCAD', 'ADEFQRX', 'BEDFG', 'EFGHZ']\n",
    "rule = 'ABD'\n",
    "for i in range(5):\n",
    "    rst = 0\n",
    "    for j in range(len(TOWER[i])):\n",
    "        if TOWER[i][j] == 'A':\n",
    "            if j == 0:\n",
    "                pass\n",
    "            else:\n",
    "                for k in range(j):\n",
    "                    if TOWER[i][j] == 'B' or 'D':\n",
    "                        rst += 1\n",
    "                        break\n",
    "        elif TOWER[i][j] == 'B':\n",
    "            if j == 0:\n",
    "                pass\n",
    "            else:\n",
    "                for k in range(j):\n",
    "                    if TOWER[i][j] == 'D':\n",
    "                        rst += 1\n",
    "                        break\n",
    "    if not rst:\n",
    "        print(\"가능\", end=\" \")\n",
    "    else:\n",
    "        print(\"불가능\", end=\" \")"
   ]
  },
  {
   "cell_type": "code",
   "execution_count": 54,
   "id": "3dadccb1",
   "metadata": {},
   "outputs": [
    {
     "name": "stdout",
     "output_type": "stream",
     "text": [
      "59\n",
      "4 12\n"
     ]
    }
   ],
   "source": [
    "# codeFestival_1. 67번\n",
    "\n",
    "n = int(input())\n",
    "a, b = 0, 0\n",
    "for i in range(n):\n",
    "    if i*(i-1)//2 < n < i*(i+1)//2:\n",
    "        b = i+1\n",
    "        a = n - i*(i-1)//2\n",
    "        break\n",
    "print(a, b)"
   ]
  },
  {
   "cell_type": "code",
   "execution_count": null,
   "id": "385fed7f",
   "metadata": {},
   "outputs": [],
   "source": [
    "# codeFestival_1. 68번\n",
    "\n",
    "lst = list(input().split())\n",
    "a = input()"
   ]
  }
 ],
 "metadata": {
  "kernelspec": {
   "display_name": "Python 3 (ipykernel)",
   "language": "python",
   "name": "python3"
  },
  "language_info": {
   "codemirror_mode": {
    "name": "ipython",
    "version": 3
   },
   "file_extension": ".py",
   "mimetype": "text/x-python",
   "name": "python",
   "nbconvert_exporter": "python",
   "pygments_lexer": "ipython3",
   "version": "3.10.1"
  },
  "toc": {
   "base_numbering": 1,
   "nav_menu": {},
   "number_sections": true,
   "sideBar": true,
   "skip_h1_title": false,
   "title_cell": "Table of Contents",
   "title_sidebar": "Contents",
   "toc_cell": false,
   "toc_position": {},
   "toc_section_display": true,
   "toc_window_display": false
  }
 },
 "nbformat": 4,
 "nbformat_minor": 5
}
