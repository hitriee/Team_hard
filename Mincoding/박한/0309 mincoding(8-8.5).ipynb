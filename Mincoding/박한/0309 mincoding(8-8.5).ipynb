{
 "cells": [
  {
   "cell_type": "code",
   "execution_count": 2,
   "id": "f93b68f1",
   "metadata": {},
   "outputs": [
    {
     "name": "stdout",
     "output_type": "stream",
     "text": [
      "10\n",
      "1 2 3 4 5 6 7 8 9 10 "
     ]
    }
   ],
   "source": [
    "# 민코딩 훈련반1 Level 8 - 문제 1번 : n까지 While돌리자\n",
    "\n",
    "n = int(input())\n",
    "for i in range(1, n+1):\n",
    "    print(i, end=\" \")"
   ]
  },
  {
   "cell_type": "code",
   "execution_count": 4,
   "id": "946a8dce",
   "metadata": {},
   "outputs": [
    {
     "name": "stdout",
     "output_type": "stream",
     "text": [
      "3 4 1 6 7 1\n",
      "3 4 1 6 "
     ]
    }
   ],
   "source": [
    "# 민코딩 훈련반1 Level 8 - 문제 2번 : 럭키7을 찾아라\n",
    "\n",
    "lst = list(map(int, input().split()))\n",
    "for i in range(len(lst)):\n",
    "    if lst[i]!=7:\n",
    "        print(lst[i], end=\" \")\n",
    "    else:\n",
    "        break"
   ]
  },
  {
   "cell_type": "code",
   "execution_count": 5,
   "id": "6125fc10",
   "metadata": {},
   "outputs": [
    {
     "name": "stdout",
     "output_type": "stream",
     "text": [
      "3 4\n"
     ]
    }
   ],
   "source": [
    "# 민코딩 훈련반1 Level 8 - 문제 3번 : 두 수의 합까지 출력 하기\n",
    "\n",
    "a, b = map(int, input().split())\n",
    "n = 5\n",
    "while n <= a+b:\n",
    "    print(n, end=\" \")\n",
    "    n += 1"
   ]
  },
  {
   "cell_type": "code",
   "execution_count": 7,
   "id": "f5c4832e",
   "metadata": {},
   "outputs": [
    {
     "name": "stdout",
     "output_type": "stream",
     "text": [
      "1 2 7 4 9 6\n",
      "6 9 4 7 "
     ]
    }
   ],
   "source": [
    "# 민코딩 훈련반1 Level 8 - 문제 4번 : Again, 럭키7이 나올때까지\n",
    "\n",
    "lst = list(map(int, input().split()))\n",
    "for i in range(len(lst)-1, -1, -1):\n",
    "    print(lst[i], end=\" \")\n",
    "    if lst[i] == 7:\n",
    "        break"
   ]
  },
  {
   "cell_type": "code",
   "execution_count": 9,
   "id": "86425627",
   "metadata": {},
   "outputs": [
    {
     "name": "stdout",
     "output_type": "stream",
     "text": [
      "3 4 1 6 7 5 "
     ]
    }
   ],
   "source": [
    "# 민코딩 훈련반1 Level 8 - 문제 5번 : 모든것을 보여줘\n",
    "\n",
    "lst = [3, 4, 1, 6, 7, 5]\n",
    "i = 0\n",
    "while i < len(lst):\n",
    "    print(lst[i], end=\" \")\n",
    "    i += 1"
   ]
  },
  {
   "cell_type": "code",
   "execution_count": 10,
   "id": "ef4a55c2",
   "metadata": {},
   "outputs": [
    {
     "name": "stdout",
     "output_type": "stream",
     "text": [
      "2\n",
      "3 4 5 6 \n",
      "7 8 9 10 \n",
      "11 12 13 14 \n"
     ]
    }
   ],
   "source": [
    "# 민코딩 훈련반1 Level 8 - 문제 6번 : 2차배열에 값 채우고 출력하기\n",
    "\n",
    "arr = [[0]*4 for _ in range(3)]\n",
    "n = int(input())\n",
    "for i in range(3):\n",
    "    for j in range(4):\n",
    "        arr[i][j] = n+4*i+j\n",
    "        arr[i][j] += 1\n",
    "        print(arr[i][j], end=\" \")\n",
    "    print()"
   ]
  },
  {
   "cell_type": "code",
   "execution_count": 17,
   "id": "07ef8931",
   "metadata": {},
   "outputs": [
    {
     "name": "stdout",
     "output_type": "stream",
     "text": [
      "3\n",
      "HGFEDCBA"
     ]
    }
   ],
   "source": [
    "# 민코딩 훈련반1 Level 8 - 문제 7번 : 1차배열 2개에 값 채우기\n",
    "\n",
    "lst1 = ['B', 'D', 5, 'Q', 'A']\n",
    "lst2 = ['Q', 'E', 'R', 'E', 'F']\n",
    "a = input()\n",
    "if a.isupper() == True:\n",
    "    for i in range(len(lst2)):\n",
    "        print(lst2[i], end=\"\")\n",
    "elif a.islower() == True:\n",
    "    for i in range(len(lst1)):\n",
    "        print(lst1[i], end=\"\")\n",
    "else:\n",
    "    for i in range(ord(\"H\"), ord(\"A\")-1, -1):\n",
    "        print(chr(i), end=\"\")"
   ]
  },
  {
   "cell_type": "code",
   "execution_count": 19,
   "id": "8114afdd",
   "metadata": {},
   "outputs": [
    {
     "name": "stdout",
     "output_type": "stream",
     "text": [
      "샵무샵무샵샵"
     ]
    }
   ],
   "source": [
    "# 민코딩 훈련반1 Level 8 - 문제 8번 : 샵무샵샵\n",
    "\n",
    "lst = ['#', '_', '#', '_', '#', '#']\n",
    "for i in range(len(lst)):\n",
    "    if lst[i] == '#':\n",
    "        print(\"샵\", end=\"\")\n",
    "    else:\n",
    "        print(\"무\", end=\"\")"
   ]
  },
  {
   "cell_type": "code",
   "execution_count": 21,
   "id": "a101d23c",
   "metadata": {},
   "outputs": [
    {
     "name": "stdout",
     "output_type": "stream",
     "text": [
      "1 2 3 4 5 6\n",
      "21\n"
     ]
    }
   ],
   "source": [
    "# 민코딩 훈련반1 Level 8 - 문제 9번 : 각자의 역할을 부여하자\n",
    "\n",
    "arr = [[0]*3 for _ in range(2)]\n",
    "lst = list(map(int, input().split()))\n",
    "summ = 0\n",
    "for i in range(2):\n",
    "    for j in range(3):\n",
    "        arr[i][j] = lst[i*3 + j]\n",
    "        summ += arr[i][j]\n",
    "print(summ)"
   ]
  },
  {
   "cell_type": "code",
   "execution_count": 23,
   "id": "6aaac4e8",
   "metadata": {},
   "outputs": [
    {
     "name": "stdout",
     "output_type": "stream",
     "text": [
      "1\n",
      "5개 존재합니다\n"
     ]
    }
   ],
   "source": [
    "# 민코딩 훈련반1 Level 8 - 문제 10번 : Counting 하기\n",
    "\n",
    "arr = [[4, 3, 1, 1], [3, 1, 2, 1], [0, 0, 1, 2]]\n",
    "n = int(input())\n",
    "rst = 0\n",
    "for i in range(3):\n",
    "    for j in range(4):\n",
    "        if arr[i][j] == n:\n",
    "            rst += 1\n",
    "print(f\"{rst}개 존재합니다\")"
   ]
  },
  {
   "cell_type": "code",
   "execution_count": 25,
   "id": "5dc35e39",
   "metadata": {},
   "outputs": [
    {
     "name": "stdout",
     "output_type": "stream",
     "text": [
      "10000\n",
      "-5 -4 -3 -2 -1 0 1 2 3 4 5 "
     ]
    }
   ],
   "source": [
    "# 민코딩 훈련반1 Level 8 - 문제 11번 : 다중 조건 처리하기\n",
    "\n",
    "n = int(input())\n",
    "def starBox():\n",
    "    for i in range(20):\n",
    "        if i%2==1:\n",
    "            print(i, end=\" \")\n",
    "def macDoll():\n",
    "    for i in range(ord(\"H\"), ord(\"A\")-1, -1):\n",
    "        print(chr(i), end=\" \")\n",
    "def copyBean():\n",
    "    for i in range(-5, 6):\n",
    "        print(i, end=\" \")\n",
    "if 3500 <= n <= 5000:\n",
    "    starBox()\n",
    "elif 2500 <= n < 3500:\n",
    "    macDoll()\n",
    "else:\n",
    "    copyBean()"
   ]
  },
  {
   "cell_type": "code",
   "execution_count": 29,
   "id": "1b373deb",
   "metadata": {},
   "outputs": [
    {
     "name": "stdout",
     "output_type": "stream",
     "text": [
      "8 1 4 7 8 2\n",
      "0번은 8점 합격\n",
      "1번은 1점 불합격\n",
      "2번은 4점 불합격\n",
      "3번은 7점 합격\n",
      "4번은 8점 합격\n",
      "5번은 2점 불합격\n"
     ]
    }
   ],
   "source": [
    "# 민코딩 훈련반1 Level 8.5 - 문제 1번 : 너의 점수가 보여\n",
    "\n",
    "lst = list(map(int, input().split()))\n",
    "for i in range(len(lst)):\n",
    "    if lst[i] < 5:\n",
    "        print(f\"{i}번은 {lst[i]}점 불합격\")\n",
    "    else:\n",
    "        print(f\"{i}번은 {lst[i]}점 합격\")"
   ]
  },
  {
   "cell_type": "code",
   "execution_count": 31,
   "id": "b9a56fa1",
   "metadata": {},
   "outputs": [
    {
     "name": "stdout",
     "output_type": "stream",
     "text": [
      "B\n",
      "3번 INDEX\n"
     ]
    }
   ],
   "source": [
    "# 민코딩 훈련반1 Level 8.5 - 문제 2번 : 내 친구는 어디에?\n",
    "\n",
    "lst = ['D', 'T', 'A', 'B', 'W', 'Q']\n",
    "a = input()\n",
    "for i in range(len(lst)):\n",
    "    if a == lst[i]:\n",
    "        print(f\"{i}번 INDEX\")"
   ]
  },
  {
   "cell_type": "code",
   "execution_count": 33,
   "id": "e60311cb",
   "metadata": {},
   "outputs": [
    {
     "name": "stdout",
     "output_type": "stream",
     "text": [
      "5\n",
      "a b c d e\n",
      "abcde"
     ]
    }
   ],
   "source": [
    "# 민코딩 훈련반1 Level 8.5 - 문제 3번 : 알파벳 저장고\n",
    "\n",
    "n = int(input())\n",
    "lst = list(input().split())\n",
    "for i in range(n):\n",
    "    print(lst[i], end=\"\")"
   ]
  },
  {
   "cell_type": "code",
   "execution_count": 34,
   "id": "eb3fd494",
   "metadata": {},
   "outputs": [
    {
     "name": "stdout",
     "output_type": "stream",
     "text": [
      "A B C\n",
      "CCCCBBBBBBAAAAAAA"
     ]
    }
   ],
   "source": [
    "# 민코딩 훈련반1 Level 8.5 - 문제 4번 : 17칸 색칠하기\n",
    "\n",
    "lst = ['']*17\n",
    "a, b, c = input().split()\n",
    "for i in range(7):\n",
    "    lst[i] = a\n",
    "for i in range(7, 13):\n",
    "    lst[i] = b\n",
    "for i in range(13, 17):\n",
    "    lst[i] = c\n",
    "for i in range(16, -1, -1):\n",
    "    print(lst[i], end=\"\")"
   ]
  },
  {
   "cell_type": "code",
   "execution_count": 37,
   "id": "a0f18253",
   "metadata": {},
   "outputs": [
    {
     "name": "stdout",
     "output_type": "stream",
     "text": [
      "B H 2\n",
      "BCDEFGH\n",
      "BCDEFGH\n"
     ]
    }
   ],
   "source": [
    "# 민코딩 훈련반1 Level 8.5 - 문제 5번 : 기차 만들기\n",
    "\n",
    "a, b, n = input().split()\n",
    "for i in range(int(n)):\n",
    "    for j in range(ord(a), ord(b)+1):\n",
    "        print(chr(j), end=\"\")\n",
    "    print()"
   ]
  },
  {
   "cell_type": "code",
   "execution_count": 38,
   "id": "75bf3533",
   "metadata": {},
   "outputs": [
    {
     "name": "stdout",
     "output_type": "stream",
     "text": [
      "B 5\n",
      "BBBBB\n",
      "BBBBB\n",
      "BBBBB\n",
      "BBBBB\n",
      "BBBBB\n"
     ]
    }
   ],
   "source": [
    "# 민코딩 훈련반1 Level 8.5 - 문제 6번 : 색종이\n",
    "\n",
    "a, n = input().split()\n",
    "for i in range(int(n)):\n",
    "    for j in range(int(n)):\n",
    "        print(a, end=\"\")\n",
    "    print()"
   ]
  },
  {
   "cell_type": "code",
   "execution_count": 39,
   "id": "82374c6d",
   "metadata": {},
   "outputs": [
    {
     "name": "stdout",
     "output_type": "stream",
     "text": [
      "0 2 5\n",
      "0 0 5 \n",
      "0 0 0 \n",
      "0 0 0 \n"
     ]
    }
   ],
   "source": [
    "# 민코딩 훈련반1 Level 8.5 - 문제 7번 : 좌표에 다트 던지기\n",
    "\n",
    "arr = [[0]*3 for _ in range(3)]\n",
    "y, x, n = map(int, input().split())\n",
    "arr[y][x] = n\n",
    "for i in range(3):\n",
    "    for j in range(3):\n",
    "        print(arr[i][j], end=\" \")\n",
    "    print()"
   ]
  },
  {
   "cell_type": "code",
   "execution_count": 40,
   "id": "c90aa9ee",
   "metadata": {},
   "outputs": [
    {
     "name": "stdout",
     "output_type": "stream",
     "text": [
      "3 5\n",
      "333\n",
      "333\n",
      "333\n",
      "555\n",
      "555\n",
      "555\n"
     ]
    }
   ],
   "source": [
    "# 민코딩 훈련반1 Level 8.5 - 문제 8번 : 우리집 냉장고\n",
    "\n",
    "arr = [[0]*3 for _ in range(6)]\n",
    "a, b = map(int, input().split())\n",
    "for i in range(6):\n",
    "    for j in range(3):\n",
    "        if i<3:\n",
    "            arr[i][j] = a\n",
    "        else:\n",
    "            arr[i][j] = b\n",
    "        print(arr[i][j], end=\"\")\n",
    "    print()"
   ]
  },
  {
   "cell_type": "code",
   "execution_count": 41,
   "id": "eaf6ea33",
   "metadata": {},
   "outputs": [
    {
     "name": "stdout",
     "output_type": "stream",
     "text": [
      "A G\n",
      "AAAAGG\n",
      "AAAAGG\n",
      "AAAAGG\n"
     ]
    }
   ],
   "source": [
    "# 민코딩 훈련반1 Level 8.5 - 문제 9번 : 쓰러진 냉장고\n",
    "\n",
    "arr = [['']*6 for _ in range(3)]\n",
    "a, b = input().split()\n",
    "for i in range(3):\n",
    "    for j in range(6):\n",
    "        if j<4:\n",
    "            arr[i][j] = a\n",
    "        else:\n",
    "            arr[i][j] = b\n",
    "        print(arr[i][j], end=\"\")\n",
    "    print()"
   ]
  }
 ],
 "metadata": {
  "kernelspec": {
   "display_name": "Python 3 (ipykernel)",
   "language": "python",
   "name": "python3"
  },
  "language_info": {
   "codemirror_mode": {
    "name": "ipython",
    "version": 3
   },
   "file_extension": ".py",
   "mimetype": "text/x-python",
   "name": "python",
   "nbconvert_exporter": "python",
   "pygments_lexer": "ipython3",
   "version": "3.10.1"
  },
  "toc": {
   "base_numbering": 1,
   "nav_menu": {},
   "number_sections": true,
   "sideBar": true,
   "skip_h1_title": false,
   "title_cell": "Table of Contents",
   "title_sidebar": "Contents",
   "toc_cell": false,
   "toc_position": {},
   "toc_section_display": true,
   "toc_window_display": false
  }
 },
 "nbformat": 4,
 "nbformat_minor": 5
}
