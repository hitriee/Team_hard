{
 "cells": [
  {
   "cell_type": "code",
   "execution_count": 4,
   "id": "6f475d10",
   "metadata": {},
   "outputs": [
    {
     "name": "stdout",
     "output_type": "stream",
     "text": [
      "20\n",
      "1 19\n",
      "3 17\n",
      "7 13\n"
     ]
    }
   ],
   "source": [
    "# codeFestival_1. 69번\n",
    "\n",
    "def find(m):\n",
    "    if m == 1:\n",
    "        return m\n",
    "    else:\n",
    "        rst = 0\n",
    "        for i in range(1, m):\n",
    "            if m%i == 0:\n",
    "                rst += 1\n",
    "        if rst == 1:\n",
    "            return m\n",
    "        else:\n",
    "            return 0\n",
    "n = int(input())\n",
    "for j in range(1, n//2+1):\n",
    "    if find(j) != 0 and find(n-j) != 0:\n",
    "        print(f\"{j} {n-j}\")"
   ]
  },
  {
   "cell_type": "code",
   "execution_count": 11,
   "id": "a5699456",
   "metadata": {},
   "outputs": [
    {
     "name": "stdout",
     "output_type": "stream",
     "text": [
      "2 2\n",
      "1 2\n",
      "2 4\n",
      "1 0\n",
      "0 3\n",
      "1 0 \n",
      "0 12 \n"
     ]
    }
   ],
   "source": [
    "# codeFestival_1. 70번\n",
    "\n",
    "m, n = map(int, input().split())\n",
    "a = [list(map(int, input().split())) for _ in range(m)]\n",
    "b = [list(map(int, input().split())) for _ in range(n)]\n",
    "c = [['']*10 for _ in range(m)]\n",
    "if m != n:\n",
    "    print(-1)\n",
    "else:\n",
    "    rst = 0\n",
    "    for i in range(n):\n",
    "        if len(a[i]) == len(b[i]):\n",
    "            rst += 1\n",
    "            for j in range(len(a[i])):\n",
    "                c[i][j] = a[i][j]*b[i][j]\n",
    "        else:\n",
    "            break\n",
    "if rst == n:\n",
    "    for i in range(n):\n",
    "        for j in range(len(c[i])):\n",
    "            if c[i][j] != '':\n",
    "                print(c[i][j], end=\" \")\n",
    "        print()"
   ]
  }
 ],
 "metadata": {
  "kernelspec": {
   "display_name": "Python 3 (ipykernel)",
   "language": "python",
   "name": "python3"
  },
  "language_info": {
   "codemirror_mode": {
    "name": "ipython",
    "version": 3
   },
   "file_extension": ".py",
   "mimetype": "text/x-python",
   "name": "python",
   "nbconvert_exporter": "python",
   "pygments_lexer": "ipython3",
   "version": "3.10.1"
  },
  "toc": {
   "base_numbering": 1,
   "nav_menu": {},
   "number_sections": true,
   "sideBar": true,
   "skip_h1_title": false,
   "title_cell": "Table of Contents",
   "title_sidebar": "Contents",
   "toc_cell": false,
   "toc_position": {},
   "toc_section_display": true,
   "toc_window_display": false
  }
 },
 "nbformat": 4,
 "nbformat_minor": 5
}
