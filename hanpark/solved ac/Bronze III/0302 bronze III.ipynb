{
 "cells": [
  {
   "cell_type": "code",
   "execution_count": 1,
   "id": "948fb35a",
   "metadata": {},
   "outputs": [
    {
     "name": "stdout",
     "output_type": "stream",
     "text": [
      "5\n",
      "1 6\n",
      "1\n",
      "3 7\n",
      "7\n",
      "6 2\n",
      "6\n",
      "7 100\n",
      "1\n",
      "9 635\n",
      "9\n"
     ]
    }
   ],
   "source": [
    "# 백준 브론즈3 1009번\n",
    "\n",
    "T = int(input())\n",
    "for t in range(T):\n",
    "    a, b = map(int, input().split())\n",
    "    if b%4==0:\n",
    "        c = a**4\n",
    "    else:\n",
    "        c = a**(b%4)\n",
    "    if c%10==0:\n",
    "        print(10)\n",
    "    else:\n",
    "        print(c%10)"
   ]
  },
  {
   "cell_type": "code",
   "execution_count": 3,
   "id": "8f6e99cb",
   "metadata": {},
   "outputs": [
    {
     "name": "stdout",
     "output_type": "stream",
     "text": [
      "1 1 5 5\n",
      "1\n"
     ]
    }
   ],
   "source": [
    "# 백준 브론즈3 1085번\n",
    "\n",
    "x, y, w, h = map(int, input().split())\n",
    "a = min(x, w-x)\n",
    "b = min(y, h-y)\n",
    "if a>b:\n",
    "    print(b)\n",
    "else:\n",
    "    print(a)"
   ]
  },
  {
   "cell_type": "code",
   "execution_count": 14,
   "id": "87a8853f",
   "metadata": {},
   "outputs": [
    {
     "name": "stdout",
     "output_type": "stream",
     "text": [
      "314\n",
      "11001100\n"
     ]
    }
   ],
   "source": [
    "# 백준 브론즈3 1212번\n",
    "\n",
    "n = '0o'+input()\n",
    "a = bin(int(n, 8))\n",
    "print(a[2:])"
   ]
  },
  {
   "cell_type": "code",
   "execution_count": 15,
   "id": "d863ebb9",
   "metadata": {},
   "outputs": [
    {
     "name": "stdout",
     "output_type": "stream",
     "text": [
      "3\n",
      "0\n",
      "0\n",
      "0\n",
      "0\n",
      "10\n",
      "1\n",
      "2\n",
      "4\n",
      "8\n",
      "16\n",
      "32\n",
      "64\n",
      "128\n",
      "256\n",
      "-512\n",
      "-\n",
      "6\n",
      "9223372036854775807\n",
      "9223372036854775806\n",
      "9223372036854775805\n",
      "-9223372036854775807\n",
      "-9223372036854775806\n",
      "-9223372036854775804\n",
      "+\n"
     ]
    }
   ],
   "source": [
    "# 백준 브론즈3 1247번\n",
    "# 왜 시간초과??\n",
    "\n",
    "for t in range(3):\n",
    "    N = int(input())\n",
    "    lst = list(int(input()) for _ in range(N))\n",
    "    if sum(lst)>0:\n",
    "        print(\"+\")\n",
    "    elif sum(lst)<0:\n",
    "        print(\"-\")\n",
    "    else:\n",
    "        print(\"0\")"
   ]
  },
  {
   "cell_type": "code",
   "execution_count": 22,
   "id": "5a5afa76",
   "metadata": {},
   "outputs": [
    {
     "name": "stdout",
     "output_type": "stream",
     "text": [
      "3\n",
      "40 40 40\n",
      "M 45\n"
     ]
    }
   ],
   "source": [
    "# 백준 브론즈3 1267번\n",
    "\n",
    "N = int(input())\n",
    "lst = list(map(int, input().split()))\n",
    "rst1, rst2 = 0, 0\n",
    "for n in range(N):\n",
    "    rst1 += (lst[n]//30 + 1)*10\n",
    "    rst2 += (lst[n]//60 + 1)*15\n",
    "if rst1 < rst2:\n",
    "    print(f\"Y {rst1}\")\n",
    "elif rst1 > rst2:\n",
    "    print(f\"M {rst2}\")\n",
    "else:\n",
    "    print(f\"Y M {rst1}\")"
   ]
  }
 ],
 "metadata": {
  "kernelspec": {
   "display_name": "Python 3 (ipykernel)",
   "language": "python",
   "name": "python3"
  },
  "language_info": {
   "codemirror_mode": {
    "name": "ipython",
    "version": 3
   },
   "file_extension": ".py",
   "mimetype": "text/x-python",
   "name": "python",
   "nbconvert_exporter": "python",
   "pygments_lexer": "ipython3",
   "version": "3.10.1"
  },
  "toc": {
   "base_numbering": 1,
   "nav_menu": {},
   "number_sections": true,
   "sideBar": true,
   "skip_h1_title": false,
   "title_cell": "Table of Contents",
   "title_sidebar": "Contents",
   "toc_cell": false,
   "toc_position": {},
   "toc_section_display": true,
   "toc_window_display": false
  }
 },
 "nbformat": 4,
 "nbformat_minor": 5
}
