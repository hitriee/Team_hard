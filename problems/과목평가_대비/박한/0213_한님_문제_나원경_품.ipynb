{
 "cells": [
  {
   "cell_type": "code",
   "execution_count": null,
   "id": "d27a646c",
   "metadata": {},
   "outputs": [],
   "source": [
    "1. 정답 : 3"
   ]
  },
  {
   "cell_type": "code",
   "execution_count": null,
   "id": "583998c1",
   "metadata": {},
   "outputs": [],
   "source": [
    "2. 정답 : 4"
   ]
  },
  {
   "cell_type": "code",
   "execution_count": null,
   "id": "37773ba9",
   "metadata": {},
   "outputs": [],
   "source": [
    "3. 정답 : 2"
   ]
  },
  {
   "cell_type": "code",
   "execution_count": null,
   "id": "f5aab969",
   "metadata": {},
   "outputs": [],
   "source": [
    "4. 정답 : 1, 4"
   ]
  },
  {
   "cell_type": "code",
   "execution_count": null,
   "id": "5d9d6204",
   "metadata": {},
   "outputs": [],
   "source": [
    "5. 정답 : 2"
   ]
  },
  {
   "cell_type": "code",
   "execution_count": null,
   "id": "d8c14a30",
   "metadata": {},
   "outputs": [],
   "source": [
    "6. 정답 : <a href=\"#\"></a>"
   ]
  },
  {
   "cell_type": "code",
   "execution_count": null,
   "id": "4cd489bf",
   "metadata": {},
   "outputs": [],
   "source": [
    "7. 정답 : 선택자, 중괄호{}, 속성, 값"
   ]
  },
  {
   "cell_type": "code",
   "execution_count": null,
   "id": "693b14b6",
   "metadata": {},
   "outputs": [],
   "source": [
    "8. 정답 : header, footer"
   ]
  },
  {
   "cell_type": "code",
   "execution_count": null,
   "id": "013b307d",
   "metadata": {},
   "outputs": [],
   "source": [
    "9. 정답 : padding은 테두리인 border의 안쪽 여백 이고, margin은 테두리 바깥쪽 여백이다. 따라서 padding에는 이미지나 배경색이 적용되지만,\n",
    "    margin에는 적용되지 않는다."
   ]
  },
  {
   "cell_type": "code",
   "execution_count": null,
   "id": "01c1765c",
   "metadata": {},
   "outputs": [],
   "source": [
    "10. 정답 : fixed는 Normal flow에서 벗어나 있고 sticky는 Normal flow에서 벗어나지 않는다. 이는 fixed하기 전에 위치했던 자리는 보존이\n",
    "    되지 않고 sticky하기 전의 위치는 보존이 됨을 의미한다. 또한 fixed는 viewport를 기준으로 특정 위치에 있지만, sticky는 자리를\n",
    "    보존하다가 스크롤으로 인해 안 보이게 되면 움직인다는 차이점도 있다."
   ]
  }
 ],
 "metadata": {
  "kernelspec": {
   "display_name": "Python 3 (ipykernel)",
   "language": "python",
   "name": "python3"
  },
  "language_info": {
   "codemirror_mode": {
    "name": "ipython",
    "version": 3
   },
   "file_extension": ".py",
   "mimetype": "text/x-python",
   "name": "python",
   "nbconvert_exporter": "python",
   "pygments_lexer": "ipython3",
   "version": "3.7.3"
  },
  "toc": {
   "base_numbering": 1,
   "nav_menu": {},
   "number_sections": true,
   "sideBar": true,
   "skip_h1_title": false,
   "title_cell": "Table of Contents",
   "title_sidebar": "Contents",
   "toc_cell": false,
   "toc_position": {},
   "toc_section_display": true,
   "toc_window_display": false
  }
 },
 "nbformat": 4,
 "nbformat_minor": 5
}
