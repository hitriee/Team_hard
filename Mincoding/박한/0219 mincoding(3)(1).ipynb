{
 "cells": [
  {
   "cell_type": "code",
   "execution_count": 1,
   "id": "b3dbcc91",
   "metadata": {},
   "outputs": [
    {
     "name": "stdout",
     "output_type": "stream",
     "text": [
      "10\n",
      "WOW\n"
     ]
    }
   ],
   "source": [
    "# 민코딩 훈련반1 Level 3 - 문제 1번 : 숫자값 검사하기\n",
    "\n",
    "if int(input()) >= 10:\n",
    "    print(\"WOW\")\n",
    "else:\n",
    "    print(\"OMG\")"
   ]
  },
  {
   "cell_type": "code",
   "execution_count": null,
   "id": "5fff286a",
   "metadata": {},
   "outputs": [],
   "source": [
    "# 민코딩 훈련반1 Level 3 - 문제 2번 : 숫자값 비교하기\n",
    "\n",
    "A, B = map(int, input().split())\n",
    "if A>B:\n",
    "    print(f\"큰수는 {A}\")\n",
    "elif A<B:\n",
    "    print(f\"큰수는 {B}\")\n",
    "else:\n",
    "    print(\"같은숫자\")"
   ]
  },
  {
   "cell_type": "code",
   "execution_count": 18,
   "id": "835b4817",
   "metadata": {},
   "outputs": [
    {
     "name": "stdout",
     "output_type": "stream",
     "text": [
      "6\n",
      "재도전\n"
     ]
    }
   ],
   "source": [
    "# 민코딩 훈련반1 Level 3 - 문제 3번 : 둘 중 하나가 참이면\n",
    "\n",
    "A = int(input())\n",
    "if A == 5 or A == 10:\n",
    "    print(\"만세\")\n",
    "else:\n",
    "    print(\"재도전\")"
   ]
  },
  {
   "cell_type": "code",
   "execution_count": 22,
   "id": "c713372f",
   "metadata": {},
   "outputs": [
    {
     "name": "stdout",
     "output_type": "stream",
     "text": [
      "1 2\n",
      "재시도\n"
     ]
    }
   ],
   "source": [
    "# 민코딩 훈련반1 Level 3 - 문제 4번 : 둘 다 참이면\n",
    "\n",
    "A, B = map(int, input().split())\n",
    "if A==7 and B==9:\n",
    "    print(\"인증됨\")\n",
    "else:\n",
    "    print(\"재시도\")"
   ]
  },
  {
   "cell_type": "code",
   "execution_count": 23,
   "id": "19d069bf",
   "metadata": {},
   "outputs": [
    {
     "name": "stdout",
     "output_type": "stream",
     "text": [
      "3\n",
      "4\n",
      "5\n",
      "6\n",
      "7\n",
      "8\n",
      "9\n",
      "10\n"
     ]
    }
   ],
   "source": [
    "# 민코딩 훈련반1 Level 3 - 문제 5번 : 숫자 3~10 출력하기\n",
    "\n",
    "for a in range(3, 11):\n",
    "    print(a)"
   ]
  }
 ],
 "metadata": {
  "kernelspec": {
   "display_name": "Python 3 (ipykernel)",
   "language": "python",
   "name": "python3"
  },
  "language_info": {
   "codemirror_mode": {
    "name": "ipython",
    "version": 3
   },
   "file_extension": ".py",
   "mimetype": "text/x-python",
   "name": "python",
   "nbconvert_exporter": "python",
   "pygments_lexer": "ipython3",
   "version": "3.10.1"
  },
  "toc": {
   "base_numbering": 1,
   "nav_menu": {},
   "number_sections": true,
   "sideBar": true,
   "skip_h1_title": false,
   "title_cell": "Table of Contents",
   "title_sidebar": "Contents",
   "toc_cell": false,
   "toc_position": {},
   "toc_section_display": true,
   "toc_window_display": false
  }
 },
 "nbformat": 4,
 "nbformat_minor": 5
}
