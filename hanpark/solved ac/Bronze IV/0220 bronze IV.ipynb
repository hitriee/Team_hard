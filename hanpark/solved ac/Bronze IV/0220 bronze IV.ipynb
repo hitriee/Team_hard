{
 "cells": [
  {
   "cell_type": "code",
   "execution_count": 7,
   "id": "e7555922",
   "metadata": {},
   "outputs": [
    {
     "name": "stdout",
     "output_type": "stream",
     "text": [
      "1 2\n",
      "Odd 4\n"
     ]
    }
   ],
   "source": [
    "# 백준 브론즈4 15025번\n",
    "\n",
    "L, R = map(int, input().split())\n",
    "if L==0 and R==0:\n",
    "    print(\"Not a moose\")\n",
    "elif L == R:\n",
    "    print(f\"Even {L*2}\")\n",
    "else:\n",
    "    print(f\"Odd {max(L, R)*2}\")"
   ]
  },
  {
   "cell_type": "code",
   "execution_count": 27,
   "id": "30335a59",
   "metadata": {},
   "outputs": [
    {
     "name": "stdout",
     "output_type": "stream",
     "text": [
      "10\n",
      "20\n",
      "30\n",
      "80\n"
     ]
    }
   ],
   "source": [
    "# 백준 브론즈4 15051번\n",
    "\n",
    "a = list(int(input()) for _ in range(3))\n",
    "b = [2*a[1] + 4*a[2], 2*a[0]+2*a[2], 4*a[0]+2*a[1]]\n",
    "print(min(b))"
   ]
  },
  {
   "cell_type": "code",
   "execution_count": 32,
   "id": "e36a409e",
   "metadata": {},
   "outputs": [
    {
     "name": "stdout",
     "output_type": "stream",
     "text": [
      "0 0 0\n",
      "100 100 100\n",
      "300\n"
     ]
    }
   ],
   "source": [
    "# 백준 브론즈4 15059번\n",
    "\n",
    "arr = [list(map(int, input().split())) for _ in range(2)]\n",
    "rst = 0\n",
    "for i in range(3):\n",
    "    if arr[0][i] < arr[1][i]:\n",
    "        rst += arr[1][i] - arr[0][i]\n",
    "print(rst)"
   ]
  },
  {
   "cell_type": "code",
   "execution_count": 38,
   "id": "cd36900f",
   "metadata": {},
   "outputs": [
    {
     "name": "stdout",
     "output_type": "stream",
     "text": [
      "13 : 30 : 51\n",
      "13 : 30 : 17\n",
      "86366\n"
     ]
    }
   ],
   "source": [
    "# 백준 브론즈4 15080번\n",
    "\n",
    "a1, b1, c1 = map(int, input().split(':'))\n",
    "a2, b2, c2 = map(int, input().split(':'))\n",
    "d1 = a1*3600 + b1*60 + c1\n",
    "d2 = a2*3600 + b2*60 + c2\n",
    "if d1>d2:\n",
    "    print(d2-d1+(3600*24))    \n",
    "else:\n",
    "    print(d2-d1)"
   ]
  },
  {
   "cell_type": "code",
   "execution_count": 42,
   "id": "1dfeaa00",
   "metadata": {},
   "outputs": [
    {
     "name": "stdout",
     "output_type": "stream",
     "text": [
      "3 1 4 1\n",
      "1\n"
     ]
    }
   ],
   "source": [
    "# 백준 브론즈4 15128번\n",
    "\n",
    "a, b, c, d = map(int, input().split())\n",
    "e = (a/b) * (c/d) / 2\n",
    "if e == int(e):\n",
    "    print(1)\n",
    "else:\n",
    "    print(0)"
   ]
  }
 ],
 "metadata": {
  "kernelspec": {
   "display_name": "Python 3 (ipykernel)",
   "language": "python",
   "name": "python3"
  },
  "language_info": {
   "codemirror_mode": {
    "name": "ipython",
    "version": 3
   },
   "file_extension": ".py",
   "mimetype": "text/x-python",
   "name": "python",
   "nbconvert_exporter": "python",
   "pygments_lexer": "ipython3",
   "version": "3.10.1"
  },
  "toc": {
   "base_numbering": 1,
   "nav_menu": {},
   "number_sections": true,
   "sideBar": true,
   "skip_h1_title": false,
   "title_cell": "Table of Contents",
   "title_sidebar": "Contents",
   "toc_cell": false,
   "toc_position": {},
   "toc_section_display": true,
   "toc_window_display": false
  }
 },
 "nbformat": 4,
 "nbformat_minor": 5
}
