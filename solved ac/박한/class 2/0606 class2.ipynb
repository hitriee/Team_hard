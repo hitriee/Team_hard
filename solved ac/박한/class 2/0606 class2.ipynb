{
 "cells": [
  {
   "cell_type": "code",
   "execution_count": 13,
   "id": "e5b432e6",
   "metadata": {},
   "outputs": [
    {
     "name": "stdout",
     "output_type": "stream",
     "text": [
      "5\n",
      "0 4\n",
      "3 3\n",
      "2 2\n",
      "1 2\n",
      "1 -1\n",
      "1 -1\n",
      "1 2\n",
      "2 2\n",
      "3 3\n",
      "0 4\n"
     ]
    }
   ],
   "source": [
    "# 백준 class 2++ 11651 좌표 정렬하기 2\n",
    "\n",
    "n = int(input())\n",
    "lst = [list(map(int, input().split())) for _ in range(n)]\n",
    "ans = sorted(lst, key = lambda x : (x[1], x[0]))\n",
    "for i in range(n):\n",
    "    print(ans[i][0], ans[i][1])\n",
    "    \n",
    "# 람다 생각나서 써보니까 시간 초과 안남. 기분 좋음"
   ]
  }
 ],
 "metadata": {
  "kernelspec": {
   "display_name": "Python 3 (ipykernel)",
   "language": "python",
   "name": "python3"
  },
  "language_info": {
   "codemirror_mode": {
    "name": "ipython",
    "version": 3
   },
   "file_extension": ".py",
   "mimetype": "text/x-python",
   "name": "python",
   "nbconvert_exporter": "python",
   "pygments_lexer": "ipython3",
   "version": "3.10.4"
  },
  "toc": {
   "base_numbering": 1,
   "nav_menu": {},
   "number_sections": true,
   "sideBar": true,
   "skip_h1_title": false,
   "title_cell": "Table of Contents",
   "title_sidebar": "Contents",
   "toc_cell": false,
   "toc_position": {},
   "toc_section_display": true,
   "toc_window_display": false
  }
 },
 "nbformat": 4,
 "nbformat_minor": 5
}
