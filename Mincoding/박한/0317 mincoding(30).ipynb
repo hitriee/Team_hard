{
 "cells": [
  {
   "cell_type": "code",
   "execution_count": 5,
   "id": "e99dc442",
   "metadata": {},
   "outputs": [
    {
     "name": "stdout",
     "output_type": "stream",
     "text": [
      "1\n",
      "1 3 4 0 2 5 "
     ]
    }
   ],
   "source": [
    "# 민코딩 훈련반1 Level 30 - 문제 1번 : 인접행렬 그래프 DFS\n",
    "\n",
    "arr = [[0, 0, 1, 1, 0, 1], [0, 0, 0, 1, 1, 1], [0, 0, 0, 0, 1, 1], [0, 0, 0, 0, 0, 0], [1, 0, 0, 0, 0, 1], [0, 0, 0, 0, 0, 0]]\n",
    "k = int(input())\n",
    "used = [0]*6\n",
    "rst = 0\n",
    "def abc(now):\n",
    "    global rst\n",
    "    used[now] = 1\n",
    "    print(now, end=\" \")\n",
    "    for i in range(6):\n",
    "        if arr[now][i] == 1 and used[i] == 0:\n",
    "            used[i] += 1\n",
    "            abc(i)\n",
    "        else:\n",
    "            rst += 1\n",
    "    if rst == 6:\n",
    "        rst -= 1\n",
    "        return\n",
    "abc(k)"
   ]
  },
  {
   "cell_type": "code",
   "execution_count": 6,
   "id": "4dc6fd8c",
   "metadata": {},
   "outputs": [
    {
     "name": "stdout",
     "output_type": "stream",
     "text": [
      "0\n",
      "0 0\n",
      "2 1\n",
      "5 8\n",
      "3 15\n",
      "4 23\n"
     ]
    }
   ],
   "source": [
    "# 민코딩 훈련반1 Level 30 - 문제 2번 : 가중치 인접행렬 DFS\n",
    "\n",
    "arr = [[0, 0, 1, 0, 0, 2], [5, 0, 3, 0, 0, 0], [0, 0, 0, 0, 0, 7], [2, 0, 0, 0, 8, 0], [0, 0, 9, 0, 0, 0], [4, 0, 0, 7, 0, 0]]\n",
    "k = int(input())\n",
    "used = [0]*6\n",
    "ans = 0\n",
    "def abc(now):\n",
    "    global ans\n",
    "    used[now] = 1\n",
    "    print(f\"{now} {ans}\")\n",
    "    for i in range(6):\n",
    "        if arr[now][i] != 0 and used[i] == 0:\n",
    "            used[i] += 1\n",
    "            ans += arr[now][i]\n",
    "            abc(i)\n",
    "abc(k)"
   ]
  },
  {
   "cell_type": "code",
   "execution_count": 6,
   "id": "7d5b6e5d",
   "metadata": {},
   "outputs": [
    {
     "name": "stdout",
     "output_type": "stream",
     "text": [
      "0\n",
      "0 1 4 2 5 3 "
     ]
    }
   ],
   "source": [
    "# 민코딩 훈련반1 Level 30 - 문제 3번 : 트리 인접행렬 BFS\n",
    "\n",
    "arr = [[0, 1, 0, 0, 1, 0], [0, 0, 1, 0, 0, 1], [0, 0, 0, 1, 0, 0], [0, 0, 0, 0, 0, 0], [0, 0, 0, 0, 0, 0], [0, 0, 0, 0, 0, 0]]\n",
    "k = int(input())\n",
    "dep = [0]*6\n",
    "used = [0]*6\n",
    "ans, rst = 0, 0\n",
    "def abc(now):\n",
    "    global rst, ans\n",
    "    for i in range(6):\n",
    "        if arr[now][i] == 1 and used[i] == 0:\n",
    "            used[i] += 1\n",
    "            rst = 0\n",
    "            ans += 1\n",
    "            dep[i] += ans\n",
    "            abc(i)\n",
    "        else:\n",
    "            rst += 1\n",
    "    if rst == 6:\n",
    "        for j in range(6):\n",
    "            if arr[j][now] == 1:\n",
    "                rst = 0\n",
    "                ans -= 1\n",
    "                if used[j] == 0:\n",
    "                    dep[j] += ans\n",
    "                    used[j] += 1\n",
    "                abc(j)\n",
    "abc(k)\n",
    "use = [0]*4\n",
    "def find(level):\n",
    "    if level > 3:\n",
    "        return\n",
    "    for i in range(6):\n",
    "        if dep[i] == level:\n",
    "            print(i, end=\" \")\n",
    "            if level == 0:\n",
    "                break\n",
    "    if use[level] == 0:\n",
    "        use[level] += 1\n",
    "        find(level+1)\n",
    "        level -= 1\n",
    "find(0)"
   ]
  },
  {
   "cell_type": "code",
   "execution_count": 11,
   "id": "505ec430",
   "metadata": {},
   "outputs": [
    {
     "name": "stdout",
     "output_type": "stream",
     "text": [
      "0\n",
      "0\n",
      "4\n",
      "1\n",
      "3\n",
      "5\n",
      "2\n"
     ]
    }
   ],
   "source": [
    "# 민코딩 훈련반1 Level 30 - 문제 4번 : 그래프 BFS\n",
    "\n",
    "arr = [[0, 0, 0, 0, 1, 0], [1, 0, 1, 0, 0, 1], [1, 0, 0, 1, 0, 0], [1, 1, 0, 0, 0, 0], [0, 1, 0, 1, 0, 1], [0, 0, 1, 1, 0, 0]]\n",
    "n = int(input())\n",
    "used = [0]*6\n",
    "dep = [0]*6\n",
    "ar = [['']*6 for _ in range(6)]\n",
    "def abc(now):\n",
    "    if dep[now] == 0:\n",
    "        for i in range(6):\n",
    "            if ar[dep[now]][i] == '':\n",
    "                ar[dep[now]][i] = now\n",
    "                used[now] += 1\n",
    "                break\n",
    "    for i in range(6):\n",
    "        if arr[now][i] == 1 and dep[i] == 0 and used[i] == 0:\n",
    "            dep[i] = dep[now]+1\n",
    "            used[i] += 1\n",
    "            for j in range(6):\n",
    "                if ar[dep[i]][j] == '':\n",
    "                    ar[dep[i]][j] = i\n",
    "                    break\n",
    "    for i in range(6):\n",
    "        if dep[i] == dep[now]+1:\n",
    "            abc(i)\n",
    "abc(n)\n",
    "for i in range(6):\n",
    "    for j in range(6):\n",
    "        if ar[i][j] != '':\n",
    "            print(ar[i][j])"
   ]
  }
 ],
 "metadata": {
  "kernelspec": {
   "display_name": "Python 3 (ipykernel)",
   "language": "python",
   "name": "python3"
  },
  "language_info": {
   "codemirror_mode": {
    "name": "ipython",
    "version": 3
   },
   "file_extension": ".py",
   "mimetype": "text/x-python",
   "name": "python",
   "nbconvert_exporter": "python",
   "pygments_lexer": "ipython3",
   "version": "3.10.1"
  },
  "toc": {
   "base_numbering": 1,
   "nav_menu": {},
   "number_sections": true,
   "sideBar": true,
   "skip_h1_title": false,
   "title_cell": "Table of Contents",
   "title_sidebar": "Contents",
   "toc_cell": false,
   "toc_position": {},
   "toc_section_display": true,
   "toc_window_display": false
  }
 },
 "nbformat": 4,
 "nbformat_minor": 5
}
