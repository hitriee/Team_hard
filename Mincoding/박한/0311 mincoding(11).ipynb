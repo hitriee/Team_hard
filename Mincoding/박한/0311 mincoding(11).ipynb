{
 "cells": [
  {
   "cell_type": "code",
   "execution_count": 3,
   "id": "939da714",
   "metadata": {},
   "outputs": [
    {
     "name": "stdout",
     "output_type": "stream",
     "text": [
      "1 1 2\n",
      "4\n"
     ]
    }
   ],
   "source": [
    "# 민코딩 훈련반1 Level 11 - 문제 1번 : 함수로부터 값 보내고 받기\n",
    "\n",
    "def inputt():\n",
    "    n = input()\n",
    "    return n\n",
    "def main():\n",
    "    a, b, c = map(int, inputt().split())\n",
    "    calc(a, b, c)\n",
    "def calc(q, w, e):\n",
    "    print(q+w+e)\n",
    "main()"
   ]
  },
  {
   "cell_type": "code",
   "execution_count": 6,
   "id": "19a31227",
   "metadata": {},
   "outputs": [
    {
     "name": "stdout",
     "output_type": "stream",
     "text": [
      "5 1\n",
      "합:6\n",
      "차:4\n"
     ]
    }
   ],
   "source": [
    "# 민코딩 훈련반1 Level 11 - 문제 2번 : 함수를 이용하자\n",
    "\n",
    "a, b = map(int, input().split())\n",
    "def summ(m, n):\n",
    "    return m+n\n",
    "def comp(m, n):\n",
    "    return abs(m-n)\n",
    "def printt(m, n):\n",
    "    print(f\"합:{m}\")\n",
    "    print(f\"차:{n}\")\n",
    "printt(summ(a, b), comp(a, b))"
   ]
  },
  {
   "cell_type": "code",
   "execution_count": 7,
   "id": "56beb4fa",
   "metadata": {},
   "outputs": [
    {
     "name": "stdout",
     "output_type": "stream",
     "text": [
      "4\n",
      "발견\n"
     ]
    }
   ],
   "source": [
    "# 민코딩 훈련반1 Level 11 - 문제 6번 : 값 존재여부 찾아내기\n",
    "\n",
    "lst = [3, 4, 1, 3, 2, 7, 3]\n",
    "flag = 0\n",
    "n = int(input())\n",
    "for i in range(len(lst)):\n",
    "    if n == lst[i]:\n",
    "        flag+=1\n",
    "        break\n",
    "if not flag:\n",
    "    print(\"미발견\")\n",
    "else:\n",
    "    print(\"발견\")"
   ]
  },
  {
   "cell_type": "code",
   "execution_count": 8,
   "id": "e3236a8f",
   "metadata": {},
   "outputs": [
    {
     "name": "stdout",
     "output_type": "stream",
     "text": [
      "4 1 5 2 3 2 2\n",
      "MAX=5\n",
      "MIN=1\n"
     ]
    }
   ],
   "source": [
    "# 민코딩 훈련반1 Level 11 - 문제 7번 : MAX, MIN 찾아내기\n",
    "\n",
    "lst = list(map(int, input().split()))\n",
    "for i in range(len(lst)):\n",
    "    for j in range(i+1, len(lst)):\n",
    "        if lst[i] < lst[j]:\n",
    "            lst[i], lst[j] = lst[j], lst[i]\n",
    "print(f\"MAX={lst[0]}\")\n",
    "print(f\"MIN={lst[-1]}\")"
   ]
  },
  {
   "cell_type": "code",
   "execution_count": 11,
   "id": "0976c6ae",
   "metadata": {},
   "outputs": [
    {
     "name": "stdout",
     "output_type": "stream",
     "text": [
      "T\n",
      "미발견\n"
     ]
    }
   ],
   "source": [
    "# 민코딩 훈련반1 Level 11 - 문제 8번 : 문장에서 특정 값 찾아내기\n",
    "\n",
    "a = 'StructPointer'\n",
    "a = list(a)\n",
    "b = input()\n",
    "rst = 0\n",
    "for i in range(len(a)):\n",
    "    if b == a[i]:\n",
    "        rst += 1\n",
    "        break\n",
    "if not rst:\n",
    "    print(\"미발견\")\n",
    "else:\n",
    "    print(\"발견\")"
   ]
  },
  {
   "cell_type": "code",
   "execution_count": 20,
   "id": "624431f0",
   "metadata": {},
   "outputs": [
    {
     "name": "stdout",
     "output_type": "stream",
     "text": [
      "d T e a A B f a\n",
      "big=TAB\n",
      "small=deafa\n"
     ]
    }
   ],
   "source": [
    "# 민코딩 훈련반1 Level 11 - 문제 9번 : 원하는 글자만 다른곳에 쌓아두기\n",
    "\n",
    "lst = list(input())\n",
    "arr = []\n",
    "if len(lst) > 8:\n",
    "    for i in range(len(lst)):\n",
    "        if lst[i] != ' ':\n",
    "            arr += lst[i]\n",
    "    lst = arr\n",
    "big, small = ['']*8, ['']*8\n",
    "for i in range(len(lst)):\n",
    "    if ord(lst[i]) >= ord('a'):\n",
    "        small[i] = lst[i]\n",
    "    else:\n",
    "        big[i] = lst[i]\n",
    "BIG, SMALL = '', ''\n",
    "for i in range(8):\n",
    "    if small[i] != '':\n",
    "        SMALL += small[i]\n",
    "    if big[i] != '':\n",
    "        BIG += big[i]\n",
    "print(f\"big={BIG}\")\n",
    "print(f\"small={SMALL}\")"
   ]
  },
  {
   "cell_type": "code",
   "execution_count": 24,
   "id": "277c7358",
   "metadata": {},
   "outputs": [
    {
     "name": "stdout",
     "output_type": "stream",
     "text": [
      "7\n",
      "값이 없습니다\n"
     ]
    }
   ],
   "source": [
    "# 민코딩 훈련반1 Level 11 - 문제 10번 : 숫자 하나 입력받고 전역배열에서 값 찾기\n",
    "\n",
    "arr = [[3, 2, 6, 2, 4], [1, 4, 2, 6, 5]]\n",
    "def main():\n",
    "    n = int(input())\n",
    "    a = KFC(n)\n",
    "    if not a:\n",
    "        print(\"값이 없습니다\")\n",
    "    else:\n",
    "        print(\"값이 존재합니다\")\n",
    "def KFC(m):\n",
    "    global arr\n",
    "    rst = 0\n",
    "    for i in range(2):\n",
    "        if rst != 0:\n",
    "            break\n",
    "        for j in range(5):\n",
    "            if m == arr[i][j]:\n",
    "                rst += 1\n",
    "                break\n",
    "    return rst\n",
    "main()"
   ]
  },
  {
   "cell_type": "code",
   "execution_count": 25,
   "id": "015b302a",
   "metadata": {},
   "outputs": [
    {
     "name": "stdout",
     "output_type": "stream",
     "text": [
      "4\n",
      "6 5 6 7 5 6 "
     ]
    }
   ],
   "source": [
    "# 민코딩 훈련반1 Level 11 - 문제 11번 : 원하는 값만 따로 빼오기\n",
    "\n",
    "arr = [[1, 3, 6, 2], [4, 2, 4, 5], [6, 3, 7, 3], [1, 5, 4, 6]]\n",
    "lst = ['']*16\n",
    "n = int(input())\n",
    "for i in range(4):\n",
    "    for j in range(4):\n",
    "        if arr[i][j] > n:\n",
    "            lst[4*i+j] = arr[i][j]\n",
    "for i in range(16):\n",
    "    if lst[i] != '':\n",
    "        print(lst[i], end=\" \")"
   ]
  }
 ],
 "metadata": {
  "kernelspec": {
   "display_name": "Python 3 (ipykernel)",
   "language": "python",
   "name": "python3"
  },
  "language_info": {
   "codemirror_mode": {
    "name": "ipython",
    "version": 3
   },
   "file_extension": ".py",
   "mimetype": "text/x-python",
   "name": "python",
   "nbconvert_exporter": "python",
   "pygments_lexer": "ipython3",
   "version": "3.10.1"
  },
  "toc": {
   "base_numbering": 1,
   "nav_menu": {},
   "number_sections": true,
   "sideBar": true,
   "skip_h1_title": false,
   "title_cell": "Table of Contents",
   "title_sidebar": "Contents",
   "toc_cell": false,
   "toc_position": {},
   "toc_section_display": true,
   "toc_window_display": false
  }
 },
 "nbformat": 4,
 "nbformat_minor": 5
}
