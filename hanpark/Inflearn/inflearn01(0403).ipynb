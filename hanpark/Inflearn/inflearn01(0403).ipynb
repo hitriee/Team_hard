{
 "cells": [
  {
   "cell_type": "code",
   "execution_count": 4,
   "id": "675f8617",
   "metadata": {},
   "outputs": [
    {
     "name": "stdout",
     "output_type": "stream",
     "text": [
      "7\n",
      "이호준 01050004429\n",
      "이호상 01051442904\n",
      "이준호 01050003429\n",
      "이호준 01050004429\n",
      "이준 01050412904\n",
      "이호 01050004439\n",
      "이호준 01050004429\n",
      "5\n"
     ]
    }
   ],
   "source": [
    "# codeFestival_1. 47번\n",
    "\n",
    "n = int(input())\n",
    "people = [tuple(input().split()) for _ in range(n)]\n",
    "real = set(people)\n",
    "print(len(real))"
   ]
  }
 ],
 "metadata": {
  "kernelspec": {
   "display_name": "Python 3 (ipykernel)",
   "language": "python",
   "name": "python3"
  },
  "language_info": {
   "codemirror_mode": {
    "name": "ipython",
    "version": 3
   },
   "file_extension": ".py",
   "mimetype": "text/x-python",
   "name": "python",
   "nbconvert_exporter": "python",
   "pygments_lexer": "ipython3",
   "version": "3.10.1"
  },
  "toc": {
   "base_numbering": 1,
   "nav_menu": {},
   "number_sections": true,
   "sideBar": true,
   "skip_h1_title": false,
   "title_cell": "Table of Contents",
   "title_sidebar": "Contents",
   "toc_cell": false,
   "toc_position": {},
   "toc_section_display": true,
   "toc_window_display": false
  }
 },
 "nbformat": 4,
 "nbformat_minor": 5
}
