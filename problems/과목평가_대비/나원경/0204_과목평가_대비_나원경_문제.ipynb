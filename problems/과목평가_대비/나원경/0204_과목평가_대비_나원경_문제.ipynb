{
 "cells": [
  {
   "cell_type": "markdown",
   "id": "30d4d1b5",
   "metadata": {},
   "source": [
    "**220204 과목평가 대비 문제**\n",
    "\n",
    "(단답형은 답만 적고, 서술형은 100자 이상 적어야 정답처리됨)\n",
    "\n",
    "단답형 - 결괏값, 빈칸 채우기\n",
    "\n",
    "객관식 - 개념, 결괏값\n",
    "\n",
    "서술형 - 기본 개념, 지문의 출력 결과와 그 이유"
   ]
  },
  {
   "cell_type": "markdown",
   "id": "db488df9",
   "metadata": {},
   "source": [
    "# 문과생 괴롭히기 (단답형 - 빈칸 채우기)\n",
    "\n",
    "열심히 하조의 바지조장인 원경은 과목평가 대비 공부를 하다가 생긴 스트레스를 조원들을 괴롭히며 풀기로 결심했다.\n",
    "\n",
    "조에서 유일한 공대생인 원경은 문과생인 조원들을 괴롭히기 위한 코드를 짰다. 다음 코드에서 괄호 안에 들어갈 말을 채우시오.\n",
    "\n",
    "(각 1점, 부분점수 없음, 총 9점)"
   ]
  },
  {
   "cell_type": "code",
   "execution_count": null,
   "id": "248a6478",
   "metadata": {},
   "outputs": [],
   "source": [
    "# Distress.py\n",
    "# 문제를 내고 그 문제를 틀리면 맞힐 때까지 반복, 맞히면 감탄의 말 + 다음 문제\n",
    "# 모든 문제를 다 맞히면 종료\n",
    "# 재귀함수 이용\n",
    "# 문제를 보여주고 답을 입력받아 정답과 비교\n",
    "\n",
    "(   1   )  (    2   )\n",
    "\n",
    "def yeol_sim2(idx = 0):\n",
    "\n",
    "    quest_list = [\n",
    "        '진공 속에서 빛의 속도는? (km/s 단위, 만의 자리에서 반올림해서 숫자만 쓰시오)',\n",
    "        '12시와 1시 사이에 시침과 분침이 정확히 180도를 이루는 시간은? (초 단위 미만은 버림)',\n",
    "        '물보다 얼음의 밀도가 작아지는 이유와 관련된, 물분자 사이의 결합을 무엇이라 부르는가?',\n",
    "        # 이하 생략\n",
    "        ]\n",
    "\n",
    "    answer = [\n",
    "        '300000',\n",
    "        '12시 32분 43초',\n",
    "        '수소결합',\n",
    "        # 이하 생략\n",
    "        ]\n",
    "\n",
    "    if idx < (    3    ):\n",
    "        quest = quest_list[idx] \n",
    "        user_answer = input(f'(    4    ) \\n 정답 : ')\n",
    "        if user_answer (    5    ) answer[idx]:\n",
    "            yak_olliki = [\n",
    "            '일부\\'로\\' 틀린 고양?',\n",
    "            '이런 식으로는 \\'않\\'됩니다.',\n",
    "            '문제를 다 맞히실 때까지 이 코드는 끝나지 않습니다.',\n",
    "            # 이하 생략\n",
    "            ]\n",
    "            print((    2    ).sample(yak_olliki, 1))\n",
    "            return yeol_sim2((   6   ))   \n",
    "\n",
    "        else:\n",
    "            encouraging = [\n",
    "            '와, 정답입니다.',\n",
    "            '오, 정말 대단하군요.',\n",
    "            '당신의 지식에 파이썬도 감탄합니다.',\n",
    "            # 이하 생략\n",
    "            ]\n",
    "            print((    2    ).sample(encouraging, 1))\n",
    "            return yeol_sim2((    7    ))\n",
    "\n",
    "    else:\n",
    "        return '시험을 통과하셨습니다.'\n"
   ]
  },
  {
   "cell_type": "code",
   "execution_count": null,
   "id": "571a4636",
   "metadata": {},
   "outputs": [],
   "source": [
    "# gwangju_3ban.py\n",
    "# Distress와 같은 폴더 안에 있음\n",
    "# yeol_sim2 함수를 사용하려 함\n",
    "\n",
    "(   8   ) Distress (   1   ) *\n",
    "\n",
    "(   9   )(yeol_sim2())"
   ]
  },
  {
   "cell_type": "code",
   "execution_count": null,
   "id": "04f33dd8",
   "metadata": {},
   "outputs": [],
   "source": [
    "정답 :\n",
    "1.\n",
    "2.       \n",
    "3.\n",
    "4.          \n",
    "5.          \n",
    "6.              \n",
    "7. \n",
    "8.             \n",
    "9."
   ]
  },
  {
   "cell_type": "markdown",
   "id": "d3839db6",
   "metadata": {},
   "source": [
    "# 자신만만 (객관식)\n",
    "\n",
    "장엽은 과목평가에 대해 자신만만한 태도를 보였고 조원들은 장엽을 시험하기 위해 문제를 냈다.\n",
    "\n",
    "각 조원의 발언 중 옳지 않은 점을  \"모두\"  고르시오.\n",
    "\n",
    "(문제당 2점, 부분점수 있음, 총 10점)"
   ]
  },
  {
   "cell_type": "markdown",
   "id": "436ec63b",
   "metadata": {},
   "source": [
    "## \n",
    "\n",
    "1. 한 : 빈 dictionary는 {}로 만들면 돼.\n",
    "\n",
    "2. 서준 : dictionary를 만들 때 key가 광주이고, value가 숫자 3이면 {광주 : 3} 이런 식으로 만들면 돼.\n",
    "\n",
    "3. 원경 : dict 함수를 이용해서 dictionary를 만들 수도 있어. dict(설 = '공부하는 날')이렇게 만들 수 있지.\n",
    "\n",
    "4. 희재 : tuple을 이용해서도 dictionary를 만들 수 있어. dict(((1, 파이썬), (2, 자바))) 이렇게."
   ]
  },
  {
   "cell_type": "code",
   "execution_count": null,
   "id": "ed99f9a7",
   "metadata": {},
   "outputs": [],
   "source": [
    "정답 : "
   ]
  },
  {
   "cell_type": "markdown",
   "id": "c8d09ec0",
   "metadata": {},
   "source": [
    "## \n",
    "\n",
    "1. 한 : 클래스 내부에 정의되는 메서드는 기본적으로 클래스 메서드로 생성돼.\n",
    "\n",
    "2. 서준 : 함수를 호출할 때 키워드 인자와 위치 인자를 혼용할 수 없어.\n",
    "\n",
    "3. 원경 : 기본 인자값을 가지는 인자 다음에 기본 값이 없는 인자를 사용할 수는 없어.\n",
    "\n",
    "4. 희재 : dictionary에서 식별자는 숫자만으로는 이루어질 수 없어."
   ]
  },
  {
   "cell_type": "code",
   "execution_count": null,
   "id": "6a4ce87b",
   "metadata": {},
   "outputs": [],
   "source": [
    "정답 : "
   ]
  },
  {
   "cell_type": "markdown",
   "id": "2e31be7a",
   "metadata": {},
   "source": [
    "## \n",
    "\n",
    "1. 한 : 가변 인자 리스트는 tuple 형태로 처리 되고 매개변수에 *을 붙여 표현해.\n",
    "\n",
    "2. 서준 : 모든 시퀀스형은 패킹/언패킹 연산자를 사용해 객체를 패킹 또는 언패킹할 수 있어.\n",
    "\n",
    "3. 원경 : 언패킹의 경우에는 리스트로, 패킹의 경우에는 튜플 형태로 대입해.\n",
    "\n",
    "4. 희재 : 연산자가 대입식의 좌측에 위치하는 경우에는 산술 연산자가 아니라 패킹/언패킹 연산자야.\n"
   ]
  },
  {
   "cell_type": "code",
   "execution_count": null,
   "id": "de565561",
   "metadata": {},
   "outputs": [],
   "source": [
    "정답 : "
   ]
  },
  {
   "cell_type": "markdown",
   "id": "4c0de51c",
   "metadata": {},
   "source": [
    "## \n",
    "\n",
    "1. 한 : tuple은 불변형이라 tuple에서 쓸 수 있는 메소드는 index, count뿐이야.\n",
    "\n",
    "2. 서준 : 현실 세계를 프로그램 설계에 반영하기 위해 세부적인 내용을 감추고 필수적인 부분만 표현하는 것을 다형성이라고 해.\n",
    "\n",
    "3. 원경 : 인스턴스 메서드 호출 시, 첫 번째 인자로 self가 전달 돼.\n",
    "\n",
    "4. 희재 : 스태틱 메서드는 호출 시, 어떠한 인자도 전달되지 않아서 인자를 쓰지 않아."
   ]
  },
  {
   "cell_type": "code",
   "execution_count": null,
   "id": "ea9a9ea2",
   "metadata": {},
   "outputs": [],
   "source": [
    "정답 : "
   ]
  },
  {
   "cell_type": "markdown",
   "id": "cb91cad0",
   "metadata": {},
   "source": [
    "## "
   ]
  },
  {
   "cell_type": "code",
   "execution_count": null,
   "id": "f58c26c4",
   "metadata": {},
   "outputs": [],
   "source": [
    "1. 한 : 매직(스페셜) 메서드는 __가 있는 메서드인데, self만을 인자로 가져.\n",
    "\n",
    "2. 서준 : set은 집합 같은 성질을 갖고 있고 {1, 2, 3} 이런 식으로 만들 수 있어.\n",
    "\n",
    "3. 원경 : 소멸자 메서드는 인스턴스 객체가 소멸되기 전에 자동으로 호출되는 함수고 \"__de__\"라는 이름으로 정의해\n",
    "\n",
    "4. 희재 : 속성은 특정 데이터 타입이나 클래스의 객체들이 가지게 될 상태/데이터를 의미하는데, \"self.<속성명> = 값\"이나\n",
    "    \"<인스턴스>.속성명 = 값\"으로 설정해"
   ]
  },
  {
   "cell_type": "code",
   "execution_count": null,
   "id": "523ee807",
   "metadata": {},
   "outputs": [],
   "source": [
    "정답 : "
   ]
  },
  {
   "cell_type": "markdown",
   "id": "4137b79b",
   "metadata": {},
   "source": [
    "# 설날에는 공부를 (주관식 - 결괏값 찾기)\n",
    "\n",
    "한은 다가올 과목평가를 위해 헷갈리는 부분을 변수에 넣어 학습했다. 각 변수에 들어갈 값을 적으시오. (각 1점, 부분점수 없음)"
   ]
  },
  {
   "cell_type": "markdown",
   "id": "72417acf",
   "metadata": {},
   "source": [
    "## "
   ]
  },
  {
   "cell_type": "markdown",
   "id": "12bb01e0",
   "metadata": {},
   "source": [
    "P = 11 and 10"
   ]
  },
  {
   "cell_type": "code",
   "execution_count": null,
   "id": "0d1e7cac",
   "metadata": {},
   "outputs": [],
   "source": [
    "정답 : P = "
   ]
  },
  {
   "cell_type": "markdown",
   "id": "707b4a9a",
   "metadata": {},
   "source": [
    "## "
   ]
  },
  {
   "cell_type": "markdown",
   "id": "fdf74c96",
   "metadata": {},
   "source": [
    "vowels = 'aeiou'\n",
    "\n",
    "result = 'a' or 'b'\n",
    "\n",
    "a_1 = result in vowels"
   ]
  },
  {
   "cell_type": "code",
   "execution_count": 2,
   "id": "dbf4ff78",
   "metadata": {},
   "outputs": [],
   "source": [
    "정답 : a_1 = "
   ]
  },
  {
   "cell_type": "markdown",
   "id": "2fef8a14",
   "metadata": {},
   "source": [
    "## "
   ]
  },
  {
   "cell_type": "markdown",
   "id": "00415175",
   "metadata": {},
   "source": [
    "num = 3\n",
    "\n",
    "ber = 3\n",
    "\n",
    "ber = ber - 1\n",
    "\n",
    "r = num is ber"
   ]
  },
  {
   "cell_type": "code",
   "execution_count": null,
   "id": "f70c5208",
   "metadata": {},
   "outputs": [],
   "source": [
    "정답 : r = "
   ]
  },
  {
   "cell_type": "markdown",
   "id": "3ef958ea",
   "metadata": {},
   "source": [
    "## "
   ]
  },
  {
   "cell_type": "markdown",
   "id": "67b7a592",
   "metadata": {},
   "source": [
    "nu = 530\n",
    "\n",
    "mber = 530\n",
    "\n",
    "k = nu is mber"
   ]
  },
  {
   "cell_type": "code",
   "execution_count": null,
   "id": "9af4998d",
   "metadata": {},
   "outputs": [],
   "source": [
    "정답 : k = "
   ]
  },
  {
   "cell_type": "markdown",
   "id": "345566f0",
   "metadata": {},
   "source": [
    "## "
   ]
  },
  {
   "cell_type": "markdown",
   "id": "80c53302",
   "metadata": {},
   "source": [
    "H = 'a' in 'gwangju'"
   ]
  },
  {
   "cell_type": "code",
   "execution_count": null,
   "id": "b2be5924",
   "metadata": {},
   "outputs": [],
   "source": [
    "정답 : H = "
   ]
  },
  {
   "cell_type": "markdown",
   "id": "36e5ad0e",
   "metadata": {},
   "source": [
    "## "
   ]
  },
  {
   "cell_type": "markdown",
   "id": "10e71c4a",
   "metadata": {},
   "source": [
    "tuple_1 = (10, 101, 111)\n",
    "\n",
    "a_2 = tuple_1[-1]"
   ]
  },
  {
   "cell_type": "code",
   "execution_count": null,
   "id": "868ad4dd",
   "metadata": {},
   "outputs": [],
   "source": [
    "정답 : a_2 = "
   ]
  },
  {
   "cell_type": "markdown",
   "id": "2365ae3e",
   "metadata": {},
   "source": [
    "## "
   ]
  },
  {
   "cell_type": "markdown",
   "id": "c0d62a41",
   "metadata": {},
   "source": [
    "tuple_2 = (1, 0, 11, 10)\n",
    "\n",
    "n = tuple_2[1:][1]"
   ]
  },
  {
   "cell_type": "code",
   "execution_count": null,
   "id": "73649f57",
   "metadata": {},
   "outputs": [],
   "source": [
    "n = "
   ]
  },
  {
   "cell_type": "markdown",
   "id": "242b2b75",
   "metadata": {},
   "source": [
    "## 3.1~ 3.7에서 구한 값이 모두 숫자형일 때, 다음 변수의 값은?\n",
    "\n",
    "\n",
    "Park_Han_1 = P + a_1 + r + k + H + a_2 + n"
   ]
  },
  {
   "cell_type": "code",
   "execution_count": null,
   "id": "182e1b02",
   "metadata": {},
   "outputs": [],
   "source": [
    "Park_Han_1 = "
   ]
  },
  {
   "cell_type": "markdown",
   "id": "487a8d10",
   "metadata": {},
   "source": [
    "##  3.1~ 3.7에서 구한 값을 모두 문자열로 변환했을 때, 다음 변수의 값은?\n",
    "\n",
    "(True, False 값은 각각 1, 0으로 변환된 후 문자열로 변환되었다.)\n",
    "\n",
    "Park_Han_2 = P + a_1 + r + k + H + a_2 + n"
   ]
  },
  {
   "cell_type": "code",
   "execution_count": null,
   "id": "a58b989b",
   "metadata": {},
   "outputs": [],
   "source": [
    "Park_Han_2 = "
   ]
  },
  {
   "cell_type": "markdown",
   "id": "58f388f3",
   "metadata": {},
   "source": [
    "## 3.9에서 구한 값을 십진수로 변환해 gong_bu 변수에 저장했을 때, 변수의 값은?"
   ]
  },
  {
   "cell_type": "code",
   "execution_count": null,
   "id": "f03905a3",
   "metadata": {},
   "outputs": [],
   "source": [
    "정답 : gong_bu = "
   ]
  },
  {
   "cell_type": "markdown",
   "id": "03096b22",
   "metadata": {},
   "source": [
    "# 금지어를 말한 죄 (서술형)"
   ]
  },
  {
   "cell_type": "markdown",
   "id": "a15f4f8e",
   "metadata": {},
   "source": [
    "희재는 조원들에게 나쁜 말을 한 대가로 조원들을 칭찬하는 함수를 짜는 벌칙을 수행했다.\n",
    "\n",
    "다음 코드를 보고 출력되는 결과와 그렇게 출력이 되는 이유를 서술하시오. (실행하지 말고 출력 결과를 예측하시오)\n",
    "\n",
    "(출력 결과 각각 3점, 2점, 2점, 이유는 3점, 총 10점, 이유는 100자 이상 서술, 부분 점수 있음)"
   ]
  },
  {
   "cell_type": "code",
   "execution_count": null,
   "id": "f60fe146",
   "metadata": {},
   "outputs": [],
   "source": [
    "import random\n",
    "\n",
    "def chak_han_mal(*names):\n",
    "    \n",
    "    sparta = ['희재', '장엽', '서준', '한', '원경']\n",
    "    \n",
    "    if any(names):\n",
    "        name = names[0]\n",
    "    \n",
    "        if name in sparta:\n",
    "            \n",
    "            compliments = [\n",
    "            \n",
    "            ' 오늘따라 참 머리가 괜찮아보이네요.',\n",
    "            ' 와, 역시 대단해. 웹엑스를 찢어놓으셨다.',\n",
    "            ' 정말 멋지네요.',            \n",
    "            ' 오늘 입은 옷... 색이 정말 예뻐요.',\n",
    "            ' 정말 상냥하세요',\n",
    "            '이 정말 최고!',\n",
    "            f' 사람들한테 {name}님 좋아하는 사람 손 들라 했더니 지구가 성게가 된 거 아세요?',\n",
    "            f' 승마장 출입금지 당했죠? {name}님 보면 말이 안 나와서....',\n",
    "            ' 평소에 인상 좋다는 얘기 많이 들으시죠?',\n",
    "            '은 참 기운이 좋으십니다.',\n",
    "            '은 C급이에요. 광주 3반의 문화재 지정이 시급.',\n",
    "            ' 정말 징하시네요. 어메이징.',\n",
    "            ' 좀 거품인 것 같아요. 언빌리버블.',\n",
    "            f' 정말 KT에서 고소당하시겠어요. {name}님이 정말 GIGA 막혀서.',\n",
    "            ' 영어 이름 조지 부시 어때요? 제 마음을 조지고 부시니까.',\n",
    "            f' 나 서른 살인데 동년배들 다 {name}님 좋아한다.',\n",
    "            ' 어디 계시죠? 제 눈에는 빛밖에 안 보이는데.'\n",
    "            ]\n",
    "            \n",
    "            print(f'{name}님' + str(random.sample(compliments, 1)).strip('[]').strip('\\''))\n",
    "            \n",
    "            names = names[1:]\n",
    "            return chak_han_mal(*names)\n",
    "        \n",
    "        else:\n",
    "            return '누구세요?'\n",
    "    else:\n",
    "        return '칭찬 끝!'\n",
    "        "
   ]
  },
  {
   "cell_type": "markdown",
   "id": "53a1aea5",
   "metadata": {},
   "source": [
    "print(chak_han_mal('장엽', '한', '서준'))\n",
    "\n",
    "print(chak_han_mal('싸퓌'))\n",
    "\n",
    "print(chak_han_mal())"
   ]
  },
  {
   "cell_type": "code",
   "execution_count": null,
   "id": "d45280d4",
   "metadata": {},
   "outputs": [],
   "source": [
    "출력 결과 1 : "
   ]
  },
  {
   "cell_type": "code",
   "execution_count": null,
   "id": "41f7171f",
   "metadata": {},
   "outputs": [],
   "source": [
    "출력 결과 2 : "
   ]
  },
  {
   "cell_type": "code",
   "execution_count": null,
   "id": "27e9d2f3",
   "metadata": {},
   "outputs": [],
   "source": [
    "출력 결과 3 : "
   ]
  },
  {
   "cell_type": "code",
   "execution_count": null,
   "id": "871ebaa8",
   "metadata": {},
   "outputs": [],
   "source": [
    "이유 :"
   ]
  },
  {
   "cell_type": "markdown",
   "id": "abab55dd",
   "metadata": {},
   "source": [
    "# 지적인 이미지 (객관식)\n",
    "\n",
    "과목평가 공부를 하던 열심히 하조 조원들은 기본 개념에 대한 퀴즈를 내며 서로의 지식을 뽐냈다.\n",
    "\n",
    "서준은 누군가가 알고 있는 지식이 틀렸다는 걸 알았다.\n",
    "\n",
    "다음 중 옳지 않은 말을 한 사람의 번호를 적으시오. (각 2점, 부분점수 없음)"
   ]
  },
  {
   "cell_type": "markdown",
   "id": "79be74fc",
   "metadata": {},
   "source": [
    "## "
   ]
  },
  {
   "cell_type": "markdown",
   "id": "54b39de7",
   "metadata": {},
   "source": [
    "1. 원경 : container는 여러 개의 값을 저장할 수 있는 객체야.\n",
    "\n",
    "2. 장엽 : range 함수의 값을 확인하고 싶을 때는 print 함수를 쓰면 안 돼.\n",
    "\n",
    "3. 한 : 두 수의 차이가 1e-20 이하면 같다고 볼 수 있어.\n",
    "\n",
    "4. 희재 : 분수 문자열은 float로 형변환할 수 없어."
   ]
  },
  {
   "cell_type": "code",
   "execution_count": 8,
   "id": "afc903ab",
   "metadata": {},
   "outputs": [
    {
     "ename": "SyntaxError",
     "evalue": "invalid syntax (3271590487.py, line 3)",
     "output_type": "error",
     "traceback": [
      "\u001b[1;36m  File \u001b[1;32m\"C:\\Users\\pubha\\AppData\\Local\\Temp\\ipykernel_17224\\3271590487.py\"\u001b[1;36m, line \u001b[1;32m3\u001b[0m\n\u001b[1;33m    - 두 수의 차이가 1e-10이하이면 같다고 볼 수 있다.\u001b[0m\n\u001b[1;37m         ^\u001b[0m\n\u001b[1;31mSyntaxError\u001b[0m\u001b[1;31m:\u001b[0m invalid syntax\n"
     ]
    }
   ],
   "source": [
    "정답 : "
   ]
  },
  {
   "cell_type": "markdown",
   "id": "8f646b2d",
   "metadata": {},
   "source": [
    "## "
   ]
  },
  {
   "cell_type": "markdown",
   "id": "836daab7",
   "metadata": {},
   "source": [
    "1. 원경 : 문자열은 immutable하고 iterable해. range도 마찬가지지.\n",
    "\n",
    "2. 장엽 : dictionary는 다른 container로 형변환할 수 없어.\n",
    "\n",
    "3. 한 : int형과 complex형은 따로 형변환을 하지 않아도 연산할 수 있어.\n",
    "\n",
    "4. 희재 : 합집합을 표현하고 싶으면 연산자 |를 이용하면 돼."
   ]
  },
  {
   "cell_type": "code",
   "execution_count": null,
   "id": "e3c92762",
   "metadata": {},
   "outputs": [],
   "source": [
    "정답 : "
   ]
  },
  {
   "cell_type": "markdown",
   "id": "37425b02",
   "metadata": {},
   "source": [
    "## "
   ]
  },
  {
   "cell_type": "markdown",
   "id": "9e4f0c7e",
   "metadata": {},
   "source": [
    "1. 원경 : for - else 문에서 else는 반복문이 break 문으로 종료될 때 실행돼.\n",
    "\n",
    "2. 장엽 : string interpolation은 return문에는 사용할 수 없어.\n",
    "\n",
    "3. 한 : 산술 연산자를 이용해 시퀀스를 연결하거나 반복할 수 있어.\n",
    "\n",
    "4. 희재 : None의 타입은 None이야."
   ]
  },
  {
   "cell_type": "code",
   "execution_count": null,
   "id": "8366630a",
   "metadata": {},
   "outputs": [],
   "source": [
    "정답 : "
   ]
  },
  {
   "cell_type": "markdown",
   "id": "80dbae75",
   "metadata": {},
   "source": [
    "## "
   ]
  },
  {
   "cell_type": "markdown",
   "id": "031b7880",
   "metadata": {},
   "source": [
    "1. 원경 : dictionary는 불변형이고 비시퀀스형이야.\n",
    "\n",
    "2. 장엽 : dictionary의 key는 immutable한 데이터만 쓸 수 있어. 그래서 float이나 range도 가능하지.\n",
    "\n",
    "3. 한 : dictionary에 중복된 key는 존재할 수 없어.\n",
    "\n",
    "4. 희재 : dictionary의 value로 딕셔너리가 들어가는 게 가능해."
   ]
  },
  {
   "cell_type": "code",
   "execution_count": null,
   "id": "8b793237",
   "metadata": {},
   "outputs": [],
   "source": [
    "정답 : "
   ]
  },
  {
   "cell_type": "markdown",
   "id": "56e1477a",
   "metadata": {},
   "source": [
    "## "
   ]
  },
  {
   "cell_type": "markdown",
   "id": "95729a05",
   "metadata": {},
   "source": [
    "1. 원경 : while문은 조건식이 참일 경우 코드가 실행되므로 종료조건을 반드시 설정해야 해.\n",
    "\n",
    "2. 장엽 : enumerate 함수를 쓸 때 시작값을 설정해줄 수 있어.\n",
    "\n",
    "3. 한 : list와 dictionary는 comprehension을 활용해 만들 수 있어.\n",
    "\n",
    "4. 희재 : 반복 제어로 break를 쓰면 이후의 코드를 수행하지 않고 다음 요소로 넘어가."
   ]
  },
  {
   "cell_type": "code",
   "execution_count": null,
   "id": "2b694228",
   "metadata": {},
   "outputs": [],
   "source": [
    "정답 : "
   ]
  },
  {
   "cell_type": "markdown",
   "id": "2dfc8d72",
   "metadata": {},
   "source": [
    "#  싸피에 진심입니다. (단답형 - 빈칸채우기)\n",
    "\n",
    "싸피에 입과한 장엽은 클래스에 대해 익히기 위해 아래와 같은 코드를 짰다. 빈칸을 채우시오. (각 1점, 총 11점, 부분점수 없음)"
   ]
  },
  {
   "cell_type": "code",
   "execution_count": null,
   "id": "5c2b4e1c",
   "metadata": {},
   "outputs": [],
   "source": [
    "class Practice:\n",
    "    \n",
    "    def __init__ (self, name): # 생성자 메서드\n",
    "        \n",
    "        (          1           )\n",
    "        \n",
    "    def like(self): # 출력될 때 입력된 이름이 들어감\n",
    "        \n",
    "        return f'안녕, 나는 (    2    ). 운동을 좋아하지.'\n",
    "        \n",
    "        \n",
    "    def health(self):\n",
    "        \n",
    "        return '열심열심'\n",
    "    \n",
    "    \n",
    "class Eat:\n",
    "    \n",
    "    def __init__ (self, name):\n",
    "        \n",
    "        (           1           )\n",
    "    \n",
    "    def like(self):\n",
    "        \n",
    "        return f'안녕, 나는 (    2    ). 먹는 걸 좋아하지.'\n",
    "    \n",
    "    (      3      )\n",
    "    def food(cls):\n",
    "        \n",
    "        return cls\n",
    "    \n",
    "    \n",
    "class Play((    4    )): # 위의 두 클래스를 다중상속 받음\n",
    "    \n",
    "    coding = 'Python'\n",
    "    \n",
    "    def __init__(self, name, age): # 부모 클래스의 내용을 사용하고 싶음 # age는 Private Member\n",
    "        \n",
    "        (    5    ).__init__(name)\n",
    "        (          6         )\n",
    "\n",
    "        \n",
    "    def (    7    ):\n",
    "        \n",
    "        return '노는 게 제일 좋아'\n",
    "    \n",
    "    def health(self): # (    8    ) : Pracice 클래스의 함수를 재정의\n",
    "        \n",
    "        return '헛둘헛둘'\n",
    "    \n",
    "    \n",
    "    \n",
    "ssafy = Play('장엽', 99) # ssafy는 Play의  (     9    )\n",
    "\n",
    "print(ssafy) # 출력 결과 : 노는 게 제일 좋아\n",
    "\n",
    "print(ssafy.like()) # 출력 결과 : 안녕, 나는 장엽. 운동을 좋아하지\n",
    "\n",
    "print((   10   )) # 출력 결과 : Python\n",
    "\n",
    "print(ssafy.age()) # 출력 결과 : (     11     )"
   ]
  },
  {
   "cell_type": "code",
   "execution_count": null,
   "id": "a37c0337",
   "metadata": {},
   "outputs": [],
   "source": [
    "정답 :\n",
    "1. \n",
    "2. \n",
    "3. \n",
    "4. \n",
    "5. \n",
    "6. \n",
    "7. \n",
    "8. \n",
    "9. \n",
    "10. \n",
    "11. "
   ]
  },
  {
   "cell_type": "markdown",
   "id": "87b508a4",
   "metadata": {},
   "source": [
    "# 묵묵하고 성실한 (단답형 - 용어 쓰기)\n",
    "\n",
    "묵묵하고 성실히 파이썬 공부를 하는 희재는 과목평가를 준비하기 위해 잘 외워지지 않는 개념을 문제로 만들어 푸는 중이다.\n",
    "\n",
    "아래 문제에서 설명하는 용어를 쓰시오. (각 1점, 6번은 3점, 부분점수 없음, 총 10점)"
   ]
  },
  {
   "cell_type": "markdown",
   "id": "e0fc963f",
   "metadata": {},
   "source": [
    "1. 사용할 수 있는 메모리양이 정해져 있는 기존의 방식과 달리 현재 남아있는 만큼의 강요 메모리를 모두 수 표현에 끌어다 쓸 수 있는 형태"
   ]
  },
  {
   "cell_type": "code",
   "execution_count": null,
   "id": "0ec13171",
   "metadata": {},
   "outputs": [],
   "source": [
    "정답 :"
   ]
  },
  {
   "cell_type": "markdown",
   "id": "75832fbf",
   "metadata": {},
   "source": [
    "2. 프로그램이 실행되는 동안 다양한 값을 가질 수 있는 이름"
   ]
  },
  {
   "cell_type": "code",
   "execution_count": null,
   "id": "aa70dca5",
   "metadata": {},
   "outputs": [],
   "source": [
    "정답 : "
   ]
  },
  {
   "cell_type": "markdown",
   "id": "43893080",
   "metadata": {},
   "source": [
    "3. 새로운 데이터 값을 생성하거나 계산하는 코드 조각"
   ]
  },
  {
   "cell_type": "code",
   "execution_count": null,
   "id": "ee9f44e5",
   "metadata": {},
   "outputs": [],
   "source": [
    "정답 : "
   ]
  },
  {
   "cell_type": "markdown",
   "id": "3427c3f1",
   "metadata": {},
   "source": [
    "4. 특정한 작업을 수행하는 코드 전체로, 파이썬이 실행 가능한 최소한의 코드 단위"
   ]
  },
  {
   "cell_type": "code",
   "execution_count": null,
   "id": "e4f34299",
   "metadata": {},
   "outputs": [],
   "source": [
    "정답 : "
   ]
  },
  {
   "cell_type": "markdown",
   "id": "ba77bc62",
   "metadata": {},
   "source": [
    "5. 함수/클래스의 모음 또는 하나의 프로그램을 구성하는 단위"
   ]
  },
  {
   "cell_type": "code",
   "execution_count": null,
   "id": "33bc76f0",
   "metadata": {},
   "outputs": [],
   "source": [
    "정답 : "
   ]
  },
  {
   "cell_type": "markdown",
   "id": "6ce4013a",
   "metadata": {},
   "source": [
    "6. 객체지향 프로그래밍의 장점 3가지 (각 1점)"
   ]
  },
  {
   "cell_type": "code",
   "execution_count": null,
   "id": "ce1b1f66",
   "metadata": {},
   "outputs": [],
   "source": [
    "정답 : "
   ]
  },
  {
   "cell_type": "markdown",
   "id": "200fcbf6",
   "metadata": {},
   "source": [
    "7. 특정 데이터 타입(또는 클래스)의 객체에 공통적으로 적용 가능한 행위"
   ]
  },
  {
   "cell_type": "code",
   "execution_count": null,
   "id": "f1c4b833",
   "metadata": {},
   "outputs": [],
   "source": [
    "정답 : "
   ]
  },
  {
   "cell_type": "markdown",
   "id": "2d7671fa",
   "metadata": {},
   "source": [
    "8. 변수의 값을 읽는 메서드 getter가 쓰는 데코레이터는?"
   ]
  },
  {
   "cell_type": "code",
   "execution_count": null,
   "id": "ea67a50a",
   "metadata": {},
   "outputs": [],
   "source": [
    "정답 : "
   ]
  },
  {
   "cell_type": "markdown",
   "id": "1f31dd31",
   "metadata": {},
   "source": [
    "# 탁희쌤의 가르침대로 (객관식)\n",
    "\n",
    "다음은 서준이 좋아하는 김탁희 교수님의 공부법대로, 귀찮아하는 행복이와 조원들에게 서준이 개념을 설명한 것 중 일부이다.\n",
    "\n",
    "올바르지 않게 말한 것을 \"모두\" 고르시오.\n",
    "\n",
    "(각 2점, 부분점수 있음, 총 10점)"
   ]
  },
  {
   "cell_type": "markdown",
   "id": "dcbe602b",
   "metadata": {},
   "source": [
    "## "
   ]
  },
  {
   "cell_type": "markdown",
   "id": "474b3126",
   "metadata": {},
   "source": [
    "1. 행복아, 실수는 컴퓨터가 표현하는 과정에서 오류가 생겨서 항상 같은 값으로 일치되지는 않아. 그래서 round 함수를 써서 처리하기도 해\n",
    "\n",
    "2. return은 함수를 정의할 때만 쓰는데 오직 한 개의 객체만 반환 돼.\n",
    "\n",
    "3. 지역 스코프는 함수가 만든 스코프로 함수 내부에서만 참조할 수 있지만, global을 사용하면 함수 외부에서도 사용할 수 있어.\n",
    "\n",
    "4. Private Member는 하위 클래스에 메서드 오버라이딩을 허용하지만, 직접 호출은 불가능해."
   ]
  },
  {
   "cell_type": "code",
   "execution_count": null,
   "id": "2f7acbf7",
   "metadata": {},
   "outputs": [],
   "source": [
    "정답 : "
   ]
  },
  {
   "cell_type": "markdown",
   "id": "ea39f61d",
   "metadata": {},
   "source": [
    "## "
   ]
  },
  {
   "cell_type": "markdown",
   "id": "727880ef",
   "metadata": {},
   "source": [
    "1. 장엽님, .sort 메소드에 대해 아시나요? 리스트 정렬하는 메소드인데 원본 리스트 변형시키고, 파라미터로는 key, reverse 쓸 수 있거든요.\n",
    "\n",
    "2. PEP8에서 스타일 가이드를 제공하는데, 변수명에는 알파벳 소문자와 숫자만 사용하는 것을 권장하고 있어요.\n",
    "\n",
    "3. 지수를 표현할 때 e를 사용할 수도 있는데 파이썬은 소문자 대문자를 구별하잖아요, 그러니까 E를 사용하지 않게 주의해야 해요.\n",
    "\n",
    "4. .update 메소드는 dictionary랑 set에서 사용가능한데, () 안에 들어가는 형태는 달라요."
   ]
  },
  {
   "cell_type": "code",
   "execution_count": null,
   "id": "73dbc484",
   "metadata": {},
   "outputs": [],
   "source": [
    "정답 : "
   ]
  },
  {
   "cell_type": "markdown",
   "id": "91927b21",
   "metadata": {},
   "source": [
    "## "
   ]
  },
  {
   "cell_type": "markdown",
   "id": "0840e646",
   "metadata": {},
   "source": [
    "1. 한님, nonlocal 키워드에 대해 아세요? 이거 사용하면 상위 스코프에 있는 변수 수정할 수 있잖아요.\n",
    "\n",
    "2. 재귀함수 작성할 때 있잖아요, 그 때 범위가 줄어들어 반복되지 않을 때 최종적으로 도달하는 base case가 존재해야해요.\n",
    "\n",
    "\n",
    "3. dictionary 메소드 중에 .setdefault라는 메소드가 있는데 .get이랑 비슷한데 key가 dictionary에 key가 없으면 그 key를 삽입하고 default값을 반환한다는 차이점이 있죠.\n",
    "\n",
    "4. .pop 메서드는 문자열이랑 list에서 사용 가능해요. 정해진 위치에 있는 값을 삭제하죠."
   ]
  },
  {
   "cell_type": "code",
   "execution_count": null,
   "id": "d2691ac4",
   "metadata": {},
   "outputs": [],
   "source": [
    "정답 : "
   ]
  },
  {
   "cell_type": "markdown",
   "id": "0ec43f9c",
   "metadata": {},
   "source": [
    "## "
   ]
  },
  {
   "cell_type": "markdown",
   "id": "9b0ade85",
   "metadata": {},
   "source": [
    "1. 원경님, 다중 상속에서는 MRO에 따라 상속 순서가 결정되는데, 자기 자신 다음에는 최근 상속된 클래스가 우선순위예요.\n",
    "\n",
    "2. 문자열은 할당을 통해서 복사해서, 복사한 값을 바꿔도 원본 값은 안 바뀌는 거 아시죠?\n",
    "\n",
    "3. 깊은 복사는 copy 모듈을 import해서 deepcopy 함수를 이용하는 방법인데, 새로운 객체를 만들고 원본객체 내에 있는 객체에 대한 복사를 재귀적으로 삽입해요.\n",
    "\n",
    "4. setter 메서드는 변수의 값을 설정하는 메서드인데 @setter를 함수 위에 붙여주는 식으로 사용해요."
   ]
  },
  {
   "cell_type": "code",
   "execution_count": null,
   "id": "47f0f462",
   "metadata": {},
   "outputs": [],
   "source": [
    "정답 : "
   ]
  },
  {
   "cell_type": "markdown",
   "id": "c05832f6",
   "metadata": {},
   "source": [
    "## "
   ]
  },
  {
   "cell_type": "markdown",
   "id": "224559e7",
   "metadata": {},
   "source": [
    "1. 희재님, isinstance 함수는 인스턴스 여부를 알아보는 건데, isinstance(클래스, 인스턴스) 이런 식으로 사용하고 값은 True, False가 나와요.\n",
    "\n",
    "2. lambda 함수에 대해 아세요? 표현식을 계산한 결괏값을 반환하는 함수인데 간단한 조건문으로 함수 정의 안 하고 간결하게 사용할 때 쓰거든요.\n",
    "\n",
    "3. 재귀함수는 메모리 스택이 넘치거나 프로그램 실행 속도가 느려져서 최대 재귀 깊이인 1000번이 넘어가면 RecursionError가 뜨죠.\n",
    "\n",
    "4. 그런데 재귀함수를 왜 쓰냐고요? 다른 반복문보다 코드가 더 직관적이고 이해하기 쉽거든요."
   ]
  },
  {
   "cell_type": "code",
   "execution_count": null,
   "id": "b8ff06bf",
   "metadata": {},
   "outputs": [],
   "source": [
    "정답 : "
   ]
  },
  {
   "cell_type": "markdown",
   "id": "28a4849f",
   "metadata": {},
   "source": [
    "# 끈기 있는 자의 공부법 (단답형)\n",
    "\n",
    "한은 끈기 있게 공부하며 잘 외워지지 않는 것들을 단답형으로 만들었다. 다음 문제에 대한 답을 간단히 쓰시오. (총 10점)"
   ]
  },
  {
   "cell_type": "markdown",
   "id": "9e381205",
   "metadata": {},
   "source": [
    "## 함수를 쓰는 이유 3가지 (1점)"
   ]
  },
  {
   "cell_type": "code",
   "execution_count": null,
   "id": "a8cb1606",
   "metadata": {},
   "outputs": [],
   "source": [
    "정답 : "
   ]
  },
  {
   "cell_type": "markdown",
   "id": "a87b3a98",
   "metadata": {},
   "source": [
    "## 이름 검색 규칙에 대해 간단히 쓰시오. (1점)"
   ]
  },
  {
   "cell_type": "code",
   "execution_count": null,
   "id": "54108a13",
   "metadata": {},
   "outputs": [],
   "source": [
    "정답 :"
   ]
  },
  {
   "cell_type": "markdown",
   "id": "7439bd44",
   "metadata": {},
   "source": [
    "## filter, zip, enumerate에 대해 설명하시오. (인자와 용도 각 1점씩, 총 6점)"
   ]
  },
  {
   "cell_type": "code",
   "execution_count": null,
   "id": "d7945feb",
   "metadata": {},
   "outputs": [],
   "source": [
    "정답 : "
   ]
  },
  {
   "cell_type": "markdown",
   "id": "18083b76",
   "metadata": {},
   "source": [
    "## 문자열이 특정 문자로 끝나는지 확인하고 싶을 때 쓰는 메서드는? (1점)"
   ]
  },
  {
   "cell_type": "code",
   "execution_count": null,
   "id": "863cdb09",
   "metadata": {},
   "outputs": [],
   "source": [
    "정답 :"
   ]
  },
  {
   "cell_type": "markdown",
   "id": "d0f898b6",
   "metadata": {},
   "source": [
    "## 원소를 set에서 삭제하는 메서드로, list에는 쓰이지 않는 메서드는? (1점)"
   ]
  },
  {
   "cell_type": "code",
   "execution_count": null,
   "id": "7e9d95b9",
   "metadata": {},
   "outputs": [],
   "source": [
    "정답 :"
   ]
  },
  {
   "cell_type": "markdown",
   "id": "766b9d6f",
   "metadata": {},
   "source": [
    "# 효율적인 여자 (단답형)\n",
    "\n",
    "\n",
    "싸피에 입과해 코딩에 진심이 된 원경은 코드의 효율성에 집착하는 편이다. 열심히 공부하던 원경은 과거 자신이 짠 코드에서 수정할 점을 발견했다.\n",
    "\n",
    "원경이 짠 아래 코드에서 비효율적이거나 잘못된 점을 찾고, 간단하게 이유를 말하시오. (실행하지 마시오.)\n",
    "\n",
    "[문제당 2점(비효율적인 찾기 1점, 이유 말하기 1점) 총 10점, 부분점수 없음]"
   ]
  },
  {
   "cell_type": "markdown",
   "id": "ad0ec5cf",
   "metadata": {},
   "source": [
    "## "
   ]
  },
  {
   "cell_type": "code",
   "execution_count": null,
   "id": "1da67851",
   "metadata": {},
   "outputs": [],
   "source": [
    "vals = [100, 75, 85, 90, 65, 95, 90, 60, 85, 50, 90, 80]\n",
    "to = 0\n",
    "cnt_1 = 0\n",
    "\n",
    "for val in vals:\n",
    "    to += val\n",
    "    cnt_1 += 1\n",
    "mean = to / cnt_1\n",
    "\n",
    "to_val = 0\n",
    "for val in vals:\n",
    "    to_val += (val - mean) ** 2\n",
    "sum_var = to_val / cnt_1\n",
    "\n",
    "t = sum_var\n",
    "cnt_2 = 0 \n",
    "while True : \n",
    "    cnt_2 += 1 \n",
    "    root = 0.5 * (t + (sum_var / t))  \n",
    "    if (abs(root - t) < 0.0000000000000001): \n",
    "        break \n",
    "    t = root\n",
    "\n",
    "a = t\n",
    "print(a)"
   ]
  },
  {
   "cell_type": "code",
   "execution_count": null,
   "id": "bf6d9124",
   "metadata": {},
   "outputs": [],
   "source": [
    "정답 : "
   ]
  },
  {
   "cell_type": "markdown",
   "id": "9e3ad9d7",
   "metadata": {},
   "source": [
    "## "
   ]
  },
  {
   "cell_type": "code",
   "execution_count": null,
   "id": "022709b8",
   "metadata": {},
   "outputs": [],
   "source": [
    "def greeting(name, number):\n",
    "    \n",
    "insa = ['안녕하세요',\n",
    "\n",
    "        '안녕하소',\n",
    "\n",
    "        '안녕하셈',\n",
    "\n",
    "        '안녕하새우',\n",
    "\n",
    "        '안녕하십니까',\n",
    "\n",
    "        '밤새 평안하셨냐.',\n",
    "\n",
    "        '오늘따라 용안이 안 좋아보이네.',\n",
    "\n",
    "        '안녕안녕.',\n",
    "\n",
    "        '안안녕녕']\n",
    "\n",
    "for idx in range(number):\n",
    "    print('{}님, {}'.format(name, insa[idx]))\n",
    "\n",
    "    return '인사 끝!'"
   ]
  },
  {
   "cell_type": "code",
   "execution_count": null,
   "id": "7f7a5386",
   "metadata": {},
   "outputs": [],
   "source": [
    "정답 : "
   ]
  },
  {
   "cell_type": "markdown",
   "id": "c335084a",
   "metadata": {},
   "source": [
    "## "
   ]
  },
  {
   "cell_type": "code",
   "execution_count": null,
   "id": "26246cf0",
   "metadata": {},
   "outputs": [],
   "source": [
    "N, M, position = 3, 1, (0, 0)\n",
    "    \n",
    "dx = [-1, 1, 0, 0]\n",
    "dy = [0, 0, -1, 1]\n",
    "    \n",
    "position_list = list(position)\n",
    "\n",
    "x, y = position_list\n",
    "\n",
    "x += dx[M]\n",
    "y += dy[M]\n",
    "\n",
    "if x > N - 1 or y > N - 1 :\n",
    "    print(False)\n",
    "\n",
    "else:\n",
    "    print(True)\n"
   ]
  },
  {
   "cell_type": "code",
   "execution_count": null,
   "id": "1fa093fd",
   "metadata": {},
   "outputs": [],
   "source": [
    "정답 : "
   ]
  },
  {
   "cell_type": "markdown",
   "id": "1582bc72",
   "metadata": {},
   "source": [
    "## "
   ]
  },
  {
   "cell_type": "code",
   "execution_count": null,
   "id": "63115731",
   "metadata": {},
   "outputs": [],
   "source": [
    "def dec_to_bin(n):\n",
    "\n",
    "    if n > 1:\n",
    "    dec_to_bin(n //2)\n",
    "    print(n % 2, end = '')\n",
    "\n",
    "print(dec_to_bin(100))"
   ]
  },
  {
   "cell_type": "code",
   "execution_count": null,
   "id": "9954cd3e",
   "metadata": {},
   "outputs": [],
   "source": [
    "정답 : "
   ]
  },
  {
   "cell_type": "markdown",
   "id": "f26239a9",
   "metadata": {},
   "source": [
    "## "
   ]
  },
  {
   "cell_type": "code",
   "execution_count": null,
   "id": "895cb068",
   "metadata": {},
   "outputs": [],
   "source": [
    "i = 0\n",
    "\n",
    "name_list = ['희재', '장엽', '서준', '한', '원경']\n",
    "\n",
    "while i <= len(name_list):\n",
    "\n",
    "    print('%s님은 광주 3반이다.' % (name_list[i]))\n",
    "    \n",
    "    if name_list[i] == '한':\n",
    "        \n",
    "        print('%s님은 스포츠 경기 보는 걸 좋아하셔.' % (name_list[i]))\n",
    "    \n",
    "    elif name_list[i] == '서준':\n",
    "        \n",
    "        print('%s님은 뭘 좋아하시지?' % (name_list[i]))\n",
    "    \n",
    "    else:\n",
    "        print('문제 만들기 힘들어!!')\n",
    "    \n",
    "    i += 1"
   ]
  },
  {
   "cell_type": "code",
   "execution_count": null,
   "id": "efdfd763",
   "metadata": {},
   "outputs": [],
   "source": [
    "정답 : "
   ]
  }
 ],
 "metadata": {
  "kernelspec": {
   "display_name": "Python 3 (ipykernel)",
   "language": "python",
   "name": "python3"
  },
  "language_info": {
   "codemirror_mode": {
    "name": "ipython",
    "version": 3
   },
   "file_extension": ".py",
   "mimetype": "text/x-python",
   "name": "python",
   "nbconvert_exporter": "python",
   "pygments_lexer": "ipython3",
   "version": "3.7.3"
  },
  "toc": {
   "base_numbering": 1,
   "nav_menu": {},
   "number_sections": true,
   "sideBar": true,
   "skip_h1_title": false,
   "title_cell": "Table of Contents",
   "title_sidebar": "Contents",
   "toc_cell": false,
   "toc_position": {},
   "toc_section_display": true,
   "toc_window_display": false
  }
 },
 "nbformat": 4,
 "nbformat_minor": 5
}
