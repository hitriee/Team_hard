{
 "cells": [
  {
   "cell_type": "markdown",
   "id": "76102850",
   "metadata": {},
   "source": [
    "22.03.21 Framework 평가 대비 문제 (100점 만점)\n",
    "\n",
    "문제 제목은 노래 제목입니다. "
   ]
  },
  {
   "cell_type": "markdown",
   "id": "9692cc63",
   "metadata": {},
   "source": [
    "# 1 to 10 (서술형)\n",
    "\n",
    "다음에 대해 100자 이상 적어 설명하시오.(총 10점)"
   ]
  },
  {
   "cell_type": "markdown",
   "id": "650b6570",
   "metadata": {},
   "source": [
    "## CSRF (2점)"
   ]
  },
  {
   "cell_type": "code",
   "execution_count": null,
   "id": "613a8119",
   "metadata": {},
   "outputs": [],
   "source": []
  },
  {
   "cell_type": "markdown",
   "id": "f6ce07fc",
   "metadata": {},
   "source": [
    "## CSRF에 대항해 Django에서 제공하는 두 가지 (각 2점, 4점)"
   ]
  },
  {
   "cell_type": "code",
   "execution_count": null,
   "id": "a65403d7",
   "metadata": {},
   "outputs": [],
   "source": []
  },
  {
   "cell_type": "markdown",
   "id": "d79cb11d",
   "metadata": {},
   "source": [
    "## 동적 웹페이지 (2점)"
   ]
  },
  {
   "cell_type": "code",
   "execution_count": null,
   "id": "f62eb3b0",
   "metadata": {},
   "outputs": [],
   "source": []
  },
  {
   "cell_type": "markdown",
   "id": "c0ccaeb8",
   "metadata": {},
   "source": [
    "## ORM (2점)"
   ]
  },
  {
   "cell_type": "code",
   "execution_count": null,
   "id": "b29eff16",
   "metadata": {},
   "outputs": [],
   "source": []
  },
  {
   "cell_type": "markdown",
   "id": "b61b582a",
   "metadata": {},
   "source": [
    " "
   ]
  },
  {
   "cell_type": "markdown",
   "id": "475e7df9",
   "metadata": {},
   "source": [
    "# 나는 문제 없어 (객관식)\n",
    "\n",
    "\n",
    "Django와 관련된 다음 설명 중 옳지 않은 것을 고르시오. (각 2점, 총 8점)"
   ]
  },
  {
   "cell_type": "markdown",
   "id": "5fa72bf2",
   "metadata": {},
   "source": [
    "## "
   ]
  },
  {
   "cell_type": "markdown",
   "id": "0388b917",
   "metadata": {},
   "source": [
    "(1) 변수명은 숫자로 시작할 수 없어.\n",
    "\n",
    "(2) .을 이용해 변수 속성에 접근할 수 있어.\n",
    "\n",
    "(3) built-in template tag 중에는 여러 줄 주석을 표현할 수 있는 tag도 있어.\n",
    "\n",
    "(4) static은 built-in template tag에 속하지 않아."
   ]
  },
  {
   "cell_type": "code",
   "execution_count": null,
   "id": "1b2ba37d",
   "metadata": {},
   "outputs": [],
   "source": [
    "정답 : "
   ]
  },
  {
   "cell_type": "markdown",
   "id": "1eee0d89",
   "metadata": {},
   "source": [
    "## "
   ]
  },
  {
   "cell_type": "markdown",
   "id": "727a16a3",
   "metadata": {},
   "source": [
    "(1) render를 이용해 views.py에서 정의한 변수를 template 파일로 넘겨서 사용할 수 있다.\n",
    "\n",
    "(2) DTL은 프로그래밍적 로직이 아니라 프레젠테이션을 표현하기 위한 것이다.\n",
    "\n",
    "(3) 변수를 템플릿에서 쓰려면 반드시 render의 세 번째 인자에 딕셔너리 형태나 딕셔너리 구조의 변수를 써야 한다.\n",
    "\n",
    "(4) filter()는 표시할 변수를 수정할 때 사용한다."
   ]
  },
  {
   "cell_type": "code",
   "execution_count": null,
   "id": "ec77212d",
   "metadata": {},
   "outputs": [],
   "source": [
    "정답 :"
   ]
  },
  {
   "cell_type": "markdown",
   "id": "6bd8b483",
   "metadata": {},
   "source": [
    "## "
   ]
  },
  {
   "cell_type": "markdown",
   "id": "cb6bafcf",
   "metadata": {},
   "source": [
    "(1) DTL에서 ()는 사용할 수 없어.\n",
    "\n",
    "(2) TextField에서는 길이의 제한이 있는 문자열을 넣을 때 사용해.\n",
    "\n",
    "(3) 프로젝트 이름에 -은 쓸 수 없어.\n",
    "\n",
    "(4) application 명은 복수형으로 쓰는 것을 권장해."
   ]
  },
  {
   "cell_type": "code",
   "execution_count": 2,
   "id": "f2fda2f7",
   "metadata": {},
   "outputs": [
    {
     "ename": "SyntaxError",
     "evalue": "invalid syntax (531318846.py, line 1)",
     "output_type": "error",
     "traceback": [
      "\u001b[1;36m  File \u001b[1;32m\"C:\\Users\\pubha\\AppData\\Local\\Temp\\ipykernel_6648\\531318846.py\"\u001b[1;36m, line \u001b[1;32m1\u001b[0m\n\u001b[1;33m    정답 :\u001b[0m\n\u001b[1;37m        ^\u001b[0m\n\u001b[1;31mSyntaxError\u001b[0m\u001b[1;31m:\u001b[0m invalid syntax\n"
     ]
    }
   ],
   "source": [
    "정답 :"
   ]
  },
  {
   "cell_type": "markdown",
   "id": "d706f931",
   "metadata": {},
   "source": [
    "## "
   ]
  },
  {
   "cell_type": "markdown",
   "id": "26a5e9cf",
   "metadata": {},
   "source": [
    "(1) 관리자 페이지에 로그인하기 위해서는 반드시 관리자 계정을 생성해야 해.\n",
    "\n",
    "(2) auth에 관련된 기본 테이블이 생성되지 않으면 관리자 계정을 생성할 수 없어.\n",
    "\n",
    "(3) 관리자 페이지에서 내가 만든 Model을 보기 위해서는 models.py에 작성해 Django 서버에 등록해야 해.\n",
    "\n",
    "(4) models.py에 정의한 _ _str_ _ 형태로 객체가 표현돼."
   ]
  },
  {
   "cell_type": "code",
   "execution_count": null,
   "id": "949513cb",
   "metadata": {},
   "outputs": [],
   "source": [
    "정답 :"
   ]
  },
  {
   "cell_type": "markdown",
   "id": "ae566264",
   "metadata": {},
   "source": [
    " "
   ]
  },
  {
   "cell_type": "markdown",
   "id": "1e9f435d",
   "metadata": {},
   "source": [
    "# 힘 내! (서술형)\n",
    "\n",
    "다음에 대해 100자 이상 서술하시오. (총 8점)"
   ]
  },
  {
   "cell_type": "markdown",
   "id": "a2b58069",
   "metadata": {},
   "source": [
    "## MTV pattern (3점)"
   ]
  },
  {
   "cell_type": "code",
   "execution_count": null,
   "id": "4b3cf043",
   "metadata": {},
   "outputs": [],
   "source": []
  },
  {
   "cell_type": "markdown",
   "id": "2f43f7e7",
   "metadata": {},
   "source": [
    "## HTTP, GET, POST (1점, 2점, 2점 총 5점)"
   ]
  },
  {
   "cell_type": "code",
   "execution_count": null,
   "id": "d78aeaf0",
   "metadata": {},
   "outputs": [],
   "source": []
  },
  {
   "cell_type": "markdown",
   "id": "df87e92c",
   "metadata": {},
   "source": [
    " "
   ]
  },
  {
   "cell_type": "markdown",
   "id": "3435e9f7",
   "metadata": {},
   "source": [
    "# 내 머리가 나빠서 (주관식)\n",
    "\n",
    "평소 기억력이 좋지 않은 원경은 수업을 들은 후 django 이용하는 것에 익숙해지기 위해 복습을 하려고 한다. 초기설정(가상환경 설정부터 요청과 응답을 하기 전 단계)을 완료하기 위해 수행해야 할 과정과 터미널창에 입력해야 하는 명령어를 간단히 작성하라.\n",
    "\n",
    "(총 15점, 과정 설명 각 1점, 명령어 쓰기 각 1점)"
   ]
  },
  {
   "cell_type": "markdown",
   "id": "746e2139",
   "metadata": {},
   "source": [
    "**(현재 vs code가 열려있고 이 폴더에 requirements.txt, __init__.py, .gitignore가 존재한다. 현재 터미널은 켜져있는 상태이고, cd 명령어를 사용하지 않고 모든 작업을 진행하려고 한다. 프로젝트와 앱 이름은 자유롭게 설정한다.)**"
   ]
  },
  {
   "cell_type": "code",
   "execution_count": null,
   "id": "66d1dfd6",
   "metadata": {},
   "outputs": [],
   "source": [
    "(과정 -  각 1점, 총 8점)\n",
    "\n",
    "\n",
    "(답지와 같지 않아도 핵심적인 내용이 들어가 있으면 정답으로 인정)"
   ]
  },
  {
   "cell_type": "code",
   "execution_count": null,
   "id": "844e1f03",
   "metadata": {},
   "outputs": [],
   "source": [
    "(명령어 작성 - 각 1점, 총 7점)\n"
   ]
  },
  {
   "cell_type": "markdown",
   "id": "d4ad214f",
   "metadata": {},
   "source": [
    " "
   ]
  },
  {
   "cell_type": "markdown",
   "id": "de216b24",
   "metadata": {},
   "source": [
    "# 잊었니.... (단답형)\n",
    "\n",
    "HTML element에 대해 원경이 요약한 정리본에서 빈칸을 채우시오. (각 1점, 2번과 10점은 2가지 이상 작성, 총 10점)\n",
    "\n",
    "(no_5_forgotten.png를 참고)"
   ]
  },
  {
   "cell_type": "code",
   "execution_count": null,
   "id": "a9f30952",
   "metadata": {},
   "outputs": [],
   "source": [
    "1.\n",
    "\n",
    "2.\n",
    "\n",
    "3.\n",
    "\n",
    "4.\n",
    "\n",
    "5.\n",
    "\n",
    "6.\n",
    "\n",
    "7.\n",
    "\n",
    "8.\n",
    "\n",
    "9.\n",
    "\n",
    "10."
   ]
  },
  {
   "cell_type": "markdown",
   "id": "23745ea8",
   "metadata": {},
   "source": [
    " "
   ]
  },
  {
   "cell_type": "markdown",
   "id": "a1eb930e",
   "metadata": {},
   "source": [
    "# 스트레스 (단답형)\n",
    "\n",
    "다음 설명에 대한 용어를 쓰시오. (각 1점, 총 10점)"
   ]
  },
  {
   "cell_type": "markdown",
   "id": "c3f2084c",
   "metadata": {},
   "source": [
    "**1. 웹 애플리케이션의 데이터를 구조화하고 조작하기 위한 도구 <br> <br> 2. 서버에 미리 저장된 파일이 사용자에게 그대로 전달되는 웹페이지 <br> <br>  3. 데이터를 조회하기 위한 명령어 <br> <br>  4. 대부분의 컴퓨터 소프트웨어가 가지는 기본적 데이터 처리 기능 <br>  <br> 5. 데이터베이스를 조작하기 위한 도구 <br> <br> 6. Django 모델에 데이터베이스 query 작업이 제공되는 인터페이스 <br> <br> 7. 데이터베이스로부터 전달받은 객체 목록 <br>  <br> 8. 프로그래밍에서 특정 운영 체제를 위한 응용 프로그램 표준 구조를 구현하는 클래스와 라이브러리 모임 <br> <br> 9. 각각의 object가 사람이 읽을 수 있는 문자열을 반환하도록 하는 method <br> <br> 10. 데이터베이스에서 자료의 구조, 표현방법, 관계 등을 정의한 구조**"
   ]
  },
  {
   "cell_type": "code",
   "execution_count": null,
   "id": "e8342f98",
   "metadata": {},
   "outputs": [],
   "source": [
    "1.\n",
    "\n",
    "2.\n",
    "\n",
    "3.\n",
    "\n",
    "4.\n",
    "\n",
    "5.\n",
    "\n",
    "6.\n",
    "\n",
    "7.\n",
    "\n",
    "8.\n",
    "\n",
    "9.\n",
    "\n",
    "10."
   ]
  },
  {
   "cell_type": "markdown",
   "id": "f43a2938",
   "metadata": {},
   "source": [
    " "
   ]
  },
  {
   "cell_type": "markdown",
   "id": "fbfa6db8",
   "metadata": {},
   "source": [
    "# 답이 어딨어 (주관식)\n",
    "\n",
    "다음은 원경이 django를 이용해 웹페이지를 구성하기 위해 작성한 문서이다. 다음 물음에 답하시오. (총 10점)\n",
    "\n",
    "no_7_where.pdf 참고"
   ]
  },
  {
   "cell_type": "markdown",
   "id": "761911c4",
   "metadata": {},
   "source": [
    "1. admin 페이지에서는 오래된 항목이 아래에, 웹 페이지에서는 오래된 항목이 위에 (pdf 파일에서 각각 1,2 페이지) 있다. (정렬이 다름) 웹 페이지 상에서 최신 항목을 위에 두고 싶다면, 어느 파일에서 어느 부분을 어떻게 적어야 하는지 간단히 적으시오. (각 1점, 총 3점) <br> **models.py에서 정의된 class명은 Problem이고, 해당 페이지는 problems 앱의 index 함수, index.html을 통해 실행된다.**"
   ]
  },
  {
   "cell_type": "code",
   "execution_count": null,
   "id": "373835ee",
   "metadata": {},
   "outputs": [],
   "source": [
    "정답 :"
   ]
  },
  {
   "cell_type": "markdown",
   "id": "882685b5",
   "metadata": {},
   "source": [
    "2. detail 페이지(pdf에서 3페이지)에는 static file을 이용해 이미지를 넣었다. static file을 사용하기 위해서는 detail.html에서 어떤 태그를\n",
    "사용해야 하는가? 어디에 위치해야 하는가?\n",
    "(사진 파일은 3.jpg를 사용한다. 태그 2가지, 태그와 위치 각 1점, 총 4점)"
   ]
  },
  {
   "cell_type": "code",
   "execution_count": null,
   "id": "05157611",
   "metadata": {},
   "outputs": [],
   "source": [
    "정답 :"
   ]
  },
  {
   "cell_type": "markdown",
   "id": "5fd8455d",
   "metadata": {},
   "source": [
    "3. admin 페이지 계정을 만들기 위한 명령어를 적으시오.(1점)"
   ]
  },
  {
   "cell_type": "code",
   "execution_count": null,
   "id": "06d4bbfe",
   "metadata": {},
   "outputs": [],
   "source": [
    "정답 :"
   ]
  },
  {
   "cell_type": "markdown",
   "id": "c63d5d32",
   "metadata": {},
   "source": [
    "4. 화면 상단의 내비게이션 바에 대한 내용은 _nav.html에 들어있다. 이를 base.html에서 사용하기 위해 어떤 태그를 사용해야 하는가?\n",
    "그 태그는 어디에 위치해야 하는가? (각 1점, 총 2점)"
   ]
  },
  {
   "cell_type": "code",
   "execution_count": null,
   "id": "698071c8",
   "metadata": {},
   "outputs": [],
   "source": [
    "정답 :"
   ]
  },
  {
   "cell_type": "markdown",
   "id": "8154f250",
   "metadata": {},
   "source": [
    " "
   ]
  },
  {
   "cell_type": "markdown",
   "id": "6c3be87b",
   "metadata": {},
   "source": [
    "# Music is my life (서술형)\n",
    "\n",
    "원경은 django를 이용해 웹페이지를 구성하기 위해 작성하며 같은 프로젝트 안에 앱을 하나 더 만들었다. 빈칸을 채우시오. (총 9점)\n",
    "\n",
    "no_8_music.pdf 참고"
   ]
  },
  {
   "cell_type": "markdown",
   "id": "eccab26f",
   "metadata": {},
   "source": [
    "(1) 2페이지의 수정 페이지와 3페이지의 models.py 내용을 참고해 views.py 함수의 빈칸을 채우시오. (3단계, 각각 1점, 2점, 1점, 총 4점)"
   ]
  },
  {
   "cell_type": "code",
   "execution_count": null,
   "id": "f80ad25a",
   "metadata": {},
   "outputs": [],
   "source": [
    "정답 : "
   ]
  },
  {
   "cell_type": "markdown",
   "id": "9faf316e",
   "metadata": {},
   "source": [
    "(2) base.html을 이용해 내비게이션 바와 부트스트랩 적용을 상속받으려고 한다. 이때, 어떤 태그를 사용해야 하는가? 어느 파일에 사용해야 하는가? <br> 어디에 위치해야 하는가? (각 1점, 총 3점)"
   ]
  },
  {
   "cell_type": "code",
   "execution_count": null,
   "id": "e99857ee",
   "metadata": {},
   "outputs": [],
   "source": [
    "정답 :"
   ]
  },
  {
   "cell_type": "markdown",
   "id": "6699a8c4",
   "metadata": {},
   "source": [
    "(3) 4페이지는 admin.py의 내용이다. Playlist의 내용을 admin 사이트에서 보고 싶으면 빈칸에 어떻게 적어야 하는가? (각 1점, 총 2점)"
   ]
  },
  {
   "cell_type": "code",
   "execution_count": null,
   "id": "d1c61894",
   "metadata": {},
   "outputs": [],
   "source": [
    "정답 :"
   ]
  },
  {
   "cell_type": "markdown",
   "id": "e69f2844",
   "metadata": {},
   "source": [
    " "
   ]
  },
  {
   "cell_type": "markdown",
   "id": "23b387a7",
   "metadata": {},
   "source": [
    "# Error (주관식)\n",
    "\n",
    "원경이는 열심히 코드를 작성했지만 아쉽게도 오류가 많은 코드를 작성했다. 오류를 찾고 그 이유에 대해 간단히 설명하시오. (10가지, 각 1점)\n",
    "\n",
    "(no_9_Error.pdf의 사진 및 코드 참고) (주어지지 않은 파일에서는 오류가 없다.)"
   ]
  },
  {
   "cell_type": "code",
   "execution_count": null,
   "id": "7cf6a3fa",
   "metadata": {},
   "outputs": [],
   "source": []
  },
  {
   "cell_type": "markdown",
   "id": "ad9bdd1c",
   "metadata": {},
   "source": [
    " "
   ]
  },
  {
   "cell_type": "markdown",
   "id": "93750e71",
   "metadata": {},
   "source": [
    "#  끝 (서술형)\n",
    "\n",
    "다음에 대해 간단히 설명하시오. (각 2점, 총 10점)"
   ]
  },
  {
   "cell_type": "markdown",
   "id": "7c0f4f33",
   "metadata": {},
   "source": [
    "## variable routing "
   ]
  },
  {
   "cell_type": "code",
   "execution_count": null,
   "id": "0056124a",
   "metadata": {},
   "outputs": [],
   "source": []
  },
  {
   "cell_type": "markdown",
   "id": "60f69ddc",
   "metadata": {},
   "source": [
    "## app url mapping"
   ]
  },
  {
   "cell_type": "code",
   "execution_count": null,
   "id": "4a4cb8e9",
   "metadata": {},
   "outputs": [],
   "source": []
  },
  {
   "cell_type": "markdown",
   "id": "32508795",
   "metadata": {},
   "source": [
    "## naming url patterns"
   ]
  },
  {
   "cell_type": "code",
   "execution_count": null,
   "id": "293399f8",
   "metadata": {},
   "outputs": [],
   "source": []
  },
  {
   "cell_type": "markdown",
   "id": "e2adf742",
   "metadata": {},
   "source": [
    "## url namespace"
   ]
  },
  {
   "cell_type": "code",
   "execution_count": null,
   "id": "a43e5f2a",
   "metadata": {},
   "outputs": [],
   "source": []
  },
  {
   "cell_type": "markdown",
   "id": "e9e074d7",
   "metadata": {},
   "source": [
    "## templates namespace"
   ]
  },
  {
   "cell_type": "code",
   "execution_count": null,
   "id": "510f2502",
   "metadata": {},
   "outputs": [],
   "source": []
  }
 ],
 "metadata": {
  "kernelspec": {
   "display_name": "Python 3 (ipykernel)",
   "language": "python",
   "name": "python3"
  },
  "language_info": {
   "codemirror_mode": {
    "name": "ipython",
    "version": 3
   },
   "file_extension": ".py",
   "mimetype": "text/x-python",
   "name": "python",
   "nbconvert_exporter": "python",
   "pygments_lexer": "ipython3",
   "version": "3.7.3"
  },
  "toc": {
   "base_numbering": 1,
   "nav_menu": {},
   "number_sections": true,
   "sideBar": true,
   "skip_h1_title": false,
   "title_cell": "Table of Contents",
   "title_sidebar": "Contents",
   "toc_cell": false,
   "toc_position": {},
   "toc_section_display": true,
   "toc_window_display": false
  }
 },
 "nbformat": 4,
 "nbformat_minor": 5
}
