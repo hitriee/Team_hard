{
 "cells": [
  {
   "cell_type": "code",
   "execution_count": 2,
   "id": "983eb9b4",
   "metadata": {},
   "outputs": [
    {
     "name": "stdout",
     "output_type": "stream",
     "text": [
      "HELLO WORLD\n"
     ]
    }
   ],
   "source": [
    "# 민코딩 훈련반1 Level 훈련반준비 - 문제 1번 : Hello World\n",
    "\n",
    "def print_hello(name):\n",
    "    # 스크립트를 디버그하려면 하단 코드 줄의 중단점을 사용합니다.\n",
    "    print(f'HELLO {name}')  # 중단점을 전환하려면 Ctrl+F8을(를) 누릅니다.\n",
    "\n",
    "\n",
    "# 스크립트를 실행하려면 여백의 녹색 버튼을 누릅니다.\n",
    "if __name__ == '__main__':\n",
    "    print_hello('WORLD')"
   ]
  },
  {
   "cell_type": "code",
   "execution_count": 3,
   "id": "f02128a0",
   "metadata": {},
   "outputs": [
    {
     "name": "stdout",
     "output_type": "stream",
     "text": [
      "8\n",
      "2개\n"
     ]
    }
   ],
   "source": [
    "# 민코딩 훈련반1 Level 훈련반준비 - 문제 2번 : 입력 받은 숫자보다 더 큰값 Counting\n",
    "\n",
    "arr = [[5, 1, 4, 2, 6], [3, 5, 0, 0, 7], [9, 9, 8, 3, 1]]\n",
    "n = int(input())\n",
    "rst = 0\n",
    "for i in range(3):\n",
    "    for j in range(5):\n",
    "        if arr[i][j] > n:\n",
    "            rst +=1\n",
    "print(f\"{rst}개\")"
   ]
  },
  {
   "cell_type": "code",
   "execution_count": 4,
   "id": "80f9c9f2",
   "metadata": {},
   "outputs": [
    {
     "name": "stdout",
     "output_type": "stream",
     "text": [
      "1\n",
      "7 7 7 7 \n",
      "8 7 6 5 \n",
      "4 3 2 1 \n"
     ]
    }
   ],
   "source": [
    "# 민코딩 훈련반1 Level 훈련반준비 - 문제 3번 : 한 줄 채우기\n",
    "\n",
    "arr = [[0]*4 for _ in range(3)]\n",
    "for i in range(3):\n",
    "    for j in range(4):\n",
    "        arr[i][j] = +4*(2-i)+(4-j)\n",
    "n = int(input())\n",
    "if n == 1:\n",
    "    for i in range(4):\n",
    "        arr[0][i] = 7\n",
    "elif n == 2:\n",
    "    for i in range(4):\n",
    "        arr[1][i] = 7\n",
    "elif n == 3:\n",
    "    for i in range(4):\n",
    "        arr[2][i] = 7\n",
    "for i in range(3):\n",
    "    for j in range(4):\n",
    "        print(arr[i][j], end=\" \")\n",
    "    print()"
   ]
  },
  {
   "cell_type": "code",
   "execution_count": 5,
   "id": "1d4ecc5e",
   "metadata": {},
   "outputs": [
    {
     "name": "stdout",
     "output_type": "stream",
     "text": [
      "101\n",
      "MIN\n"
     ]
    }
   ],
   "source": [
    "# 민코딩 훈련반1 Level 훈련반준비 - 문제 4번 : 그가 사는 그집\n",
    "\n",
    "juso = [402, 401, 302, 301, 202, 201, 102, 101]\n",
    "name = ['KIM', 'TEA', 'SOM', 'OPPO', 'TOM', 'GDK', 'JAME', 'MIN']\n",
    "n = int(input())\n",
    "for i in range(8):\n",
    "    if juso[i] == n:\n",
    "        print(name[i])"
   ]
  },
  {
   "cell_type": "code",
   "execution_count": 9,
   "id": "dba1383e",
   "metadata": {},
   "outputs": [
    {
     "name": "stdout",
     "output_type": "stream",
     "text": [
      "1 5 2\n",
      "1 2 3 4 5 \n",
      "1 2 3 4 5 \n"
     ]
    }
   ],
   "source": [
    "# 민코딩 훈련반1 Level 훈련반준비 - 문제 5번 : 자료 출력\n",
    "\n",
    "a, b, c = map(int, input().split())\n",
    "for i in range(c):\n",
    "    for j in range(a, a+b):\n",
    "        print(j, end=\" \")\n",
    "    print()"
   ]
  },
  {
   "cell_type": "code",
   "execution_count": 11,
   "id": "f1ef2e9c",
   "metadata": {},
   "outputs": [
    {
     "name": "stdout",
     "output_type": "stream",
     "text": [
      "2 5\n",
      "2 5\n",
      "0 3\n",
      "1 1 3 3 2 2 0 0 0\n"
     ]
    }
   ],
   "source": [
    "# 민코딩 훈련반1 Level 훈련반준비 - 문제 6번 : 연속된 값 세팅하기\n",
    "\n",
    "lst = [0]*9\n",
    "for i in range(3):\n",
    "    a, b = map(int, input().split())\n",
    "    for j in range(a, b+1):\n",
    "        lst[j] += 1\n",
    "print(*lst)"
   ]
  },
  {
   "cell_type": "code",
   "execution_count": 14,
   "id": "37ef9f7b",
   "metadata": {},
   "outputs": [
    {
     "name": "stdout",
     "output_type": "stream",
     "text": [
      "5 3 6\n",
      "1 3 2\n",
      "1 2 3 \n",
      "3 5 6 \n"
     ]
    }
   ],
   "source": [
    "# 민코딩 훈련반1 Level 훈련반준비 - 문제 9번 : 2차 배열 정렬하기\n",
    "\n",
    "arr = [list(map(int, input().split())) for _ in range(2)]\n",
    "lst = [0]*6\n",
    "for i in range(2):\n",
    "    for j in range(3):\n",
    "        lst[3*i+j] = arr[i][j]\n",
    "for i in range(6):\n",
    "    for j in range(i+1, 6):\n",
    "        if lst[i] > lst[j]:\n",
    "            lst[i], lst[j] = lst[j], lst[i]\n",
    "for i in range(2):\n",
    "    for j in range(3):\n",
    "        arr[i][j] = lst[3*i+j]\n",
    "        print(arr[i][j], end=\" \")\n",
    "    print()"
   ]
  },
  {
   "cell_type": "code",
   "execution_count": 15,
   "id": "947f770d",
   "metadata": {},
   "outputs": [
    {
     "name": "stdout",
     "output_type": "stream",
     "text": [
      "2\n",
      "QSA"
     ]
    }
   ],
   "source": [
    "# 민코딩 훈련반1 Level 훈련반준비 - 문제 10번 : 선택한 칸 모두 출력하기\n",
    "\n",
    "arr = [['F', 'R', 'Q', 'W', 'T'], ['G', 'A', 'S', 'Y', 'Q'], ['A', 'S', 'A', 'D', 'B']]\n",
    "n = int(input())\n",
    "for i in range(3):\n",
    "    print(arr[i][n], end=\"\")"
   ]
  },
  {
   "cell_type": "code",
   "execution_count": 16,
   "id": "a759afbf",
   "metadata": {},
   "outputs": [
    {
     "name": "stdout",
     "output_type": "stream",
     "text": [
      "P L M N Q\n",
      "3개 맞추었습니다\n"
     ]
    }
   ],
   "source": [
    "# 민코딩 훈련반1 Level 훈련반준비 - 문제 11번 : 알파벳 퀴즈\n",
    "\n",
    "lst = ['A', 'P', 'P', 'L', 'E', 'T']\n",
    "lst1 = list(input().split())\n",
    "rst = 0\n",
    "for i in range(len(lst)):\n",
    "    for j in range(len(lst1)):\n",
    "        if lst[i] == lst1[j]:\n",
    "            rst += 1\n",
    "print(f\"{rst}개 맞추었습니다\")"
   ]
  },
  {
   "cell_type": "code",
   "execution_count": 18,
   "id": "625d763a",
   "metadata": {},
   "outputs": [
    {
     "name": "stdout",
     "output_type": "stream",
     "text": [
      "1\n",
      "1 2 3 4 \n",
      "8 7 6 5 \n",
      "9 10 11 12 \n",
      "16 15 14 13 \n"
     ]
    }
   ],
   "source": [
    "# 민코딩 훈련반1 Level 훈련반준비 - 문제 12번 : 번호순서대로 배열 채우기\n",
    "\n",
    "n = int(input())\n",
    "arr = [[0]*4 for _ in range(4)]\n",
    "for i in range(4):\n",
    "    for j in range(4):\n",
    "        if i%2 == 1:\n",
    "            arr[i][j] = n+4*i+(3-j)\n",
    "        else:\n",
    "            arr[i][j] = n+4*i+j\n",
    "        print(arr[i][j], end=\" \")\n",
    "    print()"
   ]
  }
 ],
 "metadata": {
  "kernelspec": {
   "display_name": "Python 3 (ipykernel)",
   "language": "python",
   "name": "python3"
  },
  "language_info": {
   "codemirror_mode": {
    "name": "ipython",
    "version": 3
   },
   "file_extension": ".py",
   "mimetype": "text/x-python",
   "name": "python",
   "nbconvert_exporter": "python",
   "pygments_lexer": "ipython3",
   "version": "3.10.1"
  },
  "toc": {
   "base_numbering": 1,
   "nav_menu": {},
   "number_sections": true,
   "sideBar": true,
   "skip_h1_title": false,
   "title_cell": "Table of Contents",
   "title_sidebar": "Contents",
   "toc_cell": false,
   "toc_position": {},
   "toc_section_display": true,
   "toc_window_display": false
  }
 },
 "nbformat": 4,
 "nbformat_minor": 5
}
