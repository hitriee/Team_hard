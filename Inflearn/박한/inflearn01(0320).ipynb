{
 "cells": [
  {
   "cell_type": "code",
   "execution_count": 6,
   "id": "7a1adc9e",
   "metadata": {},
   "outputs": [
    {
     "name": "stdout",
     "output_type": "stream",
     "text": [
      "6 3\n",
      "3 5 "
     ]
    }
   ],
   "source": [
    "# codeFestival_1. 78번\n",
    "\n",
    "N, K = map(int, input().split())\n",
    "lst = [1]*N\n",
    "rst = N\n",
    "def abc(level):\n",
    "    global rst\n",
    "    lst[level] = 0\n",
    "    rst -= 1\n",
    "    if rst == 2:\n",
    "        return\n",
    "    ans = 0\n",
    "    for i in range(1, K*N):\n",
    "        if lst[(level+i)%N] == 1:\n",
    "            ans += 1\n",
    "        if ans == K:\n",
    "            abc((level+i)%N)\n",
    "            break\n",
    "abc(0)\n",
    "for n in range(N):\n",
    "    if lst[n] == 1:\n",
    "        print(n+1, end=\" \")"
   ]
  }
 ],
 "metadata": {
  "kernelspec": {
   "display_name": "Python 3 (ipykernel)",
   "language": "python",
   "name": "python3"
  },
  "language_info": {
   "codemirror_mode": {
    "name": "ipython",
    "version": 3
   },
   "file_extension": ".py",
   "mimetype": "text/x-python",
   "name": "python",
   "nbconvert_exporter": "python",
   "pygments_lexer": "ipython3",
   "version": "3.10.1"
  },
  "toc": {
   "base_numbering": 1,
   "nav_menu": {},
   "number_sections": true,
   "sideBar": true,
   "skip_h1_title": false,
   "title_cell": "Table of Contents",
   "title_sidebar": "Contents",
   "toc_cell": false,
   "toc_position": {},
   "toc_section_display": true,
   "toc_window_display": false
  }
 },
 "nbformat": 4,
 "nbformat_minor": 5
}
