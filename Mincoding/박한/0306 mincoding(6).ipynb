{
 "cells": [
  {
   "cell_type": "code",
   "execution_count": 16,
   "id": "fe92f04b",
   "metadata": {},
   "outputs": [
    {
     "name": "stdout",
     "output_type": "stream",
     "text": [
      "A 12\n",
      "A 12\n"
     ]
    }
   ],
   "source": [
    "# 민코딩 훈련반1 Level 6 - 문제 1번 : 문자 입력받고 출력하기\n",
    "\n",
    "lst = ['']*2\n",
    "def INPUT():\n",
    "    global lst\n",
    "    lst = list(map(str, input().split()))\n",
    "def OUTPUT():\n",
    "    print(*lst)\n",
    "INPUT()\n",
    "OUTPUT()"
   ]
  },
  {
   "cell_type": "code",
   "execution_count": 18,
   "id": "f37ddf19",
   "metadata": {},
   "outputs": [
    {
     "name": "stdout",
     "output_type": "stream",
     "text": [
      "A B C\n",
      "65\n",
      "66\n",
      "67\n"
     ]
    }
   ],
   "source": [
    "# 민코딩 훈련반1 Level 6 - 문제 2번 : 아스키코드 문자번호를 밝혀라\n",
    "\n",
    "lst = list(map(str, input().split()))\n",
    "for i in range(len(lst)):\n",
    "    print(ord(lst[i]))"
   ]
  },
  {
   "cell_type": "code",
   "execution_count": 20,
   "id": "2ae5c534",
   "metadata": {},
   "outputs": [
    {
     "name": "stdout",
     "output_type": "stream",
     "text": [
      "4\n",
      "1 2 3 4 5 \n",
      "1 2 3 4 5 \n",
      "1 2 3 4 5 \n",
      "1 2 3 4 5 \n"
     ]
    }
   ],
   "source": [
    "# 민코딩 훈련반1 Level 6 - 문제 3번 : 1부터 5까지 n번 출력하기\n",
    "\n",
    "n = int(input())\n",
    "for i in range(n):\n",
    "    for j in range(5):\n",
    "        print(j+1, end=\" \")\n",
    "    print()"
   ]
  },
  {
   "cell_type": "code",
   "execution_count": 22,
   "id": "2a940383",
   "metadata": {},
   "outputs": [
    {
     "name": "stdout",
     "output_type": "stream",
     "text": [
      "$:36\n",
      "@:64\n",
      "D:68\n",
      "A:65\n",
      "9:57\n",
      "#:35\n"
     ]
    }
   ],
   "source": [
    "# 민코딩 훈련반1 Level 6 - 문제 4번 : 배열을 모두 출력하기\n",
    "\n",
    "lst = ['$', '@', 'D', 'A', '9', '#']\n",
    "for i in range(len(lst)):\n",
    "    print(f\"{lst[i]}:{ord(lst[i])}\")"
   ]
  },
  {
   "cell_type": "code",
   "execution_count": 23,
   "id": "c8318689",
   "metadata": {},
   "outputs": [
    {
     "name": "stdout",
     "output_type": "stream",
     "text": [
      "2\n",
      "B T K A\n",
      "B T K A\n"
     ]
    }
   ],
   "source": [
    "# 민코딩 훈련반1 Level 6 - 문제 5번 : 배열을 n번 출력하기\n",
    "\n",
    "lst = ['B', 'T', 'K', 'A']\n",
    "n = int(input())\n",
    "for i in range(n):\n",
    "    print(*lst)"
   ]
  },
  {
   "cell_type": "code",
   "execution_count": 32,
   "id": "e12b38db",
   "metadata": {},
   "outputs": [
    {
     "name": "stdout",
     "output_type": "stream",
     "text": [
      "a\n",
      "소문자입니다\n"
     ]
    }
   ],
   "source": [
    "# 민코딩 훈련반1 Level 6 - 문제 6번 : 대소문자 판단하기\n",
    "\n",
    "a = input()\n",
    "if 65 <= ord(a) <= 90:\n",
    "    print(\"대문자입니다\")\n",
    "elif 97 <= ord(a) <= 122:\n",
    "    print(\"소문자입니다\")"
   ]
  },
  {
   "cell_type": "code",
   "execution_count": 33,
   "id": "80900691",
   "metadata": {},
   "outputs": [
    {
     "name": "stdout",
     "output_type": "stream",
     "text": [
      "3\n",
      "###\n",
      "###\n",
      "###\n"
     ]
    }
   ],
   "source": [
    "# 민코딩 훈련반1 Level 6 - 문제 7번 : 2중 for문으로 # 출력 하기\n",
    "\n",
    "n = int(input())\n",
    "for i in range(n):\n",
    "    for j in range(n):\n",
    "        print('#', end=\"\")\n",
    "    print()"
   ]
  },
  {
   "cell_type": "code",
   "execution_count": 37,
   "id": "02e171b0",
   "metadata": {},
   "outputs": [
    {
     "name": "stdout",
     "output_type": "stream",
     "text": [
      "8\n",
      "13\n"
     ]
    }
   ],
   "source": [
    "# 민코딩 훈련반1 Level 6 - 문제 8번 :'0'~'9'문자를 숫자로 바꾸기 \n",
    "\n",
    "a = input()\n",
    "if 48 <= ord(a) <= 57:\n",
    "    b = int(a)+5\n",
    "print(b)"
   ]
  },
  {
   "cell_type": "code",
   "execution_count": 39,
   "id": "f2b324e1",
   "metadata": {},
   "outputs": [
    {
     "name": "stdout",
     "output_type": "stream",
     "text": [
      "D\n",
      "ABCD"
     ]
    }
   ],
   "source": [
    "# 민코딩 훈련반1 Level 6 - 문제 9번 : 입력받은 문자까지 출력하기\n",
    "\n",
    "a = input()\n",
    "for i in range(65, ord(a)+1):\n",
    "    print(chr(i), end=\"\")"
   ]
  },
  {
   "cell_type": "code",
   "execution_count": 40,
   "id": "51858cd2",
   "metadata": {},
   "outputs": [
    {
     "name": "stdout",
     "output_type": "stream",
     "text": [
      "b\n",
      "B\n"
     ]
    }
   ],
   "source": [
    "# 민코딩 훈련반1 Level 6 - 문제 10번 : 소문자를 대문자로 바꾸어주기\n",
    "\n",
    "a = input()\n",
    "print(chr(ord(a)-32))"
   ]
  },
  {
   "cell_type": "code",
   "execution_count": 42,
   "id": "ae9a153d",
   "metadata": {},
   "outputs": [
    {
     "name": "stdout",
     "output_type": "stream",
     "text": [
      "B H\n",
      "B C D E F G H \n",
      "B C D E F G H \n",
      "B C D E F G H \n",
      "B C D E F G H \n"
     ]
    }
   ],
   "source": [
    "# 민코딩 훈련반1 Level 6 - 문제 11번 : 두개의 문자를 4번 출력하기\n",
    "\n",
    "a, b = map(str, input().split())\n",
    "for i in range(4):\n",
    "    for j in range(ord(a), ord(b)+1):\n",
    "        print(chr(j), end=\" \")\n",
    "    print()"
   ]
  },
  {
   "cell_type": "code",
   "execution_count": 50,
   "id": "2a3c7397",
   "metadata": {},
   "outputs": [
    {
     "name": "stdout",
     "output_type": "stream",
     "text": [
      "A B C\n",
      "ABC를찾았다\n"
     ]
    }
   ],
   "source": [
    "# 민코딩 훈련반1 Level 6 - 문제 12번 : ABC초콜릿 모으기\n",
    "\n",
    "flag = 0\n",
    "a, b, c = map(str, input().split())\n",
    "def process():\n",
    "    global flag\n",
    "    if a=='A' and b=='B' and c=='C':\n",
    "        flag = 1\n",
    "    return flag\n",
    "process()\n",
    "def output():\n",
    "    if flag == 1:\n",
    "        print(\"ABC를찾았다\")\n",
    "    else:\n",
    "        print(\"못찾았다\")\n",
    "output()"
   ]
  },
  {
   "cell_type": "code",
   "execution_count": 51,
   "id": "18799ebe",
   "metadata": {},
   "outputs": [
    {
     "name": "stdout",
     "output_type": "stream",
     "text": [
      "1 9 2\n",
      "1 2 3 4 5 6 7 8 9 \n",
      "1 2 3 4 5 6 7 8 9 \n"
     ]
    }
   ],
   "source": [
    "# 민코딩 훈련반1 Level 6 - 문제 13번 : 숫자 두개를 n번 출력 하기\n",
    "\n",
    "a, b, c = map(int, input().split())\n",
    "for i in range(c):\n",
    "    for j in range(a, b+1):\n",
    "        print(j, end=\" \")\n",
    "    print()"
   ]
  }
 ],
 "metadata": {
  "kernelspec": {
   "display_name": "Python 3 (ipykernel)",
   "language": "python",
   "name": "python3"
  },
  "language_info": {
   "codemirror_mode": {
    "name": "ipython",
    "version": 3
   },
   "file_extension": ".py",
   "mimetype": "text/x-python",
   "name": "python",
   "nbconvert_exporter": "python",
   "pygments_lexer": "ipython3",
   "version": "3.10.1"
  },
  "toc": {
   "base_numbering": 1,
   "nav_menu": {},
   "number_sections": true,
   "sideBar": true,
   "skip_h1_title": false,
   "title_cell": "Table of Contents",
   "title_sidebar": "Contents",
   "toc_cell": false,
   "toc_position": {},
   "toc_section_display": true,
   "toc_window_display": false
  }
 },
 "nbformat": 4,
 "nbformat_minor": 5
}
