{
 "cells": [
  {
   "cell_type": "code",
   "execution_count": null,
   "id": "38847943",
   "metadata": {},
   "outputs": [],
   "source": [
    "박한님 문제"
   ]
  },
  {
   "cell_type": "code",
   "execution_count": null,
   "id": "6c88fb39",
   "metadata": {},
   "outputs": [],
   "source": [
    "1. 산술연산자 +, - 보다 연산자의 우선순위가 낮은 연산자를 고르시오.\n",
    "1) 산술연산자 *, /\n",
    "2) 제곱연산자 **\n",
    "3) 단항연산자 +, -\n",
    "4) 비교연산자 >, <"
   ]
  },
  {
   "cell_type": "code",
   "execution_count": null,
   "id": "2573973e",
   "metadata": {},
   "outputs": [],
   "source": [
    "정답 : 4"
   ]
  },
  {
   "cell_type": "code",
   "execution_count": null,
   "id": "050f6ce4",
   "metadata": {},
   "outputs": [],
   "source": [
    "2. 지문의 코드를 실행하였을 때, 출력되는 결과로 옳은 것을 고르시오.\n",
    "for i in range(5):\n",
    "    if i == 3:\n",
    "        continue\n",
    "    print(i, end=' ')\n",
    "1) 0 1 2 3\n",
    "2) 0 1 2 4\n",
    "3) 1 2 4 5\n",
    "4) 1 2 3 "
   ]
  },
  {
   "cell_type": "code",
   "execution_count": null,
   "id": "57b8cfef",
   "metadata": {},
   "outputs": [],
   "source": [
    "정답 : 2"
   ]
  },
  {
   "cell_type": "code",
   "execution_count": null,
   "id": "b98dc7e6",
   "metadata": {},
   "outputs": [],
   "source": [
    "3. 함수에 대한 설명으로 옳지 않은 것을 고르시오.\n",
    "1) 함수의 선언을 할 때는 def 키워드를 활용한다.\n",
    "2) 함수는 입력값으로 인자(argument)를 넘겨줄 수 있다.\n",
    "3) 함수의 return으로 반드시 하나의 객체가 반환된다.\n",
    "4) 함수의 return 값이 없으면 오류가 발생한다."
   ]
  },
  {
   "cell_type": "code",
   "execution_count": null,
   "id": "6bd4f6c2",
   "metadata": {},
   "outputs": [],
   "source": [
    "정답 : 4"
   ]
  },
  {
   "cell_type": "code",
   "execution_count": null,
   "id": "8e86ce30",
   "metadata": {},
   "outputs": [],
   "source": [
    "4. 지문의 코드를 실행하였을 때, 출력되는 결과로 옳은 것을 고르시오.\n",
    "cities = {‘광주’, ‘나주’, ‘화순’}\n",
    "cities.update({‘광주’, ‘대구’, ‘부산’, ‘울산’}, {‘부산’, ‘울산’, ‘포항’})\n",
    "print(cities)\n",
    "1) 광주, 나주, 화순, 광주, 대구, 부산, 울산, 부산, 울산, 포항\n",
    "2) 광주, 나주, 화순, 광주, 대구, 부산, 울산, 포항\n",
    "3) 광주, 나주, 화순, 대구, 부산, 울산, 포항\n",
    "4) 광주, 나주, 화순"
   ]
  },
  {
   "cell_type": "code",
   "execution_count": null,
   "id": "48d988d5",
   "metadata": {},
   "outputs": [],
   "source": [
    "정답 : 3"
   ]
  },
  {
   "cell_type": "code",
   "execution_count": null,
   "id": "10a4e365",
   "metadata": {},
   "outputs": [],
   "source": [
    "5. 다음 중 옳지 않은 내용을 고르시오.\n",
    "1) 조건문은 다른 조건문에 중첩할 수 있습니다.\n",
    "2) in, not in 연산자를 통해 동일한 object인지 확인할 수 있다.\n",
    "3) enumerate 함수는 열거 객체를 돌려줍니다.\n",
    "4) 사용자가 의도하지 않아도 파이썬 내부적으로 자동으로 형변환할 수\n",
    "있다"
   ]
  },
  {
   "cell_type": "code",
   "execution_count": null,
   "id": "78635478",
   "metadata": {},
   "outputs": [],
   "source": [
    "정답 : 2"
   ]
  },
  {
   "cell_type": "code",
   "execution_count": null,
   "id": "5bae4cae",
   "metadata": {},
   "outputs": [],
   "source": [
    "6. 지문의 코드를 실행하였을 때, 출력되는 결과를 작성하시오.\n",
    "kids = {'name': 'Kim', 'birthday': 0112, ‘city’: ‘광주’}\n",
    "print(list(kids))\n"
   ]
  },
  {
   "cell_type": "code",
   "execution_count": null,
   "id": "816b0c8c",
   "metadata": {},
   "outputs": [],
   "source": [
    "정답 : ['name', 'birthday', 'city']"
   ]
  },
  {
   "cell_type": "code",
   "execution_count": null,
   "id": "e60e8f4f",
   "metadata": {},
   "outputs": [],
   "source": [
    "7. 지문의 코드를 실행하였을 때 결과가 다음과 같을 때, (A)와 (B)에 들어갈 코드\n",
    "나 값을 작성하시오.\n",
    "<코드>\n",
    "(A) my_package.math.tools import (B)\n",
    "print(my_max(2, e-1)\n",
    "print(pi)\n",
    "<결과값>\n",
    "3.141592653589793\n",
    "1.718281828459045\n"
   ]
  },
  {
   "cell_type": "code",
   "execution_count": null,
   "id": "53519c9e",
   "metadata": {},
   "outputs": [],
   "source": [
    "정답 : (A) from    (B) *"
   ]
  },
  {
   "cell_type": "code",
   "execution_count": null,
   "id": "d29bf9f0",
   "metadata": {},
   "outputs": [],
   "source": []
  },
  {
   "cell_type": "code",
   "execution_count": null,
   "id": "8af1e927",
   "metadata": {},
   "outputs": [],
   "source": []
  },
  {
   "cell_type": "code",
   "execution_count": null,
   "id": "b06d5984",
   "metadata": {},
   "outputs": [],
   "source": []
  }
 ],
 "metadata": {
  "kernelspec": {
   "display_name": "Python 3 (ipykernel)",
   "language": "python",
   "name": "python3"
  },
  "language_info": {
   "codemirror_mode": {
    "name": "ipython",
    "version": 3
   },
   "file_extension": ".py",
   "mimetype": "text/x-python",
   "name": "python",
   "nbconvert_exporter": "python",
   "pygments_lexer": "ipython3",
   "version": "3.7.3"
  },
  "toc": {
   "base_numbering": 1,
   "nav_menu": {},
   "number_sections": true,
   "sideBar": true,
   "skip_h1_title": false,
   "title_cell": "Table of Contents",
   "title_sidebar": "Contents",
   "toc_cell": false,
   "toc_position": {},
   "toc_section_display": true,
   "toc_window_display": false
  }
 },
 "nbformat": 4,
 "nbformat_minor": 5
}
