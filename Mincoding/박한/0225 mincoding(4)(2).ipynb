{
 "cells": [
  {
   "cell_type": "code",
   "execution_count": 1,
   "id": "7f6b59b3",
   "metadata": {},
   "outputs": [
    {
     "name": "stdout",
     "output_type": "stream",
     "text": [
      "3\n",
      "-19\n"
     ]
    }
   ],
   "source": [
    "# 민코딩 훈련반1 Level 4 - 문제 7번 : index값 입력받고 계산하기\n",
    "\n",
    "arr = [3, 9, 27, 81, 243]\n",
    "index = int(input())\n",
    "print(arr[index]-100)"
   ]
  },
  {
   "cell_type": "code",
   "execution_count": 2,
   "id": "51d19bb5",
   "metadata": {},
   "outputs": [
    {
     "name": "stdout",
     "output_type": "stream",
     "text": [
      "3\n",
      "5\n",
      "4\n",
      "3\n",
      "2\n",
      "1\n"
     ]
    }
   ],
   "source": [
    "# 민코딩 훈련반1 Level 4 - 문제 8번 : 응용문제 if와 for 같이 써보기\n",
    "\n",
    "n = int(input())\n",
    "if n>5:\n",
    "    for i in range(10):\n",
    "        print(i+1)\n",
    "else:\n",
    "    for i in range(5):\n",
    "        print(5-i)"
   ]
  },
  {
   "cell_type": "code",
   "execution_count": 3,
   "id": "27b71b38",
   "metadata": {},
   "outputs": [
    {
     "name": "stdout",
     "output_type": "stream",
     "text": [
      "7 4 3 2 5 "
     ]
    }
   ],
   "source": [
    "# 민코딩 훈련반1 Level 4 - 문제 9번 : 배열값 거꾸로 출력\n",
    "\n",
    "arr = [5, 2, 3, 4, 7]\n",
    "for i in range(5):\n",
    "    print(arr[4-i], end=\" \")"
   ]
  },
  {
   "cell_type": "code",
   "execution_count": 4,
   "id": "ab41d50a",
   "metadata": {},
   "outputs": [
    {
     "name": "stdout",
     "output_type": "stream",
     "text": [
      "8\n",
      "6\n"
     ]
    }
   ],
   "source": [
    "# 민코딩 훈련반1 Level 4 - 문제 10번 : 배열의 2번 index값 출력하기\n",
    "\n",
    "arr = [0]*6\n",
    "arr[0] = int(input())\n",
    "for i in range(5):\n",
    "    arr[i+1] = arr[0]-i-1\n",
    "print(arr[2])"
   ]
  },
  {
   "cell_type": "code",
   "execution_count": 5,
   "id": "8c88d98c",
   "metadata": {},
   "outputs": [
    {
     "name": "stdout",
     "output_type": "stream",
     "text": [
      "3 3 5 1\n",
      "12\n"
     ]
    }
   ],
   "source": [
    "# 민코딩 훈련반1 Level 4 - 문제 11번 : 합구하기\n",
    "\n",
    "lst = list(map(int, input().split()))\n",
    "sum = 0\n",
    "for i in range(len(lst)):\n",
    "    sum += lst[i]\n",
    "print(sum)"
   ]
  },
  {
   "cell_type": "code",
   "execution_count": 8,
   "id": "2558607c",
   "metadata": {},
   "outputs": [
    {
     "name": "stdout",
     "output_type": "stream",
     "text": [
      "5\n",
      "57\n",
      "82\n",
      "-8\n",
      "13\n",
      "1\n"
     ]
    }
   ],
   "source": [
    "# 민코딩 훈련반1 Level 4 - 문제 12번 : index값 입력받고 끝까지 출력\n",
    "\n",
    "arr = [5, 25, 54, 2, -33, 57, 82, -8, 13, 1]\n",
    "n = int(input())\n",
    "for i in range(n, len(arr)):\n",
    "    print(arr[i])"
   ]
  }
 ],
 "metadata": {
  "kernelspec": {
   "display_name": "Python 3 (ipykernel)",
   "language": "python",
   "name": "python3"
  },
  "language_info": {
   "codemirror_mode": {
    "name": "ipython",
    "version": 3
   },
   "file_extension": ".py",
   "mimetype": "text/x-python",
   "name": "python",
   "nbconvert_exporter": "python",
   "pygments_lexer": "ipython3",
   "version": "3.10.1"
  },
  "toc": {
   "base_numbering": 1,
   "nav_menu": {},
   "number_sections": true,
   "sideBar": true,
   "skip_h1_title": false,
   "title_cell": "Table of Contents",
   "title_sidebar": "Contents",
   "toc_cell": false,
   "toc_position": {},
   "toc_section_display": true,
   "toc_window_display": false
  }
 },
 "nbformat": 4,
 "nbformat_minor": 5
}
