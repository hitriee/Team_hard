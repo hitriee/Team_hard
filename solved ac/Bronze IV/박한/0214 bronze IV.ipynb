{
 "cells": [
  {
   "cell_type": "code",
   "execution_count": 1,
   "id": "7c8dcb65",
   "metadata": {},
   "outputs": [
    {
     "name": "stdout",
     "output_type": "stream",
     "text": [
      "10 2\n",
      "7000\n"
     ]
    }
   ],
   "source": [
    "# 백준 브론즈4 8718번\n",
    "\n",
    "x, k = map(int, input().split())\n",
    "if k*7 <= x:\n",
    "    print(k*7000)\n",
    "elif k*3.5 <= x:\n",
    "    print(k*3500)\n",
    "elif k*1.75 <= x:\n",
    "    print(k*1750)\n",
    "else:\n",
    "    print(0)"
   ]
  },
  {
   "cell_type": "code",
   "execution_count": 6,
   "id": "e7f72776",
   "metadata": {},
   "outputs": [
    {
     "name": "stdout",
     "output_type": "stream",
     "text": [
      "5 3 4\n",
      "1\n"
     ]
    }
   ],
   "source": [
    "# 백준 브론즈 4 8723번\n",
    "# 주어진 세 값으로 정삼각형 만들 수 있으면 2, 직각삼각형 만들 수 있으면 1, 만들 수 없으면 0 출력\n",
    "\n",
    "tri = list(map(int, input().split()))\n",
    "for i in range(3):\n",
    "    for j in range(i, 3):\n",
    "        if tri[i] > tri[j]:\n",
    "            tri[i], tri[j] = tri[j], tri[i]\n",
    "if tri[2]==tri[1]==tri[0]:\n",
    "    print(2)\n",
    "elif (tri[2])**2 == (tri[1])**2 + (tri[0])**2:\n",
    "    print(1)\n",
    "else:\n",
    "    print(0)"
   ]
  },
  {
   "cell_type": "code",
   "execution_count": 8,
   "id": "303697b8",
   "metadata": {},
   "outputs": [
    {
     "name": "stdout",
     "output_type": "stream",
     "text": [
      "95\n",
      "A\n"
     ]
    }
   ],
   "source": [
    "# 백준 브론즈4 9498번\n",
    "# 시험 점수 입력받아 90~100점은 A, ... , 60~69점은 D, 나머지 점수는 F를 출력\n",
    "\n",
    "n = int(input())\n",
    "if n >= 90:\n",
    "    print('A')\n",
    "elif n >= 80:\n",
    "    print('B')\n",
    "elif n >= 70:\n",
    "    print('C')\n",
    "elif n >= 60:\n",
    "    print('D')\n",
    "else:\n",
    "    print('F')"
   ]
  },
  {
   "cell_type": "code",
   "execution_count": 28,
   "id": "86a5f3fa",
   "metadata": {},
   "outputs": [
    {
     "name": "stdout",
     "output_type": "stream",
     "text": [
      "10\n",
      "65\n",
      "100\n",
      "30\n",
      "95\n",
      "68\n"
     ]
    }
   ],
   "source": [
    "# 백준 브론즈4 10039번\n",
    "# 5줄로 학생들 성적을 입력받고, 40점 미만은 40점으로 만들어서 평균 점수를 구하라\n",
    "\n",
    "scores = [int(input()) for _ in range(5)]\n",
    "rst = 0\n",
    "for i in range(len(scores)):\n",
    "    if scores[i] < 40:\n",
    "        scores[i] = 40\n",
    "    rst += scores[i]\n",
    "print(rst//5)"
   ]
  },
  {
   "cell_type": "code",
   "execution_count": 35,
   "id": "42119e46",
   "metadata": {},
   "outputs": [
    {
     "name": "stdout",
     "output_type": "stream",
     "text": [
      "70\n",
      "70\n",
      "40\n",
      "Isosceles\n"
     ]
    }
   ],
   "source": [
    "# 백준 브론즈4 10101번\n",
    "# 3줄로 삼각형의 세 각의 크기를 입력받고 모두 60이면 Equilateral, 두 각이 같으면 Isosceles,\n",
    "# 같은 각이 없으면 Scalene, 세 각의 합이 180이 아니면 Error를 출력하는 프로그램\n",
    "\n",
    "angles = [int(input()) for _ in range(3)]\n",
    "if angles[0]+angles[1]+angles[2] != 180:\n",
    "    print('Error')\n",
    "elif angles[0]==angles[1]==angles[2]:\n",
    "    print('Equilateral')\n",
    "elif angles[0]==angles[1] or angles[0]==angles[2] or angles[2]==angles[1]:\n",
    "    print('Isosceles')\n",
    "else:\n",
    "    print('Scalene')"
   ]
  }
 ],
 "metadata": {
  "kernelspec": {
   "display_name": "Python 3 (ipykernel)",
   "language": "python",
   "name": "python3"
  },
  "language_info": {
   "codemirror_mode": {
    "name": "ipython",
    "version": 3
   },
   "file_extension": ".py",
   "mimetype": "text/x-python",
   "name": "python",
   "nbconvert_exporter": "python",
   "pygments_lexer": "ipython3",
   "version": "3.10.1"
  },
  "toc": {
   "base_numbering": 1,
   "nav_menu": {},
   "number_sections": true,
   "sideBar": true,
   "skip_h1_title": false,
   "title_cell": "Table of Contents",
   "title_sidebar": "Contents",
   "toc_cell": false,
   "toc_position": {},
   "toc_section_display": true,
   "toc_window_display": false
  }
 },
 "nbformat": 4,
 "nbformat_minor": 5
}
