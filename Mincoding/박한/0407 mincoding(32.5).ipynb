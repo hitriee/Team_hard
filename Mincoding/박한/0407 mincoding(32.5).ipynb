{
 "cells": [
  {
   "cell_type": "code",
   "execution_count": 7,
   "id": "715191da",
   "metadata": {},
   "outputs": [
    {
     "name": "stdout",
     "output_type": "stream",
     "text": [
      "BE\n",
      "##C##G\n",
      "H#J#LM\n",
      "NOPQRS\n"
     ]
    }
   ],
   "source": [
    "# 민코딩 심화반1 Level 32.5 - 문제 3번 : 붕어빵 뒤집기\n",
    "\n",
    "arr = [['A','B','C','E','F','G'],['H','I','J','K','L','M'],['N','O','P','Q','R','S']]\n",
    "used = [[0]*6 for _ in range(3)]\n",
    "lst = list(input())\n",
    "def abc(level):\n",
    "    if level==len(lst):\n",
    "        return\n",
    "    for i in range(3):\n",
    "        for j in range(6):\n",
    "            if arr[i][j] == lst[level]:\n",
    "                directy = [0, -1, 1, 0, 0]\n",
    "                directx = [0, 0, 0, -1, 1]\n",
    "                for n in range(5):\n",
    "                    dy = i + directy[n]\n",
    "                    dx = j + directx[n]\n",
    "                    if 0 <= dy < 3 and 0 <= dx < 6:\n",
    "                        if used[dy][dx]== 0:\n",
    "                            used[dy][dx] = 1\n",
    "                        else:\n",
    "                            used[dy][dx] = 0\n",
    "    abc(level+1)\n",
    "abc(0)\n",
    "for i in range(3):\n",
    "    for j in range(6):\n",
    "        if used[i][j] == 0:\n",
    "            print(arr[i][j], end=\"\")\n",
    "        else:\n",
    "            print('#', end=\"\")\n",
    "    print()"
   ]
  },
  {
   "cell_type": "code",
   "execution_count": null,
   "id": "431b81e0",
   "metadata": {},
   "outputs": [],
   "source": [
    "# 민코딩 심화반1 Level 32.5 - 문제 4번 : 병뚜껑 번호 맞추기\n",
    "\n"
   ]
  }
 ],
 "metadata": {
  "kernelspec": {
   "display_name": "Python 3 (ipykernel)",
   "language": "python",
   "name": "python3"
  },
  "language_info": {
   "codemirror_mode": {
    "name": "ipython",
    "version": 3
   },
   "file_extension": ".py",
   "mimetype": "text/x-python",
   "name": "python",
   "nbconvert_exporter": "python",
   "pygments_lexer": "ipython3",
   "version": "3.10.1"
  },
  "toc": {
   "base_numbering": 1,
   "nav_menu": {},
   "number_sections": true,
   "sideBar": true,
   "skip_h1_title": false,
   "title_cell": "Table of Contents",
   "title_sidebar": "Contents",
   "toc_cell": false,
   "toc_position": {},
   "toc_section_display": true,
   "toc_window_display": false
  }
 },
 "nbformat": 4,
 "nbformat_minor": 5
}
