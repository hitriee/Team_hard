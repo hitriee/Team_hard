{
 "cells": [
  {
   "cell_type": "code",
   "execution_count": 8,
   "id": "f10d5de2",
   "metadata": {},
   "outputs": [
    {
     "name": "stdout",
     "output_type": "stream",
     "text": [
      "545 210 10\n",
      "파이어볼\n"
     ]
    }
   ],
   "source": [
    "# # codeFestival_1. 12번\n",
    "\n",
    "class Wizard:\n",
    "    def __init__(self, health, mana, armor):\n",
    "        self.health = health\n",
    "        self.mana = mana\n",
    "        self.armor = armor\n",
    " \n",
    "    def attack(self):\n",
    "        print('파이어볼')\n",
    "        \n",
    "x = Wizard(health=545, mana=210, armor=10)\n",
    "print(x.health, x.mana, x.armor)\n",
    "x.attack()"
   ]
  },
  {
   "cell_type": "code",
   "execution_count": 10,
   "id": "046acb53",
   "metadata": {},
   "outputs": [
    {
     "name": "stdout",
     "output_type": "stream",
     "text": [
      "Yujin Hyewon\n",
      "70 100\n",
      "{'Yujin': 70, 'Hyewon': 100}\n"
     ]
    }
   ],
   "source": [
    "# codeFestival_1. 27번\n",
    "\n",
    "name = list(input().split())\n",
    "score = list(map(int, input().split()))\n",
    "dic = dict()\n",
    "for i in range(2):\n",
    "    dic[name[i]] = score[i]\n",
    "print(dic)"
   ]
  },
  {
   "cell_type": "code",
   "execution_count": 19,
   "id": "ad4f2a39",
   "metadata": {},
   "outputs": [
    {
     "name": "stdout",
     "output_type": "stream",
     "text": [
      "97 86 75 66 55 97 85 97 97 95\n",
      "6\n"
     ]
    }
   ],
   "source": [
    "# codeFestival_1. 38번\n",
    "\n",
    "lst = list(map(int, input().split()))\n",
    "lst.sort(reverse=True)\n",
    "rst, ans, n = 0, 0, 0\n",
    "while ans < 4:\n",
    "    if n == lst[rst]:\n",
    "        rst += 1\n",
    "    else:\n",
    "        n = lst[rst]\n",
    "        ans += 1\n",
    "        rst += 1\n",
    "print(rst-1)"
   ]
  },
  {
   "cell_type": "code",
   "execution_count": 25,
   "id": "5f850379",
   "metadata": {},
   "outputs": [
    {
     "name": "stdout",
     "output_type": "stream",
     "text": [
      "13\n",
      "1101"
     ]
    }
   ],
   "source": [
    "# codeFestival_1. 43번\n",
    "\n",
    "n = int(input())\n",
    "for i in range(10000):\n",
    "    if n < 2**i:\n",
    "        m = i\n",
    "        break\n",
    "lst = [0]*m\n",
    "level = 1\n",
    "while level <= m:\n",
    "    if n >= 2**(m-level):\n",
    "        lst[level-1] = 1\n",
    "        n -= 2**(m-level)\n",
    "    print(lst[level-1], end=\"\")\n",
    "    level += 1"
   ]
  }
 ],
 "metadata": {
  "kernelspec": {
   "display_name": "Python 3 (ipykernel)",
   "language": "python",
   "name": "python3"
  },
  "language_info": {
   "codemirror_mode": {
    "name": "ipython",
    "version": 3
   },
   "file_extension": ".py",
   "mimetype": "text/x-python",
   "name": "python",
   "nbconvert_exporter": "python",
   "pygments_lexer": "ipython3",
   "version": "3.10.1"
  },
  "toc": {
   "base_numbering": 1,
   "nav_menu": {},
   "number_sections": true,
   "sideBar": true,
   "skip_h1_title": false,
   "title_cell": "Table of Contents",
   "title_sidebar": "Contents",
   "toc_cell": false,
   "toc_position": {},
   "toc_section_display": true,
   "toc_window_display": false
  }
 },
 "nbformat": 4,
 "nbformat_minor": 5
}
