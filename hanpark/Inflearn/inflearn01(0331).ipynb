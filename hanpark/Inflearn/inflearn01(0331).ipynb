{
 "cells": [
  {
   "cell_type": "code",
   "execution_count": 4,
   "id": "d43f62c9",
   "metadata": {},
   "outputs": [
    {
     "name": "stdout",
     "output_type": "stream",
     "text": [
      "1 2 1 4\n",
      "1 2\n",
      "OK OK "
     ]
    }
   ],
   "source": [
    "# codeFestival_1. 99번\n",
    "\n",
    "lst = list(map(int, input().split()))\n",
    "rabb = list(map(int, input().split()))\n",
    "jump = [0]*len(rabb)\n",
    "def abc(level):\n",
    "    if level == len(rabb):\n",
    "        return\n",
    "    for i in range(rabb[level]-1, len(lst), rabb[level]):\n",
    "        if lst[i] == 0:\n",
    "            jump[level] = 1\n",
    "            break\n",
    "        else:\n",
    "            lst[i] -= 1\n",
    "    abc(level+1)\n",
    "abc(0)\n",
    "for i in range(len(jump)):\n",
    "    if not jump[i]:\n",
    "        print('OK', end=\" \")\n",
    "    else:\n",
    "        print('NO', end=\" \")"
   ]
  }
 ],
 "metadata": {
  "kernelspec": {
   "display_name": "Python 3 (ipykernel)",
   "language": "python",
   "name": "python3"
  },
  "language_info": {
   "codemirror_mode": {
    "name": "ipython",
    "version": 3
   },
   "file_extension": ".py",
   "mimetype": "text/x-python",
   "name": "python",
   "nbconvert_exporter": "python",
   "pygments_lexer": "ipython3",
   "version": "3.10.1"
  },
  "toc": {
   "base_numbering": 1,
   "nav_menu": {},
   "number_sections": true,
   "sideBar": true,
   "skip_h1_title": false,
   "title_cell": "Table of Contents",
   "title_sidebar": "Contents",
   "toc_cell": false,
   "toc_position": {},
   "toc_section_display": true,
   "toc_window_display": false
  }
 },
 "nbformat": 4,
 "nbformat_minor": 5
}
