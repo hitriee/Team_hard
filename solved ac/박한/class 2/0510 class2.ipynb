{
 "cells": [
  {
   "cell_type": "code",
   "execution_count": 5,
   "id": "65846ff2",
   "metadata": {},
   "outputs": [
    {
     "name": "stdout",
     "output_type": "stream",
     "text": [
      "5\n",
      "4 1 5 2 3\n",
      "5\n",
      "1 3 7 9 5\n",
      "1\n",
      "1\n",
      "0\n",
      "0\n",
      "1\n"
     ]
    }
   ],
   "source": [
    "# 백준 class 2++ 1920 수 찾기\n",
    "\n",
    "n = int(input())\n",
    "lst1 = list(map(int, input().split()))\n",
    "lst1.sort()\n",
    "m = int(input())\n",
    "lst2 = list(map(int, input().split()))\n",
    "for i in range(m):\n",
    "    ans = 0\n",
    "    start = 0\n",
    "    end = n-1\n",
    "    while start <= end:\n",
    "        mid = (start+end)//2\n",
    "        if lst1[mid] == lst2[i]:\n",
    "            ans = 1\n",
    "            break\n",
    "        elif lst1[mid] > lst2[i]:\n",
    "            end = mid - 1\n",
    "        else:\n",
    "            start = mid + 1\n",
    "    print(ans)"
   ]
  }
 ],
 "metadata": {
  "kernelspec": {
   "display_name": "Python 3 (ipykernel)",
   "language": "python",
   "name": "python3"
  },
  "language_info": {
   "codemirror_mode": {
    "name": "ipython",
    "version": 3
   },
   "file_extension": ".py",
   "mimetype": "text/x-python",
   "name": "python",
   "nbconvert_exporter": "python",
   "pygments_lexer": "ipython3",
   "version": "3.10.4"
  },
  "toc": {
   "base_numbering": 1,
   "nav_menu": {},
   "number_sections": true,
   "sideBar": true,
   "skip_h1_title": false,
   "title_cell": "Table of Contents",
   "title_sidebar": "Contents",
   "toc_cell": false,
   "toc_position": {},
   "toc_section_display": true,
   "toc_window_display": false
  }
 },
 "nbformat": 4,
 "nbformat_minor": 5
}
