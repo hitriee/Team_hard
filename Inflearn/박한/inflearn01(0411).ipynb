{
 "cells": [
  {
   "cell_type": "code",
   "execution_count": 9,
   "id": "f70a7018",
   "metadata": {},
   "outputs": [
    {
     "name": "stdout",
     "output_type": "stream",
     "text": [
      "20190923"
     ]
    }
   ],
   "source": [
    "# codeFestival_2. 62번\n",
    "\n",
    "lst = ['U', 'T', 'A', 'J', 'X']\n",
    "for i in range(5):\n",
    "    print(ord(lst[i])-ord('A'), end=\"\")"
   ]
  },
  {
   "cell_type": "code",
   "execution_count": 5,
   "id": "25b9ed57",
   "metadata": {},
   "outputs": [
    {
     "name": "stdout",
     "output_type": "stream",
     "text": [
      "12:30 13:20 14:13\n",
      "12:40\n",
      "지나갔습니다 0시간 40분 1시간 33분 "
     ]
    }
   ],
   "source": [
    "# codeFestival_2. 68번\n",
    "\n",
    "lst = list(input().split())\n",
    "n = input()\n",
    "for i in range(len(lst)):\n",
    "    if int(lst[i][:2]) < int(n[:2]):\n",
    "        print(\"지나갔습니다\", end=\" \")\n",
    "    elif int(lst[i][:2]) == int(n[:2]):\n",
    "        if int(lst[i][3:]) < int(n[3:]):\n",
    "            print(\"지나갔습니다\", end=\" \")\n",
    "        else:\n",
    "            print(f\"0시간 {int(lst[i][3:])-int(n[3:])}분\", end=\" \")\n",
    "    else:\n",
    "        if int(lst[i][3:]) < int(n[3:]):\n",
    "            print(f\"{int(lst[i][:2])-int(n[:2])-1}시간 {60 + int(lst[i][3:])-int(n[3:])}분\", end=\" \")\n",
    "        else:\n",
    "            print(f\"{int(lst[i][:2])-int(n[:2])}시간 {int(lst[i][3:])-int(n[3:])}분\", end=\" \")"
   ]
  }
 ],
 "metadata": {
  "kernelspec": {
   "display_name": "Python 3 (ipykernel)",
   "language": "python",
   "name": "python3"
  },
  "language_info": {
   "codemirror_mode": {
    "name": "ipython",
    "version": 3
   },
   "file_extension": ".py",
   "mimetype": "text/x-python",
   "name": "python",
   "nbconvert_exporter": "python",
   "pygments_lexer": "ipython3",
   "version": "3.10.1"
  },
  "toc": {
   "base_numbering": 1,
   "nav_menu": {},
   "number_sections": true,
   "sideBar": true,
   "skip_h1_title": false,
   "title_cell": "Table of Contents",
   "title_sidebar": "Contents",
   "toc_cell": false,
   "toc_position": {},
   "toc_section_display": true,
   "toc_window_display": false
  }
 },
 "nbformat": 4,
 "nbformat_minor": 5
}
