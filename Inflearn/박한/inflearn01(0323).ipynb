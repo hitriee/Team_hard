{
 "cells": [
  {
   "cell_type": "code",
   "execution_count": 3,
   "id": "5f0c9cc5",
   "metadata": {},
   "outputs": [
    {
     "name": "stdout",
     "output_type": "stream",
     "text": [
      "0 1 0 0 0\n",
      "0 0 0 0 0\n",
      "0 0 0 1 0\n",
      "0 0 1 0 0\n",
      "0 0 0 0 0\n",
      "* f * 0 0 \n",
      "0 * 0 * 0 \n",
      "0 0 * f * \n",
      "0 * f * 0 \n",
      "0 0 * 0 0 \n"
     ]
    }
   ],
   "source": [
    "# codeFestival_1. 81번\n",
    "\n",
    "arr = [list(map(int, input().split())) for _ in range(5)]\n",
    "lst = []\n",
    "for i in range(5):\n",
    "    for j in range(5):\n",
    "        if arr[i][j] == 1:\n",
    "            arr[i][j] = 'f'\n",
    "            lst.append([i, j])\n",
    "def abc(y, x):\n",
    "    directy = [-1, 1, 0, 0]\n",
    "    directx = [0, 0, -1, 1]\n",
    "    for i in range(4):\n",
    "        dy = y + directy[i]\n",
    "        dx = x + directx[i]\n",
    "        if dy < 0 or dy > 4 or dx < 0 or dx > 4:\n",
    "            continue\n",
    "        if arr[dy][dx] == 'f':\n",
    "            continue\n",
    "        arr[dy][dx] = '*'\n",
    "        \n",
    "for i in range(3):\n",
    "    abc(lst[i][0], lst[i][1])\n",
    "for i in range(5):\n",
    "    for j in range(5):\n",
    "        print(arr[i][j], end=\" \")\n",
    "    print()"
   ]
  },
  {
   "cell_type": "code",
   "execution_count": 11,
   "id": "4655a0e4",
   "metadata": {},
   "outputs": [
    {
     "name": "stdout",
     "output_type": "stream",
     "text": [
      "1723\n",
      "2\n",
      "73\n"
     ]
    }
   ],
   "source": [
    "# codeFestival_1. 84번\n",
    "\n",
    "n = int(input())\n",
    "k = int(input())\n",
    "lst = list(str(n))\n",
    "rst = ''\n",
    "Max = 0\n",
    "used = [0]*len(lst)\n",
    "def abc(level, start):\n",
    "    global rst, Max\n",
    "    if level == k:\n",
    "        if int(rst) > Max:\n",
    "            Max = int(rst)\n",
    "        return\n",
    "    for i in range(start, len(lst)):\n",
    "        if used[i] == 0:\n",
    "            used[i] = 1\n",
    "            a = rst\n",
    "            rst += lst[i]\n",
    "            abc(level+1, start+1)\n",
    "            rst = a\n",
    "            used[i] = 0\n",
    "abc(0, 0)\n",
    "print(Max)"
   ]
  }
 ],
 "metadata": {
  "kernelspec": {
   "display_name": "Python 3 (ipykernel)",
   "language": "python",
   "name": "python3"
  },
  "language_info": {
   "codemirror_mode": {
    "name": "ipython",
    "version": 3
   },
   "file_extension": ".py",
   "mimetype": "text/x-python",
   "name": "python",
   "nbconvert_exporter": "python",
   "pygments_lexer": "ipython3",
   "version": "3.10.1"
  },
  "toc": {
   "base_numbering": 1,
   "nav_menu": {},
   "number_sections": true,
   "sideBar": true,
   "skip_h1_title": false,
   "title_cell": "Table of Contents",
   "title_sidebar": "Contents",
   "toc_cell": false,
   "toc_position": {},
   "toc_section_display": true,
   "toc_window_display": false
  }
 },
 "nbformat": 4,
 "nbformat_minor": 5
}
