{
 "cells": [
  {
   "cell_type": "code",
   "execution_count": 3,
   "id": "5a917495",
   "metadata": {},
   "outputs": [
    {
     "name": "stdout",
     "output_type": "stream",
     "text": [
      "7 9 3\n",
      "9\n"
     ]
    }
   ],
   "source": [
    "# 백준 브론즈4 13136번\n",
    "# 좌석의 세로 크기, 가로 크기, 한 CCTV가 수용 가능한 범위가 주어질 때 CCTV 필요 개수는?\n",
    "\n",
    "R, C, N = map(int, input().split())\n",
    "import math\n",
    "ans = math.ceil(R/N) * math.ceil(C/N)\n",
    "print(ans)"
   ]
  },
  {
   "cell_type": "code",
   "execution_count": 10,
   "id": "9ef76220",
   "metadata": {},
   "outputs": [
    {
     "name": "stdout",
     "output_type": "stream",
     "text": [
      "45 8 7\n",
      "N\n"
     ]
    }
   ],
   "source": [
    "# 백준 브론즈4 13580번\n",
    "# 세 수 입력받아서 두 개 조합 vs 한 개 or 각 한 개 조합이 같으면 S, 아니면 N\n",
    "\n",
    "lst = list(map(int, input().split()))\n",
    "for i in range(len(lst)):\n",
    "    for j in range(i+1, len(lst)):\n",
    "        if lst[i] < lst[j]:\n",
    "            lst[i], lst[j] = lst[j], lst[i]\n",
    "if lst[0] == lst[1]+lst[2]:\n",
    "    print(\"S\")\n",
    "elif lst[0]==lst[1] or lst[1]==lst[2]:\n",
    "    print(\"S\")\n",
    "else:\n",
    "    print(\"N\")"
   ]
  },
  {
   "cell_type": "code",
   "execution_count": 12,
   "id": "e453d137",
   "metadata": {},
   "outputs": [
    {
     "name": "stdout",
     "output_type": "stream",
     "text": [
      "10 10\n",
      "10\n"
     ]
    }
   ],
   "source": [
    "# 백준 브론즈4 13597번\n",
    "# 13 * 4세트 카드 게임. 3장 세트는 2장의 쌍을 이기고, 조합이 같으면 더 가치 높은 카드면 이김\n",
    "# 승리할 확률을 최대화하는 카드 값을 나타내는 정수?\n",
    "\n",
    "A, B = map(int, input().split())\n",
    "if A>B:\n",
    "    print(A)\n",
    "else:\n",
    "    print(B)"
   ]
  },
  {
   "cell_type": "code",
   "execution_count": 17,
   "id": "38ffd36e",
   "metadata": {},
   "outputs": [
    {
     "name": "stdout",
     "output_type": "stream",
     "text": [
      "6875 7109\n",
      "31\n"
     ]
    }
   ],
   "source": [
    "# 백준 브론즈4 13610번\n",
    "\n",
    "X, Y = map(int, input().split())\n",
    "rst = 1\n",
    "while 1:\n",
    "    if rst*Y - rst*X >= Y:\n",
    "        break\n",
    "    rst += 1\n",
    "print(rst)"
   ]
  },
  {
   "cell_type": "code",
   "execution_count": 14,
   "id": "72fb71f8",
   "metadata": {},
   "outputs": [
    {
     "name": "stdout",
     "output_type": "stream",
     "text": [
      "4 7 10 20\n",
      "7\n"
     ]
    }
   ],
   "source": [
    "# 백준 브론즈4 13866번\n",
    "# 4명의 스킬 레벨(높을수록 좋음). 두 수의 합의 차이가 가장 적으려면?\n",
    "\n",
    "lst = list(map(int, input().split()))\n",
    "for i in range(len(lst)):\n",
    "    for j in range(i+1, len(lst)):\n",
    "        if lst[i] < lst[j]:\n",
    "            lst[i], lst[j] = lst[j], lst[i]\n",
    "ans = abs(lst[0]+lst[3]-lst[1]-lst[2])\n",
    "print(ans)"
   ]
  }
 ],
 "metadata": {
  "kernelspec": {
   "display_name": "Python 3 (ipykernel)",
   "language": "python",
   "name": "python3"
  },
  "language_info": {
   "codemirror_mode": {
    "name": "ipython",
    "version": 3
   },
   "file_extension": ".py",
   "mimetype": "text/x-python",
   "name": "python",
   "nbconvert_exporter": "python",
   "pygments_lexer": "ipython3",
   "version": "3.10.1"
  },
  "toc": {
   "base_numbering": 1,
   "nav_menu": {},
   "number_sections": true,
   "sideBar": true,
   "skip_h1_title": false,
   "title_cell": "Table of Contents",
   "title_sidebar": "Contents",
   "toc_cell": false,
   "toc_position": {},
   "toc_section_display": true,
   "toc_window_display": false
  }
 },
 "nbformat": 4,
 "nbformat_minor": 5
}
