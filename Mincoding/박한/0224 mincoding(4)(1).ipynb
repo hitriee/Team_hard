{
 "cells": [
  {
   "cell_type": "code",
   "execution_count": 2,
   "id": "4b3bff8c",
   "metadata": {},
   "outputs": [
    {
     "name": "stdout",
     "output_type": "stream",
     "text": [
      "3 5 2 6 7\n",
      "3 5 2 6 7 "
     ]
    }
   ],
   "source": [
    "# 민코딩 훈련반1 Level 4 - 문제 1번 : 입력값을 배열에 넣고 그대로 출력하기\n",
    "\n",
    "lst = list(map(int, input().split()))\n",
    "for i in range(len(lst)):\n",
    "    print(lst[i], end=' ')"
   ]
  },
  {
   "cell_type": "code",
   "execution_count": 4,
   "id": "bae7a566",
   "metadata": {},
   "outputs": [
    {
     "name": "stdout",
     "output_type": "stream",
     "text": [
      "3\n",
      "3번index의값은6입니다\n"
     ]
    }
   ],
   "source": [
    "# 민코딩 훈련반1 Level 4 - 문제 2번 : 인덱스의 값 출력\n",
    "\n",
    "lst = [4, 1, 3, 6, 9]\n",
    "n = int(input())\n",
    "print(f\"{n}번index의값은{lst[n]}입니다\")"
   ]
  },
  {
   "cell_type": "code",
   "execution_count": 6,
   "id": "aed6a0db",
   "metadata": {},
   "outputs": [
    {
     "name": "stdout",
     "output_type": "stream",
     "text": [
      "4 5 7 8 9 10 11\n",
      "15\n"
     ]
    }
   ],
   "source": [
    "# 민코딩 훈련반1 Level 4 - 문제 3번 : 처음과 끝\n",
    "\n",
    "lst = list(map(int, input().split()))\n",
    "print(lst[0]+lst[-1])"
   ]
  },
  {
   "cell_type": "code",
   "execution_count": 7,
   "id": "3a165f71",
   "metadata": {},
   "outputs": [
    {
     "name": "stdout",
     "output_type": "stream",
     "text": [
      "3\n",
      "8 8 8 8 8 "
     ]
    }
   ],
   "source": [
    "# 민코딩 훈련반1 Level 4 - 문제 4번 : 플러스 알파\n",
    "\n",
    "n = int(input())\n",
    "m = n+5\n",
    "arr = [m]*5\n",
    "for i in range(5):\n",
    "    print(arr[i], end=\" \")"
   ]
  },
  {
   "cell_type": "code",
   "execution_count": 8,
   "id": "e2c5799d",
   "metadata": {},
   "outputs": [
    {
     "name": "stdout",
     "output_type": "stream",
     "text": [
      "2 4\n",
      "8\n"
     ]
    }
   ],
   "source": [
    "# 민코딩 훈련반1 Level 4 - 문제 5번 : a와 b의 합\n",
    "\n",
    "arr = [3, 4, 1, 6, 7, 5]\n",
    "a, b = map(int, input().split())\n",
    "print(arr[a]+arr[b])"
   ]
  },
  {
   "cell_type": "code",
   "execution_count": 9,
   "id": "45bb44ce",
   "metadata": {},
   "outputs": [
    {
     "name": "stdout",
     "output_type": "stream",
     "text": [
      "1\n",
      "ㅠㅠ\n"
     ]
    }
   ],
   "source": [
    "# 민코딩 훈련반1 Level 4 - 문제 6번 : 우와,유유\n",
    "\n",
    "lst = [3, 1, 2, 5]\n",
    "n = int(input())\n",
    "if lst[n]>2:\n",
    "    print(\"우와\")\n",
    "else:\n",
    "    print(\"ㅠㅠ\")"
   ]
  }
 ],
 "metadata": {
  "kernelspec": {
   "display_name": "Python 3 (ipykernel)",
   "language": "python",
   "name": "python3"
  },
  "language_info": {
   "codemirror_mode": {
    "name": "ipython",
    "version": 3
   },
   "file_extension": ".py",
   "mimetype": "text/x-python",
   "name": "python",
   "nbconvert_exporter": "python",
   "pygments_lexer": "ipython3",
   "version": "3.10.1"
  },
  "toc": {
   "base_numbering": 1,
   "nav_menu": {},
   "number_sections": true,
   "sideBar": true,
   "skip_h1_title": false,
   "title_cell": "Table of Contents",
   "title_sidebar": "Contents",
   "toc_cell": false,
   "toc_position": {},
   "toc_section_display": true,
   "toc_window_display": false
  }
 },
 "nbformat": 4,
 "nbformat_minor": 5
}
