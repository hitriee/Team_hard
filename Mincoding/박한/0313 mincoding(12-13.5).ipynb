{
 "cells": [
  {
   "cell_type": "code",
   "execution_count": 1,
   "id": "5a528a05",
   "metadata": {},
   "outputs": [
    {
     "name": "stdout",
     "output_type": "stream",
     "text": [
      "MINCODING\n",
      "MINCODING\n",
      "MINCODING\n",
      "MINCODING\n",
      "MINCODING\n",
      "MINCODING\n"
     ]
    }
   ],
   "source": [
    "# 민코딩 훈련반1 Level 12 - 문제 1번 : 문장 입력받고 출력하기\n",
    "\n",
    "a = input()\n",
    "for i in range(5):\n",
    "    print(a)"
   ]
  },
  {
   "cell_type": "code",
   "execution_count": 2,
   "id": "72e1a90a",
   "metadata": {},
   "outputs": [
    {
     "name": "stdout",
     "output_type": "stream",
     "text": [
      "ABCD\n",
      "BBQ\n",
      "4 3\n"
     ]
    }
   ],
   "source": [
    "# 민코딩 훈련반1 Level 12 - 문제 2번 : 두 문장의 길이는?\n",
    "\n",
    "a = list(input())\n",
    "b = list(input())\n",
    "print(len(a), len(b))"
   ]
  },
  {
   "cell_type": "code",
   "execution_count": 3,
   "id": "f9d9ab61",
   "metadata": {},
   "outputs": [
    {
     "name": "stdout",
     "output_type": "stream",
     "text": [
      "4\n",
      "4444\n",
      "3333\n",
      "2222\n",
      "1111\n"
     ]
    }
   ],
   "source": [
    "# 민코딩 훈련반1 Level 12 - 문제 3번 : 네 줄 카운트다운\n",
    "\n",
    "n = int(input())\n",
    "for i in range(n, n-4, -1):\n",
    "    for j in range(4):\n",
    "        print(i, end=\"\")\n",
    "    print()"
   ]
  },
  {
   "cell_type": "code",
   "execution_count": 5,
   "id": "46054699",
   "metadata": {},
   "outputs": [
    {
     "name": "stdout",
     "output_type": "stream",
     "text": [
      "4\n",
      "123\n",
      "123\n",
      "123\n",
      "123\n"
     ]
    }
   ],
   "source": [
    "# 민코딩 훈련반1 Level 12 - 문제 4번 : one two three 빌딩\n",
    "\n",
    "n = int(input())\n",
    "for i in range(n):\n",
    "    for j in range(1, 4):\n",
    "        print(j, end=\"\")\n",
    "    print()"
   ]
  },
  {
   "cell_type": "code",
   "execution_count": 6,
   "id": "ce268e35",
   "metadata": {},
   "outputs": [
    {
     "name": "stdout",
     "output_type": "stream",
     "text": [
      "1\n",
      "  12\n",
      " 345\n",
      "6789\n"
     ]
    }
   ],
   "source": [
    "# 민코딩 훈련반1 Level 12 - 문제 5번 : 중첩 for문 활용하기\n",
    "\n",
    "n = int(input())\n",
    "arr = [['']*4 for _ in range(3)]\n",
    "for i in range(3):\n",
    "    for j in range(4):\n",
    "        if i+j >= 2:\n",
    "            arr[i][j] = n+(j-2)+(i*(i+5))//2\n",
    "            print(arr[i][j], end=\"\")\n",
    "        else:\n",
    "            print(\" \", end=\"\")\n",
    "    print()"
   ]
  },
  {
   "cell_type": "code",
   "execution_count": 12,
   "id": "07359583",
   "metadata": {},
   "outputs": [
    {
     "name": "stdout",
     "output_type": "stream",
     "text": [
      "M\n",
      "S\n",
      "T\n",
      "M=0\n",
      "S=6\n",
      "T=7\n"
     ]
    }
   ],
   "source": [
    "# 민코딩 훈련반1 Level 12 - 문제 6번 : 문자의 위치를 구해주는 함수 만들기\n",
    "\n",
    "lst = ['M', 'I', 'N', 'Q', 'U', 'E', 'S', 'T']\n",
    "def Length(a):\n",
    "    for i in range(len(lst)):\n",
    "        if lst[i] == a:\n",
    "            print(f\"{a}={i}\")\n",
    "            break\n",
    "lst1 = [input() for _ in range(3)]\n",
    "for n in range(3):\n",
    "    Length(lst1[n])"
   ]
  },
  {
   "cell_type": "code",
   "execution_count": 14,
   "id": "d2a9dfd3",
   "metadata": {},
   "outputs": [
    {
     "name": "stdout",
     "output_type": "stream",
     "text": [
      "ABCAA12341\n",
      "A\n",
      "1\n",
      "C\n",
      "A=3\n",
      "1=2\n",
      "C=1\n"
     ]
    }
   ],
   "source": [
    "# 민코딩 훈련반1 Level 12 - 문제 7번 : 문장에서 세 문자 Counting\n",
    "\n",
    "lst = list(input())\n",
    "def countT(a):\n",
    "    rst = 0\n",
    "    for i in range(len(lst)):\n",
    "        if lst[i] == a:\n",
    "            rst += 1\n",
    "    print(f\"{a}={rst}\")\n",
    "lst1 = [input() for _ in range(3)]\n",
    "for n in range(3):\n",
    "    countT(lst1[n])"
   ]
  },
  {
   "cell_type": "code",
   "execution_count": 16,
   "id": "9ecafb0c",
   "metadata": {},
   "outputs": [
    {
     "name": "stdout",
     "output_type": "stream",
     "text": [
      "3 6\n",
      "APOW"
     ]
    }
   ],
   "source": [
    "# 민코딩 훈련반1 Level 12 - 문제 8번 : 범위 내 문자들 따로 빼두기\n",
    "\n",
    "lst = ['D', 'A', 'T', 'A', 'P', 'O', 'W', 'E', 'R']\n",
    "a, b = map(int, input().split())\n",
    "lst1 = ['']*9\n",
    "for i in range(a, b+1):\n",
    "    lst1[i-a] = lst[i]\n",
    "    print(lst1[i-a], end=\"\")"
   ]
  },
  {
   "cell_type": "code",
   "execution_count": 24,
   "id": "f79fdcd8",
   "metadata": {},
   "outputs": [
    {
     "name": "stdout",
     "output_type": "stream",
     "text": [
      "0\n",
      "654\n",
      " 32\n",
      "  1\n"
     ]
    }
   ],
   "source": [
    "# 민코딩 훈련반1 Level 12 - 문제 9번 : 중첩 2중For문으로 배열 채우기\n",
    "\n",
    "arr = [[0]*3 for _ in range(3)]\n",
    "a = input()\n",
    "if ord('A') <= ord(a) <= ord('Z'):\n",
    "    for i in range(3):\n",
    "        for j in range(3):\n",
    "            if j > i:\n",
    "                print(\" \", end=\"\")\n",
    "            else:\n",
    "                arr[i][j] = j+1+((2-i)*(i+5))//2\n",
    "                print(arr[i][j], end=\"\")\n",
    "        print()\n",
    "else:\n",
    "    for i in range(3):\n",
    "        for j in range(3):\n",
    "            if i > j:\n",
    "                print(\" \", end=\"\")\n",
    "            else:\n",
    "                arr[i][j] = (3-j)+((2-i)*(3-i))//2\n",
    "                print(arr[i][j], end=\"\") \n",
    "        print()"
   ]
  },
  {
   "cell_type": "code",
   "execution_count": 21,
   "id": "17588a0e",
   "metadata": {},
   "outputs": [
    {
     "name": "stdout",
     "output_type": "stream",
     "text": [
      "5 A\n",
      "00000\n",
      "00000\n",
      "00000\n",
      "00000\n",
      "EDCBA\n"
     ]
    }
   ],
   "source": [
    "# 민코딩 훈련반1 Level 12 - 문제 10번 : 한줄로 문자 채우기\n",
    "\n",
    "n, a = input().split()\n",
    "arr = [[0]*5 for _ in range(5)]\n",
    "for i in range(5):\n",
    "    for j in range(5):\n",
    "        if i == int(n)-1:\n",
    "            arr[i][j] = chr(ord(a)+4-j)\n",
    "        print(arr[i][j], end=\"\")\n",
    "    print()"
   ]
  },
  {
   "cell_type": "code",
   "execution_count": 25,
   "id": "26e2d910",
   "metadata": {},
   "outputs": [
    {
     "name": "stdout",
     "output_type": "stream",
     "text": [
      "A\n",
      "존재\n"
     ]
    }
   ],
   "source": [
    "# 민코딩 훈련반1 Level 12.5 - 문제 3번 : 배열에서 입력받은 값 찾아내기\n",
    "\n",
    "arr = [['D', 'A', 'D'], ['Q', 'W', 'Q'], ['A', 'S', 'D'], ['A', 'S', 'D']]\n",
    "a = input()\n",
    "def find(b):\n",
    "    rst = 0\n",
    "    for i in range(4):\n",
    "        if rst != 0:\n",
    "            break\n",
    "        for j in range(3):\n",
    "            if arr[i][j] == b:\n",
    "                rst += 1\n",
    "                break\n",
    "    if not rst:\n",
    "        print(\"없음\")\n",
    "    else:\n",
    "        print(\"존재\")\n",
    "find(a)"
   ]
  },
  {
   "cell_type": "code",
   "execution_count": 26,
   "id": "10695e8e",
   "metadata": {},
   "outputs": [
    {
     "name": "stdout",
     "output_type": "stream",
     "text": [
      "5\n",
      "55555\n",
      "5___5\n",
      "5___5\n",
      "5___5\n",
      "55555\n"
     ]
    }
   ],
   "source": [
    "# 민코딩 훈련반1 Level 12.5 - 문제 4번 : 테두리 채우기\n",
    "\n",
    "arr = [[0]*5 for _ in range(5)]\n",
    "n = int(input())\n",
    "for i in range(5):\n",
    "    for j in range(5):\n",
    "        if 1<=i<=3 and 1<=j<=3:\n",
    "            arr[i][j] = '_'\n",
    "        else:\n",
    "            arr[i][j] = n\n",
    "        print(arr[i][j], end=\"\")\n",
    "    print()"
   ]
  },
  {
   "cell_type": "code",
   "execution_count": 33,
   "id": "0a87a272",
   "metadata": {},
   "outputs": [
    {
     "name": "stdout",
     "output_type": "stream",
     "text": [
      "0 0\n",
      "0 0\n",
      "0 0\n",
      "1 1\n",
      "1 2\n",
      "75454\n",
      "80998\n",
      "12121\n",
      "45454\n",
      "67676\n"
     ]
    }
   ],
   "source": [
    "# 민코딩 훈련반1 Level 12.5 - 문제 5번 : 마법의 현황판\n",
    "\n",
    "arr = [[4, 5, 4, 5, 4], [8, 9, 8, 9, 8], [1, 2, 1, 2, 1], [4, 5, 4, 5, 4], [6, 7, 6, 7, 6]]\n",
    "lst = [list(map(int, input().split())) for _ in range(5)]\n",
    "for i in range(5):\n",
    "    if arr[lst[i][0]][lst[i][1]] == 9:\n",
    "        arr[lst[i][0]][lst[i][1]] = 0\n",
    "    else:\n",
    "        arr[lst[i][0]][lst[i][1]] += 1\n",
    "for i in range(5):\n",
    "    for j in range(5):\n",
    "        print(arr[i][j], end=\"\")\n",
    "    print()"
   ]
  },
  {
   "cell_type": "code",
   "execution_count": 35,
   "id": "a3c57824",
   "metadata": {},
   "outputs": [
    {
     "name": "stdout",
     "output_type": "stream",
     "text": [
      "HarryPotter\n",
      "11\n",
      "3\n"
     ]
    }
   ],
   "source": [
    "# 민코딩 훈련반1 Level 12.5 - 문제 6번 : 문장의 길이 구하기2\n",
    "\n",
    "lst = list(input())\n",
    "a = lst[-1]\n",
    "rst = 0\n",
    "for i in range(len(lst)):\n",
    "    if lst[i] == a:\n",
    "        rst += 1\n",
    "print(len(lst))\n",
    "print(rst)"
   ]
  },
  {
   "cell_type": "code",
   "execution_count": 37,
   "id": "74fc88bc",
   "metadata": {},
   "outputs": [
    {
     "name": "stdout",
     "output_type": "stream",
     "text": [
      "bbq\n",
      "mincodinng\n",
      "bbq\n",
      "mincodinng"
     ]
    }
   ],
   "source": [
    "# 민코딩 훈련반1 Level 12.5 - 문제 7번 : 가장 긴 문장을 찾아내기\n",
    "\n",
    "[a, b, c] = [list(input()) for _ in range(3)]\n",
    "if len(a) >= len(b) and len(a) >= len(c):\n",
    "    for i in range(len(a)):\n",
    "        print(a[i], end=\"\")\n",
    "else:\n",
    "    if len(b) >= len(c):\n",
    "        for i in range(len(b)):\n",
    "            print(b[i], end=\"\")\n",
    "    else:\n",
    "        for i in range(len(c)):\n",
    "            print(c[i], end=\"\")"
   ]
  },
  {
   "cell_type": "code",
   "execution_count": 39,
   "id": "8944bc71",
   "metadata": {},
   "outputs": [
    {
     "name": "stdout",
     "output_type": "stream",
     "text": [
      "1\n",
      "001\n",
      "023\n",
      "456\n"
     ]
    }
   ],
   "source": [
    "# 민코딩 훈련반1 Level 12.5 - 문제 8번 : 중첩 2중으로 배열 채우기\n",
    "\n",
    "arr = [[0]*3 for _ in range(3)]\n",
    "n = int(input())\n",
    "for i in range(3):\n",
    "    for j in range(3):\n",
    "        if i+j >= 2:\n",
    "            arr[i][j] = n+(i*(i+3))//2+(j-2)\n",
    "        print(arr[i][j], end=\"\")\n",
    "    print()"
   ]
  },
  {
   "cell_type": "code",
   "execution_count": 41,
   "id": "6c01410a",
   "metadata": {},
   "outputs": [
    {
     "name": "stdout",
     "output_type": "stream",
     "text": [
      "R C\n",
      "C\n"
     ]
    }
   ],
   "source": [
    "# 민코딩 훈련반1 Level 13 - 문제 1번 : 두 사람\n",
    "\n",
    "def main():\n",
    "    a, b = getName()\n",
    "    if ord(a) > ord(b):\n",
    "        print(b)\n",
    "    else:\n",
    "        print(a)\n",
    "def getName():\n",
    "    c, d = input().split()\n",
    "    return c, d\n",
    "main()"
   ]
  },
  {
   "cell_type": "code",
   "execution_count": 42,
   "id": "527bb5a4",
   "metadata": {},
   "outputs": [
    {
     "name": "stdout",
     "output_type": "stream",
     "text": [
      "20\n",
      "16 23 40\n"
     ]
    }
   ],
   "source": [
    "# 민코딩 훈련반1 Level 13 - 문제 2번 : Call by reference 저주의 점술사\n",
    "\n",
    "def main():\n",
    "    n = int(input())\n",
    "    a, b, c = moom(n)\n",
    "    print(a, b, c)\n",
    "def moom(m):\n",
    "    o = m-4\n",
    "    p = m+3\n",
    "    q = m*2\n",
    "    return o, p, q\n",
    "main()"
   ]
  },
  {
   "cell_type": "code",
   "execution_count": 44,
   "id": "b21f8b04",
   "metadata": {},
   "outputs": [
    {
     "name": "stdout",
     "output_type": "stream",
     "text": [
      "bbqworld\n",
      "8글자\n"
     ]
    }
   ],
   "source": [
    "# 민코딩 훈련반1 Level 13 - 문제 3번 : 배열 전달하기\n",
    "\n",
    "def main():\n",
    "    lst = list(input())\n",
    "    a = strLen(lst)\n",
    "    print(f\"{a}글자\")\n",
    "def strLen(b):\n",
    "    return len(b)\n",
    "main()"
   ]
  },
  {
   "cell_type": "code",
   "execution_count": 46,
   "id": "8d7f2bf9",
   "metadata": {},
   "outputs": [
    {
     "name": "stdout",
     "output_type": "stream",
     "text": [
      "MINcoding\n",
      "대문자3개\n",
      "소문자6개\n"
     ]
    }
   ],
   "source": [
    "# 민코딩 훈련반1 Level 13 - 문제 5번 : 문자 개수 세 주는 함수 만들기\n",
    "\n",
    "def main():\n",
    "    a, b = KFC()\n",
    "    print(f\"대문자{a}개\")\n",
    "    print(f\"소문자{b}개\")\n",
    "def KFC():\n",
    "    lst = list(input())\n",
    "    c, d = 0, 0\n",
    "    for i in range(len(lst)):\n",
    "        if ord(lst[i]) <= ord('Z'):\n",
    "            c += 1\n",
    "        else:\n",
    "            d += 1\n",
    "    return c, d\n",
    "main()"
   ]
  },
  {
   "cell_type": "code",
   "execution_count": 48,
   "id": "5913c7bd",
   "metadata": {},
   "outputs": [
    {
     "name": "stdout",
     "output_type": "stream",
     "text": [
      "1 2 3\n",
      "1=3개\n",
      "2=1개\n",
      "3=3개\n"
     ]
    }
   ],
   "source": [
    "# 민코딩 훈련반1 Level 13 - 문제 6번 : 좋아하는 숫자 찾기\n",
    "\n",
    "arr = [[4, 5, 6, 1, 3, 1], [2, 1, 3, 6, 3, 6]]\n",
    "def main():\n",
    "    a, b, c = inputt()\n",
    "    d, e, f = process(a, b, c)\n",
    "    outputt(a, b, c, d, e, f)\n",
    "def inputt():\n",
    "    o, p, q = map(int, input().split())\n",
    "    return o, p, q\n",
    "def process(l, m, n):\n",
    "    o, p, q = 0, 0, 0\n",
    "    for i in range(2):\n",
    "        for j in range(6):\n",
    "            if arr[i][j] == l:\n",
    "                o += 1\n",
    "            elif arr[i][j] == m:\n",
    "                p += 1\n",
    "            elif arr[i][j] == n:\n",
    "                q += 1\n",
    "    return o, p, q\n",
    "def outputt(a, b, c, d, e, f):\n",
    "    print(f\"{a}={d}개\")\n",
    "    print(f\"{b}={e}개\")\n",
    "    print(f\"{c}={f}개\")\n",
    "main()"
   ]
  },
  {
   "cell_type": "code",
   "execution_count": 49,
   "id": "706c743e",
   "metadata": {},
   "outputs": [
    {
     "name": "stdout",
     "output_type": "stream",
     "text": [
      "F\n",
      "0,2\n"
     ]
    }
   ],
   "source": [
    "# 민코딩 훈련반1 Level 13 - 문제 7번 : 좌표값 찾아주는 함수 만들기\n",
    "\n",
    "arr = [['A', 'D', 'F'], ['Q', 'W', 'E'], ['Z', 'X', 'C']]\n",
    "def main():\n",
    "    a = input()\n",
    "    b, c = find(a)\n",
    "    print(f\"{b},{c}\")\n",
    "def find(n):\n",
    "    d, e = 0, 0\n",
    "    for i in range(3):\n",
    "        if d != 0:\n",
    "            break\n",
    "        for j in range(3):\n",
    "            if arr[i][j] == n:\n",
    "                d, e = i, j\n",
    "                break\n",
    "    return d, e\n",
    "main()"
   ]
  },
  {
   "cell_type": "code",
   "execution_count": 52,
   "id": "e6e9759e",
   "metadata": {},
   "outputs": [
    {
     "name": "stdout",
     "output_type": "stream",
     "text": [
      "3 5 1 2 7\n",
      "두배열은완전같음\n"
     ]
    }
   ],
   "source": [
    "# 민코딩 훈련반1 Level 13 - 문제 8번 : 두 배열이 완전히 똑같은지 비교하기\n",
    "\n",
    "def main():\n",
    "    lst1 = [3, 5, 1, 2, 7]\n",
    "    lst2 = list(map(int, input().split()))\n",
    "    comparego(lst1, lst2)\n",
    "def comparego(a, b):\n",
    "    rst = 0\n",
    "    for i in range(len(a)):\n",
    "        if a[i] != b[i]:\n",
    "            print(\"두배열은같지않음\")\n",
    "            break\n",
    "        else:\n",
    "            rst += 1\n",
    "    if rst == len(a):\n",
    "        print(\"두배열은완전같음\")\n",
    "main()"
   ]
  },
  {
   "cell_type": "code",
   "execution_count": 56,
   "id": "e950f6ba",
   "metadata": {},
   "outputs": [
    {
     "name": "stdout",
     "output_type": "stream",
     "text": [
      "B E\n",
      "6\n"
     ]
    }
   ],
   "source": [
    "# 민코딩 훈련반1 Level 13.5 - 문제 2번 : 너와 나의 거리 구하기\n",
    "\n",
    "lst = [4, 2, 5, 1, 6, 7, 3]\n",
    "a, b  = input().split()\n",
    "rst = 0\n",
    "if ord(a) > ord(b):\n",
    "    for i in range(ord(b)-ord('A')+1, ord(a)-ord('A')):\n",
    "        rst += lst[i]\n",
    "else:\n",
    "    for i in range(ord(a)-ord('A')+1, ord(b)-ord('A')):\n",
    "        rst += lst[i]\n",
    "print(rst)"
   ]
  },
  {
   "cell_type": "code",
   "execution_count": 57,
   "id": "21803423",
   "metadata": {},
   "outputs": [
    {
     "name": "stdout",
     "output_type": "stream",
     "text": [
      "3 5 1 2 7\n",
      "1 2 1 5 9\n",
      "7 7 9 5 4\n",
      "10 17 10 15 67 "
     ]
    }
   ],
   "source": [
    "# 민코딩 훈련반1 Level 13.5 - 문제 3번 : 각각 계산하기\n",
    "\n",
    "[A, B, C] = [list(map(int, input().split())) for _ in range(3)]\n",
    "D = [0]*5\n",
    "for i in range(5):\n",
    "    D[i] = A[i]*B[i]+C[i]\n",
    "    print(D[i], end=\" \")"
   ]
  },
  {
   "cell_type": "code",
   "execution_count": 60,
   "id": "4e9e7e44",
   "metadata": {},
   "outputs": [
    {
     "name": "stdout",
     "output_type": "stream",
     "text": [
      "9 0 1 1\n",
      "MAX=9(2,0)\n",
      "MIN=0(2,1)\n"
     ]
    }
   ],
   "source": [
    "# 민코딩 훈련반1 Level 13.5 - 문제 4번 : MAX, MIN의 좌표찾기\n",
    "\n",
    "arr = [[3, 4, 1, 6], [3, 5, 3, 6], [0, 0, 0, 0], [5, 4, 6, 0]]\n",
    "arr[2] = list(map(int, input().split()))\n",
    "maxx, minn = arr[0][0], arr[0][0]\n",
    "a, b, c, d = 0, 0, 0, 0\n",
    "for i in range(4):\n",
    "    for j in range(4):\n",
    "        if maxx < arr[i][j]:\n",
    "            maxx = arr[i][j]\n",
    "            a, b = i, j\n",
    "        elif minn > arr[i][j]:\n",
    "            minn = arr[i][j]\n",
    "            c, d = i, j\n",
    "print(f\"MAX={maxx}({a},{b})\")\n",
    "print(f\"MIN={minn}({c},{d})\")"
   ]
  },
  {
   "cell_type": "code",
   "execution_count": 61,
   "id": "978343a1",
   "metadata": {},
   "outputs": [
    {
     "name": "stdout",
     "output_type": "stream",
     "text": [
      "3\n",
      "G\n"
     ]
    }
   ],
   "source": [
    "# 민코딩 훈련반1 Level 13.5 - 문제 5번 : 입력받은 숫자에 해당하는 문자 출력\n",
    "\n",
    "arr = [['4', '5', '7', '1', '3', '2'], ['D', 'F' ,'Q', 'W', 'G', 'Z']]\n",
    "n = int(input())\n",
    "for i in range(6):\n",
    "    if n == int(arr[0][i]):\n",
    "        print(arr[1][i])\n",
    "        break"
   ]
  },
  {
   "cell_type": "code",
   "execution_count": 64,
   "id": "76168ae3",
   "metadata": {},
   "outputs": [
    {
     "name": "stdout",
     "output_type": "stream",
     "text": [
      "A_ShowABC\n",
      "ABCDEFG\n",
      "A:3\n",
      "B:2\n",
      "C:2\n"
     ]
    }
   ],
   "source": [
    "# 민코딩 훈련반1 Level 13.5 - 문제 6번 : A, B, C가 몇개인지 알려주는 함수 만들기\n",
    "\n",
    "def main():\n",
    "    a = list(input())\n",
    "    b = list(input())\n",
    "    l, m, n = FindABC(a, b)\n",
    "    print(f\"A:{l}\")\n",
    "    print(f\"B:{m}\")\n",
    "    print(f\"C:{n}\")\n",
    "def FindABC(c, d):\n",
    "    A, B, C = 0, 0, 0\n",
    "    for i in range(len(c)):\n",
    "        if c[i] == 'A':\n",
    "            A += 1\n",
    "        elif c[i] == 'B':\n",
    "            B += 1\n",
    "        elif c[i] == 'C':\n",
    "            C += 1\n",
    "    for j in range(len(d)):\n",
    "        if d[j] == 'A':\n",
    "            A += 1\n",
    "        elif d[j] == 'B':\n",
    "            B += 1\n",
    "        elif d[j] == 'C':\n",
    "            C += 1\n",
    "    return A, B, C\n",
    "main()"
   ]
  },
  {
   "cell_type": "code",
   "execution_count": 67,
   "id": "697bdcb9",
   "metadata": {},
   "outputs": [
    {
     "name": "stdout",
     "output_type": "stream",
     "text": [
      "0 2\n",
      "1 1\n",
      "S W\n"
     ]
    }
   ],
   "source": [
    "# 민코딩 훈련반1 Level 13.5 - 문제 7번 : 좌표를 지정하면 값 반환하기\n",
    "\n",
    "arr = [['D','A','S'], ['Q', 'W', 'V'], ['R', 'T', 'Y']]\n",
    "def main():\n",
    "    y1, x1 = map(int, input().split())\n",
    "    y2, x2 = map(int, input().split())\n",
    "    a, b = Find(y1, x1, y2, x2)\n",
    "    print(a, b)\n",
    "def Find(c, d, e, f):\n",
    "    m = arr[c][d]\n",
    "    n = arr[e][f]\n",
    "    return m, n\n",
    "main()"
   ]
  },
  {
   "cell_type": "code",
   "execution_count": 71,
   "id": "4bd5278f",
   "metadata": {},
   "outputs": [
    {
     "name": "stdout",
     "output_type": "stream",
     "text": [
      "ABCDEF\n",
      "ABCDEF\n",
      "ABCFFF\n",
      "NO\n"
     ]
    }
   ],
   "source": [
    "# 민코딩 훈련반1 Level 13.5 - 문제 8번 : 같은 이름인지 확인하기\n",
    "\n",
    "[A, B, C] = [list(input()) for _ in range(3)]\n",
    "rst = 0\n",
    "for i in range(len(A)):\n",
    "    if A[i] == B[i] == C[i]:\n",
    "        rst += 1\n",
    "    else:\n",
    "        break\n",
    "if rst == len(A):\n",
    "    print(\"YES\")\n",
    "else:\n",
    "    print(\"NO\")"
   ]
  }
 ],
 "metadata": {
  "kernelspec": {
   "display_name": "Python 3 (ipykernel)",
   "language": "python",
   "name": "python3"
  },
  "language_info": {
   "codemirror_mode": {
    "name": "ipython",
    "version": 3
   },
   "file_extension": ".py",
   "mimetype": "text/x-python",
   "name": "python",
   "nbconvert_exporter": "python",
   "pygments_lexer": "ipython3",
   "version": "3.10.1"
  },
  "toc": {
   "base_numbering": 1,
   "nav_menu": {},
   "number_sections": true,
   "sideBar": true,
   "skip_h1_title": false,
   "title_cell": "Table of Contents",
   "title_sidebar": "Contents",
   "toc_cell": false,
   "toc_position": {},
   "toc_section_display": true,
   "toc_window_display": false
  }
 },
 "nbformat": 4,
 "nbformat_minor": 5
}
