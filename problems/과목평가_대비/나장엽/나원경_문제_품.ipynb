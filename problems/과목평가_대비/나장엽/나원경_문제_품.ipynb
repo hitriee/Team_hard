{
 "cells": [
  {
   "cell_type": "code",
   "execution_count": null,
   "id": "3b95dadb",
   "metadata": {},
   "outputs": [],
   "source": [
    "문자열 슬라이싱\n",
    "\n",
    "\n",
    "letters = 'hello ssafy!'\n",
    "\n",
    "3 번째 부터 7 번째 문자를 출력하세요\n",
    "\n",
    "실행 예)\n",
    "llo s"
   ]
  },
  {
   "cell_type": "code",
   "execution_count": null,
   "id": "6bfdfc1d",
   "metadata": {},
   "outputs": [],
   "source": [
    "답 : llo s"
   ]
  },
  {
   "cell_type": "code",
   "execution_count": null,
   "id": "951fbf11",
   "metadata": {},
   "outputs": [],
   "source": [
    "문자열 인덱싱 [시작인덱스:끝인덱스:오프셋]\n",
    "\n",
    "\n",
    "아래의 문자열에서 '데'만 출력하세요.\n",
    "\n",
    "str = \"데레데레데레\"\n",
    "\n",
    "\n"
   ]
  },
  {
   "cell_type": "code",
   "execution_count": null,
   "id": "9187ea04",
   "metadata": {},
   "outputs": [],
   "source": [
    "답 : str[0::2]"
   ]
  },
  {
   "cell_type": "code",
   "execution_count": 5,
   "id": "35ca40b0",
   "metadata": {},
   "outputs": [],
   "source": [
    "# 문자열 치환\n",
    "# 아래의 전화번호에서 하이픈을 제거하고 출력하세요!\n",
    "\n",
    "number = '010-1234-5678'\n"
   ]
  },
  {
   "cell_type": "code",
   "execution_count": 7,
   "id": "5e4f7edd",
   "metadata": {},
   "outputs": [
    {
     "ename": "AttributeError",
     "evalue": "'list' object has no attribute 'split'",
     "output_type": "error",
     "traceback": [
      "\u001b[1;31m---------------------------------------------------------------------------\u001b[0m",
      "\u001b[1;31mAttributeError\u001b[0m                            Traceback (most recent call last)",
      "\u001b[1;32m~\\AppData\\Local\\Temp\\ipykernel_24788\\775561698.py\u001b[0m in \u001b[0;36m<module>\u001b[1;34m\u001b[0m\n\u001b[1;32m----> 1\u001b[1;33m \u001b[0mnumber\u001b[0m \u001b[1;33m=\u001b[0m \u001b[0mnumber\u001b[0m\u001b[1;33m.\u001b[0m\u001b[0msplit\u001b[0m\u001b[1;33m(\u001b[0m\u001b[1;34m'-'\u001b[0m\u001b[1;33m)\u001b[0m\u001b[1;33m\u001b[0m\u001b[1;33m\u001b[0m\u001b[0m\n\u001b[0m\u001b[0;32m      2\u001b[0m \u001b[0mprint\u001b[0m\u001b[1;33m(\u001b[0m\u001b[1;34m''\u001b[0m\u001b[1;33m.\u001b[0m\u001b[0mjoin\u001b[0m\u001b[1;33m(\u001b[0m\u001b[0mnumber\u001b[0m\u001b[1;33m)\u001b[0m\u001b[1;33m)\u001b[0m\u001b[1;33m\u001b[0m\u001b[1;33m\u001b[0m\u001b[0m\n",
      "\u001b[1;31mAttributeError\u001b[0m: 'list' object has no attribute 'split'"
     ]
    }
   ],
   "source": [
    "number = number.split('-')\n",
    "print(''.join(number))"
   ]
  },
  {
   "cell_type": "code",
   "execution_count": 12,
   "id": "bbbf82f8",
   "metadata": {},
   "outputs": [
    {
     "ename": "TypeError",
     "evalue": "'str' object does not support item assignment",
     "output_type": "error",
     "traceback": [
      "\u001b[1;31m---------------------------------------------------------------------------\u001b[0m",
      "\u001b[1;31mTypeError\u001b[0m                                 Traceback (most recent call last)",
      "\u001b[1;32m~\\AppData\\Local\\Temp\\ipykernel_24788\\630511963.py\u001b[0m in \u001b[0;36m<module>\u001b[1;34m\u001b[0m\n\u001b[0;32m      4\u001b[0m \u001b[1;33m\u001b[0m\u001b[0m\n\u001b[0;32m      5\u001b[0m \u001b[0mstr\u001b[0m \u001b[1;33m=\u001b[0m \u001b[1;34m'ssafy'\u001b[0m\u001b[1;33m\u001b[0m\u001b[1;33m\u001b[0m\u001b[0m\n\u001b[1;32m----> 6\u001b[1;33m \u001b[0mstr\u001b[0m\u001b[1;33m[\u001b[0m\u001b[1;36m1\u001b[0m\u001b[1;33m]\u001b[0m \u001b[1;33m=\u001b[0m \u001b[1;34m'A'\u001b[0m\u001b[1;33m\u001b[0m\u001b[1;33m\u001b[0m\u001b[0m\n\u001b[0m\u001b[0;32m      7\u001b[0m \u001b[0mprint\u001b[0m\u001b[1;33m(\u001b[0m\u001b[0mstr\u001b[0m\u001b[1;33m)\u001b[0m\u001b[1;33m\u001b[0m\u001b[1;33m\u001b[0m\u001b[0m\n",
      "\u001b[1;31mTypeError\u001b[0m: 'str' object does not support item assignment"
     ]
    }
   ],
   "source": [
    "# 문자열은 immutable\n",
    "\n",
    "# 아래 코드의 실행 결과를 예상해보세요\n",
    "\n",
    "str = 'ssafy'\n",
    "str[1] = 'A'\n",
    "print(str)"
   ]
  },
  {
   "cell_type": "code",
   "execution_count": null,
   "id": "d0914f6e",
   "metadata": {},
   "outputs": [],
   "source": [
    "sAafy"
   ]
  },
  {
   "cell_type": "code",
   "execution_count": null,
   "id": "1e648824",
   "metadata": {},
   "outputs": [],
   "source": [
    "문자열 출력\n",
    "% formatting 을 사용해서 다음과 같이 출력해라\n",
    "\n",
    "name1 = '나장엽'\n",
    "age1 = 31\n",
    "name2 = '안희재'\n",
    "age2 = 30\n",
    "\n",
    "이름: 나장엽 나이: 31\n",
    "이름: 안희재 나이: 30\n"
   ]
  },
  {
   "cell_type": "code",
   "execution_count": null,
   "id": "3cc46157",
   "metadata": {},
   "outputs": [],
   "source": [
    "print('이름: %s 나이: %d' % (name1, age1) )\n",
    "print('이름: %s 나이: %d' % (name2, age2) )"
   ]
  },
  {
   "cell_type": "code",
   "execution_count": null,
   "id": "457532ee",
   "metadata": {},
   "outputs": [],
   "source": [
    "f-string을 사용하여 위의 문제를 다시 풀어보세요\n",
    "\n",
    "name1 = '나장엽'\n",
    "age1 = 31\n",
    "name2 = '안희재'\n",
    "age2 = 30\n",
    "\n",
    "이름: 나장엽 나이: 31\n",
    "이름: 안희재 나이: 30"
   ]
  },
  {
   "cell_type": "code",
   "execution_count": null,
   "id": "d67aa334",
   "metadata": {},
   "outputs": [],
   "source": [
    "print(f'이름: {name1} 나이: {age1}')\n",
    "print(f'이름: {name2} 나이: {age2}')"
   ]
  },
  {
   "cell_type": "code",
   "execution_count": null,
   "id": "7fd923e3",
   "metadata": {},
   "outputs": [],
   "source": [
    "리스트에 원소 추가 insert(인덱스, 원소)\n",
    "\n",
    "\n",
    "twojo = ['나원경','안희재','박한','오서준']\n",
    "\n",
    "나원경과 안희재 사이에 나장엽을 추가하세요\n",
    "\n"
   ]
  },
  {
   "cell_type": "code",
   "execution_count": null,
   "id": "ea88414e",
   "metadata": {},
   "outputs": [],
   "source": [
    "twojo.insert(1, '나장엽')"
   ]
  },
  {
   "cell_type": "code",
   "execution_count": null,
   "id": "d69ac2bb",
   "metadata": {},
   "outputs": [],
   "source": [
    "join 메서드\n",
    "\n",
    "twojo = ['나원경','안희재','나장엽','오서준','박한'] \n",
    "\n",
    "아래와 같이 출력해라\n",
    "\n",
    "1. \n",
    "    나원경/안희재/나장엽/오서준/박한\n",
    "2.\n",
    "    나원경\n",
    "    안희재\n",
    "    나장엽\n",
    "    오서준\n",
    "    박한\n"
   ]
  },
  {
   "cell_type": "code",
   "execution_count": null,
   "id": "6876b315",
   "metadata": {},
   "outputs": [],
   "source": [
    "print('/'.join(twojo))\n",
    "\n",
    "for ssafy_in in twojo:\n",
    "    print(ssafy_in)"
   ]
  },
  {
   "cell_type": "code",
   "execution_count": null,
   "id": "1f618e95",
   "metadata": {},
   "outputs": [],
   "source": [
    "stock = \"lg에너지솔루션/대한항공/삼성전자/sk하이닉스\"\n",
    "\n",
    "stock 문자열을 하나의 리스트로 분리하여 저장하라\n",
    "\n"
   ]
  },
  {
   "cell_type": "code",
   "execution_count": null,
   "id": "dbf936d7",
   "metadata": {},
   "outputs": [],
   "source": [
    "lst = stock.split('/')"
   ]
  },
  {
   "cell_type": "code",
   "execution_count": null,
   "id": "97d59bc0",
   "metadata": {},
   "outputs": [],
   "source": [
    "튜플 언팩킹\n",
    "\n",
    "다음 코드의 실행 결과를 예상하라\n",
    "\n",
    "fruits = ('apple','banana','watermelon')\n",
    "a, b, c = fruits\n",
    "print(a, b, c)\n"
   ]
  },
  {
   "cell_type": "code",
   "execution_count": null,
   "id": "37a51da6",
   "metadata": {},
   "outputs": [],
   "source": [
    "apple banana watermelon"
   ]
  },
  {
   "cell_type": "code",
   "execution_count": null,
   "id": "0b45af62",
   "metadata": {},
   "outputs": [],
   "source": [
    "별 표현식\n",
    "\n",
    "다음 코드의 실행 결과를 예상하라.\n",
    "\n",
    "a, b, *c = (0,1,2,3,4,5,6)\n",
    "\n",
    "print(a)\n",
    "print(b)\n",
    "print(c)\n",
    "\n"
   ]
  },
  {
   "cell_type": "code",
   "execution_count": null,
   "id": "a92e2ad3",
   "metadata": {},
   "outputs": [],
   "source": [
    "0\n",
    "1\n",
    "(3, 4, 5, 6)"
   ]
  },
  {
   "cell_type": "code",
   "execution_count": null,
   "id": "ce88b21e",
   "metadata": {},
   "outputs": [],
   "source": [
    "test_score 리스트가 있을 때, start expression을 사용하여 좌측 8개의 값을 scores 변수에 넣어라~\n",
    "#scores, _, _ = test_score\n",
    "\n",
    "test_score = [70,80,90,85,77,66,55,44,33,22]\n"
   ]
  },
  {
   "cell_type": "code",
   "execution_count": 8,
   "id": "04a21341",
   "metadata": {},
   "outputs": [
    {
     "data": {
      "text/plain": [
       "[70, 80, 90, 85, 77, 66, 55, 44]"
      ]
     },
     "execution_count": 8,
     "metadata": {},
     "output_type": "execute_result"
    }
   ],
   "source": [
    "test_score = [70,80,90,85,77,66,55,44,33,22]\n",
    "*scores, a, b = test_score\n",
    "scores\n"
   ]
  },
  {
   "cell_type": "code",
   "execution_count": null,
   "id": "47d9d5a6",
   "metadata": {},
   "outputs": [],
   "source": [
    "딕셔너리 인덱싱\n",
    "{\"아이스크림이름\":[가격, 재고]}\n",
    "\n",
    "icecreams 딕셔너리에서 메로나의 가격을 출력하세요~\n",
    "\n",
    "\n",
    "icecreams = {\n",
    "    \"비비빅\": [300, 20],\n",
    "    \"메로나\": [500, 10],\n",
    "    \"누가바\": [700, 10]\n",
    "}\n",
    "\n"
   ]
  },
  {
   "cell_type": "code",
   "execution_count": null,
   "id": "01260a2b",
   "metadata": {},
   "outputs": [],
   "source": [
    "print(icecreams[\"메로나\"][0])"
   ]
  },
  {
   "cell_type": "code",
   "execution_count": null,
   "id": "25abc594",
   "metadata": {},
   "outputs": [],
   "source": [
    "icecreams = {\n",
    "    \"비비빅\": [300, 20],\n",
    "    \"메로나\": [500, 10],\n",
    "    \"누가바\": [700, 10]\n",
    "}\n",
    "\n",
    "\n",
    "print(icecreams[\"메로나\"][0])"
   ]
  },
  {
   "cell_type": "code",
   "execution_count": null,
   "id": "0aa72810",
   "metadata": {},
   "outputs": [],
   "source": [
    "딕셔너리 update 메서드\n",
    "\n",
    "아래의 new_product 딕셔너리를 다음 icecream 딕셔너리에 추가해라\n",
    "\n",
    "icecream = {'탱크보이': 1200, '폴라포': 1200, '빵빠레': 1800, '월드콘': 1500, '메로나': 1000}\n",
    "new_product = {'팥빙수':2700, '아맛나':1000}\n",
    "\n"
   ]
  },
  {
   "cell_type": "code",
   "execution_count": null,
   "id": "c9f097c5",
   "metadata": {},
   "outputs": [],
   "source": [
    "icecream.update(new_product)"
   ]
  },
  {
   "cell_type": "code",
   "execution_count": null,
   "id": "34218e92",
   "metadata": {},
   "outputs": [],
   "source": [
    "파이썬 분기문\n",
    "다음 결과를 예상하세요\n",
    "\n",
    "print ((3 == 3) and (4 != 3))\n"
   ]
  },
  {
   "cell_type": "code",
   "execution_count": null,
   "id": "a5588780",
   "metadata": {},
   "outputs": [],
   "source": [
    "True"
   ]
  },
  {
   "cell_type": "code",
   "execution_count": 9,
   "id": "1bf0fcc0",
   "metadata": {},
   "outputs": [
    {
     "name": "stdout",
     "output_type": "stream",
     "text": [
      "3\n",
      "5\n"
     ]
    }
   ],
   "source": [
    "#파이썬 분기문\n",
    "#다음 결과를 예상하세요\n",
    "\n",
    "if True :\n",
    "    if False:\n",
    "        print(\"1\")\n",
    "        print(\"2\")\n",
    "    else:\n",
    "        print(\"3\")\n",
    "else :\n",
    "    print(\"4\")\n",
    "print(\"5\")"
   ]
  },
  {
   "cell_type": "code",
   "execution_count": null,
   "id": "d5dcffc2",
   "metadata": {},
   "outputs": [],
   "source": [
    "\"3\""
   ]
  },
  {
   "cell_type": "code",
   "execution_count": null,
   "id": "7f29ea3a",
   "metadata": {},
   "outputs": [],
   "source": [
    "# 다음 결과 값을 예상하세요\n",
    "\n",
    "list1 = [1,2,3,4,5,6]\n",
    "for i in list1[::-1]:\n",
    "    print(i)"
   ]
  },
  {
   "cell_type": "code",
   "execution_count": null,
   "id": "a42c0de7",
   "metadata": {},
   "outputs": [],
   "source": [
    "6\n",
    "5\n",
    "4\n",
    "3\n",
    "2\n",
    "1"
   ]
  },
  {
   "cell_type": "code",
   "execution_count": null,
   "id": "d9498a2d",
   "metadata": {},
   "outputs": [],
   "source": [
    "# 다음 결과 값을 예상하세요\n",
    "\n",
    "list1 = [13, 21, 12, 14, 30, 18]\n",
    "for i in list1:\n",
    "    if (i < 20) and (i % 3 == 0):\n",
    "        print(i)"
   ]
  },
  {
   "cell_type": "code",
   "execution_count": null,
   "id": "be958991",
   "metadata": {},
   "outputs": [],
   "source": [
    "12\n",
    "18"
   ]
  },
  {
   "cell_type": "code",
   "execution_count": null,
   "id": "15111a46",
   "metadata": {},
   "outputs": [],
   "source": [
    "# 다음 결과 값을 예상하세요\n",
    "\n",
    "\n",
    "price_list = [32100, 32150, 32000, 32500]\n",
    "for i, data in enumerate(price_list):\n",
    "    print(i, data)"
   ]
  },
  {
   "cell_type": "code",
   "execution_count": null,
   "id": "0713f162",
   "metadata": {},
   "outputs": [],
   "source": [
    "0 32100\n",
    "1 32150\n",
    "2 32000\n",
    "3 32500"
   ]
  },
  {
   "cell_type": "code",
   "execution_count": null,
   "id": "6c2a07b1",
   "metadata": {},
   "outputs": [],
   "source": [
    "my_list = [\"가\", \"나\", \"다\", \"라\"] #i, i+1 i-1, i\n",
    "\n",
    "아래와 같이 출력하는 코드를 작성하세요(? 채우기)\n",
    "\n",
    "가 나\n",
    "나 다\n",
    "다 라\n"
   ]
  },
  {
   "cell_type": "code",
   "execution_count": null,
   "id": "0aaf54d7",
   "metadata": {},
   "outputs": [],
   "source": [
    "#방법 1.\n",
    "\n",
    "for i in [0, 1, 2]:\n",
    "    print(my_list[?], my_list[?])\n",
    "#방법 2.\n",
    "\n",
    "for i in range( 1, len(my_list) ) :\n",
    "    print(my_list[?], my_list[?])"
   ]
  },
  {
   "cell_type": "code",
   "execution_count": null,
   "id": "3a6d5d52",
   "metadata": {},
   "outputs": [],
   "source": [
    "i, i+1\n",
    "i-1, i"
   ]
  },
  {
   "cell_type": "code",
   "execution_count": null,
   "id": "c04a8f67",
   "metadata": {},
   "outputs": [],
   "source": [
    "my_list = [\"가\", \"나\", \"다\", \"라\"] # i, i-1 / 3- i, 2 - i\n",
    "\n",
    "아래와 같이 출력하는 코드를 작성하세요(? 채우기)\n",
    "\n",
    "라 다\n",
    "다 나\n",
    "나 가"
   ]
  },
  {
   "cell_type": "code",
   "execution_count": null,
   "id": "9e6682f0",
   "metadata": {},
   "outputs": [],
   "source": [
    "#방법 1. \n",
    "\n",
    "for i in [3, 2, 1] :\n",
    "    print(my_list[?], my_list[?])\n",
    "    \n",
    "#방법 2.\n",
    "\n",
    "for i in [0, 1, 2] :\n",
    "    print(my_list[?], my_list[?])\n",
    "\n",
    "#방법 3.\n",
    "\n",
    "for i in range(len(my_list) - 1, 0, -1):\n",
    "    print(my_list[i], my_list[i-1])\n"
   ]
  },
  {
   "cell_type": "code",
   "execution_count": null,
   "id": "f166619e",
   "metadata": {},
   "outputs": [],
   "source": [
    "i, i-1\n",
    "3-i, 2-i"
   ]
  },
  {
   "cell_type": "code",
   "execution_count": null,
   "id": "cda90871",
   "metadata": {},
   "outputs": [],
   "source": [
    "# 아래 코드의 출력결과를 예상하세요\n",
    "\n",
    "\n",
    "apart = [ [101, 102], [201, 202], [301, 302] ]\n",
    "#1.\n",
    "for row in apart:\n",
    "    for col in row:\n",
    "        print(col, \"호\")\n",
    "#2.        \n",
    "for row in apart[::-1]:\n",
    "    for col in row:\n",
    "        print(col, \"호\")\n",
    "        "
   ]
  },
  {
   "cell_type": "code",
   "execution_count": null,
   "id": "64d54d20",
   "metadata": {},
   "outputs": [],
   "source": [
    "# 1\n",
    "101 호\n",
    "102 호\n",
    "201 호\n",
    "202 호\n",
    "301 호\n",
    "302 호\n",
    "\n",
    "# 2\n",
    "301 호\n",
    "302 호\n",
    "201 호\n",
    "202 호\n",
    "101 호\n",
    "102 호"
   ]
  },
  {
   "cell_type": "code",
   "execution_count": null,
   "id": "c7bd3f01",
   "metadata": {},
   "outputs": [],
   "source": [
    "# 아래 코드의 결과를 예상하세요\n",
    "\n",
    "apart = [ [101, 102], [201, 202], [301, 302] ]\n",
    "#1.\n",
    "for row in apart:\n",
    "    for col in row:\n",
    "        print(col, \"호\")\n",
    "        print(\"-\" * 5)\n",
    "#2.        \n",
    "for row in apart:\n",
    "    for col in row:\n",
    "        print(col, \"호\")\n",
    "    print(\"-----\")"
   ]
  },
  {
   "cell_type": "code",
   "execution_count": null,
   "id": "6319f6ef",
   "metadata": {},
   "outputs": [],
   "source": [
    "#1\n",
    "\n",
    "101 호\n",
    "-----\n",
    "102 호\n",
    "-----\n",
    "201 호\n",
    "-----\n",
    "202 호\n",
    "-----\n",
    "301 호\n",
    "-----\n",
    "302 호\n",
    "-----\n",
    "\n",
    "#2\n",
    "\n",
    "101 호\n",
    "-----\n",
    "102 호\n",
    "-----\n",
    "201 호\n",
    "-----\n",
    "202 호\n",
    "-----\n",
    "301 호\n",
    "-----\n",
    "302 호\n",
    "-----"
   ]
  },
  {
   "cell_type": "code",
   "execution_count": null,
   "id": "6e9cbbb5",
   "metadata": {},
   "outputs": [],
   "source": [
    "# 아래의 에러가 발생하는 이유?\n",
    "\n",
    "hellossafy()\n",
    "\n",
    "def hellossafy():\n",
    "    print(\"hello!\")"
   ]
  },
  {
   "cell_type": "code",
   "execution_count": null,
   "id": "be96591e",
   "metadata": {},
   "outputs": [],
   "source": [
    "hellossafy 함수가 정의되기 전에 호출되었다."
   ]
  },
  {
   "cell_type": "code",
   "execution_count": null,
   "id": "34e02dfd",
   "metadata": {},
   "outputs": [],
   "source": [
    "실행 결과 예측!\n",
    "\n",
    "def message1():\n",
    "    print(\"A\")\n",
    "\n",
    "def message2():\n",
    "    print(\"B\")\n",
    "\n",
    "def message3():\n",
    "    for i in range (3) :\n",
    "        message2()\n",
    "        print(\"C\")\n",
    "    message1()\n",
    "\n",
    "message3()"
   ]
  },
  {
   "cell_type": "code",
   "execution_count": null,
   "id": "d56f0d54",
   "metadata": {},
   "outputs": [],
   "source": [
    "B\n",
    "C\n",
    "B\n",
    "C\n",
    "B\n",
    "C\n",
    "A"
   ]
  },
  {
   "cell_type": "code",
   "execution_count": 10,
   "id": "21612b1a",
   "metadata": {},
   "outputs": [
    {
     "name": "stdout",
     "output_type": "stream",
     "text": [
      "25\n"
     ]
    }
   ],
   "source": [
    "#아래의 결과를 예상하세요~\n",
    "\n",
    "def function(num):\n",
    "    return num+5\n",
    "\n",
    "a = function(10)\n",
    "b = function(a)\n",
    "c = function(b)\n",
    "\n",
    "print(c)"
   ]
  },
  {
   "cell_type": "code",
   "execution_count": null,
   "id": "bc50f2bc",
   "metadata": {},
   "outputs": [],
   "source": [
    "정수와 문자형을 더할 수 없기 때문에 오류가 난다."
   ]
  },
  {
   "cell_type": "code",
   "execution_count": null,
   "id": "22f5d02d",
   "metadata": {},
   "outputs": [],
   "source": [
    "class Human:\n",
    "    pass\n",
    "\n",
    "# human클래스의 인스턴스를 생성하고, jangyeob 변수에 할당하세요\n"
   ]
  },
  {
   "cell_type": "code",
   "execution_count": null,
   "id": "92f882f8",
   "metadata": {},
   "outputs": [],
   "source": [
    "jangyeob = Human()"
   ]
  },
  {
   "cell_type": "code",
   "execution_count": null,
   "id": "debb5c7c",
   "metadata": {},
   "outputs": [],
   "source": [
    "class Human:\n",
    "    def __init__(self, name, age, sex):\n",
    "        self.name = name\n",
    "        self.age = age\n",
    "        self.sex = sex\n",
    "\n",
    "jangyeob = Human('나장엽', 31, '남자')\n",
    "\n",
    "# 인스턴스 jangyeob의 나이를 출력하세요\n",
    "\n",
    "\n"
   ]
  },
  {
   "cell_type": "code",
   "execution_count": null,
   "id": "2c9d3550",
   "metadata": {},
   "outputs": [],
   "source": [
    "print(jangyeob.age)"
   ]
  },
  {
   "cell_type": "code",
   "execution_count": null,
   "id": "4b5e9b93",
   "metadata": {},
   "outputs": [],
   "source": [
    "class Human:\n",
    "    def __init__(self, name, age, sex):\n",
    "        self.name = name\n",
    "        self.age = age\n",
    "        self.sex = sex\n",
    "        \n",
    "        \n",
    "    def setInfo(self, name, age, sex):\n",
    "        self.name = name\n",
    "        self.age = age\n",
    "        self.sex = sex \n",
    "        \n",
    "    def whoareyou(self):\n",
    "        print(\"이름 : {0} 나이 : {1} 성별 : {2}\".format(self.name, self.age, self.sex))\n",
    "        \n",
    "jangyeob = Human('모름', 0, '모름')\n",
    "# 위의 클래스를 보고 jangyeob 인스턴스의 이름과 나이 성별을 다시 할당해주세요\n",
    "jangyeob.name = '나장엽'# 여기에 코드를 추가하세요\n",
    "jangyeob.age = 31\n",
    "jangyeob.sex = '남자'\n",
    "\n",
    "\n",
    "jangyeob.whoareyou()\n",
    "\n",
    "이름 : 나장엽 나이 : 31 성별 : 남자\n",
    "\n",
    "\n",
    "\n"
   ]
  },
  {
   "cell_type": "code",
   "execution_count": null,
   "id": "03f706ce",
   "metadata": {},
   "outputs": [],
   "source": [
    "class Stock:\n",
    "    def __init__(self, name, code):\n",
    "        self.name = name\n",
    "        self.code = code\n",
    "        \n",
    "        \n",
    "    @name.setter\n",
    "    def set_name(self, new_name):\n",
    "        self.name = new_name\n",
    "        \n",
    "    #인스턴스에 이름을 입력 할 수 있는 set_name 메서드 코드를 작성하세요\n",
    "    \n",
    "    #인스턴스에 코드을 입력 할 수 있는 set_code 메서드 코드를 작성하세요\n",
    "    @code.setter\n",
    "    def set_code(self. new_code):    \n",
    "        self.code = new_code\n",
    "    \n",
    "    \n",
    "    a = Stock(None, None)\n",
    "    a.set_name(\"삼성전자\") \n",
    "    a.set_code(\"005930\")\n",
    "    \n",
    "    \n",
    "    "
   ]
  },
  {
   "cell_type": "code",
   "execution_count": null,
   "id": "922c1efe",
   "metadata": {},
   "outputs": [],
   "source": [
    "#다음 코드의 실행결과는?\n",
    "\n",
    "\n",
    "class 부모:\n",
    "    def 호출(self):\n",
    "        print(\"부모호출\")\n",
    "\n",
    "class 자식(부모):\n",
    "    def 호출(self):\n",
    "        print(\"자식호출\")\n",
    "        \n",
    "\n",
    "나 = 자식()\n",
    "나.호출()\n"
   ]
  },
  {
   "cell_type": "code",
   "execution_count": null,
   "id": "8f405750",
   "metadata": {},
   "outputs": [],
   "source": [
    "자식호출"
   ]
  },
  {
   "cell_type": "code",
   "execution_count": null,
   "id": "ef403ee0",
   "metadata": {},
   "outputs": [],
   "source": [
    "#다음 코드의 실행결과는 ?\n",
    "\n",
    "class 부모:\n",
    "    def __init__(self):\n",
    "        print(\"부모생성\")\n",
    "\n",
    "class 자식(부모):\n",
    "    def __init__(self):\n",
    "        print(\"자식생성\")\n",
    "        \n",
    "나 = 자식()"
   ]
  },
  {
   "cell_type": "code",
   "execution_count": null,
   "id": "164ea946",
   "metadata": {},
   "outputs": [],
   "source": [
    "자식생성"
   ]
  },
  {
   "cell_type": "code",
   "execution_count": null,
   "id": "a8a4135a",
   "metadata": {},
   "outputs": [],
   "source": [
    "#다음 코드의 실행결과는?\n",
    "\n",
    "\n",
    "class 부모:\n",
    "      def __init__(self):\n",
    "            print(\"부모생성\")\n",
    "\n",
    "class 자식(부모):\n",
    "      def __init__(self):\n",
    "            print(\"자식생성\")\n",
    "            super().__init__()\n",
    "\n",
    "나 = 자식()"
   ]
  },
  {
   "cell_type": "code",
   "execution_count": null,
   "id": "40422afd",
   "metadata": {},
   "outputs": [],
   "source": [
    "자식생성"
   ]
  },
  {
   "cell_type": "code",
   "execution_count": null,
   "id": "bff75c22",
   "metadata": {},
   "outputs": [],
   "source": [
    "try:\n",
    "    실행 코드\n",
    "except:\n",
    "    예외가 발생했을 때 수행할 코드\n",
    "else:\n",
    "    예외가 발생하지 않았을 때 수행할 코드\n",
    "finally:\n",
    "    예외 발생 여부와 상관없이 항상 수행할 코드"
   ]
  }
 ],
 "metadata": {
  "kernelspec": {
   "display_name": "Python 3 (ipykernel)",
   "language": "python",
   "name": "python3"
  },
  "language_info": {
   "codemirror_mode": {
    "name": "ipython",
    "version": 3
   },
   "file_extension": ".py",
   "mimetype": "text/x-python",
   "name": "python",
   "nbconvert_exporter": "python",
   "pygments_lexer": "ipython3",
   "version": "3.7.3"
  },
  "toc": {
   "base_numbering": 1,
   "nav_menu": {},
   "number_sections": true,
   "sideBar": true,
   "skip_h1_title": false,
   "title_cell": "Table of Contents",
   "title_sidebar": "Contents",
   "toc_cell": false,
   "toc_position": {},
   "toc_section_display": true,
   "toc_window_display": false
  }
 },
 "nbformat": 4,
 "nbformat_minor": 5
}
