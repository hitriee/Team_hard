{
 "cells": [
  {
   "cell_type": "code",
   "execution_count": 5,
   "id": "db0da201",
   "metadata": {},
   "outputs": [
    {
     "name": "stdout",
     "output_type": "stream",
     "text": [
      "734 893\n",
      "437\n"
     ]
    }
   ],
   "source": [
    "# 백준 class 1++ 2908 상수\n",
    "\n",
    "a, b = input().split()\n",
    "c, d = '', ''\n",
    "for i in range(3):\n",
    "    c += a[2-i]\n",
    "    d += b[2-i]\n",
    "if int(c) > int(d):\n",
    "    print(int(c))\n",
    "else:\n",
    "    print(int(d))"
   ]
  },
  {
   "cell_type": "code",
   "execution_count": 14,
   "id": "72072b35",
   "metadata": {},
   "outputs": [
    {
     "name": "stdout",
     "output_type": "stream",
     "text": [
      "3 4 5 6 7 8 1 2\n",
      "mixed\n"
     ]
    }
   ],
   "source": [
    "# 백준 class 1++ 2920 음계\n",
    "\n",
    "lst = list(map(int, input().split()))\n",
    "while 1:\n",
    "    rst = 0\n",
    "    if lst[0] == 1:\n",
    "        for i in range(1, 8):\n",
    "            if lst[i] != i+1:\n",
    "                break\n",
    "            else:\n",
    "                rst+= 1\n",
    "        if rst == 7:\n",
    "            print(\"ascending\")\n",
    "            break\n",
    "    elif lst[0] == 8:\n",
    "        for i in range(1, 8):\n",
    "            if lst[i] != 8-i:\n",
    "                break\n",
    "            else:\n",
    "                rst+=1\n",
    "        if rst == 7:\n",
    "            print(\"descending\")\n",
    "            break\n",
    "    print(\"mixed\")\n",
    "    break"
   ]
  },
  {
   "cell_type": "code",
   "execution_count": 18,
   "id": "6037b0e5",
   "metadata": {},
   "outputs": [
    {
     "name": "stdout",
     "output_type": "stream",
     "text": [
      "39\n",
      "40\n",
      "41\n",
      "42\n",
      "43\n",
      "44\n",
      "82\n",
      "83\n",
      "84\n",
      "85\n",
      "6\n"
     ]
    }
   ],
   "source": [
    "# 백준 class 1++ 3052 나머지\n",
    "\n",
    "lst = [int(input()) for _ in range(10)]\n",
    "check = [0]*42\n",
    "rst = 0\n",
    "for i in range(10):\n",
    "    if check[lst[i]%42] == 0:\n",
    "        check[lst[i]%42] += 1\n",
    "        rst += 1\n",
    "print(rst)"
   ]
  }
 ],
 "metadata": {
  "kernelspec": {
   "display_name": "Python 3 (ipykernel)",
   "language": "python",
   "name": "python3"
  },
  "language_info": {
   "codemirror_mode": {
    "name": "ipython",
    "version": 3
   },
   "file_extension": ".py",
   "mimetype": "text/x-python",
   "name": "python",
   "nbconvert_exporter": "python",
   "pygments_lexer": "ipython3",
   "version": "3.10.4"
  },
  "toc": {
   "base_numbering": 1,
   "nav_menu": {},
   "number_sections": true,
   "sideBar": true,
   "skip_h1_title": false,
   "title_cell": "Table of Contents",
   "title_sidebar": "Contents",
   "toc_cell": false,
   "toc_position": {},
   "toc_section_display": true,
   "toc_window_display": false
  }
 },
 "nbformat": 4,
 "nbformat_minor": 5
}
