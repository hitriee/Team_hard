{
 "cells": [
  {
   "cell_type": "code",
   "execution_count": 5,
   "id": "ca095ae5",
   "metadata": {},
   "outputs": [
    {
     "name": "stdout",
     "output_type": "stream",
     "text": [
      "7\n",
      "77777\n",
      "77777\n",
      "77777\n",
      "777\n",
      "777\n",
      "777\n"
     ]
    }
   ],
   "source": [
    "# 민코딩 훈련반1 Level 7.5 - 문제 1번 : 배열을 안쓰고 문제 풀어보기\n",
    "\n",
    "n = int(input())\n",
    "for i in range(3):\n",
    "    for j in range(5):\n",
    "        print(n, end=\"\")\n",
    "    print()\n",
    "for m in range(3):\n",
    "    for k in range(3):\n",
    "        print(n, end=\"\")\n",
    "    print()"
   ]
  },
  {
   "cell_type": "code",
   "execution_count": 7,
   "id": "2956aafd",
   "metadata": {},
   "outputs": [
    {
     "name": "stdout",
     "output_type": "stream",
     "text": [
      "0 2 3\n",
      "1 0 1 1 0 0\n"
     ]
    }
   ],
   "source": [
    "# 민코딩 훈련반1 Level 7.5 - 문제 2번 : 세 곳을 지목하라\n",
    "\n",
    "lst = [0]*6\n",
    "arr = list(map(int, input().split()))\n",
    "for i in range(3):\n",
    "    lst[arr[i]] = 1\n",
    "print(*lst)"
   ]
  },
  {
   "cell_type": "code",
   "execution_count": 18,
   "id": "3e31037b",
   "metadata": {},
   "outputs": [
    {
     "name": "stdout",
     "output_type": "stream",
     "text": [
      "A B\n",
      "대문자들\n"
     ]
    }
   ],
   "source": [
    "# 민코딩 훈련반1 Level 7.5 - 문제 3번 : 다중조건일때 처리하기\n",
    "\n",
    "a, b = input().split()\n",
    "if 65 <= ord(a) <= 90 and 65 <= ord(b) <= 90:\n",
    "    print(\"대문자들\")\n",
    "elif 65 <= ord(a) <= 90 or 65 <= ord(b) <= 90:\n",
    "    print(\"대소문자\")\n",
    "else:\n",
    "    for i in range(97, 123):\n",
    "        print(chr(i), end=\"\")"
   ]
  },
  {
   "cell_type": "code",
   "execution_count": 20,
   "id": "65276491",
   "metadata": {},
   "outputs": [
    {
     "name": "stdout",
     "output_type": "stream",
     "text": [
      "B\n",
      "n\n"
     ]
    }
   ],
   "source": [
    "# 민코딩 훈련반1 Level 7.5 - 문제 4번 : 숫자 채우기 연습\n",
    "\n",
    "arr = [['']*5 for _ in range(3)]\n",
    "a = input()\n",
    "b = chr(ord(a)+12)\n",
    "print(chr(ord(b)+32))"
   ]
  },
  {
   "cell_type": "code",
   "execution_count": 24,
   "id": "8303b514",
   "metadata": {},
   "outputs": [
    {
     "name": "stdout",
     "output_type": "stream",
     "text": [
      "A K t\n",
      "적절하다\n"
     ]
    }
   ],
   "source": [
    "# 민코딩 훈련반1 Level 7.5 - 문제 5번 : 풍성한 대문자들\n",
    "\n",
    "lst = list(input().split())\n",
    "rst = 0\n",
    "for i in range(3):\n",
    "    if 65 <= ord(lst[i]) <=90:\n",
    "        rst += 1\n",
    "if rst == 3:\n",
    "    print(\"풍족하다\")\n",
    "elif rst == 0:\n",
    "    print(\"부족하다\")\n",
    "else:\n",
    "    print(\"적절하다\")"
   ]
  },
  {
   "cell_type": "code",
   "execution_count": 26,
   "id": "b41cfef3",
   "metadata": {},
   "outputs": [
    {
     "name": "stdout",
     "output_type": "stream",
     "text": [
      "1 1\n",
      "0 0 0 0 \n",
      "0 1 0 0 \n"
     ]
    }
   ],
   "source": [
    "# 민코딩 훈련반1 Level 7.5 - 문제 6번 : 지정 좌표에만 세팅\n",
    "\n",
    "arr = [[0]*4 for _ in range(2)]\n",
    "y, x = map(int, input().split())\n",
    "arr[y][x] = 1\n",
    "for i in range(2):\n",
    "    for j in range(4):\n",
    "        print(arr[i][j], end=\" \")\n",
    "    print()"
   ]
  },
  {
   "cell_type": "code",
   "execution_count": 32,
   "id": "4da46f07",
   "metadata": {},
   "outputs": [
    {
     "name": "stdout",
     "output_type": "stream",
     "text": [
      "5 3 6 1 2 3\n",
      "7 5 \n",
      "8 3 \n",
      "4 5 \n"
     ]
    }
   ],
   "source": [
    "# 민코딩 훈련반1 Level 7.5 - 문제 7번 : 가산점 +2\n",
    "\n",
    "lst = list(map(int, input().split()))\n",
    "arr = [[0]*2 for _ in range(3)]\n",
    "for i in range(3):\n",
    "    for j in range(2):\n",
    "        arr[i][j] = lst[2*i+j]+2\n",
    "        print(arr[i][j], end=\" \")\n",
    "    print()"
   ]
  }
 ],
 "metadata": {
  "kernelspec": {
   "display_name": "Python 3 (ipykernel)",
   "language": "python",
   "name": "python3"
  },
  "language_info": {
   "codemirror_mode": {
    "name": "ipython",
    "version": 3
   },
   "file_extension": ".py",
   "mimetype": "text/x-python",
   "name": "python",
   "nbconvert_exporter": "python",
   "pygments_lexer": "ipython3",
   "version": "3.10.1"
  },
  "toc": {
   "base_numbering": 1,
   "nav_menu": {},
   "number_sections": true,
   "sideBar": true,
   "skip_h1_title": false,
   "title_cell": "Table of Contents",
   "title_sidebar": "Contents",
   "toc_cell": false,
   "toc_position": {},
   "toc_section_display": true,
   "toc_window_display": false
  }
 },
 "nbformat": 4,
 "nbformat_minor": 5
}
