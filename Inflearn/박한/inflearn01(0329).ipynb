{
 "cells": [
  {
   "cell_type": "code",
   "execution_count": 5,
   "id": "f0f3da95",
   "metadata": {},
   "outputs": [
    {
     "name": "stdout",
     "output_type": "stream",
     "text": [
      "5\n",
      "0 0 0 0 0 \n",
      "0 1 0 0 0\n",
      "0 1 0 0 0\n",
      "0 0 1 0 0\n",
      "0 0 0 1 0\n",
      "3 X 3\n",
      "0 0 # # # \n",
      "0 1 # # # \n",
      "0 1 # # # \n",
      "0 0 1 0 0 \n",
      "0 0 0 1 0 \n"
     ]
    }
   ],
   "source": [
    "# codeFestival_1. 96번\n",
    "\n",
    "n = int(input())\n",
    "arr = [list(map(int, input().split())) for _ in range(n)]\n",
    "lst = [[0]*n for _ in range(n)]\n",
    "for i in range(n):\n",
    "    for j in range(n):\n",
    "        if arr[i][j] == 0:\n",
    "            lst[i][j] = 1\n",
    "        else:\n",
    "            lst[i][j] = 0\n",
    "for i in range(n-1):\n",
    "    for j in range(n-1):\n",
    "        if lst[i+1][j+1] == 1:\n",
    "            if lst[i][j] != 0 and lst[i][j+1] != 0 and lst[i+1][j] != 0:\n",
    "                lst[i+1][j+1] = min(lst[i][j], lst[i+1][j], lst[i][j+1]) + 1\n",
    "a, b, rst = 0, 0, 0\n",
    "for i in range(n):\n",
    "    for j in range(n):\n",
    "        if rst < lst[i][j]:\n",
    "            rst = lst[i][j]\n",
    "            a, b = i, j\n",
    "for i in range(a-rst+1, a+1):\n",
    "    for j in range(b-rst+1, b+1):\n",
    "        arr[i][j] = '#'\n",
    "print(f\"{rst} X {rst}\")\n",
    "for i in range(n):\n",
    "    for j in range(n):\n",
    "        print(arr[i][j], end=\" \")\n",
    "    print()"
   ]
  }
 ],
 "metadata": {
  "kernelspec": {
   "display_name": "Python 3 (ipykernel)",
   "language": "python",
   "name": "python3"
  },
  "language_info": {
   "codemirror_mode": {
    "name": "ipython",
    "version": 3
   },
   "file_extension": ".py",
   "mimetype": "text/x-python",
   "name": "python",
   "nbconvert_exporter": "python",
   "pygments_lexer": "ipython3",
   "version": "3.10.1"
  },
  "toc": {
   "base_numbering": 1,
   "nav_menu": {},
   "number_sections": true,
   "sideBar": true,
   "skip_h1_title": false,
   "title_cell": "Table of Contents",
   "title_sidebar": "Contents",
   "toc_cell": false,
   "toc_position": {},
   "toc_section_display": true,
   "toc_window_display": false
  }
 },
 "nbformat": 4,
 "nbformat_minor": 5
}
