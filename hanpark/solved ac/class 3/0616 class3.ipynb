{
 "cells": [
  {
   "cell_type": "code",
   "execution_count": 5,
   "id": "fea287ce",
   "metadata": {},
   "outputs": [
    {
     "name": "stdout",
     "output_type": "stream",
     "text": [
      "3 7 7\n",
      "63\n"
     ]
    }
   ],
   "source": [
    "# 백준 class 3++ 1074 Z\n",
    "\n",
    "n, r, c = map(int, input().split())\n",
    "ans = 0\n",
    "while n > 0:\n",
    "    rst = 2**(n-1)\n",
    "    if rst > r and rst > c:\n",
    "        ans += 0\n",
    "    elif rst > r and rst <= c:\n",
    "        ans += rst**2\n",
    "        c -= rst\n",
    "    elif rst <= r and rst > c:\n",
    "        ans += (rst**2)*2\n",
    "        r -= rst\n",
    "    else:\n",
    "        ans += (rst**2)*3\n",
    "        r -= rst\n",
    "        c -= rst\n",
    "    n -= 1\n",
    "print(ans)"
   ]
  }
 ],
 "metadata": {
  "kernelspec": {
   "display_name": "Python 3 (ipykernel)",
   "language": "python",
   "name": "python3"
  },
  "language_info": {
   "codemirror_mode": {
    "name": "ipython",
    "version": 3
   },
   "file_extension": ".py",
   "mimetype": "text/x-python",
   "name": "python",
   "nbconvert_exporter": "python",
   "pygments_lexer": "ipython3",
   "version": "3.10.4"
  },
  "toc": {
   "base_numbering": 1,
   "nav_menu": {},
   "number_sections": true,
   "sideBar": true,
   "skip_h1_title": false,
   "title_cell": "Table of Contents",
   "title_sidebar": "Contents",
   "toc_cell": false,
   "toc_position": {},
   "toc_section_display": true,
   "toc_window_display": false
  }
 },
 "nbformat": 4,
 "nbformat_minor": 5
}
