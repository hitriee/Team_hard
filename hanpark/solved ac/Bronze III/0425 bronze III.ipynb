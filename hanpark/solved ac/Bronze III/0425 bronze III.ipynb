{
 "cells": [
  {
   "cell_type": "code",
   "execution_count": 1,
   "id": "49d00669",
   "metadata": {},
   "outputs": [
    {
     "name": "stdout",
     "output_type": "stream",
     "text": [
      "6 10 3\n",
      "3\n"
     ]
    }
   ],
   "source": [
    "# 백준 브론즈3 2875번\n",
    "\n",
    "n, m, k = map(int, input().split())\n",
    "rst = 0\n",
    "while 1:\n",
    "    n -= 2\n",
    "    m -= 1\n",
    "    if n < 0 or m < 0 or n+m < k:\n",
    "        break\n",
    "    rst += 1\n",
    "print(rst)"
   ]
  },
  {
   "cell_type": "code",
   "execution_count": 4,
   "id": "f79980db",
   "metadata": {},
   "outputs": [
    {
     "name": "stdout",
     "output_type": "stream",
     "text": [
      "0 30\n",
      "23 45\n"
     ]
    }
   ],
   "source": [
    "# 백준 브론즈3 2884번\n",
    "\n",
    "h, m = map(int, input().split())\n",
    "if m < 45:\n",
    "    if h == 0:\n",
    "        print(h+23, m+15)\n",
    "    else:\n",
    "        print(h-1, m+15)\n",
    "else:\n",
    "    print(h, m-45)"
   ]
  },
  {
   "cell_type": "code",
   "execution_count": 22,
   "id": "6eca9e5e",
   "metadata": {},
   "outputs": [
    {
     "name": "stdout",
     "output_type": "stream",
     "text": [
      "5\n",
      "1089\n"
     ]
    }
   ],
   "source": [
    "# 백준 브론즈3 2903번\n",
    "\n",
    "n = int(input())\n",
    "print((2**n+1)**2)"
   ]
  }
 ],
 "metadata": {
  "kernelspec": {
   "display_name": "Python 3 (ipykernel)",
   "language": "python",
   "name": "python3"
  },
  "language_info": {
   "codemirror_mode": {
    "name": "ipython",
    "version": 3
   },
   "file_extension": ".py",
   "mimetype": "text/x-python",
   "name": "python",
   "nbconvert_exporter": "python",
   "pygments_lexer": "ipython3",
   "version": "3.10.4"
  },
  "toc": {
   "base_numbering": 1,
   "nav_menu": {},
   "number_sections": true,
   "sideBar": true,
   "skip_h1_title": false,
   "title_cell": "Table of Contents",
   "title_sidebar": "Contents",
   "toc_cell": false,
   "toc_position": {},
   "toc_section_display": true,
   "toc_window_display": false
  }
 },
 "nbformat": 4,
 "nbformat_minor": 5
}
