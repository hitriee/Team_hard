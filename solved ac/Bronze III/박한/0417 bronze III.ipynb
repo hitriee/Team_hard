{
 "cells": [
  {
   "cell_type": "code",
   "execution_count": 1,
   "id": "c81a4bee",
   "metadata": {},
   "outputs": [
    {
     "name": "stdout",
     "output_type": "stream",
     "text": [
      "0 32\n",
      "3 13\n",
      "28 25\n",
      "39 0\n",
      "42\n"
     ]
    }
   ],
   "source": [
    "# 백준 브론즈3 2455번\n",
    "\n",
    "arr = [list(map(int, input().split())) for _ in range(4)]\n",
    "rst, maxx = 0, 0\n",
    "for i in range(4):\n",
    "    rst += (arr[i][1]-arr[i][0])\n",
    "    if rst > maxx:\n",
    "        maxx = rst\n",
    "print(maxx)"
   ]
  },
  {
   "cell_type": "code",
   "execution_count": 2,
   "id": "e254248f",
   "metadata": {},
   "outputs": [
    {
     "name": "stdout",
     "output_type": "stream",
     "text": [
      "0 32\n",
      "3 13\n",
      "28 25\n",
      "17 5\n",
      "21 20\n",
      "11 0\n",
      "12 12\n",
      "4 2\n",
      "0 8\n",
      "21 0\n",
      "42\n"
     ]
    }
   ],
   "source": [
    "# 백준 브론즈3 2460번\n",
    "\n",
    "arr = [list(map(int, input().split())) for _ in range(10)]\n",
    "rst, maxx = 0, 0\n",
    "for i in range(10):\n",
    "    rst += (arr[i][1]-arr[i][0])\n",
    "    if rst > maxx:\n",
    "        maxx = rst\n",
    "print(maxx)"
   ]
  },
  {
   "cell_type": "code",
   "execution_count": 5,
   "id": "f76eeb6f",
   "metadata": {},
   "outputs": [
    {
     "name": "stdout",
     "output_type": "stream",
     "text": [
      "3\n",
      "3 6 6\n",
      "2 2 3\n",
      "6 2 5\n",
      "1600\n"
     ]
    }
   ],
   "source": [
    "# 백준 브론즈3 2476번\n",
    "\n",
    "n = int(input())\n",
    "arr = [list(map(int, input().split())) for _ in range(n)]\n",
    "lst = [0]*n\n",
    "for i in range(n):\n",
    "    if arr[i][0] == arr[i][1] == arr[i][2]:\n",
    "        lst[i] = 10000 + arr[i][0]*1000\n",
    "    elif arr[i][0] == arr[i][1]:\n",
    "        lst[i] = 1000 + arr[i][0]*100\n",
    "    elif arr[i][1] == arr[i][2]:\n",
    "        lst[i] = 1000 + arr[i][1]*100\n",
    "    elif arr[i][2] == arr[i][0]:\n",
    "        lst[i] = 1000 + arr[i][2]*100\n",
    "    else:\n",
    "        lst[i] = max(arr[i])*100\n",
    "print(max(lst))"
   ]
  }
 ],
 "metadata": {
  "kernelspec": {
   "display_name": "Python 3 (ipykernel)",
   "language": "python",
   "name": "python3"
  },
  "language_info": {
   "codemirror_mode": {
    "name": "ipython",
    "version": 3
   },
   "file_extension": ".py",
   "mimetype": "text/x-python",
   "name": "python",
   "nbconvert_exporter": "python",
   "pygments_lexer": "ipython3",
   "version": "3.10.1"
  },
  "toc": {
   "base_numbering": 1,
   "nav_menu": {},
   "number_sections": true,
   "sideBar": true,
   "skip_h1_title": false,
   "title_cell": "Table of Contents",
   "title_sidebar": "Contents",
   "toc_cell": false,
   "toc_position": {},
   "toc_section_display": true,
   "toc_window_display": false
  }
 },
 "nbformat": 4,
 "nbformat_minor": 5
}
