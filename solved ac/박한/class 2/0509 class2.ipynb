{
 "cells": [
  {
   "cell_type": "code",
   "execution_count": 2,
   "id": "61d05e0c",
   "metadata": {},
   "outputs": [
    {
     "name": "stdout",
     "output_type": "stream",
     "text": [
      "5\n",
      "1\n",
      "2\n",
      "5\n",
      "3\n",
      "4\n",
      "NO\n"
     ]
    }
   ],
   "source": [
    "# 백준 class 2++ 1874 스택 수열\n",
    "\n",
    "from collections import deque\n",
    "\n",
    "n = int(input())\n",
    "q = deque()\n",
    "lst = []\n",
    "ans = []\n",
    "for _ in range(n):\n",
    "    m = int(input())\n",
    "    q.append(m)\n",
    "for i in range(n):\n",
    "    lst.append(i+1)\n",
    "    ans.append('+')\n",
    "    while 1:\n",
    "        if lst and lst[-1] == q[0]:\n",
    "            lst.pop()\n",
    "            q.popleft()\n",
    "            ans.append('-')\n",
    "        else:\n",
    "            break\n",
    "if q:\n",
    "    print(\"NO\")\n",
    "else:\n",
    "    for i in range(len(ans)):\n",
    "        print(ans[i])"
   ]
  }
 ],
 "metadata": {
  "kernelspec": {
   "display_name": "Python 3 (ipykernel)",
   "language": "python",
   "name": "python3"
  },
  "language_info": {
   "codemirror_mode": {
    "name": "ipython",
    "version": 3
   },
   "file_extension": ".py",
   "mimetype": "text/x-python",
   "name": "python",
   "nbconvert_exporter": "python",
   "pygments_lexer": "ipython3",
   "version": "3.10.4"
  },
  "toc": {
   "base_numbering": 1,
   "nav_menu": {},
   "number_sections": true,
   "sideBar": true,
   "skip_h1_title": false,
   "title_cell": "Table of Contents",
   "title_sidebar": "Contents",
   "toc_cell": false,
   "toc_position": {},
   "toc_section_display": true,
   "toc_window_display": false
  }
 },
 "nbformat": 4,
 "nbformat_minor": 5
}
