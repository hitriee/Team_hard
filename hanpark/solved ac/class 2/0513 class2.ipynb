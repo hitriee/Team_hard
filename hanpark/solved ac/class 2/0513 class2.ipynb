{
 "cells": [
  {
   "cell_type": "code",
   "execution_count": 2,
   "id": "f8ac1132",
   "metadata": {},
   "outputs": [
    {
     "name": "stdout",
     "output_type": "stream",
     "text": [
      "4\n",
      "3 5 7 9\n",
      "3\n"
     ]
    }
   ],
   "source": [
    "# 백준 class 2++ 19678 소수 찾기\n",
    "\n",
    "n = int(input())\n",
    "lst = list(map(int, input().split()))\n",
    "def abc(a):\n",
    "    if a > 3:\n",
    "        ans = 1\n",
    "        for j in range(2, a//2+1):\n",
    "            if a%j == 0:\n",
    "                ans = 0\n",
    "                break\n",
    "        return ans\n",
    "    elif a > 1:\n",
    "        return 1        \n",
    "    else:\n",
    "        return 0\n",
    "rst = 0\n",
    "for i in range(n):\n",
    "    rst += abc(lst[i])\n",
    "print(rst)"
   ]
  }
 ],
 "metadata": {
  "kernelspec": {
   "display_name": "Python 3 (ipykernel)",
   "language": "python",
   "name": "python3"
  },
  "language_info": {
   "codemirror_mode": {
    "name": "ipython",
    "version": 3
   },
   "file_extension": ".py",
   "mimetype": "text/x-python",
   "name": "python",
   "nbconvert_exporter": "python",
   "pygments_lexer": "ipython3",
   "version": "3.10.4"
  },
  "toc": {
   "base_numbering": 1,
   "nav_menu": {},
   "number_sections": true,
   "sideBar": true,
   "skip_h1_title": false,
   "title_cell": "Table of Contents",
   "title_sidebar": "Contents",
   "toc_cell": false,
   "toc_position": {},
   "toc_section_display": true,
   "toc_window_display": false
  }
 },
 "nbformat": 4,
 "nbformat_minor": 5
}
