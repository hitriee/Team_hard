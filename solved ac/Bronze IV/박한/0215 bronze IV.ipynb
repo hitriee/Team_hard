{
 "cells": [
  {
   "cell_type": "code",
   "execution_count": 6,
   "id": "c2673952",
   "metadata": {},
   "outputs": [
    {
     "name": "stdout",
     "output_type": "stream",
     "text": [
      "20 6 120\n",
      "0\n"
     ]
    }
   ],
   "source": [
    "# 백준 브론즈4 10156번\n",
    "# K원짜리 과자 N개를 사려고 하는데, 돈은 M원 있음. 얼마가 부족한가?\n",
    "\n",
    "K, N, M = map(int, input().split())\n",
    "if K*N > M:\n",
    "    print(K*N-M)\n",
    "else:\n",
    "    print(0)"
   ]
  },
  {
   "cell_type": "code",
   "execution_count": 13,
   "id": "63f1586f",
   "metadata": {},
   "outputs": [
    {
     "name": "stdout",
     "output_type": "stream",
     "text": [
      "1420\n",
      "4 3 4\n"
     ]
    }
   ],
   "source": [
    "# 백준 브론즈4 10162번\n",
    "# 요리시간 T가 주어진다.\n",
    "# 버튼 조작 횟수가 최소가 되도록 하려면 5분, 1분, 10초를 몇 번씩 눌러야 할까?\n",
    "\n",
    "T = int(input())\n",
    "a, b, c = 0, 0, 0\n",
    "if T%10 != 0:\n",
    "    print(-1)\n",
    "else:\n",
    "    a += T//300\n",
    "    b += (T%300)//60\n",
    "    c += ((T%300)%60)//10\n",
    "    print(a, b, c)"
   ]
  },
  {
   "cell_type": "code",
   "execution_count": 23,
   "id": "d8e29aca",
   "metadata": {},
   "outputs": [
    {
     "name": "stdout",
     "output_type": "stream",
     "text": [
      "3\n",
      "100.00\n",
      "$80.00\n",
      "59.99\n",
      "$47.99\n",
      "20.00\n",
      "$16.00\n"
     ]
    }
   ],
   "source": [
    "# 백준 브론즈4 10179번\n",
    "# 물건을 20% 할인하면 얼마가 되는지 반올림해서 소수점 둘째 자리까지 출력\n",
    "\n",
    "T = int(input())\n",
    "for i in range(T):\n",
    "    n = round(float(input())*0.8, 2)\n",
    "    print(\"$%.2f\" % n)"
   ]
  },
  {
   "cell_type": "code",
   "execution_count": 30,
   "id": "e3ff6fb4",
   "metadata": {},
   "outputs": [
    {
     "name": "stdout",
     "output_type": "stream",
     "text": [
      "8\n",
      "300\n",
      "100\n",
      "10\n",
      "250\n",
      "1800\n"
     ]
    }
   ],
   "source": [
    "# 백준 브론즈4 10707번\n",
    "# X사는 1리터당 A엔, Y사는 기본요금 B엔에 C리터 넘으면 추가요금 리터당 D엔. 한달 수도량은 P리터\n",
    "\n",
    "[A, B, C, D, P] = [int(input()) for _ in range(5)]\n",
    "XP = A*P\n",
    "if P <= C:\n",
    "    YP = B\n",
    "else:\n",
    "    YP = B + (P-C)*D\n",
    "if XP > YP:\n",
    "    print(YP)\n",
    "else:\n",
    "    print(XP)"
   ]
  },
  {
   "cell_type": "code",
   "execution_count": 31,
   "id": "bde144f2",
   "metadata": {},
   "outputs": [
    {
     "name": "stdout",
     "output_type": "stream",
     "text": [
      "2\n",
      "18\n",
      "Special\n"
     ]
    }
   ],
   "source": [
    "# 백준 브론즈4 10768번\n",
    "\n",
    "[A, B] = [int(input()) for _ in range(2)]\n",
    "if A < 2:\n",
    "    print(\"Before\")\n",
    "elif A > 2:\n",
    "    print(\"After\")\n",
    "else:\n",
    "    if B < 18:\n",
    "        print(\"Before\")\n",
    "    elif B > 18:\n",
    "        print(\"After\")\n",
    "    else:\n",
    "        print(\"Special\")"
   ]
  }
 ],
 "metadata": {
  "kernelspec": {
   "display_name": "Python 3 (ipykernel)",
   "language": "python",
   "name": "python3"
  },
  "language_info": {
   "codemirror_mode": {
    "name": "ipython",
    "version": 3
   },
   "file_extension": ".py",
   "mimetype": "text/x-python",
   "name": "python",
   "nbconvert_exporter": "python",
   "pygments_lexer": "ipython3",
   "version": "3.10.1"
  },
  "toc": {
   "base_numbering": 1,
   "nav_menu": {},
   "number_sections": true,
   "sideBar": true,
   "skip_h1_title": false,
   "title_cell": "Table of Contents",
   "title_sidebar": "Contents",
   "toc_cell": false,
   "toc_position": {},
   "toc_section_display": true,
   "toc_window_display": false
  }
 },
 "nbformat": 4,
 "nbformat_minor": 5
}
