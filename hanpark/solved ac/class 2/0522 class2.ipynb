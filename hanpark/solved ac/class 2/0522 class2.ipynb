{
 "cells": [
  {
   "cell_type": "code",
   "execution_count": 2,
   "id": "c5424acd",
   "metadata": {},
   "outputs": [
    {
     "name": "stdout",
     "output_type": "stream",
     "text": [
      "14\n",
      "4\n"
     ]
    }
   ],
   "source": [
    "# 백준 class 2++ 2839 설탕 배달\n",
    "\n",
    "n = int(input())\n",
    "rst = 0\n",
    "while 1:\n",
    "    if n%5 == 0:\n",
    "        rst += n//5\n",
    "        print(rst)\n",
    "        break\n",
    "    else:\n",
    "        n -= 3\n",
    "        rst += 1\n",
    "    if n < 0:\n",
    "        print(-1)\n",
    "        break"
   ]
  }
 ],
 "metadata": {
  "kernelspec": {
   "display_name": "Python 3 (ipykernel)",
   "language": "python",
   "name": "python3"
  },
  "language_info": {
   "codemirror_mode": {
    "name": "ipython",
    "version": 3
   },
   "file_extension": ".py",
   "mimetype": "text/x-python",
   "name": "python",
   "nbconvert_exporter": "python",
   "pygments_lexer": "ipython3",
   "version": "3.10.4"
  },
  "toc": {
   "base_numbering": 1,
   "nav_menu": {},
   "number_sections": true,
   "sideBar": true,
   "skip_h1_title": false,
   "title_cell": "Table of Contents",
   "title_sidebar": "Contents",
   "toc_cell": false,
   "toc_position": {},
   "toc_section_display": true,
   "toc_window_display": false
  }
 },
 "nbformat": 4,
 "nbformat_minor": 5
}
