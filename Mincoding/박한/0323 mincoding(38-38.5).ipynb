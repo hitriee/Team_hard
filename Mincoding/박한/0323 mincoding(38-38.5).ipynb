{
 "cells": [
  {
   "cell_type": "code",
   "execution_count": 5,
   "id": "56fa5570",
   "metadata": {},
   "outputs": [
    {
     "name": "stdout",
     "output_type": "stream",
     "text": [
      "5\n",
      "3 5 1 7 4\n",
      "5+7=12\n"
     ]
    }
   ],
   "source": [
    "# 민코딩 심화반1 Level 38 - 문제 7번 : 불화살 쏘기\n",
    "\n",
    "n = int(input())\n",
    "lst = list(map(int, input().split()))\n",
    "lst1 = [0]*(n+2)\n",
    "for i in range(n):\n",
    "    lst1[i+1] = lst[i]\n",
    "point1, point2 = [0]*n, [0]*n\n",
    "Max = 0\n",
    "def abc(level):\n",
    "    global Max\n",
    "    if sum(lst1) == 0:\n",
    "        if sum(point1) > Max:\n",
    "            Max = sum(point1)\n",
    "            for i in range(n):\n",
    "                point2[i] = point1[i]\n",
    "        return\n",
    "    for i in range(1, n+1):\n",
    "        if lst1[i] != 0:\n",
    "            point1[level] = lst1[i]\n",
    "            a, b, c = lst1[i-1], lst1[i], lst1[i+1]\n",
    "            lst1[i-1], lst1[i], lst1[i+1] = 0, 0, 0\n",
    "            abc(level+1)\n",
    "            lst1[i-1], lst1[i], lst1[i+1] = a, b, c\n",
    "            point1[level] = 0\n",
    "abc(0)\n",
    "for i in range(n):\n",
    "    for j in range(n):\n",
    "        if lst[i] == point2[j]:\n",
    "            if point2[j] == sum(point2):\n",
    "                print(f\"{point2[j]}=\", end=\"\")\n",
    "            else:\n",
    "                print(f\"{point2[j]}+\", end=\"\")\n",
    "                point2[j] = 0\n",
    "print(Max)"
   ]
  },
  {
   "cell_type": "code",
   "execution_count": 10,
   "id": "65ac2a4b",
   "metadata": {},
   "outputs": [
    {
     "name": "stdout",
     "output_type": "stream",
     "text": [
      "AB__\n",
      "C___\n",
      "G__D\n",
      "HIFE\n",
      "3\n",
      "15\n",
      "[[1, 1], [1, 2], [2, 2]]\n"
     ]
    }
   ],
   "source": [
    "# 민코딩 심화반1 Level 38 - 문제 8번 : 폭탄 투하 장소 선정\n",
    "\n",
    "arr = [list(input()) for _ in range(4)]\n",
    "used = [[0]*4 for _ in range(4)]\n",
    "n = int(input())\n",
    "backup = [['']*5 for _ in range(n)]\n",
    "rst, Max = 0, 0\n",
    "lst1, lst2 = [[0, 0] for _ in range(n)], [[0, 0] for _ in range(n)]\n",
    "def abc(level, y, x):\n",
    "    global rst, Max\n",
    "    if level == n:\n",
    "        if rst > Max:\n",
    "            Max = rst\n",
    "            for i in range(n):\n",
    "                lst2[i][0], lst2[i][1] = lst1[i][0], lst1[i][1]\n",
    "        return\n",
    "    directy = [0, -1, 1, 0, 0]A\n",
    "    directx = [0, 0, 0, -1, 1]\n",
    "    a = rst\n",
    "    for i in range(5):\n",
    "        dy = y + directy[i]\n",
    "        dx = x + directx[i]\n",
    "        if dy < 0 or dy > 3 or dx < 0 or dx > 3:\n",
    "            continue\n",
    "        if arr[dy][dx] != '_':\n",
    "            rst += 1\n",
    "            backup[level][i] = arr[dy][dx]\n",
    "            arr[dy][dx] = '_'\n",
    "    used[y][x] = 1\n",
    "    lst1[level][0], lst1[level][1] = y, x\n",
    "    for i in range(4):\n",
    "        for j in range(4):\n",
    "            if used[i][j] == 0:\n",
    "                abc(level+1, i, j)\n",
    "    rst = a\n",
    "    for i in range(5):\n",
    "        dy = y + directy[i]\n",
    "        dx = x + directx[i]\n",
    "        if dy < 0 or dy > 3 or dx < 0 or dx > 3:\n",
    "            continue\n",
    "        if backup[level][i] != '':\n",
    "            arr[dy][dx] = backup[level][i]\n",
    "    used[y][x] = 0\n",
    "for i in range(4):\n",
    "    for j in range(4):\n",
    "        abc(0, i, j)\n",
    "print(Max)\n",
    "print(lst2)"
   ]
  },
  {
   "cell_type": "code",
   "execution_count": 11,
   "id": "4c61971c",
   "metadata": {},
   "outputs": [
    {
     "name": "stdout",
     "output_type": "stream",
     "text": [
      "-4 1 3\n",
      "3 -1 4\n",
      "-3 4 0\n",
      "4\n"
     ]
    }
   ],
   "source": [
    "# 민코딩 심화반1 Level 38.5 - 문제 1번 : 세 개의 선택\n",
    "\n",
    "arr = [list(map(int, input().split())) for _ in range(3)]\n",
    "used = [[0]*3 for _ in range(3)]\n",
    "rst, Max, ans = 1, -21e8, 0\n",
    "def abc(level, b):\n",
    "    global rst, Max, ans\n",
    "    if level == 3:\n",
    "        if rst > Max:\n",
    "            Max = rst\n",
    "            ans = 1\n",
    "        elif rst == Max:\n",
    "            ans += 1\n",
    "        return\n",
    "    for i in range(0, 3):\n",
    "        for j in range(0, 3):\n",
    "            if 3*i+j < b:\n",
    "                continue\n",
    "            if used[i][j] == 0:\n",
    "                used[i][j] = 1\n",
    "                a = rst\n",
    "                rst = rst * arr[i][j]\n",
    "                abc(level+1, 3*i+j)\n",
    "                used[i][j] = 0\n",
    "                rst = a\n",
    "abc(0, 0)\n",
    "print(ans)"
   ]
  },
  {
   "cell_type": "code",
   "execution_count": 14,
   "id": "720a588c",
   "metadata": {},
   "outputs": [
    {
     "name": "stdout",
     "output_type": "stream",
     "text": [
      "ZFAABABBAB\n",
      "AAA\n",
      "AAB\n",
      "AAF\n",
      "AAZ\n",
      "ABB\n",
      "ABF\n",
      "ABZ\n",
      "AFF\n",
      "AFZ\n",
      "AZZ\n",
      "BBB\n",
      "BBF\n",
      "BBZ\n",
      "BFF\n",
      "BFZ\n",
      "BZZ\n",
      "FFF\n",
      "FFZ\n",
      "FZZ\n",
      "ZZZ\n"
     ]
    }
   ],
   "source": [
    "# 민코딩 심화반1 Level 38.5 - 문제 2번 : 액기스만 뽑은 한약 만들기\n",
    "\n",
    "lst = list(input())\n",
    "for i in range(len(lst)):\n",
    "    for j in range(i+1, len(lst)):\n",
    "        if ord(lst[i]) > ord(lst[j]):\n",
    "            lst[i], lst[j] = lst[j], lst[i]\n",
    "arr = []\n",
    "rst = ''\n",
    "def abc(level, start):\n",
    "    global rst\n",
    "    if level == 3:\n",
    "        if rst not in arr:\n",
    "            arr.append(rst)\n",
    "            print(rst)\n",
    "        return\n",
    "    for i in range(start, len(lst)):\n",
    "        a = rst\n",
    "        rst += lst[i]\n",
    "        abc(level+1, i)\n",
    "        rst = a\n",
    "abc(0, 0)"
   ]
  },
  {
   "cell_type": "code",
   "execution_count": 27,
   "id": "3eb35f5f",
   "metadata": {},
   "outputs": [
    {
     "name": "stdout",
     "output_type": "stream",
     "text": [
      "10000\n",
      "2\n",
      "840\n"
     ]
    }
   ],
   "source": [
    "# 민코딩 심화반1 Level 38.5 - 문제 3번 : MAX 포인트 적립하기\n",
    "\n",
    "arr = [[500, 30], [700, 10], [600, 30], [300, 40], [400, 20]]\n",
    "total = int(input())\n",
    "n = int(input())\n",
    "lst = [0]*5\n",
    "for i in range(5):\n",
    "    lst[i] = int(arr[i][0]/arr[i][1])\n",
    "for i in range(5):\n",
    "    for j in range(i+1, 5):\n",
    "        if lst[i] > lst[j]:\n",
    "            arr[i], arr[j] = arr[j], arr[i]\n",
    "            lst[i], lst[j] = lst[j], lst[i]\n",
    "        elif lst[i] == lst[j]:\n",
    "            if arr[i][0] > arr[j][0]:\n",
    "                arr[i], arr[j] = arr[j], arr[i]\n",
    "                lst[i], lst[j] = lst[j], lst[i]\n",
    "rst, ans = 0, 0\n",
    "for i in range(n):\n",
    "    rst += arr[i][0]\n",
    "    ans += arr[i][1]\n",
    "a = ans*(total//rst)\n",
    "print(ar)"
   ]
  },
  {
   "cell_type": "code",
   "execution_count": 39,
   "id": "9531d419",
   "metadata": {},
   "outputs": [
    {
     "name": "stdout",
     "output_type": "stream",
     "text": [
      "OXOOX\n",
      "2\n"
     ]
    }
   ],
   "source": [
    "# 민코딩 심화반1 Level 38.5 - 문제 5번 : 고기 굽기\n",
    "\n",
    "lst = list(input())\n",
    "lst1 = ['']*len(lst)\n",
    "rst, ans = 5, 0\n",
    "def abc(level, x):\n",
    "    global rst, ans\n",
    "    if level == 4:\n",
    "        return\n",
    "    for i in range(len(lst)):\n",
    "        lst1[i] = lst[i]\n",
    "    directx = [-1, 0, 1]\n",
    "    for i in range(3):\n",
    "        dx = x + directx[i]\n",
    "        if dx < 0 or dx > len(lst)-1:\n",
    "            continue\n",
    "        if lst[dx] == 'X':\n",
    "            lst[dx] = 'O'\n",
    "        else:\n",
    "            lst[dx] = 'X'\n",
    "    ans = 0\n",
    "    for i in range(len(lst)):\n",
    "        if lst[i] == 'X':\n",
    "            ans += 1\n",
    "    if ans == 0 or ans == len(lst):\n",
    "        if rst > level+1:\n",
    "            rst = level+1\n",
    "        return\n",
    "    for i in range(len(lst)):\n",
    "        abc(level+1, i)\n",
    "    for i in range(len(lst)):\n",
    "        lst[i] = lst1[i]\n",
    "for i in range(len(lst)):\n",
    "    abc(0, i)\n",
    "if rst < 5:\n",
    "    print(rst)\n",
    "else:\n",
    "    print('impossible')"
   ]
  },
  {
   "cell_type": "code",
   "execution_count": 50,
   "id": "83ccefca",
   "metadata": {},
   "outputs": [
    {
     "name": "stdout",
     "output_type": "stream",
     "text": [
      "XXXOOOXXXOOOXXXOOO\n",
      "impossible\n"
     ]
    }
   ],
   "source": [
    "lst = list(input())\n",
    "lst1 = ['']*len(lst)\n",
    "rst, ans = 5, 0\n",
    "def abc(level, x):\n",
    "    global rst, ans\n",
    "    if level == 4:\n",
    "        return\n",
    "    for i in range(len(lst)):\n",
    "        lst1[i] = lst[i]\n",
    "    directx = [-1, 0, 1]\n",
    "    for i in range(3):\n",
    "        dx = x + directx[i]\n",
    "        if dx < 0 or dx > len(lst)-1:\n",
    "            continue\n",
    "        if lst[dx] == 'X':\n",
    "            lst[dx] = 'O'\n",
    "        else:\n",
    "            lst[dx] = 'X'\n",
    "    ans = 0\n",
    "    for i in range(len(lst)):\n",
    "        if lst[i] == 'X':\n",
    "            ans += 1\n",
    "    if ans == 0 or ans == len(lst):\n",
    "        if rst > level+1:\n",
    "            rst = level+1\n",
    "        return\n",
    "    for i in range(len(lst)):\n",
    "        abc(level+1, i)\n",
    "    for i in range(len(lst)):\n",
    "        lst[i] = lst1[i]\n",
    "for i in range(len(lst)):\n",
    "    abc(0, i)\n",
    "if rst < 5:\n",
    "    print(rst)\n",
    "else:\n",
    "    print('impossible')"
   ]
  }
 ],
 "metadata": {
  "kernelspec": {
   "display_name": "Python 3 (ipykernel)",
   "language": "python",
   "name": "python3"
  },
  "language_info": {
   "codemirror_mode": {
    "name": "ipython",
    "version": 3
   },
   "file_extension": ".py",
   "mimetype": "text/x-python",
   "name": "python",
   "nbconvert_exporter": "python",
   "pygments_lexer": "ipython3",
   "version": "3.10.1"
  },
  "toc": {
   "base_numbering": 1,
   "nav_menu": {},
   "number_sections": true,
   "sideBar": true,
   "skip_h1_title": false,
   "title_cell": "Table of Contents",
   "title_sidebar": "Contents",
   "toc_cell": false,
   "toc_position": {},
   "toc_section_display": true,
   "toc_window_display": false
  }
 },
 "nbformat": 4,
 "nbformat_minor": 5
}
