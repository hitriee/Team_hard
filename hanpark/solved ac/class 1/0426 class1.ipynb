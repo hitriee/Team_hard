{
 "cells": [
  {
   "cell_type": "code",
   "execution_count": 3,
   "id": "faaadfd0",
   "metadata": {},
   "outputs": [
    {
     "name": "stdout",
     "output_type": "stream",
     "text": [
      "The first character is a blank\n",
      "6\n"
     ]
    }
   ],
   "source": [
    "# 백준 class 1++ 1152 단어의 개수\n",
    "\n",
    "lst = list(map(str, input().split()))\n",
    "print(len(lst))"
   ]
  },
  {
   "cell_type": "code",
   "execution_count": 9,
   "id": "0d9d27ac",
   "metadata": {},
   "outputs": [
    {
     "name": "stdout",
     "output_type": "stream",
     "text": [
      "baaa\n",
      "[1, 3, 2, 1]\n",
      "A\n"
     ]
    }
   ],
   "source": [
    "# 백준 class 1++ 1157 단어 공부\n",
    "\n",
    "lst = list(input().upper())\n",
    "lst1 = [1]*len(lst)\n",
    "for i in range(len(lst)-1):\n",
    "    rst = 0\n",
    "    for j in range(i+1, len(lst)):\n",
    "        if lst[i] == lst[j]:\n",
    "            rst += 1\n",
    "    lst1[i] += rst\n",
    "ans = ''\n",
    "flag = 0\n",
    "for i in range(len(lst1)):\n",
    "    if lst1[i] == max(lst1):\n",
    "        ans = lst[i]\n",
    "        flag += 1\n",
    "if flag == 1:\n",
    "    print(ans)\n",
    "else:\n",
    "    print(\"?\")"
   ]
  }
 ],
 "metadata": {
  "kernelspec": {
   "display_name": "Python 3 (ipykernel)",
   "language": "python",
   "name": "python3"
  },
  "language_info": {
   "codemirror_mode": {
    "name": "ipython",
    "version": 3
   },
   "file_extension": ".py",
   "mimetype": "text/x-python",
   "name": "python",
   "nbconvert_exporter": "python",
   "pygments_lexer": "ipython3",
   "version": "3.10.4"
  },
  "toc": {
   "base_numbering": 1,
   "nav_menu": {},
   "number_sections": true,
   "sideBar": true,
   "skip_h1_title": false,
   "title_cell": "Table of Contents",
   "title_sidebar": "Contents",
   "toc_cell": false,
   "toc_position": {},
   "toc_section_display": true,
   "toc_window_display": false
  }
 },
 "nbformat": 4,
 "nbformat_minor": 5
}
