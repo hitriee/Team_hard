{
 "cells": [
  {
   "cell_type": "code",
   "execution_count": 5,
   "id": "02b05797",
   "metadata": {},
   "outputs": [
    {
     "name": "stdout",
     "output_type": "stream",
     "text": [
      "2\n",
      "index : 6\n",
      "value : 39, 34\n"
     ]
    }
   ],
   "source": [
    "# codeFestival_1. 79번\n",
    "\n",
    "l = [10, 20, 25, 27, 34, 35, 39]\n",
    "lst = [0]*7\n",
    "for i in range(7):\n",
    "    lst[i] = l[i]\n",
    "n = int(input())\n",
    "def abc(level):\n",
    "    if level == n:\n",
    "        return\n",
    "    a = lst[6]\n",
    "    for i in range(6, 0, -1):\n",
    "        lst[i] = lst[i-1]\n",
    "    lst[0] = a\n",
    "    abc(level+1)\n",
    "abc(0)\n",
    "rst = 21e8\n",
    "for i in range(7):\n",
    "    if abs(l[i] - lst[i]) < rst:\n",
    "        rst = abs(l[i] - lst[i])\n",
    "for i in range(7):\n",
    "    if abs(l[i]-lst[i]) == rst:\n",
    "        print(f\"index : {i}\")\n",
    "        print(f\"value : {l[i]}, {lst[i]}\")\n",
    "        break"
   ]
  }
 ],
 "metadata": {
  "kernelspec": {
   "display_name": "Python 3 (ipykernel)",
   "language": "python",
   "name": "python3"
  },
  "language_info": {
   "codemirror_mode": {
    "name": "ipython",
    "version": 3
   },
   "file_extension": ".py",
   "mimetype": "text/x-python",
   "name": "python",
   "nbconvert_exporter": "python",
   "pygments_lexer": "ipython3",
   "version": "3.10.1"
  },
  "toc": {
   "base_numbering": 1,
   "nav_menu": {},
   "number_sections": true,
   "sideBar": true,
   "skip_h1_title": false,
   "title_cell": "Table of Contents",
   "title_sidebar": "Contents",
   "toc_cell": false,
   "toc_position": {},
   "toc_section_display": true,
   "toc_window_display": false
  }
 },
 "nbformat": 4,
 "nbformat_minor": 5
}
