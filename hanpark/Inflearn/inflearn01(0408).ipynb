{
 "cells": [
  {
   "cell_type": "code",
   "execution_count": 4,
   "id": "b62f70c4",
   "metadata": {},
   "outputs": [
    {
     "name": "stdout",
     "output_type": "stream",
     "text": [
      "3\n",
      "[['A', 'C'], ['A', 'B'], ['C', 'B'], ['A', 'C'], ['B', 'A'], ['B', 'C'], ['A', 'C']]\n",
      "7\n"
     ]
    }
   ],
   "source": [
    "# codeFestival_1. 55번\n",
    "\n",
    "move = []\n",
    "def hanoi(num, start, end, cen):\n",
    "    if num == 1:\n",
    "        move.append([start, end])\n",
    "        return None\n",
    "    hanoi(num-1, start, cen, end)\n",
    "    move.append([start, end])\n",
    "    hanoi(num-1, cen, end, start)\n",
    "n = int(input())\n",
    "hanoi(n, 'A', 'C', 'B')\n",
    "print(move)\n",
    "print(len(move))"
   ]
  }
 ],
 "metadata": {
  "kernelspec": {
   "display_name": "Python 3 (ipykernel)",
   "language": "python",
   "name": "python3"
  },
  "language_info": {
   "codemirror_mode": {
    "name": "ipython",
    "version": 3
   },
   "file_extension": ".py",
   "mimetype": "text/x-python",
   "name": "python",
   "nbconvert_exporter": "python",
   "pygments_lexer": "ipython3",
   "version": "3.10.1"
  },
  "toc": {
   "base_numbering": 1,
   "nav_menu": {},
   "number_sections": true,
   "sideBar": true,
   "skip_h1_title": false,
   "title_cell": "Table of Contents",
   "title_sidebar": "Contents",
   "toc_cell": false,
   "toc_position": {},
   "toc_section_display": true,
   "toc_window_display": false
  }
 },
 "nbformat": 4,
 "nbformat_minor": 5
}
