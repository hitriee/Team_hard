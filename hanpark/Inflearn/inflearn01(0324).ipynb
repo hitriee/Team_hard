{
 "cells": [
  {
   "cell_type": "code",
   "execution_count": 14,
   "id": "855aa31b",
   "metadata": {},
   "outputs": [
    {
     "name": "stdout",
     "output_type": "stream",
     "text": [
      "6\n",
      "122131\n"
     ]
    }
   ],
   "source": [
    "# codeFestival_1. 85번\n",
    "\n",
    "n = int(input())\n",
    "a = '1'\n",
    "def abc(level):\n",
    "    global a\n",
    "    if level == n:\n",
    "        print(int(a))\n",
    "        return\n",
    "    if level == 1:\n",
    "        a = a + str(len(a))\n",
    "        abc(level+1)\n",
    "    else:\n",
    "        b = list(a)\n",
    "        c = ['']*len(b)\n",
    "        d = [0]*len(b)\n",
    "        for i in range(len(b)):\n",
    "            for j in range(len(b)):\n",
    "                c[i] = str(i+1)\n",
    "                if c[i] == b[j]:\n",
    "                    d[i] += 1\n",
    "        a = ''\n",
    "        for i in range(len(b)):\n",
    "            if d[i] > 0:\n",
    "                a = a + c[i] + str(d[i])\n",
    "        abc(level+1)\n",
    "abc(1)"
   ]
  }
 ],
 "metadata": {
  "kernelspec": {
   "display_name": "Python 3 (ipykernel)",
   "language": "python",
   "name": "python3"
  },
  "language_info": {
   "codemirror_mode": {
    "name": "ipython",
    "version": 3
   },
   "file_extension": ".py",
   "mimetype": "text/x-python",
   "name": "python",
   "nbconvert_exporter": "python",
   "pygments_lexer": "ipython3",
   "version": "3.10.1"
  },
  "toc": {
   "base_numbering": 1,
   "nav_menu": {},
   "number_sections": true,
   "sideBar": true,
   "skip_h1_title": false,
   "title_cell": "Table of Contents",
   "title_sidebar": "Contents",
   "toc_cell": false,
   "toc_position": {},
   "toc_section_display": true,
   "toc_window_display": false
  }
 },
 "nbformat": 4,
 "nbformat_minor": 5
}
