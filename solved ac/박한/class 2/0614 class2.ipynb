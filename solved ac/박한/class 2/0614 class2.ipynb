{
 "cells": [
  {
   "cell_type": "code",
   "execution_count": 2,
   "id": "a6f3a9b7",
   "metadata": {},
   "outputs": [
    {
     "name": "stdout",
     "output_type": "stream",
     "text": [
      "8 8\n",
      "WBWBWBWB\n",
      "BWBWBWBW\n",
      "WBWBWBWB\n",
      "BWBBBWBW\n",
      "WBWBWBWB\n",
      "BWBWBWBW\n",
      "WBWBWBWB\n",
      "BWBWBWBW\n",
      "1\n"
     ]
    }
   ],
   "source": [
    "# 백준 class 2++ 1018 체스판 다시 칠하기\n",
    "\n",
    "n, m = map(int, input().split())\n",
    "arr = []\n",
    "lst = []\n",
    "for i in range (n):\n",
    "    o = input()\n",
    "    arr.append(o)\n",
    "for i in range(n-7): \n",
    "    for j in range(m-7):\n",
    "        rst1, rst2 = 0, 0\n",
    "        for x in range(i, i+8):\n",
    "            for y in range(j, j+8):\n",
    "                if (x+y)%2 == 0: \n",
    "                    if arr[x][y] != 'W':\n",
    "                        rst1 += 1\n",
    "                    else:\n",
    "                        rst2 += 1\n",
    "                else:\n",
    "                    if arr[x][y] != 'B':\n",
    "                        rst1 += 1\n",
    "                    else:\n",
    "                        rst2+=1 \n",
    "        lst.append(rst1)\n",
    "        lst.append(rst2)\n",
    "print(min(lst))"
   ]
  }
 ],
 "metadata": {
  "kernelspec": {
   "display_name": "Python 3 (ipykernel)",
   "language": "python",
   "name": "python3"
  },
  "language_info": {
   "codemirror_mode": {
    "name": "ipython",
    "version": 3
   },
   "file_extension": ".py",
   "mimetype": "text/x-python",
   "name": "python",
   "nbconvert_exporter": "python",
   "pygments_lexer": "ipython3",
   "version": "3.10.4"
  },
  "toc": {
   "base_numbering": 1,
   "nav_menu": {},
   "number_sections": true,
   "sideBar": true,
   "skip_h1_title": false,
   "title_cell": "Table of Contents",
   "title_sidebar": "Contents",
   "toc_cell": false,
   "toc_position": {},
   "toc_section_display": true,
   "toc_window_display": false
  }
 },
 "nbformat": 4,
 "nbformat_minor": 5
}
