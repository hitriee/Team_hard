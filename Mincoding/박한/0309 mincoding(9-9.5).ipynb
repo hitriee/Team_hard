{
 "cells": [
  {
   "cell_type": "code",
   "execution_count": 1,
   "id": "796b53c1",
   "metadata": {},
   "outputs": [
    {
     "name": "stdout",
     "output_type": "stream",
     "text": [
      "1\n",
      "숫자1개수는2개\n"
     ]
    }
   ],
   "source": [
    "# 민코딩 훈련반1 Level 9 - 문제 1번 : 원하는 값을 찾아내자\n",
    "\n",
    "lst = [4, 3, 6, 1, 3, 1, 5, 3]\n",
    "n = int(input())\n",
    "rst = 0\n",
    "for i in range(len(lst)):\n",
    "    if lst[i] == n:\n",
    "        rst += 1\n",
    "print(f\"숫자{n}개수는{rst}개\")"
   ]
  },
  {
   "cell_type": "code",
   "execution_count": 3,
   "id": "a5bd2d74",
   "metadata": {},
   "outputs": [
    {
     "name": "stdout",
     "output_type": "stream",
     "text": [
      "B\n",
      "대발견\n"
     ]
    }
   ],
   "source": [
    "# 민코딩 훈련반1 Level 9 - 문제 2번 : 2차 배열에서 값찾기\n",
    "\n",
    "arr = [['A', 'B', 'C', 'D', 'E'], ['E', 'A', 'B', 'A', 'B'], ['A', 'C', 'D', 'E', 'R']]\n",
    "a = input()\n",
    "rst = 0\n",
    "for i in range(3):\n",
    "    for j in range(5):\n",
    "        if arr[i][j] == a:\n",
    "            rst += 1\n",
    "if rst>=3:\n",
    "    print(\"대발견\")\n",
    "elif rst==0:\n",
    "    print(\"미발견\")\n",
    "else:\n",
    "    print(\"발견\")"
   ]
  },
  {
   "cell_type": "code",
   "execution_count": 8,
   "id": "8a31baaf",
   "metadata": {},
   "outputs": [
    {
     "name": "stdout",
     "output_type": "stream",
     "text": [
      "A B\n",
      "와2개\n"
     ]
    }
   ],
   "source": [
    "# 민코딩 훈련반1 Level 9 - 문제 3번 : 둘 다 있어야해\n",
    "\n",
    "lst = ['A', 'F', 'G', 'A', 'B', 'C']\n",
    "a, b = input().split()\n",
    "rst = 0\n",
    "for i in range(6):\n",
    "    if lst[i] == a:\n",
    "        rst += 1\n",
    "        break\n",
    "for i in range(6):\n",
    "    if lst[i] == b:\n",
    "        rst += 1\n",
    "        break\n",
    "if rst==2:\n",
    "    print(\"와2개\")\n",
    "elif rst==0:\n",
    "    print(\"우0개\")\n",
    "else:\n",
    "    print(\"오1개\")"
   ]
  },
  {
   "cell_type": "code",
   "execution_count": 9,
   "id": "ba3a2c1c",
   "metadata": {},
   "outputs": [
    {
     "name": "stdout",
     "output_type": "stream",
     "text": [
      "0 4\n",
      "7 4 2 5 3 9\n"
     ]
    }
   ],
   "source": [
    "# 민코딩 훈련반1 Level 9 - 문제 4번 : 숫자 교환하기\n",
    "\n",
    "lst = [3, 4, 2, 5, 7, 9]\n",
    "a, b = map(int, input().split())\n",
    "c, d = lst[a], lst[b]\n",
    "lst[b], lst[a] = c, d\n",
    "print(*lst)"
   ]
  },
  {
   "cell_type": "code",
   "execution_count": 11,
   "id": "f09f70b8",
   "metadata": {},
   "outputs": [
    {
     "name": "stdout",
     "output_type": "stream",
     "text": [
      "0 0\n",
      "1 1\n",
      "EBC\n",
      "DAF\n",
      "GHI\n"
     ]
    }
   ],
   "source": [
    "# 민코딩 훈련반1 Level 9 - 문제 6번 : 2차배열 값 SWAP 하기\n",
    "\n",
    "arr = [['']*3 for _ in range(3)]\n",
    "for i in range(3):\n",
    "    for j in range(3):\n",
    "        arr[i][j] = chr(ord('A')+3*i+j)\n",
    "a, b = map(int, input().split())\n",
    "c, d = map(int, input().split())\n",
    "y, x = arr[a][b], arr[c][d]\n",
    "arr[c][d], arr[a][b] = y, x\n",
    "for i in range(3):\n",
    "    for j in range(3):\n",
    "        print(arr[i][j], end=\"\")\n",
    "    print()"
   ]
  },
  {
   "cell_type": "code",
   "execution_count": 14,
   "id": "f20132cb",
   "metadata": {},
   "outputs": [
    {
     "name": "stdout",
     "output_type": "stream",
     "text": [
      "3 4\n",
      "2 6\n",
      "7 1\n",
      "2 8\n",
      "1 9\n",
      "1 2\n",
      "4 3\n",
      "6 2\n",
      "7 1\n",
      "8 2\n",
      "9 1\n",
      "2 1\n",
      "5명\n"
     ]
    }
   ],
   "source": [
    "# 민코딩 훈련반1 Level 9 - 문제 7번 : 짝궁바꾸기\n",
    "\n",
    "lst = [list(map(int, input().split())) for _ in range(6)]\n",
    "rst = 0\n",
    "for i in range(6):\n",
    "    if lst[i][0] < lst[i][1]:\n",
    "        lst[i][0], lst[i][1] = lst[i][1], lst[i][0]\n",
    "        rst += 1\n",
    "    print(lst[i][0], lst[i][1])\n",
    "print(f\"{rst}명\")"
   ]
  },
  {
   "cell_type": "code",
   "execution_count": 16,
   "id": "e9c645f6",
   "metadata": {},
   "outputs": [
    {
     "name": "stdout",
     "output_type": "stream",
     "text": [
      "6 3\n",
      "합:9\n",
      "차:3\n",
      "곱:18\n",
      "몫:2\n"
     ]
    }
   ],
   "source": [
    "# 민코딩 훈련반1 Level 9 - 문제 8번 : Call by value\n",
    "\n",
    "def BBQ(a, b):\n",
    "    print(f\"합:{a+b}\")\n",
    "    print(f\"차:{a-b}\")\n",
    "    print(f\"곱:{a*b}\")\n",
    "    print(f\"몫:{a//b}\")\n",
    "def main():\n",
    "    m, n = map(int, input().split())\n",
    "    BBQ(m, n)\n",
    "main()"
   ]
  },
  {
   "cell_type": "code",
   "execution_count": 18,
   "id": "12675ca5",
   "metadata": {},
   "outputs": [
    {
     "name": "stdout",
     "output_type": "stream",
     "text": [
      "B\n",
      "미발견\n"
     ]
    }
   ],
   "source": [
    "# 민코딩 훈련반1 Level 9 - 문제 9번 : Call by value2\n",
    "\n",
    "arr = [['F', 'E', 'W'], ['D', 'C', 'A']]\n",
    "def findCh(b):\n",
    "    global arr\n",
    "    rst = 0\n",
    "    for i in range(2):\n",
    "        for j in range(3):\n",
    "            if arr[i][j] == b:\n",
    "                rst += 1\n",
    "                break\n",
    "    if not rst:\n",
    "        print(\"미발견\")\n",
    "    else:\n",
    "        print(\"발견\")\n",
    "def main():\n",
    "    a = input()\n",
    "    findCh(a)\n",
    "main()"
   ]
  },
  {
   "cell_type": "code",
   "execution_count": 19,
   "id": "43a39c01",
   "metadata": {},
   "outputs": [
    {
     "name": "stdout",
     "output_type": "stream",
     "text": [
      "A y Q G r\n",
      "대소대대소"
     ]
    }
   ],
   "source": [
    "# 민코딩 훈련반1 Level 9 - 문제 10번 : 탐색하며 호출하기\n",
    "\n",
    "def checkChar(a):\n",
    "    if a.isupper():\n",
    "        print(\"대\", end=\"\")\n",
    "    else:\n",
    "        print(\"소\", end=\"\")\n",
    "lst = list(input().split())\n",
    "for i in range(len(lst)):\n",
    "    checkChar(lst[i])"
   ]
  },
  {
   "cell_type": "code",
   "execution_count": 20,
   "id": "a7270cde",
   "metadata": {},
   "outputs": [
    {
     "name": "stdout",
     "output_type": "stream",
     "text": [
      "5\n",
      "3\n"
     ]
    }
   ],
   "source": [
    "# 민코딩 훈련반1 Level 9.5 - 문제 1번 : 어디에 숨었을까\n",
    "\n",
    "lstA = [2, 1, 2, 4, 5]\n",
    "lstB = [[2, 5, 3], [4, 5, 7], [8, 7, 2]]\n",
    "n = int(input())\n",
    "rst = 0\n",
    "for i in range(5):\n",
    "    if lstA[i] == n:\n",
    "        rst += 1\n",
    "for i in range(3):\n",
    "    for j in range(3):\n",
    "        if lstB[i][j] == n:\n",
    "            rst += 1\n",
    "print(rst)"
   ]
  },
  {
   "cell_type": "code",
   "execution_count": 22,
   "id": "74df0ce5",
   "metadata": {},
   "outputs": [
    {
     "name": "stdout",
     "output_type": "stream",
     "text": [
      "A b c d A\n",
      "문자A는 2개발견\n",
      "0번\n",
      "4번\n"
     ]
    }
   ],
   "source": [
    "# 민코딩 훈련반1 Level 9.5 - 문제 2번 : Index찾아내기\n",
    "\n",
    "lst = list(input().split())\n",
    "lst1 = [0]*len(lst)\n",
    "rst = 0\n",
    "for i in range(len(lst)):\n",
    "    if lst[i] == 'A':\n",
    "        lst1[i] += 1\n",
    "        rst += 1\n",
    "print(f\"문자A는 {rst}개발견\")\n",
    "for i in range(len(lst1)):\n",
    "    if lst1[i] != 0:\n",
    "        print(f\"{i}번\")"
   ]
  },
  {
   "cell_type": "code",
   "execution_count": 23,
   "id": "8b844dfb",
   "metadata": {},
   "outputs": [
    {
     "name": "stdout",
     "output_type": "stream",
     "text": [
      "A\n",
      "(0,1)\n",
      "(0,2)\n",
      "(2,2)\n",
      "(3,0)\n",
      "(3,1)\n"
     ]
    }
   ],
   "source": [
    "# 민코딩 훈련반1 Level 9.5 - 문제 3번 : 2차배열에서 좌표 출력하기\n",
    "\n",
    "arr = [['D', 'A', 'A'], ['B', 'C', 'D'], ['E', 'F', 'A'], ['A', 'A', 'D'], ['F', 'G', 'E']]\n",
    "a = input()\n",
    "for i in range(5):\n",
    "    for j in range(3):\n",
    "        if arr[i][j] == a:\n",
    "            print(f\"({i},{j})\")"
   ]
  },
  {
   "cell_type": "code",
   "execution_count": 24,
   "id": "585bc607",
   "metadata": {},
   "outputs": [
    {
     "name": "stdout",
     "output_type": "stream",
     "text": [
      "30 40\n",
      "4\n"
     ]
    }
   ],
   "source": [
    "# 민코딩 훈련반1 Level 9.5 - 문제 4번 : 2차배열에서 범위안에 있는 값 세기\n",
    "\n",
    "arr = [[10, 3, 20], [60, 30, 40], [20, 30, 40]]\n",
    "a, b = map(int, input().split())\n",
    "rst = 0\n",
    "for i in range(3):\n",
    "    for j in range(3):\n",
    "        if a <= arr[i][j] <= b:\n",
    "            rst += 1\n",
    "print(rst)"
   ]
  },
  {
   "cell_type": "code",
   "execution_count": 27,
   "id": "034c7014",
   "metadata": {},
   "outputs": [
    {
     "name": "stdout",
     "output_type": "stream",
     "text": [
      "D F A B C e\n",
      "대문자5개\n",
      "소문자1개\n"
     ]
    }
   ],
   "source": [
    "# 민코딩 훈련반1 Level 9.5 - 문제 5번 : 각 함수에서 대소문자 찾기\n",
    "\n",
    "lst = list(input().split())\n",
    "arr = [['']*3 for _ in range(2)]\n",
    "rst1, rst2 = 0, 0\n",
    "for i in range(2):\n",
    "    for j in range(3):\n",
    "        arr[i][j] = lst[3*i+j]\n",
    "        if arr[i][j].isupper():\n",
    "            rst1 += 1\n",
    "        elif arr[i][j].islower():\n",
    "            rst2 += 1\n",
    "print(f\"대문자{rst1}개\")\n",
    "print(f\"소문자{rst2}개\")"
   ]
  },
  {
   "cell_type": "code",
   "execution_count": 29,
   "id": "ae95c110",
   "metadata": {},
   "outputs": [
    {
     "name": "stdout",
     "output_type": "stream",
     "text": [
      "7\n",
      "2\n"
     ]
    }
   ],
   "source": [
    "# 민코딩 훈련반1 Level 9.5 - 문제 6번 : N의배수인 숫자 찾기\n",
    "\n",
    "arr = [[3, 5, 14], [2, 3, 9], [6, 2, 7]]\n",
    "n = int(input())\n",
    "rst = 0\n",
    "for i in range(3):\n",
    "    for j in range(3):\n",
    "        if arr[i][j]%n==0:\n",
    "            rst += 1\n",
    "print(rst)"
   ]
  },
  {
   "cell_type": "code",
   "execution_count": 31,
   "id": "1d8b289e",
   "metadata": {},
   "outputs": [
    {
     "name": "stdout",
     "output_type": "stream",
     "text": [
      "4\n",
      "A\n",
      "AAAAAAA"
     ]
    }
   ],
   "source": [
    "# 민코딩 훈련반1 Level 9.5 - 문제 8번 : 함수에 숫자 주고 출력하기\n",
    "\n",
    "def BBQ(a):\n",
    "    for i in range(a):\n",
    "        print(i+1, end=\"\")\n",
    "def KFC(b):\n",
    "    for i in range(7):\n",
    "        print(b, end=\"\")\n",
    "n = int(input())\n",
    "if n%2==1:\n",
    "    m = int(input())\n",
    "    BBQ(m)\n",
    "else:\n",
    "    k = input()\n",
    "    KFC(k)"
   ]
  }
 ],
 "metadata": {
  "kernelspec": {
   "display_name": "Python 3 (ipykernel)",
   "language": "python",
   "name": "python3"
  },
  "language_info": {
   "codemirror_mode": {
    "name": "ipython",
    "version": 3
   },
   "file_extension": ".py",
   "mimetype": "text/x-python",
   "name": "python",
   "nbconvert_exporter": "python",
   "pygments_lexer": "ipython3",
   "version": "3.10.1"
  },
  "toc": {
   "base_numbering": 1,
   "nav_menu": {},
   "number_sections": true,
   "sideBar": true,
   "skip_h1_title": false,
   "title_cell": "Table of Contents",
   "title_sidebar": "Contents",
   "toc_cell": false,
   "toc_position": {},
   "toc_section_display": true,
   "toc_window_display": false
  }
 },
 "nbformat": 4,
 "nbformat_minor": 5
}
