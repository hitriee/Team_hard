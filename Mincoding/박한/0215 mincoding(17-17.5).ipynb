{
 "cells": [
  {
   "cell_type": "code",
   "execution_count": 6,
   "id": "104c39c6",
   "metadata": {},
   "outputs": [
    {
     "name": "stdout",
     "output_type": "stream",
     "text": [
      "Z\n",
      "미발견\n"
     ]
    }
   ],
   "source": [
    "# 민코딩 훈련반1 Level 17 - 문제 1번\n",
    "\n",
    "lst = ['M', 'T', 'K', 'C']\n",
    "a = input()\n",
    "def isExist(lst):\n",
    "    rst = 0\n",
    "    for i in range(len(lst)):\n",
    "        if lst[i] == a:\n",
    "            rst += 1\n",
    "    if rst == 0:\n",
    "        print(\"미발견\")\n",
    "    else:\n",
    "        print(\"발견\")\n",
    "isExist(lst)"
   ]
  },
  {
   "cell_type": "code",
   "execution_count": 10,
   "id": "bc10ab22",
   "metadata": {},
   "outputs": [
    {
     "name": "stdout",
     "output_type": "stream",
     "text": [
      "0 9\n",
      "1\n"
     ]
    }
   ],
   "source": [
    "# 민코딩 훈련반1 Level 17 - 문제 2번\n",
    "\n",
    "lst = [5, 9, 4, 6, 1, 5, 8, 9]\n",
    "a, b = map(int, input().split())\n",
    "for i in range(a+1, len(lst)):\n",
    "    if lst[i]==b:\n",
    "        print(i-a)\n",
    "        break"
   ]
  },
  {
   "cell_type": "code",
   "execution_count": 16,
   "id": "a1c451ea",
   "metadata": {},
   "outputs": [
    {
     "name": "stdout",
     "output_type": "stream",
     "text": [
      "1 0 1\n",
      "0 1 1\n",
      "1 0 0\n",
      "16\n"
     ]
    }
   ],
   "source": [
    "# 민코딩 훈련반1 Level 17 - 문제 3번\n",
    "\n",
    "lst = [[3, 5, 9], [4, 2, 1], [1, 1, 5]]\n",
    "beat_list = [list(map(int, input().split())) for _ in range(3)]\n",
    "rst = 0\n",
    "for i in range(3):\n",
    "    for j in range(3):\n",
    "        if beat_list[i][j]==1:\n",
    "            rst += lst[i][j]\n",
    "print(rst)"
   ]
  },
  {
   "cell_type": "code",
   "execution_count": 18,
   "id": "d0672266",
   "metadata": {},
   "outputs": [
    {
     "name": "stdout",
     "output_type": "stream",
     "text": [
      "T 2 1\n",
      "E\n"
     ]
    }
   ],
   "source": [
    "# 민코딩 훈련반1 Level 17 - 문제 4번\n",
    "\n",
    "lst = [['A', 'T', 'K', 'B'], ['C', 'Z', 'F', 'D'], ['H', 'G', 'E', 'I']]\n",
    "a, y, x = map(str, input().split())\n",
    "for i in range(3):\n",
    "    for j in range(4):\n",
    "        if lst[i][j] == a:\n",
    "            print(lst[i+int(y)][j+int(x)])"
   ]
  },
  {
   "cell_type": "code",
   "execution_count": 26,
   "id": "ab9340f6",
   "metadata": {},
   "outputs": [
    {
     "name": "stdout",
     "output_type": "stream",
     "text": [
      "3 7 1\n",
      "3:존재\n",
      "7:미발견\n",
      "1:존재\n"
     ]
    }
   ],
   "source": [
    "# 민코딩 훈련반1 Level 17 - 문제 5번\n",
    "\n",
    "lst = [[3, 5, 9], [4, 2, 1], [5, 1, 5]]\n",
    "chk = list(map(int, input().split()))\n",
    "for i in range(3):\n",
    "    rst = 0\n",
    "    for j in range(3):\n",
    "        for k in range(3):\n",
    "            if chk[i] == lst[j][k]:\n",
    "                rst += 1\n",
    "    if rst == 0:\n",
    "        print(\"{}:미발견\".format(chk[i]))\n",
    "    else:\n",
    "        print(\"{}:존재\".format(chk[i]))"
   ]
  },
  {
   "cell_type": "code",
   "execution_count": 28,
   "id": "b7d8a793",
   "metadata": {},
   "outputs": [
    {
     "name": "stdout",
     "output_type": "stream",
     "text": [
      "(2,1)\n",
      "(2,2)\n"
     ]
    }
   ],
   "source": [
    "# 민코딩 훈련반1 Level 17 - 문제 6번\n",
    "\n",
    "a = [[0, 0, 0, 1], [1, 1, 0, 1], [1, 0, 0, 1], [1, 1, 1, 1]]\n",
    "b = [[1, 1, 1, 1], [1, 0, 1, 1], [1, 0, 0, 0], [1, 0, 0, 0]]\n",
    "for i in range(4):\n",
    "    for j in range(4):\n",
    "        if a[i][j]+b[i][j]==0:\n",
    "            print(\"({},{})\".format(i,j))"
   ]
  },
  {
   "cell_type": "code",
   "execution_count": 36,
   "id": "a789edcd",
   "metadata": {},
   "outputs": [
    {
     "name": "stdout",
     "output_type": "stream",
     "text": [
      "1\n",
      "1 없음\n"
     ]
    }
   ],
   "source": [
    "# 민코딩 훈련반1 Level 17 - 문제 7번\n",
    "\n",
    "n = int(input())\n",
    "a = [[0, 0, 1, 0, 0], [0, 0, 1, 1, 1]]\n",
    "b = [[3, 5, 4, 1, 1], [3, 5, 2, 5, 6]]\n",
    "rst = 0\n",
    "for i in range(2):\n",
    "    for j in range(5):\n",
    "        if a[i][j]==1:\n",
    "            if b[i][j]==n:\n",
    "                rst += 1\n",
    "if rst != 0:\n",
    "    print(\"{} 존재\".format(n))\n",
    "else:\n",
    "    print(\"{} 없음\".format(n))"
   ]
  },
  {
   "cell_type": "code",
   "execution_count": 2,
   "id": "d83b0f30",
   "metadata": {},
   "outputs": [
    {
     "name": "stdout",
     "output_type": "stream",
     "text": [
      "T K G F\n",
      "3\n"
     ]
    }
   ],
   "source": [
    "# 민코딩 훈련반1 Level 17 - 문제 8번\n",
    "\n",
    "vect = ['B', 'T', 'K', 'I', 'G', 'Z']\n",
    "target = list(map(str, input().split()))\n",
    "rst = 0\n",
    "for i in range(len(target)):\n",
    "    for j in range(len(vect)):\n",
    "        if target[i] == vect[j]:\n",
    "            rst += 1\n",
    "print(rst)"
   ]
  },
  {
   "cell_type": "code",
   "execution_count": 7,
   "id": "098eb90e",
   "metadata": {},
   "outputs": [
    {
     "name": "stdout",
     "output_type": "stream",
     "text": [
      "3 4 5\n",
      "4\n"
     ]
    }
   ],
   "source": [
    "# 민코딩 훈련반1 Level 17 - 문제 9번\n",
    "\n",
    "vect = [[3, 7, 4], [2, 2, 4], [2, 2, 5]]\n",
    "target = list(map(int, input().split()))\n",
    "lst = [[0, 0], [0, 0], [0, 0]]\n",
    "for i in range(len(target)):\n",
    "    rst = 0\n",
    "    for j in range(len(vect)):\n",
    "        for k in range(len(vect)):\n",
    "            if target[i] == vect[j][k]:\n",
    "                rst += 1\n",
    "    lst[i][0] = target[i]\n",
    "    lst[i][1] = rst\n",
    "for m in range(len(target)):\n",
    "    for n in range(m+1, len(target)):\n",
    "        if lst[m][1] < lst[n][1]:\n",
    "            lst[m], lst[n] = lst[n], lst[m]\n",
    "print(lst[0][0])"
   ]
  },
  {
   "cell_type": "code",
   "execution_count": 8,
   "id": "69476e4b",
   "metadata": {},
   "outputs": [
    {
     "name": "stdout",
     "output_type": "stream",
     "text": [
      "2\n",
      "18\n"
     ]
    }
   ],
   "source": [
    "# 민코딩 훈련반1 Level 17.5 - 문제 1번\n",
    "\n",
    "lst = [3, 4, 1, 1, 2, 6, 8, 7, 8, 9, 10]\n",
    "strindex = int(input())\n",
    "def getSum(strindex):\n",
    "    rst = 0\n",
    "    for i in range(strindex, (strindex+5)):\n",
    "        rst += lst[i]\n",
    "    print(rst)\n",
    "getSum(strindex)"
   ]
  },
  {
   "cell_type": "code",
   "execution_count": 1,
   "id": "55c982e4",
   "metadata": {},
   "outputs": [
    {
     "name": "stdout",
     "output_type": "stream",
     "text": [
      "1 10\n",
      "55 -5\n",
      "OK NO \n",
      "NO NO \n"
     ]
    }
   ],
   "source": [
    "# 민코딩 훈련반1 Level 17.5 - 문제 2번\n",
    "\n",
    "lst = [3, 7, 4, 1, 2, 6]\n",
    "univer = [list(map(int, input().split())) for _ in range(2)]\n",
    "lst1 = [[0, 0] for _ in range(2)]\n",
    "for i in range(2):\n",
    "    for j in range(2):\n",
    "        rst = 0\n",
    "        for k in range(len(lst)):\n",
    "            if univer[i][j] == lst[k]:\n",
    "                rst += 1\n",
    "        lst1[i][j] = rst\n",
    "for m in range(2):\n",
    "    for n in range(2):\n",
    "        if lst1[m][n] == 1:\n",
    "            print(\"OK\", end= \" \")\n",
    "        else:\n",
    "            print(\"NO\", end= \" \")\n",
    "    print()"
   ]
  },
  {
   "cell_type": "code",
   "execution_count": 29,
   "id": "a656d7e6",
   "metadata": {},
   "outputs": [
    {
     "name": "stdout",
     "output_type": "stream",
     "text": [
      "jason\n",
      "jaso\n",
      "남남\n"
     ]
    }
   ],
   "source": [
    "# 민코딩 훈련반1 Level 17.5 - 문제 3번\n",
    "\n",
    "a = list(map(str,input()))\n",
    "b = list(map(str,input()))\n",
    "def isSame(a, b):\n",
    "    if len(a) != len(b):\n",
    "        return 0\n",
    "    else:\n",
    "        rst = 0\n",
    "        for i in range(len(a)):\n",
    "            if a[i] == b[i]:\n",
    "                rst += 1\n",
    "        if rst == len(a):\n",
    "            return 1\n",
    "        else:\n",
    "            return 0\n",
    "\n",
    "ans = isSame(a, b)\n",
    "if ans:\n",
    "    print(\"동명\")\n",
    "else:\n",
    "    print(\"남남\")"
   ]
  },
  {
   "cell_type": "code",
   "execution_count": 38,
   "id": "abec3c84",
   "metadata": {},
   "outputs": [
    {
     "name": "stdout",
     "output_type": "stream",
     "text": [
      "a g\n",
      "미발견\n"
     ]
    }
   ],
   "source": [
    "# 민코딩 훈련반1 Level 17.5 - 문제 4번\n",
    "\n",
    "lst = [['G', 'K', 'T'], ['P', 'A', 'C']]\n",
    "inp = list(map(str, input().split()))\n",
    "def isExist(inp1):\n",
    "    rst = 0\n",
    "    for i in range(len(inp1)):\n",
    "        for j in range(2):\n",
    "            for k in range(3):\n",
    "                if inp[i] == lst[j][k]:\n",
    "                    rst += 1\n",
    "    if rst == 2:\n",
    "        print(\"대발견\")\n",
    "    elif rst:\n",
    "        print(\"중발견\")\n",
    "    else:\n",
    "        print(\"미발견\")\n",
    "isExist(inp)"
   ]
  },
  {
   "cell_type": "code",
   "execution_count": 46,
   "id": "6f903df9",
   "metadata": {},
   "outputs": [
    {
     "name": "stdout",
     "output_type": "stream",
     "text": [
      "0 1 1 0 1 1 0\n",
      "0770770"
     ]
    }
   ],
   "source": [
    "# 민코딩 훈련반1 Level 17.5 - 문제 5번\n",
    "\n",
    "vect = [3, 5, 4, 2, 6, 6, 5]\n",
    "bit = list(map(int, input().split()))\n",
    "for i in range(len(bit)):\n",
    "    if bit[i] == 1:\n",
    "        vect[i] = 7\n",
    "    else:\n",
    "        vect[i] = 0\n",
    "    print(vect[i], end=\"\")"
   ]
  },
  {
   "cell_type": "code",
   "execution_count": 49,
   "id": "3203801f",
   "metadata": {},
   "outputs": [
    {
     "name": "stdout",
     "output_type": "stream",
     "text": [
      "3 8 4 9\n",
      "fail\n"
     ]
    }
   ],
   "source": [
    "# 민코딩 훈련반1 Level 17.5 - 문제 6번\n",
    "\n",
    "password = [3, 7, 4, 9]\n",
    "inp = list(map(int, input().split()))\n",
    "def isSame(ps1, inp1):\n",
    "    rst = 0\n",
    "    for i in range(len(inp1)):\n",
    "        if ps1[i] == inp1[i]:\n",
    "            rst += 1\n",
    "    if rst == len(inp1):\n",
    "        print(\"pass\")\n",
    "    else:\n",
    "        print(\"fail\")\n",
    "isSame(password, inp)"
   ]
  },
  {
   "cell_type": "code",
   "execution_count": 54,
   "id": "33fb74ac",
   "metadata": {},
   "outputs": [
    {
     "name": "stdout",
     "output_type": "stream",
     "text": [
      "15 15 15 40 100 105\n",
      "lev0:3\n",
      "lev1:1\n",
      "lev2:2\n",
      "lev3:0\n"
     ]
    }
   ],
   "source": [
    "# 민코딩 훈련반1 Level 17.5 - 문제 7번\n",
    "\n",
    "levelTable = [[10, 20], [30, 60], [100, 150], [200, 300]]\n",
    "fnum = [0, 0, 0, 0]\n",
    "fcal = list(map(int, input().split()))\n",
    "for i in range(len(fcal)):\n",
    "    for j in range(len(levelTable)):\n",
    "        if levelTable[j][0] <= fcal[i] <= levelTable[j][1]:\n",
    "            fnum[j] += 1\n",
    "for n in range(len(fnum)):\n",
    "    print(\"lev{}:{}\".format(n, fnum[n]))"
   ]
  },
  {
   "cell_type": "code",
   "execution_count": 8,
   "id": "f342827c",
   "metadata": {},
   "outputs": [
    {
     "name": "stdout",
     "output_type": "stream",
     "text": [
      "42 43\n",
      "-7 -9\n",
      "Y N\n",
      "N Y\n"
     ]
    }
   ],
   "source": [
    "# 민코딩 훈련반1 Level 17.5 - 문제 8번\n",
    "\n",
    "map1 = [[3, 55, 42], [-5, -9, -10]]\n",
    "a = [list(map(int, input().split())) for _ in range(2)]\n",
    "rst1 = [[0, 0], [0, 0]]\n",
    "rst2 = [['', ''], ['', '']]\n",
    "for i in range(2):\n",
    "    for j in range(3):\n",
    "        for m in range(2):\n",
    "            for n in range(2):\n",
    "                if map1[i][j] == a[m][n]:\n",
    "                    rst1[m][n] += 1\n",
    "for a in range(2):\n",
    "    for b in range(2):\n",
    "        if rst1[a][b] == 0:\n",
    "            rst2[a][b] = 'N'\n",
    "        else:\n",
    "            rst2[a][b] = 'Y'\n",
    "print(*rst2[0])\n",
    "print(*rst2[1])"
   ]
  },
  {
   "cell_type": "code",
   "execution_count": 16,
   "id": "cc4716ef",
   "metadata": {},
   "outputs": [
    {
     "name": "stdout",
     "output_type": "stream",
     "text": [
      "3 5 4 2 1 5\n",
      "arr[4]=1\n"
     ]
    }
   ],
   "source": [
    "# 민코딩 훈련반1 Level 17.5 - 문제 9번\n",
    "\n",
    "arr = list(map(int, input().split()))\n",
    "def smin(arr1):\n",
    "    arr2 = [0]*(len(arr1))\n",
    "    for i in range(len(arr1)):\n",
    "        arr2[i] = arr1[i]\n",
    "    for j in range(len(arr1)):\n",
    "        if j%2:\n",
    "            arr[j] = 0\n",
    "    for m in range(len(arr1)):\n",
    "        for n in range(m+1, len(arr1)):\n",
    "            if arr1[m] > arr1[n]:\n",
    "                arr1[m], arr1[n] = arr1[n], arr1[m]\n",
    "    for k in range(len(arr2)):\n",
    "        if arr2[k] == arr1[3]:\n",
    "            print(\"arr[{}]={}\".format(k, arr2[k]))\n",
    "smin(arr)"
   ]
  },
  {
   "cell_type": "code",
   "execution_count": 19,
   "id": "711dfd04",
   "metadata": {},
   "outputs": [
    {
     "name": "stdout",
     "output_type": "stream",
     "text": [
      "0 1 1\n",
      "1 1 1\n",
      "1 1 1\n",
      "미발견\n"
     ]
    }
   ],
   "source": [
    "# 민코딩 훈련반1 Level 17.5 - 문제 10번\n",
    "\n",
    "arr = [[3, 1, 9], [7, 2, 1], [1, 0, 8]]\n",
    "inp = [list(map(int, input().split())) for _ in range(3)]\n",
    "rst = 0\n",
    "for i in range(3):\n",
    "    for j in range(3):\n",
    "        if inp[i][j] == 1:\n",
    "            if 3 <= arr[i][j] <= 5:\n",
    "                rst += 1\n",
    "if rst > 0:\n",
    "    print(\"발견\")\n",
    "else:\n",
    "    print(\"미발견\")"
   ]
  },
  {
   "cell_type": "code",
   "execution_count": 21,
   "id": "cab2bf30",
   "metadata": {},
   "outputs": [
    {
     "name": "stdout",
     "output_type": "stream",
     "text": [
      "0 1 0 1\n",
      "7\n"
     ]
    }
   ],
   "source": [
    "# 민코딩 훈련반1 Level 17.5 - 문제 11번\n",
    "\n",
    "lst = [3, 5, 4, 2]\n",
    "inp = list(map(int, input().split()))\n",
    "rst = 0\n",
    "for i in range(4):\n",
    "    if inp[i] == 1:\n",
    "        rst += lst[i]\n",
    "print(rst)"
   ]
  },
  {
   "cell_type": "code",
   "execution_count": 27,
   "id": "2591f920",
   "metadata": {},
   "outputs": [
    {
     "name": "stdout",
     "output_type": "stream",
     "text": [
      "F\n",
      "-1,-2\n"
     ]
    }
   ],
   "source": [
    "# 민코딩 훈련반1 Level 17.5 - 문제 12번\n",
    "\n",
    "arr = [['']*5 for _ in range(5)]\n",
    "for i in range(5):\n",
    "    for j in range(5):\n",
    "        arr[j][i] = chr(ord('A')+i+5*j)\n",
    "a = input()\n",
    "for m in range(5):\n",
    "    for n in range(5):\n",
    "        if arr[m][n] == a:\n",
    "            print(\"{},{}\".format(m-2, n-2))"
   ]
  }
 ],
 "metadata": {
  "kernelspec": {
   "display_name": "Python 3 (ipykernel)",
   "language": "python",
   "name": "python3"
  },
  "language_info": {
   "codemirror_mode": {
    "name": "ipython",
    "version": 3
   },
   "file_extension": ".py",
   "mimetype": "text/x-python",
   "name": "python",
   "nbconvert_exporter": "python",
   "pygments_lexer": "ipython3",
   "version": "3.10.1"
  },
  "toc": {
   "base_numbering": 1,
   "nav_menu": {},
   "number_sections": true,
   "sideBar": true,
   "skip_h1_title": false,
   "title_cell": "Table of Contents",
   "title_sidebar": "Contents",
   "toc_cell": false,
   "toc_position": {},
   "toc_section_display": true,
   "toc_window_display": false
  }
 },
 "nbformat": 4,
 "nbformat_minor": 5
}
