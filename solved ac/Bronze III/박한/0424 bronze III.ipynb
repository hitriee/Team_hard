{
 "cells": [
  {
   "cell_type": "code",
   "execution_count": 3,
   "id": "1a487f82",
   "metadata": {},
   "outputs": [
    {
     "name": "stdout",
     "output_type": "stream",
     "text": [
      "26 1000 5\n",
      "Trip # 1:  1.29  928.20\n",
      "27.25 873234 3000\n",
      "Trip # 2:  1179.86  1415.84\n",
      "26 0 1000\n"
     ]
    }
   ],
   "source": [
    "# 백준 브론즈3 2765번\n",
    "\n",
    "from math import pi\n",
    "rst = 0\n",
    "while 1:\n",
    "    lst = list(input().split())\n",
    "    if lst[1] == '0':\n",
    "        break\n",
    "    rst += 1\n",
    "    a = float(lst[0])/63360*pi*int(lst[1])\n",
    "    b = a/int(lst[2])*3600\n",
    "    print(f\"Trip # {rst}: {a: .2f} {b: .2f}\")"
   ]
  },
  {
   "cell_type": "code",
   "execution_count": 7,
   "id": "9f172ba2",
   "metadata": {},
   "outputs": [
    {
     "name": "stdout",
     "output_type": "stream",
     "text": [
      "13 6\n",
      "5\n",
      "56 679\n",
      "35 120\n",
      "99 999\n",
      "56 73\n",
      "37 532\n",
      " 69.55\n"
     ]
    }
   ],
   "source": [
    "# 백준 브론즈3 2783번\n",
    "\n",
    "x, y = map(int, input().split())\n",
    "ans = y/x\n",
    "n = int(input())\n",
    "for i in range(n):\n",
    "    a, b = map(int, input().split())\n",
    "    if a/b < ans:\n",
    "        ans = a/b\n",
    "print(f\"{ans*1000: .2f}\")"
   ]
  },
  {
   "cell_type": "code",
   "execution_count": 8,
   "id": "ad3548e1",
   "metadata": {},
   "outputs": [
    {
     "name": "stdout",
     "output_type": "stream",
     "text": [
      "41 99\n",
      "100 13\n",
      "1\n"
     ]
    }
   ],
   "source": [
    "# 백준 브론즈3 2741번\n",
    "\n",
    "a, b = map(int, input().split())\n",
    "c, d = map(int, input().split())\n",
    "lst = [a/c+b/d, c/d+a/b, d/b+c/a, b/a+d/c]\n",
    "for i in range(4):\n",
    "    if lst[i] == max(lst):\n",
    "        print(i)\n",
    "        break"
   ]
  }
 ],
 "metadata": {
  "kernelspec": {
   "display_name": "Python 3 (ipykernel)",
   "language": "python",
   "name": "python3"
  },
  "language_info": {
   "codemirror_mode": {
    "name": "ipython",
    "version": 3
   },
   "file_extension": ".py",
   "mimetype": "text/x-python",
   "name": "python",
   "nbconvert_exporter": "python",
   "pygments_lexer": "ipython3",
   "version": "3.10.4"
  },
  "toc": {
   "base_numbering": 1,
   "nav_menu": {},
   "number_sections": true,
   "sideBar": true,
   "skip_h1_title": false,
   "title_cell": "Table of Contents",
   "title_sidebar": "Contents",
   "toc_cell": false,
   "toc_position": {},
   "toc_section_display": true,
   "toc_window_display": false
  }
 },
 "nbformat": 4,
 "nbformat_minor": 5
}
