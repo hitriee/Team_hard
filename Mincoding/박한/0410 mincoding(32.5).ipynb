{
 "cells": [
  {
   "cell_type": "code",
   "execution_count": 2,
   "id": "482d7df2",
   "metadata": {},
   "outputs": [
    {
     "name": "stdout",
     "output_type": "stream",
     "text": [
      "2\n",
      "5번\n",
      "6번\n",
      "3번\n",
      "1번\n",
      "2번\n"
     ]
    }
   ],
   "source": [
    "# 민코딩 심화반1 Level 32.5 - 문제 5번 : 다이하드3\n",
    "\n",
    "lst = [3, 2, -1, 3, -2, 0, -1]\n",
    "n = int(input())\n",
    "route = []\n",
    "def abc(level):\n",
    "    if level == 5:\n",
    "        route.append(level)\n",
    "        for i in range(len(route)-1, -1, -1):\n",
    "            print(f\"{route[i]}번\")\n",
    "        return\n",
    "    route.append(level)\n",
    "    abc(level+lst[level])\n",
    "abc(n)"
   ]
  },
  {
   "cell_type": "code",
   "execution_count": 7,
   "id": "8758551c",
   "metadata": {},
   "outputs": [
    {
     "name": "stdout",
     "output_type": "stream",
     "text": [
      "6 6\n",
      "1 0 1 0 0 1\n",
      "1 1 1 0 0 1\n",
      "0 0 0 0 0 1\n",
      "0 0 0 0 0 1\n",
      "0 0 0 0 0 1\n",
      "1 1 1 1 1 1\n",
      "1 1 1 1 1 1 \n",
      "1 0 0 0 0 0 \n",
      "1 0 0 0 0 0 \n",
      "1 0 0 0 0 0 \n",
      "1 0 0 1 1 1 \n",
      "1 0 0 1 0 1 \n"
     ]
    }
   ],
   "source": [
    "# 민코딩 심화반1 Level 32.5 - 문제 6번 : 이미지 돌리기\n",
    "\n",
    "n, k = map(int, input().split())\n",
    "arr = [list(map(int, input().split())) for _ in range(n)]\n",
    "k = k%4\n",
    "def abc(level, arr):\n",
    "    if level == k:\n",
    "        for i in range(n):\n",
    "            for j in range(n):\n",
    "                print(arr[i][j], end=\" \")\n",
    "            print()\n",
    "        return\n",
    "    arr1 = [[0]*n for _ in range(n)]\n",
    "    for i in range(n):\n",
    "        for j in range(n):\n",
    "            arr1[i][j] = arr[n-1-j][i]\n",
    "    abc(level+1, arr1)\n",
    "abc(0, arr)"
   ]
  }
 ],
 "metadata": {
  "kernelspec": {
   "display_name": "Python 3 (ipykernel)",
   "language": "python",
   "name": "python3"
  },
  "language_info": {
   "codemirror_mode": {
    "name": "ipython",
    "version": 3
   },
   "file_extension": ".py",
   "mimetype": "text/x-python",
   "name": "python",
   "nbconvert_exporter": "python",
   "pygments_lexer": "ipython3",
   "version": "3.10.1"
  },
  "toc": {
   "base_numbering": 1,
   "nav_menu": {},
   "number_sections": true,
   "sideBar": true,
   "skip_h1_title": false,
   "title_cell": "Table of Contents",
   "title_sidebar": "Contents",
   "toc_cell": false,
   "toc_position": {},
   "toc_section_display": true,
   "toc_window_display": false
  }
 },
 "nbformat": 4,
 "nbformat_minor": 5
}
