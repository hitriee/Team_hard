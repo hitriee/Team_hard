{
 "cells": [
  {
   "cell_type": "code",
   "execution_count": 4,
   "id": "50965d22",
   "metadata": {},
   "outputs": [
    {
     "name": "stdout",
     "output_type": "stream",
     "text": [
      "10\n",
      "6 3 2 10 10 10 -10 -10 7 3\n",
      "8\n",
      "10 9 -5 2 3 4 5 -10\n",
      "3 0 0 1 2 0 0 2 "
     ]
    }
   ],
   "source": [
    "# 백준 class 2++ 10816 숫자 카드 2\n",
    "\n",
    "def abc(a):\n",
    "    ans = 0\n",
    "    for k in range(a, n):\n",
    "        if lst[k] == lst[a]:\n",
    "            ans += 1\n",
    "        else:\n",
    "            break\n",
    "    return ans\n",
    "n = int(input())\n",
    "lst = list(map(int, input().split()))\n",
    "lst.sort()\n",
    "m = int(input())\n",
    "cards = list(map(int, input().split()))\n",
    "check = [0]*m\n",
    "for i in range(m):\n",
    "    for j in range(n):\n",
    "        if cards[i] == lst[j]:\n",
    "            check[i] += abc(j)\n",
    "            break\n",
    "    print(check[i], end=\" \")\n",
    "    \n",
    "# 자꾸 시간초과 남 ㅠㅠ"
   ]
  }
 ],
 "metadata": {
  "kernelspec": {
   "display_name": "Python 3 (ipykernel)",
   "language": "python",
   "name": "python3"
  },
  "language_info": {
   "codemirror_mode": {
    "name": "ipython",
    "version": 3
   },
   "file_extension": ".py",
   "mimetype": "text/x-python",
   "name": "python",
   "nbconvert_exporter": "python",
   "pygments_lexer": "ipython3",
   "version": "3.10.4"
  },
  "toc": {
   "base_numbering": 1,
   "nav_menu": {},
   "number_sections": true,
   "sideBar": true,
   "skip_h1_title": false,
   "title_cell": "Table of Contents",
   "title_sidebar": "Contents",
   "toc_cell": false,
   "toc_position": {},
   "toc_section_display": true,
   "toc_window_display": false
  }
 },
 "nbformat": 4,
 "nbformat_minor": 5
}
