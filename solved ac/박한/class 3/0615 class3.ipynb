{
 "cells": [
  {
   "cell_type": "code",
   "execution_count": 10,
   "id": "364228e1",
   "metadata": {},
   "outputs": [
    {
     "name": "stdout",
     "output_type": "stream",
     "text": [
      "2\n",
      "10 10 1\n",
      "5 5\n",
      "1\n",
      "5 3 6\n",
      "0 2\n",
      "1 2\n",
      "2 2\n",
      "3 2\n",
      "4 2\n",
      "4 0\n",
      "2\n"
     ]
    }
   ],
   "source": [
    "# 백준 class 3++ 1012 유기농 배추\n",
    "\n",
    "from collections import deque\n",
    "\n",
    "T = int(input())\n",
    "for _ in range(T):\n",
    "    m, n, k = map(int, input().split())\n",
    "    arr = [[0]*m for _ in range(n)]\n",
    "    check = [[0]*m for _ in range(n)]\n",
    "    for _ in range(k):\n",
    "        a, b = map(int, input().split())\n",
    "        arr[b][a] = 1\n",
    "    def abc(i, j):\n",
    "        q = deque()\n",
    "        q.append([i, j])\n",
    "        while q:\n",
    "            now = q.popleft()\n",
    "            nowy, nowx = now[0], now[1]\n",
    "            directy = [-1, 1, 0, 0]\n",
    "            directx = [0, 0, -1, 1]\n",
    "            for x in range(4):\n",
    "                dy = nowy + directy[x]\n",
    "                dx = nowx + directx[x]\n",
    "                if dy < 0 or dy >= n or dx < 0 or dx >= m:\n",
    "                    continue\n",
    "                if check[dy][dx] == 1:\n",
    "                    continue\n",
    "                if arr[dy][dx] == 1:\n",
    "                    check[dy][dx] = 1\n",
    "                    q.append([dy, dx])\n",
    "    rst = 0\n",
    "    for i in range(n):\n",
    "        for j in range(m):\n",
    "            if arr[i][j] == 1:\n",
    "                if check[i][j] == 0:\n",
    "                    check[i][j] = 1\n",
    "                    rst += 1\n",
    "                    abc(i, j)\n",
    "    print(rst)"
   ]
  }
 ],
 "metadata": {
  "kernelspec": {
   "display_name": "Python 3 (ipykernel)",
   "language": "python",
   "name": "python3"
  },
  "language_info": {
   "codemirror_mode": {
    "name": "ipython",
    "version": 3
   },
   "file_extension": ".py",
   "mimetype": "text/x-python",
   "name": "python",
   "nbconvert_exporter": "python",
   "pygments_lexer": "ipython3",
   "version": "3.10.4"
  },
  "toc": {
   "base_numbering": 1,
   "nav_menu": {},
   "number_sections": true,
   "sideBar": true,
   "skip_h1_title": false,
   "title_cell": "Table of Contents",
   "title_sidebar": "Contents",
   "toc_cell": false,
   "toc_position": {},
   "toc_section_display": true,
   "toc_window_display": false
  }
 },
 "nbformat": 4,
 "nbformat_minor": 5
}
