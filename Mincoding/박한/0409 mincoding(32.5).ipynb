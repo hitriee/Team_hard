{
 "cells": [
  {
   "cell_type": "code",
   "execution_count": 9,
   "id": "7f115d19",
   "metadata": {},
   "outputs": [
    {
     "name": "stdout",
     "output_type": "stream",
     "text": [
      "5\n",
      "15 DOWN\n",
      "14 DOWN\n",
      "3 UP\n",
      "6 UP\n",
      "10 UP\n",
      "11 ~ 13\n"
     ]
    }
   ],
   "source": [
    "# 민코딩 심화반1 Level 32.5 - 문제 4번 : 병뚜껑 번호 맞추기\n",
    "\n",
    "n = int(input())\n",
    "lst = list(input().split() for _ in range(n))\n",
    "def abc(level, start, end):\n",
    "    if level == n:\n",
    "        print(f\"{start} ~ {end}\")\n",
    "        return\n",
    "    if lst[level][1] == 'UP':\n",
    "        if int(lst[level][0]) >= end:\n",
    "            print('ERROR')\n",
    "            return\n",
    "        elif (end-int(lst[level][0])) == 1:\n",
    "            print(end)\n",
    "            return\n",
    "        else:\n",
    "            abc(level+1, int(lst[level][0])+1, end)\n",
    "    else:\n",
    "        if int(lst[level][0]) <= start:\n",
    "            print('ERROR')\n",
    "            return\n",
    "        elif (int(lst[level][0])-start) == 1:\n",
    "            print(start)\n",
    "            return\n",
    "        else:\n",
    "            abc(level+1, start, int(lst[level][0])-1)\n",
    "abc(0, 1, 50)"
   ]
  }
 ],
 "metadata": {
  "kernelspec": {
   "display_name": "Python 3 (ipykernel)",
   "language": "python",
   "name": "python3"
  },
  "language_info": {
   "codemirror_mode": {
    "name": "ipython",
    "version": 3
   },
   "file_extension": ".py",
   "mimetype": "text/x-python",
   "name": "python",
   "nbconvert_exporter": "python",
   "pygments_lexer": "ipython3",
   "version": "3.10.1"
  },
  "toc": {
   "base_numbering": 1,
   "nav_menu": {},
   "number_sections": true,
   "sideBar": true,
   "skip_h1_title": false,
   "title_cell": "Table of Contents",
   "title_sidebar": "Contents",
   "toc_cell": false,
   "toc_position": {},
   "toc_section_display": true,
   "toc_window_display": false
  }
 },
 "nbformat": 4,
 "nbformat_minor": 5
}
