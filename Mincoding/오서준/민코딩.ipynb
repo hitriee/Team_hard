{
 "cells": [
  {
   "cell_type": "markdown",
   "id": "4cf5d278",
   "metadata": {},
   "source": [
    "## 3"
   ]
  },
  {
   "cell_type": "code",
   "execution_count": 118,
   "id": "c90adb14",
   "metadata": {},
   "outputs": [
    {
     "name": "stdout",
     "output_type": "stream",
     "text": [
      "6 4\n",
      "큰수는 6\n"
     ]
    }
   ],
   "source": [
    "#1\n",
    "a,s = input().split()\n",
    "a, s= int(a),int(s)\n",
    "if a>s:\n",
    "    print(f'큰수는 {a}')\n",
    "elif a==s:\n",
    "    print('같은숫자')\n",
    "else:\n",
    "    print(f'큰수는 {s}')"
   ]
  },
  {
   "cell_type": "code",
   "execution_count": 119,
   "id": "eefdaf73",
   "metadata": {},
   "outputs": [
    {
     "name": "stdout",
     "output_type": "stream",
     "text": [
      "5\n",
      "만세\n"
     ]
    }
   ],
   "source": [
    "#2\n",
    "a =int(input())\n",
    "if a==5 or a==10:\n",
    "    print('만세')\n",
    "else:\n",
    "    print('재도전')"
   ]
  },
  {
   "cell_type": "code",
   "execution_count": 120,
   "id": "84abcb05",
   "metadata": {},
   "outputs": [
    {
     "name": "stdout",
     "output_type": "stream",
     "text": [
      "7 9\n",
      "인증됨\n"
     ]
    }
   ],
   "source": [
    "#3\n",
    "a,s = input().split()\n",
    "a,s= int(a), int(s)\n",
    "if a==7:\n",
    "    if s==9:\n",
    "        print('인증됨')\n",
    "    else:\n",
    "        print('재시도')\n",
    "else:\n",
    "    print('재시도')"
   ]
  },
  {
   "cell_type": "code",
   "execution_count": 122,
   "id": "f986ef94",
   "metadata": {},
   "outputs": [
    {
     "name": "stdout",
     "output_type": "stream",
     "text": [
      "3\n",
      "4\n",
      "5\n",
      "6\n",
      "7\n",
      "8\n",
      "9\n",
      "10\n"
     ]
    }
   ],
   "source": [
    "#4\n",
    "for y in range(3,11):\n",
    "    print(y)"
   ]
  },
  {
   "cell_type": "code",
   "execution_count": 126,
   "id": "64f72989",
   "metadata": {},
   "outputs": [
    {
     "name": "stdout",
     "output_type": "stream",
     "text": [
      "3 7\n",
      "3\n",
      "4\n",
      "5\n",
      "6\n",
      "7\n"
     ]
    }
   ],
   "source": [
    "#5\n",
    "a,s= input().split()\n",
    "a,s= int(a), int(s)\n",
    "for v in range(a,s+1):\n",
    "    print(v)"
   ]
  },
  {
   "cell_type": "code",
   "execution_count": 127,
   "id": "26bee1e7",
   "metadata": {},
   "outputs": [
    {
     "name": "stdout",
     "output_type": "stream",
     "text": [
      "PIZZAHOT\n",
      "PIZZAHOT\n",
      "PIZZAHOT\n",
      "PIZZAHOT\n",
      "PIZZAHOT\n",
      "PIZZAHOT\n",
      "PIZZAHOT\n",
      "PIZZAHOT\n",
      "PIZZAHOT\n",
      "PIZZAHOT\n",
      "PIZZAHOT\n",
      "PIZZAHOT\n",
      "PIZZAHOT\n",
      "PIZZAHOT\n",
      "PIZZAHOT\n",
      "PIZZAHOT\n",
      "PIZZAHOT\n",
      "PIZZAHOT\n",
      "PIZZAHOT\n",
      "PIZZAHOT\n",
      "PIZZAHOT\n",
      "PIZZAHOT\n",
      "PIZZAHOT\n",
      "PIZZAHOT\n",
      "PIZZAHOT\n"
     ]
    }
   ],
   "source": [
    "#6\n",
    "for a in range(25):\n",
    "    print('PIZZAHOT')"
   ]
  },
  {
   "cell_type": "code",
   "execution_count": 128,
   "id": "1ce3d444",
   "metadata": {},
   "outputs": [
    {
     "name": "stdout",
     "output_type": "stream",
     "text": [
      "4\n",
      "##\n",
      "##\n",
      "##\n",
      "##\n"
     ]
    }
   ],
   "source": [
    "#7\n",
    "s= int(input())\n",
    "for a in range(s):\n",
    "    print('##')"
   ]
  },
  {
   "cell_type": "code",
   "execution_count": 155,
   "id": "4215e36f",
   "metadata": {},
   "outputs": [
    {
     "name": "stdout",
     "output_type": "stream",
     "text": [
      "10 9 8 7 6 5 4 3 2 1 \n"
     ]
    }
   ],
   "source": [
    "#8\n",
    "y=''\n",
    "for a in range(10,0,-1):\n",
    "    y=y+ str(a)+' '\n",
    "print(y)"
   ]
  },
  {
   "cell_type": "code",
   "execution_count": 146,
   "id": "63785fdd",
   "metadata": {},
   "outputs": [
    {
     "data": {
      "text/plain": [
       "[10, 9, 8, 7, 6, 5, 4, 3, 2, 1]"
      ]
     },
     "execution_count": 146,
     "metadata": {},
     "output_type": "execute_result"
    }
   ],
   "source": [
    "#9\n",
    "list(range(10,0,-1))"
   ]
  },
  {
   "cell_type": "code",
   "execution_count": 158,
   "id": "e43daa45",
   "metadata": {},
   "outputs": [
    {
     "name": "stdout",
     "output_type": "stream",
     "text": [
      "240\n"
     ]
    }
   ],
   "source": [
    "#10\n",
    "a=int(input())\n",
    "if (a*2+20)/5!=100:\n",
    "    print('Magic')\n",
    "else:\n",
    "    pass"
   ]
  },
  {
   "cell_type": "code",
   "execution_count": 160,
   "id": "d7d5f511",
   "metadata": {},
   "outputs": [
    {
     "name": "stdout",
     "output_type": "stream",
     "text": [
      "2 9\n",
      "23456789\n"
     ]
    }
   ],
   "source": [
    "#11\n",
    "a,b=input().split()\n",
    "a,b = int(a), int(b)\n",
    "y=''\n",
    "for c in range(a,b+1):\n",
    "    y=y+str(c)\n",
    "print(y)"
   ]
  },
  {
   "cell_type": "code",
   "execution_count": 161,
   "id": "eaaa916b",
   "metadata": {},
   "outputs": [
    {
     "name": "stdout",
     "output_type": "stream",
     "text": [
      "5\n",
      "0\n",
      "1\n",
      "2\n",
      "3\n",
      "4\n",
      "5\n"
     ]
    }
   ],
   "source": [
    "#12\n",
    "a=int(input())\n",
    "for c in range(a+1):\n",
    "    print(c)"
   ]
  },
  {
   "cell_type": "code",
   "execution_count": 162,
   "id": "e724b9d3",
   "metadata": {},
   "outputs": [
    {
     "name": "stdout",
     "output_type": "stream",
     "text": [
      "3 8 9\n",
      "216\n"
     ]
    }
   ],
   "source": [
    "#13\n",
    "a,s,d = input().split()\n",
    "a,s,d = int(a), int(s), int(d)\n",
    "if a+s+d>10:\n",
    "    print(a*s*d)\n",
    "else:\n",
    "    print(0)"
   ]
  },
  {
   "cell_type": "code",
   "execution_count": 163,
   "id": "58b9411e",
   "metadata": {},
   "outputs": [
    {
     "name": "stdout",
     "output_type": "stream",
     "text": [
      "4\n",
      "4\n",
      "3\n",
      "2\n",
      "1\n",
      "0\n",
      "발사\n"
     ]
    }
   ],
   "source": [
    "#14\n",
    "a= int(input())\n",
    "for s in range(a,-1,-1):\n",
    "    print(s)\n",
    "print('발사')"
   ]
  },
  {
   "cell_type": "code",
   "execution_count": 166,
   "id": "ec816c24",
   "metadata": {},
   "outputs": [
    {
     "name": "stdout",
     "output_type": "stream",
     "text": [
      "-5 -4 -3 -2 -1 0 1 2 3 4 5 \n"
     ]
    }
   ],
   "source": [
    "#15\n",
    "y=''\n",
    "for a in range(-5,6,1):\n",
    "    y= y+str(a)+' '\n",
    "print(y)"
   ]
  },
  {
   "cell_type": "markdown",
   "id": "edd2b870",
   "metadata": {},
   "source": [
    "## 3.5"
   ]
  },
  {
   "cell_type": "code",
   "execution_count": 167,
   "id": "20cc8517",
   "metadata": {},
   "outputs": [
    {
     "name": "stdout",
     "output_type": "stream",
     "text": [
      "3 4 5 6 7 8 \n"
     ]
    }
   ],
   "source": [
    "#1\n",
    "u=''\n",
    "for a in range(3,9):\n",
    "    u = u+str(a)+' '\n",
    "print(u)"
   ]
  },
  {
   "cell_type": "code",
   "execution_count": 169,
   "id": "df050221",
   "metadata": {},
   "outputs": [
    {
     "name": "stdout",
     "output_type": "stream",
     "text": [
      "5\n",
      "555 \n",
      "666 \n",
      "777\n"
     ]
    }
   ],
   "source": [
    "#2\n",
    "a= int(input())\n",
    "print(str(a)*3,'\\n'+str(a+1)*3, '\\n'+str(a+2)*3)"
   ]
  },
  {
   "cell_type": "code",
   "execution_count": 171,
   "id": "712ffcbf",
   "metadata": {},
   "outputs": [
    {
     "name": "stdout",
     "output_type": "stream",
     "text": [
      "1 9 8 3\n",
      "로그인실패\n"
     ]
    }
   ],
   "source": [
    "#3\n",
    "a,s,d,f=input().split()\n",
    "a,s,d,f=int(a),int(s),int(d), int(f)\n",
    "if a==1:\n",
    "    if s==2:\n",
    "        if d==3:\n",
    "            if f==4:\n",
    "                print('로그인성공')\n",
    "            else:\n",
    "                print('로그인실패')\n",
    "        else:\n",
    "            print('로그인실패')\n",
    "    else:\n",
    "        print('로그인실패')\n",
    "else:\n",
    "    print('로그인실패')"
   ]
  },
  {
   "cell_type": "code",
   "execution_count": 172,
   "id": "5f4ca363",
   "metadata": {},
   "outputs": [
    {
     "name": "stdout",
     "output_type": "stream",
     "text": [
      "8\n",
      "10 11 12\n"
     ]
    }
   ],
   "source": [
    "#4\n",
    "a =int(input())\n",
    "print(a+2, a+3, a+4)"
   ]
  },
  {
   "cell_type": "code",
   "execution_count": 175,
   "id": "02e9f0d6",
   "metadata": {},
   "outputs": [
    {
     "name": "stdout",
     "output_type": "stream",
     "text": [
      "2 7 9\n",
      "MAX아님\n"
     ]
    }
   ],
   "source": [
    "#5\n",
    "a,s,d= input().split()\n",
    "a,s,d=int(a), int(s), int(d)\n",
    "if a>=s and a>=d:\n",
    "    print('MAX발견')\n",
    "else:\n",
    "    print('MAX아님')"
   ]
  },
  {
   "cell_type": "code",
   "execution_count": 176,
   "id": "2605fe98",
   "metadata": {},
   "outputs": [
    {
     "name": "stdout",
     "output_type": "stream",
     "text": [
      "3 5\n",
      "작은 사이즈\n"
     ]
    }
   ],
   "source": [
    "#6\n",
    "a,s= input().split()\n",
    "a,s=int(a), int(s)\n",
    "if 30<a*s<50:\n",
    "    print('적당한 사이즈')\n",
    "elif a*s>=50:\n",
    "    print('큰 사이즈')\n",
    "else:\n",
    "    print('작은 사이즈')"
   ]
  },
  {
   "cell_type": "code",
   "execution_count": 180,
   "id": "8e32b5e3",
   "metadata": {},
   "outputs": [
    {
     "name": "stdout",
     "output_type": "stream",
     "text": [
      "17 3\n",
      "16 15 14 \n"
     ]
    }
   ],
   "source": [
    "#7\n",
    "a,x= input().split()\n",
    "a,x=int(a), int(x)\n",
    "y=''\n",
    "for v in range(a-1,a-x-1,-1):\n",
    "    y= y+str(v)+' '\n",
    "print(y)"
   ]
  },
  {
   "cell_type": "code",
   "execution_count": 184,
   "id": "fc981d63",
   "metadata": {},
   "outputs": [
    {
     "name": "stdout",
     "output_type": "stream",
     "text": [
      "2 5 8\n",
      "2 3 4 5 \n",
      "2 3 4 5 6 7 8 \n"
     ]
    }
   ],
   "source": [
    "#8\n",
    "a,b,c= input().split()\n",
    "a,b, c=int(a), int(b), int(c)\n",
    "t,g='',''\n",
    "for v in range(a,b+1):\n",
    "    t=t+str(v)+' '\n",
    "for k in range(a,c+1):\n",
    "    g=g+str(k)+' '\n",
    "print(t)\n",
    "print(g)"
   ]
  },
  {
   "cell_type": "code",
   "execution_count": 185,
   "id": "5bc16d36",
   "metadata": {},
   "outputs": [
    {
     "name": "stdout",
     "output_type": "stream",
     "text": [
      "9 6\n",
      "8 5\n",
      "7 4\n",
      "6 3\n"
     ]
    }
   ],
   "source": [
    "#9\n",
    "for a in range(9,5,-1):\n",
    "    print(a,a-3)"
   ]
  },
  {
   "cell_type": "code",
   "execution_count": 188,
   "id": "89974bc1",
   "metadata": {},
   "outputs": [
    {
     "name": "stdout",
     "output_type": "stream",
     "text": [
      "5\n",
      "1 3 5 7 9 \n"
     ]
    }
   ],
   "source": [
    "#10\n",
    "a=int(input())\n",
    "c=''\n",
    "for b in range(1,2*a,2):\n",
    "    c=c+str(b)+' '\n",
    "print(c)"
   ]
  },
  {
   "cell_type": "code",
   "execution_count": 189,
   "id": "42cc2863",
   "metadata": {},
   "outputs": [
    {
     "name": "stdout",
     "output_type": "stream",
     "text": [
      "시작\n",
      "12345\n",
      "종료\n"
     ]
    }
   ],
   "source": [
    "#11\n",
    "a=['시작', '12345','종료']\n",
    "for d in a:\n",
    "    print(d)"
   ]
  },
  {
   "cell_type": "code",
   "execution_count": 190,
   "id": "2cbadc90",
   "metadata": {},
   "outputs": [
    {
     "name": "stdout",
     "output_type": "stream",
     "text": [
      "5\n",
      "##\n",
      "@@\n",
      "##\n",
      "@@\n",
      "##\n",
      "@@\n",
      "##\n",
      "@@\n",
      "##\n",
      "@@\n"
     ]
    }
   ],
   "source": [
    "#12\n",
    "a= int(input())\n",
    "for s in range(a):\n",
    "    print('##\\n@@')"
   ]
  },
  {
   "cell_type": "code",
   "execution_count": 192,
   "id": "20c10cc3",
   "metadata": {},
   "outputs": [
    {
     "name": "stdout",
     "output_type": "stream",
     "text": [
      "1번go!!\n",
      "2번go!!\n",
      "3번go!!\n",
      "4번go!!\n",
      "5번go!!\n"
     ]
    }
   ],
   "source": [
    "#13\n",
    "a='번go!!'\n",
    "for s in range(1,6):\n",
    "    print(str(s)+a)"
   ]
  },
  {
   "cell_type": "code",
   "execution_count": 193,
   "id": "a582e137",
   "metadata": {},
   "outputs": [
    {
     "name": "stdout",
     "output_type": "stream",
     "text": [
      "1111 2345\n",
      "비밀번호가 틀렸습니다\n"
     ]
    }
   ],
   "source": [
    "#14\n",
    "a,s= input().split()\n",
    "a,s=int(a), int(s)\n",
    "if a==1111:\n",
    "    if s==2222:\n",
    "        print('로그인성공')\n",
    "    else:\n",
    "        print('비밀번호가 틀렸습니다')\n",
    "else:\n",
    "    print('아이디가 틀렸습니다')"
   ]
  },
  {
   "cell_type": "code",
   "execution_count": 194,
   "id": "d67c39ca",
   "metadata": {},
   "outputs": [
    {
     "name": "stdout",
     "output_type": "stream",
     "text": [
      "5\n",
      "543210\n"
     ]
    }
   ],
   "source": [
    "#15\n",
    "a=int(input())\n",
    "e=''\n",
    "for s in range(a,-1,-1):\n",
    "    e=e+str(s)\n",
    "print(e)"
   ]
  },
  {
   "cell_type": "code",
   "execution_count": null,
   "id": "44bf0c73",
   "metadata": {},
   "outputs": [],
   "source": []
  }
 ],
 "metadata": {
  "kernelspec": {
   "display_name": "Python 3 (ipykernel)",
   "language": "python",
   "name": "python3"
  },
  "language_info": {
   "codemirror_mode": {
    "name": "ipython",
    "version": 3
   },
   "file_extension": ".py",
   "mimetype": "text/x-python",
   "name": "python",
   "nbconvert_exporter": "python",
   "pygments_lexer": "ipython3",
   "version": "3.9.7"
  },
  "toc": {
   "base_numbering": 1,
   "nav_menu": {},
   "number_sections": true,
   "sideBar": true,
   "skip_h1_title": false,
   "title_cell": "Table of Contents",
   "title_sidebar": "Contents",
   "toc_cell": false,
   "toc_position": {},
   "toc_section_display": true,
   "toc_window_display": false
  }
 },
 "nbformat": 4,
 "nbformat_minor": 5
}
