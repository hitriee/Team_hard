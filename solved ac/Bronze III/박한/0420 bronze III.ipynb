{
 "cells": [
  {
   "cell_type": "code",
   "execution_count": 2,
   "id": "1818de0e",
   "metadata": {},
   "outputs": [
    {
     "name": "stdout",
     "output_type": "stream",
     "text": [
      "2\n",
      "\n",
      "5\n",
      "5\n",
      "2\n",
      "7\n",
      "3\n",
      "8\n",
      "YES\n",
      "\n",
      "6\n",
      "7\n",
      "11\n",
      "2\n",
      "7\n",
      "3\n",
      "4\n",
      "NO\n"
     ]
    }
   ],
   "source": [
    "# 백준 브론즈3 2547번\n",
    "\n",
    "T = int(input())\n",
    "for t in range(T):\n",
    "    no = input()\n",
    "    n = int(input())\n",
    "    lst = [int(input()) for _ in range(n)]\n",
    "    if sum(lst)%n == 0:\n",
    "        print(\"YES\")\n",
    "    else:\n",
    "        print(\"NO\")"
   ]
  },
  {
   "cell_type": "code",
   "execution_count": 3,
   "id": "ea6585ea",
   "metadata": {},
   "outputs": [
    {
     "name": "stdout",
     "output_type": "stream",
     "text": [
      "3 23 85 34 17 74 25 52 65\n",
      "10 7 39 42 88 52 14 72 63\n",
      "87 42 18 78 53 45 18 84 53\n",
      "34 28 64 85 12 16 75 36 55\n",
      "21 77 45 35 28 75 90 76 1\n",
      "25 87 65 15 28 11 37 28 74\n",
      "65 27 75 41 7 89 78 64 39\n",
      "47 47 70 45 23 65 3 41 44\n",
      "87 13 82 38 31 12 29 29 80\n",
      "90\n",
      "4 6\n"
     ]
    }
   ],
   "source": [
    "# 백준 브론즈3 2566번\n",
    "\n",
    "arr = [list(map(int, input().split())) for _ in range(9)]\n",
    "ans, a, b = -1, 0, 0\n",
    "for i in range(9):\n",
    "    for j in range(9):\n",
    "        if arr[i][j] > ans:\n",
    "            ans = arr[i][j]\n",
    "            a, b = i+1, j+1\n",
    "print(ans)\n",
    "print(a, b)"
   ]
  },
  {
   "cell_type": "code",
   "execution_count": 4,
   "id": "84b66591",
   "metadata": {},
   "outputs": [
    {
     "name": "stdout",
     "output_type": "stream",
     "text": [
      "12\n",
      "77\n",
      "38\n",
      "41\n",
      "53\n",
      "92\n",
      "85\n",
      "256\n",
      "41\n"
     ]
    }
   ],
   "source": [
    "# 백준 브론즈3 2576번\n",
    "\n",
    "lst = [int(input()) for _ in range(7)]\n",
    "rst = -1\n",
    "lst1 = []\n",
    "for i in range(7):\n",
    "    if lst[i]%2 == 1:\n",
    "        lst1.append(lst[i])\n",
    "        rst += 1\n",
    "if rst != -1:\n",
    "    print(sum(lst1))\n",
    "    print(min(lst1))\n",
    "else:\n",
    "    print(rst)"
   ]
  }
 ],
 "metadata": {
  "kernelspec": {
   "display_name": "Python 3 (ipykernel)",
   "language": "python",
   "name": "python3"
  },
  "language_info": {
   "codemirror_mode": {
    "name": "ipython",
    "version": 3
   },
   "file_extension": ".py",
   "mimetype": "text/x-python",
   "name": "python",
   "nbconvert_exporter": "python",
   "pygments_lexer": "ipython3",
   "version": "3.10.1"
  },
  "toc": {
   "base_numbering": 1,
   "nav_menu": {},
   "number_sections": true,
   "sideBar": true,
   "skip_h1_title": false,
   "title_cell": "Table of Contents",
   "title_sidebar": "Contents",
   "toc_cell": false,
   "toc_position": {},
   "toc_section_display": true,
   "toc_window_display": false
  }
 },
 "nbformat": 4,
 "nbformat_minor": 5
}
