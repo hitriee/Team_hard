{
 "cells": [
  {
   "cell_type": "code",
   "execution_count": null,
   "id": "4076361e",
   "metadata": {},
   "outputs": [],
   "source": [
    "# codeFestival_1. 71번\n",
    "\n",
    "# 1. pass - stack += graph[n] - set(visited)\n",
    "\n",
    "# 2. \n",
    "graph = {\n",
    "    'A': set(['B', 'C', 'E']),\n",
    "    'B': set(['A']),\n",
    "    'C': set(['A']),\n",
    "    'D': set(['E', 'F']),\n",
    "    'E': set(['A', 'D']),\n",
    "    'F': set(['D'])\n",
    "}\n",
    "def dfs(graph, start):\n",
    "    visited = []\n",
    "    stack = [start]\n",
    "    while stack:\n",
    "        n = stack.pop()\n",
    "        if n not in visited:\n",
    "            visited.append(n)\n",
    "            stack += graph[n] - set(visited)\n",
    "    return visited\n",
    "print(dfs(graph, 'E'))\n",
    "\n",
    "# 3. ?"
   ]
  },
  {
   "cell_type": "code",
   "execution_count": null,
   "id": "dc4d2fd9",
   "metadata": {},
   "outputs": [],
   "source": [
    "# codeFestival_1. 72번\n",
    "\n",
    "# pass - n = queue.pop()"
   ]
  },
  {
   "cell_type": "code",
   "execution_count": 7,
   "id": "00d23758",
   "metadata": {},
   "outputs": [
    {
     "name": "stdout",
     "output_type": "stream",
     "text": [
      "A F\n",
      "2\n"
     ]
    }
   ],
   "source": [
    "# codeFestival_1. 73번\n",
    "\n",
    "a, b = input().split()\n",
    "graph = {'A': set(['B', 'C']),\n",
    "         'B': set(['A', 'D', 'E']),\n",
    "         'C': set(['A', 'F']),\n",
    "         'D': set(['B']),\n",
    "         'E': set(['B', 'F']),\n",
    "         'F': set(['C', 'E'])}\n",
    "def dfs(graph, s, e):\n",
    "    rst = 0\n",
    "    visited = []\n",
    "    stack = [s]\n",
    "    while e not in stack:\n",
    "        n = stack.pop()\n",
    "        if n not in visited:\n",
    "            visited.append(n)\n",
    "            stack += graph[n] - set(visited)\n",
    "            rst += 1\n",
    "    return rst\n",
    "print(dfs(graph, a, b))"
   ]
  }
 ],
 "metadata": {
  "kernelspec": {
   "display_name": "Python 3 (ipykernel)",
   "language": "python",
   "name": "python3"
  },
  "language_info": {
   "codemirror_mode": {
    "name": "ipython",
    "version": 3
   },
   "file_extension": ".py",
   "mimetype": "text/x-python",
   "name": "python",
   "nbconvert_exporter": "python",
   "pygments_lexer": "ipython3",
   "version": "3.10.1"
  },
  "toc": {
   "base_numbering": 1,
   "nav_menu": {},
   "number_sections": true,
   "sideBar": true,
   "skip_h1_title": false,
   "title_cell": "Table of Contents",
   "title_sidebar": "Contents",
   "toc_cell": false,
   "toc_position": {},
   "toc_section_display": true,
   "toc_window_display": false
  }
 },
 "nbformat": 4,
 "nbformat_minor": 5
}
