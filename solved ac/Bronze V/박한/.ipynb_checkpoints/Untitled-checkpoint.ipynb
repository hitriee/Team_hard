{
 "cells": [
  {
   "cell_type": "code",
   "execution_count": 1,
   "id": "25ea3666",
   "metadata": {},
   "outputs": [
    {
     "name": "stdout",
     "output_type": "stream",
     "text": [
      "15 16 17\n",
      "19 32 90\n",
      "2 2 75\n"
     ]
    }
   ],
   "source": [
    "# 백준 브론즈 5 17256번\n",
    "\n",
    "ax, ay, az = map(int, input().split())\n",
    "cx, cy, cz = map(int, input().split())\n",
    "\n",
    "print(cx-az, cy//ay, cz-ax)"
   ]
  },
  {
   "cell_type": "code",
   "execution_count": null,
   "id": "df03e773",
   "metadata": {},
   "outputs": [],
   "source": [
    "# 백준 브론즈 5 17295번\n",
    "\n",
    "print('Avengers: Endgame')"
   ]
  },
  {
   "cell_type": "code",
   "execution_count": 3,
   "id": "e39b29ca",
   "metadata": {},
   "outputs": [
    {
     "name": "stdout",
     "output_type": "stream",
     "text": [
      "60 10 300 1000\n",
      "1500000\n"
     ]
    }
   ],
   "source": [
    "# 백준 브론즈 5 17496번\n",
    "\n",
    "N, T, C, P = map(int, input().split())\n",
    "print((N-1)//T * C * P)"
   ]
  },
  {
   "cell_type": "code",
   "execution_count": 4,
   "id": "fcfce054",
   "metadata": {},
   "outputs": [
    {
     "name": "stdout",
     "output_type": "stream",
     "text": [
      "2541\n",
      "1998\n"
     ]
    }
   ],
   "source": [
    "# 백준 브론즈 5 18108번\n",
    "\n",
    "print(int(input())-543)"
   ]
  },
  {
   "cell_type": "code",
   "execution_count": 5,
   "id": "770c22e6",
   "metadata": {},
   "outputs": [
    {
     "name": "stdout",
     "output_type": "stream",
     "text": [
      "15 18 11\n",
      "24\n"
     ]
    }
   ],
   "source": [
    "# 백준 브론즈 5 18301번\n",
    "\n",
    "n1, n2, n3 = map(int, input().split())\n",
    "print((((n1+1)*(n2+1))//(n3+1))-1)"
   ]
  },
  {
   "cell_type": "code",
   "execution_count": 6,
   "id": "a064bcbf",
   "metadata": {},
   "outputs": [
    {
     "name": "stdout",
     "output_type": "stream",
     "text": [
      "1 10 100 1000\n",
      "7696\n"
     ]
    }
   ],
   "source": [
    "# 백준 브론즈 5 20254번\n",
    "\n",
    "UR, TR, UO, TO = map(int, input().split())\n",
    "print(56*UR + 24*TR + 14*UO + 6*TO)"
   ]
  },
  {
   "cell_type": "code",
   "execution_count": 13,
   "id": "330404ba",
   "metadata": {},
   "outputs": [
    {
     "name": "stdout",
     "output_type": "stream",
     "text": [
      "1000\n",
      "780 956\n"
     ]
    }
   ],
   "source": [
    "# 백준 브론즈 5 20492번\n",
    "a = int(input())\n",
    "b = 0.78*a\n",
    "c = 0.956*a\n",
    "print(int(b), int(c))"
   ]
  },
  {
   "cell_type": "code",
   "execution_count": 23,
   "id": "adf9e66b",
   "metadata": {},
   "outputs": [
    {
     "name": "stdout",
     "output_type": "stream",
     "text": [
      "0 0 0 23 3 100\n",
      "630\n"
     ]
    }
   ],
   "source": [
    "# 백준 브론즈 5 21300번\n",
    "\n",
    "answer = list(map(int, input().split()))\n",
    "asw = 0\n",
    "for i in answer:\n",
    "    asw += i\n",
    "print(asw*5)"
   ]
  },
  {
   "cell_type": "code",
   "execution_count": 24,
   "id": "1840196a",
   "metadata": {
    "scrolled": true
   },
   "outputs": [
    {
     "name": "stdout",
     "output_type": "stream",
     "text": [
      "3 4\n",
      "123\n",
      "4567\n",
      "561741\n"
     ]
    }
   ],
   "source": [
    "# 백준 브론즈 5 22193번\n",
    "\n",
    "a, b = map(int, input().split())\n",
    "c = int(input())\n",
    "d = int(input())\n",
    "print(c*d)"
   ]
  },
  {
   "cell_type": "code",
   "execution_count": null,
   "id": "9f1b34a6",
   "metadata": {},
   "outputs": [],
   "source": [
    "# 백준 브론즈 5 23234번\n",
    "\n",
    "print('The world says hello!')"
   ]
  },
  {
   "cell_type": "code",
   "execution_count": 25,
   "id": "e5f4a480",
   "metadata": {
    "scrolled": true
   },
   "outputs": [
    {
     "name": "stdout",
     "output_type": "stream",
     "text": [
      "50\n",
      "8\n"
     ]
    }
   ],
   "source": [
    "# 백준 브론즈 5 24078번\n",
    "\n",
    "print(int(input())%21)"
   ]
  },
  {
   "cell_type": "code",
   "execution_count": 26,
   "id": "6ae1779a",
   "metadata": {},
   "outputs": [
    {
     "name": "stdout",
     "output_type": "stream",
     "text": [
      "9\n",
      "729\n"
     ]
    }
   ],
   "source": [
    "# 백준 브론즈 5 24082번\n",
    "\n",
    "print(int(input())**3)"
   ]
  },
  {
   "cell_type": "code",
   "execution_count": 27,
   "id": "ee02356f",
   "metadata": {},
   "outputs": [
    {
     "name": "stdout",
     "output_type": "stream",
     "text": [
      "150\n",
      "155\n",
      "5\n"
     ]
    }
   ],
   "source": [
    "# 백준 브론즈 5 24086번\n",
    "\n",
    "a = int(input())\n",
    "b = int(input())\n",
    "print(b-a)"
   ]
  },
  {
   "cell_type": "code",
   "execution_count": null,
   "id": "72af325c",
   "metadata": {},
   "outputs": [],
   "source": [
    "# 백준 브론즈 5 24262번\n",
    "\n",
    "print(1)\n",
    "print(0)"
   ]
  },
  {
   "cell_type": "code",
   "execution_count": 30,
   "id": "e6e01a37",
   "metadata": {},
   "outputs": [
    {
     "name": "stdout",
     "output_type": "stream",
     "text": [
      "4\n",
      "20\n",
      "8\n",
      "3.0\n"
     ]
    }
   ],
   "source": [
    "# 백준 브론즈 5 24309번\n",
    "\n",
    "a = int(input())\n",
    "b = int(input())\n",
    "c = int(input())\n",
    "print((b-c)//a)"
   ]
  }
 ],
 "metadata": {
  "kernelspec": {
   "display_name": "Python 3 (ipykernel)",
   "language": "python",
   "name": "python3"
  },
  "language_info": {
   "codemirror_mode": {
    "name": "ipython",
    "version": 3
   },
   "file_extension": ".py",
   "mimetype": "text/x-python",
   "name": "python",
   "nbconvert_exporter": "python",
   "pygments_lexer": "ipython3",
   "version": "3.10.1"
  },
  "toc": {
   "base_numbering": 1,
   "nav_menu": {},
   "number_sections": true,
   "sideBar": true,
   "skip_h1_title": false,
   "title_cell": "Table of Contents",
   "title_sidebar": "Contents",
   "toc_cell": false,
   "toc_position": {},
   "toc_section_display": true,
   "toc_window_display": false
  }
 },
 "nbformat": 4,
 "nbformat_minor": 5
}
