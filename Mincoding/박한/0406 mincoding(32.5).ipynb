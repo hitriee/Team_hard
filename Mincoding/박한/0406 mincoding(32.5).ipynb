{
 "cells": [
  {
   "cell_type": "code",
   "execution_count": 11,
   "id": "7c4d0eff",
   "metadata": {},
   "outputs": [
    {
     "name": "stdout",
     "output_type": "stream",
     "text": [
      "A??D\n",
      "2\n"
     ]
    }
   ],
   "source": [
    "# 민코딩 심화반1 Level 32.5 - 문제 1번 : 민코딩 검색엔진\n",
    "\n",
    "lst = ['ABCD', 'ABCE', 'AGEH', 'EIEI', 'FEQE', 'ABAD']\n",
    "ans = []\n",
    "a = input()\n",
    "for i in range(4):\n",
    "    if a[i] != '?':\n",
    "        ans = []\n",
    "        for j in range(len(lst)):\n",
    "            if a[i] == lst[j][i]:\n",
    "                ans.append(lst[j])\n",
    "        lst = ans\n",
    "print(len(lst))"
   ]
  },
  {
   "cell_type": "code",
   "execution_count": 18,
   "id": "bf63c1e5",
   "metadata": {},
   "outputs": [
    {
     "name": "stdout",
     "output_type": "stream",
     "text": [
      "ACEDAF\n",
      "ACEDAF\n",
      "_BDC_E\n",
      "_ACB_D\n",
      "__BA_C\n",
      "__A__B\n",
      "_____A\n",
      "______\n"
     ]
    }
   ],
   "source": [
    "# 민코딩 심화반1 Level 32.5 - 문제 2번 : 창밖에 흐르는 알파벳\n",
    "\n",
    "A = input()\n",
    "print(A)\n",
    "a = list(A)\n",
    "while 1:\n",
    "    for i in range(len(a)):\n",
    "        if a[i] == 'A':\n",
    "            a[i] = '_'\n",
    "        elif ord('A') < ord(a[i]) <= ord('Z'):\n",
    "            a[i] = chr(ord(a[i])-1)\n",
    "        print(a[i], end=\"\")\n",
    "    print()\n",
    "    if a == ['_']*len(a):\n",
    "        break"
   ]
  }
 ],
 "metadata": {
  "kernelspec": {
   "display_name": "Python 3 (ipykernel)",
   "language": "python",
   "name": "python3"
  },
  "language_info": {
   "codemirror_mode": {
    "name": "ipython",
    "version": 3
   },
   "file_extension": ".py",
   "mimetype": "text/x-python",
   "name": "python",
   "nbconvert_exporter": "python",
   "pygments_lexer": "ipython3",
   "version": "3.10.1"
  },
  "toc": {
   "base_numbering": 1,
   "nav_menu": {},
   "number_sections": true,
   "sideBar": true,
   "skip_h1_title": false,
   "title_cell": "Table of Contents",
   "title_sidebar": "Contents",
   "toc_cell": false,
   "toc_position": {},
   "toc_section_display": true,
   "toc_window_display": false
  }
 },
 "nbformat": 4,
 "nbformat_minor": 5
}
