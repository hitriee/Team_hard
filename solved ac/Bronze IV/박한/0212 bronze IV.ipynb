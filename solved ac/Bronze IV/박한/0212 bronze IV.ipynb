{
 "cells": [
  {
   "cell_type": "code",
   "execution_count": 1,
   "id": "c45bfe25",
   "metadata": {},
   "outputs": [
    {
     "name": "stdout",
     "output_type": "stream",
     "text": [
      "9 0 0 18 0 0\n",
      "9 0 0 18 0 1\n",
      "12 14 52 12 15 30\n",
      "9 0 0\n",
      "9 0 1\n",
      "0 0 38\n"
     ]
    }
   ],
   "source": [
    "# 백준 브론즈4 5575번\n",
    "# A, B, C의 출퇴근 시간을 입력받고 각각의 근무 시간을 출력하라\n",
    "A = list(map(int,input().split()))\n",
    "B = list(map(int,input().split()))\n",
    "C = list(map(int,input().split()))\n",
    "def cal_time(A):\n",
    "    rst = list()\n",
    "    a = 3600*A[0]+60*A[1]+A[2]\n",
    "    b = 3600*A[3]+60*A[4]+A[5]\n",
    "    c = (b-a)//3600\n",
    "    d = ((b-a)%3600)//60\n",
    "    e = ((b-a)%3600)%60\n",
    "    rst.append(c)\n",
    "    rst.append(d)\n",
    "    rst.append(e)\n",
    "    print(*rst, sep=' ')\n",
    "cal_time(A)\n",
    "cal_time(B)\n",
    "cal_time(C)"
   ]
  },
  {
   "cell_type": "code",
   "execution_count": 2,
   "id": "30779b7d",
   "metadata": {},
   "outputs": [
    {
     "name": "stdout",
     "output_type": "stream",
     "text": [
      "100 80 70 60\n",
      "80 70 80 90\n",
      "320\n"
     ]
    }
   ],
   "source": [
    "# 백준 브론즈4 5596번\n",
    "# 두 명의 점수 네 개를 입력받고 총합이 큰 첨수를 출력하는 프로그램 작성\n",
    "s = list(map(int,input().split()))\n",
    "t = list(map(int,input().split()))\n",
    "if sum(s) < sum(t):\n",
    "    print(sum(t))\n",
    "else:\n",
    "    print(sum(s))"
   ]
  },
  {
   "cell_type": "code",
   "execution_count": 3,
   "id": "480b2fee",
   "metadata": {},
   "outputs": [
    {
     "name": "stdout",
     "output_type": "stream",
     "text": [
      "10110111\n",
      "110000100111\n"
     ]
    }
   ],
   "source": [
    "# 백준 브론즈4 5596번\n",
    "# 이진수 N을 입력받고 17배를 한 뒤 이진수로 출력하기\n",
    "\n",
    "N = int(input())\n",
    "n = int(str(N), 2)\n",
    "n *= 17\n",
    "print(bin(n)[2:])"
   ]
  },
  {
   "cell_type": "code",
   "execution_count": 4,
   "id": "a5f87a8c",
   "metadata": {},
   "outputs": [
    {
     "name": "stdout",
     "output_type": "stream",
     "text": [
      "12 13 14\n",
      "1563\n"
     ]
    }
   ],
   "source": [
    "# 백준 브론즈4 5928번\n",
    "# 11~14일 사이의 날짜, 시, 분을 입력받고 11일 11시 11분에 공부를 시작한 그녀가 공부한 분을 출력. 이상하면 -1 출력\n",
    "T = list(map(int,input().split()))\n",
    "t = 1440*T[0]+60*T[1]+T[2]\n",
    "if t < 16511:\n",
    "    print(-1)\n",
    "else:\n",
    "    print(t-16511)"
   ]
  },
  {
   "cell_type": "code",
   "execution_count": null,
   "id": "45a171c3",
   "metadata": {},
   "outputs": [],
   "source": [
    "# 백준 브론즈4 6763번\n",
    "# 제한속도와 현재 속도를 각각 입력 받고, 초과를 안할 시 특정 문구를,\n",
    "# 만약 초과한다면 초과 구간에 따라 벌금을 다르게 보여주는 특정 문구를 출력하라\n",
    "L = int(input())\n",
    "S = int(input())\n",
    "if S-L < 1:\n",
    "    print(\"Congratulations, you are within the speed limit!\")\n",
    "elif 1 <= S-L <= 20:\n",
    "    print(\"You are speeding and your fine is $100.\")\n",
    "elif 21 <= S-L <= 30:\n",
    "    print(\"You are speeding and your fine is $270.\")\n",
    "else:\n",
    "    print(\"You are speeding and your fine is $500.\")"
   ]
  }
 ],
 "metadata": {
  "kernelspec": {
   "display_name": "Python 3 (ipykernel)",
   "language": "python",
   "name": "python3"
  },
  "language_info": {
   "codemirror_mode": {
    "name": "ipython",
    "version": 3
   },
   "file_extension": ".py",
   "mimetype": "text/x-python",
   "name": "python",
   "nbconvert_exporter": "python",
   "pygments_lexer": "ipython3",
   "version": "3.10.1"
  },
  "toc": {
   "base_numbering": 1,
   "nav_menu": {},
   "number_sections": true,
   "sideBar": true,
   "skip_h1_title": false,
   "title_cell": "Table of Contents",
   "title_sidebar": "Contents",
   "toc_cell": false,
   "toc_position": {},
   "toc_section_display": true,
   "toc_window_display": false
  }
 },
 "nbformat": 4,
 "nbformat_minor": 5
}
