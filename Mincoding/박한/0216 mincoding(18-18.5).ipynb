{
 "cells": [
  {
   "cell_type": "code",
   "execution_count": 4,
   "id": "0c46bd8e",
   "metadata": {},
   "outputs": [
    {
     "name": "stdout",
     "output_type": "stream",
     "text": [
      "ABCDACABCDE\n",
      "5개\n"
     ]
    }
   ],
   "source": [
    "# 민코딩 훈련반1 Level 18 - 문제 1번\n",
    "\n",
    "cardlist = list(input())\n",
    "rst = 0\n",
    "for i in range(len(cardlist)):\n",
    "    for j in range(i+1, len(cardlist)):\n",
    "        if cardlist[i]!=0 and cardlist[i] == cardlist[j]:\n",
    "            rst += 1\n",
    "            cardlist[j] = 0\n",
    "print(f\"{len(cardlist)-rst}개\")"
   ]
  },
  {
   "cell_type": "code",
   "execution_count": null,
   "id": "992bd252",
   "metadata": {},
   "outputs": [],
   "source": [
    "# 민코딩 훈련반1 Level 18 - 문제 2번\n",
    "\n",
    "arr = [[65000, 35, 42, 70], [70, 35, 65000, 1300], [65000, 30000, 38, 42]]\n",
    "# 12칸짜리 빈 리스트 lst1을 만들어서 arr을 1차원 배열로 옮겨옴\n",
    "lst1 = [0]*12\n",
    "for i in range(3):\n",
    "    for j in range(4):\n",
    "        lst1[4*i+j] = arr[i][j]\n",
    "# lst1의 요소 m과 같은 요소가 몇개씩 있는지 표시해주는 lst2 만들기\n",
    "lst2 = [0]*12\n",
    "for m in range(len(lst1)):\n",
    "    for n in range(m+1, len(lst1)):\n",
    "        if lst1[m]!=0 and lst1[m] == lst1[n]:\n",
    "            lst2[m] += 1\n",
    "            lst1[n] = 0\n",
    "# lst랑 똑같은 성분을 받아와서, 중복개수를 내림차순으로 정렬한 lst3 만들기\n",
    "lst3 = [0]*12\n",
    "for k in range(len(lst2)):\n",
    "    lst3[k] = lst2[k]\n",
    "for a in range(len(lst3)):\n",
    "    for b in range(a+1, len(lst3)):\n",
    "        if lst3[a] < lst3[b]:\n",
    "            lst3[a], lst3[b] = lst3[b], lst3[a]\n",
    "# lst1의 최빈값의 좌표를 lst3을 거쳐서 lst2에서 받아오기\n",
    "rst = 0\n",
    "for c in range(len(lst2)):\n",
    "    if lst2[c] == lst3[0]:\n",
    "        rst += c\n",
    "print(lst1[rst])"
   ]
  },
  {
   "cell_type": "code",
   "execution_count": 8,
   "id": "6bf883d7",
   "metadata": {},
   "outputs": [
    {
     "name": "stdout",
     "output_type": "stream",
     "text": [
      "1 2 3\n",
      "4 5 6\n",
      "7 2 3\n",
      "8 9 "
     ]
    }
   ],
   "source": [
    "# 민코딩 훈련반1 Level 18 - 문제 3번\n",
    "\n",
    "arr = [list(map(int, input().split())) for _ in range(3)]\n",
    "lst = [0]*9\n",
    "for i in range(9):\n",
    "    for n in range(3):\n",
    "        for m in range(3):\n",
    "            if i+1 == arr[n][m]:\n",
    "                lst[i] += 1\n",
    "for k in range(9):\n",
    "    if not lst[k]:\n",
    "        print(k+1, end=\" \")"
   ]
  },
  {
   "cell_type": "code",
   "execution_count": 15,
   "id": "ac1e3893",
   "metadata": {},
   "outputs": [
    {
     "name": "stdout",
     "output_type": "stream",
     "text": [
      "abcdecec\n",
      "c\n"
     ]
    }
   ],
   "source": [
    "# 민코딩 훈련반1 Level 18 - 문제 4번\n",
    "\n",
    "lst = list(input())\n",
    "lst1 = [0]*len(lst)\n",
    "for i in range(len(lst)):\n",
    "    for j in range(i+1, len(lst)):\n",
    "        if lst[i] != 0 and lst[i] == lst[j]:\n",
    "            lst1[i] += 1\n",
    "            lst[j] = 0\n",
    "lst2 = [0]*len(lst1)\n",
    "for n in range(len(lst1)):\n",
    "    lst2[n] = lst1[n]\n",
    "for a in range(len(lst2)):\n",
    "    for b in range(a+1, len(lst2)):\n",
    "        if lst2[a] < lst2[b]:\n",
    "            lst2[a], lst2[b] = lst2[b], lst2[a]\n",
    "for m in range(len(lst1)):\n",
    "    if lst1[m] == lst2[0]:\n",
    "        print(lst[m])"
   ]
  },
  {
   "cell_type": "code",
   "execution_count": 18,
   "id": "d9921426",
   "metadata": {},
   "outputs": [
    {
     "name": "stdout",
     "output_type": "stream",
     "text": [
      "BTCK\n",
      "2명\n"
     ]
    }
   ],
   "source": [
    "# 민코딩 훈련반1 Level 18 - 문제 5번\n",
    "\n",
    "town = [['C', 'D', 'A'], ['B', 'M', 'Z'], ['Q', 'P', 'O']]\n",
    "black = list(input())\n",
    "rst = 0\n",
    "for i in range(len(black)):\n",
    "    for j in range(3):\n",
    "        for k in range(3):\n",
    "            if black[i] == town[j][k]:\n",
    "                rst += 1\n",
    "print(f\"{rst}명\")"
   ]
  },
  {
   "cell_type": "code",
   "execution_count": 24,
   "id": "ee68326e",
   "metadata": {},
   "outputs": [
    {
     "name": "stdout",
     "output_type": "stream",
     "text": [
      "AAAABBBCCGHHIJK"
     ]
    }
   ],
   "source": [
    "# 민코딩 훈련반1 Level 18 - 문제 6번\n",
    "\n",
    "arr = [['A', 'B', 'C'], ['A', 'G', 'H'], ['H', 'I', 'J'], ['K', 'A', 'B'], ['A', 'B', 'C']]\n",
    "lst = ['']*15\n",
    "for i in range(5):\n",
    "    for j in range(3):\n",
    "        lst[3*i+j] = arr[i][j]\n",
    "for m in range(15):\n",
    "    for n in range(m+1, 15):\n",
    "        if ord(lst[m]) > ord(lst[n]):\n",
    "            lst[m], lst[n] = lst[n], lst[m]\n",
    "for a in range(15):\n",
    "    print(lst[a], end=\"\")"
   ]
  },
  {
   "cell_type": "code",
   "execution_count": 28,
   "id": "2d3f3af0",
   "metadata": {},
   "outputs": [
    {
     "name": "stdout",
     "output_type": "stream",
     "text": [
      "7 6 4\n",
      "1번~3번 칸\n"
     ]
    }
   ],
   "source": [
    "# 민코딩 훈련반1 Level 18 - 문제 7번\n",
    "\n",
    "train = [3, 7, 6, 4, 2, 9, 1, 7]\n",
    "team = list(map(int, input().split()))\n",
    "rst = 0\n",
    "for i in range(6):\n",
    "    if team[0] == train[i]:\n",
    "        if team[1] == train[i+1]:\n",
    "            if team[2] == train[i+2]:\n",
    "                rst += i\n",
    "print(f\"{rst}번~{rst+2}번 칸\")\n",
    "\n",
    "'''\n",
    "슬라이딩 윈도우로 풀 수 있음\n",
    "\n",
    "def find(train,team):\n",
    "    G=[]\n",
    "    for i in range(len(team)):\n",
    "        G=G+[train[i]]\n",
    "    \n",
    "    for j in range(len(train)-len(team)+1):\n",
    "        if G==team:\n",
    "            return j\n",
    "        if j== len(train)-len(team):\n",
    "            break\n",
    "        G=G[1:]+[train[j+len(team)]]\n",
    "        \n",
    "    return '0'\n",
    "\n",
    "\n",
    "train=[3,7,6,4,2,9,1,7]\n",
    "team=list(map(int,input().split()))\n",
    "print(f'{find(train,team)}번~{find(train,team)+len(team)-1}번 칸')\n",
    "'''"
   ]
  },
  {
   "cell_type": "code",
   "execution_count": 37,
   "id": "dfc46394",
   "metadata": {},
   "outputs": [
    {
     "name": "stdout",
     "output_type": "stream",
     "text": [
      "7 8 9\n",
      "2층\n"
     ]
    }
   ],
   "source": [
    "# 민코딩 훈련반1 Level 18 - 문제 8번\n",
    "\n",
    "build = [[15, 18, 17], [4, 6, 9], [10, 1, 3], [7, 8, 9], [15, 2, 6]]\n",
    "family = list(map(int, input().split()))\n",
    "def isPattern(arr, lst):\n",
    "    for i in range(5):\n",
    "        if lst == arr[i]:\n",
    "            print(f\"{5-i}층\")\n",
    "isPattern(build, family)"
   ]
  },
  {
   "cell_type": "code",
   "execution_count": 17,
   "id": "7de7fc19",
   "metadata": {},
   "outputs": [
    {
     "name": "stdout",
     "output_type": "stream",
     "text": [
      "3\n",
      "1 2 3 "
     ]
    }
   ],
   "source": [
    "# 민코딩 훈련반1 Level 18 - 문제 9번\n",
    "\n",
    "arr = [[1, 3, 3, 5, 1], [3, 6, 2, 4, 2], [1, 9, 2, 6, 5]]\n",
    "n = int(input())\n",
    "lst = [0]*15\n",
    "for i in range(3):\n",
    "    for j in range(5):\n",
    "        lst[5*i+j] = arr[i][j]\n",
    "for a in range(15):\n",
    "    for b in range(a+1, 15):\n",
    "        if lst[a] > lst[b]:\n",
    "            lst[a], lst[b] = lst[b], lst[a]\n",
    "lst1 = [0]*15\n",
    "for c in range(15):\n",
    "    for d in range(c+1, 15):\n",
    "        if lst[c]!=0 and lst[c]==lst[d]:\n",
    "            lst1[c] += 1\n",
    "            lst[d] = 0\n",
    "for e in range(15):\n",
    "    if lst1[e] == n-1:\n",
    "        print(lst[e], end=\" \")"
   ]
  },
  {
   "cell_type": "code",
   "execution_count": 17,
   "id": "72501eee",
   "metadata": {},
   "outputs": [
    {
     "name": "stdout",
     "output_type": "stream",
     "text": [
      "G A A\n",
      "있음\n"
     ]
    }
   ],
   "source": [
    "# 민코딩 훈련반1 Level 18.5 - 문제 1번\n",
    "\n",
    "arr = [['G', 'K', 'G'], list(input().split())]\n",
    "lst = ['']*6\n",
    "for i in range(2):\n",
    "    for j in range(3):\n",
    "        lst[3*i+j] = arr[i][j]\n",
    "lst1 = [0]*6\n",
    "for m in range(len(lst)):\n",
    "    for n in range(m+1, len(lst)):\n",
    "        if lst[m]!=0 and lst[m] == lst[n]:\n",
    "            lst1[m] += 1\n",
    "            lst[n] = 0\n",
    "rst = 0\n",
    "for k in range(len(lst)):\n",
    "    if lst1[k] >= 2:\n",
    "        rst += 1\n",
    "if not rst:\n",
    "    print(\"없음\")\n",
    "else:\n",
    "    print(\"있음\")"
   ]
  },
  {
   "cell_type": "code",
   "execution_count": 23,
   "id": "89950dea",
   "metadata": {},
   "outputs": [
    {
     "name": "stdout",
     "output_type": "stream",
     "text": [
      "1 3 3 5 1 4\n",
      "도플갱어 발견\n"
     ]
    }
   ],
   "source": [
    "# 민코딩 훈련반1 Level 18.5 - 문제 2번\n",
    "\n",
    "lst = list(map(int, input().split()))\n",
    "rst = 0\n",
    "for i in range(len(lst)):\n",
    "    for j in range(i+1, len(lst)):\n",
    "        if lst[i] == lst[j]:\n",
    "            rst += 1\n",
    "if not rst:\n",
    "    print(\"미발견\")\n",
    "else:\n",
    "    print(\"도플갱어 발견\")"
   ]
  },
  {
   "cell_type": "code",
   "execution_count": 30,
   "id": "6692c734",
   "metadata": {},
   "outputs": [
    {
     "name": "stdout",
     "output_type": "stream",
     "text": [
      "AKFBBQAKK\n",
      "K\n"
     ]
    }
   ],
   "source": [
    "# 민코딩 훈련반1 Level 18.5 - 문제 3번\n",
    "\n",
    "lst = list(input())\n",
    "lst1 = [0]*len(lst)\n",
    "for i in range(len(lst)):\n",
    "    for j in range(i+1, len(lst)):\n",
    "        if lst[i]!=0 and lst[i]==lst[j]:\n",
    "            lst1[i]+=1\n",
    "            lst[j]=0\n",
    "lst2 = [0]*len(lst1)\n",
    "for k in range(len(lst1)):\n",
    "    lst2[k] = lst1[k]\n",
    "for m in range(len(lst1)):\n",
    "    for n in range(m+1, len(lst1)):\n",
    "        if lst1[m] < lst1[n]:\n",
    "            lst1[m], lst1[n] = lst1[n], lst1[m]\n",
    "for a in range(len(lst2)):\n",
    "    if lst2[a] == lst1[0]:\n",
    "        print(lst[a])"
   ]
  },
  {
   "cell_type": "code",
   "execution_count": 31,
   "id": "5da2f451",
   "metadata": {},
   "outputs": [
    {
     "name": "stdout",
     "output_type": "stream",
     "text": [
      "1 0 1 0 1\n",
      "0 1 1 0 1\n",
      "2개\n"
     ]
    }
   ],
   "source": [
    "# 민코딩 훈련반1 Level 18.5 - 문제 4번\n",
    "\n",
    "up = list(map(int, input().split()))\n",
    "down = list(map(int, input().split()))\n",
    "rst = 0\n",
    "for i in range(len(up)):\n",
    "    if up[i]+down[i]==2:\n",
    "        rst += 1\n",
    "print(f\"{rst}개\")"
   ]
  },
  {
   "cell_type": "code",
   "execution_count": 44,
   "id": "d06b9874",
   "metadata": {},
   "outputs": [
    {
     "name": "stdout",
     "output_type": "stream",
     "text": [
      "T C\n",
      "7\n"
     ]
    }
   ],
   "source": [
    "# 민코딩 훈련반1 Level 18.5 - 문제 5번\n",
    "\n",
    "a = 'ATKPTCABC'\n",
    "b, c = map(str, input().split())\n",
    "def get_dis(d, e, f):\n",
    "    (g, h) = (0, 0)\n",
    "    for i in range(len(d)):\n",
    "        if d[i]==e:\n",
    "            g += i\n",
    "            break\n",
    "    for j in range(len(d)):\n",
    "        if d[len(d)-j-1]==f:\n",
    "            h += (len(d)-j-1)\n",
    "            break\n",
    "    if h > g:\n",
    "        print(h-g)\n",
    "    else:\n",
    "        print(g-h)\n",
    "get_dis(list(a), b, c)"
   ]
  },
  {
   "cell_type": "code",
   "execution_count": 55,
   "id": "2197a064",
   "metadata": {},
   "outputs": [
    {
     "name": "stdout",
     "output_type": "stream",
     "text": [
      "1 5 7 0\n",
      "1번 합격\n",
      "5번 합격\n",
      "7번 불합격\n",
      "0번 불합격\n"
     ]
    }
   ],
   "source": [
    "# 민코딩 훈련반1 Level 18.5 - 문제 6번\n",
    "\n",
    "win = [[3, 5, 1], [4, 2, 6]]\n",
    "win1 = [0]*6\n",
    "for i in range(2):\n",
    "    for j in range(3):\n",
    "        win1[3*i+j] = win[i][j]\n",
    "people = list(map(int, input().split()))\n",
    "people1 = [0]*(len(people))\n",
    "for m in range(len(people)):\n",
    "    for n in range(6):\n",
    "        if people[m] == win1[n]:\n",
    "            people1[m] += 1\n",
    "for k in range(len(people)):\n",
    "    if not people1[k]:\n",
    "        print(f\"{people[k]}번 불합격\")\n",
    "    else:\n",
    "        print(f\"{people[k]}번 합격\")"
   ]
  },
  {
   "cell_type": "code",
   "execution_count": 63,
   "id": "49741ed0",
   "metadata": {},
   "outputs": [
    {
     "name": "stdout",
     "output_type": "stream",
     "text": [
      "5\n",
      "A B C D E\n",
      "XXOOX"
     ]
    }
   ],
   "source": [
    "# 민코딩 훈련반1 Level 18.5 - 문제 7번\n",
    "\n",
    "vect = list(\"MINCODING\")\n",
    "n = int(input())\n",
    "lst = list(input().split())\n",
    "lst1 = [0]*len(lst)\n",
    "for i in range(len(lst)):\n",
    "    for j in range(len(vect)):\n",
    "        if lst[i] == vect[j]:\n",
    "            lst1[i] += 1\n",
    "for k in range(len(lst1)):\n",
    "    if not lst1[k]:\n",
    "        print('X', end=\"\")\n",
    "    else:\n",
    "        print('O', end=\"\")"
   ]
  },
  {
   "cell_type": "code",
   "execution_count": 77,
   "id": "e7fab9ea",
   "metadata": {},
   "outputs": [
    {
     "name": "stdout",
     "output_type": "stream",
     "text": [
      "asdasdf\n",
      "zxcvzxcv\n",
      "qwerqwe\n",
      "0\n"
     ]
    }
   ],
   "source": [
    "# 민코딩 훈련반1 Level 18.5 - 문제 8번\n",
    "\n",
    "a, b, c = [list(input()) for _ in range(3)]\n",
    "def isSame(d, e):\n",
    "    rst = 0\n",
    "    for i in range(len(d)):\n",
    "        for j in range(len(e)):\n",
    "            if d[i] == e[j]:\n",
    "                rst += 1\n",
    "    return rst\n",
    "d = isSame(a, b)+isSame(b, c)+isSame(c, a)\n",
    "if not d:\n",
    "    print(\"Perfect\")\n",
    "else:\n",
    "    print(\"No\")"
   ]
  },
  {
   "cell_type": "code",
   "execution_count": 104,
   "id": "d0d064b0",
   "metadata": {},
   "outputs": [
    {
     "name": "stdout",
     "output_type": "stream",
     "text": [
      "ASDFASDFASDFASDFZXCVZXCVZXVZXCVASDFASFDASDF\n",
      "ACDFSVXZ"
     ]
    }
   ],
   "source": [
    "# 민코딩 훈련반1 Level 18.5 - 문제 9번\n",
    "# 입력받고, 중복 알파벳 제거 후 알파벳 순으로 출력\n",
    "\n",
    "lst = list(input())\n",
    "for i in range(len(lst)):\n",
    "    for j in range(i+1, len(lst)):\n",
    "        if lst[i]!='a' and lst[i] == lst[j]:\n",
    "            lst[j] = 'a'\n",
    "for m in range(len(lst)):\n",
    "    for n in range(m+1, len(lst)):\n",
    "        if ord(lst[m]) > ord(lst[n]):\n",
    "            lst[m], lst[n] = lst[n], lst[m]\n",
    "for b in range(len(lst)):\n",
    "    if ord(lst[b]) > ord('Z'):\n",
    "        lst = lst[:b]\n",
    "        break\n",
    "for c in range(len(lst)):\n",
    "    print(lst[c], end=\"\")"
   ]
  },
  {
   "cell_type": "code",
   "execution_count": 108,
   "id": "56648eb7",
   "metadata": {},
   "outputs": [
    {
     "name": "stdout",
     "output_type": "stream",
     "text": [
      "BTABATP\n",
      "A:2\n",
      "B:2\n",
      "P:1\n",
      "T:2\n"
     ]
    }
   ],
   "source": [
    "# 민코딩 훈련반1 Level 18.5 - 문제 10번\n",
    "\n",
    "lst = list(input())\n",
    "for i in range(len(lst)):\n",
    "    for j in range(i+1, len(lst)):\n",
    "        if ord(lst[i]) > ord(lst[j]):\n",
    "            lst[i], lst[j] = lst[j], lst[i]\n",
    "lst1 = [0]*len(lst)\n",
    "for m in range(len(lst)):\n",
    "    for n in range(m+1, len(lst)):\n",
    "        if lst[m] != 0 and lst[m] == lst[n]:\n",
    "            lst1[m] += 1\n",
    "            lst[n] = 0\n",
    "for k in range(len(lst)):\n",
    "    if lst[k] != 0:\n",
    "        print(f\"{lst[k]}:{lst1[k]+1}\")"
   ]
  },
  {
   "cell_type": "code",
   "execution_count": 112,
   "id": "e87c1f00",
   "metadata": {},
   "outputs": [
    {
     "name": "stdout",
     "output_type": "stream",
     "text": [
      "QGHOSTA\n",
      "존재하지 않음\n"
     ]
    }
   ],
   "source": [
    "# 민코딩 훈련반1 Level 18.5 - 문제 11번\n",
    "\n",
    "lst = list(input())\n",
    "rst = list('GHOST')\n",
    "lst1 = []\n",
    "for i in range(len(rst)):\n",
    "    lst1 = lst1+[lst[i]]\n",
    "for j in range(len(lst)-len(rst)+1):\n",
    "    if lst1 == rst:\n",
    "        print(\"존재\")\n",
    "        break\n",
    "    if j == (len(lst) - len(rst)):\n",
    "        print(\"존재하지 않음\")\n",
    "        break\n",
    "    lst1 = lst1[1:]+[lst[j+len(rst)]] "
   ]
  }
 ],
 "metadata": {
  "kernelspec": {
   "display_name": "Python 3 (ipykernel)",
   "language": "python",
   "name": "python3"
  },
  "language_info": {
   "codemirror_mode": {
    "name": "ipython",
    "version": 3
   },
   "file_extension": ".py",
   "mimetype": "text/x-python",
   "name": "python",
   "nbconvert_exporter": "python",
   "pygments_lexer": "ipython3",
   "version": "3.10.1"
  },
  "toc": {
   "base_numbering": 1,
   "nav_menu": {},
   "number_sections": true,
   "sideBar": true,
   "skip_h1_title": false,
   "title_cell": "Table of Contents",
   "title_sidebar": "Contents",
   "toc_cell": false,
   "toc_position": {},
   "toc_section_display": true,
   "toc_window_display": false
  }
 },
 "nbformat": 4,
 "nbformat_minor": 5
}
