{
 "cells": [
  {
   "cell_type": "code",
   "execution_count": 2,
   "id": "25357e07",
   "metadata": {},
   "outputs": [
    {
     "name": "stdout",
     "output_type": "stream",
     "text": [
      "a\n",
      "aaa"
     ]
    }
   ],
   "source": [
    "# 민코딩 훈련반1 Level 5 - 문제 1번 : 문자 입력받고 출력하기\n",
    "\n",
    "n = input()\n",
    "for i in range(3):\n",
    "    print(n, end=\"\")"
   ]
  },
  {
   "cell_type": "code",
   "execution_count": 3,
   "id": "dbe25333",
   "metadata": {},
   "outputs": [
    {
     "name": "stdout",
     "output_type": "stream",
     "text": [
      "1 1 1 2\n",
      "5\n"
     ]
    }
   ],
   "source": [
    "# 민코딩 훈련반1 Level 5 - 문제 2번 : for문으로 합 구하기\n",
    "\n",
    "lst = list(map(int, input().split()))\n",
    "summ = 0\n",
    "for i in range(len(lst)):\n",
    "    summ += lst[i]\n",
    "print(summ)"
   ]
  },
  {
   "cell_type": "code",
   "execution_count": 4,
   "id": "c511a189",
   "metadata": {},
   "outputs": [
    {
     "name": "stdout",
     "output_type": "stream",
     "text": [
      "1\n",
      "i\n"
     ]
    }
   ],
   "source": [
    "# 민코딩 훈련반1 Level 5 - 문제 3번 : 문자배열 사용하기\n",
    "\n",
    "lst = ['m', 'i', 'n']\n",
    "n = int(input())\n",
    "print(lst[n])"
   ]
  },
  {
   "cell_type": "code",
   "execution_count": 5,
   "id": "3fc23f5e",
   "metadata": {},
   "outputs": [
    {
     "name": "stdout",
     "output_type": "stream",
     "text": [
      "1\n",
      "KFC입니다\n"
     ]
    }
   ],
   "source": [
    "# 민코딩 훈련반1 Level 5 - 문제 4번 : 숫자에 따른 함수 호출하기\n",
    "\n",
    "def KFC():\n",
    "    print(\"KFC입니다\")\n",
    "def MC():\n",
    "    print(\"MC입니다\")\n",
    "n = int(input())\n",
    "if n==1:\n",
    "    KFC()\n",
    "elif n==2:\n",
    "    MC()"
   ]
  },
  {
   "cell_type": "code",
   "execution_count": 7,
   "id": "598073a2",
   "metadata": {},
   "outputs": [
    {
     "name": "stdout",
     "output_type": "stream",
     "text": [
      "3\n",
      "12345\n",
      "12345\n",
      "12345\n"
     ]
    }
   ],
   "source": [
    "# 민코딩 훈련반1 Level 5 - 문제 5번 : 함수 여러번 호출하기\n",
    "\n",
    "def LOT():\n",
    "    for i in range(5):\n",
    "        print(i+1, end=\"\")\n",
    "    print()\n",
    "n = int(input())\n",
    "for j in range(n):\n",
    "    LOT()"
   ]
  },
  {
   "cell_type": "code",
   "execution_count": 10,
   "id": "7895997b",
   "metadata": {},
   "outputs": [
    {
     "name": "stdout",
     "output_type": "stream",
     "text": [
      "##########\n",
      "@@@@@@@@@@\n"
     ]
    }
   ],
   "source": [
    "# 민코딩 훈련반1 Level 5 - 문제 6번 : 함수 정의하고 호출하기\n",
    "\n",
    "def KFC():\n",
    "    for i in range(10):\n",
    "        print(\"#\", end=\"\")\n",
    "    print()\n",
    "def MC():\n",
    "    for i in range(10):\n",
    "        print(\"@\", end=\"\")\n",
    "    print()\n",
    "KFC()\n",
    "MC()"
   ]
  },
  {
   "cell_type": "code",
   "execution_count": 11,
   "id": "c275e423",
   "metadata": {},
   "outputs": [
    {
     "name": "stdout",
     "output_type": "stream",
     "text": [
      "3 2 5\n",
      "4\n",
      "3 2 5 4 5 6\n"
     ]
    }
   ],
   "source": [
    "# 민코딩 훈련반1 Level 5 - 문제 7번 : 배열에 값 채우고 출력하기\n",
    "\n",
    "arr = ['']*6\n",
    "arr[0], arr[1], arr[2] = map(int, input().split())\n",
    "arr[3] = int(input())\n",
    "arr[4], arr[5] = arr[3]+1, arr[3]+2\n",
    "print(*arr)"
   ]
  },
  {
   "cell_type": "code",
   "execution_count": 13,
   "id": "c0397809",
   "metadata": {},
   "outputs": [
    {
     "name": "stdout",
     "output_type": "stream",
     "text": [
      "5\n",
      "다시\n"
     ]
    }
   ],
   "source": [
    "# 민코딩 훈련반1 Level 5 - 문제 8번 : KFC에서 입력받고 BBQ에서 출력하기\n",
    "\n",
    "def KFC():\n",
    "    global n\n",
    "    n = int(input())\n",
    "    return n\n",
    "def BBQ():\n",
    "    if n>5:\n",
    "        print(\"만세\")\n",
    "    else:\n",
    "        print(\"다시\")\n",
    "KFC()\n",
    "BBQ()"
   ]
  },
  {
   "cell_type": "code",
   "execution_count": 14,
   "id": "6d8589ae",
   "metadata": {},
   "outputs": [
    {
     "name": "stdout",
     "output_type": "stream",
     "text": [
      "2\n",
      "ABC\n",
      "ABC\n"
     ]
    }
   ],
   "source": [
    "# 민코딩 훈련반1 Level 5 - 문제 9번 : 함수하나 정의하고 호출하기\n",
    "\n",
    "lst = ['A', 'B', 'C']\n",
    "def KFC():\n",
    "    for i in range(3):\n",
    "        print(lst[i],end=\"\")\n",
    "    print()\n",
    "n = int(input())\n",
    "for j in range(n):\n",
    "    KFC()"
   ]
  },
  {
   "cell_type": "code",
   "execution_count": 17,
   "id": "e4b05dee",
   "metadata": {},
   "outputs": [
    {
     "name": "stdout",
     "output_type": "stream",
     "text": [
      "2 5 8 0\n",
      "0852"
     ]
    }
   ],
   "source": [
    "# 민코딩 훈련반1 Level 5 - 문제 10번 : 함수에서 배열을 거꾸로 출력하기\n",
    "\n",
    "arr = ['']*4\n",
    "def inputt():\n",
    "    global arr\n",
    "    arr[0], arr[1], arr[2], arr[3] = map(int, input().split())\n",
    "    return arr\n",
    "def outputt():\n",
    "    global arr\n",
    "    for i in range(4):\n",
    "        print(arr[3-i], end=\"\")\n",
    "inputt()\n",
    "outputt()"
   ]
  },
  {
   "cell_type": "code",
   "execution_count": 18,
   "id": "6fb98857",
   "metadata": {},
   "outputs": [
    {
     "name": "stdout",
     "output_type": "stream",
     "text": [
      "3\n",
      "3\n",
      "4\n",
      "5\n",
      "6\n",
      "7\n",
      "8\n"
     ]
    }
   ],
   "source": [
    "# 민코딩 훈련반1 Level 5 - 문제 11번 : 변수 t를 이용하여 배열에 값 채우고 출력하기\n",
    "\n",
    "n = int(input())\n",
    "lst = ['']*6\n",
    "for i in range(6):\n",
    "    lst[i] = n+i\n",
    "def printall(arr):\n",
    "    for j in range(len(arr)):\n",
    "        print(lst[j])\n",
    "printall(lst)"
   ]
  },
  {
   "cell_type": "code",
   "execution_count": 19,
   "id": "7b42968a",
   "metadata": {},
   "outputs": [
    {
     "name": "stdout",
     "output_type": "stream",
     "text": [
      "1 2 3\n",
      "BBQ100%\n"
     ]
    }
   ],
   "source": [
    "# 민코딩 훈련반1 Level 5 - 문제 12번 : 모두 더한 값에 따라 함수 호출하기\n",
    "\n",
    "def QTR():\n",
    "    print(\"QTR100%\")\n",
    "def BBQ():\n",
    "    print(\"BBQ100%\")\n",
    "lst = ['']*3\n",
    "lst = list(map(int, input().split()))\n",
    "summ = 0\n",
    "for i in range(3):\n",
    "    summ += lst[i]\n",
    "if summ >= 10:\n",
    "    QTR()\n",
    "else:\n",
    "    BBQ()"
   ]
  },
  {
   "cell_type": "code",
   "execution_count": 25,
   "id": "7d8b7c68",
   "metadata": {},
   "outputs": [
    {
     "name": "stdout",
     "output_type": "stream",
     "text": [
      "2\n",
      "3 1 8 7 3 9 "
     ]
    }
   ],
   "source": [
    "# 민코딩 훈련반1 Level 5 - 문제 13번 : 입력받은 값만큼 건너띄어서 출력하기\n",
    "\n",
    "lst = [3, 4, 1, 5, 8, 1, 7, 7, 3, 6, 9]\n",
    "n = int(input())\n",
    "for i in range(0, 11, n):\n",
    "    print(lst[i], end=\" \")"
   ]
  }
 ],
 "metadata": {
  "kernelspec": {
   "display_name": "Python 3 (ipykernel)",
   "language": "python",
   "name": "python3"
  },
  "language_info": {
   "codemirror_mode": {
    "name": "ipython",
    "version": 3
   },
   "file_extension": ".py",
   "mimetype": "text/x-python",
   "name": "python",
   "nbconvert_exporter": "python",
   "pygments_lexer": "ipython3",
   "version": "3.10.1"
  },
  "toc": {
   "base_numbering": 1,
   "nav_menu": {},
   "number_sections": true,
   "sideBar": true,
   "skip_h1_title": false,
   "title_cell": "Table of Contents",
   "title_sidebar": "Contents",
   "toc_cell": false,
   "toc_position": {},
   "toc_section_display": true,
   "toc_window_display": false
  }
 },
 "nbformat": 4,
 "nbformat_minor": 5
}
