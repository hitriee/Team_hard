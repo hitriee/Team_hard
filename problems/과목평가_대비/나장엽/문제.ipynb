{
 "cells": [
  {
   "cell_type": "code",
   "execution_count": 2,
   "id": "3b95dadb",
   "metadata": {},
   "outputs": [
    {
     "ename": "SyntaxError",
     "evalue": "invalid syntax (3463489993.py, line 1)",
     "output_type": "error",
     "traceback": [
      "\u001b[0;36m  File \u001b[0;32m\"/var/folders/c2/zlbdh2zn0kq1d0x7lw9nl6b80000gn/T/ipykernel_15583/3463489993.py\"\u001b[0;36m, line \u001b[0;32m1\u001b[0m\n\u001b[0;31m    문자열 슬라이싱\u001b[0m\n\u001b[0m        ^\u001b[0m\n\u001b[0;31mSyntaxError\u001b[0m\u001b[0;31m:\u001b[0m invalid syntax\n"
     ]
    }
   ],
   "source": [
    "문자열 슬라이싱\n",
    "\n",
    "\n",
    "letters = 'hello ssafy!'\n",
    "\n",
    "3 번째 부터 7 번째 문자를 출력하세요\n",
    "\n",
    "실행 예)\n",
    "llo s"
   ]
  },
  {
   "cell_type": "code",
   "execution_count": 3,
   "id": "6bfdfc1d",
   "metadata": {},
   "outputs": [
    {
     "ename": "NameError",
     "evalue": "name 'letters' is not defined",
     "output_type": "error",
     "traceback": [
      "\u001b[0;31m---------------------------------------------------------------------------\u001b[0m",
      "\u001b[0;31mNameError\u001b[0m                                 Traceback (most recent call last)",
      "\u001b[0;32m/var/folders/c2/zlbdh2zn0kq1d0x7lw9nl6b80000gn/T/ipykernel_15583/2758358557.py\u001b[0m in \u001b[0;36m<module>\u001b[0;34m\u001b[0m\n\u001b[0;32m----> 1\u001b[0;31m \u001b[0mletters\u001b[0m\u001b[0;34m[\u001b[0m\u001b[0;36m3\u001b[0m\u001b[0;34m:\u001b[0m\u001b[0;36m8\u001b[0m\u001b[0;34m]\u001b[0m\u001b[0;34m\u001b[0m\u001b[0;34m\u001b[0m\u001b[0m\n\u001b[0m",
      "\u001b[0;31mNameError\u001b[0m: name 'letters' is not defined"
     ]
    }
   ],
   "source": [
    "print(letters[3:8])"
   ]
  },
  {
   "cell_type": "code",
   "execution_count": null,
   "id": "951fbf11",
   "metadata": {},
   "outputs": [],
   "source": [
    "문자열 인덱싱 [시작인덱스:끝인덱스:오프셋]\n",
    "\n",
    "\n",
    "아래의 문자열에서 '데'만 출력하세요.\n",
    "\n",
    "str = \"데레데레데레\"\n",
    "\n"
   ]
  },
  {
   "cell_type": "code",
   "execution_count": null,
   "id": "dcd118c6",
   "metadata": {},
   "outputs": [],
   "source": [
    "print(str[0:6:2])"
   ]
  },
  {
   "cell_type": "code",
   "execution_count": null,
   "id": "35ca40b0",
   "metadata": {},
   "outputs": [],
   "source": [
    "문자열 치환\n",
    "아래의 전화번호에서 하이픈을 제거하고 출력하세요!\n",
    "\n",
    "number = 010-1234-5678\n"
   ]
  },
  {
   "cell_type": "code",
   "execution_count": 10,
   "id": "18120ef2",
   "metadata": {},
   "outputs": [
    {
     "ename": "AttributeError",
     "evalue": "'str' object has no attribute 'pop'",
     "output_type": "error",
     "traceback": [
      "\u001b[0;31m---------------------------------------------------------------------------\u001b[0m",
      "\u001b[0;31mAttributeError\u001b[0m                            Traceback (most recent call last)",
      "\u001b[0;32m/var/folders/c2/zlbdh2zn0kq1d0x7lw9nl6b80000gn/T/ipykernel_15583/571820538.py\u001b[0m in \u001b[0;36m<module>\u001b[0;34m\u001b[0m\n\u001b[1;32m      1\u001b[0m \u001b[0mnumber\u001b[0m \u001b[0;34m=\u001b[0m \u001b[0;34m'010-1234-5678'\u001b[0m\u001b[0;34m\u001b[0m\u001b[0;34m\u001b[0m\u001b[0m\n\u001b[1;32m      2\u001b[0m \u001b[0ma\u001b[0m\u001b[0;34m=\u001b[0m\u001b[0mstr\u001b[0m\u001b[0;34m(\u001b[0m\u001b[0mnumber\u001b[0m\u001b[0;34m)\u001b[0m\u001b[0;34m\u001b[0m\u001b[0;34m\u001b[0m\u001b[0m\n\u001b[0;32m----> 3\u001b[0;31m \u001b[0mnumber\u001b[0m\u001b[0;34m.\u001b[0m\u001b[0mpop\u001b[0m\u001b[0;34m(\u001b[0m\u001b[0;34m'-'\u001b[0m\u001b[0;34m)\u001b[0m\u001b[0;34m\u001b[0m\u001b[0;34m\u001b[0m\u001b[0m\n\u001b[0m",
      "\u001b[0;31mAttributeError\u001b[0m: 'str' object has no attribute 'pop'"
     ]
    }
   ],
   "source": [
    "number = '010-1234-5678'\n"
   ]
  },
  {
   "cell_type": "code",
   "execution_count": null,
   "id": "bbbf82f8",
   "metadata": {},
   "outputs": [],
   "source": [
    "문자열은 immutable\n",
    "\n",
    "아래 코드의 실행 결과를 예상해보세요\n",
    "\n",
    "str = 'ssafy'\n",
    "str[1] = 'A'\n",
    "print(str)"
   ]
  },
  {
   "cell_type": "code",
   "execution_count": null,
   "id": "d0914f6e",
   "metadata": {},
   "outputs": [],
   "source": [
    "sAafy"
   ]
  },
  {
   "cell_type": "code",
   "execution_count": null,
   "id": "1e648824",
   "metadata": {},
   "outputs": [],
   "source": [
    "문자열 출력\n",
    "% formatting 을 사용해서 다음과 같이 출력해라\n",
    "\n",
    "name1 = '나장엽'\n",
    "age1 = 31\n",
    "name2 = '안희재'\n",
    "age2 = 30\n",
    "\n",
    "이름: 나장엽 나이: 31\n",
    "이름: 안희재 나이: 30\n"
   ]
  },
  {
   "cell_type": "code",
   "execution_count": 19,
   "id": "6670e64b",
   "metadata": {},
   "outputs": [
    {
     "ename": "SyntaxError",
     "evalue": "invalid syntax (1385911426.py, line 1)",
     "output_type": "error",
     "traceback": [
      "\u001b[0;36m  File \u001b[0;32m\"/var/folders/c2/zlbdh2zn0kq1d0x7lw9nl6b80000gn/T/ipykernel_15583/1385911426.py\"\u001b[0;36m, line \u001b[0;32m1\u001b[0m\n\u001b[0;31m    print('이름: %s 나이: %s' %name1 ,%name2)\u001b[0m\n\u001b[0m                                  ^\u001b[0m\n\u001b[0;31mSyntaxError\u001b[0m\u001b[0;31m:\u001b[0m invalid syntax\n"
     ]
    }
   ],
   "source": [
    "print('이름: %s 나이: %s' %name1 ,%name2)\n",
    "print(f'이름: {name2} 나이: {age2}')"
   ]
  },
  {
   "cell_type": "code",
   "execution_count": 13,
   "id": "457532ee",
   "metadata": {},
   "outputs": [],
   "source": [
    "#f-string을 사용하여 위의 문제를 다시 풀어보세요\n",
    "\n",
    "name1 = '나장엽'\n",
    "age1 = 31\n",
    "name2 = '안희재'\n",
    "age2 = 30\n",
    "\n",
    "#이름: 나장엽 나이: 31\n",
    "#이름: 안희재 나이: 30"
   ]
  },
  {
   "cell_type": "code",
   "execution_count": 14,
   "id": "d67aa334",
   "metadata": {},
   "outputs": [
    {
     "name": "stdout",
     "output_type": "stream",
     "text": [
      "이름: 나장엽 나이: 31\n",
      "이름: 안희재 나이: 30\n"
     ]
    }
   ],
   "source": [
    "print(f'이름: {name1} 나이: {age1}')\n",
    "print(f'이름: {name2} 나이: {age2}')"
   ]
  },
  {
   "cell_type": "code",
   "execution_count": 20,
   "id": "7fd923e3",
   "metadata": {},
   "outputs": [],
   "source": [
    "#리스트에 원소 추가 insert(인덱스, 원소)\n",
    "\n",
    "\n",
    "twojo = ['나원경','안희재','박한','오서준']\n",
    "\n",
    "#나원경과 안희재 사이에 나장엽을 추가하세요\n",
    "\n"
   ]
  },
  {
   "cell_type": "code",
   "execution_count": 22,
   "id": "ea88414e",
   "metadata": {},
   "outputs": [],
   "source": [
    "twojo.insert(1,'나장엽')"
   ]
  },
  {
   "cell_type": "code",
   "execution_count": null,
   "id": "d69ac2bb",
   "metadata": {},
   "outputs": [],
   "source": [
    "#join 메서드\n",
    "\n",
    "twojo = ['나원경','안희재','나장엽','오서준','박한'] \n",
    "\n",
    "#아래와 같이 출력해라\n",
    "\n",
    " #1. \n",
    "#     나원경/안희재/나장엽/오서준/박한\n",
    "# 2.\n",
    "#     나원경\n",
    "#     안희재\n",
    "#     나장엽\n",
    "#     오서준\n",
    "#     박한\n"
   ]
  },
  {
   "cell_type": "code",
   "execution_count": 27,
   "id": "2b2b0004",
   "metadata": {},
   "outputs": [
    {
     "data": {
      "text/plain": [
       "'나원경/나장엽/안희재/박한/오서준'"
      ]
     },
     "execution_count": 27,
     "metadata": {},
     "output_type": "execute_result"
    }
   ],
   "source": [
    "'/'.join(twojo)\n"
   ]
  },
  {
   "cell_type": "code",
   "execution_count": 29,
   "id": "1f618e95",
   "metadata": {},
   "outputs": [],
   "source": [
    "stock = \"lg에너지솔루션/대한항공/삼성전자/sk하이닉스\"\n",
    "\n",
    "#stock 문자열을 하나의 리스트로 분리하여 저장하라\n",
    "\n"
   ]
  },
  {
   "cell_type": "code",
   "execution_count": 30,
   "id": "31d17cf7",
   "metadata": {},
   "outputs": [
    {
     "data": {
      "text/plain": [
       "['lg에너지솔루션', '대한항공', '삼성전자', 'sk하이닉스']"
      ]
     },
     "execution_count": 30,
     "metadata": {},
     "output_type": "execute_result"
    }
   ],
   "source": [
    "stock.split('/')"
   ]
  },
  {
   "cell_type": "code",
   "execution_count": null,
   "id": "97d59bc0",
   "metadata": {},
   "outputs": [],
   "source": [
    "튜플 언팩킹\n",
    "\n",
    "다음 코드의 실행 결과를 예상하라\n",
    "\n",
    "fruits = ('apple','banana','watermelon')\n",
    "a, b, c = fruits\n",
    "print(a, b, c)\n"
   ]
  },
  {
   "cell_type": "code",
   "execution_count": null,
   "id": "28d60411",
   "metadata": {},
   "outputs": [],
   "source": [
    "'apple','banana','watermelon'"
   ]
  },
  {
   "cell_type": "code",
   "execution_count": null,
   "id": "0b45af62",
   "metadata": {},
   "outputs": [],
   "source": [
    "별 표현식\n",
    "\n",
    "다음 코드의 실행 결과를 예상하라.\n",
    "\n",
    "a, b, *c = (0,1,2,3,4,5,6)\n",
    "\n",
    "print(a)\n",
    "print(b)\n",
    "print(c)\n",
    "\n"
   ]
  },
  {
   "cell_type": "code",
   "execution_count": null,
   "id": "907bf2df",
   "metadata": {},
   "outputs": [],
   "source": [
    "0\n",
    "1\n",
    "2,3,4,5,6"
   ]
  },
  {
   "cell_type": "code",
   "execution_count": 31,
   "id": "ce88b21e",
   "metadata": {},
   "outputs": [
    {
     "ename": "SyntaxError",
     "evalue": "invalid syntax (3207928139.py, line 1)",
     "output_type": "error",
     "traceback": [
      "\u001b[0;36m  File \u001b[0;32m\"/var/folders/c2/zlbdh2zn0kq1d0x7lw9nl6b80000gn/T/ipykernel_15583/3207928139.py\"\u001b[0;36m, line \u001b[0;32m1\u001b[0m\n\u001b[0;31m    test_score 리스트가 있을 때, start expression을 사용하여 좌측 8개의 값을 scores 변수에 넣어라~\u001b[0m\n\u001b[0m               ^\u001b[0m\n\u001b[0;31mSyntaxError\u001b[0m\u001b[0;31m:\u001b[0m invalid syntax\n"
     ]
    }
   ],
   "source": [
    "test_score 리스트가 있을 때, start expression을 사용하여 좌측 8개의 값을 scores 변수에 넣어라~\n",
    "#scores, _, _ = test_score\n",
    "\n",
    "test_score = [70,80,90,85,77,66,55,44,33,22]\n"
   ]
  },
  {
   "cell_type": "code",
   "execution_count": 39,
   "id": "bde132b0",
   "metadata": {},
   "outputs": [
    {
     "ename": "SyntaxError",
     "evalue": "cannot assign to function call (2639574030.py, line 4)",
     "output_type": "error",
     "traceback": [
      "\u001b[0;36m  File \u001b[0;32m\"/var/folders/c2/zlbdh2zn0kq1d0x7lw9nl6b80000gn/T/ipykernel_15583/2639574030.py\"\u001b[0;36m, line \u001b[0;32m4\u001b[0m\n\u001b[0;31m    a.start(2)=test_score\u001b[0m\n\u001b[0m    ^\u001b[0m\n\u001b[0;31mSyntaxError\u001b[0m\u001b[0;31m:\u001b[0m cannot assign to function call\n"
     ]
    }
   ],
   "source": [
    "a=[]\n",
    "test_score = [70,80,90,85,77,66,55,44,33,22]\n",
    "\n",
    "a.start(2)=test_score"
   ]
  },
  {
   "cell_type": "code",
   "execution_count": 2,
   "id": "04a21341",
   "metadata": {},
   "outputs": [
    {
     "data": {
      "text/plain": [
       "[70, 80, 90, 85, 77, 66, 55, 44]"
      ]
     },
     "execution_count": 2,
     "metadata": {},
     "output_type": "execute_result"
    }
   ],
   "source": [
    "test_score = [70,80,90,85,77,66,55,44,33,22]\n",
    "*scores, _, _ = test_score\n",
    "scores\n"
   ]
  },
  {
   "cell_type": "code",
   "execution_count": null,
   "id": "47d9d5a6",
   "metadata": {},
   "outputs": [],
   "source": [
    "딕셔너리 인덱싱\n",
    "{\"아이스크림이름\":[가격, 재고]}\n",
    "\n",
    "icecreams 딕셔너리에서 메로나의 가격을 출력하세요~\n",
    "\n",
    "\n",
    "icecreams = {\n",
    "    \"비비빅\": [300, 20],\n",
    "    \"메로나\": [500, 10],\n",
    "    \"누가바\": [700, 10]\n",
    "}\n",
    "\n"
   ]
  },
  {
   "cell_type": "code",
   "execution_count": null,
   "id": "603b66b2",
   "metadata": {},
   "outputs": [],
   "source": [
    "print(icecreams[\"메로나\"][0])"
   ]
  },
  {
   "cell_type": "code",
   "execution_count": 3,
   "id": "25abc594",
   "metadata": {},
   "outputs": [
    {
     "name": "stdout",
     "output_type": "stream",
     "text": [
      "500\n"
     ]
    }
   ],
   "source": [
    "icecreams = {\n",
    "    \"비비빅\": [300, 20],\n",
    "    \"메로나\": [500, 10],\n",
    "    \"누가바\": [700, 10]\n",
    "}\n",
    "\n",
    "\n",
    "print(icecreams[\"메로나\"][0])"
   ]
  },
  {
   "cell_type": "code",
   "execution_count": 40,
   "id": "0aa72810",
   "metadata": {},
   "outputs": [],
   "source": [
    "# 딕셔너리 update 메서드\n",
    "\n",
    "# 아래의 new_product 딕셔너리를 다음 icecream 딕셔너리에 추가해라\n",
    "\n",
    "icecream = {'탱크보이': 1200, '폴라포': 1200, '빵빠레': 1800, '월드콘': 1500, '메로나': 1000}\n",
    "new_product = {'팥빙수':2700, '아맛나':1000}\n",
    "\n"
   ]
  },
  {
   "cell_type": "code",
   "execution_count": 41,
   "id": "6f4d6783",
   "metadata": {},
   "outputs": [],
   "source": [
    "icecream.update(new_product)"
   ]
  },
  {
   "cell_type": "code",
   "execution_count": 42,
   "id": "ac7aa242",
   "metadata": {},
   "outputs": [
    {
     "name": "stdout",
     "output_type": "stream",
     "text": [
      "{'탱크보이': 1200, '폴라포': 1200, '빵빠레': 1800, '월드콘': 1500, '메로나': 1000, '팥빙수': 2700, '아맛나': 1000}\n"
     ]
    }
   ],
   "source": [
    "print(icecream)"
   ]
  },
  {
   "cell_type": "code",
   "execution_count": 43,
   "id": "34218e92",
   "metadata": {},
   "outputs": [
    {
     "name": "stdout",
     "output_type": "stream",
     "text": [
      "True\n"
     ]
    }
   ],
   "source": [
    "# 파이썬 분기문\n",
    "# 다음 결과를 예상하세요\n",
    "\n",
    "print ((3 == 3) and (4 != 3))\n"
   ]
  },
  {
   "cell_type": "code",
   "execution_count": null,
   "id": "b61e7c28",
   "metadata": {},
   "outputs": [],
   "source": [
    "True"
   ]
  },
  {
   "cell_type": "code",
   "execution_count": 11,
   "id": "1bf0fcc0",
   "metadata": {},
   "outputs": [
    {
     "name": "stdout",
     "output_type": "stream",
     "text": [
      "3\n",
      "5\n"
     ]
    }
   ],
   "source": [
    "#파이썬 분기문\n",
    "#다음 결과를 예상하세요\n",
    "\n",
    "if True :\n",
    "    if False:\n",
    "        print(\"1\")\n",
    "        print(\"2\")\n",
    "    else:\n",
    "        print(\"3\")\n",
    "else :\n",
    "    print(\"4\")\n",
    "print(\"5\")"
   ]
  },
  {
   "cell_type": "code",
   "execution_count": null,
   "id": "a28a3518",
   "metadata": {},
   "outputs": [],
   "source": [
    "3\n",
    "5"
   ]
  },
  {
   "cell_type": "code",
   "execution_count": 12,
   "id": "7f29ea3a",
   "metadata": {},
   "outputs": [
    {
     "name": "stdout",
     "output_type": "stream",
     "text": [
      "6\n",
      "5\n",
      "4\n",
      "3\n",
      "2\n",
      "1\n"
     ]
    }
   ],
   "source": [
    "# 다음 결과 값을 예상하세요\n",
    "\n",
    "list1 = [1,2,3,4,5,6]\n",
    "for i in list1[::-1]:\n",
    "    print(i)"
   ]
  },
  {
   "cell_type": "code",
   "execution_count": 13,
   "id": "d9498a2d",
   "metadata": {},
   "outputs": [
    {
     "name": "stdout",
     "output_type": "stream",
     "text": [
      "12\n",
      "18\n"
     ]
    }
   ],
   "source": [
    "# 다음 결과 값을 예상하세요\n",
    "\n",
    "list1 = [13, 21, 12, 14, 30, 18]\n",
    "for i in list1:\n",
    "    if (i < 20) and (i % 3 == 0):\n",
    "        print(i)"
   ]
  },
  {
   "cell_type": "code",
   "execution_count": 22,
   "id": "15111a46",
   "metadata": {},
   "outputs": [
    {
     "name": "stdout",
     "output_type": "stream",
     "text": [
      "0 32100\n",
      "1 32150\n",
      "2 32000\n",
      "3 32500\n"
     ]
    }
   ],
   "source": [
    "# 다음 결과 값을 예상하세요\n",
    "\n",
    "\n",
    "price_list = [32100, 32150, 32000, 32500]\n",
    "for i, data in enumerate(price_list):\n",
    "    print(i, data)"
   ]
  },
  {
   "cell_type": "code",
   "execution_count": null,
   "id": "6c2a07b1",
   "metadata": {},
   "outputs": [],
   "source": [
    "my_list = [\"가\", \"나\", \"다\", \"라\"] #i, i+1 i-1, i\n",
    "\n",
    "아래와 같이 출력하는 코드를 작성하세요(? 채우기)\n",
    "\n",
    "가 나\n",
    "나 다\n",
    "다 라\n"
   ]
  },
  {
   "cell_type": "code",
   "execution_count": null,
   "id": "0aaf54d7",
   "metadata": {},
   "outputs": [],
   "source": [
    "#방법 1.\n",
    "\n",
    "for i in [0, 1, 2]:\n",
    "    print(my_list[?], my_list[?])\n",
    "#방법 2.\n",
    "\n",
    "for i in range( 1, len(my_list) ) :\n",
    "    print(my_list[?], my_list[?])"
   ]
  },
  {
   "cell_type": "code",
   "execution_count": null,
   "id": "c04a8f67",
   "metadata": {},
   "outputs": [],
   "source": [
    "my_list = [\"가\", \"나\", \"다\", \"라\"] # i, i-1 / 3- i, 2 - i\n",
    "\n",
    "아래와 같이 출력하는 코드를 작성하세요(? 채우기)\n",
    "\n",
    "라 다\n",
    "다 나\n",
    "나 가"
   ]
  },
  {
   "cell_type": "code",
   "execution_count": null,
   "id": "9e6682f0",
   "metadata": {},
   "outputs": [],
   "source": [
    "#방법 1. \n",
    "\n",
    "for i in [3, 2, 1] :\n",
    "    print(my_list[?], my_list[?])\n",
    "    \n",
    "#방법 2.\n",
    "\n",
    "for i in [0, 1, 2] :\n",
    "    print(my_list[?], my_list[?])\n",
    "\n",
    "#방법 3.\n",
    "\n",
    "for i in range(len(my_list) - 1, 0, -1):\n",
    "    print(my_list[i], my_list[i-1])\n"
   ]
  },
  {
   "cell_type": "code",
   "execution_count": 26,
   "id": "cda90871",
   "metadata": {},
   "outputs": [
    {
     "name": "stdout",
     "output_type": "stream",
     "text": [
      "101 호\n",
      "102 호\n",
      "201 호\n",
      "202 호\n",
      "301 호\n",
      "302 호\n",
      "301 호\n",
      "302 호\n",
      "201 호\n",
      "202 호\n",
      "101 호\n",
      "102 호\n"
     ]
    }
   ],
   "source": [
    "# 아래 코드의 출력결과를 예상하세요\n",
    "\n",
    "\n",
    "apart = [ [101, 102], [201, 202], [301, 302] ]\n",
    "#1.\n",
    "for row in apart:\n",
    "    for col in row:\n",
    "        print(col, \"호\")\n",
    "#2.        \n",
    "for row in apart[::-1]:\n",
    "    for col in row:\n",
    "        print(col, \"호\")\n",
    "        "
   ]
  },
  {
   "cell_type": "code",
   "execution_count": null,
   "id": "c7bd3f01",
   "metadata": {},
   "outputs": [],
   "source": [
    "# 아래 코드의 결과를 예상하세요\n",
    "\n",
    "apart = [ [101, 102], [201, 202], [301, 302] ]\n",
    "#1.\n",
    "for row in apart:\n",
    "    for col in row:\n",
    "        print(col, \"호\")\n",
    "        print(\"-\" * 5)\n",
    "#2.        \n",
    "for row in apart:\n",
    "    for col in row:\n",
    "        print(col, \"호\")\n",
    "    print(\"-----\")"
   ]
  },
  {
   "cell_type": "code",
   "execution_count": 28,
   "id": "6e9cbbb5",
   "metadata": {},
   "outputs": [
    {
     "ename": "NameError",
     "evalue": "name 'hellossafy' is not defined",
     "output_type": "error",
     "traceback": [
      "\u001b[1;31m---------------------------------------------------------------------------\u001b[0m",
      "\u001b[1;31mNameError\u001b[0m                                 Traceback (most recent call last)",
      "Input \u001b[1;32mIn [28]\u001b[0m, in \u001b[0;36m<module>\u001b[1;34m\u001b[0m\n\u001b[0;32m      1\u001b[0m \u001b[38;5;66;03m# 아래의 에러가 발생하는 이유?\u001b[39;00m\n\u001b[1;32m----> 3\u001b[0m \u001b[43mhellossafy\u001b[49m()\n\u001b[0;32m      5\u001b[0m \u001b[38;5;28;01mdef\u001b[39;00m \u001b[38;5;21mhellossafy\u001b[39m():\n\u001b[0;32m      6\u001b[0m     \u001b[38;5;28mprint\u001b[39m(\u001b[38;5;124m\"\u001b[39m\u001b[38;5;124mhello!\u001b[39m\u001b[38;5;124m\"\u001b[39m)\n",
      "\u001b[1;31mNameError\u001b[0m: name 'hellossafy' is not defined"
     ]
    }
   ],
   "source": [
    "# 아래의 에러가 발생하는 이유?\n",
    "\n",
    "hellossafy()\n",
    "\n",
    "def hellossafy():\n",
    "    print(\"hello!\")"
   ]
  },
  {
   "cell_type": "code",
   "execution_count": 44,
   "id": "34e02dfd",
   "metadata": {},
   "outputs": [
    {
     "name": "stdout",
     "output_type": "stream",
     "text": [
      "B\n",
      "C\n",
      "B\n",
      "C\n",
      "B\n",
      "C\n",
      "A\n"
     ]
    }
   ],
   "source": [
    "#실행 결과 예측!\n",
    "\n",
    "def message1():\n",
    "    print(\"A\")\n",
    "\n",
    "def message2():\n",
    "    print(\"B\")\n",
    "\n",
    "def message3():\n",
    "    for i in range (3) :\n",
    "        message2()\n",
    "        print(\"C\")\n",
    "    message1()\n",
    "\n",
    "message3()"
   ]
  },
  {
   "cell_type": "code",
   "execution_count": null,
   "id": "d03def7e",
   "metadata": {},
   "outputs": [],
   "source": [
    "b\n",
    "c\n",
    "b\n",
    "c\n",
    "b\n",
    "c\n",
    "a"
   ]
  },
  {
   "cell_type": "code",
   "execution_count": 45,
   "id": "21612b1a",
   "metadata": {},
   "outputs": [
    {
     "name": "stdout",
     "output_type": "stream",
     "text": [
      "25\n"
     ]
    }
   ],
   "source": [
    "#아래의 결과를 예상하세요~\n",
    "\n",
    "def function(num):\n",
    "    return num+5\n",
    "\n",
    "a = function(10)\n",
    "b = function(a)\n",
    "c = function(b)\n",
    "\n",
    "print(c)"
   ]
  },
  {
   "cell_type": "code",
   "execution_count": null,
   "id": "223d331e",
   "metadata": {},
   "outputs": [],
   "source": [
    "25"
   ]
  },
  {
   "cell_type": "code",
   "execution_count": 46,
   "id": "22f5d02d",
   "metadata": {},
   "outputs": [],
   "source": [
    "class Human:\n",
    "    def __init__(self):\n",
    "        pass\n",
    "jangyeob=Human()\n",
    "\n",
    "# human클래스의 인스턴스를 생성하고, jangyeob 변수에 할당하세요\n"
   ]
  },
  {
   "cell_type": "code",
   "execution_count": 47,
   "id": "debb5c7c",
   "metadata": {},
   "outputs": [
    {
     "data": {
      "text/plain": [
       "31"
      ]
     },
     "execution_count": 47,
     "metadata": {},
     "output_type": "execute_result"
    }
   ],
   "source": [
    "class Human:\n",
    "    def __init__(self, name, age, sex):\n",
    "        self.name = name\n",
    "        self.age = age\n",
    "        self.sex = sex\n",
    "\n",
    "jangyeob = Human('나장엽', 31, '남자')\n",
    "\n",
    "# 인스턴스 jangyeob의 나이를 출력하세요\n",
    "jangyeob.age\n",
    "\n"
   ]
  },
  {
   "cell_type": "code",
   "execution_count": 48,
   "id": "4b5e9b93",
   "metadata": {},
   "outputs": [
    {
     "name": "stdout",
     "output_type": "stream",
     "text": [
      "이름 : 장엽 나이 : 31 성별 : mal\n"
     ]
    }
   ],
   "source": [
    "class Human:\n",
    "    def __init__(self, name, age, sex):\n",
    "        self.name = name\n",
    "        self.age = age\n",
    "        self.sex = sex\n",
    "        \n",
    "        \n",
    "    def setInfo(self, name, age, sex):\n",
    "        self.name = name\n",
    "        self.age = age\n",
    "        self.sex = sex \n",
    "        \n",
    "    def whoareyou(self):\n",
    "        print(\"이름 : {0} 나이 : {1} 성별 : {2}\".format(self.name, self.age, self.sex))\n",
    "        \n",
    "jangyeob = Human('모름', 0, '모름')\n",
    "# 위의 클래스를 보고 jangyeob 인스턴스의 이름과 나이 성별을 다시 할당해주세요\n",
    "# 여기에 코드를 추가하세요\n",
    "jangyeob.name='장엽'\n",
    "jangyeob.age='31'\n",
    "jangyeob.sex='mal'\n",
    "\n",
    "jangyeob.whoareyou()\n",
    "\n",
    "\n",
    "\n",
    "\n",
    "\n"
   ]
  },
  {
   "cell_type": "code",
   "execution_count": 51,
   "id": "03f706ce",
   "metadata": {},
   "outputs": [
    {
     "ename": "NameError",
     "evalue": "name 'Stock' is not defined",
     "output_type": "error",
     "traceback": [
      "\u001b[0;31m---------------------------------------------------------------------------\u001b[0m",
      "\u001b[0;31mNameError\u001b[0m                                 Traceback (most recent call last)",
      "\u001b[0;32m/var/folders/c2/zlbdh2zn0kq1d0x7lw9nl6b80000gn/T/ipykernel_15583/3820286185.py\u001b[0m in \u001b[0;36m<module>\u001b[0;34m\u001b[0m\n\u001b[0;32m----> 1\u001b[0;31m \u001b[0;32mclass\u001b[0m \u001b[0mStock\u001b[0m\u001b[0;34m:\u001b[0m\u001b[0;34m\u001b[0m\u001b[0;34m\u001b[0m\u001b[0m\n\u001b[0m\u001b[1;32m      2\u001b[0m     \u001b[0;32mdef\u001b[0m \u001b[0m__init__\u001b[0m\u001b[0;34m(\u001b[0m\u001b[0mself\u001b[0m\u001b[0;34m,\u001b[0m \u001b[0mname\u001b[0m\u001b[0;34m,\u001b[0m \u001b[0mcode\u001b[0m\u001b[0;34m)\u001b[0m\u001b[0;34m:\u001b[0m\u001b[0;34m\u001b[0m\u001b[0;34m\u001b[0m\u001b[0m\n\u001b[1;32m      3\u001b[0m         \u001b[0mself\u001b[0m\u001b[0;34m.\u001b[0m\u001b[0mname\u001b[0m \u001b[0;34m=\u001b[0m \u001b[0mname\u001b[0m\u001b[0;34m\u001b[0m\u001b[0;34m\u001b[0m\u001b[0m\n\u001b[1;32m      4\u001b[0m         \u001b[0mself\u001b[0m\u001b[0;34m.\u001b[0m\u001b[0mcode\u001b[0m \u001b[0;34m=\u001b[0m \u001b[0mcode\u001b[0m\u001b[0;34m\u001b[0m\u001b[0;34m\u001b[0m\u001b[0m\n\u001b[1;32m      5\u001b[0m \u001b[0;34m\u001b[0m\u001b[0m\n",
      "\u001b[0;32m/var/folders/c2/zlbdh2zn0kq1d0x7lw9nl6b80000gn/T/ipykernel_15583/3820286185.py\u001b[0m in \u001b[0;36mStock\u001b[0;34m()\u001b[0m\n\u001b[1;32m     14\u001b[0m \u001b[0;34m\u001b[0m\u001b[0m\n\u001b[1;32m     15\u001b[0m \u001b[0;34m\u001b[0m\u001b[0m\n\u001b[0;32m---> 16\u001b[0;31m     \u001b[0ma\u001b[0m \u001b[0;34m=\u001b[0m \u001b[0mStock\u001b[0m\u001b[0;34m(\u001b[0m\u001b[0;32mNone\u001b[0m\u001b[0;34m,\u001b[0m \u001b[0;32mNone\u001b[0m\u001b[0;34m)\u001b[0m\u001b[0;34m\u001b[0m\u001b[0;34m\u001b[0m\u001b[0m\n\u001b[0m\u001b[1;32m     17\u001b[0m     \u001b[0ma\u001b[0m\u001b[0;34m.\u001b[0m\u001b[0mset_name\u001b[0m\u001b[0;34m(\u001b[0m\u001b[0;34m\"삼성전자\"\u001b[0m\u001b[0;34m)\u001b[0m\u001b[0;34m\u001b[0m\u001b[0;34m\u001b[0m\u001b[0m\n\u001b[1;32m     18\u001b[0m     \u001b[0ma\u001b[0m\u001b[0;34m.\u001b[0m\u001b[0mset_code\u001b[0m\u001b[0;34m(\u001b[0m\u001b[0;34m\"005930\"\u001b[0m\u001b[0;34m)\u001b[0m\u001b[0;34m\u001b[0m\u001b[0;34m\u001b[0m\u001b[0m\n",
      "\u001b[0;31mNameError\u001b[0m: name 'Stock' is not defined"
     ]
    }
   ],
   "source": [
    "class Stock:\n",
    "    def __init__(self, name, code):\n",
    "        self.name = name\n",
    "        self.code = code\n",
    "        \n",
    "        \n",
    "    #인스턴스에 이름을 입력 할 수 있는 set_name 메서드 코드를 작성하세요\n",
    "    \n",
    "    def set_name(self, name):\n",
    "        print(name)\n",
    "    \n",
    "    def set_code(self, code):    \n",
    "        print (code)\n",
    "    \n",
    "    \n",
    "    a = Stock(None, None)\n",
    "    a.set_name(\"삼성전자\") \n",
    "    a.set_code(\"005930\")\n",
    "    \n",
    "    \n",
    "    "
   ]
  },
  {
   "cell_type": "code",
   "execution_count": 32,
   "id": "922c1efe",
   "metadata": {},
   "outputs": [
    {
     "name": "stdout",
     "output_type": "stream",
     "text": [
      "자식호출\n"
     ]
    }
   ],
   "source": [
    "#다음 코드의 실행결과는?\n",
    "\n",
    "\n",
    "class 부모:\n",
    "    def 호출(self):\n",
    "        print(\"부모호출\")\n",
    "\n",
    "class 자식(부모):\n",
    "    def 호출(self):\n",
    "        print(\"자식호출\")\n",
    "        \n",
    "\n",
    "나 = 자식()\n",
    "나.호출()\n"
   ]
  },
  {
   "cell_type": "code",
   "execution_count": 33,
   "id": "ef403ee0",
   "metadata": {},
   "outputs": [
    {
     "name": "stdout",
     "output_type": "stream",
     "text": [
      "자식생성\n"
     ]
    }
   ],
   "source": [
    "#다음 코드의 실행결과는 ?\n",
    "\n",
    "class 부모:\n",
    "    def __init__(self):\n",
    "        print(\"부모생성\")\n",
    "\n",
    "class 자식(부모):\n",
    "    def __init__(self):\n",
    "        print(\"자식생성\")\n",
    "        \n",
    "나 = 자식()"
   ]
  },
  {
   "cell_type": "code",
   "execution_count": 34,
   "id": "a8a4135a",
   "metadata": {},
   "outputs": [
    {
     "name": "stdout",
     "output_type": "stream",
     "text": [
      "자식생성\n",
      "부모생성\n"
     ]
    }
   ],
   "source": [
    "#다음 코드의 실행결과는?\n",
    "\n",
    "\n",
    "class 부모:\n",
    "      def __init__(self):\n",
    "            print(\"부모생성\")\n",
    "\n",
    "class 자식(부모):\n",
    "      def __init__(self):\n",
    "            print(\"자식생성\")\n",
    "            super().__init__()\n",
    "\n",
    "나 = 자식()"
   ]
  },
  {
   "cell_type": "code",
   "execution_count": null,
   "id": "bff75c22",
   "metadata": {},
   "outputs": [],
   "source": [
    "try:\n",
    "    실행 코드\n",
    "except:\n",
    "    예외가 발생했을 때 수행할 코드\n",
    "else:\n",
    "    예외가 발생하지 않았을 때 수행할 코드\n",
    "finally:\n",
    "    예외 발생 여부와 상관없이 항상 수행할 코드"
   ]
  }
 ],
 "metadata": {
  "kernelspec": {
   "display_name": "Python 3 (ipykernel)",
   "language": "python",
   "name": "python3"
  },
  "language_info": {
   "codemirror_mode": {
    "name": "ipython",
    "version": 3
   },
   "file_extension": ".py",
   "mimetype": "text/x-python",
   "name": "python",
   "nbconvert_exporter": "python",
   "pygments_lexer": "ipython3",
   "version": "3.9.7"
  },
  "toc": {
   "base_numbering": 1,
   "nav_menu": {},
   "number_sections": true,
   "sideBar": true,
   "skip_h1_title": false,
   "title_cell": "Table of Contents",
   "title_sidebar": "Contents",
   "toc_cell": false,
   "toc_position": {},
   "toc_section_display": true,
   "toc_window_display": false
  }
 },
 "nbformat": 4,
 "nbformat_minor": 5
}
