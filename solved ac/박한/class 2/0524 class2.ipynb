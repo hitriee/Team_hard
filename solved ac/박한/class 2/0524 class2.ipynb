{
 "cells": [
  {
   "cell_type": "code",
   "execution_count": 2,
   "id": "97d83385",
   "metadata": {},
   "outputs": [
    {
     "name": "stdout",
     "output_type": "stream",
     "text": [
      "6 8 10\n",
      "right\n",
      "25 52 60\n",
      "wrong\n",
      "5 12 13\n",
      "right\n",
      "0 0 0\n"
     ]
    }
   ],
   "source": [
    "# 백준 class 2++ 4153 직각삼각형\n",
    "\n",
    "while 1:\n",
    "    lst = list(map(int, input().split()))\n",
    "    if sum(lst) == 0:\n",
    "        break\n",
    "    a = max(lst)\n",
    "    b = 0\n",
    "    for i in range(3):\n",
    "        b += (lst[i])**2\n",
    "    if (a**2)*2 == b:\n",
    "        print(\"right\")\n",
    "    else:\n",
    "        print(\"wrong\")"
   ]
  }
 ],
 "metadata": {
  "kernelspec": {
   "display_name": "Python 3 (ipykernel)",
   "language": "python",
   "name": "python3"
  },
  "language_info": {
   "codemirror_mode": {
    "name": "ipython",
    "version": 3
   },
   "file_extension": ".py",
   "mimetype": "text/x-python",
   "name": "python",
   "nbconvert_exporter": "python",
   "pygments_lexer": "ipython3",
   "version": "3.10.4"
  },
  "toc": {
   "base_numbering": 1,
   "nav_menu": {},
   "number_sections": true,
   "sideBar": true,
   "skip_h1_title": false,
   "title_cell": "Table of Contents",
   "title_sidebar": "Contents",
   "toc_cell": false,
   "toc_position": {},
   "toc_section_display": true,
   "toc_window_display": false
  }
 },
 "nbformat": 4,
 "nbformat_minor": 5
}
