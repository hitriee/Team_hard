{
 "cells": [
  {
   "cell_type": "code",
   "execution_count": 11,
   "id": "1e75b61c",
   "metadata": {},
   "outputs": [
    {
     "name": "stdout",
     "output_type": "stream",
     "text": [
      "5 12\n",
      "0 samm\n",
      "1 sammy\n",
      "3 sole\n",
      "2 coo\n",
      "0 luke\n",
      "1 haily\n",
      "2 elly\n",
      "3 hoo\n",
      "2 kim\n",
      "2 joon\n",
      "4 john\n",
      "4 loo\n",
      "coo elly kim joon\n"
     ]
    }
   ],
   "source": [
    "# 민코딩 심화반1 Level 32 - 문제 6번 : 국회의원 투표\n",
    "\n",
    "n, m = map(int, input().split())\n",
    "arr = [list(input().split()) for _ in range(m)]\n",
    "lst = [[] for _ in range(n)]\n",
    "for i in range(m):\n",
    "    lst[int(arr[i][0])].append(arr[i][1])\n",
    "for i in range(1, n):\n",
    "    for j in range(i, 0, -1):\n",
    "        if len(lst[j]) > len(lst[j-1]):\n",
    "            lst[j], lst[j-1] = lst[j-1], lst[j]\n",
    "        else:\n",
    "            break\n",
    "print(*lst[0])"
   ]
  },
  {
   "cell_type": "code",
   "execution_count": 7,
   "id": "87da3762",
   "metadata": {},
   "outputs": [
    {
     "name": "stdout",
     "output_type": "stream",
     "text": [
      "4\n",
      "0 0 852\n",
      "0 2 51\n",
      "1 1 5\n",
      "2 0 3\n",
      "2\n",
      "4 2\n",
      "3\n"
     ]
    }
   ],
   "source": [
    "# 민코딩 심화반1 Level 32 - 문제 7번 : 분당에 바람이 분다\n",
    "\n",
    "n = int(input())\n",
    "arr = [list(input().split()) for _ in range(n)]\n",
    "m = int(input())\n",
    "lst = list(map(int, input().split()))\n",
    "def abc(level):\n",
    "    if level == m:\n",
    "        return\n",
    "    for i in range(n):\n",
    "        if arr[i][2] == '':\n",
    "            continue\n",
    "        if int(arr[i][2][-1]) > lst[level]:\n",
    "            arr[i][2] = arr[i][2][:len(arr[i][2])-1] + str(int(arr[i][2][-1]) - lst[level])\n",
    "        else:\n",
    "            if len(arr[i][2]) == 1:\n",
    "                arr[i][2] = ''\n",
    "            else:\n",
    "                arr[i][2] = arr[i][2][:len(arr[i][2])-1]\n",
    "    abc(level+1)\n",
    "abc(0)\n",
    "rst = 0\n",
    "for i in range(n):\n",
    "    rst += len(arr[i][2])\n",
    "print(rst)"
   ]
  },
  {
   "cell_type": "code",
   "execution_count": 22,
   "id": "941f79dd",
   "metadata": {},
   "outputs": [
    {
     "name": "stdout",
     "output_type": "stream",
     "text": [
      "5\n",
      "redeye\n",
      "apple\n",
      "Steve\n",
      "Berry\n",
      "eUnBo\n",
      "Apple\n",
      "Berry\n",
      "EUNBO\n",
      "Redeye\n",
      "Steve\n"
     ]
    }
   ],
   "source": [
    "# 민코딩 심화반1 Level 32 - 문제 8번 : 새로운 회원관리 시스템\n",
    "\n",
    "n = int(input())\n",
    "lst = [input() for _ in range(n)]\n",
    "for i in range(n):\n",
    "    if lst[i] == lst[i].upper():\n",
    "        continue\n",
    "    elif lst[i] == lst[i].capitalize():\n",
    "        continue\n",
    "    elif lst[i] == lst[i].lower():\n",
    "        lst[i] = lst[i].capitalize()\n",
    "    else:\n",
    "        lst[i] = lst[i].upper()\n",
    "lst.sort()\n",
    "for i in range(n):\n",
    "    print(lst[i])"
   ]
  },
  {
   "cell_type": "code",
   "execution_count": 11,
   "id": "20d50696",
   "metadata": {},
   "outputs": [
    {
     "name": "stdout",
     "output_type": "stream",
     "text": [
      "ZZAYYYKBTA\n",
      "6\n",
      "Y\n"
     ]
    }
   ],
   "source": [
    "# 민코딩 심화반1 Level 32 - 문제 9번 : 알파벳 카드 선정\n",
    "\n",
    "lst = list(input())\n",
    "n = int(input())\n",
    "ls = [0]*n\n",
    "for i in range(1, len(lst)):\n",
    "    for j in range(i, 0, -1):\n",
    "        if ord(lst[j]) < ord(lst[j-1]):\n",
    "            lst[j-1], lst[j] = lst[j], lst[j-1]\n",
    "        else:\n",
    "            break\n",
    "for i in range(n-1):\n",
    "    for j in range(i+1, n):\n",
    "        if lst[len(lst)-n+i] == lst[len(lst)-n+j]:\n",
    "            ls[i] += 1\n",
    "for i in range(n):\n",
    "    if ls[i] == max(ls):\n",
    "        print(lst[len(lst)-n+i])\n",
    "        break"
   ]
  },
  {
   "cell_type": "code",
   "execution_count": 18,
   "id": "be50cdf6",
   "metadata": {},
   "outputs": [
    {
     "name": "stdout",
     "output_type": "stream",
     "text": [
      "4\n",
      "3 4 1 6\n",
      "7 7 2 4\n",
      "2 6 4 5\n",
      "4 2 6 5\n",
      "0 1 0 0\n",
      "0 1 0 0\n",
      "0 0 1 0\n",
      "0 1 0 0\n",
      "4 4 2 7 "
     ]
    }
   ],
   "source": [
    "# 민코딩 심화반1 Level 32 - 문제 10번 : Bit 복권 번호 추천 프로그램\n",
    "\n",
    "n = int(input())\n",
    "arr = [list(map(int, input().split())) for _ in range(n)]\n",
    "bit = [list(map(int, input().split())) for _ in range(n)]\n",
    "lst = []\n",
    "for i in range(n):\n",
    "    for j in range(n):\n",
    "        if bit[i][j] == 1:\n",
    "            lst.append(arr[i][j])\n",
    "freq = [0]*len(lst)\n",
    "for i in range(len(lst)-1):\n",
    "    for j in range(i+1, len(lst)):\n",
    "        if freq[i] < 0:\n",
    "            continue\n",
    "        if lst[i] == lst[j]:\n",
    "            freq[i] += 1\n",
    "            freq[j] -= 1\n",
    "for i in range(1, len(lst)):\n",
    "    for j in range(i, 0, -1):\n",
    "        if freq[j] > freq[j-1]:\n",
    "            lst[j-1], lst[j] = lst[j], lst[j-1]\n",
    "            freq[j-1], freq[j] = freq[j], freq[j-1]\n",
    "        elif freq[j] == freq[j-1]:\n",
    "            if lst[j] < lst[j-1]:\n",
    "                lst[j-1], lst[j] = lst[j], lst[j-1]\n",
    "                freq[j-1], freq[j] = freq[j], freq[j-1]\n",
    "            else:\n",
    "                break\n",
    "        else:\n",
    "            break\n",
    "for i in range(len(lst)):\n",
    "    if freq[i] < 0:\n",
    "        break\n",
    "    for j in range(freq[i]+1):\n",
    "        print(lst[i], end=\" \")"
   ]
  }
 ],
 "metadata": {
  "kernelspec": {
   "display_name": "Python 3 (ipykernel)",
   "language": "python",
   "name": "python3"
  },
  "language_info": {
   "codemirror_mode": {
    "name": "ipython",
    "version": 3
   },
   "file_extension": ".py",
   "mimetype": "text/x-python",
   "name": "python",
   "nbconvert_exporter": "python",
   "pygments_lexer": "ipython3",
   "version": "3.10.1"
  },
  "toc": {
   "base_numbering": 1,
   "nav_menu": {},
   "number_sections": true,
   "sideBar": true,
   "skip_h1_title": false,
   "title_cell": "Table of Contents",
   "title_sidebar": "Contents",
   "toc_cell": false,
   "toc_position": {},
   "toc_section_display": true,
   "toc_window_display": false
  }
 },
 "nbformat": 4,
 "nbformat_minor": 5
}
