{
 "cells": [
  {
   "cell_type": "code",
   "execution_count": 5,
   "id": "7b8d51a8",
   "metadata": {},
   "outputs": [
    {
     "name": "stdout",
     "output_type": "stream",
     "text": [
      "ㄱㄴㄷㄹ\n",
      "3\n",
      "ㄱㄴㄷ\n",
      "ㄱㄴㄹ\n",
      "ㄱㄷㄹ\n",
      "ㄴㄷㄹ\n",
      "4\n"
     ]
    }
   ],
   "source": [
    "# codeFestival_1. 80번\n",
    "\n",
    "lst = list(input())\n",
    "n = int(input())\n",
    "path = ['']*n\n",
    "rst = 0\n",
    "def abc(level, start):\n",
    "    global rst\n",
    "    if level == n:\n",
    "        rst += 1\n",
    "        for i in range(n):\n",
    "            print(path[i], end=\"\")\n",
    "        print()\n",
    "        return\n",
    "    for i in range(start, len(lst)):\n",
    "        path[level] = lst[i]\n",
    "        abc(level+1, i+1)\n",
    "abc(0, 0)\n",
    "print(rst)"
   ]
  }
 ],
 "metadata": {
  "kernelspec": {
   "display_name": "Python 3 (ipykernel)",
   "language": "python",
   "name": "python3"
  },
  "language_info": {
   "codemirror_mode": {
    "name": "ipython",
    "version": 3
   },
   "file_extension": ".py",
   "mimetype": "text/x-python",
   "name": "python",
   "nbconvert_exporter": "python",
   "pygments_lexer": "ipython3",
   "version": "3.10.1"
  },
  "toc": {
   "base_numbering": 1,
   "nav_menu": {},
   "number_sections": true,
   "sideBar": true,
   "skip_h1_title": false,
   "title_cell": "Table of Contents",
   "title_sidebar": "Contents",
   "toc_cell": false,
   "toc_position": {},
   "toc_section_display": true,
   "toc_window_display": false
  }
 },
 "nbformat": 4,
 "nbformat_minor": 5
}
