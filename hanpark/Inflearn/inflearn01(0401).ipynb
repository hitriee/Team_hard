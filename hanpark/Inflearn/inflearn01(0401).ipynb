{
 "cells": [
  {
   "cell_type": "code",
   "execution_count": 3,
   "id": "e9022b8a",
   "metadata": {},
   "outputs": [
    {
     "name": "stdout",
     "output_type": "stream",
     "text": [
      "5 4\n",
      "0 0 0 0\n",
      "0 1 0 3\n",
      "2 5 0 1\n",
      "2 4 4 1\n",
      "5 1 1 1\n",
      "1 1 1 1 3 3 3\n",
      "2\n"
     ]
    }
   ],
   "source": [
    "# codeFestival_1. 100번\n",
    "\n",
    "n, m = map(int, input().split())\n",
    "arr = [list(map(int, input().split())) for _ in range(n)]\n",
    "lst = list(map(int, input().split()))\n",
    "rst = 0\n",
    "key = []\n",
    "def abc(level):\n",
    "    global rst, key\n",
    "    if level == len(lst):\n",
    "        print(rst)\n",
    "        return\n",
    "    if arr[n-1][lst[level]-1] == 0:\n",
    "        rst -= 1\n",
    "        abc(level+1)\n",
    "    else:\n",
    "        if key == [] or key[-1] != arr[n-1][lst[level]-1]:\n",
    "            key.append(arr[n-1][lst[level]-1])\n",
    "            for i in range(n-1, 0, -1):\n",
    "                arr[i][lst[level]-1] = arr[i-1][lst[level]-1]\n",
    "            abc(level+1)\n",
    "        else:\n",
    "            rst += (arr[n-1][lst[level]-1])*2\n",
    "            del key[-1]\n",
    "            for i in range(n-1, 0, -1):\n",
    "                arr[i][lst[level]-1] = arr[i-1][lst[level]-1]\n",
    "            abc(level+1)\n",
    "abc(0)"
   ]
  }
 ],
 "metadata": {
  "kernelspec": {
   "display_name": "Python 3 (ipykernel)",
   "language": "python",
   "name": "python3"
  },
  "language_info": {
   "codemirror_mode": {
    "name": "ipython",
    "version": 3
   },
   "file_extension": ".py",
   "mimetype": "text/x-python",
   "name": "python",
   "nbconvert_exporter": "python",
   "pygments_lexer": "ipython3",
   "version": "3.10.1"
  },
  "toc": {
   "base_numbering": 1,
   "nav_menu": {},
   "number_sections": true,
   "sideBar": true,
   "skip_h1_title": false,
   "title_cell": "Table of Contents",
   "title_sidebar": "Contents",
   "toc_cell": false,
   "toc_position": {},
   "toc_section_display": true,
   "toc_window_display": false
  }
 },
 "nbformat": 4,
 "nbformat_minor": 5
}
