{
 "cells": [
  {
   "cell_type": "code",
   "execution_count": null,
   "id": "2ee55dff",
   "metadata": {},
   "outputs": [],
   "source": [
    "# 백준 브론즈 4 1008번\n",
    "# 두 정수 A와 B를 입력받은 다음, A/B를 출력하는 프로그램을 작성하시오.\n",
    "\n",
    "A, B = map(int, input().split())\n",
    "print(A/B)"
   ]
  },
  {
   "cell_type": "code",
   "execution_count": 1,
   "id": "1ceace25",
   "metadata": {},
   "outputs": [
    {
     "name": "stdout",
     "output_type": "stream",
     "text": [
      "52 9 16\n",
      "25 45\n"
     ]
    }
   ],
   "source": [
    "# 백준 브론즈 4 1297번\n",
    "# TV의 대각선 길이와, 높이 너비의 비율이 주어졌을 때, 실제 높이와 너비의 길이를 출력하는 프로그램을 작성하시오.\n",
    "\n",
    "D, H, W = map(int, input().split())\n",
    "X = (D**2/(H**2 + W**2))**(1/2)\n",
    "print(int(X*H), int(X*W))"
   ]
  },
  {
   "cell_type": "code",
   "execution_count": 2,
   "id": "deba3c71",
   "metadata": {},
   "outputs": [
    {
     "name": "stdout",
     "output_type": "stream",
     "text": [
      "10 2\n",
      ">\n"
     ]
    }
   ],
   "source": [
    "# 백준 브론즈 4 1330번\n",
    "# 두 정수 A와 B가 주어졌을 때, A와 B를 비교하는 프로그램을 작성하시오.\n",
    "\n",
    "A, B = map(int, input().split())\n",
    "if A > B:\n",
    "    print('>')\n",
    "elif A < B:\n",
    "    print('<')\n",
    "else:\n",
    "    print('==')"
   ]
  },
  {
   "cell_type": "code",
   "execution_count": 6,
   "id": "d4b56628",
   "metadata": {},
   "outputs": [
    {
     "name": "stdout",
     "output_type": "stream",
     "text": [
      "2100000 9 10\n",
      "2100001\n"
     ]
    }
   ],
   "source": [
    "# 백준 브론즈 4 1712번\n",
    "# 노트북 판매 대수에 상관없이 A만원의 고정 비용이 들며, 한 대의 노트북을 생산하는 데에는 총 B만원의 가변 비용이 든다.\n",
    "# 노트북 가격은 C만원으로 책정되었다고 한다. 최초로 총 수입이 총 비용보다 많아져 이익이 발생하는 지점인 손익분기점을 구하는 프로그램을 작성하시오.\n",
    "\n",
    "A, B, C = map(int, input().split())\n",
    "# (C-B)*n > A를 만족하는 최소의 n을 구하자\n",
    "if (C-B) > 0:\n",
    "    n = A//(C-B) + 1\n",
    "else:\n",
    "    n = -1\n",
    "print(n)"
   ]
  },
  {
   "cell_type": "code",
   "execution_count": 7,
   "id": "81bc0374",
   "metadata": {},
   "outputs": [
    {
     "name": "stdout",
     "output_type": "stream",
     "text": [
      "-2 5\n",
      "7\n"
     ]
    }
   ],
   "source": [
    "# 백준 브론즈 4 2420번\n",
    "# 첫째 줄에 두 유명도의 차이 (|N-M|)을 출력한다.\n",
    "\n",
    "N, M = map(int, input().split())\n",
    "print(abs(N-M))"
   ]
  },
  {
   "cell_type": "code",
   "execution_count": 12,
   "id": "c22d265e",
   "metadata": {},
   "outputs": [
    {
     "name": "stdout",
     "output_type": "stream",
     "text": [
      "8 7 8\n",
      "1800\n"
     ]
    }
   ],
   "source": [
    "# 백준 브론즈 4 2480번\n",
    "# 주사위를 3개 던져서, 같은 눈이 3개가 나오면 10,000원+(같은 눈)×1,000원의 상금을 받게 된다. \n",
    "# 같은 눈이 2개만 나오는 경우에는 1,000원+(같은 눈)×100원의 상금을 받게 되고, 모두 다른 눈이 나오는 경우에는 (그 중 가장 큰 눈)×100원의 상금을 받게 된다.\n",
    "\n",
    "tri_dice = list(map(int, input().split()))\n",
    "if (tri_dice[0] == tri_dice[1] == tri_dice[2]):\n",
    "    print(10000 + tri_dice[0] * 1000)\n",
    "elif tri_dice[0] == tri_dice[1]:\n",
    "    print(1000 + tri_dice[0] * 100)\n",
    "elif tri_dice[0] == tri_dice[2]:\n",
    "    print(1000 + tri_dice[0] * 100)\n",
    "elif tri_dice[1] == tri_dice[2]:\n",
    "    print(1000 + tri_dice[1] * 100)\n",
    "else:\n",
    "    print(max(tri_dice)*100)\n",
    "    \n",
    "# 좀 더 간단하게 할 수 없을까?"
   ]
  },
  {
   "cell_type": "code",
   "execution_count": 16,
   "id": "3891a13d",
   "metadata": {},
   "outputs": [
    {
     "name": "stdout",
     "output_type": "stream",
     "text": [
      "17 40\n",
      "80\n",
      "19 0\n"
     ]
    }
   ],
   "source": [
    "# 백준 브론즈 4 2525번\n",
    "# 현재 시간(A), 분(B)과 요리에 필요한 분(C)\n",
    "\n",
    "A, B = map(int, input().split())\n",
    "C = int(input())\n",
    "print((A+(B+C)//60)%24, (B+C)%60)"
   ]
  },
  {
   "cell_type": "code",
   "execution_count": 22,
   "id": "28731ff0",
   "metadata": {},
   "outputs": [
    {
     "name": "stdout",
     "output_type": "stream",
     "text": [
      "23 48 59\n",
      "2515\n",
      "0 30 54\n"
     ]
    }
   ],
   "source": [
    "# 백준 브론즈 4 2530번\n",
    "# 현재 시간(A), 분(B), 초(C)와 요리에 필요한 초(D)\n",
    "\n",
    "A, B, C = map(int, input().split())\n",
    "D = int(input())\n",
    "print((A+(B+(C+D)//60)//60)%24, (B+(C+D)//60)%60, (C+D)%60)"
   ]
  },
  {
   "cell_type": "code",
   "execution_count": 29,
   "id": "3bc4c3ff",
   "metadata": {},
   "outputs": [
    {
     "name": "stdout",
     "output_type": "stream",
     "text": [
      "472\n",
      "385\n",
      "2360\n",
      "3776\n",
      "1416\n",
      "181720\n"
     ]
    }
   ],
   "source": [
    "# 백준 브론즈 4 2588번\n",
    "# 세자리수 A와 B를 입력받고 (예를 들어 472*385라면) 472*5, 472*8, 472*3을 각 출력하고 472*385를 마지막으로 출력\n",
    "\n",
    "A = int(input())\n",
    "B = int(input())\n",
    "C = list(map(int, str(B)))\n",
    "print(A * int(C[2]))\n",
    "print(A * int(C[1]))\n",
    "print(A * int(C[0]))\n",
    "print(A * B)\n",
    "\n",
    "# 어렵다.."
   ]
  },
  {
   "cell_type": "code",
   "execution_count": 34,
   "id": "aa737c11",
   "metadata": {},
   "outputs": [
    {
     "name": "stdout",
     "output_type": "stream",
     "text": [
      "3 1 2\n",
      "1 2 3 "
     ]
    }
   ],
   "source": [
    "# 백준 브론즈 4 2752번\n",
    "# 숫자 세 개를 입력받고 오름차순으로 정렬하라\n",
    "A = list(map(int, input().split()))\n",
    "for y in range(0, 3):\n",
    "    for x in range(y+1, 3):\n",
    "        if A[y] > A[x]:\n",
    "            (A[y], A[x]) = (A[x], A[y])\n",
    "for i in A:\n",
    "    print(i, end= ' ')"
   ]
  }
 ],
 "metadata": {
  "kernelspec": {
   "display_name": "Python 3 (ipykernel)",
   "language": "python",
   "name": "python3"
  },
  "language_info": {
   "codemirror_mode": {
    "name": "ipython",
    "version": 3
   },
   "file_extension": ".py",
   "mimetype": "text/x-python",
   "name": "python",
   "nbconvert_exporter": "python",
   "pygments_lexer": "ipython3",
   "version": "3.10.1"
  },
  "toc": {
   "base_numbering": 1,
   "nav_menu": {},
   "number_sections": true,
   "sideBar": true,
   "skip_h1_title": false,
   "title_cell": "Table of Contents",
   "title_sidebar": "Contents",
   "toc_cell": false,
   "toc_position": {},
   "toc_section_display": true,
   "toc_window_display": false
  }
 },
 "nbformat": 4,
 "nbformat_minor": 5
}
