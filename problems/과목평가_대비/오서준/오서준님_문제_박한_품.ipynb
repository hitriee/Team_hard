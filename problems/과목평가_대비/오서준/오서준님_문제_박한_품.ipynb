{
 "cells": [
  {
   "cell_type": "code",
   "execution_count": null,
   "id": "9715d2f0",
   "metadata": {},
   "outputs": [],
   "source": [
    "# 1. 상속받은 메소드를 재정의하는 것을 뜻하는 용어는?\n",
    "# 메소드 오버라이팅"
   ]
  },
  {
   "cell_type": "code",
   "execution_count": null,
   "id": "9750d0fe",
   "metadata": {},
   "outputs": [],
   "source": [
    "# 2. 올바른 이름 검색 규칙은?\n",
    "# 1) LEGB 2) LGEB 3) GELB 4) ELGB\n",
    "# 정답은 1) LEGB 룰!"
   ]
  },
  {
   "cell_type": "code",
   "execution_count": null,
   "id": "30080807",
   "metadata": {},
   "outputs": [],
   "source": [
    "# 3. round(243.1694, 0)을 출력하면?\n",
    "# 정답은 2) 243"
   ]
  },
  {
   "cell_type": "code",
   "execution_count": null,
   "id": "f290c784",
   "metadata": {},
   "outputs": [],
   "source": [
    "# 4. append()와 insert()를 쓸 수 있는 컨테이너와 해당 함수들의 공통점, 차이점에 대해 서술하시오.\n",
    "# append와 insert는 list에서 쓸 수 있고, 둘 다 괄호 안의 값을 추가할 수 있다는 공통점이 있지만\n",
    "# insert는 추가하려는 값 앞에 값을 추가할 위치를 지정할 수 있다."
   ]
  },
  {
   "cell_type": "code",
   "execution_count": null,
   "id": "790dcda5",
   "metadata": {},
   "outputs": [],
   "source": [
    "# 5. 해당 명령을 실행한 값을 쓰시오.\n",
    "'''\n",
    "a={2:6, 3:8, 1:3}\n",
    "print(a.get(3,2))\n",
    "'''\n",
    "# 정답은 8이다."
   ]
  },
  {
   "cell_type": "code",
   "execution_count": null,
   "id": "b37b714b",
   "metadata": {},
   "outputs": [],
   "source": [
    "# 6. 객체지향의 핵심 개념 4가지를 쓰시오.\n",
    "# 추상화, 캡슐화, 상속, 다형성"
   ]
  },
  {
   "cell_type": "code",
   "execution_count": null,
   "id": "6826cbb7",
   "metadata": {},
   "outputs": [],
   "source": [
    "# 7. issubclass(a,b)와 isinstance(a,b)에 차이에 대해 서술하시오.\n",
    "# 상속 관련된 거 같은데 정확히 기억이 나질 않습니다."
   ]
  },
  {
   "cell_type": "code",
   "execution_count": null,
   "id": "6d2db3fc",
   "metadata": {},
   "outputs": [],
   "source": [
    "# 8. 두 정수를 입력받아 변수(a,b)에 저장하는 명령문을 쓰시오.\n",
    "# a, b = map(int,input().split())"
   ]
  },
  {
   "cell_type": "code",
   "execution_count": null,
   "id": "55d4f18a",
   "metadata": {},
   "outputs": [],
   "source": [
    "# 9. set에 쓸 수 있는 함수가 아닌 것은?\n",
    "# 3) sort"
   ]
  },
  {
   "cell_type": "code",
   "execution_count": null,
   "id": "b3d302cd",
   "metadata": {},
   "outputs": [],
   "source": [
    "# 10. 깊은 복사 시 (import A)라는 명령어를 사용할 때 A는?\n",
    "# 기억이 나질 않습니다."
   ]
  }
 ],
 "metadata": {
  "kernelspec": {
   "display_name": "Python 3 (ipykernel)",
   "language": "python",
   "name": "python3"
  },
  "language_info": {
   "codemirror_mode": {
    "name": "ipython",
    "version": 3
   },
   "file_extension": ".py",
   "mimetype": "text/x-python",
   "name": "python",
   "nbconvert_exporter": "python",
   "pygments_lexer": "ipython3",
   "version": "3.10.1"
  },
  "toc": {
   "base_numbering": 1,
   "nav_menu": {},
   "number_sections": true,
   "sideBar": true,
   "skip_h1_title": false,
   "title_cell": "Table of Contents",
   "title_sidebar": "Contents",
   "toc_cell": false,
   "toc_position": {},
   "toc_section_display": true,
   "toc_window_display": false
  }
 },
 "nbformat": 4,
 "nbformat_minor": 5
}
