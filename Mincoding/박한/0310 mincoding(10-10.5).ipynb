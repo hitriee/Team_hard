{
 "cells": [
  {
   "cell_type": "code",
   "execution_count": 33,
   "id": "69e9c84c",
   "metadata": {},
   "outputs": [
    {
     "name": "stdout",
     "output_type": "stream",
     "text": [
      "4\n",
      "4A\n",
      "A\n"
     ]
    }
   ],
   "source": [
    "# 민코딩 훈련반1 Level 10 - 문제 1번 : 돌아오는 One Two\n",
    "\n",
    "def one():\n",
    "    n = int(input())\n",
    "    return n\n",
    "def two():\n",
    "    m = input()\n",
    "    return m\n",
    "print(one(), end=\"\")\n",
    "print(two())"
   ]
  },
  {
   "cell_type": "code",
   "execution_count": 35,
   "id": "0dd102d3",
   "metadata": {},
   "outputs": [
    {
     "name": "stdout",
     "output_type": "stream",
     "text": [
      "3\n",
      "0 0 0 1 \n",
      "0 0 2 0 \n",
      "0 3 0 0 \n",
      "4 0 0 0 \n"
     ]
    }
   ],
   "source": [
    "# 민코딩 훈련반1 Level 10 - 문제 2번 : 대각선 긋기\n",
    "\n",
    "n = int(input())\n",
    "arr = [[0]*4 for _ in range(4)]\n",
    "if n%2==0:\n",
    "    for i in range(4):\n",
    "        for j in range(4):\n",
    "            if i==j:\n",
    "                arr[i][j] = i+1\n",
    "            print(arr[i][j], end=\" \")\n",
    "        print()\n",
    "else:\n",
    "    for i in range(4):\n",
    "        for j in range(4):\n",
    "            if i+j==3:\n",
    "                arr[i][j] = i+1\n",
    "            print(arr[i][j], end=\" \")\n",
    "        print()"
   ]
  },
  {
   "cell_type": "code",
   "execution_count": 38,
   "id": "d1b91b37",
   "metadata": {},
   "outputs": [
    {
     "name": "stdout",
     "output_type": "stream",
     "text": [
      "80\n",
      "Z\n",
      "3 30\n"
     ]
    }
   ],
   "source": [
    "# 민코딩 훈련반1 Level 10 - 문제 3번 : KFC 주문하기\n",
    "\n",
    "def chicken():\n",
    "    n = int(input())\n",
    "    n += 10\n",
    "    return n\n",
    "def coke():\n",
    "    a = input()\n",
    "    return a\n",
    "def KFC():\n",
    "    print(f\"{chicken()}{coke()}\")\n",
    "KFC()"
   ]
  },
  {
   "cell_type": "code",
   "execution_count": 40,
   "id": "956694a5",
   "metadata": {},
   "outputs": [
    {
     "name": "stdout",
     "output_type": "stream",
     "text": [
      "A E\n",
      "E\n"
     ]
    }
   ],
   "source": [
    "# 민코딩 훈련반1 Level 10 - 문제 4번 : 사전순으로 큰 문자 찾기\n",
    "\n",
    "def getChar():\n",
    "    x, y = input().split()\n",
    "    if ord(x) > ord(y):\n",
    "        return x\n",
    "    else:\n",
    "        return y\n",
    "a = getChar()\n",
    "print(a)"
   ]
  },
  {
   "cell_type": "code",
   "execution_count": 43,
   "id": "e8f6d903",
   "metadata": {},
   "outputs": [
    {
     "name": "stdout",
     "output_type": "stream",
     "text": [
      "6\n",
      "9 6 3 \n",
      "8 5 2 \n",
      "7 4 1 \n"
     ]
    }
   ],
   "source": [
    "# 민코딩 훈련반1 Level 10 - 문제 5번 : 번호 순서대로\n",
    "\n",
    "n = int(input())\n",
    "arr = [[0]*3 for _ in range(3)]\n",
    "if n%5 == 1:\n",
    "    for i in range(3):\n",
    "        for j in range(3):\n",
    "            arr[i][j] = 3-i+3*(2-j)\n",
    "            print(arr[i][j], end=\" \")\n",
    "        print()\n",
    "elif n%5 == 2:\n",
    "    for i in range(3):\n",
    "        for j in range(3):\n",
    "            arr[i][j] = 1+j+3*(2-i)\n",
    "            print(arr[i][j], end=\" \")\n",
    "        print()\n",
    "else:\n",
    "    for i in range(3):\n",
    "        for j in range(3):\n",
    "            arr[i][j] = 10+i+3*j\n",
    "            print(arr[i][j], end=\" \")\n",
    "        print()"
   ]
  },
  {
   "cell_type": "code",
   "execution_count": 45,
   "id": "3c943c28",
   "metadata": {},
   "outputs": [
    {
     "name": "stdout",
     "output_type": "stream",
     "text": [
      "5 2\n",
      "4\n",
      "7\n"
     ]
    }
   ],
   "source": [
    "# 민코딩 훈련반1 Level 10 - 문제 6번 : 짝수 홀수 함수\n",
    "\n",
    "a, b = map(int, input().split())\n",
    "def printData(k):\n",
    "    print(k)\n",
    "def even(n):\n",
    "    printData(n*2)\n",
    "def odd(m):\n",
    "    printData(m-10)\n",
    "if (a//b)%2 == 0:\n",
    "    even(a//b)\n",
    "else:\n",
    "    odd(a//b)\n",
    "printData(a+b)"
   ]
  },
  {
   "cell_type": "code",
   "execution_count": 46,
   "id": "15b075a5",
   "metadata": {},
   "outputs": [
    {
     "name": "stdout",
     "output_type": "stream",
     "text": [
      "3 6\n",
      "11 7\n",
      "GOP==SUM\n"
     ]
    }
   ],
   "source": [
    "# 민코딩 훈련반1 Level 10 - 문제 7번 : 리턴값 비교하기\n",
    "\n",
    "def GOP():\n",
    "    a, b = map(int, input().split())\n",
    "    return a*b\n",
    "def SUMM():\n",
    "    a, b = map(int, input().split())\n",
    "    return a+b\n",
    "m = GOP()\n",
    "n = SUMM()\n",
    "if m > n:\n",
    "    print(\"GOP>SUM\")\n",
    "elif m < n:\n",
    "    print(\"GOP<SUM\")\n",
    "else:\n",
    "    print(\"GOP==SUM\")"
   ]
  },
  {
   "cell_type": "code",
   "execution_count": 47,
   "id": "0fa7ddee",
   "metadata": {},
   "outputs": [
    {
     "name": "stdout",
     "output_type": "stream",
     "text": [
      "10\n",
      "20\n"
     ]
    }
   ],
   "source": [
    "# 민코딩 훈련반1 Level 10 - 문제 8번 : 핑퐁 미션\n",
    "\n",
    "def pingpong(n):\n",
    "    return n+10\n",
    "stone = int(input())\n",
    "ret = pingpong(stone)\n",
    "print(ret)"
   ]
  },
  {
   "cell_type": "code",
   "execution_count": 49,
   "id": "077693b3",
   "metadata": {},
   "outputs": [
    {
     "name": "stdout",
     "output_type": "stream",
     "text": [
      "13 9 5 1 \n",
      "14 10 6 2 \n",
      "15 11 7 3 \n",
      "16 12 8 4 \n"
     ]
    }
   ],
   "source": [
    "# 민코딩 훈련반1 Level 10 - 문제 9번 : 2차 배열 채우기\n",
    "\n",
    "arr = [[0]*4 for _ in range(4)]\n",
    "for i in range(4):\n",
    "    for j in range(4):\n",
    "        arr[i][j] = 13+i-4*j\n",
    "        print(arr[i][j], end=\" \")\n",
    "    print()"
   ]
  },
  {
   "cell_type": "code",
   "execution_count": 51,
   "id": "fc3aef6e",
   "metadata": {},
   "outputs": [
    {
     "name": "stdout",
     "output_type": "stream",
     "text": [
      "2\n",
      "12 11 0 9 \n",
      "8 7 0 5 \n",
      "4 3 0 1 \n"
     ]
    }
   ],
   "source": [
    "# 민코딩 훈련반1 Level 10 - 문제 10번 : 배열에 Line으로 배열 값 채우기\n",
    "\n",
    "n = int(input())\n",
    "arr = [[0]*4 for _ in range(3)]\n",
    "for i in range(3):\n",
    "    for j in range(4):\n",
    "        if j==n:\n",
    "            arr[i][j] = 0\n",
    "        else:\n",
    "            arr[i][j] = 12-4*i-j\n",
    "        print(arr[i][j], end=\" \")\n",
    "    print()"
   ]
  },
  {
   "cell_type": "code",
   "execution_count": 54,
   "id": "ae90b3db",
   "metadata": {},
   "outputs": [
    {
     "name": "stdout",
     "output_type": "stream",
     "text": [
      "3 8 10 2\n",
      "3 5 8 7\n",
      "2 8 6 4\n",
      "1 3 0 9\n",
      "@###\n",
      "@@#@\n",
      "####\n",
      "@@!@\n"
     ]
    }
   ],
   "source": [
    "# 민코딩 훈련반1 Level 10 - 문제 11번 : 암호문자 출력하기\n",
    "\n",
    "arr = [list(map(int, input().split())) for _ in range(4)]\n",
    "for i in range(4):\n",
    "    for j in range(4):\n",
    "        if arr[i][j] == 0:\n",
    "            arr[i][j] = '!'\n",
    "        elif arr[i][j]%2 == 1:\n",
    "            arr[i][j] = '@'\n",
    "        else:\n",
    "            arr[i][j] = '#'\n",
    "        print(arr[i][j], end=\"\")\n",
    "    print()"
   ]
  },
  {
   "cell_type": "code",
   "execution_count": 55,
   "id": "0657c556",
   "metadata": {},
   "outputs": [
    {
     "name": "stdout",
     "output_type": "stream",
     "text": [
      "5\n",
      "5 4 3 2 1 "
     ]
    }
   ],
   "source": [
    "# 민코딩 훈련반1 Level 10 - 문제 12번 : 함수안에서 CountDown\n",
    "\n",
    "n = int(input())\n",
    "def CountDown(a):\n",
    "    for i in range(a, 0, -1):\n",
    "        print(i, end=\" \")\n",
    "CountDown(n)"
   ]
  },
  {
   "cell_type": "code",
   "execution_count": 57,
   "id": "2b6ec996",
   "metadata": {},
   "outputs": [
    {
     "name": "stdout",
     "output_type": "stream",
     "text": [
      "2 10 18 26 \n",
      "4 12 20 28 \n",
      "6 14 22 30 \n",
      "8 16 24 32 \n"
     ]
    }
   ],
   "source": [
    "# 민코딩 훈련반1 Level 10.5 - 문제 1번 : 2차 배열 채우기2\n",
    "\n",
    "arr = [[0]*4 for _ in range(4)]\n",
    "for i in range(4):\n",
    "    for j in range(4):\n",
    "        arr[i][j] = 2*(1+i+4*j)\n",
    "        print(arr[i][j], end=\" \")\n",
    "    print()"
   ]
  },
  {
   "cell_type": "code",
   "execution_count": 59,
   "id": "c12457e7",
   "metadata": {},
   "outputs": [
    {
     "name": "stdout",
     "output_type": "stream",
     "text": [
      "3\n",
      "21 16 11 6 1 \n",
      "22 17 12 7 2 \n",
      "23 18 13 8 3 \n",
      "3 3 3 3 3 \n",
      "25 20 15 10 5 \n"
     ]
    }
   ],
   "source": [
    "# 민코딩 훈련반1 Level 10.5 - 문제 2번 : Line으로 값 채우기\n",
    "\n",
    "arr = [[0]*5 for _ in range(5)]\n",
    "n = int(input())\n",
    "for i in range(5):\n",
    "    for j in range(5):\n",
    "        if i == n:\n",
    "            arr[i][j] = n\n",
    "        else:\n",
    "            arr[i][j] = 21+i-5*j\n",
    "        print(arr[i][j], end=\" \")\n",
    "    print()"
   ]
  },
  {
   "cell_type": "code",
   "execution_count": 64,
   "id": "cb5a69ec",
   "metadata": {},
   "outputs": [
    {
     "name": "stdout",
     "output_type": "stream",
     "text": [
      "E\n",
      "있음\n"
     ]
    }
   ],
   "source": [
    "# 민코딩 훈련반1 Level 10.5 - 문제 4번 : 문자 존재여부 판단하기\n",
    "\n",
    "arr = [['D', 'A', 'C', 'C', 'D'], ['S', 'D', 'F', 'A', 'E'], ['E', 'E', 'T', 'J', 'H']]\n",
    "def Input():\n",
    "    a = input()\n",
    "    n = check(a)\n",
    "    if n==1:\n",
    "        print(\"있음\")\n",
    "    else:\n",
    "        print(\"없음\")\n",
    "def check(b):\n",
    "    global arr\n",
    "    rst = 0\n",
    "    for i in range(3):\n",
    "        for j in range(5):\n",
    "            if arr[i][j] == b:\n",
    "                rst = 1\n",
    "        if rst == 1:\n",
    "            break\n",
    "    return rst\n",
    "Input()"
   ]
  },
  {
   "cell_type": "code",
   "execution_count": 65,
   "id": "15911c23",
   "metadata": {},
   "outputs": [
    {
     "name": "stdout",
     "output_type": "stream",
     "text": [
      "1 11 7\n",
      "1 2 3 4 \n",
      "11 12 13 14 \n",
      "7 8 9 10 \n"
     ]
    }
   ],
   "source": [
    "# 민코딩 훈련반1 Level 10.5 - 문제 5번 : 입력받은 숫자를 배열의 윗줄, 아랫줄에 채우기\n",
    "\n",
    "lst = list(map(int, input().split()))\n",
    "arr = [[0]*4 for _ in range(3)]\n",
    "for i in range(3):\n",
    "    for j in range(4):\n",
    "        arr[i][j] = lst[i]+j\n",
    "        print(arr[i][j], end=\" \")\n",
    "    print()"
   ]
  },
  {
   "cell_type": "code",
   "execution_count": 67,
   "id": "9b8729c5",
   "metadata": {},
   "outputs": [
    {
     "name": "stdout",
     "output_type": "stream",
     "text": [
      "2 4\n",
      "10 16 22 \n",
      "11 17 23 \n",
      "7 7 7 \n",
      "7 7 7 \n",
      "7 7 7 \n",
      "15 21 27 \n"
     ]
    }
   ],
   "source": [
    "# 민코딩 훈련반1 Level 10.5 - 문제 6번 : 배열 특정 범위에 값 채우기\n",
    "\n",
    "a, b = map(int, input().split())\n",
    "arr = [[0]*3 for _ in range(6)]\n",
    "for i in range(6):\n",
    "    for j in range(3):\n",
    "        if a <= i <= b:\n",
    "            arr[i][j] = 7\n",
    "        else:\n",
    "            arr[i][j] = 10+i+6*j\n",
    "        print(arr[i][j], end=\" \")\n",
    "    print()"
   ]
  },
  {
   "cell_type": "code",
   "execution_count": 69,
   "id": "bfeacbd9",
   "metadata": {},
   "outputs": [
    {
     "name": "stdout",
     "output_type": "stream",
     "text": [
      "Y\n",
      "Z\n"
     ]
    }
   ],
   "source": [
    "# 민코딩 훈련반1 Level 10.5 - 문제 7번 : A to Z\n",
    "\n",
    "def aToZ():\n",
    "    a = input()\n",
    "    if ord('Z') - ord(a) > ord(a) - ord('A'):\n",
    "        return 'A'\n",
    "    else:\n",
    "        return 'Z'\n",
    "b = aToZ()\n",
    "print(b)"
   ]
  },
  {
   "cell_type": "code",
   "execution_count": 72,
   "id": "0dc249f5",
   "metadata": {},
   "outputs": [
    {
     "name": "stdout",
     "output_type": "stream",
     "text": [
      "85\n",
      "B\n"
     ]
    }
   ],
   "source": [
    "# 민코딩 훈련반1 Level 10.5 - 문제 8번 : Grade Calculator\n",
    "\n",
    "def Calculator():\n",
    "    score = int(input())\n",
    "    if score >= 90:\n",
    "        return 'A'\n",
    "    elif score >= 80:\n",
    "        return 'B'\n",
    "    elif score >= 70:\n",
    "        return 'C'\n",
    "    else:\n",
    "        return 'D'\n",
    "a = Calculator()\n",
    "print(a)"
   ]
  },
  {
   "cell_type": "code",
   "execution_count": 74,
   "id": "05207fa5",
   "metadata": {},
   "outputs": [
    {
     "name": "stdout",
     "output_type": "stream",
     "text": [
      "1\n",
      "3\n"
     ]
    }
   ],
   "source": [
    "# 민코딩 훈련반1 Level 10.5 - 문제 10번 : Line별 Counting하기\n",
    "\n",
    "arr = [[1, 0, 0, 0, 0], [1, 0, 1, 0, 0], [1, 1, 0, 1, 0], [1, 0, 1, 0, 0], [0, 1, 0, 0, 1], [0, 0, 0, 1, 0], [1, 1, 0, 0, 0]]\n",
    "def Input():\n",
    "    n = int(input())\n",
    "    return n\n",
    "def Process(a):\n",
    "    global arr\n",
    "    rst = 0\n",
    "    for i in range(7):\n",
    "        if arr[i][a] == 1:\n",
    "            rst += 1\n",
    "    return rst\n",
    "def Output(b):\n",
    "    print(b)\n",
    "Output(Process(Input()))"
   ]
  },
  {
   "cell_type": "code",
   "execution_count": 76,
   "id": "9bf986c6",
   "metadata": {},
   "outputs": [
    {
     "name": "stdout",
     "output_type": "stream",
     "text": [
      "15\n",
      "321\n",
      "654\n",
      "987\n"
     ]
    }
   ],
   "source": [
    "# 민코딩 훈련반1 Level 10.5 - 문제 11번 : run 함수에서 2차배열에 값 채우기\n",
    "\n",
    "def main():\n",
    "    n = int(input())\n",
    "    return n\n",
    "def run(a):\n",
    "    arr = [[0]*3 for _ in range(3)]\n",
    "    for i in range(3):\n",
    "        for j in range(3):\n",
    "            if a<10:\n",
    "                arr[i][j] = 1+3*i+j\n",
    "            else:\n",
    "                arr[i][j] = 3+3*i-j\n",
    "            print(arr[i][j], end=\"\")\n",
    "        print()\n",
    "run(main())"
   ]
  },
  {
   "cell_type": "code",
   "execution_count": 77,
   "id": "632760e7",
   "metadata": {},
   "outputs": [
    {
     "name": "stdout",
     "output_type": "stream",
     "text": [
      "6\n",
      "7\n"
     ]
    }
   ],
   "source": [
    "# 민코딩 훈련반1 Level 10.5 - 문제 12번 : Yes or No\n",
    "\n",
    "def main():\n",
    "    a = yesorno()\n",
    "    print(a)\n",
    "def yesorno():\n",
    "    n = int(input())\n",
    "    if n%3==0:\n",
    "        return 7\n",
    "    elif n%3==1:\n",
    "        return 35\n",
    "    else:\n",
    "        return 50\n",
    "main()"
   ]
  }
 ],
 "metadata": {
  "kernelspec": {
   "display_name": "Python 3 (ipykernel)",
   "language": "python",
   "name": "python3"
  },
  "language_info": {
   "codemirror_mode": {
    "name": "ipython",
    "version": 3
   },
   "file_extension": ".py",
   "mimetype": "text/x-python",
   "name": "python",
   "nbconvert_exporter": "python",
   "pygments_lexer": "ipython3",
   "version": "3.10.1"
  },
  "toc": {
   "base_numbering": 1,
   "nav_menu": {},
   "number_sections": true,
   "sideBar": true,
   "skip_h1_title": false,
   "title_cell": "Table of Contents",
   "title_sidebar": "Contents",
   "toc_cell": false,
   "toc_position": {},
   "toc_section_display": true,
   "toc_window_display": false
  }
 },
 "nbformat": 4,
 "nbformat_minor": 5
}
