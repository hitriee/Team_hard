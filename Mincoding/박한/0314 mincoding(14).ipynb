{
 "cells": [
  {
   "cell_type": "code",
   "execution_count": 3,
   "id": "38314bca",
   "metadata": {},
   "outputs": [
    {
     "name": "stdout",
     "output_type": "stream",
     "text": [
      "2 5\n",
      "2 3 4 5 "
     ]
    }
   ],
   "source": [
    "# 민코딩 훈련반1 Level 14 - 문제 1번 : while로 문제 풀기\n",
    "\n",
    "a, b = map(int, input().split())\n",
    "while a <= b:\n",
    "    print(a, end=\" \")\n",
    "    a += 1"
   ]
  },
  {
   "cell_type": "code",
   "execution_count": 5,
   "id": "b86386c3",
   "metadata": {},
   "outputs": [
    {
     "name": "stdout",
     "output_type": "stream",
     "text": [
      "3 4 1 2\n",
      "2 1 4 5\n",
      "1 1 1 2\n",
      "2 3 3 4\n",
      "1 1 1 0\n",
      "10 12 5 12 3 "
     ]
    }
   ],
   "source": [
    "# 민코딩 훈련반1 Level 14 - 문제 2번 : 아파트 주민들\n",
    "\n",
    "arr = [list(map(int, input().split())) for _ in range(5)]\n",
    "for i in range(5):\n",
    "    rst = 0\n",
    "    for j in range(4):\n",
    "        rst += arr[i][j]\n",
    "    print(rst, end=\" \")"
   ]
  },
  {
   "cell_type": "code",
   "execution_count": 6,
   "id": "4ef6e7a9",
   "metadata": {},
   "outputs": [
    {
     "name": "stdout",
     "output_type": "stream",
     "text": [
      "T K B B C\n",
      "T K B B C \n",
      "K B B C \n",
      "B B C \n",
      "B C \n",
      "C \n"
     ]
    }
   ],
   "source": [
    "# 민코딩 훈련반1 Level 14 - 문제 4번 : 구역 좁히기\n",
    "\n",
    "lst = list(input().split())\n",
    "for i in range(len(lst)):\n",
    "    for j in range(i, len(lst)):\n",
    "        print(lst[j], end=\" \")\n",
    "    print()"
   ]
  },
  {
   "cell_type": "code",
   "execution_count": 7,
   "id": "ae0d336b",
   "metadata": {},
   "outputs": [
    {
     "name": "stdout",
     "output_type": "stream",
     "text": [
      "1 4 2\n",
      "1 5 4\n",
      "3 3 9\n",
      "22\n"
     ]
    }
   ],
   "source": [
    "# 민코딩 훈련반1 Level 14 - 문제 5번 : 와플 발라먹기\n",
    "\n",
    "arr = [list(map(int, input().split())) for _ in range(3)]\n",
    "rst = 0\n",
    "for i in range(3):\n",
    "    for j in range(3):\n",
    "        if i >= j:\n",
    "            rst += arr[i][j]\n",
    "print(rst)"
   ]
  },
  {
   "cell_type": "code",
   "execution_count": 9,
   "id": "c8c37818",
   "metadata": {},
   "outputs": [
    {
     "name": "stdout",
     "output_type": "stream",
     "text": [
      "4 1 2 3\n",
      "4=0개\n",
      "1=2개\n",
      "2=2개\n",
      "3=2개\n"
     ]
    }
   ],
   "source": [
    "# 민코딩 훈련반1 Level 14 - 문제 6번 : 같은번호 개수 세기\n",
    "\n",
    "lst = [3, 5, 1, 1, 2, 3, 2]\n",
    "lst1 = list(map(int, input().split()))\n",
    "lst2 = [0]*len(lst1)\n",
    "for i in range(len(lst1)):\n",
    "    for j in range(len(lst)):\n",
    "        if lst1[i] == lst[j]:\n",
    "            lst2[i] += 1\n",
    "    print(f\"{lst1[i]}={lst2[i]}개\")"
   ]
  },
  {
   "cell_type": "code",
   "execution_count": 11,
   "id": "6ff908de",
   "metadata": {},
   "outputs": [
    {
     "name": "stdout",
     "output_type": "stream",
     "text": [
      "3 5 1 6 5 8 \n",
      "865531"
     ]
    }
   ],
   "source": [
    "# 민코딩 훈련반1 Level 14 - 문제 7번 : 선택정렬하기\n",
    "\n",
    "lst = list(map(int, input().split()))\n",
    "for i in range(len(lst)):\n",
    "    for j in range(i+1, len(lst)):\n",
    "        if lst[i] < lst[j]:\n",
    "            lst[i], lst[j] = lst[j], lst[i]\n",
    "for i in range(len(lst)):\n",
    "    print(lst[i], end=\"\")"
   ]
  },
  {
   "cell_type": "code",
   "execution_count": 12,
   "id": "2bd74cab",
   "metadata": {},
   "outputs": [
    {
     "name": "stdout",
     "output_type": "stream",
     "text": [
      "ANDBBQ\n",
      "ABBDNQ"
     ]
    }
   ],
   "source": [
    "# 민코딩 훈련반1 Level 14 - 문제 8번 : 문장을 정렬해보자\n",
    "\n",
    "lst = list(input())\n",
    "for i in range(len(lst)):\n",
    "    for j in range(i+1, len(lst)):\n",
    "        if ord(lst[i]) > ord(lst[j]):\n",
    "            lst[i], lst[j] = lst[j], lst[i]\n",
    "for i in range(len(lst)):\n",
    "    print(lst[i], end=\"\")"
   ]
  },
  {
   "cell_type": "code",
   "execution_count": 13,
   "id": "88ced53e",
   "metadata": {},
   "outputs": [
    {
     "name": "stdout",
     "output_type": "stream",
     "text": [
      "15 35 80 35 45 5\n",
      "15=5개\n",
      "35=3개\n",
      "80=0개\n",
      "35=3개\n",
      "45=1개\n",
      "5=6개\n"
     ]
    }
   ],
   "source": [
    "# 민코딩 훈련반1 Level 14 - 문제 9번 : 보다 큰 숫자 찾아내기\n",
    "\n",
    "lst = [10, 50, 40, 20, 30, 40]\n",
    "lst1 = list(map(int, input().split()))\n",
    "lst2 = [0]*len(lst1)\n",
    "for i in range(len(lst1)):\n",
    "    for j in range(len(lst)):\n",
    "        if lst1[i] < lst[j]:\n",
    "            lst2[i] += 1\n",
    "    print(f\"{lst1[i]}={lst2[i]}개\")"
   ]
  }
 ],
 "metadata": {
  "kernelspec": {
   "display_name": "Python 3 (ipykernel)",
   "language": "python",
   "name": "python3"
  },
  "language_info": {
   "codemirror_mode": {
    "name": "ipython",
    "version": 3
   },
   "file_extension": ".py",
   "mimetype": "text/x-python",
   "name": "python",
   "nbconvert_exporter": "python",
   "pygments_lexer": "ipython3",
   "version": "3.10.1"
  },
  "toc": {
   "base_numbering": 1,
   "nav_menu": {},
   "number_sections": true,
   "sideBar": true,
   "skip_h1_title": false,
   "title_cell": "Table of Contents",
   "title_sidebar": "Contents",
   "toc_cell": false,
   "toc_position": {},
   "toc_section_display": true,
   "toc_window_display": false
  }
 },
 "nbformat": 4,
 "nbformat_minor": 5
}
