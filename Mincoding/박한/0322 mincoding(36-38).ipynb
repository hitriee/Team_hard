{
 "cells": [
  {
   "cell_type": "code",
   "execution_count": 3,
   "id": "abec32cf",
   "metadata": {},
   "outputs": [
    {
     "name": "stdout",
     "output_type": "stream",
     "text": [
      "ABCD\n",
      "AAA\n",
      "AAB\n",
      "AAC\n",
      "AAD\n",
      "ABB\n",
      "ABC\n",
      "ABD\n",
      "ACC\n",
      "ACD\n",
      "ADD\n",
      "BBB\n",
      "BBC\n",
      "BBD\n",
      "BCC\n",
      "BCD\n",
      "BDD\n",
      "CCC\n",
      "CCD\n",
      "CDD\n",
      "DDD\n"
     ]
    }
   ],
   "source": [
    "# 민코딩 심화반1 Level 36 - 문제 1번 : 김밥 속재료\n",
    "\n",
    "ingre = list(input())\n",
    "kimbab = ['']*3\n",
    "def abc(level, s):\n",
    "    if level == 3:\n",
    "        for i in range(3):\n",
    "            print(kimbab[i], end=\"\")\n",
    "        print()\n",
    "        return\n",
    "    for i in range(s, len(ingre)):\n",
    "        kimbab[level] = ingre[i]\n",
    "        abc(level+1, i)\n",
    "abc(0, 0)"
   ]
  },
  {
   "cell_type": "code",
   "execution_count": 5,
   "id": "4294f7e5",
   "metadata": {},
   "outputs": [
    {
     "name": "stdout",
     "output_type": "stream",
     "text": [
      "3\n",
      "36\n"
     ]
    }
   ],
   "source": [
    "# 민코딩 심화반1 Level 36 - 문제 2번 : 마구잡이 대입법\n",
    "\n",
    "n = int(input())\n",
    "lst = [0, 1, 2, 3, 4, 5, 6, 7, 8, 9]\n",
    "rst, ans = 0, 0\n",
    "def abc(level):\n",
    "    global rst, ans\n",
    "    if level == n:\n",
    "        if rst == 7:\n",
    "            ans += 1\n",
    "        return\n",
    "    for i in range(10):\n",
    "        rst += lst[i]\n",
    "        abc(level+1)\n",
    "        rst -= lst[i]\n",
    "abc(0)\n",
    "print(ans)"
   ]
  },
  {
   "cell_type": "code",
   "execution_count": 8,
   "id": "3b28919b",
   "metadata": {},
   "outputs": [
    {
     "name": "stdout",
     "output_type": "stream",
     "text": [
      "a b c\n",
      "abc\n",
      "acb\n",
      "bac\n",
      "bca\n",
      "cab\n",
      "cba\n"
     ]
    }
   ],
   "source": [
    "# 민코딩 심화반1 Level 36 - 문제 3번 : 문자 카드 순열\n",
    "\n",
    "lst = list(input().split())\n",
    "used = [0]*len(lst)\n",
    "case = ['']*3\n",
    "def abc(level):\n",
    "    if level == 3:\n",
    "        for i in range(3):\n",
    "            print(case[i], end=\"\")\n",
    "        print()\n",
    "        return\n",
    "    for i in range(len(lst)):\n",
    "        if used[i] == 0:\n",
    "            case[level] = lst[i]\n",
    "            used[i] = 1\n",
    "            abc(level+1)\n",
    "            used[i] = 0\n",
    "abc(0)"
   ]
  },
  {
   "cell_type": "code",
   "execution_count": 14,
   "id": "466b13a0",
   "metadata": {},
   "outputs": [
    {
     "name": "stdout",
     "output_type": "stream",
     "text": [
      "80\n",
      "2\n"
     ]
    }
   ],
   "source": [
    "# 민코딩 심화반1 Level 36 - 문제 4번 : 최소 동전 교환기\n",
    "\n",
    "coins = [60, 40, 10]\n",
    "n = int(input())\n",
    "rst = 21e8\n",
    "def abc(level):\n",
    "    global n, rst\n",
    "    if n <= 0:\n",
    "        if n == 0:\n",
    "            if level < rst:\n",
    "                rst = level\n",
    "        return\n",
    "    for i in range(3):\n",
    "        n -= coins[i]\n",
    "        abc(level+1)\n",
    "        n += coins[i]\n",
    "abc(0)\n",
    "print(rst)"
   ]
  },
  {
   "cell_type": "code",
   "execution_count": 2,
   "id": "b58ae7be",
   "metadata": {},
   "outputs": [
    {
     "name": "stdout",
     "output_type": "stream",
     "text": [
      "CBSSES\n",
      "2\n"
     ]
    }
   ],
   "source": [
    "# 민코딩 심화반1 Level 36 - 문제 5번 : 가수 BTS와 SES\n",
    "\n",
    "lst = ['BTS', 'SBS', 'BS', 'CBS', 'SES']\n",
    "a = input()\n",
    "exam = ''\n",
    "rst = 21e8\n",
    "def abc(level):\n",
    "    global rst, exam\n",
    "    if len(exam) >= len(a):\n",
    "        if exam == a:\n",
    "            if level < rst:\n",
    "                rst = level\n",
    "        return\n",
    "    for i in range(len(lst)):\n",
    "        b = exam\n",
    "        exam = exam + lst[i]\n",
    "        abc(level+1)\n",
    "        exam = b\n",
    "abc(0)\n",
    "print(rst)"
   ]
  },
  {
   "cell_type": "code",
   "execution_count": 2,
   "id": "06cfdbf8",
   "metadata": {},
   "outputs": [
    {
     "name": "stdout",
     "output_type": "stream",
     "text": [
      "1 2 3 4 5\n",
      "21\n",
      "-15\n"
     ]
    }
   ],
   "source": [
    "# 민코딩 심화반1 Level 36 - 문제 6번 : BEST 넘버 설정하기\n",
    "\n",
    "lst = list(map(int, input().split()))\n",
    "used = [0]*5\n",
    "Max, Min = -21e8, 21e8\n",
    "new = [0]*5\n",
    "def abc(level):\n",
    "    global Max, Min\n",
    "    if level == 5:\n",
    "        rst = new[0]*new[1]-new[2]*new[3]+new[4]\n",
    "        if rst > Max:\n",
    "            Max = rst\n",
    "        if rst < Min:\n",
    "            Min = rst\n",
    "        return\n",
    "    for i in range(5):\n",
    "        if used[i] == 0:\n",
    "            new[level] = lst[i]\n",
    "            used[i] = 1\n",
    "            abc(level+1)\n",
    "            used[i] = 0\n",
    "abc(0)\n",
    "print(Max)\n",
    "print(Min)"
   ]
  },
  {
   "cell_type": "code",
   "execution_count": 7,
   "id": "f8323f22",
   "metadata": {},
   "outputs": [
    {
     "name": "stdout",
     "output_type": "stream",
     "text": [
      "235761\n",
      "360 120 240\n"
     ]
    }
   ],
   "source": [
    "# 민코딩 심화반1 Level 36 - 문제 7번 : 짝수와 홀수 숫자카드\n",
    "\n",
    "cards = list(input())\n",
    "used = [0]*6\n",
    "lst = [0]*360\n",
    "ans = ''\n",
    "a, b, rst = 0, 0, 0\n",
    "def abc(level):\n",
    "    global ans, a, b, rst\n",
    "    if level == 4:\n",
    "        if int(ans) not in lst[:rst]:\n",
    "            lst[rst] = int(ans)\n",
    "            if int(ans)%2 == 1:\n",
    "                b += 1\n",
    "            else:\n",
    "                a += 1\n",
    "        rst += 1\n",
    "        return\n",
    "    for i in range(6):\n",
    "        if used[i] == 0:\n",
    "            c = ans\n",
    "            ans += cards[i]\n",
    "            used[i] = 1\n",
    "            abc(level+1)\n",
    "            used[i] = 0\n",
    "            ans = c\n",
    "abc(0)\n",
    "print(f\"{a+b} {a} {b}\")"
   ]
  },
  {
   "cell_type": "code",
   "execution_count": 11,
   "id": "01499866",
   "metadata": {},
   "outputs": [
    {
     "name": "stdout",
     "output_type": "stream",
     "text": [
      "#~~~~~~~#~~~~#\n",
      "~~~~~~~\n"
     ]
    }
   ],
   "source": [
    "# 민코딩 심화반1 Level 36.5 - 문제 1번 : 수족관 속의 장어\n",
    "\n",
    "ls = list(input())\n",
    "lst = ['#']*(len(ls)+2)\n",
    "for i in range(len(ls)):\n",
    "    lst[i+1] = ls[i]\n",
    "Max = 0\n",
    "leng = 0\n",
    "for i in range(1, len(lst)-1):\n",
    "    if lst[i] == '~' and lst[i-1] == '#':\n",
    "        leng = 0\n",
    "        while lst[i+leng] == '~':\n",
    "            leng += 1\n",
    "            if leng > Max:\n",
    "                Max = leng\n",
    "ans = Max*'~'\n",
    "print(ans)"
   ]
  },
  {
   "cell_type": "code",
   "execution_count": 12,
   "id": "f9400a0e",
   "metadata": {},
   "outputs": [
    {
     "name": "stdout",
     "output_type": "stream",
     "text": [
      "3\n",
      "36\n"
     ]
    }
   ],
   "source": [
    "# 민코딩 심화반1 Level 36.5 - 문제 2번 : 10을 만들자\n",
    "\n",
    "lst = [1, 2, 3, 4, 5, 6, 7, 8, 9]\n",
    "n = int(input())\n",
    "rst, ans = 0, 0\n",
    "def abc(level, start):\n",
    "    global rst, ans\n",
    "    if level == n:\n",
    "        if rst == 10:\n",
    "            ans += 1\n",
    "        return\n",
    "    for i in range(9):\n",
    "        rst += lst[i]\n",
    "        abc(level+1, i)\n",
    "        rst -= lst[i]\n",
    "abc(0, 0)\n",
    "print(ans)"
   ]
  },
  {
   "cell_type": "code",
   "execution_count": 15,
   "id": "08d92b88",
   "metadata": {},
   "outputs": [
    {
     "name": "stdout",
     "output_type": "stream",
     "text": [
      "2 5 1 6\n",
      "12\n"
     ]
    }
   ],
   "source": [
    "# 민코딩 심화반1 Level 36.5 - 문제 3번 : 숫자카드\n",
    "\n",
    "cards = list(map(int, input().split()))\n",
    "used = [0]*4\n",
    "rst, ans = 0, 0\n",
    "def abc(level):\n",
    "    global rst, ans\n",
    "    if level == 4:\n",
    "        if rst > 3129:\n",
    "            ans += 1\n",
    "        return\n",
    "    for i in range(4):\n",
    "        if used[i] == 0:\n",
    "            rst += cards[i]*(10**level)\n",
    "            used[i] = 1\n",
    "            abc(level+1)\n",
    "            rst -= cards[i]*(10**level)\n",
    "            used[i] = 0\n",
    "abc(0)\n",
    "print(ans)"
   ]
  },
  {
   "cell_type": "code",
   "execution_count": 18,
   "id": "822f7b69",
   "metadata": {},
   "outputs": [
    {
     "name": "stdout",
     "output_type": "stream",
     "text": [
      "HeyBread!DoYouWannaBuildAChicken\n",
      "Hey###!DoYouWannaBuildA###"
     ]
    }
   ],
   "source": [
    "# 민코딩 심화반1 Level 36.5 - 문제 4번 : 문자 메세지 필터 서비스\n",
    "\n",
    "a = input()\n",
    "lst = list(a)\n",
    "lst1 = list(a.lower())\n",
    "foods = ['chicken', 'pizza', 'jockbal', 'bread', 'samhap']\n",
    "for i in range(5):\n",
    "    for j in range(len(lst1)-len(foods[i])+1):\n",
    "        if lst1[j] == foods[i][0]:\n",
    "            rst = 0\n",
    "            for k in range(len(foods[i])):\n",
    "                if lst1[j+k] == foods[i][k]:\n",
    "                    rst += 1\n",
    "            if rst == len(foods[i]):\n",
    "                b = ['_']*len(foods[i])\n",
    "                b[0], b[1], b[2] = '#', '#', '#'\n",
    "                lst1[j:j+len(foods[i])] = b\n",
    "for i in range(len(lst)):\n",
    "    if lst1[i] == '#':\n",
    "        lst[i] = lst1[i]\n",
    "    if lst1[i] != '_':\n",
    "        print(lst[i], end=\"\")"
   ]
  },
  {
   "cell_type": "code",
   "execution_count": 21,
   "id": "add09114",
   "metadata": {},
   "outputs": [
    {
     "name": "stdout",
     "output_type": "stream",
     "text": [
      "4\n",
      "3 4 2 -6\n",
      "0 4 4 -1\n",
      "-4 4 0 -2\n",
      "5 1 6 9\n",
      "864\n"
     ]
    }
   ],
   "source": [
    "# 민코딩 심화반1 Level 36.5 - 문제 5번 : 미네랄 수도 배관\n",
    "\n",
    "n = int(input())\n",
    "arr = [list(map(int, input().split())) for _ in range(n)]\n",
    "Max, rst = -21e8, 1\n",
    "def abc(level):\n",
    "    global Max, rst\n",
    "    if level == n:\n",
    "        if rst > Max:\n",
    "            Max = rst\n",
    "        return\n",
    "    for i in range(n):\n",
    "        if arr[level][i] == 0:\n",
    "            continue\n",
    "        a = rst\n",
    "        rst = rst * arr[level][i]\n",
    "        abc(level+1)\n",
    "        rst = a\n",
    "abc(0)\n",
    "print(Max)"
   ]
  },
  {
   "cell_type": "code",
   "execution_count": 27,
   "id": "309b9d33",
   "metadata": {},
   "outputs": [
    {
     "name": "stdout",
     "output_type": "stream",
     "text": [
      "6 3\n",
      "W I D J K E\n",
      "S J C I W L\n",
      "X I E O F J\n",
      "A P E O S F\n",
      "C N S K E I\n",
      "E C N T W N\n",
      "3 3 2\n",
      "EOFES\n",
      "4 2 2\n",
      "PSOTC\n",
      "1 3 1\n",
      "JICWO\n"
     ]
    }
   ],
   "source": [
    "# 민코딩 심화반1 Level 36.5 - 문제 6번 : 인형뽑기\n",
    "\n",
    "n, K = map(int, input().split())\n",
    "arr = [list(input().split()) for _ in range(n)]\n",
    "for k in range(K):\n",
    "    y, x, m = map(int, input().split())\n",
    "    get = ['']*5\n",
    "    if m==1:\n",
    "        directy = [-1, 0, 0, 0, 1]\n",
    "        directx = [0, 0, -1, 1, 0]\n",
    "        for i in range(5):\n",
    "            dy = directy[i] + y\n",
    "            dx = directx[i] + x\n",
    "            if dy < 0 or dy > n or dx < 0 or dx > n:\n",
    "                continue\n",
    "            get[i] = arr[dy][dx]\n",
    "            arr[dy][dx] = ''\n",
    "    else:\n",
    "        directy = [-1, 0, -1, 1, 1]\n",
    "        directx = [-1, 0, 1, 1, -1]\n",
    "        for i in range(5):\n",
    "            dy = directy[i] + y\n",
    "            dx = directx[i] + x\n",
    "            if dy < 0 or dy > n or dx < 0 or dx > n:\n",
    "                continue\n",
    "            get[i] = arr[dy][dx]\n",
    "    for i in range(5):\n",
    "        print(get[i], end=\"\")\n",
    "    print()"
   ]
  },
  {
   "cell_type": "code",
   "execution_count": 40,
   "id": "c18e9275",
   "metadata": {},
   "outputs": [
    {
     "name": "stdout",
     "output_type": "stream",
     "text": [
      "1 6\n",
      "480\n"
     ]
    }
   ],
   "source": [
    "# 민코딩 심화반1 Level 36.5 - 문제 7번 : 뽀삐의 줄서기\n",
    "\n",
    "lst = [1, 2, 3, 4, 5, 6]\n",
    "used = [0]*6\n",
    "a, b = map(int, input().split())\n",
    "rst = 0\n",
    "def abc(level):\n",
    "    global rst\n",
    "    if level == 6:\n",
    "        rst += 1\n",
    "        return\n",
    "    for i in range(6):\n",
    "        if level == 0:\n",
    "            if i == a-1 or i == b-1:\n",
    "                continue\n",
    "        if used[i] == 0:\n",
    "            used[i] = 1\n",
    "            abc(level+1)\n",
    "            used[i] = 0\n",
    "abc(0)\n",
    "print(rst)"
   ]
  },
  {
   "cell_type": "code",
   "execution_count": 47,
   "id": "d35a5868",
   "metadata": {},
   "outputs": [
    {
     "name": "stdout",
     "output_type": "stream",
     "text": [
      "7 3\n",
      "1 5 4 -2 6 7 -1\n",
      "-2 6 7\n"
     ]
    }
   ],
   "source": [
    "# 민코딩 심화반1 Level 37 - 문제 1번 : 다빈치 민코드\n",
    "\n",
    "n, m = map(int, input().split())\n",
    "lst = list(map(int, input().split()))\n",
    "rst, Min = 1, 21e8\n",
    "get1 = [0]*m\n",
    "get2 = [0]*m\n",
    "def abc(level, start):\n",
    "    global Min, rst, get1\n",
    "    if level == m:\n",
    "        if rst < Min:\n",
    "            Min = rst\n",
    "            for i in range(m):\n",
    "                get1[i] = get2[i]\n",
    "        return\n",
    "    for i in range(start, n):\n",
    "        a = rst\n",
    "        rst = rst * lst[i]\n",
    "        get2[level] = lst[i]\n",
    "        abc(level+1, i+1)\n",
    "        get2[level] = 0\n",
    "        rst = a\n",
    "abc(0, 0)\n",
    "get1.sort()\n",
    "print(* get1)"
   ]
  },
  {
   "cell_type": "code",
   "execution_count": 50,
   "id": "12b7e47f",
   "metadata": {},
   "outputs": [
    {
     "name": "stdout",
     "output_type": "stream",
     "text": [
      "abcae\n",
      "2\n",
      "90\n"
     ]
    }
   ],
   "source": [
    "# 민코딩 심화반1 Level 37 - 문제 2번 : 구매팀 결재\n",
    "\n",
    "items = [15, 20, 44, 22, 55, 16, 45]\n",
    "lst = list(input())\n",
    "used = [0]*len(lst)\n",
    "whole = 0\n",
    "for i in range(len(lst)):\n",
    "    whole += items[ord(lst[i])-ord('a')]\n",
    "n = int(input())\n",
    "Max = -21e8\n",
    "rst = whole\n",
    "def abc(level):\n",
    "    global rst, Max\n",
    "    if level == n:\n",
    "        if rst > Max and rst%10 ==0 :\n",
    "            Max = rst\n",
    "        return\n",
    "    for i in range(len(lst)):\n",
    "        if used[i] == 0:\n",
    "            rst -= items[ord(lst[i])-ord('a')]\n",
    "            used[i] = 1\n",
    "            abc(level+1)\n",
    "            used[i] = 0\n",
    "            rst += items[ord(lst[i])-ord('a')]\n",
    "abc(0)\n",
    "print(Max)"
   ]
  },
  {
   "cell_type": "code",
   "execution_count": 53,
   "id": "b9f35186",
   "metadata": {},
   "outputs": [
    {
     "name": "stdout",
     "output_type": "stream",
     "text": [
      "5\n",
      "3 10\n",
      "5 20\n",
      "1 10\n",
      "1 20\n",
      "2 15\n",
      "45\n"
     ]
    }
   ],
   "source": [
    "# 민코딩 심화반1 Level 38 - 문제 1번 : 상담하기 (삼성 기출 유사)\n",
    "\n",
    "n = int(input())\n",
    "arr = [list(map(int, input().split())) for _ in range(n)]\n",
    "used = [0]*n\n",
    "rst, Max = 0, -21e8\n",
    "def abc(level):\n",
    "    global rst, Max\n",
    "    if level >= n:\n",
    "        if rst > Max:\n",
    "            Max = rst\n",
    "        return\n",
    "    if used[level] == 0:\n",
    "        used[level] = 1\n",
    "        rst += arr[level][1]\n",
    "        abc(level+arr[level][0])\n",
    "        rst -= arr[level][1]\n",
    "    if used[level] == 1:\n",
    "        used[level] += 1\n",
    "        abc(level+1)       \n",
    "abc(0)\n",
    "print(Max)\n",
    "\n",
    "\n",
    "'''\n",
    "n = int(input())\n",
    "arr = [list(map(int,input().split())) for _ in range(n)]\n",
    "# 일단, 순열(날짜 앞으로만 가니까)\n",
    "\n",
    "Max = 0\n",
    "def dfs(start,Sum):\n",
    "    global Max\n",
    "    if start >= n:\n",
    "        if Max < Sum:\n",
    "            Max = Sum\n",
    "        return\n",
    "\n",
    "    for i in range(start,n):\n",
    "        dfs(i+arr[i][0], Sum+arr[i][1])\n",
    "\n",
    "for i in range(len(arr)):\n",
    "    dfs(i+arr[i][0],arr[i][1])\n",
    "\n",
    "print(Max)\n",
    "\n",
    "'''"
   ]
  },
  {
   "cell_type": "code",
   "execution_count": 56,
   "id": "5ee89aa5",
   "metadata": {},
   "outputs": [
    {
     "name": "stdout",
     "output_type": "stream",
     "text": [
      "AACHZ\n",
      "3\n",
      "26\n"
     ]
    }
   ],
   "source": [
    "# 민코딩 심화반1 Level 38 - 문제 2번 : 디자이너의 손길\n",
    "\n",
    "lst = list(input())\n",
    "n = int(input())\n",
    "rst, Max = 0, -21e8\n",
    "def abc(level, start):\n",
    "    global rst, Max\n",
    "    if level == n:\n",
    "        rst = 0\n",
    "        for i in range(len(lst)-1):\n",
    "            if lst[i+1] == lst[i]:\n",
    "                rst -= 50\n",
    "            elif abs(ord(lst[i+1])-ord(lst[i])) >= 20:\n",
    "                rst += 10\n",
    "            elif abs(ord(lst[i+1])-ord(lst[i])) <= 5:\n",
    "                rst += 3\n",
    "        if rst > Max:\n",
    "            Max = rst\n",
    "        return\n",
    "    for i in range(start, len(lst)):\n",
    "        for j in range(start, len(lst)):\n",
    "            if i == j:\n",
    "                continue\n",
    "            lst[i], lst[j] = lst[j], lst[i]\n",
    "            abc(level+1, i+1)\n",
    "            lst[i], lst[j] = lst[j], lst[i]\n",
    "abc(0, 0)\n",
    "print(Max)"
   ]
  },
  {
   "cell_type": "code",
   "execution_count": 58,
   "id": "af5d6368",
   "metadata": {},
   "outputs": [
    {
     "name": "stdout",
     "output_type": "stream",
     "text": [
      "3\n",
      "0 0 0\n",
      "1 1 0\n",
      "0 0 1\n",
      "불가능\n"
     ]
    }
   ],
   "source": [
    "# 민코딩 심화반1 Level 38 - 문제 3번 : 레드 마운틴\n",
    "\n",
    "n = int(input())\n",
    "arr = [list(map(int, input().split())) for _ in range(n)]\n",
    "visit = [[0]*n for _ in range(n)]\n",
    "rst = 0\n",
    "def abc(y, x):\n",
    "    global rst\n",
    "    if y == n-1 and x == n-1:\n",
    "        rst = 1\n",
    "        return\n",
    "    directy = [-1, 1, 0, 0]\n",
    "    directx = [0, 0, -1, 1]\n",
    "    for i in range(4):\n",
    "        dy = y + directy[i]\n",
    "        dx = x + directx[i]\n",
    "        if dy < 0 or dy >= n or dx < 0 or dx >= n:\n",
    "            continue\n",
    "        if visit[dy][dx] == 1:\n",
    "            continue\n",
    "        if arr[dy][dx] == 1:\n",
    "            continue\n",
    "        visit[dy][dx] = 1\n",
    "        abc(dy, dx)\n",
    "        if rst:\n",
    "            return  \n",
    "visit[0][0] = 1\n",
    "abc(0, 0)\n",
    "if rst:\n",
    "    print(\"가능\")\n",
    "else:\n",
    "    print(\"불가능\")"
   ]
  },
  {
   "cell_type": "code",
   "execution_count": 5,
   "id": "89268018",
   "metadata": {},
   "outputs": [
    {
     "name": "stdout",
     "output_type": "stream",
     "text": [
      "3\n",
      "4 3 7\n",
      "5 4 6\n",
      "6 1 3\n",
      "2184점\n"
     ]
    }
   ],
   "source": [
    "# 민코딩 심화반1 Level 38 - 문제 4번 : 가로 큐브 돌리기\n",
    "\n",
    "n = int(input())\n",
    "arr1 = [list(map(int, input().split())) for _ in range(n)]\n",
    "arr2 = [[0]*n for _ in range(n)]\n",
    "rst, ans, Max = 0, 1, -21e8\n",
    "def abc(level):\n",
    "    global rst, ans, Max\n",
    "    if level == n:\n",
    "        ans = 1\n",
    "        for j in range(n):\n",
    "            rst = 0\n",
    "            for i in range(n):\n",
    "                rst += arr2[i][j]\n",
    "            ans = ans * rst\n",
    "        if ans > Max:\n",
    "            Max = ans\n",
    "        return\n",
    "    for i in range(n):\n",
    "        for j in range(n):\n",
    "            arr2[level][(i+j)%n] = arr1[level][j]\n",
    "        abc(level+1)\n",
    "abc(0)\n",
    "print(f\"{Max}점\")"
   ]
  },
  {
   "cell_type": "code",
   "execution_count": null,
   "id": "d21097cf",
   "metadata": {},
   "outputs": [],
   "source": [
    "# 민코딩 심화반1 Level 38 - 문제 5번 : 수학이의 연산자\n",
    "\n",
    "n = int(input())\n",
    "lst = list(map(int, input().split()))"
   ]
  },
  {
   "cell_type": "code",
   "execution_count": 23,
   "id": "a8e017c9",
   "metadata": {},
   "outputs": [
    {
     "name": "stdout",
     "output_type": "stream",
     "text": [
      "2 1 9 9 1 2\n",
      "3\n",
      "57\n"
     ]
    }
   ],
   "source": [
    "# 민코딩 심화반1 Level 38 - 문제 6번 : 독수리 3형제\n",
    "\n",
    "lst = list(map(int, input().split()))\n",
    "used = [0]*len(lst)\n",
    "n = int(input())\n",
    "rst, Max = 0, -21e8\n",
    "def abc(level):\n",
    "    global rst, Max\n",
    "    if level == 3*n:\n",
    "        if rst > Max:\n",
    "            Max = rst\n",
    "        return\n",
    "    if level%3 == 0:\n",
    "        if level//3 > 0:\n",
    "            for i in range(len(lst)):\n",
    "                lst[i] = lst[i]*2\n",
    "        a1 = 0\n",
    "        for i in range(3):\n",
    "            if used[i] == 0:\n",
    "                rst += lst[i]\n",
    "                a = lst[i]\n",
    "                lst[i] = 0\n",
    "                used[i] = 1\n",
    "                a1 = 0\n",
    "                abc(level+1)\n",
    "                rst -= a\n",
    "                lst[i] = a\n",
    "                used[i] = 0\n",
    "                if level//3 > 0:\n",
    "                    for i in range(len(lst)):\n",
    "                        lst[i] = lst[i]//2\n",
    "            else:\n",
    "                a1 += 1\n",
    "        if a1 == 3:\n",
    "            abc(level+1)\n",
    "    elif level%3 == 1:\n",
    "        b1 = 0\n",
    "        for i in range(3, 6):\n",
    "            if used[i] == 0:\n",
    "                rst += lst[i]\n",
    "                b = lst[i]\n",
    "                lst[i] = 0\n",
    "                used[i] = 1\n",
    "                b1 = 0\n",
    "                abc(level+1)\n",
    "                rst -= b\n",
    "                lst[i] = b\n",
    "                used[i] = 0\n",
    "            else:\n",
    "                b1 += 1\n",
    "        if b1 == 3:\n",
    "            abc(level+1)\n",
    "    else:\n",
    "        c1 = 0\n",
    "        for i in range(1, 5):\n",
    "            if used[i] == 0:\n",
    "                rst += lst[i]\n",
    "                c = lst[i]\n",
    "                lst[i] = 0\n",
    "                used[i] = 1\n",
    "                c1 = 0\n",
    "                abc(level+1)\n",
    "                rst -= c\n",
    "                lst[i] = c\n",
    "                used[i] = 0\n",
    "            else:\n",
    "                c1 += 1\n",
    "        if c1 == 4:\n",
    "            abc(level+1)\n",
    "abc(0)\n",
    "print(Max)"
   ]
  }
 ],
 "metadata": {
  "kernelspec": {
   "display_name": "Python 3 (ipykernel)",
   "language": "python",
   "name": "python3"
  },
  "language_info": {
   "codemirror_mode": {
    "name": "ipython",
    "version": 3
   },
   "file_extension": ".py",
   "mimetype": "text/x-python",
   "name": "python",
   "nbconvert_exporter": "python",
   "pygments_lexer": "ipython3",
   "version": "3.10.1"
  },
  "toc": {
   "base_numbering": 1,
   "nav_menu": {},
   "number_sections": true,
   "sideBar": true,
   "skip_h1_title": false,
   "title_cell": "Table of Contents",
   "title_sidebar": "Contents",
   "toc_cell": false,
   "toc_position": {},
   "toc_section_display": true,
   "toc_window_display": false
  }
 },
 "nbformat": 4,
 "nbformat_minor": 5
}
