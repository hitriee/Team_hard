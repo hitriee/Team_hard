{
 "cells": [
  {
   "cell_type": "code",
   "execution_count": null,
   "id": "67dec5bf",
   "metadata": {},
   "outputs": [],
   "source": [
    "1. (1. T / 2. T / 3. T / 4. F / 4-2 T)"
   ]
  },
  {
   "cell_type": "code",
   "execution_count": null,
   "id": "11eb0128",
   "metadata": {},
   "outputs": [],
   "source": [
    "2. (1. T / 2. F / 3. T / 4. T / 5. T / 6. T / 7. T / 8. T / 9. T)"
   ]
  },
  {
   "cell_type": "code",
   "execution_count": null,
   "id": "03760529",
   "metadata": {},
   "outputs": [],
   "source": [
    "3. (1. F / 2. T / 3. T / 4. T)"
   ]
  },
  {
   "cell_type": "code",
   "execution_count": null,
   "id": "a6eb954e",
   "metadata": {},
   "outputs": [],
   "source": [
    "4. (1. T / 2. T / 3. F / 4. F)"
   ]
  }
 ],
 "metadata": {
  "kernelspec": {
   "display_name": "Python 3 (ipykernel)",
   "language": "python",
   "name": "python3"
  },
  "language_info": {
   "codemirror_mode": {
    "name": "ipython",
    "version": 3
   },
   "file_extension": ".py",
   "mimetype": "text/x-python",
   "name": "python",
   "nbconvert_exporter": "python",
   "pygments_lexer": "ipython3",
   "version": "3.7.3"
  },
  "toc": {
   "base_numbering": 1,
   "nav_menu": {},
   "number_sections": true,
   "sideBar": true,
   "skip_h1_title": false,
   "title_cell": "Table of Contents",
   "title_sidebar": "Contents",
   "toc_cell": false,
   "toc_position": {},
   "toc_section_display": true,
   "toc_window_display": false
  }
 },
 "nbformat": 4,
 "nbformat_minor": 5
}
