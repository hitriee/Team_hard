{
 "cells": [
  {
   "cell_type": "code",
   "execution_count": 6,
   "id": "bfec3e1d",
   "metadata": {},
   "outputs": [
    {
     "name": "stdout",
     "output_type": "stream",
     "text": [
      "4\n",
      "1 1 1 2\n",
      "2 0 0 0\n",
      "1 1 1 1\n",
      "0 0 0 0\n",
      "1\n",
      "1 2 3 3 \n",
      "2 1 0 1 \n",
      "1 2 1 2 \n",
      "0 1 0 2 \n"
     ]
    }
   ],
   "source": [
    "# codeFestival_1. 95번\n",
    "\n",
    "n = int(input())\n",
    "arr = [list(map(int, input().split())) for _ in range(n)]\n",
    "k = int(input())\n",
    "arr1 = [[0]*n for _ in range(n)]\n",
    "lst = [[0]*n for _ in range(n)]\n",
    "def abc(level, arr):\n",
    "    if level == k+1:\n",
    "        for i in range(n):\n",
    "            for j in range(n):\n",
    "                print(lst[i][j], end=\" \")\n",
    "            print()\n",
    "        return\n",
    "    for i in range(n):\n",
    "        for j in range(n):\n",
    "            lst[i][j] += arr[i][j]\n",
    "    for i in range(n):\n",
    "        for j in range(n):\n",
    "            arr1[j][3-i] = arr[i][j]\n",
    "    abc(level+1, arr1)\n",
    "abc(0, arr)"
   ]
  }
 ],
 "metadata": {
  "kernelspec": {
   "display_name": "Python 3 (ipykernel)",
   "language": "python",
   "name": "python3"
  },
  "language_info": {
   "codemirror_mode": {
    "name": "ipython",
    "version": 3
   },
   "file_extension": ".py",
   "mimetype": "text/x-python",
   "name": "python",
   "nbconvert_exporter": "python",
   "pygments_lexer": "ipython3",
   "version": "3.10.1"
  },
  "toc": {
   "base_numbering": 1,
   "nav_menu": {},
   "number_sections": true,
   "sideBar": true,
   "skip_h1_title": false,
   "title_cell": "Table of Contents",
   "title_sidebar": "Contents",
   "toc_cell": false,
   "toc_position": {},
   "toc_section_display": true,
   "toc_window_display": false
  }
 },
 "nbformat": 4,
 "nbformat_minor": 5
}
