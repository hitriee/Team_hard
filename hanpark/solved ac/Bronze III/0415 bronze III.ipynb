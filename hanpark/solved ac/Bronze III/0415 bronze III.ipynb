{
 "cells": [
  {
   "cell_type": "code",
   "execution_count": 4,
   "id": "351e42c4",
   "metadata": {},
   "outputs": [
    {
     "name": "stdout",
     "output_type": "stream",
     "text": [
      "19\n",
      "590\n"
     ]
    }
   ],
   "source": [
    "# 백준 브론즈3 1964번\n",
    "\n",
    "n = int(input())\n",
    "if n == 1:\n",
    "    print(n*5)\n",
    "else:\n",
    "    rst = 5*n\n",
    "    for i in range(n-1):\n",
    "        rst += 3*(i+1)-1\n",
    "    print(rst%45678)"
   ]
  },
  {
   "cell_type": "code",
   "execution_count": 9,
   "id": "f42a69c8",
   "metadata": {},
   "outputs": [
    {
     "name": "stdout",
     "output_type": "stream",
     "text": [
      "2\n",
      "5\n",
      "8\n",
      "12\n"
     ]
    }
   ],
   "source": [
    "# 백준 브론즈3 2010번\n",
    "\n",
    "n = int(input())\n",
    "rst = 1-n\n",
    "for _ in range(n):\n",
    "    rst += int(input())\n",
    "print(rst)"
   ]
  },
  {
   "cell_type": "code",
   "execution_count": 12,
   "id": "65139fae",
   "metadata": {},
   "outputs": [
    {
     "name": "stdout",
     "output_type": "stream",
     "text": [
      "143 12\n",
      "BAD 11\n"
     ]
    }
   ],
   "source": [
    "# 백준 브론즈3 2061번\n",
    "\n",
    "k, l = map(int, input().split())\n",
    "rst = 0\n",
    "for i in range(2, l):\n",
    "    if k//i == k/i:\n",
    "        rst = i\n",
    "        break\n",
    "if not rst:\n",
    "    print(\"GOOD\")\n",
    "else:\n",
    "    print(\"BAD\", rst)"
   ]
  }
 ],
 "metadata": {
  "kernelspec": {
   "display_name": "Python 3 (ipykernel)",
   "language": "python",
   "name": "python3"
  },
  "language_info": {
   "codemirror_mode": {
    "name": "ipython",
    "version": 3
   },
   "file_extension": ".py",
   "mimetype": "text/x-python",
   "name": "python",
   "nbconvert_exporter": "python",
   "pygments_lexer": "ipython3",
   "version": "3.10.1"
  },
  "toc": {
   "base_numbering": 1,
   "nav_menu": {},
   "number_sections": true,
   "sideBar": true,
   "skip_h1_title": false,
   "title_cell": "Table of Contents",
   "title_sidebar": "Contents",
   "toc_cell": false,
   "toc_position": {},
   "toc_section_display": true,
   "toc_window_display": false
  }
 },
 "nbformat": 4,
 "nbformat_minor": 5
}
