{
 "cells": [
  {
   "cell_type": "code",
   "execution_count": 6,
   "id": "5a5c866f",
   "metadata": {},
   "outputs": [
    {
     "name": "stdout",
     "output_type": "stream",
     "text": [
      "6\n",
      "Alex 35\n",
      "Show 69\n",
      "Phic 73\n",
      "Sam 83\n",
      "Sung 95\n",
      "Kim 99\n",
      "Alex\n",
      "Show Alex \n",
      "Phic Show Alex \n",
      "Sam Phic Show \n",
      "Sung Sam Phic \n",
      "Kim Sung Sam \n"
     ]
    }
   ],
   "source": [
    "# 민코딩 심화반1 Level 32 - 문제 2번 : 사격대회 금은동\n",
    "\n",
    "n = int(input())\n",
    "arr = [list(input().split()) for _ in range(n)]\n",
    "print(arr[0][0])\n",
    "for i in range(1, n):\n",
    "    for j in range(i, 0, -1):\n",
    "        if int(arr[j][1]) >= int(arr[j-1][1]):\n",
    "            arr[j], arr[j-1] = arr[j-1], arr[j]\n",
    "        else:\n",
    "            break\n",
    "    if i < 3:\n",
    "        for k in range(i+1):\n",
    "            print(arr[k][0], end=\" \")\n",
    "    else:\n",
    "        for k in range(3):\n",
    "            print(arr[k][0], end=\" \")\n",
    "    print()"
   ]
  }
 ],
 "metadata": {
  "kernelspec": {
   "display_name": "Python 3 (ipykernel)",
   "language": "python",
   "name": "python3"
  },
  "language_info": {
   "codemirror_mode": {
    "name": "ipython",
    "version": 3
   },
   "file_extension": ".py",
   "mimetype": "text/x-python",
   "name": "python",
   "nbconvert_exporter": "python",
   "pygments_lexer": "ipython3",
   "version": "3.10.1"
  },
  "toc": {
   "base_numbering": 1,
   "nav_menu": {},
   "number_sections": true,
   "sideBar": true,
   "skip_h1_title": false,
   "title_cell": "Table of Contents",
   "title_sidebar": "Contents",
   "toc_cell": false,
   "toc_position": {},
   "toc_section_display": true,
   "toc_window_display": false
  }
 },
 "nbformat": 4,
 "nbformat_minor": 5
}
