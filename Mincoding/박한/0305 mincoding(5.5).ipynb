{
 "cells": [
  {
   "cell_type": "code",
   "execution_count": 2,
   "id": "d46af76b",
   "metadata": {},
   "outputs": [
    {
     "name": "stdout",
     "output_type": "stream",
     "text": [
      "3 1\n",
      "(3)(1)\n"
     ]
    }
   ],
   "source": [
    "# 민코딩 훈련반1 Level 5.5 - 문제 1번 : 함수 안에서 입력받기\n",
    "\n",
    "def mincoding():\n",
    "    a, b = map(int, input().split())\n",
    "    print(f\"({a})({b})\")\n",
    "mincoding()"
   ]
  },
  {
   "cell_type": "code",
   "execution_count": 4,
   "id": "2018ba10",
   "metadata": {},
   "outputs": [
    {
     "name": "stdout",
     "output_type": "stream",
     "text": [
      "7\n",
      "KFC\n"
     ]
    }
   ],
   "source": [
    "# 민코딩 훈련반1 Level 5.5 - 문제 2번 : 문자에 따른 함수 호출\n",
    "\n",
    "def KFC():\n",
    "    print(\"KFC\")\n",
    "def BBQ():\n",
    "    print(\"BBQ\")\n",
    "a = input()\n",
    "if a=='B':\n",
    "    KFC()\n",
    "    BBQ()\n",
    "elif a=='b':\n",
    "    BBQ()\n",
    "elif a=='7':\n",
    "    KFC()"
   ]
  },
  {
   "cell_type": "code",
   "execution_count": 6,
   "id": "62d28f41",
   "metadata": {},
   "outputs": [
    {
     "name": "stdout",
     "output_type": "stream",
     "text": [
      "3 5\n",
      "33333\n",
      "55555"
     ]
    }
   ],
   "source": [
    "# 민코딩 훈련반1 Level 5.5 - 문제 3번 : 배열을 2개 만들어서 숫자에 값 채우기\n",
    "\n",
    "lst1 = ['']*5\n",
    "lst2 = ['']*5\n",
    "a, b = map(int, input().split())\n",
    "for i in range(5):\n",
    "    lst1[i] = a\n",
    "    lst2[i] = b\n",
    "def printall():\n",
    "    for j in range(len(lst1)):\n",
    "        print(lst1[j], end=\"\")\n",
    "    print()\n",
    "    for k in range(len(lst2)):\n",
    "        print(lst2[j], end=\"\")\n",
    "printall()"
   ]
  },
  {
   "cell_type": "code",
   "execution_count": 9,
   "id": "4ad6b9a0",
   "metadata": {},
   "outputs": [
    {
     "name": "stdout",
     "output_type": "stream",
     "text": [
      "6\n",
      "65432"
     ]
    }
   ],
   "source": [
    "# 민코딩 훈련반1 Level 5.5 - 문제 4번 : 변수 t를 이용하여 배열에 값 채우기\n",
    "\n",
    "lst = ['']*5\n",
    "n = int(input())\n",
    "for i in range(5):\n",
    "    lst[i] = n-i\n",
    "def KFC():\n",
    "    for k in range(len(lst)):\n",
    "        print(lst[k], end=\"\")\n",
    "KFC()"
   ]
  },
  {
   "cell_type": "code",
   "execution_count": 24,
   "id": "a40658df",
   "metadata": {},
   "outputs": [
    {
     "name": "stdout",
     "output_type": "stream",
     "text": [
      "d\n",
      "5 3 2 1 "
     ]
    }
   ],
   "source": [
    "# 민코딩 훈련반1 Level 5.5 - 문제 5번 : 입력받은 값 배열에 채우기\n",
    "\n",
    "arr = [4, 1, 2, 3, 5]\n",
    "a = input()\n",
    "if a=='a' or a=='b' or a=='c':\n",
    "    for i in range(3, -1, -1):\n",
    "        print(arr[i], end=\" \")\n",
    "else:\n",
    "    for j in range(4, 0, -1):\n",
    "        print(arr[j], end=\" \")"
   ]
  },
  {
   "cell_type": "code",
   "execution_count": 25,
   "id": "cc3f836a",
   "metadata": {},
   "outputs": [
    {
     "name": "stdout",
     "output_type": "stream",
     "text": [
      "3 5\n",
      "2 4 6 "
     ]
    }
   ],
   "source": [
    "# 민코딩 훈련반1 Level 5.5 - 문제 6번 : 해당 인덱스값 출력하기\n",
    "\n",
    "lst = [3, 5, 1, 2, 4, 6, 7]\n",
    "a, b = map(int, input().split())\n",
    "for i in range(a, b+1):\n",
    "    print(lst[i], end=\" \")"
   ]
  },
  {
   "cell_type": "code",
   "execution_count": 26,
   "id": "d3c142af",
   "metadata": {},
   "outputs": [
    {
     "name": "stdout",
     "output_type": "stream",
     "text": [
      "10\n",
      "10 9 8 7\n"
     ]
    }
   ],
   "source": [
    "# 민코딩 훈련반1 Level 5.5 - 문제 7번 : 배열에 값 채우기\n",
    "\n",
    "data = ['']*4\n",
    "n = int(input())\n",
    "for i in range(4):\n",
    "    data[i] = n-i\n",
    "print(*data)"
   ]
  },
  {
   "cell_type": "code",
   "execution_count": 30,
   "id": "31b16768",
   "metadata": {},
   "outputs": [
    {
     "name": "stdout",
     "output_type": "stream",
     "text": [
      "1 9\n",
      "1 2 3 7 8 9\n"
     ]
    }
   ],
   "source": [
    "# 민코딩 훈련반1 Level 5.5 - 문제 8번 : 배열을 앞 뒤로 채우기\n",
    "\n",
    "arr = ['']*6\n",
    "a, b = map(int, input().split())\n",
    "for i in range(3):\n",
    "    arr[i] = a+i\n",
    "for j in range(3, 6):\n",
    "    arr[j] = b+j-5\n",
    "print(*arr)"
   ]
  },
  {
   "cell_type": "code",
   "execution_count": 31,
   "id": "069d9132",
   "metadata": {},
   "outputs": [
    {
     "name": "stdout",
     "output_type": "stream",
     "text": [
      "1 2\n",
      "1 3 5 7 9\n"
     ]
    }
   ],
   "source": [
    "# 민코딩 훈련반1 Level 5.5 - 문제 9번 : 숫자 2개 입력받아 배열에 값 채우기\n",
    "\n",
    "a, b = map(int, input().split())\n",
    "lst = ['']*5\n",
    "for i in range(5):\n",
    "    lst[i] = a + b*i\n",
    "print(*lst)"
   ]
  },
  {
   "cell_type": "code",
   "execution_count": 32,
   "id": "7077ff3d",
   "metadata": {},
   "outputs": [
    {
     "name": "stdout",
     "output_type": "stream",
     "text": [
      "3\n",
      "3 6 9 12 15 18\n"
     ]
    }
   ],
   "source": [
    "# 민코딩 훈련반1 Level 5.5 - 문제 10번 : 숫자 1개 입력받고 값을 채우기\n",
    "\n",
    "n = int(input())\n",
    "lst = ['']*6\n",
    "for i in range(6):\n",
    "    lst[i] = n*(i+1)\n",
    "print(*lst)"
   ]
  },
  {
   "cell_type": "code",
   "execution_count": null,
   "id": "248b151c",
   "metadata": {},
   "outputs": [],
   "source": [
    "# 민코딩 훈련반1 Level 5.5 - 문제 11번 : 배열에 값 채우고 출력하기\n",
    "\n",
    "arr = ['']*6\n",
    "arr[0], arr[1], arr[2] = map(int, input().split())\n",
    "arr[3] = int(input())\n",
    "arr[4], arr[5] = arr[3]+1, arr[3]+2\n",
    "print(*arr)"
   ]
  },
  {
   "cell_type": "code",
   "execution_count": 33,
   "id": "76f8cf57",
   "metadata": {},
   "outputs": [
    {
     "name": "stdout",
     "output_type": "stream",
     "text": [
      "1 4 2 1 6\n",
      "합은 14입니다\n"
     ]
    }
   ],
   "source": [
    "# 민코딩 훈련반1 Level 5.5 - 문제 12번 : sum값 출력하기\n",
    "\n",
    "lst = list(map(int, input().split()))\n",
    "summ = 0\n",
    "for i in range(len(lst)):\n",
    "    summ += lst[i]\n",
    "print(f\"합은 {summ}입니다\")"
   ]
  },
  {
   "cell_type": "code",
   "execution_count": 35,
   "id": "4cfef824",
   "metadata": {},
   "outputs": [
    {
     "name": "stdout",
     "output_type": "stream",
     "text": [
      "2\n",
      "3 1 8 7 3 9 "
     ]
    }
   ],
   "source": [
    "# 민코딩 훈련반1 Level 5.5 - 문제 13번 : 입력받은 값만큼 건너띄어서 출력하기\n",
    "\n",
    "lst = [3, 4, 1, 5, 8, 1, 7, 7, 3, 6, 9]\n",
    "n = int(input())\n",
    "for i in range(0, 11, n):\n",
    "    print(lst[i], end=\" \")"
   ]
  },
  {
   "cell_type": "code",
   "execution_count": 37,
   "id": "295b214d",
   "metadata": {},
   "outputs": [
    {
     "name": "stdout",
     "output_type": "stream",
     "text": [
      "2 5\n",
      "2345"
     ]
    }
   ],
   "source": [
    "# 민코딩 훈련반1 Level 5.5 - 문제 14번 : 변수t의 마법\n",
    "\n",
    "arr = [0]*6\n",
    "a, b = map(int, input().split())\n",
    "for i in range(b-a+1):\n",
    "    arr[i] = a+i\n",
    "    if arr[i] != 0:\n",
    "        print(arr[i], end=\"\")"
   ]
  }
 ],
 "metadata": {
  "kernelspec": {
   "display_name": "Python 3 (ipykernel)",
   "language": "python",
   "name": "python3"
  },
  "language_info": {
   "codemirror_mode": {
    "name": "ipython",
    "version": 3
   },
   "file_extension": ".py",
   "mimetype": "text/x-python",
   "name": "python",
   "nbconvert_exporter": "python",
   "pygments_lexer": "ipython3",
   "version": "3.10.1"
  },
  "toc": {
   "base_numbering": 1,
   "nav_menu": {},
   "number_sections": true,
   "sideBar": true,
   "skip_h1_title": false,
   "title_cell": "Table of Contents",
   "title_sidebar": "Contents",
   "toc_cell": false,
   "toc_position": {},
   "toc_section_display": true,
   "toc_window_display": false
  }
 },
 "nbformat": 4,
 "nbformat_minor": 5
}
