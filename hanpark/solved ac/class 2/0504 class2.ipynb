{
 "cells": [
  {
   "cell_type": "code",
   "execution_count": 2,
   "id": "70d73254",
   "metadata": {},
   "outputs": [
    {
     "name": "stdout",
     "output_type": "stream",
     "text": [
      "10 13\n",
      "BBBBBBBBWBWBW\n",
      "BBBBBBBBBWBWB\n",
      "BBBBBBBBWBWBW\n",
      "BBBBBBBBBWBWB\n",
      "BBBBBBBBWBWBW\n",
      "BBBBBBBBBWBWB\n",
      "BBBBBBBBWBWBW\n",
      "BBBBBBBBBWBWB\n",
      "WWWWWWWWWWBWB\n",
      "WWWWWWWWWWBWB\n",
      "12\n"
     ]
    }
   ],
   "source": [
    "# 백준 class 2++ 1018 체스판 다시 칠하기\n",
    "\n",
    "n, m = map(int, input().split())\n",
    "arr = [list(input()) for _ in range(n)]\n",
    "def countNum(a, b):\n",
    "    rst = 0\n",
    "    for i in range(a, a+8):\n",
    "        for j in range(b, b+8):\n",
    "            if ((i+j)-(a+b))%2 == 1:\n",
    "                if arr[i][j] == arr[a][b]:\n",
    "                    rst += 1\n",
    "            else:\n",
    "                if arr[i][j] != arr[a][b]:\n",
    "                    rst += 1\n",
    "    return rst\n",
    "ans = 21e8\n",
    "for c in range(n-8+1):\n",
    "    for d in range(m-8+1):\n",
    "        if ans > countNum(c, d):\n",
    "            ans = countNum(c, d)\n",
    "print(ans)"
   ]
  },
  {
   "cell_type": "code",
   "execution_count": 3,
   "id": "43135b48",
   "metadata": {},
   "outputs": [
    {
     "name": "stdout",
     "output_type": "stream",
     "text": [
      "653 375 1000 1000\n",
      "347\n"
     ]
    }
   ],
   "source": [
    "# 백준 class 2++ 1085 직사각형에서 탈출\n",
    "\n",
    "x, y, w, h = map(int, input().split())\n",
    "a = min(x, w-x)\n",
    "b = min(y, h-y)\n",
    "if a>b:\n",
    "    print(b)\n",
    "else:\n",
    "    print(a)"
   ]
  }
 ],
 "metadata": {
  "kernelspec": {
   "display_name": "Python 3 (ipykernel)",
   "language": "python",
   "name": "python3"
  },
  "language_info": {
   "codemirror_mode": {
    "name": "ipython",
    "version": 3
   },
   "file_extension": ".py",
   "mimetype": "text/x-python",
   "name": "python",
   "nbconvert_exporter": "python",
   "pygments_lexer": "ipython3",
   "version": "3.10.4"
  },
  "toc": {
   "base_numbering": 1,
   "nav_menu": {},
   "number_sections": true,
   "sideBar": true,
   "skip_h1_title": false,
   "title_cell": "Table of Contents",
   "title_sidebar": "Contents",
   "toc_cell": false,
   "toc_position": {},
   "toc_section_display": true,
   "toc_window_display": false
  }
 },
 "nbformat": 4,
 "nbformat_minor": 5
}
