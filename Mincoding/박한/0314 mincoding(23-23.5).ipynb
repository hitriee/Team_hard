{
 "cells": [
  {
   "cell_type": "code",
   "execution_count": 2,
   "id": "824dbf5f",
   "metadata": {},
   "outputs": [
    {
     "name": "stdout",
     "output_type": "stream",
     "text": [
      "atkp\n",
      "atk\n",
      "atp\n",
      "akt\n",
      "akp\n",
      "apt\n",
      "apk\n",
      "tak\n",
      "tap\n",
      "tka\n",
      "tkp\n",
      "tpa\n",
      "tpk\n",
      "kat\n",
      "kap\n",
      "kta\n",
      "ktp\n",
      "kpa\n",
      "kpt\n",
      "pat\n",
      "pak\n",
      "pta\n",
      "ptk\n",
      "pka\n",
      "pkt\n"
     ]
    }
   ],
   "source": [
    "# 민코딩 훈련반1 Level 23 - 문제 1번 : 1등, 2등, 3등 선물주기\n",
    "\n",
    "lst = list(input())\n",
    "path = ['']*3\n",
    "used = [0]*len(lst)\n",
    "def abc(level):\n",
    "    if level == 3:\n",
    "        for i in range(3):\n",
    "            print(path[i], end=\"\")\n",
    "        print()\n",
    "        return\n",
    "    for i in range(len(lst)):\n",
    "        if used[i] == 0:\n",
    "            path[level] = lst[i]\n",
    "            used[i] = 1\n",
    "            abc(level+1)\n",
    "            used[i] = 0\n",
    "abc(0)"
   ]
  },
  {
   "cell_type": "code",
   "execution_count": 13,
   "id": "6a64660b",
   "metadata": {},
   "outputs": [
    {
     "name": "stdout",
     "output_type": "stream",
     "text": [
      "BOTK\n",
      "178\n"
     ]
    }
   ],
   "source": [
    "# 민코딩 훈련반1 Level 23 - 문제 2번 : 다툰친구 B와 T\n",
    "\n",
    "lst = list(input())\n",
    "path = ['']*4\n",
    "rst = 0\n",
    "def abc(level):\n",
    "    if level == 4:\n",
    "        global rst\n",
    "        rst += 1\n",
    "        return\n",
    "    for i in range(4):\n",
    "        if level > 0:\n",
    "            if (path[level-1]=='B' and lst[i]=='T') or (path[level-1]=='T' and lst[i]=='B'):\n",
    "                continue\n",
    "        path[level] = lst[i]\n",
    "        abc(level+1)\n",
    "        path[level]= ''\n",
    "abc(0)\n",
    "print(rst)"
   ]
  },
  {
   "cell_type": "code",
   "execution_count": 11,
   "id": "a7173997",
   "metadata": {},
   "outputs": [
    {
     "name": "stdout",
     "output_type": "stream",
     "text": [
      "3\n",
      "24\n"
     ]
    }
   ],
   "source": [
    "# 민코딩 훈련반1 Level 23 - 문제 3번 : ABC초콜릿\n",
    "\n",
    "n = int(input()) \n",
    "choco = ['A', 'B', 'C']\n",
    "path = ['']*n\n",
    "rst = 0\n",
    "def abc(level):\n",
    "    if level > 2 and (path[level-1] == path[level-2] == path[level-3]):\n",
    "        return\n",
    "    if level == n:\n",
    "        global rst\n",
    "        rst += 1\n",
    "        return\n",
    "    for i in range(3):\n",
    "        path[level] = choco[i]\n",
    "        abc(level+1)\n",
    "        path[level] = ''\n",
    "abc(0)\n",
    "print(rst)"
   ]
  },
  {
   "cell_type": "code",
   "execution_count": 22,
   "id": "46a00733",
   "metadata": {},
   "outputs": [
    {
     "name": "stdout",
     "output_type": "stream",
     "text": [
      "3\n",
      "36\n"
     ]
    }
   ],
   "source": [
    "# 민코딩 훈련반1 Level 23 - 문제 4번 : 산타소년단\n",
    "\n",
    "n = int(input())\n",
    "member = ['B', 'T', 'S', 'K', 'R']\n",
    "path = ['']*n\n",
    "already = [0]*5\n",
    "rst = 0\n",
    "def abc(level):\n",
    "    if level == n:\n",
    "        ans = 0\n",
    "        for i in range(n):\n",
    "            if path[i] == 'S':\n",
    "                ans += 1\n",
    "        if ans:\n",
    "            global rst\n",
    "            rst += 1\n",
    "        return\n",
    "    for i in range(5):\n",
    "        if already[i] == 0:\n",
    "            path[level] = member[i]\n",
    "            already[i] = 1\n",
    "            abc(level+1)\n",
    "            already[i] = 0\n",
    "abc(0)\n",
    "print(rst)"
   ]
  },
  {
   "cell_type": "code",
   "execution_count": 2,
   "id": "fb8211b5",
   "metadata": {},
   "outputs": [
    {
     "name": "stdout",
     "output_type": "stream",
     "text": [
      "E\n",
      "WABC\n",
      "WACB\n",
      "WBAC\n",
      "WBCA\n",
      "WCAB\n",
      "WCBA\n",
      "AWBC\n",
      "AWCB\n",
      "ABWC\n",
      "ABCW\n",
      "ACWB\n",
      "ACBW\n",
      "BWAC\n",
      "BWCA\n",
      "BAWC\n",
      "BACW\n",
      "BCWA\n",
      "BCAW\n",
      "CWAB\n",
      "CWBA\n",
      "CAWB\n",
      "CABW\n",
      "CBWA\n",
      "CBAW\n"
     ]
    }
   ],
   "source": [
    "# 민코딩 훈련반1 Level 23 - 문제 5번 : 미안하다 친구야\n",
    "\n",
    "a = input()\n",
    "lst = ['E', 'W', 'A', 'B', 'C']\n",
    "path = ['']*4\n",
    "already = [0]*5\n",
    "for i in range(5):\n",
    "    if lst[i] == a:\n",
    "        already[i] = 1\n",
    "def abc(level):\n",
    "    if level == 4:\n",
    "        for i in range(4):\n",
    "            print(path[i], end=\"\")\n",
    "        print()\n",
    "        return\n",
    "    for i in range(5):\n",
    "        if already[i] == 0:\n",
    "            path[level] = lst[i]\n",
    "            already[i] = 1\n",
    "            abc(level+1)\n",
    "            already[i] = 0\n",
    "abc(0)"
   ]
  },
  {
   "cell_type": "code",
   "execution_count": 6,
   "id": "4a995faa",
   "metadata": {},
   "outputs": [
    {
     "name": "stdout",
     "output_type": "stream",
     "text": [
      "12345\n",
      "497\n"
     ]
    }
   ],
   "source": [
    "# 민코딩 훈련반1 Level 23 - 문제 6번 : 다섯종류의 숫자카드\n",
    "\n",
    "lst = list(input())\n",
    "path = ['']*4\n",
    "rst = 0\n",
    "def abc(level):\n",
    "    if level == 4:\n",
    "        global rst\n",
    "        rst += 1\n",
    "        return\n",
    "    for i in range(5):\n",
    "        if level > 0 and (path[level-1]-int(lst[i]) > 3 or  path[level-1]-int(lst[i]) < -3):\n",
    "            continue\n",
    "        path[level] = int(lst[i])\n",
    "        abc(level+1)\n",
    "        path[level] = ''\n",
    "abc(0)\n",
    "print(rst)"
   ]
  },
  {
   "cell_type": "code",
   "execution_count": 12,
   "id": "4883d343",
   "metadata": {},
   "outputs": [
    {
     "name": "stdout",
     "output_type": "stream",
     "text": [
      "R\n",
      "R\n",
      "R\n",
      "L\n",
      "9 7 3 5 1\n"
     ]
    }
   ],
   "source": [
    "# 민코딩 훈련반1 Level 23.5 - 문제 1번 : 왼쪽, 오른쪽 이동\n",
    "\n",
    "lst = [3, 5, 1, 9, 7]\n",
    "path = [0]*5\n",
    "def abc(level):\n",
    "    global lst, path\n",
    "    if level == 4:\n",
    "        print(*lst)\n",
    "        return\n",
    "    a = input()\n",
    "    if a == 'L':\n",
    "        for i in range(4):\n",
    "            path[i] = lst[i+1]\n",
    "        path[4] = lst[0]\n",
    "    else:\n",
    "        for i in range(4):\n",
    "            path[i+1] = lst[i]\n",
    "        path[0] = lst[4]\n",
    "    for i in range(5):\n",
    "        lst[i] = path[i]\n",
    "    abc(level+1)\n",
    "    path = [0]*5\n",
    "abc(0)"
   ]
  },
  {
   "cell_type": "code",
   "execution_count": 24,
   "id": "66d94d2f",
   "metadata": {},
   "outputs": [
    {
     "name": "stdout",
     "output_type": "stream",
     "text": [
      "0 0\n",
      "1 2\n",
      "0 3\n",
      "위험\n"
     ]
    }
   ],
   "source": [
    "# 민코딩 훈련반1 Level 23.5 - 문제 2번 : 암살자 존휙\n",
    "\n",
    "lst = [list(map(int, input().split())) for _ in range(3)]\n",
    "rst = 0\n",
    "for i in range(2):\n",
    "    if rst:\n",
    "        break\n",
    "    for j in range(2):\n",
    "        if lst[i][j] == lst[i+1][j]:\n",
    "            rst += 1\n",
    "            break\n",
    "for i in range(2):\n",
    "    if lst[2][i] == lst[0][i]:\n",
    "        rst += 1\n",
    "if not rst:\n",
    "    print(\"안전\")\n",
    "else:\n",
    "    print(\"위험\")"
   ]
  },
  {
   "cell_type": "code",
   "execution_count": 16,
   "id": "838e45c5",
   "metadata": {},
   "outputs": [
    {
     "name": "stdout",
     "output_type": "stream",
     "text": [
      "1 2 1\n",
      "2 3 4\n",
      "3 2 1\n",
      "1 2 1 4 \n",
      "2 3 4 9 \n",
      "3 2 1 6 \n",
      "6 7 6 5 \n"
     ]
    }
   ],
   "source": [
    "# 민코딩 훈련반1 Level 23.5 - 문제 3번 : 네모네모 더하기\n",
    "\n",
    "arr = [[0]*4 for _ in range(4)]\n",
    "arr1 = [list(map(int, input().split())) for _ in range(3)]\n",
    "for i in range(3):\n",
    "    for j in range(3):\n",
    "        arr[i][j] = arr1[i][j]\n",
    "        arr[i][3] += arr1[i][j]\n",
    "for i in range(3):\n",
    "    arr[3][3] += arr[i][i]\n",
    "for i in range(3):\n",
    "    for j in range(3):\n",
    "        arr[3][i] += arr1[j][i]\n",
    "for i in range(4):\n",
    "    for j in range(4):\n",
    "        print(arr[i][j], end=\" \")\n",
    "    print()"
   ]
  },
  {
   "cell_type": "code",
   "execution_count": 19,
   "id": "65b72856",
   "metadata": {},
   "outputs": [
    {
     "name": "stdout",
     "output_type": "stream",
     "text": [
      "1 3 7 6\n",
      "7 5 4 3 \n",
      "3 3 2 7 \n",
      "1 6 3 2 \n"
     ]
    }
   ],
   "source": [
    "# 민코딩 훈련반1 Level 23.5 - 문제 4번 : 숫자 transformation\n",
    "\n",
    "arr = [[3, 5, 4, 1], [1, 1, 2, 3], [6, 7, 1, 2]]\n",
    "arr1 = [[0]*4 for _ in range(3)]\n",
    "lst = list(map(int, input().split()))\n",
    "for i in range(3):\n",
    "    for j in range(4):\n",
    "        for n in range(3):\n",
    "            if arr[i][j] == lst[n]:\n",
    "                arr1[i][j] = lst[n+1]\n",
    "        if arr[i][j] == lst[3]:\n",
    "            arr1[i][j] = lst[0]\n",
    "        if arr1[i][j] == 0:\n",
    "            arr1[i][j] = arr[i][j]\n",
    "        print(arr1[i][j], end=\" \")\n",
    "    print()"
   ]
  },
  {
   "cell_type": "code",
   "execution_count": 25,
   "id": "e5e43f1e",
   "metadata": {},
   "outputs": [
    {
     "name": "stdout",
     "output_type": "stream",
     "text": [
      "4 1 7 9 6 3 3 6\n",
      "3 1 3 4 6 9 7 6\n"
     ]
    }
   ],
   "source": [
    "# 민코딩 훈련반1 Level 23.5 - 문제 5번 : 자기자리 찾기\n",
    "\n",
    "lst = list(map(int, input().split()))\n",
    "def abc(a, b):\n",
    "    if a > b:\n",
    "        lst[0], lst[b] = lst[b], lst[0]\n",
    "        print(*lst)\n",
    "        return\n",
    "    if lst[a] > lst[0] and lst[b] < lst[0]:\n",
    "        lst[a], lst[b] = lst[b], lst[a]\n",
    "    else:\n",
    "        if lst[a] <= lst[0]:\n",
    "            a += 1\n",
    "        if lst[b] >= lst[0]:\n",
    "            b -= 1\n",
    "    abc(a, b)\n",
    "abc(1, len(lst)-1)"
   ]
  },
  {
   "cell_type": "code",
   "execution_count": 22,
   "id": "0b45db54",
   "metadata": {},
   "outputs": [
    {
     "name": "stdout",
     "output_type": "stream",
     "text": [
      "ABBA\n",
      "BACB\n",
      "CBAA\n",
      "DDAB\n",
      "B\n"
     ]
    }
   ],
   "source": [
    "# 민코딩 훈련반1 Level 23.5 - 문제 6번 : 황금좌표 찾기\n",
    "\n",
    "arr1 = [list(input()) for _ in range(4)]\n",
    "arr2 = [['A','B','C','D'], ['B','B','A','B'], ['C','B','A','C'], ['B','A','A','A']]\n",
    "lst = [0]*4\n",
    "for i in range(4):\n",
    "    for j in range(4):\n",
    "        if arr1[i][j] == arr2[i][j]:\n",
    "            if arr1[i][j] == 'A':\n",
    "                lst[0] += 1\n",
    "            elif arr1[i][j] == 'B':\n",
    "                lst[1] += 1\n",
    "            elif arr1[i][j] == 'C':\n",
    "                lst[2] += 1\n",
    "            else:\n",
    "                lst[3] += 1\n",
    "for i in range(4):\n",
    "    if max(lst) == lst[i]:\n",
    "        print(arr2[0][i])"
   ]
  }
 ],
 "metadata": {
  "kernelspec": {
   "display_name": "Python 3 (ipykernel)",
   "language": "python",
   "name": "python3"
  },
  "language_info": {
   "codemirror_mode": {
    "name": "ipython",
    "version": 3
   },
   "file_extension": ".py",
   "mimetype": "text/x-python",
   "name": "python",
   "nbconvert_exporter": "python",
   "pygments_lexer": "ipython3",
   "version": "3.10.1"
  },
  "toc": {
   "base_numbering": 1,
   "nav_menu": {},
   "number_sections": true,
   "sideBar": true,
   "skip_h1_title": false,
   "title_cell": "Table of Contents",
   "title_sidebar": "Contents",
   "toc_cell": false,
   "toc_position": {},
   "toc_section_display": true,
   "toc_window_display": false
  }
 },
 "nbformat": 4,
 "nbformat_minor": 5
}
